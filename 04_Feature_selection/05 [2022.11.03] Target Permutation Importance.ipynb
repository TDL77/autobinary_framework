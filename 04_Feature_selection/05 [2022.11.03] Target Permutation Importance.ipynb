{
 "cells": [
  {
   "cell_type": "markdown",
   "id": "eb77be52",
   "metadata": {
    "pycharm": {
     "name": "#%% md\n"
    }
   },
   "source": [
    "# Демонстрация отбора признаков с помощью метода Target Permutation"
   ]
  },
  {
   "cell_type": "markdown",
   "id": "04d42466",
   "metadata": {
    "pycharm": {
     "name": "#%% md\n"
    }
   },
   "source": [
    "## Структура ноутбука:\n",
    "- Демонстрация методов и атрибутов библиотеки Target Permutation для задач классификации\n",
    "- Применение библиотеки Target Permutation для задач классификации\n",
    "    * Проверка Target Permutation на искусственных данных\n",
    "    * Проверка Target Permutation на данных (Титаник)\n",
    "    \n",
    "    \n",
    "- Применение библиотеки Target Permutation для задач регрессии\n",
    "    * Проверка Target Permutation на искусственных данных\n",
    "    * Проверка Target Permutation на данных (Стоимость жилья)    "
   ]
  },
  {
   "cell_type": "markdown",
   "id": "d5356480",
   "metadata": {
    "pycharm": {
     "name": "#%% md\n"
    }
   },
   "source": [
    "##  Подгрузим необходимые бибиотеки"
   ]
  },
  {
   "cell_type": "code",
   "execution_count": 1,
   "id": "0de07b3a",
   "metadata": {
    "pycharm": {
     "name": "#%%\n"
    }
   },
   "outputs": [
    {
     "data": {
      "text/html": [
       "<style>.container {width:95% !important;}</style>"
      ],
      "text/plain": [
       "<IPython.core.display.HTML object>"
      ]
     },
     "metadata": {},
     "output_type": "display_data"
    }
   ],
   "source": [
    "# расширяем поле, убираем предупреждения\n",
    "from IPython.core.display import display, HTML\n",
    "display(HTML('<style>.container {width:95% !important;}</style>'))\n",
    "\n",
    "import warnings\n",
    "warnings.filterwarnings('ignore')"
   ]
  },
  {
   "cell_type": "code",
   "execution_count": 2,
   "id": "fc33030a",
   "metadata": {
    "pycharm": {
     "name": "#%%\n"
    }
   },
   "outputs": [],
   "source": [
    "# !pip install PDPbox==0.2.0"
   ]
  },
  {
   "cell_type": "code",
   "execution_count": 3,
   "id": "b794136e",
   "metadata": {
    "pycharm": {
     "name": "#%%\n"
    }
   },
   "outputs": [],
   "source": [
    "# Стандартные библиотеки для анализа\n",
    "import pandas as pd\n",
    "\n",
    "from sklearn.model_selection import train_test_split, StratifiedKFold, KFold\n",
    "from sklearn.impute import SimpleImputer\n",
    "from sklearn.metrics import roc_auc_score, mean_absolute_percentage_error\n",
    "\n",
    "from sklearn.pipeline import Pipeline\n",
    "from sklearn.compose import ColumnTransformer\n",
    "\n",
    "import matplotlib.pylab as pl"
   ]
  },
  {
   "cell_type": "code",
   "execution_count": 4,
   "id": "bbdc8c1e",
   "metadata": {
    "pycharm": {
     "name": "#%%\n"
    }
   },
   "outputs": [],
   "source": [
    "import sys\n",
    "sys.path.append('../')\n",
    "\n",
    "# Наша разработанная библиотека\n",
    "from autobinary import SentColumns, CatBoostEncoder, TargetPermutationSelection, base_pipe #, utils_target_permutation\n",
    "# подгрузим вспомогательные функции\n",
    "from autobinary import utils_target_permutation\n",
    "# from utils_target_permutation import select_estimator, geom_reg_list, aggregated_feature_selection, intersection_set"
   ]
  },
  {
   "cell_type": "code",
   "execution_count": null,
   "id": "478b3eaa",
   "metadata": {},
   "outputs": [],
   "source": []
  },
  {
   "cell_type": "code",
   "execution_count": 5,
   "id": "69f2a990",
   "metadata": {
    "pycharm": {
     "name": "#%%\n"
    }
   },
   "outputs": [
    {
     "name": "stdout",
     "output_type": "stream",
     "text": [
      "sklearn:  0.24.2\n",
      "xgboost:  1.5.2\n",
      "matplotlib:  3.1.0\n",
      "autobinary:  1.0.5\n"
     ]
    }
   ],
   "source": [
    "import sklearn as sk\n",
    "import xgboost as xgb\n",
    "import matplotlib as mplot\n",
    "import autobinary as ab\n",
    "\n",
    "print('sklearn: ', sk.__version__)\n",
    "print('xgboost: ', xgb.__version__)\n",
    "print('matplotlib: ', mplot.__version__)\n",
    "print('autobinary: ', ab.__version__)"
   ]
  },
  {
   "cell_type": "markdown",
   "id": "0ba9b779",
   "metadata": {
    "pycharm": {
     "name": "#%% md\n"
    }
   },
   "source": [
    "## Генерация искусственных данных"
   ]
  },
  {
   "cell_type": "code",
   "execution_count": 6,
   "id": "f08c6fd5",
   "metadata": {
    "jupyter": {
     "outputs_hidden": false
    },
    "pycharm": {
     "name": "#%%\n"
    }
   },
   "outputs": [],
   "source": [
    "from sklearn.datasets import make_classification\n",
    "\n",
    "X,y = make_classification(\n",
    "    n_samples=10000,\n",
    "    n_features=10,\n",
    "    n_informative=5,\n",
    "    n_classes=2,\n",
    "    n_clusters_per_class=2,\n",
    "    class_sep=2,\n",
    "    weights=[0.5, 0.5],\n",
    "    random_state=2022)\n",
    "\n",
    "columns = ['A','B','C','D','E','F','G','H','I','J']\n",
    "sample = pd.DataFrame(X, columns=columns)\n",
    "sample['target'] = y\n",
    "target = 'target'\n",
    "\n",
    "X_train, X_valid, y_train, y_valid = train_test_split(\n",
    "    sample.drop(columns=target), \n",
    "    sample[target], \n",
    "    test_size=0.3, \n",
    "    random_state=2022)"
   ]
  },
  {
   "cell_type": "code",
   "execution_count": 7,
   "id": "e035b768",
   "metadata": {
    "jupyter": {
     "outputs_hidden": false
    },
    "pycharm": {
     "name": "#%%\n"
    }
   },
   "outputs": [],
   "source": [
    "num_columns = columns\n",
    "cat_columns = []\n",
    "target = ['target']\n",
    "\n",
    "#pipeline\n",
    "prep_pipe = base_pipe(\n",
    "    num_columns=num_columns,\n",
    "    cat_columns=cat_columns)"
   ]
  },
  {
   "cell_type": "markdown",
   "id": "3fe19a0f",
   "metadata": {},
   "source": [
    "## Демострация методов и атрибутов Target Permutation"
   ]
  },
  {
   "cell_type": "markdown",
   "id": "02309a59",
   "metadata": {},
   "source": [
    "Описание: Класс **TargetPermutationSelection** предназначен для отбора признаков с помощью перемешивания таргета и оценки предсказательной способности фичей.\n",
    "\n",
    "Последовательность действий алгоритма:\n",
    "- `1)` Происходит обучение модели с оригинальным тарегетом (benchmark-модель);\n",
    "- `2)` Происходит расчет метрики benchmark-модели;\n",
    "- `3)` Происходит перемешивание таргета;\n",
    "- `4)` Происходит обучение модели с перемешаным таргетом (target permutation-модель);\n",
    "- `5)` Происходит расчет метрики target permutation-модели;\n",
    "- `6)` Расчет разности метрик 2) и 5)\n",
    "- `7)` Происходит отбор признаков"
   ]
  },
  {
   "cell_type": "code",
   "execution_count": 8,
   "id": "ef7bd927",
   "metadata": {},
   "outputs": [],
   "source": [
    "from xgboost import XGBClassifier\n",
    "\n",
    "params_xgb = {\n",
    "    'eta':0.01,\n",
    "    'n_estimators':800,\n",
    "    'subsample':0.9,\n",
    "    'colsample_bytree':0.6,\n",
    "    'max_depth':6,\n",
    "    'objective':'binary:logistic',\n",
    "    'use_label_encoder':False,\n",
    "    'n_jobs':-1,\n",
    "    'random_state':42}\n",
    "\n",
    "fit_params_xgb = {\n",
    "    'early_stopping_rounds':100, \n",
    "    'eval_metric':['logloss', 'aucpr', 'auc'],\n",
    "    'verbose':0}\n",
    "\n",
    "estimator = XGBClassifier(**params_xgb)"
   ]
  },
  {
   "cell_type": "code",
   "execution_count": 9,
   "id": "e2db261b",
   "metadata": {},
   "outputs": [
    {
     "name": "stdout",
     "output_type": "stream",
     "text": [
      "============================== Обучение benchmark-модели! ==============================\n",
      "BEST ITERATION:  61\n",
      "gini на обучающей выборке: 99.449\n",
      "gini на проверочной выборке: 98.993\n",
      "============================== Обучение target permutation-модели! ==============================\n",
      "BEST ITERATION:  102\n",
      "gini на обучающей выборке: 67.918\n",
      "gini на проверочной выборке: 1.051\n"
     ]
    },
    {
     "data": {
      "text/html": [
       "<div>\n",
       "<style scoped>\n",
       "    .dataframe tbody tr th:only-of-type {\n",
       "        vertical-align: middle;\n",
       "    }\n",
       "\n",
       "    .dataframe tbody tr th {\n",
       "        vertical-align: top;\n",
       "    }\n",
       "\n",
       "    .dataframe thead th {\n",
       "        text-align: right;\n",
       "    }\n",
       "</style>\n",
       "<table border=\"1\" class=\"dataframe\">\n",
       "  <thead>\n",
       "    <tr style=\"text-align: right;\">\n",
       "      <th></th>\n",
       "      <th>index</th>\n",
       "      <th>importance_benchmark</th>\n",
       "      <th>importance_permut</th>\n",
       "      <th>final_importance</th>\n",
       "    </tr>\n",
       "  </thead>\n",
       "  <tbody>\n",
       "    <tr>\n",
       "      <th>0</th>\n",
       "      <td>F</td>\n",
       "      <td>231.403839</td>\n",
       "      <td>4.202850</td>\n",
       "      <td>227.200989</td>\n",
       "    </tr>\n",
       "    <tr>\n",
       "      <th>1</th>\n",
       "      <td>A</td>\n",
       "      <td>64.806770</td>\n",
       "      <td>4.327067</td>\n",
       "      <td>60.479703</td>\n",
       "    </tr>\n",
       "    <tr>\n",
       "      <th>2</th>\n",
       "      <td>J</td>\n",
       "      <td>62.913349</td>\n",
       "      <td>4.319738</td>\n",
       "      <td>58.593611</td>\n",
       "    </tr>\n",
       "    <tr>\n",
       "      <th>3</th>\n",
       "      <td>C</td>\n",
       "      <td>32.646683</td>\n",
       "      <td>4.031488</td>\n",
       "      <td>28.615195</td>\n",
       "    </tr>\n",
       "    <tr>\n",
       "      <th>4</th>\n",
       "      <td>G</td>\n",
       "      <td>29.843172</td>\n",
       "      <td>4.974428</td>\n",
       "      <td>24.868744</td>\n",
       "    </tr>\n",
       "    <tr>\n",
       "      <th>5</th>\n",
       "      <td>B</td>\n",
       "      <td>19.961395</td>\n",
       "      <td>4.079677</td>\n",
       "      <td>15.881718</td>\n",
       "    </tr>\n",
       "    <tr>\n",
       "      <th>6</th>\n",
       "      <td>D</td>\n",
       "      <td>8.966094</td>\n",
       "      <td>4.603549</td>\n",
       "      <td>4.362545</td>\n",
       "    </tr>\n",
       "    <tr>\n",
       "      <th>7</th>\n",
       "      <td>E</td>\n",
       "      <td>1.769365</td>\n",
       "      <td>4.535268</td>\n",
       "      <td>-2.765903</td>\n",
       "    </tr>\n",
       "    <tr>\n",
       "      <th>8</th>\n",
       "      <td>H</td>\n",
       "      <td>1.713513</td>\n",
       "      <td>4.520055</td>\n",
       "      <td>-2.806542</td>\n",
       "    </tr>\n",
       "    <tr>\n",
       "      <th>10</th>\n",
       "      <td>random_feature</td>\n",
       "      <td>0.810481</td>\n",
       "      <td>4.466777</td>\n",
       "      <td>-3.656296</td>\n",
       "    </tr>\n",
       "    <tr>\n",
       "      <th>9</th>\n",
       "      <td>I</td>\n",
       "      <td>1.242182</td>\n",
       "      <td>4.926817</td>\n",
       "      <td>-3.684635</td>\n",
       "    </tr>\n",
       "  </tbody>\n",
       "</table>\n",
       "</div>"
      ],
      "text/plain": [
       "             index  importance_benchmark  importance_permut  final_importance\n",
       "0                F            231.403839           4.202850        227.200989\n",
       "1                A             64.806770           4.327067         60.479703\n",
       "2                J             62.913349           4.319738         58.593611\n",
       "3                C             32.646683           4.031488         28.615195\n",
       "4                G             29.843172           4.974428         24.868744\n",
       "5                B             19.961395           4.079677         15.881718\n",
       "6                D              8.966094           4.603549          4.362545\n",
       "7                E              1.769365           4.535268         -2.765903\n",
       "8                H              1.713513           4.520055         -2.806542\n",
       "10  random_feature              0.810481           4.466777         -3.656296\n",
       "9                I              1.242182           4.926817         -3.684635"
      ]
     },
     "execution_count": 9,
     "metadata": {},
     "output_type": "execute_result"
    }
   ],
   "source": [
    "# инициализация метода\n",
    "model = TargetPermutationSelection(\n",
    "    main_estimator=estimator, \n",
    "    main_fit_params=fit_params_xgb,\n",
    "    main_prep_pipe=prep_pipe,\n",
    "    main_features=num_columns + cat_columns,\n",
    "\n",
    "    X_train=sample[num_columns + cat_columns],\n",
    "    y_train=sample[target], \n",
    "    main_metric='gini',\n",
    "    model_type='xgboost')\n",
    "\n",
    "# метод для вычисления важностей фичей\n",
    "model.calculate_permutation(test_size=0.3)"
   ]
  },
  {
   "cell_type": "code",
   "execution_count": 10,
   "id": "db43186f",
   "metadata": {},
   "outputs": [
    {
     "name": "stdout",
     "output_type": "stream",
     "text": [
      "10 признаков было до Target Permutation\n",
      "9 признаков после Target Permutation\n"
     ]
    },
    {
     "data": {
      "text/plain": [
       "['F', 'A', 'J', 'C', 'G', 'B', 'D', 'E', 'H']"
      ]
     },
     "execution_count": 10,
     "metadata": {},
     "output_type": "execute_result"
    }
   ],
   "source": [
    "# отбор фичей с помощью пересечения множеств\n",
    "model.select_features(select_type='random_feature', cut_off=0.0) # для отбора фичей, которые результативнее рандомной фичи\n",
    "# model.select_features(select_type='any', cut_off=0.0) # для отбора фичей, важность которых больше cut_off"
   ]
  },
  {
   "cell_type": "code",
   "execution_count": 40,
   "id": "3e43cd20",
   "metadata": {},
   "outputs": [
    {
     "data": {
      "text/plain": [
       "['TotalBsmtSF',\n",
       " 'FullBath',\n",
       " 'BldgType',\n",
       " 'CentralAir',\n",
       " 'PoolArea',\n",
       " 'GarageQual',\n",
       " 'Fence',\n",
       " 'LotFrontage',\n",
       " 'SaleType']"
      ]
     },
     "execution_count": 40,
     "metadata": {},
     "output_type": "execute_result"
    }
   ],
   "source": [
    "# атрибуты\n",
    "model.selected_features # отобранные фичи"
   ]
  },
  {
   "cell_type": "code",
   "execution_count": 41,
   "id": "8a56fbb0",
   "metadata": {},
   "outputs": [
    {
     "data": {
      "text/html": [
       "<div>\n",
       "<style scoped>\n",
       "    .dataframe tbody tr th:only-of-type {\n",
       "        vertical-align: middle;\n",
       "    }\n",
       "\n",
       "    .dataframe tbody tr th {\n",
       "        vertical-align: top;\n",
       "    }\n",
       "\n",
       "    .dataframe thead th {\n",
       "        text-align: right;\n",
       "    }\n",
       "</style>\n",
       "<table border=\"1\" class=\"dataframe\">\n",
       "  <thead>\n",
       "    <tr style=\"text-align: right;\">\n",
       "      <th></th>\n",
       "      <th>index</th>\n",
       "      <th>importance_benchmark</th>\n",
       "    </tr>\n",
       "  </thead>\n",
       "  <tbody>\n",
       "    <tr>\n",
       "      <th>0</th>\n",
       "      <td>TotalBsmtSF</td>\n",
       "      <td>0.565400</td>\n",
       "    </tr>\n",
       "    <tr>\n",
       "      <th>1</th>\n",
       "      <td>FullBath</td>\n",
       "      <td>0.201392</td>\n",
       "    </tr>\n",
       "    <tr>\n",
       "      <th>2</th>\n",
       "      <td>LotArea</td>\n",
       "      <td>0.076055</td>\n",
       "    </tr>\n",
       "    <tr>\n",
       "      <th>3</th>\n",
       "      <td>BldgType</td>\n",
       "      <td>0.046845</td>\n",
       "    </tr>\n",
       "    <tr>\n",
       "      <th>4</th>\n",
       "      <td>LotFrontage</td>\n",
       "      <td>0.032027</td>\n",
       "    </tr>\n",
       "    <tr>\n",
       "      <th>5</th>\n",
       "      <td>random_feature</td>\n",
       "      <td>0.026229</td>\n",
       "    </tr>\n",
       "    <tr>\n",
       "      <th>6</th>\n",
       "      <td>SaleType</td>\n",
       "      <td>0.020573</td>\n",
       "    </tr>\n",
       "    <tr>\n",
       "      <th>7</th>\n",
       "      <td>GarageQual</td>\n",
       "      <td>0.017909</td>\n",
       "    </tr>\n",
       "    <tr>\n",
       "      <th>8</th>\n",
       "      <td>CentralAir</td>\n",
       "      <td>0.011023</td>\n",
       "    </tr>\n",
       "    <tr>\n",
       "      <th>9</th>\n",
       "      <td>Fence</td>\n",
       "      <td>0.001798</td>\n",
       "    </tr>\n",
       "    <tr>\n",
       "      <th>10</th>\n",
       "      <td>PoolArea</td>\n",
       "      <td>0.000748</td>\n",
       "    </tr>\n",
       "  </tbody>\n",
       "</table>\n",
       "</div>"
      ],
      "text/plain": [
       "             index  importance_benchmark\n",
       "0      TotalBsmtSF              0.565400\n",
       "1         FullBath              0.201392\n",
       "2          LotArea              0.076055\n",
       "3         BldgType              0.046845\n",
       "4      LotFrontage              0.032027\n",
       "5   random_feature              0.026229\n",
       "6         SaleType              0.020573\n",
       "7       GarageQual              0.017909\n",
       "8       CentralAir              0.011023\n",
       "9            Fence              0.001798\n",
       "10        PoolArea              0.000748"
      ]
     },
     "execution_count": 41,
     "metadata": {},
     "output_type": "execute_result"
    }
   ],
   "source": [
    "model.df_benchmark_fi # датафрейм с важностями для benchmark-модели"
   ]
  },
  {
   "cell_type": "code",
   "execution_count": 42,
   "id": "199e59ef",
   "metadata": {},
   "outputs": [
    {
     "data": {
      "text/html": [
       "<div>\n",
       "<style scoped>\n",
       "    .dataframe tbody tr th:only-of-type {\n",
       "        vertical-align: middle;\n",
       "    }\n",
       "\n",
       "    .dataframe tbody tr th {\n",
       "        vertical-align: top;\n",
       "    }\n",
       "\n",
       "    .dataframe thead th {\n",
       "        text-align: right;\n",
       "    }\n",
       "</style>\n",
       "<table border=\"1\" class=\"dataframe\">\n",
       "  <thead>\n",
       "    <tr style=\"text-align: right;\">\n",
       "      <th></th>\n",
       "      <th>index</th>\n",
       "      <th>importance_permut</th>\n",
       "    </tr>\n",
       "  </thead>\n",
       "  <tbody>\n",
       "    <tr>\n",
       "      <th>0</th>\n",
       "      <td>LotArea</td>\n",
       "      <td>0.249514</td>\n",
       "    </tr>\n",
       "    <tr>\n",
       "      <th>1</th>\n",
       "      <td>TotalBsmtSF</td>\n",
       "      <td>0.226762</td>\n",
       "    </tr>\n",
       "    <tr>\n",
       "      <th>2</th>\n",
       "      <td>random_feature</td>\n",
       "      <td>0.184434</td>\n",
       "    </tr>\n",
       "    <tr>\n",
       "      <th>3</th>\n",
       "      <td>SaleType</td>\n",
       "      <td>0.160461</td>\n",
       "    </tr>\n",
       "    <tr>\n",
       "      <th>4</th>\n",
       "      <td>LotFrontage</td>\n",
       "      <td>0.093191</td>\n",
       "    </tr>\n",
       "    <tr>\n",
       "      <th>5</th>\n",
       "      <td>Fence</td>\n",
       "      <td>0.028229</td>\n",
       "    </tr>\n",
       "    <tr>\n",
       "      <th>6</th>\n",
       "      <td>GarageQual</td>\n",
       "      <td>0.020169</td>\n",
       "    </tr>\n",
       "    <tr>\n",
       "      <th>7</th>\n",
       "      <td>BldgType</td>\n",
       "      <td>0.016104</td>\n",
       "    </tr>\n",
       "    <tr>\n",
       "      <th>8</th>\n",
       "      <td>FullBath</td>\n",
       "      <td>0.011552</td>\n",
       "    </tr>\n",
       "    <tr>\n",
       "      <th>9</th>\n",
       "      <td>CentralAir</td>\n",
       "      <td>0.007867</td>\n",
       "    </tr>\n",
       "    <tr>\n",
       "      <th>10</th>\n",
       "      <td>PoolArea</td>\n",
       "      <td>0.001717</td>\n",
       "    </tr>\n",
       "  </tbody>\n",
       "</table>\n",
       "</div>"
      ],
      "text/plain": [
       "             index  importance_permut\n",
       "0          LotArea           0.249514\n",
       "1      TotalBsmtSF           0.226762\n",
       "2   random_feature           0.184434\n",
       "3         SaleType           0.160461\n",
       "4      LotFrontage           0.093191\n",
       "5            Fence           0.028229\n",
       "6       GarageQual           0.020169\n",
       "7         BldgType           0.016104\n",
       "8         FullBath           0.011552\n",
       "9       CentralAir           0.007867\n",
       "10        PoolArea           0.001717"
      ]
     },
     "execution_count": 42,
     "metadata": {},
     "output_type": "execute_result"
    }
   ],
   "source": [
    "model.df_permutation_fi # датафрейм с важностями для target permutation-модели"
   ]
  },
  {
   "cell_type": "code",
   "execution_count": 43,
   "id": "623f6069",
   "metadata": {},
   "outputs": [
    {
     "data": {
      "text/html": [
       "<div>\n",
       "<style scoped>\n",
       "    .dataframe tbody tr th:only-of-type {\n",
       "        vertical-align: middle;\n",
       "    }\n",
       "\n",
       "    .dataframe tbody tr th {\n",
       "        vertical-align: top;\n",
       "    }\n",
       "\n",
       "    .dataframe thead th {\n",
       "        text-align: right;\n",
       "    }\n",
       "</style>\n",
       "<table border=\"1\" class=\"dataframe\">\n",
       "  <thead>\n",
       "    <tr style=\"text-align: right;\">\n",
       "      <th></th>\n",
       "      <th>index</th>\n",
       "      <th>importance_benchmark</th>\n",
       "      <th>importance_permut</th>\n",
       "      <th>final_importance</th>\n",
       "    </tr>\n",
       "  </thead>\n",
       "  <tbody>\n",
       "    <tr>\n",
       "      <th>0</th>\n",
       "      <td>TotalBsmtSF</td>\n",
       "      <td>0.565400</td>\n",
       "      <td>0.226762</td>\n",
       "      <td>0.338638</td>\n",
       "    </tr>\n",
       "    <tr>\n",
       "      <th>1</th>\n",
       "      <td>FullBath</td>\n",
       "      <td>0.201392</td>\n",
       "      <td>0.011552</td>\n",
       "      <td>0.189840</td>\n",
       "    </tr>\n",
       "    <tr>\n",
       "      <th>3</th>\n",
       "      <td>BldgType</td>\n",
       "      <td>0.046845</td>\n",
       "      <td>0.016104</td>\n",
       "      <td>0.030741</td>\n",
       "    </tr>\n",
       "    <tr>\n",
       "      <th>8</th>\n",
       "      <td>CentralAir</td>\n",
       "      <td>0.011023</td>\n",
       "      <td>0.007867</td>\n",
       "      <td>0.003157</td>\n",
       "    </tr>\n",
       "    <tr>\n",
       "      <th>10</th>\n",
       "      <td>PoolArea</td>\n",
       "      <td>0.000748</td>\n",
       "      <td>0.001717</td>\n",
       "      <td>-0.000969</td>\n",
       "    </tr>\n",
       "    <tr>\n",
       "      <th>7</th>\n",
       "      <td>GarageQual</td>\n",
       "      <td>0.017909</td>\n",
       "      <td>0.020169</td>\n",
       "      <td>-0.002260</td>\n",
       "    </tr>\n",
       "    <tr>\n",
       "      <th>9</th>\n",
       "      <td>Fence</td>\n",
       "      <td>0.001798</td>\n",
       "      <td>0.028229</td>\n",
       "      <td>-0.026431</td>\n",
       "    </tr>\n",
       "    <tr>\n",
       "      <th>4</th>\n",
       "      <td>LotFrontage</td>\n",
       "      <td>0.032027</td>\n",
       "      <td>0.093191</td>\n",
       "      <td>-0.061164</td>\n",
       "    </tr>\n",
       "    <tr>\n",
       "      <th>6</th>\n",
       "      <td>SaleType</td>\n",
       "      <td>0.020573</td>\n",
       "      <td>0.160461</td>\n",
       "      <td>-0.139888</td>\n",
       "    </tr>\n",
       "    <tr>\n",
       "      <th>5</th>\n",
       "      <td>random_feature</td>\n",
       "      <td>0.026229</td>\n",
       "      <td>0.184434</td>\n",
       "      <td>-0.158205</td>\n",
       "    </tr>\n",
       "    <tr>\n",
       "      <th>2</th>\n",
       "      <td>LotArea</td>\n",
       "      <td>0.076055</td>\n",
       "      <td>0.249514</td>\n",
       "      <td>-0.173459</td>\n",
       "    </tr>\n",
       "  </tbody>\n",
       "</table>\n",
       "</div>"
      ],
      "text/plain": [
       "             index  importance_benchmark  importance_permut  final_importance\n",
       "0      TotalBsmtSF              0.565400           0.226762          0.338638\n",
       "1         FullBath              0.201392           0.011552          0.189840\n",
       "3         BldgType              0.046845           0.016104          0.030741\n",
       "8       CentralAir              0.011023           0.007867          0.003157\n",
       "10        PoolArea              0.000748           0.001717         -0.000969\n",
       "7       GarageQual              0.017909           0.020169         -0.002260\n",
       "9            Fence              0.001798           0.028229         -0.026431\n",
       "4      LotFrontage              0.032027           0.093191         -0.061164\n",
       "6         SaleType              0.020573           0.160461         -0.139888\n",
       "5   random_feature              0.026229           0.184434         -0.158205\n",
       "2          LotArea              0.076055           0.249514         -0.173459"
      ]
     },
     "execution_count": 43,
     "metadata": {},
     "output_type": "execute_result"
    }
   ],
   "source": [
    "model.df_fi_final # финальный датафрейм важностей фичей  "
   ]
  },
  {
   "cell_type": "markdown",
   "id": "915d6fc1",
   "metadata": {},
   "source": [
    "## Демонстрация метода на искусственных данных для задач классификации"
   ]
  },
  {
   "cell_type": "code",
   "execution_count": 12,
   "id": "fb451ad1",
   "metadata": {
    "jupyter": {
     "outputs_hidden": false
    },
    "pycharm": {
     "name": "#%%\n"
    }
   },
   "outputs": [],
   "source": [
    "# параметры для задачи классификации для разных эстиматоров\n",
    "params_xgb = {'eta':0.01,\n",
    "              'n_estimators':800,\n",
    "              'subsample':0.9,\n",
    "              'colsample_bytree':0.6,\n",
    "              'max_depth':6,\n",
    "              'objective':'binary:logistic',\n",
    "              'use_label_encoder':False,\n",
    "              'n_jobs':-1,\n",
    "              'random_state':42}\n",
    "\n",
    "params_ctb = {'depth':10,\n",
    "              'subsample':0.33,\n",
    "              'learning_rate':0.01,\n",
    "              'loss_function':'Logloss',\n",
    "              'random_state':42,\n",
    "              'verbose':0}\n",
    "\n",
    "params_lgb = {'learning_rate':0.01,\n",
    "              'subsample':0.9,\n",
    "              'colsample_bytree':0.6,\n",
    "              'objective':'binary',\n",
    "              'metric':'binary_logloss',\n",
    "              'n_jobs':-1,\n",
    "              'random_state':42,\n",
    "              'verbose':0,\n",
    "              'force_col_wise':True}\n",
    "\n",
    "params_dt = {'criterion':'gini',\n",
    "             'max_depth':5,\n",
    "             'random_state':42}\n",
    "\n",
    "params_rf = {'criterion':'gini',\n",
    "             'max_depth':5,\n",
    "             'random_state':42,\n",
    "             'n_estimators':50}\n",
    "\n",
    "fit_params_xgb = {\n",
    "    'early_stopping_rounds':100, \n",
    "    'eval_metric':['logloss', 'aucpr', 'auc'],\n",
    "    'verbose':0}\n",
    "\n",
    "fit_params_ctb = {\n",
    "    'use_best_model':True,\n",
    "    'early_stopping_rounds':200, \n",
    "    'verbose':0,\n",
    "    'plot':False}\n",
    "\n",
    "fit_params_lgb = {\n",
    "    'early_stopping_rounds':100, \n",
    "    'eval_metric':['logloss', 'auc'],\n",
    "    'verbose':0}\n",
    "\n",
    "fit_params_rf = {}\n",
    "\n",
    "fit_params_dt = {}\n",
    "\n",
    "\n",
    "params_list = [params_xgb, \n",
    "               params_ctb, \n",
    "               params_lgb, \n",
    "               params_dt, \n",
    "               params_rf\n",
    "              ]\n",
    "\n",
    "\n",
    "fit_params_list = [fit_params_xgb, \n",
    "                   fit_params_ctb, \n",
    "                   fit_params_lgb, \n",
    "                   fit_params_dt, \n",
    "                   fit_params_rf\n",
    "                  ]\n",
    "\n",
    "models_list = ['xgboost', \n",
    "               'catboost', \n",
    "               'lightboost', \n",
    "               'decisiontree', \n",
    "               'randomforest'\n",
    "              ] "
   ]
  },
  {
   "cell_type": "code",
   "execution_count": 13,
   "id": "7d3d0afe",
   "metadata": {
    "pycharm": {
     "name": "#%%\n"
    },
    "tags": []
   },
   "outputs": [
    {
     "name": "stdout",
     "output_type": "stream",
     "text": [
      "\n",
      "                                  Модель:  xgboost\n",
      "============================== Обучение benchmark-модели! ==============================\n",
      "BEST ITERATION:  61\n",
      "gini на обучающей выборке: 99.435\n",
      "gini на проверочной выборке: 98.995\n",
      "============================== Обучение target permutation-модели! ==============================\n",
      "BEST ITERATION:  28\n",
      "gini на обучающей выборке: 55.738\n",
      "gini на проверочной выборке: -1.648\n",
      "\n",
      "     Модель:  xgboost\n",
      "10 признаков было до Target Permutation\n",
      "7 признаков после Target Permutation\n",
      "\n",
      "                                  Модель:  catboost\n",
      "============================== Обучение benchmark-модели! ==============================\n",
      "BEST ITERATION:  937\n",
      "gini на обучающей выборке: 99.994\n",
      "gini на проверочной выборке: 98.999\n",
      "============================== Обучение target permutation-модели! ==============================\n",
      "BEST ITERATION:  68\n",
      "gini на обучающей выборке: 85.535\n",
      "gini на проверочной выборке: 4.396\n",
      "\n",
      "     Модель:  catboost\n",
      "10 признаков было до Target Permutation\n",
      "6 признаков после Target Permutation\n",
      "\n",
      "                                  Модель:  lightboost\n",
      "============================== Обучение benchmark-модели! ==============================\n",
      "BEST ITERATION:  100\n",
      "gini на обучающей выборке: 99.463\n",
      "gini на проверочной выборке: 99.054\n",
      "============================== Обучение target permutation-модели! ==============================\n",
      "BEST ITERATION:  100\n",
      "gini на обучающей выборке: 60.402\n",
      "gini на проверочной выборке: -2.758\n",
      "\n",
      "     Модель:  lightboost\n",
      "10 признаков было до Target Permutation\n",
      "7 признаков после Target Permutation\n",
      "\n",
      "                                  Модель:  decisiontree\n",
      "============================== Обучение benchmark-модели! ==============================\n",
      "gini на обучающей выборке: 98.557\n",
      "gini на проверочной выборке: 97.273\n",
      "============================== Обучение target permutation-модели! ==============================\n",
      "gini на обучающей выборке: 15.209\n",
      "gini на проверочной выборке: 0.354\n",
      "\n",
      "     Модель:  decisiontree\n",
      "10 признаков было до Target Permutation\n",
      "2 признаков после Target Permutation\n",
      "\n",
      "                                  Модель:  randomforest\n",
      "============================== Обучение benchmark-модели! ==============================\n",
      "gini на обучающей выборке: 99.272\n",
      "gini на проверочной выборке: 98.823\n",
      "============================== Обучение target permutation-модели! ==============================\n",
      "gini на обучающей выборке: 35.769\n",
      "gini на проверочной выборке: 1.715\n",
      "\n",
      "     Модель:  randomforest\n",
      "10 признаков было до Target Permutation\n",
      "3 признаков после Target Permutation\n"
     ]
    }
   ],
   "source": [
    "features_dict_target_perm = dict()\n",
    "df_importance = dict()\n",
    "\n",
    "for i in range(len(params_list)):\n",
    "    estimator = utils_target_permutation.select_estimator('classification', models_list[i], params_list[i])\n",
    "    \n",
    "    print('\\n                                  Модель: ', models_list[i])\n",
    "    model = TargetPermutationSelection(\n",
    "        main_estimator=estimator, \n",
    "        main_fit_params=fit_params_list[i],\n",
    "        main_prep_pipe=prep_pipe,\n",
    "        main_features=num_columns + cat_columns,\n",
    "        \n",
    "        X_train=sample[num_columns + cat_columns],\n",
    "        y_train=sample[target], \n",
    "        main_metric='gini',\n",
    "        model_type=models_list[i])\n",
    "    \n",
    "    model.calculate_permutation()\n",
    "    \n",
    "    print('\\n     Модель: ', models_list[i])\n",
    "    features_dict_target_perm[models_list[i]] = model.select_features(select_type='tyta')\n",
    "    df_importance[models_list[i]] = model.df_fi_final"
   ]
  },
  {
   "cell_type": "code",
   "execution_count": 14,
   "id": "b8f5e767",
   "metadata": {
    "jupyter": {
     "outputs_hidden": false
    },
    "pycharm": {
     "name": "#%%\n"
    }
   },
   "outputs": [
    {
     "data": {
      "text/plain": [
       "{'xgboost': ['F', 'A', 'J', 'C', 'G', 'B', 'D'],\n",
       " 'catboost': ['F', 'G', 'A', 'C', 'B', 'J'],\n",
       " 'lightboost': ['F', 'J', 'A', 'C', 'G', 'B', 'D'],\n",
       " 'decisiontree': ['F', 'G'],\n",
       " 'randomforest': ['F', 'A', 'J']}"
      ]
     },
     "execution_count": 14,
     "metadata": {},
     "output_type": "execute_result"
    }
   ],
   "source": [
    "features_dict_target_perm"
   ]
  },
  {
   "cell_type": "code",
   "execution_count": 15,
   "id": "c1359ce4",
   "metadata": {
    "jupyter": {
     "outputs_hidden": false
    },
    "pycharm": {
     "name": "#%%\n"
    }
   },
   "outputs": [
    {
     "name": "stdout",
     "output_type": "stream",
     "text": [
      "{'C', 'J', 'B', 'G', 'F', 'A'}\n"
     ]
    }
   ],
   "source": [
    "print(utils_target_permutation.intersection_set(features_dict_target_perm, 3))"
   ]
  },
  {
   "cell_type": "code",
   "execution_count": 16,
   "id": "c07a499b",
   "metadata": {},
   "outputs": [
    {
     "name": "stdout",
     "output_type": "stream",
     "text": [
      "Веса для первый фичи для каждой модели выбраны одинаковыми => все модели имеют одинаковый вес.\n",
      "Отобраны фичи, которые имеют скор больше среднего.\n",
      "Отобрано 4 фичей\n"
     ]
    },
    {
     "data": {
      "text/html": [
       "<div>\n",
       "<style scoped>\n",
       "    .dataframe tbody tr th:only-of-type {\n",
       "        vertical-align: middle;\n",
       "    }\n",
       "\n",
       "    .dataframe tbody tr th {\n",
       "        vertical-align: top;\n",
       "    }\n",
       "\n",
       "    .dataframe thead th {\n",
       "        text-align: right;\n",
       "    }\n",
       "</style>\n",
       "<table border=\"1\" class=\"dataframe\">\n",
       "  <thead>\n",
       "    <tr style=\"text-align: right;\">\n",
       "      <th></th>\n",
       "      <th>features</th>\n",
       "      <th>score</th>\n",
       "    </tr>\n",
       "  </thead>\n",
       "  <tbody>\n",
       "    <tr>\n",
       "      <th>6</th>\n",
       "      <td>F</td>\n",
       "      <td>100.0000</td>\n",
       "    </tr>\n",
       "    <tr>\n",
       "      <th>4</th>\n",
       "      <td>A</td>\n",
       "      <td>68.4000</td>\n",
       "    </tr>\n",
       "    <tr>\n",
       "      <th>3</th>\n",
       "      <td>G</td>\n",
       "      <td>62.2440</td>\n",
       "    </tr>\n",
       "    <tr>\n",
       "      <th>1</th>\n",
       "      <td>J</td>\n",
       "      <td>62.2098</td>\n",
       "    </tr>\n",
       "  </tbody>\n",
       "</table>\n",
       "</div>"
      ],
      "text/plain": [
       "  features     score\n",
       "6        F  100.0000\n",
       "4        A   68.4000\n",
       "3        G   62.2440\n",
       "1        J   62.2098"
      ]
     },
     "execution_count": 16,
     "metadata": {},
     "output_type": "execute_result"
    }
   ],
   "source": [
    "# отбор фичей при помощи взвешенной частоты фичей\n",
    "utils_target_permutation.aggregated_feature_selection(feat_dist = features_dict_target_perm, mean_score_select = True)"
   ]
  },
  {
   "cell_type": "code",
   "execution_count": 17,
   "id": "7838c951",
   "metadata": {},
   "outputs": [
    {
     "name": "stdout",
     "output_type": "stream",
     "text": [
      "Веса для первый фичи для каждой модели выбраны одинаковыми => все модели имеют одинаковый вес.\n",
      "Отобрано 7 фичей\n"
     ]
    },
    {
     "data": {
      "text/html": [
       "<div>\n",
       "<style scoped>\n",
       "    .dataframe tbody tr th:only-of-type {\n",
       "        vertical-align: middle;\n",
       "    }\n",
       "\n",
       "    .dataframe tbody tr th {\n",
       "        vertical-align: top;\n",
       "    }\n",
       "\n",
       "    .dataframe thead th {\n",
       "        text-align: right;\n",
       "    }\n",
       "</style>\n",
       "<table border=\"1\" class=\"dataframe\">\n",
       "  <thead>\n",
       "    <tr style=\"text-align: right;\">\n",
       "      <th></th>\n",
       "      <th>features</th>\n",
       "      <th>score</th>\n",
       "    </tr>\n",
       "  </thead>\n",
       "  <tbody>\n",
       "    <tr>\n",
       "      <th>6</th>\n",
       "      <td>F</td>\n",
       "      <td>100.00000</td>\n",
       "    </tr>\n",
       "    <tr>\n",
       "      <th>4</th>\n",
       "      <td>A</td>\n",
       "      <td>68.40000</td>\n",
       "    </tr>\n",
       "    <tr>\n",
       "      <th>3</th>\n",
       "      <td>G</td>\n",
       "      <td>62.24400</td>\n",
       "    </tr>\n",
       "    <tr>\n",
       "      <th>1</th>\n",
       "      <td>J</td>\n",
       "      <td>62.20980</td>\n",
       "    </tr>\n",
       "    <tr>\n",
       "      <th>0</th>\n",
       "      <td>C</td>\n",
       "      <td>43.74000</td>\n",
       "    </tr>\n",
       "    <tr>\n",
       "      <th>2</th>\n",
       "      <td>B</td>\n",
       "      <td>36.74160</td>\n",
       "    </tr>\n",
       "    <tr>\n",
       "      <th>5</th>\n",
       "      <td>D</td>\n",
       "      <td>21.25764</td>\n",
       "    </tr>\n",
       "  </tbody>\n",
       "</table>\n",
       "</div>"
      ],
      "text/plain": [
       "  features      score\n",
       "6        F  100.00000\n",
       "4        A   68.40000\n",
       "3        G   62.24400\n",
       "1        J   62.20980\n",
       "0        C   43.74000\n",
       "2        B   36.74160\n",
       "5        D   21.25764"
      ]
     },
     "execution_count": 17,
     "metadata": {},
     "output_type": "execute_result"
    }
   ],
   "source": [
    "# отбор фичей при помощи взвешенной частоты фичей\n",
    "utils_target_permutation.aggregated_feature_selection(feat_dist = features_dict_target_perm, mean_score_select = False)"
   ]
  },
  {
   "cell_type": "markdown",
   "id": "627af00a",
   "metadata": {
    "pycharm": {
     "name": "#%% md\n"
    }
   },
   "source": [
    "## Демонстрация метода на данных Титаник"
   ]
  },
  {
   "cell_type": "code",
   "execution_count": 18,
   "id": "a3dca2b2",
   "metadata": {
    "jupyter": {
     "outputs_hidden": false
    },
    "pycharm": {
     "name": "#%%\n"
    }
   },
   "outputs": [
    {
     "name": "stdout",
     "output_type": "stream",
     "text": [
      "Размерность данных: (891, 12)\n"
     ]
    },
    {
     "data": {
      "text/html": [
       "<div>\n",
       "<style scoped>\n",
       "    .dataframe tbody tr th:only-of-type {\n",
       "        vertical-align: middle;\n",
       "    }\n",
       "\n",
       "    .dataframe tbody tr th {\n",
       "        vertical-align: top;\n",
       "    }\n",
       "\n",
       "    .dataframe thead th {\n",
       "        text-align: right;\n",
       "    }\n",
       "</style>\n",
       "<table border=\"1\" class=\"dataframe\">\n",
       "  <thead>\n",
       "    <tr style=\"text-align: right;\">\n",
       "      <th></th>\n",
       "      <th>PassengerId</th>\n",
       "      <th>Survived</th>\n",
       "      <th>Pclass</th>\n",
       "      <th>Name</th>\n",
       "      <th>Sex</th>\n",
       "      <th>Age</th>\n",
       "      <th>SibSp</th>\n",
       "      <th>Parch</th>\n",
       "      <th>Ticket</th>\n",
       "      <th>Fare</th>\n",
       "      <th>Cabin</th>\n",
       "      <th>Embarked</th>\n",
       "    </tr>\n",
       "  </thead>\n",
       "  <tbody>\n",
       "    <tr>\n",
       "      <th>0</th>\n",
       "      <td>1</td>\n",
       "      <td>0</td>\n",
       "      <td>3</td>\n",
       "      <td>Braund, Mr. Owen Harris</td>\n",
       "      <td>male</td>\n",
       "      <td>22.0</td>\n",
       "      <td>1</td>\n",
       "      <td>0</td>\n",
       "      <td>A/5 21171</td>\n",
       "      <td>7.2500</td>\n",
       "      <td>NaN</td>\n",
       "      <td>S</td>\n",
       "    </tr>\n",
       "    <tr>\n",
       "      <th>1</th>\n",
       "      <td>2</td>\n",
       "      <td>1</td>\n",
       "      <td>1</td>\n",
       "      <td>Cumings, Mrs. John Bradley (Florence Briggs Th...</td>\n",
       "      <td>female</td>\n",
       "      <td>38.0</td>\n",
       "      <td>1</td>\n",
       "      <td>0</td>\n",
       "      <td>PC 17599</td>\n",
       "      <td>71.2833</td>\n",
       "      <td>C85</td>\n",
       "      <td>C</td>\n",
       "    </tr>\n",
       "  </tbody>\n",
       "</table>\n",
       "</div>"
      ],
      "text/plain": [
       "   PassengerId  Survived  Pclass  \\\n",
       "0            1         0       3   \n",
       "1            2         1       1   \n",
       "\n",
       "                                                Name     Sex   Age  SibSp  \\\n",
       "0                            Braund, Mr. Owen Harris    male  22.0      1   \n",
       "1  Cumings, Mrs. John Bradley (Florence Briggs Th...  female  38.0      1   \n",
       "\n",
       "   Parch     Ticket     Fare Cabin Embarked  \n",
       "0      0  A/5 21171   7.2500   NaN        S  \n",
       "1      0   PC 17599  71.2833   C85        C  "
      ]
     },
     "execution_count": 18,
     "metadata": {},
     "output_type": "execute_result"
    }
   ],
   "source": [
    "sample = pd.read_csv('../data/train_titanic.csv')\n",
    "\n",
    "print('Размерность данных:', sample.shape)\n",
    "sample.head(2)"
   ]
  },
  {
   "cell_type": "code",
   "execution_count": 19,
   "id": "b9e6bf6f",
   "metadata": {
    "jupyter": {
     "outputs_hidden": false
    },
    "pycharm": {
     "name": "#%%\n"
    }
   },
   "outputs": [],
   "source": [
    "num_columns = [\n",
    "    'Age', 'Fare'\n",
    "]\n",
    "\n",
    "cat_columns = [\n",
    "    'Pclass', 'Sex', 'Embarked', 'SibSp', 'Parch'\n",
    "]\n",
    "\n",
    "target = ['Survived']\n",
    "\n",
    "prep_pipe = base_pipe(\n",
    "    num_columns=num_columns, \n",
    "    cat_columns=cat_columns)"
   ]
  },
  {
   "cell_type": "code",
   "execution_count": 20,
   "id": "a8c7c3d7",
   "metadata": {
    "jupyter": {
     "outputs_hidden": true
    },
    "pycharm": {
     "name": "#%%\n"
    },
    "tags": []
   },
   "outputs": [
    {
     "name": "stdout",
     "output_type": "stream",
     "text": [
      "============================== Обучение benchmark-модели! ==============================\n",
      "BEST ITERATION:  0\n",
      "gini на обучающей выборке: 68.352\n",
      "gini на проверочной выборке: 72.500\n",
      "============================== Обучение target permutation-модели! ==============================\n",
      "BEST ITERATION:  139\n",
      "gini на обучающей выборке: 84.057\n",
      "gini на проверочной выборке: 12.101\n",
      "Модель:  xgboost \n",
      "\n",
      "7 признаков было до Target Permutation\n",
      "7 признаков после Target Permutation\n",
      "============================== Обучение benchmark-модели! ==============================\n",
      "BEST ITERATION:  299\n",
      "gini на обучающей выборке: 95.878\n",
      "gini на проверочной выборке: 70.976\n",
      "============================== Обучение target permutation-модели! ==============================\n",
      "BEST ITERATION:  48\n",
      "gini на обучающей выборке: 85.600\n",
      "gini на проверочной выборке: 2.078\n",
      "Модель:  catboost \n",
      "\n",
      "7 признаков было до Target Permutation\n",
      "6 признаков после Target Permutation\n",
      "============================== Обучение benchmark-модели! ==============================\n",
      "[LightGBM] [Warning] No further splits with positive gain, best gain: -inf\n",
      "[LightGBM] [Warning] No further splits with positive gain, best gain: -inf\n",
      "[LightGBM] [Warning] No further splits with positive gain, best gain: -inf\n",
      "[LightGBM] [Warning] No further splits with positive gain, best gain: -inf\n",
      "[LightGBM] [Warning] No further splits with positive gain, best gain: -inf\n",
      "[LightGBM] [Warning] No further splits with positive gain, best gain: -inf\n",
      "[LightGBM] [Warning] No further splits with positive gain, best gain: -inf\n",
      "[LightGBM] [Warning] No further splits with positive gain, best gain: -inf\n",
      "[LightGBM] [Warning] No further splits with positive gain, best gain: -inf\n",
      "[LightGBM] [Warning] No further splits with positive gain, best gain: -inf\n",
      "[LightGBM] [Warning] No further splits with positive gain, best gain: -inf\n",
      "[LightGBM] [Warning] No further splits with positive gain, best gain: -inf\n",
      "[LightGBM] [Warning] No further splits with positive gain, best gain: -inf\n",
      "[LightGBM] [Warning] No further splits with positive gain, best gain: -inf\n",
      "[LightGBM] [Warning] No further splits with positive gain, best gain: -inf\n",
      "[LightGBM] [Warning] No further splits with positive gain, best gain: -inf\n",
      "[LightGBM] [Warning] No further splits with positive gain, best gain: -inf\n",
      "[LightGBM] [Warning] No further splits with positive gain, best gain: -inf\n",
      "[LightGBM] [Warning] No further splits with positive gain, best gain: -inf\n",
      "[LightGBM] [Warning] No further splits with positive gain, best gain: -inf\n",
      "[LightGBM] [Warning] No further splits with positive gain, best gain: -inf\n",
      "[LightGBM] [Warning] No further splits with positive gain, best gain: -inf\n",
      "[LightGBM] [Warning] No further splits with positive gain, best gain: -inf\n",
      "[LightGBM] [Warning] No further splits with positive gain, best gain: -inf\n",
      "[LightGBM] [Warning] No further splits with positive gain, best gain: -inf\n",
      "[LightGBM] [Warning] No further splits with positive gain, best gain: -inf\n",
      "[LightGBM] [Warning] No further splits with positive gain, best gain: -inf\n",
      "[LightGBM] [Warning] No further splits with positive gain, best gain: -inf\n",
      "[LightGBM] [Warning] No further splits with positive gain, best gain: -inf\n",
      "[LightGBM] [Warning] No further splits with positive gain, best gain: -inf\n",
      "[LightGBM] [Warning] No further splits with positive gain, best gain: -inf\n",
      "[LightGBM] [Warning] No further splits with positive gain, best gain: -inf\n",
      "[LightGBM] [Warning] No further splits with positive gain, best gain: -inf\n",
      "[LightGBM] [Warning] No further splits with positive gain, best gain: -inf\n",
      "[LightGBM] [Warning] No further splits with positive gain, best gain: -inf\n",
      "[LightGBM] [Warning] No further splits with positive gain, best gain: -inf\n",
      "[LightGBM] [Warning] No further splits with positive gain, best gain: -inf\n",
      "[LightGBM] [Warning] No further splits with positive gain, best gain: -inf\n",
      "[LightGBM] [Warning] No further splits with positive gain, best gain: -inf\n",
      "[LightGBM] [Warning] No further splits with positive gain, best gain: -inf\n",
      "[LightGBM] [Warning] No further splits with positive gain, best gain: -inf\n",
      "[LightGBM] [Warning] No further splits with positive gain, best gain: -inf\n",
      "[LightGBM] [Warning] No further splits with positive gain, best gain: -inf\n",
      "[LightGBM] [Warning] No further splits with positive gain, best gain: -inf\n",
      "[LightGBM] [Warning] No further splits with positive gain, best gain: -inf\n",
      "[LightGBM] [Warning] No further splits with positive gain, best gain: -inf\n",
      "[LightGBM] [Warning] No further splits with positive gain, best gain: -inf\n",
      "[LightGBM] [Warning] No further splits with positive gain, best gain: -inf\n",
      "[LightGBM] [Warning] No further splits with positive gain, best gain: -inf\n",
      "[LightGBM] [Warning] No further splits with positive gain, best gain: -inf\n",
      "[LightGBM] [Warning] No further splits with positive gain, best gain: -inf\n",
      "[LightGBM] [Warning] No further splits with positive gain, best gain: -inf\n",
      "[LightGBM] [Warning] No further splits with positive gain, best gain: -inf\n",
      "[LightGBM] [Warning] No further splits with positive gain, best gain: -inf\n",
      "[LightGBM] [Warning] No further splits with positive gain, best gain: -inf\n",
      "[LightGBM] [Warning] No further splits with positive gain, best gain: -inf\n",
      "[LightGBM] [Warning] No further splits with positive gain, best gain: -inf\n",
      "[LightGBM] [Warning] No further splits with positive gain, best gain: -inf\n",
      "[LightGBM] [Warning] No further splits with positive gain, best gain: -inf\n",
      "[LightGBM] [Warning] No further splits with positive gain, best gain: -inf\n",
      "[LightGBM] [Warning] No further splits with positive gain, best gain: -inf\n",
      "[LightGBM] [Warning] No further splits with positive gain, best gain: -inf\n",
      "[LightGBM] [Warning] No further splits with positive gain, best gain: -inf\n",
      "[LightGBM] [Warning] No further splits with positive gain, best gain: -inf\n",
      "[LightGBM] [Warning] No further splits with positive gain, best gain: -inf\n",
      "[LightGBM] [Warning] No further splits with positive gain, best gain: -inf\n",
      "[LightGBM] [Warning] No further splits with positive gain, best gain: -inf\n",
      "[LightGBM] [Warning] No further splits with positive gain, best gain: -inf\n",
      "[LightGBM] [Warning] No further splits with positive gain, best gain: -inf\n",
      "[LightGBM] [Warning] No further splits with positive gain, best gain: -inf\n",
      "[LightGBM] [Warning] No further splits with positive gain, best gain: -inf\n",
      "[LightGBM] [Warning] No further splits with positive gain, best gain: -inf\n",
      "[LightGBM] [Warning] No further splits with positive gain, best gain: -inf\n",
      "[LightGBM] [Warning] No further splits with positive gain, best gain: -inf\n",
      "[LightGBM] [Warning] No further splits with positive gain, best gain: -inf\n",
      "[LightGBM] [Warning] No further splits with positive gain, best gain: -inf\n",
      "[LightGBM] [Warning] No further splits with positive gain, best gain: -inf\n",
      "[LightGBM] [Warning] No further splits with positive gain, best gain: -inf\n",
      "[LightGBM] [Warning] No further splits with positive gain, best gain: -inf\n",
      "[LightGBM] [Warning] No further splits with positive gain, best gain: -inf\n",
      "[LightGBM] [Warning] No further splits with positive gain, best gain: -inf\n",
      "[LightGBM] [Warning] No further splits with positive gain, best gain: -inf\n",
      "[LightGBM] [Warning] No further splits with positive gain, best gain: -inf\n",
      "[LightGBM] [Warning] No further splits with positive gain, best gain: -inf\n",
      "[LightGBM] [Warning] No further splits with positive gain, best gain: -inf\n",
      "[LightGBM] [Warning] No further splits with positive gain, best gain: -inf\n",
      "[LightGBM] [Warning] No further splits with positive gain, best gain: -inf\n",
      "[LightGBM] [Warning] No further splits with positive gain, best gain: -inf\n",
      "[LightGBM] [Warning] No further splits with positive gain, best gain: -inf\n",
      "[LightGBM] [Warning] No further splits with positive gain, best gain: -inf\n",
      "[LightGBM] [Warning] No further splits with positive gain, best gain: -inf\n",
      "[LightGBM] [Warning] No further splits with positive gain, best gain: -inf\n",
      "[LightGBM] [Warning] No further splits with positive gain, best gain: -inf\n",
      "[LightGBM] [Warning] No further splits with positive gain, best gain: -inf\n",
      "[LightGBM] [Warning] No further splits with positive gain, best gain: -inf\n",
      "[LightGBM] [Warning] No further splits with positive gain, best gain: -inf\n",
      "[LightGBM] [Warning] No further splits with positive gain, best gain: -inf\n",
      "[LightGBM] [Warning] No further splits with positive gain, best gain: -inf\n",
      "[LightGBM] [Warning] No further splits with positive gain, best gain: -inf\n",
      "[LightGBM] [Warning] No further splits with positive gain, best gain: -inf\n",
      "BEST ITERATION:  100\n",
      "gini на обучающей выборке: 88.983\n",
      "gini на проверочной выборке: 73.095\n",
      "============================== Обучение target permutation-модели! ==============================\n"
     ]
    },
    {
     "name": "stdout",
     "output_type": "stream",
     "text": [
      "[LightGBM] [Warning] No further splits with positive gain, best gain: -inf\n",
      "[LightGBM] [Warning] No further splits with positive gain, best gain: -inf\n",
      "[LightGBM] [Warning] No further splits with positive gain, best gain: -inf\n",
      "[LightGBM] [Warning] No further splits with positive gain, best gain: -inf\n",
      "[LightGBM] [Warning] No further splits with positive gain, best gain: -inf\n",
      "[LightGBM] [Warning] No further splits with positive gain, best gain: -inf\n",
      "[LightGBM] [Warning] No further splits with positive gain, best gain: -inf\n",
      "[LightGBM] [Warning] No further splits with positive gain, best gain: -inf\n",
      "[LightGBM] [Warning] No further splits with positive gain, best gain: -inf\n",
      "[LightGBM] [Warning] No further splits with positive gain, best gain: -inf\n",
      "[LightGBM] [Warning] No further splits with positive gain, best gain: -inf\n",
      "[LightGBM] [Warning] No further splits with positive gain, best gain: -inf\n",
      "[LightGBM] [Warning] No further splits with positive gain, best gain: -inf\n",
      "[LightGBM] [Warning] No further splits with positive gain, best gain: -inf\n",
      "[LightGBM] [Warning] No further splits with positive gain, best gain: -inf\n",
      "[LightGBM] [Warning] No further splits with positive gain, best gain: -inf\n",
      "[LightGBM] [Warning] No further splits with positive gain, best gain: -inf\n",
      "[LightGBM] [Warning] No further splits with positive gain, best gain: -inf\n",
      "[LightGBM] [Warning] No further splits with positive gain, best gain: -inf\n",
      "[LightGBM] [Warning] No further splits with positive gain, best gain: -inf\n",
      "[LightGBM] [Warning] No further splits with positive gain, best gain: -inf\n",
      "[LightGBM] [Warning] No further splits with positive gain, best gain: -inf\n",
      "[LightGBM] [Warning] No further splits with positive gain, best gain: -inf\n",
      "[LightGBM] [Warning] No further splits with positive gain, best gain: -inf\n",
      "[LightGBM] [Warning] No further splits with positive gain, best gain: -inf\n",
      "[LightGBM] [Warning] No further splits with positive gain, best gain: -inf\n",
      "[LightGBM] [Warning] No further splits with positive gain, best gain: -inf\n",
      "[LightGBM] [Warning] No further splits with positive gain, best gain: -inf\n",
      "[LightGBM] [Warning] No further splits with positive gain, best gain: -inf\n",
      "[LightGBM] [Warning] No further splits with positive gain, best gain: -inf\n",
      "[LightGBM] [Warning] No further splits with positive gain, best gain: -inf\n",
      "[LightGBM] [Warning] No further splits with positive gain, best gain: -inf\n",
      "[LightGBM] [Warning] No further splits with positive gain, best gain: -inf\n",
      "[LightGBM] [Warning] No further splits with positive gain, best gain: -inf\n",
      "[LightGBM] [Warning] No further splits with positive gain, best gain: -inf\n",
      "[LightGBM] [Warning] No further splits with positive gain, best gain: -inf\n",
      "[LightGBM] [Warning] No further splits with positive gain, best gain: -inf\n",
      "[LightGBM] [Warning] No further splits with positive gain, best gain: -inf\n",
      "[LightGBM] [Warning] No further splits with positive gain, best gain: -inf\n",
      "[LightGBM] [Warning] No further splits with positive gain, best gain: -inf\n",
      "[LightGBM] [Warning] No further splits with positive gain, best gain: -inf\n",
      "[LightGBM] [Warning] No further splits with positive gain, best gain: -inf\n",
      "[LightGBM] [Warning] No further splits with positive gain, best gain: -inf\n",
      "[LightGBM] [Warning] No further splits with positive gain, best gain: -inf\n",
      "[LightGBM] [Warning] No further splits with positive gain, best gain: -inf\n",
      "[LightGBM] [Warning] No further splits with positive gain, best gain: -inf\n",
      "[LightGBM] [Warning] No further splits with positive gain, best gain: -inf\n",
      "[LightGBM] [Warning] No further splits with positive gain, best gain: -inf\n",
      "[LightGBM] [Warning] No further splits with positive gain, best gain: -inf\n",
      "[LightGBM] [Warning] No further splits with positive gain, best gain: -inf\n",
      "[LightGBM] [Warning] No further splits with positive gain, best gain: -inf\n",
      "[LightGBM] [Warning] No further splits with positive gain, best gain: -inf\n",
      "[LightGBM] [Warning] No further splits with positive gain, best gain: -inf\n",
      "[LightGBM] [Warning] No further splits with positive gain, best gain: -inf\n",
      "[LightGBM] [Warning] No further splits with positive gain, best gain: -inf\n",
      "[LightGBM] [Warning] No further splits with positive gain, best gain: -inf\n",
      "[LightGBM] [Warning] No further splits with positive gain, best gain: -inf\n",
      "[LightGBM] [Warning] No further splits with positive gain, best gain: -inf\n",
      "[LightGBM] [Warning] No further splits with positive gain, best gain: -inf\n",
      "[LightGBM] [Warning] No further splits with positive gain, best gain: -inf\n",
      "[LightGBM] [Warning] No further splits with positive gain, best gain: -inf\n",
      "[LightGBM] [Warning] No further splits with positive gain, best gain: -inf\n",
      "[LightGBM] [Warning] No further splits with positive gain, best gain: -inf\n",
      "[LightGBM] [Warning] No further splits with positive gain, best gain: -inf\n",
      "[LightGBM] [Warning] No further splits with positive gain, best gain: -inf\n",
      "[LightGBM] [Warning] No further splits with positive gain, best gain: -inf\n",
      "[LightGBM] [Warning] No further splits with positive gain, best gain: -inf\n",
      "[LightGBM] [Warning] No further splits with positive gain, best gain: -inf\n",
      "[LightGBM] [Warning] No further splits with positive gain, best gain: -inf\n",
      "[LightGBM] [Warning] No further splits with positive gain, best gain: -inf\n",
      "[LightGBM] [Warning] No further splits with positive gain, best gain: -inf\n",
      "[LightGBM] [Warning] No further splits with positive gain, best gain: -inf\n",
      "[LightGBM] [Warning] No further splits with positive gain, best gain: -inf\n",
      "[LightGBM] [Warning] No further splits with positive gain, best gain: -inf\n",
      "[LightGBM] [Warning] No further splits with positive gain, best gain: -inf\n",
      "[LightGBM] [Warning] No further splits with positive gain, best gain: -inf\n",
      "[LightGBM] [Warning] No further splits with positive gain, best gain: -inf\n",
      "[LightGBM] [Warning] No further splits with positive gain, best gain: -inf\n",
      "[LightGBM] [Warning] No further splits with positive gain, best gain: -inf\n",
      "[LightGBM] [Warning] No further splits with positive gain, best gain: -inf\n",
      "[LightGBM] [Warning] No further splits with positive gain, best gain: -inf\n",
      "[LightGBM] [Warning] No further splits with positive gain, best gain: -inf\n",
      "[LightGBM] [Warning] No further splits with positive gain, best gain: -inf\n",
      "[LightGBM] [Warning] No further splits with positive gain, best gain: -inf\n",
      "[LightGBM] [Warning] No further splits with positive gain, best gain: -inf\n",
      "[LightGBM] [Warning] No further splits with positive gain, best gain: -inf\n",
      "[LightGBM] [Warning] No further splits with positive gain, best gain: -inf\n",
      "[LightGBM] [Warning] No further splits with positive gain, best gain: -inf\n",
      "[LightGBM] [Warning] No further splits with positive gain, best gain: -inf\n",
      "[LightGBM] [Warning] No further splits with positive gain, best gain: -inf\n",
      "[LightGBM] [Warning] No further splits with positive gain, best gain: -inf\n",
      "[LightGBM] [Warning] No further splits with positive gain, best gain: -inf\n",
      "[LightGBM] [Warning] No further splits with positive gain, best gain: -inf\n",
      "[LightGBM] [Warning] No further splits with positive gain, best gain: -inf\n",
      "[LightGBM] [Warning] No further splits with positive gain, best gain: -inf\n",
      "[LightGBM] [Warning] No further splits with positive gain, best gain: -inf\n",
      "[LightGBM] [Warning] No further splits with positive gain, best gain: -inf\n",
      "[LightGBM] [Warning] No further splits with positive gain, best gain: -inf\n",
      "[LightGBM] [Warning] No further splits with positive gain, best gain: -inf\n",
      "[LightGBM] [Warning] No further splits with positive gain, best gain: -inf\n",
      "BEST ITERATION:  99\n",
      "gini на обучающей выборке: 67.880\n",
      "gini на проверочной выборке: -9.154\n",
      "Модель:  lightboost \n",
      "\n",
      "7 признаков было до Target Permutation\n",
      "7 признаков после Target Permutation\n",
      "============================== Обучение benchmark-модели! ==============================\n",
      "gini на обучающей выборке: 85.409\n",
      "gini на проверочной выборке: 65.149\n",
      "============================== Обучение target permutation-модели! ==============================\n",
      "gini на обучающей выборке: 45.174\n",
      "gini на проверочной выборке: -6.298\n",
      "Модель:  decisiontree \n",
      "\n",
      "7 признаков было до Target Permutation\n",
      "7 признаков после Target Permutation\n",
      "============================== Обучение benchmark-модели! ==============================\n"
     ]
    },
    {
     "name": "stdout",
     "output_type": "stream",
     "text": [
      "gini на обучающей выборке: 85.951\n",
      "gini на проверочной выборке: 70.976\n",
      "============================== Обучение target permutation-модели! ==============================\n",
      "gini на обучающей выборке: 62.972\n",
      "gini на проверочной выборке: 2.660\n",
      "Модель:  randomforest \n",
      "\n",
      "7 признаков было до Target Permutation\n",
      "7 признаков после Target Permutation\n",
      "CPU times: user 32.1 s, sys: 1.53 s, total: 33.7 s\n",
      "Wall time: 4.3 s\n"
     ]
    }
   ],
   "source": [
    "%%time\n",
    "features_dict_target_perm = dict()\n",
    "df_importance = dict()\n",
    "\n",
    "for i in range(len(params_list)):\n",
    "    estimator = utils_target_permutation.select_estimator('classification', models_list[i], params_list[i])\n",
    "    \n",
    "    model = TargetPermutationSelection(\n",
    "        main_estimator=estimator, \n",
    "        main_fit_params=fit_params_list[i],\n",
    "        main_prep_pipe=prep_pipe,\n",
    "        main_features=num_columns + cat_columns,\n",
    "        \n",
    "        X_train=sample[num_columns + cat_columns],\n",
    "        y_train=sample[target], \n",
    "        main_metric='gini',\n",
    "        model_type=models_list[i])\n",
    "    \n",
    "    model.calculate_permutation()\n",
    "    \n",
    "    print('Модель: ', models_list[i], '\\n')\n",
    "    features_dict_target_perm[models_list[i]] = model.select_features()\n",
    "    df_importance[models_list[i]] = model.df_fi_final"
   ]
  },
  {
   "cell_type": "code",
   "execution_count": 21,
   "id": "817352d1",
   "metadata": {
    "jupyter": {
     "outputs_hidden": false
    },
    "pycharm": {
     "name": "#%%\n"
    }
   },
   "outputs": [
    {
     "data": {
      "text/plain": [
       "{'xgboost': ['Sex', 'Pclass', 'Parch', 'SibSp', 'Fare', 'Embarked', 'Age'],\n",
       " 'catboost': ['Sex', 'Pclass', 'Fare', 'Parch', 'SibSp', 'Age'],\n",
       " 'lightboost': ['Sex', 'Pclass', 'Fare', 'Parch', 'Age', 'Embarked', 'SibSp'],\n",
       " 'decisiontree': ['Sex',\n",
       "  'Pclass',\n",
       "  'Parch',\n",
       "  'Embarked',\n",
       "  'Fare',\n",
       "  'Age',\n",
       "  'SibSp'],\n",
       " 'randomforest': ['Sex',\n",
       "  'Pclass',\n",
       "  'Fare',\n",
       "  'Parch',\n",
       "  'Embarked',\n",
       "  'Age',\n",
       "  'SibSp']}"
      ]
     },
     "execution_count": 21,
     "metadata": {},
     "output_type": "execute_result"
    }
   ],
   "source": [
    "features_dict_target_perm"
   ]
  },
  {
   "cell_type": "code",
   "execution_count": 22,
   "id": "3f27ffb3",
   "metadata": {
    "jupyter": {
     "outputs_hidden": false
    },
    "pycharm": {
     "name": "#%%\n"
    }
   },
   "outputs": [
    {
     "name": "stdout",
     "output_type": "stream",
     "text": [
      "{'Embarked', 'SibSp', 'Sex', 'Fare', 'Age', 'Pclass', 'Parch'}\n"
     ]
    }
   ],
   "source": [
    "print(utils_target_permutation.intersection_set(features_dict_target_perm, 3))"
   ]
  },
  {
   "cell_type": "code",
   "execution_count": 23,
   "id": "73b22948",
   "metadata": {
    "jupyter": {
     "outputs_hidden": false
    },
    "pycharm": {
     "name": "#%%\n"
    }
   },
   "outputs": [
    {
     "name": "stdout",
     "output_type": "stream",
     "text": [
      "Веса для первый фичи для каждой модели выбраны одинаковыми => все модели имеют одинаковый вес.\n",
      "Отобраны фичи, которые имеют скор больше среднего.\n",
      "Отобрано 4 фичей\n"
     ]
    },
    {
     "data": {
      "text/html": [
       "<div>\n",
       "<style scoped>\n",
       "    .dataframe tbody tr th:only-of-type {\n",
       "        vertical-align: middle;\n",
       "    }\n",
       "\n",
       "    .dataframe tbody tr th {\n",
       "        vertical-align: top;\n",
       "    }\n",
       "\n",
       "    .dataframe thead th {\n",
       "        text-align: right;\n",
       "    }\n",
       "</style>\n",
       "<table border=\"1\" class=\"dataframe\">\n",
       "  <thead>\n",
       "    <tr style=\"text-align: right;\">\n",
       "      <th></th>\n",
       "      <th>features</th>\n",
       "      <th>score</th>\n",
       "    </tr>\n",
       "  </thead>\n",
       "  <tbody>\n",
       "    <tr>\n",
       "      <th>3</th>\n",
       "      <td>Sex</td>\n",
       "      <td>100.000</td>\n",
       "    </tr>\n",
       "    <tr>\n",
       "      <th>5</th>\n",
       "      <td>Pclass</td>\n",
       "      <td>90.000</td>\n",
       "    </tr>\n",
       "    <tr>\n",
       "      <th>6</th>\n",
       "      <td>Parch</td>\n",
       "      <td>76.140</td>\n",
       "    </tr>\n",
       "    <tr>\n",
       "      <th>4</th>\n",
       "      <td>Fare</td>\n",
       "      <td>74.844</td>\n",
       "    </tr>\n",
       "  </tbody>\n",
       "</table>\n",
       "</div>"
      ],
      "text/plain": [
       "  features    score\n",
       "3      Sex  100.000\n",
       "5   Pclass   90.000\n",
       "6    Parch   76.140\n",
       "4     Fare   74.844"
      ]
     },
     "execution_count": 23,
     "metadata": {},
     "output_type": "execute_result"
    }
   ],
   "source": [
    "# отбор фичей при помощи взвешенной частоты фичей\n",
    "utils_target_permutation.aggregated_feature_selection(feat_dist = features_dict_target_perm, mean_score_select = True)"
   ]
  },
  {
   "cell_type": "code",
   "execution_count": 24,
   "id": "04a7f340",
   "metadata": {},
   "outputs": [
    {
     "name": "stdout",
     "output_type": "stream",
     "text": [
      "Веса для первый фичи для каждой модели выбраны одинаковыми => все модели имеют одинаковый вес.\n",
      "Отобрано 7 фичей\n"
     ]
    },
    {
     "data": {
      "text/html": [
       "<div>\n",
       "<style scoped>\n",
       "    .dataframe tbody tr th:only-of-type {\n",
       "        vertical-align: middle;\n",
       "    }\n",
       "\n",
       "    .dataframe tbody tr th {\n",
       "        vertical-align: top;\n",
       "    }\n",
       "\n",
       "    .dataframe thead th {\n",
       "        text-align: right;\n",
       "    }\n",
       "</style>\n",
       "<table border=\"1\" class=\"dataframe\">\n",
       "  <thead>\n",
       "    <tr style=\"text-align: right;\">\n",
       "      <th></th>\n",
       "      <th>features</th>\n",
       "      <th>score</th>\n",
       "    </tr>\n",
       "  </thead>\n",
       "  <tbody>\n",
       "    <tr>\n",
       "      <th>3</th>\n",
       "      <td>Sex</td>\n",
       "      <td>100.00000</td>\n",
       "    </tr>\n",
       "    <tr>\n",
       "      <th>5</th>\n",
       "      <td>Pclass</td>\n",
       "      <td>90.00000</td>\n",
       "    </tr>\n",
       "    <tr>\n",
       "      <th>6</th>\n",
       "      <td>Parch</td>\n",
       "      <td>76.14000</td>\n",
       "    </tr>\n",
       "    <tr>\n",
       "      <th>4</th>\n",
       "      <td>Fare</td>\n",
       "      <td>74.84400</td>\n",
       "    </tr>\n",
       "    <tr>\n",
       "      <th>0</th>\n",
       "      <td>SibSp</td>\n",
       "      <td>59.58846</td>\n",
       "    </tr>\n",
       "    <tr>\n",
       "      <th>1</th>\n",
       "      <td>Age</td>\n",
       "      <td>59.18022</td>\n",
       "    </tr>\n",
       "    <tr>\n",
       "      <th>2</th>\n",
       "      <td>Embarked</td>\n",
       "      <td>51.32160</td>\n",
       "    </tr>\n",
       "  </tbody>\n",
       "</table>\n",
       "</div>"
      ],
      "text/plain": [
       "   features      score\n",
       "3       Sex  100.00000\n",
       "5    Pclass   90.00000\n",
       "6     Parch   76.14000\n",
       "4      Fare   74.84400\n",
       "0     SibSp   59.58846\n",
       "1       Age   59.18022\n",
       "2  Embarked   51.32160"
      ]
     },
     "execution_count": 24,
     "metadata": {},
     "output_type": "execute_result"
    }
   ],
   "source": [
    "utils_target_permutation.aggregated_feature_selection(feat_dist = features_dict_target_perm, mean_score_select = False)"
   ]
  },
  {
   "cell_type": "markdown",
   "id": "e3f67258",
   "metadata": {
    "pycharm": {
     "name": "#%% md\n"
    }
   },
   "source": [
    "# Задача Регрессии "
   ]
  },
  {
   "cell_type": "markdown",
   "id": "3adfe02b",
   "metadata": {
    "pycharm": {
     "name": "#%% md\n"
    }
   },
   "source": [
    "## Генерация искуственных данных"
   ]
  },
  {
   "cell_type": "code",
   "execution_count": 25,
   "id": "2443dcec",
   "metadata": {
    "jupyter": {
     "outputs_hidden": false
    },
    "pycharm": {
     "name": "#%%\n"
    }
   },
   "outputs": [],
   "source": [
    "from sklearn.datasets import make_regression\n",
    "\n",
    "X,y = make_regression(n_samples=10000,\n",
    "                      n_features=10,\n",
    "                      n_informative=5,\n",
    "                      n_targets=1,\n",
    "                      noise=25,\n",
    "                      random_state=2022)\n",
    "\n",
    "columns = ['A','B','C','D','E','F','G','H','I','J']\n",
    "sample = pd.DataFrame(X, columns=columns)\n",
    "sample['target'] = y\n",
    "target = 'target'"
   ]
  },
  {
   "cell_type": "code",
   "execution_count": 26,
   "id": "e520da4c",
   "metadata": {
    "jupyter": {
     "outputs_hidden": false
    },
    "pycharm": {
     "name": "#%%\n"
    }
   },
   "outputs": [],
   "source": [
    "num_columns = columns\n",
    "cat_columns = []\n",
    "target = ['target']\n",
    "\n",
    "#pipline\n",
    "prep_pipe = base_pipe(num_columns=num_columns,\n",
    "                     cat_columns=cat_columns)"
   ]
  },
  {
   "cell_type": "code",
   "execution_count": 27,
   "id": "41739d1e",
   "metadata": {
    "jupyter": {
     "outputs_hidden": false
    },
    "pycharm": {
     "name": "#%%\n"
    }
   },
   "outputs": [],
   "source": [
    "# Определение стандартных гиперпараметров моделей и список моделей\n",
    "params_xgb = {\n",
    "    'eta':0.01,\n",
    "    'n_estimators':1000,\n",
    "    'subsample':0.9,\n",
    "    'colsample_bytree':0.6,\n",
    "    'max_depth':6,\n",
    "    'objective':'reg:squarederror',\n",
    "    'n_jobs':-1,\n",
    "    'random_state':42}\n",
    "\n",
    "params_ctb = {\n",
    "    'learning_rate':0.01,\n",
    "    'iterations':1000,\n",
    "    'subsample':0.9,\n",
    "    'colsample_bylevel':0.9,\n",
    "    'depth':6,\n",
    "    'loss_function':'MAPE',\n",
    "    'thread_count':-1,\n",
    "    'random_state':42,\n",
    "    'custom_metric':'MAE',\n",
    "    'verbose':0}\n",
    "\n",
    "params_lgb = {\n",
    "    'learning_rate':0.01,\n",
    "    'n_estimators':1000,\n",
    "    'subsample':0.9,\n",
    "    'colsample_bytree':0.6,\n",
    "    'max_depth':6,\n",
    "    'objective':'regression',\n",
    "    'n_jobs':-1,\n",
    "    'random_state':42}\n",
    "\n",
    "params_dt = {'max_depth':5,\n",
    "             'random_state':42}\n",
    "\n",
    "params_rf = {'max_depth':5,\n",
    "             'random_state':42,\n",
    "             'n_estimators':50}\n",
    "\n",
    "fit_params_xgb = {\n",
    "    'early_stopping_rounds':200, \n",
    "    'eval_metric':'rmse',\n",
    "    'verbose':0}\n",
    "\n",
    "fit_params_ctb = {\n",
    "    'use_best_model':True,\n",
    "    'early_stopping_rounds':200, \n",
    "    'verbose':0,\n",
    "    'plot':False}\n",
    "\n",
    "fit_params_lgb = {\n",
    "    'early_stopping_rounds':200, \n",
    "    'eval_metric':'rmse',\n",
    "    'verbose':0}\n",
    "\n",
    "fit_params_rf = {}\n",
    "\n",
    "fit_params_dt = {}\n",
    "\n",
    "\n",
    "params_list = [params_xgb, \n",
    "               params_ctb, \n",
    "               params_lgb, \n",
    "               params_dt, \n",
    "               params_rf\n",
    "              ]\n",
    "\n",
    "fit_params_list = [fit_params_xgb, \n",
    "                   fit_params_ctb, \n",
    "                   fit_params_lgb, \n",
    "                   fit_params_dt, \n",
    "                   fit_params_rf]\n",
    "\n",
    "models_list = ['xgboost', \n",
    "               'catboost', \n",
    "               'lightboost', \n",
    "               'decisiontree', \n",
    "               'randomforest']"
   ]
  },
  {
   "cell_type": "code",
   "execution_count": 28,
   "id": "11af72cc",
   "metadata": {
    "pycharm": {
     "name": "#%%\n"
    },
    "tags": []
   },
   "outputs": [
    {
     "name": "stdout",
     "output_type": "stream",
     "text": [
      "============================== Обучение benchmark-модели! ==============================\n",
      "BEST ITERATION:  999\n",
      "mape на обучающей выборке: 0.811\n",
      "mape на проверочной выборке: 1.126\n",
      "============================== Обучение target permutation-модели! ==============================\n",
      "BEST ITERATION:  14\n",
      "mape на обучающей выборке: 1.014\n",
      "mape на проверочной выборке: 1.065\n",
      "Модель:  xgboost \n",
      "\n",
      "10 признаков было до Target Permutation\n",
      "10 признаков после Target Permutation\n",
      "============================== Обучение benchmark-модели! ==============================\n",
      "BEST ITERATION:  999\n",
      "mape на обучающей выборке: 0.766\n",
      "mape на проверочной выборке: 0.922\n",
      "============================== Обучение target permutation-модели! ==============================\n",
      "BEST ITERATION:  16\n",
      "mape на обучающей выборке: 0.998\n",
      "mape на проверочной выборке: 0.999\n",
      "Модель:  catboost \n",
      "\n",
      "10 признаков было до Target Permutation\n",
      "4 признаков после Target Permutation\n",
      "============================== Обучение benchmark-модели! ==============================\n",
      "BEST ITERATION:  1000\n",
      "mape на обучающей выборке: 0.905\n",
      "mape на проверочной выборке: 1.232\n",
      "============================== Обучение target permutation-модели! ==============================\n",
      "BEST ITERATION:  1\n",
      "mape на обучающей выборке: 1.007\n",
      "mape на проверочной выборке: 1.006\n",
      "Модель:  lightboost \n",
      "\n",
      "10 признаков было до Target Permutation\n",
      "5 признаков после Target Permutation\n",
      "============================== Обучение benchmark-модели! ==============================\n",
      "mape на обучающей выборке: 2.231\n",
      "mape на проверочной выборке: 2.682\n",
      "============================== Обучение target permutation-модели! ==============================\n",
      "mape на обучающей выборке: 1.167\n",
      "mape на проверочной выборке: 1.641\n",
      "Модель:  decisiontree \n",
      "\n",
      "10 признаков было до Target Permutation\n",
      "4 признаков после Target Permutation\n",
      "============================== Обучение benchmark-модели! ==============================\n",
      "mape на обучающей выборке: 1.706\n",
      "mape на проверочной выборке: 1.863\n",
      "============================== Обучение target permutation-модели! ==============================\n",
      "mape на обучающей выборке: 1.112\n",
      "mape на проверочной выборке: 1.101\n",
      "Модель:  randomforest \n",
      "\n",
      "10 признаков было до Target Permutation\n",
      "3 признаков после Target Permutation\n",
      "CPU times: user 1min 47s, sys: 2.84 s, total: 1min 50s\n",
      "Wall time: 9.74 s\n"
     ]
    }
   ],
   "source": [
    "%%time\n",
    "features_dict_target_perm = dict()\n",
    "df_importance = dict()\n",
    "\n",
    "for i in range(len(params_list)):\n",
    "    estimator = utils_target_permutation.select_estimator('regression', models_list[i], params_list[i])\n",
    "    \n",
    "    model = TargetPermutationSelection(\n",
    "        main_estimator=estimator, \n",
    "        main_fit_params=fit_params_list[i],\n",
    "        main_prep_pipe=prep_pipe,\n",
    "        main_features=num_columns + cat_columns,\n",
    "        \n",
    "        X_train=sample[num_columns + cat_columns],\n",
    "        y_train=sample[target], \n",
    "        main_metric='mape',\n",
    "        model_type=models_list[i])\n",
    "    \n",
    "    model.calculate_permutation()\n",
    "    \n",
    "    print('Модель: ', models_list[i], '\\n')\n",
    "    features_dict_target_perm[models_list[i]] = model.select_features()\n",
    "    df_importance[models_list[i]] = model.df_fi_final"
   ]
  },
  {
   "cell_type": "code",
   "execution_count": 29,
   "id": "6e89782e",
   "metadata": {
    "jupyter": {
     "outputs_hidden": false
    },
    "pycharm": {
     "name": "#%%\n"
    }
   },
   "outputs": [
    {
     "data": {
      "text/plain": [
       "{'xgboost': ['G', 'E', 'J', 'A', 'B', 'C', 'D', 'H', 'F', 'I'],\n",
       " 'catboost': ['G', 'E', 'J', 'A'],\n",
       " 'lightboost': ['G', 'E', 'J', 'A', 'H'],\n",
       " 'decisiontree': ['G', 'F', 'H', 'J'],\n",
       " 'randomforest': ['G', 'E', 'J']}"
      ]
     },
     "execution_count": 29,
     "metadata": {},
     "output_type": "execute_result"
    }
   ],
   "source": [
    "features_dict_target_perm"
   ]
  },
  {
   "cell_type": "code",
   "execution_count": 30,
   "id": "2d33f7ff",
   "metadata": {
    "jupyter": {
     "outputs_hidden": false
    },
    "pycharm": {
     "name": "#%%\n"
    }
   },
   "outputs": [
    {
     "name": "stdout",
     "output_type": "stream",
     "text": [
      "{'J', 'G', 'E', 'A', 'H'}\n"
     ]
    }
   ],
   "source": [
    "print(utils_target_permutation.intersection_set(features_dict_target_perm , 3))"
   ]
  },
  {
   "cell_type": "code",
   "execution_count": 31,
   "id": "7753b293",
   "metadata": {
    "jupyter": {
     "outputs_hidden": false
    },
    "pycharm": {
     "name": "#%%\n"
    }
   },
   "outputs": [
    {
     "name": "stdout",
     "output_type": "stream",
     "text": [
      "Веса для первый фичи для каждой модели выбраны одинаковыми => все модели имеют одинаковый вес.\n",
      "Отобраны фичи, которые имеют скор больше среднего.\n",
      "Отобрано 4 фичей\n"
     ]
    },
    {
     "data": {
      "text/html": [
       "<div>\n",
       "<style scoped>\n",
       "    .dataframe tbody tr th:only-of-type {\n",
       "        vertical-align: middle;\n",
       "    }\n",
       "\n",
       "    .dataframe tbody tr th {\n",
       "        vertical-align: top;\n",
       "    }\n",
       "\n",
       "    .dataframe thead th {\n",
       "        text-align: right;\n",
       "    }\n",
       "</style>\n",
       "<table border=\"1\" class=\"dataframe\">\n",
       "  <thead>\n",
       "    <tr style=\"text-align: right;\">\n",
       "      <th></th>\n",
       "      <th>features</th>\n",
       "      <th>score</th>\n",
       "    </tr>\n",
       "  </thead>\n",
       "  <tbody>\n",
       "    <tr>\n",
       "      <th>3</th>\n",
       "      <td>G</td>\n",
       "      <td>100.00</td>\n",
       "    </tr>\n",
       "    <tr>\n",
       "      <th>1</th>\n",
       "      <td>J</td>\n",
       "      <td>79.38</td>\n",
       "    </tr>\n",
       "    <tr>\n",
       "      <th>4</th>\n",
       "      <td>E</td>\n",
       "      <td>72.00</td>\n",
       "    </tr>\n",
       "    <tr>\n",
       "      <th>5</th>\n",
       "      <td>A</td>\n",
       "      <td>43.74</td>\n",
       "    </tr>\n",
       "  </tbody>\n",
       "</table>\n",
       "</div>"
      ],
      "text/plain": [
       "  features   score\n",
       "3        G  100.00\n",
       "1        J   79.38\n",
       "4        E   72.00\n",
       "5        A   43.74"
      ]
     },
     "execution_count": 31,
     "metadata": {},
     "output_type": "execute_result"
    }
   ],
   "source": [
    "# отбор фичей при помощи взвешенной частоты фичей\n",
    "utils_target_permutation.aggregated_feature_selection(feat_dist = features_dict_target_perm, mean_score_select = True)"
   ]
  },
  {
   "cell_type": "code",
   "execution_count": 32,
   "id": "cec1699e",
   "metadata": {},
   "outputs": [
    {
     "name": "stdout",
     "output_type": "stream",
     "text": [
      "Веса для первый фичи для каждой модели выбраны одинаковыми => все модели имеют одинаковый вес.\n",
      "Отобрано 10 фичей\n"
     ]
    },
    {
     "data": {
      "text/html": [
       "<div>\n",
       "<style scoped>\n",
       "    .dataframe tbody tr th:only-of-type {\n",
       "        vertical-align: middle;\n",
       "    }\n",
       "\n",
       "    .dataframe tbody tr th {\n",
       "        vertical-align: top;\n",
       "    }\n",
       "\n",
       "    .dataframe thead th {\n",
       "        text-align: right;\n",
       "    }\n",
       "</style>\n",
       "<table border=\"1\" class=\"dataframe\">\n",
       "  <thead>\n",
       "    <tr style=\"text-align: right;\">\n",
       "      <th></th>\n",
       "      <th>features</th>\n",
       "      <th>score</th>\n",
       "    </tr>\n",
       "  </thead>\n",
       "  <tbody>\n",
       "    <tr>\n",
       "      <th>3</th>\n",
       "      <td>G</td>\n",
       "      <td>100.000000</td>\n",
       "    </tr>\n",
       "    <tr>\n",
       "      <th>1</th>\n",
       "      <td>J</td>\n",
       "      <td>79.380000</td>\n",
       "    </tr>\n",
       "    <tr>\n",
       "      <th>4</th>\n",
       "      <td>E</td>\n",
       "      <td>72.000000</td>\n",
       "    </tr>\n",
       "    <tr>\n",
       "      <th>5</th>\n",
       "      <td>A</td>\n",
       "      <td>43.740000</td>\n",
       "    </tr>\n",
       "    <tr>\n",
       "      <th>7</th>\n",
       "      <td>H</td>\n",
       "      <td>38.887938</td>\n",
       "    </tr>\n",
       "    <tr>\n",
       "      <th>9</th>\n",
       "      <td>F</td>\n",
       "      <td>26.609344</td>\n",
       "    </tr>\n",
       "    <tr>\n",
       "      <th>2</th>\n",
       "      <td>B</td>\n",
       "      <td>13.122000</td>\n",
       "    </tr>\n",
       "    <tr>\n",
       "      <th>0</th>\n",
       "      <td>C</td>\n",
       "      <td>11.809800</td>\n",
       "    </tr>\n",
       "    <tr>\n",
       "      <th>6</th>\n",
       "      <td>D</td>\n",
       "      <td>10.628820</td>\n",
       "    </tr>\n",
       "    <tr>\n",
       "      <th>8</th>\n",
       "      <td>I</td>\n",
       "      <td>7.748410</td>\n",
       "    </tr>\n",
       "  </tbody>\n",
       "</table>\n",
       "</div>"
      ],
      "text/plain": [
       "  features       score\n",
       "3        G  100.000000\n",
       "1        J   79.380000\n",
       "4        E   72.000000\n",
       "5        A   43.740000\n",
       "7        H   38.887938\n",
       "9        F   26.609344\n",
       "2        B   13.122000\n",
       "0        C   11.809800\n",
       "6        D   10.628820\n",
       "8        I    7.748410"
      ]
     },
     "execution_count": 32,
     "metadata": {},
     "output_type": "execute_result"
    }
   ],
   "source": [
    "utils_target_permutation.aggregated_feature_selection(feat_dist = features_dict_target_perm, mean_score_select = False)"
   ]
  },
  {
   "cell_type": "markdown",
   "id": "85e5c2fc",
   "metadata": {
    "pycharm": {
     "name": "#%% md\n"
    }
   },
   "source": [
    "## Демонстрация метода на данных Стоимость жилья"
   ]
  },
  {
   "cell_type": "code",
   "execution_count": 33,
   "id": "cb893136",
   "metadata": {
    "jupyter": {
     "outputs_hidden": false
    },
    "pycharm": {
     "name": "#%%\n"
    }
   },
   "outputs": [
    {
     "name": "stdout",
     "output_type": "stream",
     "text": [
      "Размерность данных: (1460, 81)\n"
     ]
    },
    {
     "data": {
      "text/html": [
       "<div>\n",
       "<style scoped>\n",
       "    .dataframe tbody tr th:only-of-type {\n",
       "        vertical-align: middle;\n",
       "    }\n",
       "\n",
       "    .dataframe tbody tr th {\n",
       "        vertical-align: top;\n",
       "    }\n",
       "\n",
       "    .dataframe thead th {\n",
       "        text-align: right;\n",
       "    }\n",
       "</style>\n",
       "<table border=\"1\" class=\"dataframe\">\n",
       "  <thead>\n",
       "    <tr style=\"text-align: right;\">\n",
       "      <th></th>\n",
       "      <th>Id</th>\n",
       "      <th>MSSubClass</th>\n",
       "      <th>MSZoning</th>\n",
       "      <th>LotFrontage</th>\n",
       "      <th>LotArea</th>\n",
       "      <th>Street</th>\n",
       "      <th>Alley</th>\n",
       "      <th>LotShape</th>\n",
       "      <th>LandContour</th>\n",
       "      <th>Utilities</th>\n",
       "      <th>...</th>\n",
       "      <th>PoolArea</th>\n",
       "      <th>PoolQC</th>\n",
       "      <th>Fence</th>\n",
       "      <th>MiscFeature</th>\n",
       "      <th>MiscVal</th>\n",
       "      <th>MoSold</th>\n",
       "      <th>YrSold</th>\n",
       "      <th>SaleType</th>\n",
       "      <th>SaleCondition</th>\n",
       "      <th>SalePrice</th>\n",
       "    </tr>\n",
       "  </thead>\n",
       "  <tbody>\n",
       "    <tr>\n",
       "      <th>0</th>\n",
       "      <td>1</td>\n",
       "      <td>60</td>\n",
       "      <td>RL</td>\n",
       "      <td>65.0</td>\n",
       "      <td>8450</td>\n",
       "      <td>Pave</td>\n",
       "      <td>NaN</td>\n",
       "      <td>Reg</td>\n",
       "      <td>Lvl</td>\n",
       "      <td>AllPub</td>\n",
       "      <td>...</td>\n",
       "      <td>0</td>\n",
       "      <td>NaN</td>\n",
       "      <td>NaN</td>\n",
       "      <td>NaN</td>\n",
       "      <td>0</td>\n",
       "      <td>2</td>\n",
       "      <td>2008</td>\n",
       "      <td>WD</td>\n",
       "      <td>Normal</td>\n",
       "      <td>208500</td>\n",
       "    </tr>\n",
       "    <tr>\n",
       "      <th>1</th>\n",
       "      <td>2</td>\n",
       "      <td>20</td>\n",
       "      <td>RL</td>\n",
       "      <td>80.0</td>\n",
       "      <td>9600</td>\n",
       "      <td>Pave</td>\n",
       "      <td>NaN</td>\n",
       "      <td>Reg</td>\n",
       "      <td>Lvl</td>\n",
       "      <td>AllPub</td>\n",
       "      <td>...</td>\n",
       "      <td>0</td>\n",
       "      <td>NaN</td>\n",
       "      <td>NaN</td>\n",
       "      <td>NaN</td>\n",
       "      <td>0</td>\n",
       "      <td>5</td>\n",
       "      <td>2007</td>\n",
       "      <td>WD</td>\n",
       "      <td>Normal</td>\n",
       "      <td>181500</td>\n",
       "    </tr>\n",
       "  </tbody>\n",
       "</table>\n",
       "<p>2 rows × 81 columns</p>\n",
       "</div>"
      ],
      "text/plain": [
       "   Id  MSSubClass MSZoning  LotFrontage  LotArea Street Alley LotShape  \\\n",
       "0   1          60       RL         65.0     8450   Pave   NaN      Reg   \n",
       "1   2          20       RL         80.0     9600   Pave   NaN      Reg   \n",
       "\n",
       "  LandContour Utilities  ... PoolArea PoolQC Fence MiscFeature MiscVal MoSold  \\\n",
       "0         Lvl    AllPub  ...        0    NaN   NaN         NaN       0      2   \n",
       "1         Lvl    AllPub  ...        0    NaN   NaN         NaN       0      5   \n",
       "\n",
       "  YrSold  SaleType  SaleCondition  SalePrice  \n",
       "0   2008        WD         Normal     208500  \n",
       "1   2007        WD         Normal     181500  \n",
       "\n",
       "[2 rows x 81 columns]"
      ]
     },
     "execution_count": 33,
     "metadata": {},
     "output_type": "execute_result"
    }
   ],
   "source": [
    "sample = pd.read_csv('../data/train_houseprice.csv')\n",
    "\n",
    "print('Размерность данных:', sample.shape)\n",
    "sample.head(2)"
   ]
  },
  {
   "cell_type": "code",
   "execution_count": 34,
   "id": "73653ac5",
   "metadata": {
    "jupyter": {
     "outputs_hidden": false
    },
    "pycharm": {
     "name": "#%%\n"
    }
   },
   "outputs": [],
   "source": [
    "num_columns = [\n",
    "    'LotArea', 'LotFrontage', 'TotalBsmtSF', 'PoolArea', 'FullBath'\n",
    "]\n",
    "\n",
    "cat_columns = [\n",
    "    'BldgType', 'CentralAir', 'GarageQual', 'Fence', 'SaleType'\n",
    "]\n",
    "\n",
    "target = ['SalePrice']\n",
    "\n",
    "prep_pipe = base_pipe(\n",
    "    num_columns=num_columns, \n",
    "    cat_columns=cat_columns)"
   ]
  },
  {
   "cell_type": "code",
   "execution_count": 35,
   "id": "f6962f0e",
   "metadata": {
    "pycharm": {
     "name": "#%%\n"
    },
    "scrolled": true,
    "tags": []
   },
   "outputs": [
    {
     "name": "stdout",
     "output_type": "stream",
     "text": [
      "============================== Обучение benchmark-модели! ==============================\n",
      "BEST ITERATION:  958\n",
      "mape на обучающей выборке: 0.084\n",
      "mape на проверочной выборке: 0.160\n",
      "============================== Обучение target permutation-модели! ==============================\n",
      "BEST ITERATION:  327\n",
      "mape на обучающей выборке: 0.255\n",
      "mape на проверочной выборке: 0.361\n",
      "Модель:  xgboost \n",
      "\n",
      "10 признаков было до Target Permutation\n",
      "10 признаков после Target Permutation\n",
      "============================== Обучение benchmark-модели! ==============================\n",
      "BEST ITERATION:  998\n",
      "mape на обучающей выборке: 0.225\n",
      "mape на проверочной выборке: 0.238\n",
      "============================== Обучение target permutation-модели! ==============================\n",
      "BEST ITERATION:  50\n",
      "mape на обучающей выборке: 0.286\n",
      "mape на проверочной выборке: 0.309\n",
      "Модель:  catboost \n",
      "\n",
      "10 признаков было до Target Permutation\n",
      "5 признаков после Target Permutation\n",
      "============================== Обучение benchmark-модели! ==============================\n",
      "BEST ITERATION:  419\n",
      "mape на обучающей выборке: 0.144\n",
      "mape на проверочной выборке: 0.164\n",
      "============================== Обучение target permutation-модели! ==============================\n",
      "BEST ITERATION:  3\n",
      "mape на обучающей выборке: 0.366\n",
      "mape на проверочной выборке: 0.333\n",
      "Модель:  lightboost \n",
      "\n",
      "10 признаков было до Target Permutation\n",
      "6 признаков после Target Permutation\n",
      "============================== Обучение benchmark-модели! ==============================\n",
      "mape на обучающей выборке: 0.167\n",
      "mape на проверочной выборке: 0.190\n",
      "============================== Обучение target permutation-модели! ==============================\n",
      "mape на обучающей выборке: 0.354\n",
      "mape на проверочной выборке: 0.357\n",
      "Модель:  decisiontree \n",
      "\n",
      "10 признаков было до Target Permutation\n",
      "8 признаков после Target Permutation\n",
      "============================== Обучение benchmark-модели! ==============================\n",
      "mape на обучающей выборке: 0.160\n",
      "mape на проверочной выборке: 0.172\n",
      "============================== Обучение target permutation-модели! ==============================\n",
      "mape на обучающей выборке: 0.336\n",
      "mape на проверочной выборке: 0.380\n",
      "Модель:  randomforest \n",
      "\n",
      "10 признаков было до Target Permutation\n",
      "9 признаков после Target Permutation\n",
      "CPU times: user 53.9 s, sys: 2.62 s, total: 56.5 s\n",
      "Wall time: 4.75 s\n"
     ]
    }
   ],
   "source": [
    "%%time\n",
    "features_dict_target_perm = dict()\n",
    "df_importance = dict()\n",
    "\n",
    "for i in range(len(params_list)):\n",
    "    estimator = utils_target_permutation.select_estimator('regression', models_list[i], params_list[i])\n",
    "    \n",
    "    model = TargetPermutationSelection(\n",
    "        main_estimator=estimator, \n",
    "        main_fit_params=fit_params_list[i],\n",
    "        main_prep_pipe=prep_pipe,\n",
    "        main_features=num_columns + cat_columns,\n",
    "        \n",
    "        X_train=sample[num_columns + cat_columns],\n",
    "        y_train=sample[target], \n",
    "        main_metric='mape',\n",
    "        model_type=models_list[i])\n",
    "    \n",
    "    model.calculate_permutation()\n",
    "    \n",
    "    print('Модель: ', models_list[i], '\\n')\n",
    "    features_dict_target_perm[models_list[i]] = model.select_features()\n",
    "    df_importance[models_list[i]] = model.df_fi_final"
   ]
  },
  {
   "cell_type": "code",
   "execution_count": 36,
   "id": "191c71ed",
   "metadata": {
    "pycharm": {
     "name": "#%%\n"
    },
    "scrolled": true,
    "tags": []
   },
   "outputs": [
    {
     "data": {
      "text/plain": [
       "{'xgboost': ['FullBath',\n",
       "  'TotalBsmtSF',\n",
       "  'SaleType',\n",
       "  'BldgType',\n",
       "  'CentralAir',\n",
       "  'GarageQual',\n",
       "  'PoolArea',\n",
       "  'LotArea',\n",
       "  'Fence',\n",
       "  'LotFrontage'],\n",
       " 'catboost': ['TotalBsmtSF', 'FullBath', 'LotArea', 'GarageQual', 'PoolArea'],\n",
       " 'lightboost': ['TotalBsmtSF',\n",
       "  'FullBath',\n",
       "  'LotArea',\n",
       "  'LotFrontage',\n",
       "  'SaleType',\n",
       "  'BldgType'],\n",
       " 'decisiontree': ['TotalBsmtSF',\n",
       "  'FullBath',\n",
       "  'BldgType',\n",
       "  'GarageQual',\n",
       "  'CentralAir',\n",
       "  'PoolArea',\n",
       "  'Fence',\n",
       "  'SaleType'],\n",
       " 'randomforest': ['TotalBsmtSF',\n",
       "  'FullBath',\n",
       "  'BldgType',\n",
       "  'CentralAir',\n",
       "  'PoolArea',\n",
       "  'GarageQual',\n",
       "  'Fence',\n",
       "  'LotFrontage',\n",
       "  'SaleType']}"
      ]
     },
     "execution_count": 36,
     "metadata": {},
     "output_type": "execute_result"
    }
   ],
   "source": [
    "features_dict_target_perm"
   ]
  },
  {
   "cell_type": "code",
   "execution_count": 37,
   "id": "62719a46",
   "metadata": {
    "jupyter": {
     "outputs_hidden": false
    },
    "pycharm": {
     "name": "#%%\n"
    }
   },
   "outputs": [
    {
     "name": "stdout",
     "output_type": "stream",
     "text": [
      "{'LotFrontage', 'PoolArea', 'SaleType', 'LotArea', 'BldgType', 'CentralAir', 'FullBath', 'Fence', 'GarageQual', 'TotalBsmtSF'}\n"
     ]
    }
   ],
   "source": [
    "print(utils_target_permutation.intersection_set(features_dict_target_perm))"
   ]
  },
  {
   "cell_type": "code",
   "execution_count": 38,
   "id": "fc82f313",
   "metadata": {
    "jupyter": {
     "outputs_hidden": false
    },
    "pycharm": {
     "name": "#%%\n"
    }
   },
   "outputs": [
    {
     "name": "stdout",
     "output_type": "stream",
     "text": [
      "Веса для первый фичи для каждой модели выбраны одинаковыми => все модели имеют одинаковый вес.\n",
      "Отобраны фичи, которые имеют скор больше среднего.\n",
      "Отобрано 3 фичей\n"
     ]
    },
    {
     "data": {
      "text/html": [
       "<div>\n",
       "<style scoped>\n",
       "    .dataframe tbody tr th:only-of-type {\n",
       "        vertical-align: middle;\n",
       "    }\n",
       "\n",
       "    .dataframe tbody tr th {\n",
       "        vertical-align: top;\n",
       "    }\n",
       "\n",
       "    .dataframe thead th {\n",
       "        text-align: right;\n",
       "    }\n",
       "</style>\n",
       "<table border=\"1\" class=\"dataframe\">\n",
       "  <thead>\n",
       "    <tr style=\"text-align: right;\">\n",
       "      <th></th>\n",
       "      <th>features</th>\n",
       "      <th>score</th>\n",
       "    </tr>\n",
       "  </thead>\n",
       "  <tbody>\n",
       "    <tr>\n",
       "      <th>9</th>\n",
       "      <td>TotalBsmtSF</td>\n",
       "      <td>98.0000</td>\n",
       "    </tr>\n",
       "    <tr>\n",
       "      <th>6</th>\n",
       "      <td>FullBath</td>\n",
       "      <td>92.0000</td>\n",
       "    </tr>\n",
       "    <tr>\n",
       "      <th>4</th>\n",
       "      <td>BldgType</td>\n",
       "      <td>58.7898</td>\n",
       "    </tr>\n",
       "  </tbody>\n",
       "</table>\n",
       "</div>"
      ],
      "text/plain": [
       "      features    score\n",
       "9  TotalBsmtSF  98.0000\n",
       "6     FullBath  92.0000\n",
       "4     BldgType  58.7898"
      ]
     },
     "execution_count": 38,
     "metadata": {},
     "output_type": "execute_result"
    }
   ],
   "source": [
    "# отбор фичей при помощи взвешенной частоты фичей\n",
    "utils_target_permutation.aggregated_feature_selection(feat_dist = features_dict_target_perm, mean_score_select = True)"
   ]
  },
  {
   "cell_type": "code",
   "execution_count": 39,
   "id": "c6422ddb",
   "metadata": {},
   "outputs": [
    {
     "name": "stdout",
     "output_type": "stream",
     "text": [
      "Веса для первый фичи для каждой модели выбраны одинаковыми => все модели имеют одинаковый вес.\n",
      "Отобрано 10 фичей\n"
     ]
    },
    {
     "data": {
      "text/html": [
       "<div>\n",
       "<style scoped>\n",
       "    .dataframe tbody tr th:only-of-type {\n",
       "        vertical-align: middle;\n",
       "    }\n",
       "\n",
       "    .dataframe tbody tr th {\n",
       "        vertical-align: top;\n",
       "    }\n",
       "\n",
       "    .dataframe thead th {\n",
       "        text-align: right;\n",
       "    }\n",
       "</style>\n",
       "<table border=\"1\" class=\"dataframe\">\n",
       "  <thead>\n",
       "    <tr style=\"text-align: right;\">\n",
       "      <th></th>\n",
       "      <th>features</th>\n",
       "      <th>score</th>\n",
       "    </tr>\n",
       "  </thead>\n",
       "  <tbody>\n",
       "    <tr>\n",
       "      <th>9</th>\n",
       "      <td>TotalBsmtSF</td>\n",
       "      <td>98.000000</td>\n",
       "    </tr>\n",
       "    <tr>\n",
       "      <th>6</th>\n",
       "      <td>FullBath</td>\n",
       "      <td>92.000000</td>\n",
       "    </tr>\n",
       "    <tr>\n",
       "      <th>4</th>\n",
       "      <td>BldgType</td>\n",
       "      <td>58.789800</td>\n",
       "    </tr>\n",
       "    <tr>\n",
       "      <th>8</th>\n",
       "      <td>GarageQual</td>\n",
       "      <td>52.779600</td>\n",
       "    </tr>\n",
       "    <tr>\n",
       "      <th>1</th>\n",
       "      <td>PoolArea</td>\n",
       "      <td>48.682620</td>\n",
       "    </tr>\n",
       "    <tr>\n",
       "      <th>2</th>\n",
       "      <td>SaleType</td>\n",
       "      <td>47.497282</td>\n",
       "    </tr>\n",
       "    <tr>\n",
       "      <th>3</th>\n",
       "      <td>LotArea</td>\n",
       "      <td>41.965938</td>\n",
       "    </tr>\n",
       "    <tr>\n",
       "      <th>5</th>\n",
       "      <td>CentralAir</td>\n",
       "      <td>40.824000</td>\n",
       "    </tr>\n",
       "    <tr>\n",
       "      <th>0</th>\n",
       "      <td>LotFrontage</td>\n",
       "      <td>31.894348</td>\n",
       "    </tr>\n",
       "    <tr>\n",
       "      <th>7</th>\n",
       "      <td>Fence</td>\n",
       "      <td>29.866984</td>\n",
       "    </tr>\n",
       "  </tbody>\n",
       "</table>\n",
       "</div>"
      ],
      "text/plain": [
       "      features      score\n",
       "9  TotalBsmtSF  98.000000\n",
       "6     FullBath  92.000000\n",
       "4     BldgType  58.789800\n",
       "8   GarageQual  52.779600\n",
       "1     PoolArea  48.682620\n",
       "2     SaleType  47.497282\n",
       "3      LotArea  41.965938\n",
       "5   CentralAir  40.824000\n",
       "0  LotFrontage  31.894348\n",
       "7        Fence  29.866984"
      ]
     },
     "execution_count": 39,
     "metadata": {},
     "output_type": "execute_result"
    }
   ],
   "source": [
    "utils_target_permutation.aggregated_feature_selection(feat_dist = features_dict_target_perm, mean_score_select = False)"
   ]
  },
  {
   "cell_type": "code",
   "execution_count": null,
   "id": "a976768b",
   "metadata": {},
   "outputs": [],
   "source": []
  },
  {
   "cell_type": "code",
   "execution_count": null,
   "id": "a0c3185d",
   "metadata": {},
   "outputs": [],
   "source": []
  },
  {
   "cell_type": "raw",
   "id": "169c56dd",
   "metadata": {},
   "source": []
  },
  {
   "cell_type": "raw",
   "id": "22fa5f64",
   "metadata": {},
   "source": []
  }
 ],
 "metadata": {
  "kernelspec": {
   "display_name": "Python 3",
   "language": "python",
   "name": "python3"
  },
  "language_info": {
   "codemirror_mode": {
    "name": "ipython",
    "version": 3
   },
   "file_extension": ".py",
   "mimetype": "text/x-python",
   "name": "python",
   "nbconvert_exporter": "python",
   "pygments_lexer": "ipython3",
   "version": "3.7.6"
  }
 },
 "nbformat": 4,
 "nbformat_minor": 5
}
