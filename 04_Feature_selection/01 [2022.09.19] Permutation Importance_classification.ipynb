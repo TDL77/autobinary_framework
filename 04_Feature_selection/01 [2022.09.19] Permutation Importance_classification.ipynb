{
 "cells": [
  {
   "cell_type": "markdown",
   "id": "071b44a2",
   "metadata": {},
   "source": [
    "# Демонстрация автоматического отбора признаков с помощью Permutation Importance"
   ]
  },
  {
   "cell_type": "markdown",
   "id": "2cf65e17",
   "metadata": {},
   "source": [
    "## Структура ноутбука:\n",
    "- Применение библиотеки Permutation Importance для задач классификации\n",
    "    * Проверка Permutation Importance на доступных алгоритмах\n",
    "    * Проверка всех библиотек Permutation Importance (sklearn, eli5, собственный kib) на CatBoostClassifier   "
   ]
  },
  {
   "cell_type": "code",
   "execution_count": 1,
   "id": "8c9f3758",
   "metadata": {},
   "outputs": [
    {
     "data": {
      "text/html": [
       "<style>.container {width:95% !important;}</style>"
      ],
      "text/plain": [
       "<IPython.core.display.HTML object>"
      ]
     },
     "metadata": {},
     "output_type": "display_data"
    }
   ],
   "source": [
    "# расширяем поле, убираем предупреждения\n",
    "from IPython.core.display import display, HTML\n",
    "display(HTML('<style>.container {width:95% !important;}</style>'))\n",
    "\n",
    "import warnings\n",
    "warnings.filterwarnings('ignore')"
   ]
  },
  {
   "cell_type": "code",
   "execution_count": 2,
   "id": "d31f0d2b",
   "metadata": {},
   "outputs": [],
   "source": [
    "# Стандартные библиотеки для анализа\n",
    "import pandas as pd\n",
    "\n",
    "from sklearn.model_selection import train_test_split, StratifiedKFold\n",
    "from sklearn.metrics import roc_auc_score, mean_absolute_percentage_error\n",
    "\n",
    "import matplotlib.pylab as pl"
   ]
  },
  {
   "cell_type": "code",
   "execution_count": 3,
   "id": "b6e0e68c",
   "metadata": {},
   "outputs": [],
   "source": [
    "import sys\n",
    "sys.path.append('../')\n",
    "\n",
    "# Наша разработанная библиотека\n",
    "from autobinary import SentColumns, CatBoostEncoder, PermutationSelection, base_pipe"
   ]
  },
  {
   "cell_type": "markdown",
   "id": "b48b0ee4",
   "metadata": {},
   "source": [
    "* sklearn:  0.24.2\n",
    "* xgboost:  1.5.2\n",
    "* matplotlib:  3.1.1\n",
    "* autobinary:  1.0.3"
   ]
  },
  {
   "cell_type": "code",
   "execution_count": 4,
   "id": "9577d6a6",
   "metadata": {},
   "outputs": [
    {
     "name": "stdout",
     "output_type": "stream",
     "text": [
      "sklearn:  0.24.2\n",
      "xgboost:  1.5.2\n",
      "matplotlib:  3.1.0\n",
      "autobinary:  1.0.4\n"
     ]
    }
   ],
   "source": [
    "import sklearn as sk\n",
    "import xgboost as xgb\n",
    "import matplotlib as mplot\n",
    "import autobinary as ab\n",
    "\n",
    "print('sklearn: ', sk.__version__)\n",
    "print('xgboost: ', xgb.__version__)\n",
    "print('matplotlib: ', mplot.__version__)\n",
    "print('autobinary: ', ab.__version__)"
   ]
  },
  {
   "cell_type": "code",
   "execution_count": 5,
   "id": "a26e9b32",
   "metadata": {},
   "outputs": [
    {
     "data": {
      "text/plain": [
       "'1.22.4'"
      ]
     },
     "execution_count": 5,
     "metadata": {},
     "output_type": "execute_result"
    }
   ],
   "source": [
    "import numpy as np\n",
    "np.__version__"
   ]
  },
  {
   "cell_type": "code",
   "execution_count": 6,
   "id": "4f9e946f",
   "metadata": {},
   "outputs": [
    {
     "data": {
      "text/plain": [
       "'1.8.1'"
      ]
     },
     "execution_count": 6,
     "metadata": {},
     "output_type": "execute_result"
    }
   ],
   "source": [
    "import scipy\n",
    "scipy.__version__"
   ]
  },
  {
   "cell_type": "code",
   "execution_count": 7,
   "id": "6e1c11ad",
   "metadata": {},
   "outputs": [],
   "source": [
    "# eli5==0.13.0"
   ]
  },
  {
   "cell_type": "code",
   "execution_count": 8,
   "id": "c851d408",
   "metadata": {},
   "outputs": [
    {
     "name": "stdout",
     "output_type": "stream",
     "text": [
      "Размерность данных: (891, 12)\n"
     ]
    },
    {
     "data": {
      "text/html": [
       "<div>\n",
       "<style scoped>\n",
       "    .dataframe tbody tr th:only-of-type {\n",
       "        vertical-align: middle;\n",
       "    }\n",
       "\n",
       "    .dataframe tbody tr th {\n",
       "        vertical-align: top;\n",
       "    }\n",
       "\n",
       "    .dataframe thead th {\n",
       "        text-align: right;\n",
       "    }\n",
       "</style>\n",
       "<table border=\"1\" class=\"dataframe\">\n",
       "  <thead>\n",
       "    <tr style=\"text-align: right;\">\n",
       "      <th></th>\n",
       "      <th>PassengerId</th>\n",
       "      <th>Survived</th>\n",
       "      <th>Pclass</th>\n",
       "      <th>Name</th>\n",
       "      <th>Sex</th>\n",
       "      <th>Age</th>\n",
       "      <th>SibSp</th>\n",
       "      <th>Parch</th>\n",
       "      <th>Ticket</th>\n",
       "      <th>Fare</th>\n",
       "      <th>Cabin</th>\n",
       "      <th>Embarked</th>\n",
       "    </tr>\n",
       "  </thead>\n",
       "  <tbody>\n",
       "    <tr>\n",
       "      <th>0</th>\n",
       "      <td>1</td>\n",
       "      <td>0</td>\n",
       "      <td>3</td>\n",
       "      <td>Braund, Mr. Owen Harris</td>\n",
       "      <td>male</td>\n",
       "      <td>22.0</td>\n",
       "      <td>1</td>\n",
       "      <td>0</td>\n",
       "      <td>A/5 21171</td>\n",
       "      <td>7.2500</td>\n",
       "      <td>NaN</td>\n",
       "      <td>S</td>\n",
       "    </tr>\n",
       "    <tr>\n",
       "      <th>1</th>\n",
       "      <td>2</td>\n",
       "      <td>1</td>\n",
       "      <td>1</td>\n",
       "      <td>Cumings, Mrs. John Bradley (Florence Briggs Th...</td>\n",
       "      <td>female</td>\n",
       "      <td>38.0</td>\n",
       "      <td>1</td>\n",
       "      <td>0</td>\n",
       "      <td>PC 17599</td>\n",
       "      <td>71.2833</td>\n",
       "      <td>C85</td>\n",
       "      <td>C</td>\n",
       "    </tr>\n",
       "  </tbody>\n",
       "</table>\n",
       "</div>"
      ],
      "text/plain": [
       "   PassengerId  Survived  Pclass  \\\n",
       "0            1         0       3   \n",
       "1            2         1       1   \n",
       "\n",
       "                                                Name     Sex   Age  SibSp  \\\n",
       "0                            Braund, Mr. Owen Harris    male  22.0      1   \n",
       "1  Cumings, Mrs. John Bradley (Florence Briggs Th...  female  38.0      1   \n",
       "\n",
       "   Parch     Ticket     Fare Cabin Embarked  \n",
       "0      0  A/5 21171   7.2500   NaN        S  \n",
       "1      0   PC 17599  71.2833   C85        C  "
      ]
     },
     "execution_count": 8,
     "metadata": {},
     "output_type": "execute_result"
    }
   ],
   "source": [
    "sample = pd.read_csv('../data/train_titanic.csv')\n",
    "\n",
    "print('Размерность данных:', sample.shape)\n",
    "sample.head(2)"
   ]
  },
  {
   "cell_type": "code",
   "execution_count": 9,
   "id": "765c4f3d",
   "metadata": {},
   "outputs": [],
   "source": [
    "num_columns = [\n",
    "    'Age', 'Fare'\n",
    "]\n",
    "\n",
    "cat_columns = [\n",
    "    'Pclass', 'Sex', 'Embarked', 'SibSp', 'Parch'\n",
    "]\n",
    "\n",
    "features = num_columns+cat_columns\n",
    "\n",
    "target = ['Survived']"
   ]
  },
  {
   "cell_type": "code",
   "execution_count": 10,
   "id": "7913553e",
   "metadata": {},
   "outputs": [],
   "source": [
    "X_train, X_valid, y_train, y_valid = train_test_split(\n",
    "    sample[features],\n",
    "    sample[target],\n",
    "    test_size=0.3,\n",
    "    stratify=sample[target],\n",
    "    random_state=42\n",
    ")"
   ]
  },
  {
   "cell_type": "code",
   "execution_count": 11,
   "id": "8191adc4",
   "metadata": {},
   "outputs": [],
   "source": [
    "prep_pipe = base_pipe(\n",
    "    num_columns=num_columns, \n",
    "    cat_columns=cat_columns, \n",
    "    kind='all')"
   ]
  },
  {
   "cell_type": "code",
   "execution_count": 12,
   "id": "c3e71665",
   "metadata": {},
   "outputs": [],
   "source": [
    "prep_pipe.fit(X_train, y_train)\n",
    "\n",
    "new_X_train = prep_pipe.transform(X_train)\n",
    "new_X_valid = prep_pipe.transform(X_valid)"
   ]
  },
  {
   "cell_type": "markdown",
   "id": "92645b4f",
   "metadata": {},
   "source": [
    "# 1. Использование библиотеки Auto Permutation"
   ]
  },
  {
   "cell_type": "markdown",
   "id": "11090c88",
   "metadata": {},
   "source": [
    "#### Проверка на нескольких моделях \n",
    "\n",
    "* Для выбора оптимального алгоритма, можно запустить метод на различных моделях бустинга, деревьев. Задаются словари параметров, листы со словарями и названием моделей. "
   ]
  },
  {
   "cell_type": "code",
   "execution_count": 13,
   "id": "202a4a22",
   "metadata": {},
   "outputs": [],
   "source": [
    "# Определение стандартных гиперпараметров моделей и список моделей\n",
    "\n",
    "params_xgb = {'eta':0.01,\n",
    "              'n_estimators':500,\n",
    "              'subsample':0.9,\n",
    "              'max_depth':6,\n",
    "              'objective':'binary:logistic',\n",
    "              'n_jobs':-1,\n",
    "              'random_state':42,\n",
    "              'eval_metric':'logloss'}\n",
    "\n",
    "params_ctb = {'learning_rate':0.01,\n",
    "              'iterations':500,\n",
    "              'subsample':0.9,\n",
    "              'depth':6,\n",
    "              'loss_function':'Logloss',\n",
    "              'thread_count':-1,\n",
    "              'random_state':42,\n",
    "              'verbose':0}\n",
    "\n",
    "params_lgb = {'learning_rate':0.01,\n",
    "              'n_estimators':500,\n",
    "              'subsample':0.9,\n",
    "              'max_depth':6,\n",
    "              'objective':'binary',\n",
    "              'metric':'binary_logloss',\n",
    "              'n_jobs':-1,\n",
    "              'random_state':42,\n",
    "              'verbose':-1}\n",
    "\n",
    "params_dt = {'criterion':'gini',\n",
    "             'max_depth':6,\n",
    "             'random_state':42}\n",
    "\n",
    "params_rf = {'criterion':'gini',\n",
    "             'max_depth':6,\n",
    "             'random_state':42,\n",
    "             'n_estimators':500}\n",
    "\n",
    "params_list = [params_xgb, \n",
    "               params_ctb, \n",
    "               params_lgb, \n",
    "               params_dt, \n",
    "               params_rf\n",
    "              ]\n",
    "\n",
    "models_list = ['xgboost', \n",
    "               'catboost', \n",
    "               'lightboost', \n",
    "               'decisiontree', \n",
    "               'randomforest'\n",
    "              ] "
   ]
  },
  {
   "cell_type": "markdown",
   "id": "2fa317e9",
   "metadata": {},
   "source": [
    "### 1.1. Определяем класс PermutationSelection, куда передаем список из словарей параметров, список моделей, а также задаем тип задачи: \"classification\"/\"multiclassification\"/\"regression\"\n",
    "\n",
    "* Далее запускаем метод обучения fit, куда передаем тренировочное множество (фолд из тренировочного множества, при больших выборках), и целевую переменную.\n",
    "\n",
    "\n",
    "* Далее запускае метод calculate_permutation. Это основной метод для расчета метрик при перемешивании факторов. В метод передается тестовое множество (независимый фолд из тренировочного множества, при больших выборках), целевую переменную для тестового множества, количество перемешиваний фактора, способ Permutation Importance (\"eli5\"/\"sklearn\"/\"kib\"). Для более подробного описания метода, можно вызвать функцию shift+tab\n",
    "\n",
    "\n",
    "* Все запускается циклом, для отбора более быстрого оптимального алгоритма.\n",
    "    * Запуск требуется по желанию, если есть независимые фолды маленьких размеров.\n",
    "    * Данный цикл является примером работы на всех доступных алгоритмах."
   ]
  },
  {
   "cell_type": "code",
   "execution_count": 14,
   "id": "348a10fe",
   "metadata": {
    "scrolled": true
   },
   "outputs": [
    {
     "name": "stdout",
     "output_type": "stream",
     "text": [
      "Расчет Permutation Importance на Train\n"
     ]
    },
    {
     "name": "stderr",
     "output_type": "stream",
     "text": [
      "100%|████████████████████████████████████████████| 8/8 [00:00<00:00, 312.12it/s]\n"
     ]
    },
    {
     "name": "stdout",
     "output_type": "stream",
     "text": [
      "Расчет Permutation Importance на Test\n"
     ]
    },
    {
     "name": "stderr",
     "output_type": "stream",
     "text": [
      "100%|███████████████████████████████████████████| 8/8 [00:00<00:00, 4326.81it/s]\n"
     ]
    },
    {
     "name": "stdout",
     "output_type": "stream",
     "text": [
      "Модель:  xgboost \n",
      "\n",
      "8 признаков было до Permutation Importance \n",
      "\n",
      "4 признаков после Permutation Importance от kib\n",
      "\n",
      "Расчет Permutation Importance на Train\n"
     ]
    },
    {
     "name": "stderr",
     "output_type": "stream",
     "text": [
      "100%|███████████████████████████████████████████| 8/8 [00:00<00:00, 7253.44it/s]\n"
     ]
    },
    {
     "name": "stdout",
     "output_type": "stream",
     "text": [
      "Расчет Permutation Importance на Test\n"
     ]
    },
    {
     "name": "stderr",
     "output_type": "stream",
     "text": [
      "100%|███████████████████████████████████████████| 8/8 [00:00<00:00, 5308.41it/s]\n"
     ]
    },
    {
     "name": "stdout",
     "output_type": "stream",
     "text": [
      "Модель:  catboost \n",
      "\n",
      "8 признаков было до Permutation Importance \n",
      "\n",
      "5 признаков после Permutation Importance от kib\n",
      "\n",
      "Расчет Permutation Importance на Train\n"
     ]
    },
    {
     "name": "stderr",
     "output_type": "stream",
     "text": [
      "100%|███████████████████████████████████████████| 8/8 [00:00<00:00, 5024.62it/s]\n"
     ]
    },
    {
     "name": "stdout",
     "output_type": "stream",
     "text": [
      "Расчет Permutation Importance на Test\n"
     ]
    },
    {
     "name": "stderr",
     "output_type": "stream",
     "text": [
      "100%|██████████████████████████████████████████| 8/8 [00:00<00:00, 12386.28it/s]\n"
     ]
    },
    {
     "name": "stdout",
     "output_type": "stream",
     "text": [
      "Модель:  lightboost \n",
      "\n",
      "8 признаков было до Permutation Importance \n",
      "\n",
      "4 признаков после Permutation Importance от kib\n",
      "\n",
      "Расчет Permutation Importance на Train\n"
     ]
    },
    {
     "name": "stderr",
     "output_type": "stream",
     "text": [
      "100%|██████████████████████████████████████████| 8/8 [00:00<00:00, 19373.23it/s]\n"
     ]
    },
    {
     "name": "stdout",
     "output_type": "stream",
     "text": [
      "Расчет Permutation Importance на Test\n"
     ]
    },
    {
     "name": "stderr",
     "output_type": "stream",
     "text": [
      "100%|███████████████████████████████████████████| 8/8 [00:00<00:00, 9915.61it/s]"
     ]
    },
    {
     "name": "stdout",
     "output_type": "stream",
     "text": [
      "Модель:  decisiontree \n",
      "\n",
      "8 признаков было до Permutation Importance \n",
      "\n",
      "6 признаков после Permutation Importance от kib\n",
      "\n"
     ]
    },
    {
     "name": "stderr",
     "output_type": "stream",
     "text": [
      "\n"
     ]
    },
    {
     "name": "stdout",
     "output_type": "stream",
     "text": [
      "Расчет Permutation Importance на Train\n"
     ]
    },
    {
     "name": "stderr",
     "output_type": "stream",
     "text": [
      "100%|███████████████████████████████████████████| 8/8 [00:00<00:00, 4728.64it/s]\n"
     ]
    },
    {
     "name": "stdout",
     "output_type": "stream",
     "text": [
      "Расчет Permutation Importance на Test\n"
     ]
    },
    {
     "name": "stderr",
     "output_type": "stream",
     "text": [
      "100%|███████████████████████████████████████████| 8/8 [00:00<00:00, 7086.47it/s]\n"
     ]
    },
    {
     "name": "stdout",
     "output_type": "stream",
     "text": [
      "Модель:  randomforest \n",
      "\n",
      "8 признаков было до Permutation Importance \n",
      "\n",
      "6 признаков после Permutation Importance от kib\n",
      "\n"
     ]
    }
   ],
   "source": [
    "# Применение самописной библиотеки Permutation Importance (kib)\n",
    "\n",
    "features_dict=dict()\n",
    "\n",
    "for i in range(len(params_list)):\n",
    "    \n",
    "    perm_imp = PermutationSelection(\n",
    "        model_type=models_list[i], \n",
    "        model_params=params_list[i], \n",
    "        task_type='classification')\n",
    "    \n",
    "    perm_imp.fit(\n",
    "        X_train=new_X_train,\n",
    "        y_train=y_train)\n",
    "    \n",
    "    perm_imp.calculate_permutation(\n",
    "        X_test=new_X_valid, \n",
    "        y_test=y_valid,\n",
    "        n_iter=5,\n",
    "        permute_type='kib',\n",
    "        n_jobs=-1,\n",
    "        metric=roc_auc_score,\n",
    "        higher_is_better=True)\n",
    "    \n",
    "    print('Модель: ', models_list[i],'\\n')\n",
    "    features_dict[models_list[i]] = perm_imp.select_features()\n",
    "    print()"
   ]
  },
  {
   "cell_type": "markdown",
   "id": "8f28f01d",
   "metadata": {},
   "source": [
    "* После обучения моделей получаем словари факторов для каждого из алгоритмов. Также можно отследить скорость обучения и выбрать подходящий для нас алгоритм"
   ]
  },
  {
   "cell_type": "code",
   "execution_count": 15,
   "id": "fd769dce",
   "metadata": {},
   "outputs": [
    {
     "data": {
      "text/plain": [
       "{'xgboost': ['Sex', 'Pclass', 'Age', 'Fare'],\n",
       " 'catboost': ['Sex', 'Pclass', 'Age', 'Fare', 'Parch'],\n",
       " 'lightboost': ['Sex', 'Pclass', 'Age', 'Parch'],\n",
       " 'decisiontree': ['Sex', 'Pclass', 'Fare', 'Age', 'Parch', 'SibSp'],\n",
       " 'randomforest': ['Sex', 'Pclass', 'Age', 'Parch', 'Fare', 'Embarked']}"
      ]
     },
     "execution_count": 15,
     "metadata": {},
     "output_type": "execute_result"
    }
   ],
   "source": [
    "features_dict"
   ]
  },
  {
   "cell_type": "markdown",
   "id": "8e19a38a",
   "metadata": {},
   "source": [
    "* После анализа цикла, выбираем лучший алгоритм относительно скорость / качество. В нашем случае выбор выберем catboost и покажем на его примере."
   ]
  },
  {
   "cell_type": "markdown",
   "id": "359f1968",
   "metadata": {},
   "source": [
    "## 2. Отбор признаков с помощью углубления древовидных алгоритмов"
   ]
  },
  {
   "cell_type": "markdown",
   "id": "35c8b8e5",
   "metadata": {},
   "source": [
    "### 2.1. Задаем класс PermutationSelection. Передаем выборанный нами алгоритм, словарь параметров алгоритмы, а также тип решаемой задачи (покажем на примере catboost)"
   ]
  },
  {
   "cell_type": "code",
   "execution_count": 16,
   "id": "3d87ba3a",
   "metadata": {},
   "outputs": [
    {
     "data": {
      "text/plain": [
       "'catboost'"
      ]
     },
     "execution_count": 16,
     "metadata": {},
     "output_type": "execute_result"
    }
   ],
   "source": [
    "models_list[1]"
   ]
  },
  {
   "cell_type": "code",
   "execution_count": 17,
   "id": "4424579c",
   "metadata": {},
   "outputs": [
    {
     "data": {
      "text/plain": [
       "{'learning_rate': 0.01,\n",
       " 'iterations': 500,\n",
       " 'subsample': 0.9,\n",
       " 'depth': 6,\n",
       " 'loss_function': 'Logloss',\n",
       " 'thread_count': -1,\n",
       " 'random_state': 42,\n",
       " 'verbose': 0}"
      ]
     },
     "execution_count": 17,
     "metadata": {},
     "output_type": "execute_result"
    }
   ],
   "source": [
    "params_list[1]"
   ]
  },
  {
   "cell_type": "code",
   "execution_count": 18,
   "id": "dfedce03",
   "metadata": {},
   "outputs": [],
   "source": [
    "perm_imp = PermutationSelection(\n",
    "    model_type=models_list[1], \n",
    "    model_params=params_list[1], \n",
    "    task_type='classification')"
   ]
  },
  {
   "cell_type": "markdown",
   "id": "866e17ca",
   "metadata": {},
   "source": [
    "### 2.2. Метод depth_analysis используется для отбора факторов относительно глубины алгоритма.\n",
    "\n",
    "* В параметры передаются тренировочная выборка (фолд из тренировочной выборки), целевая переменная, список факторов и максимальная глубина до которой будут расчитываться важности признаков.\n",
    "\n",
    "\n",
    "* На выходе мы получаем таблицу из факторов отсортированных по важности, таблицу из факторов отрсортированных по рангу признака, список факторов из отсортированных по важности, список факторов из отсортированных по рангу.\n",
    "\n",
    "\n",
    "    * Аргоритм отбора относительно глубины: модель обучается на всех факторах в цикле с глубиной от 1 до максимально указанной. Далее выводятся важности по каждому признаку в каждой глубине. После чего значение усредняется по каждому признаку и сортируется по убыванию.\n",
    "    \n",
    "    * Алгоритм отбора относительно ранга в глубине: аналогично предыдущему, только при каждом значении глубины отбираются признаки со значением важности >0, по ним расставляются ранговые значения, и расчитывается среднее внутри каждой глубины. После чего ранги усредняются относительно глубин и сортируются по убыванию."
   ]
  },
  {
   "cell_type": "code",
   "execution_count": 19,
   "id": "1a2e6fa1",
   "metadata": {},
   "outputs": [
    {
     "data": {
      "application/vnd.jupyter.widget-view+json": {
       "model_id": "b16af79aba4e47cd9e7527d7fbb61006",
       "version_major": 2,
       "version_minor": 0
      },
      "text/plain": [
       "  0%|          | 0/5 [00:00<?, ?it/s]"
      ]
     },
     "metadata": {},
     "output_type": "display_data"
    },
    {
     "name": "stdout",
     "output_type": "stream",
     "text": [
      "Количество признаков до отбора: 7\n",
      "==================================================\n",
      "Количество признаков после mean importance относительно глубины: 7\n",
      "Количество признаков после mean rank относительно глубины: 7\n"
     ]
    }
   ],
   "source": [
    "fi, fi_rank, depth_features, rank_features = perm_imp.depth_analysis(\n",
    "    new_X_train, \n",
    "    y_train, \n",
    "    features,\n",
    "    5)"
   ]
  },
  {
   "cell_type": "code",
   "execution_count": 20,
   "id": "f8323587",
   "metadata": {},
   "outputs": [
    {
     "data": {
      "text/html": [
       "<div>\n",
       "<style scoped>\n",
       "    .dataframe tbody tr th:only-of-type {\n",
       "        vertical-align: middle;\n",
       "    }\n",
       "\n",
       "    .dataframe tbody tr th {\n",
       "        vertical-align: top;\n",
       "    }\n",
       "\n",
       "    .dataframe thead th {\n",
       "        text-align: right;\n",
       "    }\n",
       "</style>\n",
       "<table border=\"1\" class=\"dataframe\">\n",
       "  <thead>\n",
       "    <tr style=\"text-align: right;\">\n",
       "      <th></th>\n",
       "      <th>importance_depth_1</th>\n",
       "      <th>importance_depth_2</th>\n",
       "      <th>importance_depth_3</th>\n",
       "      <th>importance_depth_4</th>\n",
       "      <th>importance_depth_5</th>\n",
       "      <th>mean_importance</th>\n",
       "      <th>mean_rank</th>\n",
       "    </tr>\n",
       "  </thead>\n",
       "  <tbody>\n",
       "    <tr>\n",
       "      <th>Sex</th>\n",
       "      <td>69.132379</td>\n",
       "      <td>54.531447</td>\n",
       "      <td>46.890808</td>\n",
       "      <td>41.767536</td>\n",
       "      <td>39.064884</td>\n",
       "      <td>50.277411</td>\n",
       "      <td>0.250000</td>\n",
       "    </tr>\n",
       "    <tr>\n",
       "      <th>Pclass</th>\n",
       "      <td>17.312772</td>\n",
       "      <td>19.878804</td>\n",
       "      <td>19.535158</td>\n",
       "      <td>18.840982</td>\n",
       "      <td>17.355804</td>\n",
       "      <td>18.584704</td>\n",
       "      <td>0.214286</td>\n",
       "    </tr>\n",
       "    <tr>\n",
       "      <th>Fare</th>\n",
       "      <td>8.416001</td>\n",
       "      <td>11.404890</td>\n",
       "      <td>10.649492</td>\n",
       "      <td>11.394727</td>\n",
       "      <td>12.570966</td>\n",
       "      <td>10.887215</td>\n",
       "      <td>0.164286</td>\n",
       "    </tr>\n",
       "    <tr>\n",
       "      <th>Age</th>\n",
       "      <td>0.457816</td>\n",
       "      <td>5.048347</td>\n",
       "      <td>10.250971</td>\n",
       "      <td>12.661793</td>\n",
       "      <td>12.940829</td>\n",
       "      <td>8.271951</td>\n",
       "      <td>0.135714</td>\n",
       "    </tr>\n",
       "    <tr>\n",
       "      <th>SibSp</th>\n",
       "      <td>2.470971</td>\n",
       "      <td>4.807983</td>\n",
       "      <td>6.260858</td>\n",
       "      <td>6.349496</td>\n",
       "      <td>6.757650</td>\n",
       "      <td>5.329392</td>\n",
       "      <td>0.107143</td>\n",
       "    </tr>\n",
       "    <tr>\n",
       "      <th>Parch</th>\n",
       "      <td>1.066115</td>\n",
       "      <td>2.753890</td>\n",
       "      <td>4.295561</td>\n",
       "      <td>6.093492</td>\n",
       "      <td>7.507391</td>\n",
       "      <td>4.343290</td>\n",
       "      <td>0.078571</td>\n",
       "    </tr>\n",
       "    <tr>\n",
       "      <th>Embarked</th>\n",
       "      <td>1.143946</td>\n",
       "      <td>1.574639</td>\n",
       "      <td>2.117151</td>\n",
       "      <td>2.891973</td>\n",
       "      <td>3.802475</td>\n",
       "      <td>2.306037</td>\n",
       "      <td>0.050000</td>\n",
       "    </tr>\n",
       "  </tbody>\n",
       "</table>\n",
       "</div>"
      ],
      "text/plain": [
       "          importance_depth_1  importance_depth_2  importance_depth_3  \\\n",
       "Sex                69.132379           54.531447           46.890808   \n",
       "Pclass             17.312772           19.878804           19.535158   \n",
       "Fare                8.416001           11.404890           10.649492   \n",
       "Age                 0.457816            5.048347           10.250971   \n",
       "SibSp               2.470971            4.807983            6.260858   \n",
       "Parch               1.066115            2.753890            4.295561   \n",
       "Embarked            1.143946            1.574639            2.117151   \n",
       "\n",
       "          importance_depth_4  importance_depth_5  mean_importance  mean_rank  \n",
       "Sex                41.767536           39.064884        50.277411   0.250000  \n",
       "Pclass             18.840982           17.355804        18.584704   0.214286  \n",
       "Fare               11.394727           12.570966        10.887215   0.164286  \n",
       "Age                12.661793           12.940829         8.271951   0.135714  \n",
       "SibSp               6.349496            6.757650         5.329392   0.107143  \n",
       "Parch               6.093492            7.507391         4.343290   0.078571  \n",
       "Embarked            2.891973            3.802475         2.306037   0.050000  "
      ]
     },
     "execution_count": 20,
     "metadata": {},
     "output_type": "execute_result"
    }
   ],
   "source": [
    "# Таблица важностей признаков относительно глубины\n",
    "\n",
    "fi"
   ]
  },
  {
   "cell_type": "code",
   "execution_count": 21,
   "id": "9563461c",
   "metadata": {},
   "outputs": [
    {
     "data": {
      "text/html": [
       "<div>\n",
       "<style scoped>\n",
       "    .dataframe tbody tr th:only-of-type {\n",
       "        vertical-align: middle;\n",
       "    }\n",
       "\n",
       "    .dataframe tbody tr th {\n",
       "        vertical-align: top;\n",
       "    }\n",
       "\n",
       "    .dataframe thead th {\n",
       "        text-align: right;\n",
       "    }\n",
       "</style>\n",
       "<table border=\"1\" class=\"dataframe\">\n",
       "  <thead>\n",
       "    <tr style=\"text-align: right;\">\n",
       "      <th></th>\n",
       "      <th>rank_depth_1</th>\n",
       "      <th>rank_depth_2</th>\n",
       "      <th>rank_depth_3</th>\n",
       "      <th>rank_depth_4</th>\n",
       "      <th>rank_depth_5</th>\n",
       "      <th>mean_rank</th>\n",
       "    </tr>\n",
       "    <tr>\n",
       "      <th>index</th>\n",
       "      <th></th>\n",
       "      <th></th>\n",
       "      <th></th>\n",
       "      <th></th>\n",
       "      <th></th>\n",
       "      <th></th>\n",
       "    </tr>\n",
       "  </thead>\n",
       "  <tbody>\n",
       "    <tr>\n",
       "      <th>Sex</th>\n",
       "      <td>0.250000</td>\n",
       "      <td>0.250000</td>\n",
       "      <td>0.250000</td>\n",
       "      <td>0.250000</td>\n",
       "      <td>0.250000</td>\n",
       "      <td>0.250000</td>\n",
       "    </tr>\n",
       "    <tr>\n",
       "      <th>Pclass</th>\n",
       "      <td>0.214286</td>\n",
       "      <td>0.214286</td>\n",
       "      <td>0.214286</td>\n",
       "      <td>0.214286</td>\n",
       "      <td>0.214286</td>\n",
       "      <td>0.214286</td>\n",
       "    </tr>\n",
       "    <tr>\n",
       "      <th>Fare</th>\n",
       "      <td>0.178571</td>\n",
       "      <td>0.178571</td>\n",
       "      <td>0.178571</td>\n",
       "      <td>0.142857</td>\n",
       "      <td>0.142857</td>\n",
       "      <td>0.164286</td>\n",
       "    </tr>\n",
       "    <tr>\n",
       "      <th>Age</th>\n",
       "      <td>0.035714</td>\n",
       "      <td>0.142857</td>\n",
       "      <td>0.142857</td>\n",
       "      <td>0.178571</td>\n",
       "      <td>0.178571</td>\n",
       "      <td>0.135714</td>\n",
       "    </tr>\n",
       "    <tr>\n",
       "      <th>SibSp</th>\n",
       "      <td>0.142857</td>\n",
       "      <td>0.107143</td>\n",
       "      <td>0.107143</td>\n",
       "      <td>0.107143</td>\n",
       "      <td>0.071429</td>\n",
       "      <td>0.107143</td>\n",
       "    </tr>\n",
       "    <tr>\n",
       "      <th>Parch</th>\n",
       "      <td>0.071429</td>\n",
       "      <td>0.071429</td>\n",
       "      <td>0.071429</td>\n",
       "      <td>0.071429</td>\n",
       "      <td>0.107143</td>\n",
       "      <td>0.078571</td>\n",
       "    </tr>\n",
       "    <tr>\n",
       "      <th>Embarked</th>\n",
       "      <td>0.107143</td>\n",
       "      <td>0.035714</td>\n",
       "      <td>0.035714</td>\n",
       "      <td>0.035714</td>\n",
       "      <td>0.035714</td>\n",
       "      <td>0.050000</td>\n",
       "    </tr>\n",
       "  </tbody>\n",
       "</table>\n",
       "</div>"
      ],
      "text/plain": [
       "          rank_depth_1  rank_depth_2  rank_depth_3  rank_depth_4  \\\n",
       "index                                                              \n",
       "Sex           0.250000      0.250000      0.250000      0.250000   \n",
       "Pclass        0.214286      0.214286      0.214286      0.214286   \n",
       "Fare          0.178571      0.178571      0.178571      0.142857   \n",
       "Age           0.035714      0.142857      0.142857      0.178571   \n",
       "SibSp         0.142857      0.107143      0.107143      0.107143   \n",
       "Parch         0.071429      0.071429      0.071429      0.071429   \n",
       "Embarked      0.107143      0.035714      0.035714      0.035714   \n",
       "\n",
       "          rank_depth_5  mean_rank  \n",
       "index                              \n",
       "Sex           0.250000   0.250000  \n",
       "Pclass        0.214286   0.214286  \n",
       "Fare          0.142857   0.164286  \n",
       "Age           0.178571   0.135714  \n",
       "SibSp         0.071429   0.107143  \n",
       "Parch         0.107143   0.078571  \n",
       "Embarked      0.035714   0.050000  "
      ]
     },
     "execution_count": 21,
     "metadata": {},
     "output_type": "execute_result"
    }
   ],
   "source": [
    "# Таблица рангов признаков относительно глубины\n",
    "\n",
    "fi_rank"
   ]
  },
  {
   "cell_type": "code",
   "execution_count": 22,
   "id": "8af7170a",
   "metadata": {},
   "outputs": [],
   "source": [
    "# Обновляем признаки после отбора по важностям или рангу относительно глубины\n",
    "\n",
    "new_num_columns = list(filter(lambda x: x in num_columns, depth_features))\n",
    "new_cat_columns = list(filter(lambda x: x in cat_columns, depth_features))"
   ]
  },
  {
   "cell_type": "markdown",
   "id": "1bd3661f",
   "metadata": {},
   "source": [
    "# 3. Проверка Permutation Importance на одной модели с разными алгоритмами sklearn, eli5, собственный код (kib)\n",
    "\n",
    "    * Код является примером. Не обязательно использовать все три способа. Необходимо отталкиваться от размера выборки и типа задачи (классификация, мультикласс, регрессия). Для задач классификации наиболее оптимальными являются eli5 / kib. Для задач регрессии kib / sklearn.\n",
    "    \n",
    "    * Для начала применяем конвеер трансформации категориальных и численных признаков, после чего обучаем алгоритм при наших ранее заданных параметрах."
   ]
  },
  {
   "cell_type": "code",
   "execution_count": 23,
   "id": "fd6ddef0",
   "metadata": {},
   "outputs": [
    {
     "name": "stdout",
     "output_type": "stream",
     "text": [
      "CPU times: user 3.6 s, sys: 136 ms, total: 3.73 s\n",
      "Wall time: 373 ms\n"
     ]
    }
   ],
   "source": [
    "%%time\n",
    "\n",
    "prep_pipe = base_pipe(\n",
    "    num_columns=new_num_columns, \n",
    "    cat_columns=new_cat_columns, \n",
    "    kind='all')\n",
    "\n",
    "prep_pipe.fit(X_train[depth_features], y_train)\n",
    "\n",
    "new_X_train = prep_pipe.transform(X_train[depth_features])\n",
    "new_X_valid = prep_pipe.transform(X_valid[depth_features])\n",
    "\n",
    "perm_imp.fit(\n",
    "    X_train=new_X_train,\n",
    "    y_train=y_train)"
   ]
  },
  {
   "cell_type": "markdown",
   "id": "fe57431b",
   "metadata": {},
   "source": [
    "### 3.1 От Sklearn"
   ]
  },
  {
   "cell_type": "code",
   "execution_count": 24,
   "id": "dc46d647",
   "metadata": {},
   "outputs": [
    {
     "name": "stdout",
     "output_type": "stream",
     "text": [
      "CPU times: user 38.9 ms, sys: 5.87 ms, total: 44.8 ms\n",
      "Wall time: 125 ms\n"
     ]
    },
    {
     "data": {
      "text/html": [
       "<div>\n",
       "<style scoped>\n",
       "    .dataframe tbody tr th:only-of-type {\n",
       "        vertical-align: middle;\n",
       "    }\n",
       "\n",
       "    .dataframe tbody tr th {\n",
       "        vertical-align: top;\n",
       "    }\n",
       "\n",
       "    .dataframe thead th {\n",
       "        text-align: right;\n",
       "    }\n",
       "</style>\n",
       "<table border=\"1\" class=\"dataframe\">\n",
       "  <thead>\n",
       "    <tr style=\"text-align: right;\">\n",
       "      <th></th>\n",
       "      <th>Perm_Importance_Tr</th>\n",
       "      <th>Perm_Importance_Te</th>\n",
       "    </tr>\n",
       "    <tr>\n",
       "      <th>Feature</th>\n",
       "      <th></th>\n",
       "      <th></th>\n",
       "    </tr>\n",
       "  </thead>\n",
       "  <tbody>\n",
       "    <tr>\n",
       "      <th>Sex</th>\n",
       "      <td>0.238202</td>\n",
       "      <td>0.211443</td>\n",
       "    </tr>\n",
       "    <tr>\n",
       "      <th>Pclass</th>\n",
       "      <td>0.097806</td>\n",
       "      <td>0.062189</td>\n",
       "    </tr>\n",
       "    <tr>\n",
       "      <th>Age</th>\n",
       "      <td>0.057464</td>\n",
       "      <td>0.010448</td>\n",
       "    </tr>\n",
       "    <tr>\n",
       "      <th>Embarked</th>\n",
       "      <td>0.015730</td>\n",
       "      <td>0.000746</td>\n",
       "    </tr>\n",
       "    <tr>\n",
       "      <th>Parch</th>\n",
       "      <td>0.031568</td>\n",
       "      <td>-0.002488</td>\n",
       "    </tr>\n",
       "    <tr>\n",
       "      <th>SibSp</th>\n",
       "      <td>0.024291</td>\n",
       "      <td>-0.003234</td>\n",
       "    </tr>\n",
       "    <tr>\n",
       "      <th>Fare</th>\n",
       "      <td>0.038416</td>\n",
       "      <td>-0.005473</td>\n",
       "    </tr>\n",
       "    <tr>\n",
       "      <th>random_feature</th>\n",
       "      <td>0.032210</td>\n",
       "      <td>-0.014925</td>\n",
       "    </tr>\n",
       "  </tbody>\n",
       "</table>\n",
       "</div>"
      ],
      "text/plain": [
       "                Perm_Importance_Tr  Perm_Importance_Te\n",
       "Feature                                               \n",
       "Sex                       0.238202            0.211443\n",
       "Pclass                    0.097806            0.062189\n",
       "Age                       0.057464            0.010448\n",
       "Embarked                  0.015730            0.000746\n",
       "Parch                     0.031568           -0.002488\n",
       "SibSp                     0.024291           -0.003234\n",
       "Fare                      0.038416           -0.005473\n",
       "random_feature            0.032210           -0.014925"
      ]
     },
     "execution_count": 24,
     "metadata": {},
     "output_type": "execute_result"
    }
   ],
   "source": [
    "%%time\n",
    "\n",
    "# От Sklearn\n",
    "\n",
    "perm_imp.calculate_permutation(\n",
    "    X_test=new_X_valid, \n",
    "    y_test=y_valid,\n",
    "    \n",
    "    n_iter=15,\n",
    "    permute_type='sklearn',\n",
    "    n_jobs=-1,\n",
    "#   metric=roc_auc_score,\n",
    "#   higher_is_better=True\n",
    ")"
   ]
  },
  {
   "cell_type": "code",
   "execution_count": 25,
   "id": "c0a4547f",
   "metadata": {},
   "outputs": [
    {
     "data": {
      "image/png": "[encoded data removed]",
      "text/plain": [
       "<Figure size 1152x864 with 1 Axes>"
      ]
     },
     "metadata": {
      "needs_background": "light"
     },
     "output_type": "display_data"
    }
   ],
   "source": [
    "# вызов функции permutation_plot отрисовывает топ важности по методу permutation importance\n",
    "\n",
    "perm_imp.permutation_plot(figsize=(16,12), top=10)"
   ]
  },
  {
   "cell_type": "markdown",
   "id": "79a85bee",
   "metadata": {},
   "source": [
    "#### Вызов функции select_features выдает список отобранных признаков. \n",
    "\n",
    "* Отбор происходит следующим образом:\n",
    "    * Если на тестовом множестве значение метрики относительно перемешанного факторо и рандомного признака ниже нуля, то отбираются все признаки выше нуля.\n",
    "    * Если рандомный признак имеет положительное значение на тестовом множестве, то отбираются все признаки выше значения при рандомном признаке."
   ]
  },
  {
   "cell_type": "code",
   "execution_count": 26,
   "id": "19adfca8",
   "metadata": {},
   "outputs": [
    {
     "name": "stdout",
     "output_type": "stream",
     "text": [
      "8 признаков было до Permutation Importance \n",
      "\n",
      "4 признаков после Permutation Importance от sklearn\n"
     ]
    },
    {
     "data": {
      "text/plain": [
       "['Sex', 'Pclass', 'Age', 'Embarked']"
      ]
     },
     "execution_count": 26,
     "metadata": {},
     "output_type": "execute_result"
    }
   ],
   "source": [
    "perm_imp.select_features()"
   ]
  },
  {
   "cell_type": "markdown",
   "id": "26247db0",
   "metadata": {},
   "source": [
    "### 3.2 От Eli5"
   ]
  },
  {
   "cell_type": "code",
   "execution_count": 27,
   "id": "246fe84d",
   "metadata": {},
   "outputs": [
    {
     "name": "stdout",
     "output_type": "stream",
     "text": [
      "CPU times: user 834 ms, sys: 73.1 ms, total: 907 ms\n",
      "Wall time: 321 ms\n"
     ]
    },
    {
     "data": {
      "text/html": [
       "<div>\n",
       "<style scoped>\n",
       "    .dataframe tbody tr th:only-of-type {\n",
       "        vertical-align: middle;\n",
       "    }\n",
       "\n",
       "    .dataframe tbody tr th {\n",
       "        vertical-align: top;\n",
       "    }\n",
       "\n",
       "    .dataframe thead th {\n",
       "        text-align: right;\n",
       "    }\n",
       "</style>\n",
       "<table border=\"1\" class=\"dataframe\">\n",
       "  <thead>\n",
       "    <tr style=\"text-align: right;\">\n",
       "      <th></th>\n",
       "      <th>Perm_Importance_Tr</th>\n",
       "      <th>Perm_Importance_Te</th>\n",
       "    </tr>\n",
       "    <tr>\n",
       "      <th>Feature</th>\n",
       "      <th></th>\n",
       "      <th></th>\n",
       "    </tr>\n",
       "  </thead>\n",
       "  <tbody>\n",
       "    <tr>\n",
       "      <th>Sex</th>\n",
       "      <td>0.237239</td>\n",
       "      <td>0.213930</td>\n",
       "    </tr>\n",
       "    <tr>\n",
       "      <th>Pclass</th>\n",
       "      <td>0.098020</td>\n",
       "      <td>0.074129</td>\n",
       "    </tr>\n",
       "    <tr>\n",
       "      <th>Age</th>\n",
       "      <td>0.059711</td>\n",
       "      <td>0.020896</td>\n",
       "    </tr>\n",
       "    <tr>\n",
       "      <th>Fare</th>\n",
       "      <td>0.040556</td>\n",
       "      <td>0.008955</td>\n",
       "    </tr>\n",
       "    <tr>\n",
       "      <th>Parch</th>\n",
       "      <td>0.033387</td>\n",
       "      <td>0.006716</td>\n",
       "    </tr>\n",
       "    <tr>\n",
       "      <th>SibSp</th>\n",
       "      <td>0.024612</td>\n",
       "      <td>0.004975</td>\n",
       "    </tr>\n",
       "    <tr>\n",
       "      <th>Embarked</th>\n",
       "      <td>0.015837</td>\n",
       "      <td>0.003234</td>\n",
       "    </tr>\n",
       "    <tr>\n",
       "      <th>random_feature</th>\n",
       "      <td>0.031996</td>\n",
       "      <td>-0.004229</td>\n",
       "    </tr>\n",
       "  </tbody>\n",
       "</table>\n",
       "</div>"
      ],
      "text/plain": [
       "                Perm_Importance_Tr  Perm_Importance_Te\n",
       "Feature                                               \n",
       "Sex                       0.237239            0.213930\n",
       "Pclass                    0.098020            0.074129\n",
       "Age                       0.059711            0.020896\n",
       "Fare                      0.040556            0.008955\n",
       "Parch                     0.033387            0.006716\n",
       "SibSp                     0.024612            0.004975\n",
       "Embarked                  0.015837            0.003234\n",
       "random_feature            0.031996           -0.004229"
      ]
     },
     "execution_count": 27,
     "metadata": {},
     "output_type": "execute_result"
    }
   ],
   "source": [
    "%%time\n",
    "\n",
    "# От Eli5\n",
    "\n",
    "perm_imp.calculate_permutation(\n",
    "    X_test=new_X_valid, \n",
    "    y_test=y_valid,\n",
    "    \n",
    "    n_iter=15,\n",
    "    permute_type='eli5',\n",
    "#   n_jobs=-1,\n",
    "#   metric=roc_auc_score,\n",
    "#   higher_is_better=True\n",
    ")"
   ]
  },
  {
   "cell_type": "code",
   "execution_count": 28,
   "id": "7e0d4a9d",
   "metadata": {},
   "outputs": [
    {
     "data": {
      "image/png": "[encoded data removed]",
      "text/plain": [
       "<Figure size 1152x864 with 1 Axes>"
      ]
     },
     "metadata": {
      "needs_background": "light"
     },
     "output_type": "display_data"
    }
   ],
   "source": [
    "perm_imp.permutation_plot(figsize=(16,12), top=10)"
   ]
  },
  {
   "cell_type": "code",
   "execution_count": 29,
   "id": "4a6fa761",
   "metadata": {},
   "outputs": [
    {
     "name": "stdout",
     "output_type": "stream",
     "text": [
      "8 признаков было до Permutation Importance \n",
      "\n",
      "7 признаков после Permutation Importance от eli5\n"
     ]
    },
    {
     "data": {
      "text/plain": [
       "['Sex', 'Pclass', 'Age', 'Fare', 'Parch', 'SibSp', 'Embarked']"
      ]
     },
     "execution_count": 29,
     "metadata": {},
     "output_type": "execute_result"
    }
   ],
   "source": [
    "perm_imp.select_features()"
   ]
  },
  {
   "cell_type": "markdown",
   "id": "caee3b55",
   "metadata": {},
   "source": [
    "### 3.3 Самописный permutation kib"
   ]
  },
  {
   "cell_type": "code",
   "execution_count": 30,
   "id": "5cbfab9d",
   "metadata": {},
   "outputs": [
    {
     "name": "stdout",
     "output_type": "stream",
     "text": [
      "Расчет Permutation Importance на Train\n"
     ]
    },
    {
     "name": "stderr",
     "output_type": "stream",
     "text": [
      "100%|███████████████████████████████████████████| 8/8 [00:00<00:00, 6150.01it/s]\n"
     ]
    },
    {
     "name": "stdout",
     "output_type": "stream",
     "text": [
      "Расчет Permutation Importance на Test\n"
     ]
    },
    {
     "name": "stderr",
     "output_type": "stream",
     "text": [
      "100%|██████████████████████████████████████████| 8/8 [00:00<00:00, 11019.52it/s]"
     ]
    },
    {
     "name": "stdout",
     "output_type": "stream",
     "text": [
      "CPU times: user 39.6 ms, sys: 7.84 ms, total: 47.4 ms\n",
      "Wall time: 172 ms\n"
     ]
    },
    {
     "name": "stderr",
     "output_type": "stream",
     "text": [
      "\n"
     ]
    },
    {
     "data": {
      "text/html": [
       "<div>\n",
       "<style scoped>\n",
       "    .dataframe tbody tr th:only-of-type {\n",
       "        vertical-align: middle;\n",
       "    }\n",
       "\n",
       "    .dataframe tbody tr th {\n",
       "        vertical-align: top;\n",
       "    }\n",
       "\n",
       "    .dataframe thead th {\n",
       "        text-align: right;\n",
       "    }\n",
       "</style>\n",
       "<table border=\"1\" class=\"dataframe\">\n",
       "  <thead>\n",
       "    <tr style=\"text-align: right;\">\n",
       "      <th></th>\n",
       "      <th>Perm_Importance_Tr</th>\n",
       "      <th>Perm_Importance_Te</th>\n",
       "    </tr>\n",
       "    <tr>\n",
       "      <th>Feature</th>\n",
       "      <th></th>\n",
       "      <th></th>\n",
       "    </tr>\n",
       "  </thead>\n",
       "  <tbody>\n",
       "    <tr>\n",
       "      <th>Sex</th>\n",
       "      <td>0.229536</td>\n",
       "      <td>0.245558</td>\n",
       "    </tr>\n",
       "    <tr>\n",
       "      <th>Pclass</th>\n",
       "      <td>0.067562</td>\n",
       "      <td>0.060257</td>\n",
       "    </tr>\n",
       "    <tr>\n",
       "      <th>Fare</th>\n",
       "      <td>0.049521</td>\n",
       "      <td>0.030833</td>\n",
       "    </tr>\n",
       "    <tr>\n",
       "      <th>Age</th>\n",
       "      <td>0.051122</td>\n",
       "      <td>0.029346</td>\n",
       "    </tr>\n",
       "    <tr>\n",
       "      <th>Parch</th>\n",
       "      <td>0.019847</td>\n",
       "      <td>0.015275</td>\n",
       "    </tr>\n",
       "    <tr>\n",
       "      <th>SibSp</th>\n",
       "      <td>0.014100</td>\n",
       "      <td>0.002773</td>\n",
       "    </tr>\n",
       "    <tr>\n",
       "      <th>Embarked</th>\n",
       "      <td>0.014272</td>\n",
       "      <td>0.002448</td>\n",
       "    </tr>\n",
       "    <tr>\n",
       "      <th>random_feature</th>\n",
       "      <td>0.028006</td>\n",
       "      <td>0.001793</td>\n",
       "    </tr>\n",
       "  </tbody>\n",
       "</table>\n",
       "</div>"
      ],
      "text/plain": [
       "                Perm_Importance_Tr  Perm_Importance_Te\n",
       "Feature                                               \n",
       "Sex                       0.229536            0.245558\n",
       "Pclass                    0.067562            0.060257\n",
       "Fare                      0.049521            0.030833\n",
       "Age                       0.051122            0.029346\n",
       "Parch                     0.019847            0.015275\n",
       "SibSp                     0.014100            0.002773\n",
       "Embarked                  0.014272            0.002448\n",
       "random_feature            0.028006            0.001793"
      ]
     },
     "execution_count": 30,
     "metadata": {},
     "output_type": "execute_result"
    }
   ],
   "source": [
    "%%time\n",
    "\n",
    "# Самописный permutation\n",
    "\n",
    "perm_imp.calculate_permutation(\n",
    "    X_test=new_X_valid, \n",
    "    y_test=y_valid,\n",
    "    \n",
    "    n_iter=15,\n",
    "    permute_type='kib',\n",
    "    n_jobs=-1,\n",
    "    metric=roc_auc_score,\n",
    "    higher_is_better=True)"
   ]
  },
  {
   "cell_type": "code",
   "execution_count": 31,
   "id": "13dd76a5",
   "metadata": {},
   "outputs": [
    {
     "data": {
      "image/png": "[encoded data removed]",
      "text/plain": [
       "<Figure size 1152x864 with 1 Axes>"
      ]
     },
     "metadata": {
      "needs_background": "light"
     },
     "output_type": "display_data"
    }
   ],
   "source": [
    "perm_imp.permutation_plot(figsize=(16,12), top=5)"
   ]
  },
  {
   "cell_type": "code",
   "execution_count": 32,
   "id": "dd852830",
   "metadata": {},
   "outputs": [
    {
     "name": "stdout",
     "output_type": "stream",
     "text": [
      "8 признаков было до Permutation Importance \n",
      "\n",
      "7 признаков после Permutation Importance от kib\n"
     ]
    },
    {
     "data": {
      "text/plain": [
       "['Sex', 'Pclass', 'Fare', 'Age', 'Parch', 'SibSp', 'Embarked']"
      ]
     },
     "execution_count": 32,
     "metadata": {},
     "output_type": "execute_result"
    }
   ],
   "source": [
    "perm_imp.select_features()"
   ]
  },
  {
   "cell_type": "code",
   "execution_count": null,
   "id": "4b65ae37",
   "metadata": {},
   "outputs": [],
   "source": []
  },
  {
   "cell_type": "code",
   "execution_count": null,
   "id": "eda83f9c",
   "metadata": {},
   "outputs": [],
   "source": []
  },
  {
   "cell_type": "raw",
   "id": "8e0c661a",
   "metadata": {},
   "source": []
  },
  {
   "cell_type": "raw",
   "id": "afdc52eb",
   "metadata": {},
   "source": []
  }
 ],
 "metadata": {
  "kernelspec": {
   "display_name": "Python 3 (ipykernel)",
   "language": "python",
   "name": "python3"
  },
  "language_info": {
   "codemirror_mode": {
    "name": "ipython",
    "version": 3
   },
   "file_extension": ".py",
   "mimetype": "text/x-python",
   "name": "python",
   "nbconvert_exporter": "python",
   "pygments_lexer": "ipython3",
   "version": "3.9.7"
  }
 },
 "nbformat": 4,
 "nbformat_minor": 5
}
