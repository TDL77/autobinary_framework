{
 "cells": [
  {
   "cell_type": "markdown",
   "id": "2eab9f49",
   "metadata": {},
   "source": [
    "# Демонстрация автоматического отбора признаков с помощью PrimarySelection"
   ]
  },
  {
   "cell_type": "markdown",
   "id": "539b17a9",
   "metadata": {},
   "source": [
    "## Структура ноутбука:\n",
    "- Применение библиотеки PrimarySelection для задач мультиклассификации\n",
    "    * Приведение числовых признаков к типу float, замена бесконечных значений;\n",
    "    * Проверка на пропущенные значения;\n",
    "    * Корреляционный анализ;\n",
    "    * Анализ признаков относительно глубины алгоритма;\n",
    "    * Проверка всех библиотек Permutation Importance (sklearn, eli5, собственный kib)   "
   ]
  },
  {
   "cell_type": "code",
   "execution_count": 1,
   "id": "f20d104a",
   "metadata": {},
   "outputs": [
    {
     "data": {
      "text/html": [
       "<style>.container {width:95% !important;}</style>"
      ],
      "text/plain": [
       "<IPython.core.display.HTML object>"
      ]
     },
     "metadata": {},
     "output_type": "display_data"
    }
   ],
   "source": [
    "# расширяем поле, убираем предупреждения\n",
    "from IPython.core.display import display, HTML\n",
    "display(HTML('<style>.container {width:95% !important;}</style>'))\n",
    "\n",
    "import warnings\n",
    "warnings.filterwarnings('ignore')"
   ]
  },
  {
   "cell_type": "code",
   "execution_count": 2,
   "id": "84590a6e",
   "metadata": {},
   "outputs": [],
   "source": [
    "# Стандартные библиотеки для анализа\n",
    "import pandas as pd\n",
    "\n",
    "from sklearn.model_selection import train_test_split, StratifiedKFold\n",
    "from sklearn.impute import SimpleImputer\n",
    "from sklearn.metrics import roc_auc_score, mean_absolute_percentage_error\n",
    "\n",
    "from sklearn.pipeline import Pipeline\n",
    "from sklearn.compose import ColumnTransformer\n",
    "\n",
    "import matplotlib.pylab as pl"
   ]
  },
  {
   "cell_type": "code",
   "execution_count": 3,
   "id": "2e680e0e",
   "metadata": {},
   "outputs": [],
   "source": [
    "import sys\n",
    "sys.path.append('../')\n",
    "\n",
    "# Наша разработанная библиотека\n",
    "from autobinary import SentColumns, CatBoostEncoder, NansAnalysis, PrimarySelection, base_pipe"
   ]
  },
  {
   "cell_type": "markdown",
   "id": "3364b6a2",
   "metadata": {},
   "source": [
    "* sklearn:  0.24.2\n",
    "* xgboost:  1.5.2\n",
    "* matplotlib:  3.1.1\n",
    "* autobinary:  1.0.3"
   ]
  },
  {
   "cell_type": "code",
   "execution_count": 4,
   "id": "ff814dde",
   "metadata": {},
   "outputs": [
    {
     "name": "stdout",
     "output_type": "stream",
     "text": [
      "sklearn:  1.0.2\n",
      "xgboost:  1.5.2\n",
      "matplotlib:  3.5.1\n",
      "autobinary:  1.0.6\n"
     ]
    }
   ],
   "source": [
    "import sklearn as sk\n",
    "import xgboost as xgb\n",
    "import matplotlib as mplot\n",
    "import autobinary as ab\n",
    "\n",
    "print('sklearn: ', sk.__version__)\n",
    "print('xgboost: ', xgb.__version__)\n",
    "print('matplotlib: ', mplot.__version__)\n",
    "print('autobinary: ', ab.__version__)"
   ]
  },
  {
   "cell_type": "code",
   "execution_count": 5,
   "id": "e14b3c24",
   "metadata": {},
   "outputs": [
    {
     "data": {
      "text/plain": [
       "'1.21.5'"
      ]
     },
     "execution_count": 5,
     "metadata": {},
     "output_type": "execute_result"
    }
   ],
   "source": [
    "import numpy as np\n",
    "np.__version__"
   ]
  },
  {
   "cell_type": "code",
   "execution_count": 6,
   "id": "9f677251",
   "metadata": {},
   "outputs": [
    {
     "data": {
      "text/plain": [
       "'1.7.3'"
      ]
     },
     "execution_count": 6,
     "metadata": {},
     "output_type": "execute_result"
    }
   ],
   "source": [
    "import scipy\n",
    "scipy.__version__"
   ]
  },
  {
   "cell_type": "code",
   "execution_count": 7,
   "id": "76e868da",
   "metadata": {},
   "outputs": [],
   "source": [
    "# eli5==0.13.0"
   ]
  },
  {
   "cell_type": "markdown",
   "id": "a01d1eb0",
   "metadata": {},
   "source": [
    "# Для мультиклассовой задачи"
   ]
  },
  {
   "cell_type": "code",
   "execution_count": 8,
   "id": "02960e13",
   "metadata": {},
   "outputs": [
    {
     "name": "stdout",
     "output_type": "stream",
     "text": [
      "Размерность данных: (1500, 26)\n"
     ]
    },
    {
     "data": {
      "text/html": [
       "<div>\n",
       "<style scoped>\n",
       "    .dataframe tbody tr th:only-of-type {\n",
       "        vertical-align: middle;\n",
       "    }\n",
       "\n",
       "    .dataframe tbody tr th {\n",
       "        vertical-align: top;\n",
       "    }\n",
       "\n",
       "    .dataframe thead th {\n",
       "        text-align: right;\n",
       "    }\n",
       "</style>\n",
       "<table border=\"1\" class=\"dataframe\">\n",
       "  <thead>\n",
       "    <tr style=\"text-align: right;\">\n",
       "      <th></th>\n",
       "      <th>feature_0</th>\n",
       "      <th>feature_1</th>\n",
       "      <th>feature_2</th>\n",
       "      <th>feature_3</th>\n",
       "      <th>feature_4</th>\n",
       "      <th>feature_5</th>\n",
       "      <th>feature_6</th>\n",
       "      <th>feature_7</th>\n",
       "      <th>feature_8</th>\n",
       "      <th>feature_9</th>\n",
       "      <th>...</th>\n",
       "      <th>feature_16</th>\n",
       "      <th>feature_17</th>\n",
       "      <th>feature_18</th>\n",
       "      <th>feature_19</th>\n",
       "      <th>feature_20</th>\n",
       "      <th>feature_21</th>\n",
       "      <th>feature_22</th>\n",
       "      <th>feature_23</th>\n",
       "      <th>feature_24</th>\n",
       "      <th>target</th>\n",
       "    </tr>\n",
       "  </thead>\n",
       "  <tbody>\n",
       "    <tr>\n",
       "      <th>0</th>\n",
       "      <td>0.534065</td>\n",
       "      <td>2.522191</td>\n",
       "      <td>0.142878</td>\n",
       "      <td>2.921343</td>\n",
       "      <td>-0.837638</td>\n",
       "      <td>-3.631808</td>\n",
       "      <td>-1.386599</td>\n",
       "      <td>-0.624858</td>\n",
       "      <td>1.923359</td>\n",
       "      <td>-3.754648</td>\n",
       "      <td>...</td>\n",
       "      <td>4.320680</td>\n",
       "      <td>-2.841549</td>\n",
       "      <td>-0.615687</td>\n",
       "      <td>-2.638303</td>\n",
       "      <td>-0.941292</td>\n",
       "      <td>2.561901</td>\n",
       "      <td>1.411905</td>\n",
       "      <td>2.305033</td>\n",
       "      <td>-1.411519</td>\n",
       "      <td>0</td>\n",
       "    </tr>\n",
       "    <tr>\n",
       "      <th>1</th>\n",
       "      <td>1.912064</td>\n",
       "      <td>3.015669</td>\n",
       "      <td>-4.114627</td>\n",
       "      <td>-1.720778</td>\n",
       "      <td>-1.049952</td>\n",
       "      <td>-3.575342</td>\n",
       "      <td>-0.719276</td>\n",
       "      <td>4.859142</td>\n",
       "      <td>-1.959112</td>\n",
       "      <td>5.192894</td>\n",
       "      <td>...</td>\n",
       "      <td>1.411251</td>\n",
       "      <td>-2.774986</td>\n",
       "      <td>1.396434</td>\n",
       "      <td>0.908956</td>\n",
       "      <td>5.203906</td>\n",
       "      <td>0.584113</td>\n",
       "      <td>4.710460</td>\n",
       "      <td>-3.295091</td>\n",
       "      <td>-1.562306</td>\n",
       "      <td>1</td>\n",
       "    </tr>\n",
       "  </tbody>\n",
       "</table>\n",
       "<p>2 rows × 26 columns</p>\n",
       "</div>"
      ],
      "text/plain": [
       "   feature_0  feature_1  feature_2  feature_3  feature_4  feature_5  \\\n",
       "0   0.534065   2.522191   0.142878   2.921343  -0.837638  -3.631808   \n",
       "1   1.912064   3.015669  -4.114627  -1.720778  -1.049952  -3.575342   \n",
       "\n",
       "   feature_6  feature_7  feature_8  feature_9  ...  feature_16  feature_17  \\\n",
       "0  -1.386599  -0.624858   1.923359  -3.754648  ...    4.320680   -2.841549   \n",
       "1  -0.719276   4.859142  -1.959112   5.192894  ...    1.411251   -2.774986   \n",
       "\n",
       "   feature_18  feature_19  feature_20  feature_21  feature_22  feature_23  \\\n",
       "0   -0.615687   -2.638303   -0.941292    2.561901    1.411905    2.305033   \n",
       "1    1.396434    0.908956    5.203906    0.584113    4.710460   -3.295091   \n",
       "\n",
       "   feature_24  target  \n",
       "0   -1.411519       0  \n",
       "1   -1.562306       1  \n",
       "\n",
       "[2 rows x 26 columns]"
      ]
     },
     "execution_count": 8,
     "metadata": {},
     "output_type": "execute_result"
    }
   ],
   "source": [
    "from sklearn.datasets import make_classification\n",
    "X, y = make_classification(n_samples=1500, n_features=25, n_informative=8, n_redundant=17, n_classes=3, random_state=42)\n",
    "sample = pd.DataFrame(X)\n",
    "sample.columns = [f'feature_{i}' for i in range(len(sample.columns))]\n",
    "\n",
    "\n",
    "sample['target'] = y\n",
    "\n",
    "print('Размерность данных:', sample.shape)\n",
    "sample.head(2)"
   ]
  },
  {
   "cell_type": "code",
   "execution_count": 9,
   "id": "67604110",
   "metadata": {},
   "outputs": [],
   "source": [
    "num_columns = sample.drop(columns='target').columns.tolist()\n",
    "\n",
    "cat_columns = [\n",
    "]\n",
    "\n",
    "features = num_columns+cat_columns\n",
    "\n",
    "target = 'target'"
   ]
  },
  {
   "cell_type": "code",
   "execution_count": 10,
   "id": "514b9da0",
   "metadata": {},
   "outputs": [
    {
     "name": "stdout",
     "output_type": "stream",
     "text": [
      "Определены только количественные переменные!\n"
     ]
    }
   ],
   "source": [
    "# Обновление пайплайна трансформации\n",
    "\n",
    "prep_pipe = base_pipe(\n",
    "    num_columns=num_columns, \n",
    "    cat_columns=cat_columns\n",
    ")"
   ]
  },
  {
   "cell_type": "code",
   "execution_count": 11,
   "id": "9d965883",
   "metadata": {},
   "outputs": [
    {
     "name": "stdout",
     "output_type": "stream",
     "text": [
      "Все бесконечные значения заменены на пропуски, количественные переменные приведены к типу float!\n"
     ]
    },
    {
     "data": {
      "text/html": [
       "<div>\n",
       "<style scoped>\n",
       "    .dataframe tbody tr th:only-of-type {\n",
       "        vertical-align: middle;\n",
       "    }\n",
       "\n",
       "    .dataframe tbody tr th {\n",
       "        vertical-align: top;\n",
       "    }\n",
       "\n",
       "    .dataframe thead th {\n",
       "        text-align: right;\n",
       "    }\n",
       "</style>\n",
       "<table border=\"1\" class=\"dataframe\">\n",
       "  <thead>\n",
       "    <tr style=\"text-align: right;\">\n",
       "      <th></th>\n",
       "      <th>feature_0</th>\n",
       "      <th>feature_1</th>\n",
       "      <th>feature_2</th>\n",
       "      <th>feature_3</th>\n",
       "      <th>feature_4</th>\n",
       "      <th>feature_5</th>\n",
       "      <th>feature_6</th>\n",
       "      <th>feature_7</th>\n",
       "      <th>feature_8</th>\n",
       "      <th>feature_9</th>\n",
       "      <th>...</th>\n",
       "      <th>feature_16</th>\n",
       "      <th>feature_17</th>\n",
       "      <th>feature_18</th>\n",
       "      <th>feature_19</th>\n",
       "      <th>feature_20</th>\n",
       "      <th>feature_21</th>\n",
       "      <th>feature_22</th>\n",
       "      <th>feature_23</th>\n",
       "      <th>feature_24</th>\n",
       "      <th>target</th>\n",
       "    </tr>\n",
       "  </thead>\n",
       "  <tbody>\n",
       "    <tr>\n",
       "      <th>0</th>\n",
       "      <td>0.534065</td>\n",
       "      <td>2.522191</td>\n",
       "      <td>0.142878</td>\n",
       "      <td>2.921343</td>\n",
       "      <td>-0.837638</td>\n",
       "      <td>-3.631808</td>\n",
       "      <td>-1.386599</td>\n",
       "      <td>-0.624858</td>\n",
       "      <td>1.923359</td>\n",
       "      <td>-3.754648</td>\n",
       "      <td>...</td>\n",
       "      <td>4.320680</td>\n",
       "      <td>-2.841549</td>\n",
       "      <td>-0.615687</td>\n",
       "      <td>-2.638303</td>\n",
       "      <td>-0.941292</td>\n",
       "      <td>2.561901</td>\n",
       "      <td>1.411905</td>\n",
       "      <td>2.305033</td>\n",
       "      <td>-1.411519</td>\n",
       "      <td>0</td>\n",
       "    </tr>\n",
       "    <tr>\n",
       "      <th>1</th>\n",
       "      <td>1.912064</td>\n",
       "      <td>3.015669</td>\n",
       "      <td>-4.114627</td>\n",
       "      <td>-1.720778</td>\n",
       "      <td>-1.049952</td>\n",
       "      <td>-3.575342</td>\n",
       "      <td>-0.719276</td>\n",
       "      <td>4.859142</td>\n",
       "      <td>-1.959112</td>\n",
       "      <td>5.192894</td>\n",
       "      <td>...</td>\n",
       "      <td>1.411251</td>\n",
       "      <td>-2.774986</td>\n",
       "      <td>1.396434</td>\n",
       "      <td>0.908956</td>\n",
       "      <td>5.203906</td>\n",
       "      <td>0.584113</td>\n",
       "      <td>4.710460</td>\n",
       "      <td>-3.295091</td>\n",
       "      <td>-1.562306</td>\n",
       "      <td>1</td>\n",
       "    </tr>\n",
       "    <tr>\n",
       "      <th>2</th>\n",
       "      <td>-2.478758</td>\n",
       "      <td>-0.117791</td>\n",
       "      <td>-1.892064</td>\n",
       "      <td>-0.522197</td>\n",
       "      <td>2.022059</td>\n",
       "      <td>-2.492530</td>\n",
       "      <td>4.685603</td>\n",
       "      <td>0.717937</td>\n",
       "      <td>-3.747447</td>\n",
       "      <td>5.508374</td>\n",
       "      <td>...</td>\n",
       "      <td>-2.210135</td>\n",
       "      <td>1.626188</td>\n",
       "      <td>-2.476625</td>\n",
       "      <td>2.967870</td>\n",
       "      <td>-1.083371</td>\n",
       "      <td>-2.959888</td>\n",
       "      <td>-1.049414</td>\n",
       "      <td>1.009348</td>\n",
       "      <td>-1.005730</td>\n",
       "      <td>1</td>\n",
       "    </tr>\n",
       "    <tr>\n",
       "      <th>3</th>\n",
       "      <td>5.449429</td>\n",
       "      <td>2.462388</td>\n",
       "      <td>-1.389078</td>\n",
       "      <td>-1.358669</td>\n",
       "      <td>-1.137811</td>\n",
       "      <td>-3.977899</td>\n",
       "      <td>-0.286726</td>\n",
       "      <td>5.592796</td>\n",
       "      <td>-0.790865</td>\n",
       "      <td>1.952978</td>\n",
       "      <td>...</td>\n",
       "      <td>3.908572</td>\n",
       "      <td>-5.067503</td>\n",
       "      <td>2.273161</td>\n",
       "      <td>-2.069727</td>\n",
       "      <td>4.616372</td>\n",
       "      <td>2.628732</td>\n",
       "      <td>1.779868</td>\n",
       "      <td>-3.778193</td>\n",
       "      <td>-2.450488</td>\n",
       "      <td>1</td>\n",
       "    </tr>\n",
       "    <tr>\n",
       "      <th>4</th>\n",
       "      <td>2.996450</td>\n",
       "      <td>1.679707</td>\n",
       "      <td>0.957340</td>\n",
       "      <td>0.335399</td>\n",
       "      <td>0.517542</td>\n",
       "      <td>0.232261</td>\n",
       "      <td>0.050459</td>\n",
       "      <td>1.575589</td>\n",
       "      <td>-1.256255</td>\n",
       "      <td>-1.562188</td>\n",
       "      <td>...</td>\n",
       "      <td>5.169438</td>\n",
       "      <td>-4.558637</td>\n",
       "      <td>0.725680</td>\n",
       "      <td>-2.687195</td>\n",
       "      <td>1.050832</td>\n",
       "      <td>3.433512</td>\n",
       "      <td>0.376206</td>\n",
       "      <td>-1.941337</td>\n",
       "      <td>-0.225461</td>\n",
       "      <td>0</td>\n",
       "    </tr>\n",
       "  </tbody>\n",
       "</table>\n",
       "<p>5 rows × 26 columns</p>\n",
       "</div>"
      ],
      "text/plain": [
       "   feature_0  feature_1  feature_2  feature_3  feature_4  feature_5  \\\n",
       "0   0.534065   2.522191   0.142878   2.921343  -0.837638  -3.631808   \n",
       "1   1.912064   3.015669  -4.114627  -1.720778  -1.049952  -3.575342   \n",
       "2  -2.478758  -0.117791  -1.892064  -0.522197   2.022059  -2.492530   \n",
       "3   5.449429   2.462388  -1.389078  -1.358669  -1.137811  -3.977899   \n",
       "4   2.996450   1.679707   0.957340   0.335399   0.517542   0.232261   \n",
       "\n",
       "   feature_6  feature_7  feature_8  feature_9  ...  feature_16  feature_17  \\\n",
       "0  -1.386599  -0.624858   1.923359  -3.754648  ...    4.320680   -2.841549   \n",
       "1  -0.719276   4.859142  -1.959112   5.192894  ...    1.411251   -2.774986   \n",
       "2   4.685603   0.717937  -3.747447   5.508374  ...   -2.210135    1.626188   \n",
       "3  -0.286726   5.592796  -0.790865   1.952978  ...    3.908572   -5.067503   \n",
       "4   0.050459   1.575589  -1.256255  -1.562188  ...    5.169438   -4.558637   \n",
       "\n",
       "   feature_18  feature_19  feature_20  feature_21  feature_22  feature_23  \\\n",
       "0   -0.615687   -2.638303   -0.941292    2.561901    1.411905    2.305033   \n",
       "1    1.396434    0.908956    5.203906    0.584113    4.710460   -3.295091   \n",
       "2   -2.476625    2.967870   -1.083371   -2.959888   -1.049414    1.009348   \n",
       "3    2.273161   -2.069727    4.616372    2.628732    1.779868   -3.778193   \n",
       "4    0.725680   -2.687195    1.050832    3.433512    0.376206   -1.941337   \n",
       "\n",
       "   feature_24  target  \n",
       "0   -1.411519       0  \n",
       "1   -1.562306       1  \n",
       "2   -1.005730       1  \n",
       "3   -2.450488       1  \n",
       "4   -0.225461       0  \n",
       "\n",
       "[5 rows x 26 columns]"
      ]
     },
     "execution_count": 11,
     "metadata": {},
     "output_type": "execute_result"
    }
   ],
   "source": [
    "# обработка бесконечных и пропущенных значений\n",
    "\n",
    "nans = NansAnalysis(df=sample)\n",
    "\n",
    "sample = nans.to_types(num_columns=num_columns)\n",
    "sample.head()"
   ]
  },
  {
   "cell_type": "code",
   "execution_count": 12,
   "id": "e79009b5",
   "metadata": {},
   "outputs": [
    {
     "data": {
      "text/html": [
       "<div>\n",
       "<style scoped>\n",
       "    .dataframe tbody tr th:only-of-type {\n",
       "        vertical-align: middle;\n",
       "    }\n",
       "\n",
       "    .dataframe tbody tr th {\n",
       "        vertical-align: top;\n",
       "    }\n",
       "\n",
       "    .dataframe thead th {\n",
       "        text-align: right;\n",
       "    }\n",
       "</style>\n",
       "<table border=\"1\" class=\"dataframe\">\n",
       "  <thead>\n",
       "    <tr style=\"text-align: right;\">\n",
       "      <th></th>\n",
       "      <th>feature</th>\n",
       "      <th>cnt_null</th>\n",
       "      <th>share_nans</th>\n",
       "    </tr>\n",
       "  </thead>\n",
       "  <tbody>\n",
       "    <tr>\n",
       "      <th>0</th>\n",
       "      <td>feature_0</td>\n",
       "      <td>0</td>\n",
       "      <td>0.0</td>\n",
       "    </tr>\n",
       "    <tr>\n",
       "      <th>1</th>\n",
       "      <td>feature_1</td>\n",
       "      <td>0</td>\n",
       "      <td>0.0</td>\n",
       "    </tr>\n",
       "    <tr>\n",
       "      <th>24</th>\n",
       "      <td>feature_24</td>\n",
       "      <td>0</td>\n",
       "      <td>0.0</td>\n",
       "    </tr>\n",
       "    <tr>\n",
       "      <th>23</th>\n",
       "      <td>feature_23</td>\n",
       "      <td>0</td>\n",
       "      <td>0.0</td>\n",
       "    </tr>\n",
       "    <tr>\n",
       "      <th>22</th>\n",
       "      <td>feature_22</td>\n",
       "      <td>0</td>\n",
       "      <td>0.0</td>\n",
       "    </tr>\n",
       "  </tbody>\n",
       "</table>\n",
       "</div>"
      ],
      "text/plain": [
       "       feature  cnt_null  share_nans\n",
       "0    feature_0         0         0.0\n",
       "1    feature_1         0         0.0\n",
       "24  feature_24         0         0.0\n",
       "23  feature_23         0         0.0\n",
       "22  feature_22         0         0.0"
      ]
     },
     "metadata": {},
     "output_type": "display_data"
    },
    {
     "name": "stdout",
     "output_type": "stream",
     "text": [
      "Количество столбцов до: 26\n",
      "==================================================\n",
      "Удалены столбцы, имеющие долю пропусков > 90.0 %, количество оставшихся : 26 \n"
     ]
    }
   ],
   "source": [
    "# Проводим анализ на пропущенные значения. Столбцы имеющие пропусков больше percent.\n",
    "\n",
    "feat_after_nans = nans.fit(percent = 0.9)\n",
    "\n",
    "# Обновляем факторы\n",
    "\n",
    "num_columns = list(filter(lambda x: x in feat_after_nans, num_columns))\n",
    "cat_columns = list(filter(lambda x: x in feat_after_nans, cat_columns))"
   ]
  },
  {
   "cell_type": "code",
   "execution_count": 13,
   "id": "da42f789",
   "metadata": {},
   "outputs": [
    {
     "data": {
      "text/html": [
       "<div>\n",
       "<style scoped>\n",
       "    .dataframe tbody tr th:only-of-type {\n",
       "        vertical-align: middle;\n",
       "    }\n",
       "\n",
       "    .dataframe tbody tr th {\n",
       "        vertical-align: top;\n",
       "    }\n",
       "\n",
       "    .dataframe thead th {\n",
       "        text-align: right;\n",
       "    }\n",
       "</style>\n",
       "<table border=\"1\" class=\"dataframe\">\n",
       "  <thead>\n",
       "    <tr style=\"text-align: right;\">\n",
       "      <th></th>\n",
       "      <th>feature</th>\n",
       "      <th>cnt_null</th>\n",
       "      <th>share_nans</th>\n",
       "    </tr>\n",
       "  </thead>\n",
       "  <tbody>\n",
       "    <tr>\n",
       "      <th>0</th>\n",
       "      <td>feature_0</td>\n",
       "      <td>0</td>\n",
       "      <td>0.0</td>\n",
       "    </tr>\n",
       "    <tr>\n",
       "      <th>1</th>\n",
       "      <td>feature_1</td>\n",
       "      <td>0</td>\n",
       "      <td>0.0</td>\n",
       "    </tr>\n",
       "    <tr>\n",
       "      <th>24</th>\n",
       "      <td>feature_24</td>\n",
       "      <td>0</td>\n",
       "      <td>0.0</td>\n",
       "    </tr>\n",
       "    <tr>\n",
       "      <th>23</th>\n",
       "      <td>feature_23</td>\n",
       "      <td>0</td>\n",
       "      <td>0.0</td>\n",
       "    </tr>\n",
       "    <tr>\n",
       "      <th>22</th>\n",
       "      <td>feature_22</td>\n",
       "      <td>0</td>\n",
       "      <td>0.0</td>\n",
       "    </tr>\n",
       "    <tr>\n",
       "      <th>21</th>\n",
       "      <td>feature_21</td>\n",
       "      <td>0</td>\n",
       "      <td>0.0</td>\n",
       "    </tr>\n",
       "    <tr>\n",
       "      <th>20</th>\n",
       "      <td>feature_20</td>\n",
       "      <td>0</td>\n",
       "      <td>0.0</td>\n",
       "    </tr>\n",
       "    <tr>\n",
       "      <th>19</th>\n",
       "      <td>feature_19</td>\n",
       "      <td>0</td>\n",
       "      <td>0.0</td>\n",
       "    </tr>\n",
       "    <tr>\n",
       "      <th>18</th>\n",
       "      <td>feature_18</td>\n",
       "      <td>0</td>\n",
       "      <td>0.0</td>\n",
       "    </tr>\n",
       "    <tr>\n",
       "      <th>17</th>\n",
       "      <td>feature_17</td>\n",
       "      <td>0</td>\n",
       "      <td>0.0</td>\n",
       "    </tr>\n",
       "    <tr>\n",
       "      <th>16</th>\n",
       "      <td>feature_16</td>\n",
       "      <td>0</td>\n",
       "      <td>0.0</td>\n",
       "    </tr>\n",
       "    <tr>\n",
       "      <th>15</th>\n",
       "      <td>feature_15</td>\n",
       "      <td>0</td>\n",
       "      <td>0.0</td>\n",
       "    </tr>\n",
       "    <tr>\n",
       "      <th>14</th>\n",
       "      <td>feature_14</td>\n",
       "      <td>0</td>\n",
       "      <td>0.0</td>\n",
       "    </tr>\n",
       "    <tr>\n",
       "      <th>13</th>\n",
       "      <td>feature_13</td>\n",
       "      <td>0</td>\n",
       "      <td>0.0</td>\n",
       "    </tr>\n",
       "    <tr>\n",
       "      <th>12</th>\n",
       "      <td>feature_12</td>\n",
       "      <td>0</td>\n",
       "      <td>0.0</td>\n",
       "    </tr>\n",
       "    <tr>\n",
       "      <th>11</th>\n",
       "      <td>feature_11</td>\n",
       "      <td>0</td>\n",
       "      <td>0.0</td>\n",
       "    </tr>\n",
       "    <tr>\n",
       "      <th>10</th>\n",
       "      <td>feature_10</td>\n",
       "      <td>0</td>\n",
       "      <td>0.0</td>\n",
       "    </tr>\n",
       "    <tr>\n",
       "      <th>9</th>\n",
       "      <td>feature_9</td>\n",
       "      <td>0</td>\n",
       "      <td>0.0</td>\n",
       "    </tr>\n",
       "    <tr>\n",
       "      <th>8</th>\n",
       "      <td>feature_8</td>\n",
       "      <td>0</td>\n",
       "      <td>0.0</td>\n",
       "    </tr>\n",
       "    <tr>\n",
       "      <th>7</th>\n",
       "      <td>feature_7</td>\n",
       "      <td>0</td>\n",
       "      <td>0.0</td>\n",
       "    </tr>\n",
       "    <tr>\n",
       "      <th>6</th>\n",
       "      <td>feature_6</td>\n",
       "      <td>0</td>\n",
       "      <td>0.0</td>\n",
       "    </tr>\n",
       "    <tr>\n",
       "      <th>5</th>\n",
       "      <td>feature_5</td>\n",
       "      <td>0</td>\n",
       "      <td>0.0</td>\n",
       "    </tr>\n",
       "    <tr>\n",
       "      <th>4</th>\n",
       "      <td>feature_4</td>\n",
       "      <td>0</td>\n",
       "      <td>0.0</td>\n",
       "    </tr>\n",
       "    <tr>\n",
       "      <th>3</th>\n",
       "      <td>feature_3</td>\n",
       "      <td>0</td>\n",
       "      <td>0.0</td>\n",
       "    </tr>\n",
       "    <tr>\n",
       "      <th>2</th>\n",
       "      <td>feature_2</td>\n",
       "      <td>0</td>\n",
       "      <td>0.0</td>\n",
       "    </tr>\n",
       "    <tr>\n",
       "      <th>25</th>\n",
       "      <td>target</td>\n",
       "      <td>0</td>\n",
       "      <td>0.0</td>\n",
       "    </tr>\n",
       "  </tbody>\n",
       "</table>\n",
       "</div>"
      ],
      "text/plain": [
       "       feature  cnt_null  share_nans\n",
       "0    feature_0         0         0.0\n",
       "1    feature_1         0         0.0\n",
       "24  feature_24         0         0.0\n",
       "23  feature_23         0         0.0\n",
       "22  feature_22         0         0.0\n",
       "21  feature_21         0         0.0\n",
       "20  feature_20         0         0.0\n",
       "19  feature_19         0         0.0\n",
       "18  feature_18         0         0.0\n",
       "17  feature_17         0         0.0\n",
       "16  feature_16         0         0.0\n",
       "15  feature_15         0         0.0\n",
       "14  feature_14         0         0.0\n",
       "13  feature_13         0         0.0\n",
       "12  feature_12         0         0.0\n",
       "11  feature_11         0         0.0\n",
       "10  feature_10         0         0.0\n",
       "9    feature_9         0         0.0\n",
       "8    feature_8         0         0.0\n",
       "7    feature_7         0         0.0\n",
       "6    feature_6         0         0.0\n",
       "5    feature_5         0         0.0\n",
       "4    feature_4         0         0.0\n",
       "3    feature_3         0         0.0\n",
       "2    feature_2         0         0.0\n",
       "25      target         0         0.0"
      ]
     },
     "execution_count": 13,
     "metadata": {},
     "output_type": "execute_result"
    }
   ],
   "source": [
    "# Функция nans_df - датафрейм с пропущенными значениями\n",
    "\n",
    "nans.nans_df"
   ]
  },
  {
   "cell_type": "code",
   "execution_count": 14,
   "id": "54ccdbf7",
   "metadata": {},
   "outputs": [],
   "source": [
    "# Разделение на обучение и тест\n",
    "\n",
    "X_train, X_val, y_train, y_val = train_test_split(\n",
    "    sample,\n",
    "    sample[target],\n",
    "    test_size=0.3,\n",
    "    stratify=sample[target],\n",
    "    random_state=42\n",
    ")"
   ]
  },
  {
   "cell_type": "markdown",
   "id": "c7cc8526",
   "metadata": {},
   "source": [
    "# Использование класса PrimarySelection"
   ]
  },
  {
   "cell_type": "markdown",
   "id": "497fcff9",
   "metadata": {},
   "source": [
    "### Класс PrimarySelection используется для анализа качества данных и отбора факторов.\n",
    "\n",
    "* В параметры передаются тренировочная выборка, пайплайн обработки факторов, количественные и категориальные списки факторов, название таргета, тип модели и тип задачи."
   ]
  },
  {
   "cell_type": "code",
   "execution_count": 15,
   "id": "e335e60c",
   "metadata": {},
   "outputs": [
    {
     "name": "stdout",
     "output_type": "stream",
     "text": [
      "Класс первичного отбора факторов инициализирован!\n"
     ]
    }
   ],
   "source": [
    "# Инициализация класса первичного отбора факторов\n",
    "\n",
    "feature_selection = PrimarySelection(df_train=X_train,\n",
    "                                     base_pipe=base_pipe,\n",
    "                                     num_columns=num_columns,\n",
    "                                     cat_columns=cat_columns,\n",
    "                                     target=target,\n",
    "                                     model_type='lightboost',\n",
    "                                     task_type='multiclassification')"
   ]
  },
  {
   "cell_type": "markdown",
   "id": "fb879e60",
   "metadata": {},
   "source": [
    "## 1. Корреляционный анализ"
   ]
  },
  {
   "cell_type": "markdown",
   "id": "3343b408",
   "metadata": {},
   "source": [
    "* method - метод расчета корреляций (spearman / pearson);\n",
    "* threshold - порог при котором фактор является коррелирующим;\n",
    "* drop_with_most_correlations:\n",
    "    * True - исключается фактор с наибольшим количеством коррелирующих с ним факторов с корреляцией выше порогового значения;\n",
    "    * False - исключается фактор с наименьшим Джини из списка коррелирующих факторов."
   ]
  },
  {
   "cell_type": "code",
   "execution_count": 16,
   "id": "9a2437b2",
   "metadata": {},
   "outputs": [
    {
     "name": "stdout",
     "output_type": "stream",
     "text": [
      "Определены только количественные переменные!\n",
      "Количество факторов до: 25\n",
      "==================================================\n",
      "Количество факторов после корреляционного анализа: 7\n"
     ]
    }
   ],
   "source": [
    "# Корреляционный анализ \n",
    "\n",
    "feat_after_corr = feature_selection.corr_analysis(method='spearman',\n",
    "                                                  threshold=0.4, \n",
    "                                                  drop_with_most_correlations=True)"
   ]
  },
  {
   "cell_type": "code",
   "execution_count": 17,
   "id": "ee0b3e0f",
   "metadata": {},
   "outputs": [
    {
     "data": {
      "text/html": [
       "<div>\n",
       "<style scoped>\n",
       "    .dataframe tbody tr th:only-of-type {\n",
       "        vertical-align: middle;\n",
       "    }\n",
       "\n",
       "    .dataframe tbody tr th {\n",
       "        vertical-align: top;\n",
       "    }\n",
       "\n",
       "    .dataframe thead th {\n",
       "        text-align: right;\n",
       "    }\n",
       "</style>\n",
       "<table border=\"1\" class=\"dataframe\">\n",
       "  <thead>\n",
       "    <tr style=\"text-align: right;\">\n",
       "      <th></th>\n",
       "      <th>Корреляция более 40.0%</th>\n",
       "    </tr>\n",
       "  </thead>\n",
       "  <tbody>\n",
       "    <tr>\n",
       "      <th>feature_16</th>\n",
       "      <td>['feature_17', 'feature_19', 'feature_21', 'fe...</td>\n",
       "    </tr>\n",
       "    <tr>\n",
       "      <th>feature_7</th>\n",
       "      <td>['feature_8', 'feature_3', 'feature_12', 'feat...</td>\n",
       "    </tr>\n",
       "    <tr>\n",
       "      <th>feature_21</th>\n",
       "      <td>['feature_20', 'feature_2', 'feature_13', 'fea...</td>\n",
       "    </tr>\n",
       "    <tr>\n",
       "      <th>feature_0</th>\n",
       "      <td>['feature_15', 'feature_17', 'feature_19', 'fe...</td>\n",
       "    </tr>\n",
       "    <tr>\n",
       "      <th>feature_14</th>\n",
       "      <td>['feature_12', 'feature_24', 'feature_6', 'fea...</td>\n",
       "    </tr>\n",
       "    <tr>\n",
       "      <th>feature_20</th>\n",
       "      <td>['feature_22', 'feature_4', 'feature_11', 'fea...</td>\n",
       "    </tr>\n",
       "    <tr>\n",
       "      <th>feature_15</th>\n",
       "      <td>['feature_19', 'feature_18', 'feature_9', 'fea...</td>\n",
       "    </tr>\n",
       "    <tr>\n",
       "      <th>feature_12</th>\n",
       "      <td>['feature_6', 'feature_24', 'feature_19', 'fea...</td>\n",
       "    </tr>\n",
       "    <tr>\n",
       "      <th>feature_9</th>\n",
       "      <td>['feature_19', 'feature_8', 'feature_3', 'feat...</td>\n",
       "    </tr>\n",
       "    <tr>\n",
       "      <th>feature_17</th>\n",
       "      <td>['feature_24', 'feature_19', 'feature_13', 'fe...</td>\n",
       "    </tr>\n",
       "    <tr>\n",
       "      <th>feature_22</th>\n",
       "      <td>['feature_10', 'feature_13', 'feature_4', 'fea...</td>\n",
       "    </tr>\n",
       "    <tr>\n",
       "      <th>feature_11</th>\n",
       "      <td>['feature_3', 'feature_8', 'feature_23', 'feat...</td>\n",
       "    </tr>\n",
       "    <tr>\n",
       "      <th>feature_4</th>\n",
       "      <td>['feature_6', 'feature_5', 'feature_2']</td>\n",
       "    </tr>\n",
       "    <tr>\n",
       "      <th>feature_18</th>\n",
       "      <td>['feature_19', 'feature_8']</td>\n",
       "    </tr>\n",
       "    <tr>\n",
       "      <th>feature_10</th>\n",
       "      <td>['feature_19', 'feature_2']</td>\n",
       "    </tr>\n",
       "    <tr>\n",
       "      <th>feature_24</th>\n",
       "      <td>['feature_6']</td>\n",
       "    </tr>\n",
       "    <tr>\n",
       "      <th>feature_8</th>\n",
       "      <td>['feature_3']</td>\n",
       "    </tr>\n",
       "    <tr>\n",
       "      <th>feature_2</th>\n",
       "      <td>['feature_13']</td>\n",
       "    </tr>\n",
       "  </tbody>\n",
       "</table>\n",
       "</div>"
      ],
      "text/plain": [
       "                                       Корреляция более 40.0%\n",
       "feature_16  ['feature_17', 'feature_19', 'feature_21', 'fe...\n",
       "feature_7   ['feature_8', 'feature_3', 'feature_12', 'feat...\n",
       "feature_21  ['feature_20', 'feature_2', 'feature_13', 'fea...\n",
       "feature_0   ['feature_15', 'feature_17', 'feature_19', 'fe...\n",
       "feature_14  ['feature_12', 'feature_24', 'feature_6', 'fea...\n",
       "feature_20  ['feature_22', 'feature_4', 'feature_11', 'fea...\n",
       "feature_15  ['feature_19', 'feature_18', 'feature_9', 'fea...\n",
       "feature_12  ['feature_6', 'feature_24', 'feature_19', 'fea...\n",
       "feature_9   ['feature_19', 'feature_8', 'feature_3', 'feat...\n",
       "feature_17  ['feature_24', 'feature_19', 'feature_13', 'fe...\n",
       "feature_22  ['feature_10', 'feature_13', 'feature_4', 'fea...\n",
       "feature_11  ['feature_3', 'feature_8', 'feature_23', 'feat...\n",
       "feature_4             ['feature_6', 'feature_5', 'feature_2']\n",
       "feature_18                        ['feature_19', 'feature_8']\n",
       "feature_10                        ['feature_19', 'feature_2']\n",
       "feature_24                                      ['feature_6']\n",
       "feature_8                                       ['feature_3']\n",
       "feature_2                                      ['feature_13']"
      ]
     },
     "execution_count": 17,
     "metadata": {},
     "output_type": "execute_result"
    }
   ],
   "source": [
    "# функция corr_df - датафрейм с коррелирующими факторами\n",
    "\n",
    "feature_selection.corr_df"
   ]
  },
  {
   "cell_type": "code",
   "execution_count": 18,
   "id": "03b9160c",
   "metadata": {},
   "outputs": [
    {
     "data": {
      "text/html": [
       "<div>\n",
       "<style scoped>\n",
       "    .dataframe tbody tr th:only-of-type {\n",
       "        vertical-align: middle;\n",
       "    }\n",
       "\n",
       "    .dataframe tbody tr th {\n",
       "        vertical-align: top;\n",
       "    }\n",
       "\n",
       "    .dataframe thead th {\n",
       "        text-align: right;\n",
       "    }\n",
       "</style>\n",
       "<table border=\"1\" class=\"dataframe\">\n",
       "  <thead>\n",
       "    <tr style=\"text-align: right;\">\n",
       "      <th></th>\n",
       "      <th>metric</th>\n",
       "    </tr>\n",
       "  </thead>\n",
       "  <tbody>\n",
       "    <tr>\n",
       "      <th>feature_9</th>\n",
       "      <td>0.0844</td>\n",
       "    </tr>\n",
       "    <tr>\n",
       "      <th>feature_13</th>\n",
       "      <td>0.0719</td>\n",
       "    </tr>\n",
       "    <tr>\n",
       "      <th>feature_3</th>\n",
       "      <td>0.0701</td>\n",
       "    </tr>\n",
       "    <tr>\n",
       "      <th>feature_16</th>\n",
       "      <td>0.0651</td>\n",
       "    </tr>\n",
       "    <tr>\n",
       "      <th>feature_21</th>\n",
       "      <td>0.0597</td>\n",
       "    </tr>\n",
       "    <tr>\n",
       "      <th>feature_2</th>\n",
       "      <td>0.0585</td>\n",
       "    </tr>\n",
       "    <tr>\n",
       "      <th>feature_19</th>\n",
       "      <td>0.0582</td>\n",
       "    </tr>\n",
       "    <tr>\n",
       "      <th>feature_8</th>\n",
       "      <td>0.0543</td>\n",
       "    </tr>\n",
       "    <tr>\n",
       "      <th>feature_4</th>\n",
       "      <td>0.0424</td>\n",
       "    </tr>\n",
       "    <tr>\n",
       "      <th>feature_7</th>\n",
       "      <td>0.0375</td>\n",
       "    </tr>\n",
       "    <tr>\n",
       "      <th>feature_10</th>\n",
       "      <td>0.0373</td>\n",
       "    </tr>\n",
       "    <tr>\n",
       "      <th>feature_11</th>\n",
       "      <td>0.0365</td>\n",
       "    </tr>\n",
       "    <tr>\n",
       "      <th>feature_6</th>\n",
       "      <td>0.0352</td>\n",
       "    </tr>\n",
       "    <tr>\n",
       "      <th>feature_15</th>\n",
       "      <td>0.0298</td>\n",
       "    </tr>\n",
       "    <tr>\n",
       "      <th>feature_12</th>\n",
       "      <td>0.0270</td>\n",
       "    </tr>\n",
       "    <tr>\n",
       "      <th>feature_1</th>\n",
       "      <td>0.0265</td>\n",
       "    </tr>\n",
       "    <tr>\n",
       "      <th>feature_22</th>\n",
       "      <td>0.0263</td>\n",
       "    </tr>\n",
       "    <tr>\n",
       "      <th>feature_17</th>\n",
       "      <td>0.0235</td>\n",
       "    </tr>\n",
       "    <tr>\n",
       "      <th>feature_5</th>\n",
       "      <td>0.0219</td>\n",
       "    </tr>\n",
       "    <tr>\n",
       "      <th>feature_0</th>\n",
       "      <td>0.0105</td>\n",
       "    </tr>\n",
       "    <tr>\n",
       "      <th>feature_20</th>\n",
       "      <td>0.0061</td>\n",
       "    </tr>\n",
       "    <tr>\n",
       "      <th>feature_24</th>\n",
       "      <td>0.0056</td>\n",
       "    </tr>\n",
       "    <tr>\n",
       "      <th>feature_18</th>\n",
       "      <td>0.0046</td>\n",
       "    </tr>\n",
       "    <tr>\n",
       "      <th>feature_23</th>\n",
       "      <td>0.0012</td>\n",
       "    </tr>\n",
       "    <tr>\n",
       "      <th>feature_14</th>\n",
       "      <td>0.0001</td>\n",
       "    </tr>\n",
       "  </tbody>\n",
       "</table>\n",
       "</div>"
      ],
      "text/plain": [
       "            metric\n",
       "feature_9   0.0844\n",
       "feature_13  0.0719\n",
       "feature_3   0.0701\n",
       "feature_16  0.0651\n",
       "feature_21  0.0597\n",
       "feature_2   0.0585\n",
       "feature_19  0.0582\n",
       "feature_8   0.0543\n",
       "feature_4   0.0424\n",
       "feature_7   0.0375\n",
       "feature_10  0.0373\n",
       "feature_11  0.0365\n",
       "feature_6   0.0352\n",
       "feature_15  0.0298\n",
       "feature_12  0.0270\n",
       "feature_1   0.0265\n",
       "feature_22  0.0263\n",
       "feature_17  0.0235\n",
       "feature_5   0.0219\n",
       "feature_0   0.0105\n",
       "feature_20  0.0061\n",
       "feature_24  0.0056\n",
       "feature_18  0.0046\n",
       "feature_23  0.0012\n",
       "feature_14  0.0001"
      ]
     },
     "execution_count": 18,
     "metadata": {},
     "output_type": "execute_result"
    }
   ],
   "source": [
    "# функция metric_res - датафрейм с метриками однофакторного анализа\n",
    "\n",
    "feature_selection.metric_res"
   ]
  },
  {
   "cell_type": "code",
   "execution_count": 19,
   "id": "470a88fe",
   "metadata": {},
   "outputs": [
    {
     "data": {
      "text/plain": [
       "['feature_6',\n",
       " 'feature_1',\n",
       " 'feature_19',\n",
       " 'feature_3',\n",
       " 'feature_23',\n",
       " 'feature_5',\n",
       " 'feature_13']"
      ]
     },
     "execution_count": 19,
     "metadata": {},
     "output_type": "execute_result"
    }
   ],
   "source": [
    "# Функция feat_after_corr - список факторов после корреляционного анализа\n",
    "\n",
    "feature_selection.feat_after_corr"
   ]
  },
  {
   "cell_type": "code",
   "execution_count": 20,
   "id": "64b350f4",
   "metadata": {},
   "outputs": [],
   "source": [
    "# Прописываем необходимую функцию для метрики\n",
    "\n",
    "from sklearn.metrics import f1_score\n",
    "\n",
    "def f1_macro(ytr,ypred):\n",
    "    return f1_score(ytr,ypred,average='macro')"
   ]
  },
  {
   "cell_type": "markdown",
   "id": "744fddbf",
   "metadata": {},
   "source": [
    "## 2. Отбор признаков с помощью углубления древовидных алгоритмов"
   ]
  },
  {
   "cell_type": "markdown",
   "id": "63fd7638",
   "metadata": {},
   "source": [
    "### Метод depth_analysis используется для отбора факторов относительно глубины алгоритма.\n",
    "\n",
    "* В параметры передаются список факторов и максимальная глубина до которой будут расчитываться важности признаков.\n",
    "\n",
    "\n",
    "* На выходе мы получаем таблицу из факторов отсортированных по важности, таблицу из факторов отрсортированных по рангу признака, список факторов из отсортированных по важности, список факторов из отсортированных по рангу.\n",
    "\n",
    "\n",
    "    * Аргоритм отбора относительно глубины: модель обучается на всех факторах в цикле с глубиной от 1 до максимально указанной. Далее выводятся важности по каждому признаку в каждой глубине. После чего значение усредняется по каждому признаку и сортируется по убыванию.\n",
    "    \n",
    "    * Алгоритм отбора относительно ранга в глубине: аналогично предыдущему, только при каждом значении глубины отбираются признаки со значением важности >0, по ним расставляются ранговые значения, и расчитывается среднее внутри каждой глубины. После чего ранги усредняются относительно глубин и сортируются по убыванию."
   ]
  },
  {
   "cell_type": "code",
   "execution_count": 21,
   "id": "778c53c8",
   "metadata": {},
   "outputs": [
    {
     "name": "stdout",
     "output_type": "stream",
     "text": [
      "Определены только количественные переменные!\n"
     ]
    },
    {
     "data": {
      "application/vnd.jupyter.widget-view+json": {
       "model_id": "c13af3a47c7f41e8aeabdd6af242e888",
       "version_major": 2,
       "version_minor": 0
      },
      "text/plain": [
       "  0%|          | 0/3 [00:00<?, ?it/s]"
      ]
     },
     "metadata": {},
     "output_type": "display_data"
    },
    {
     "name": "stdout",
     "output_type": "stream",
     "text": [
      "Количество признаков до отбора: 7\n",
      "==================================================\n",
      "Количество признаков после mean importance относительно глубины: 7\n",
      "Количество признаков после mean rank относительно глубины: 7\n"
     ]
    },
    {
     "data": {
      "text/html": [
       "<div>\n",
       "<style scoped>\n",
       "    .dataframe tbody tr th:only-of-type {\n",
       "        vertical-align: middle;\n",
       "    }\n",
       "\n",
       "    .dataframe tbody tr th {\n",
       "        vertical-align: top;\n",
       "    }\n",
       "\n",
       "    .dataframe thead th {\n",
       "        text-align: right;\n",
       "    }\n",
       "</style>\n",
       "<table border=\"1\" class=\"dataframe\">\n",
       "  <thead>\n",
       "    <tr style=\"text-align: right;\">\n",
       "      <th></th>\n",
       "      <th>importance_depth_1</th>\n",
       "      <th>importance_depth_2</th>\n",
       "      <th>importance_depth_3</th>\n",
       "      <th>mean_importance</th>\n",
       "      <th>mean_rank</th>\n",
       "    </tr>\n",
       "  </thead>\n",
       "  <tbody>\n",
       "    <tr>\n",
       "      <th>feature_3</th>\n",
       "      <td>10756.419315</td>\n",
       "      <td>14550.386434</td>\n",
       "      <td>15834.568316</td>\n",
       "      <td>13713.791355</td>\n",
       "      <td>0.238095</td>\n",
       "    </tr>\n",
       "    <tr>\n",
       "      <th>feature_13</th>\n",
       "      <td>11502.512401</td>\n",
       "      <td>13801.225820</td>\n",
       "      <td>15642.047068</td>\n",
       "      <td>13648.595097</td>\n",
       "      <td>0.226190</td>\n",
       "    </tr>\n",
       "    <tr>\n",
       "      <th>feature_5</th>\n",
       "      <td>3401.692204</td>\n",
       "      <td>6525.820593</td>\n",
       "      <td>8397.324958</td>\n",
       "      <td>6108.279252</td>\n",
       "      <td>0.166667</td>\n",
       "    </tr>\n",
       "    <tr>\n",
       "      <th>feature_19</th>\n",
       "      <td>4232.863162</td>\n",
       "      <td>5594.355567</td>\n",
       "      <td>7159.991299</td>\n",
       "      <td>5662.403343</td>\n",
       "      <td>0.154762</td>\n",
       "    </tr>\n",
       "    <tr>\n",
       "      <th>feature_6</th>\n",
       "      <td>1265.394314</td>\n",
       "      <td>5018.421920</td>\n",
       "      <td>7078.078052</td>\n",
       "      <td>4453.964762</td>\n",
       "      <td>0.107143</td>\n",
       "    </tr>\n",
       "  </tbody>\n",
       "</table>\n",
       "</div>"
      ],
      "text/plain": [
       "            importance_depth_1  importance_depth_2  importance_depth_3  \\\n",
       "feature_3         10756.419315        14550.386434        15834.568316   \n",
       "feature_13        11502.512401        13801.225820        15642.047068   \n",
       "feature_5          3401.692204         6525.820593         8397.324958   \n",
       "feature_19         4232.863162         5594.355567         7159.991299   \n",
       "feature_6          1265.394314         5018.421920         7078.078052   \n",
       "\n",
       "            mean_importance  mean_rank  \n",
       "feature_3      13713.791355   0.238095  \n",
       "feature_13     13648.595097   0.226190  \n",
       "feature_5       6108.279252   0.166667  \n",
       "feature_19      5662.403343   0.154762  \n",
       "feature_6       4453.964762   0.107143  "
      ]
     },
     "metadata": {},
     "output_type": "display_data"
    }
   ],
   "source": [
    "# Анализ относительно глубины\n",
    "\n",
    "depth_features, rank_features = feature_selection.depth_analysis(features=feat_after_corr,\n",
    "                                                                 max_depth=3)"
   ]
  },
  {
   "cell_type": "markdown",
   "id": "046742c7",
   "metadata": {},
   "source": [
    "# 3. Проверка Permutation Importance на одной модели с разными алгоритмами sklearn, eli5, собственный код (kib)\n",
    "\n",
    "    * Код является примером. Не обязательно использовать все три способа. Необходимо отталкиваться от размера выборки и типа задачи (классификация, мультикласс, регрессия). Для задач классификации наиболее оптимальными являются eli5 / kib. Для задач регрессии kib / sklearn.\n",
    "    \n",
    "    * Для начала применяем конвеер трансформации категориальных и численных признаков, после чего обучаем алгоритм при наших ранее заданных параметрах."
   ]
  },
  {
   "cell_type": "code",
   "execution_count": 22,
   "id": "9cecb4ac",
   "metadata": {},
   "outputs": [],
   "source": [
    "# Задаем стратегию деления больших данных для расчета permutation importance на подмножестве обучающего множества\n",
    "\n",
    "strat = StratifiedKFold(n_splits=3,\n",
    "                        shuffle=True,\n",
    "                        random_state=42)"
   ]
  },
  {
   "cell_type": "markdown",
   "id": "fac004fc",
   "metadata": {},
   "source": [
    "* На вход подаются список факторов после анализа относительно глубины / корреляционного анализа / анализа пропусков, стратегия деления, количество перемешиваний, тип перемешивания, число ядер, метрика и направление метрики (для типа перемешивания kib)"
   ]
  },
  {
   "cell_type": "markdown",
   "id": "ca9888e5",
   "metadata": {},
   "source": [
    "### 3.1 От Sklearn"
   ]
  },
  {
   "cell_type": "code",
   "execution_count": 23,
   "id": "b7d29d75",
   "metadata": {},
   "outputs": [
    {
     "name": "stdout",
     "output_type": "stream",
     "text": [
      "Размер обучающего подмножества для Permutation importance: (700, 26) ; Среднее значение таргета: 0.9985714285714286\n",
      "\n",
      "Размер тестового подмножества для Permutation importance: (350, 26) ; Среднее значение таргета: 0.9942857142857143\n",
      "==================================================\n",
      "Определены только количественные переменные!\n"
     ]
    },
    {
     "data": {
      "text/html": [
       "<div>\n",
       "<style scoped>\n",
       "    .dataframe tbody tr th:only-of-type {\n",
       "        vertical-align: middle;\n",
       "    }\n",
       "\n",
       "    .dataframe tbody tr th {\n",
       "        vertical-align: top;\n",
       "    }\n",
       "\n",
       "    .dataframe thead th {\n",
       "        text-align: right;\n",
       "    }\n",
       "</style>\n",
       "<table border=\"1\" class=\"dataframe\">\n",
       "  <thead>\n",
       "    <tr style=\"text-align: right;\">\n",
       "      <th></th>\n",
       "      <th>Perm_Importance_Tr</th>\n",
       "      <th>Perm_Importance_Te</th>\n",
       "    </tr>\n",
       "    <tr>\n",
       "      <th>Feature</th>\n",
       "      <th></th>\n",
       "      <th></th>\n",
       "    </tr>\n",
       "  </thead>\n",
       "  <tbody>\n",
       "    <tr>\n",
       "      <th>feature_13</th>\n",
       "      <td>0.250857</td>\n",
       "      <td>0.202286</td>\n",
       "    </tr>\n",
       "    <tr>\n",
       "      <th>feature_3</th>\n",
       "      <td>0.286286</td>\n",
       "      <td>0.198286</td>\n",
       "    </tr>\n",
       "    <tr>\n",
       "      <th>feature_5</th>\n",
       "      <td>0.152000</td>\n",
       "      <td>0.099714</td>\n",
       "    </tr>\n",
       "    <tr>\n",
       "      <th>feature_23</th>\n",
       "      <td>0.154000</td>\n",
       "      <td>0.085429</td>\n",
       "    </tr>\n",
       "    <tr>\n",
       "      <th>feature_6</th>\n",
       "      <td>0.129143</td>\n",
       "      <td>0.067429</td>\n",
       "    </tr>\n",
       "    <tr>\n",
       "      <th>feature_1</th>\n",
       "      <td>0.106429</td>\n",
       "      <td>0.066857</td>\n",
       "    </tr>\n",
       "    <tr>\n",
       "      <th>feature_19</th>\n",
       "      <td>0.094714</td>\n",
       "      <td>0.063714</td>\n",
       "    </tr>\n",
       "    <tr>\n",
       "      <th>random_feature</th>\n",
       "      <td>0.012571</td>\n",
       "      <td>-0.010000</td>\n",
       "    </tr>\n",
       "  </tbody>\n",
       "</table>\n",
       "</div>"
      ],
      "text/plain": [
       "                Perm_Importance_Tr  Perm_Importance_Te\n",
       "Feature                                               \n",
       "feature_13                0.250857            0.202286\n",
       "feature_3                 0.286286            0.198286\n",
       "feature_5                 0.152000            0.099714\n",
       "feature_23                0.154000            0.085429\n",
       "feature_6                 0.129143            0.067429\n",
       "feature_1                 0.106429            0.066857\n",
       "feature_19                0.094714            0.063714\n",
       "random_feature            0.012571           -0.010000"
      ]
     },
     "execution_count": 23,
     "metadata": {},
     "output_type": "execute_result"
    }
   ],
   "source": [
    "feature_selection.permutation_analysis(features=depth_features,\n",
    "                                       strat=strat,\n",
    "                                       n_iter=10,\n",
    "                                       permute_type='sklearn',\n",
    "                                       n_jobs=-1,\n",
    " #                                      metric=roc_auc_score,\n",
    " #                                      higher_is_better=True\n",
    "                                      )"
   ]
  },
  {
   "cell_type": "code",
   "execution_count": 24,
   "id": "ac5ae096",
   "metadata": {},
   "outputs": [
    {
     "data": {
      "image/png": "[encoded data removed]",
      "text/plain": [
       "<Figure size 864x432 with 1 Axes>"
      ]
     },
     "metadata": {
      "needs_background": "light"
     },
     "output_type": "display_data"
    }
   ],
   "source": [
    "# вызов функции permutation_plot отрисовывает топ важности по методу permutation importance\n",
    "\n",
    "feature_selection.permutation_plot(top=10, figsize=(12,6))"
   ]
  },
  {
   "cell_type": "markdown",
   "id": "ea51a3f5",
   "metadata": {},
   "source": [
    "#### Вызов функции select_features выдает список отобранных признаков. \n",
    "\n",
    "* Отбор происходит следующим образом:\n",
    "    * Если на тестовом множестве значение метрики относительно перемешанного факторо и рандомного признака ниже нуля, то отбираются все признаки выше нуля.\n",
    "    * Если рандомный признак имеет положительное значение на тестовом множестве, то отбираются все признаки выше значения при рандомном признаке."
   ]
  },
  {
   "cell_type": "code",
   "execution_count": 25,
   "id": "5a57fe55",
   "metadata": {},
   "outputs": [
    {
     "name": "stdout",
     "output_type": "stream",
     "text": [
      "8 признаков было до Permutation Importance \n",
      "\n",
      "7 признаков после Permutation Importance от sklearn\n"
     ]
    },
    {
     "data": {
      "text/plain": [
       "['feature_13',\n",
       " 'feature_3',\n",
       " 'feature_5',\n",
       " 'feature_23',\n",
       " 'feature_6',\n",
       " 'feature_1',\n",
       " 'feature_19']"
      ]
     },
     "execution_count": 25,
     "metadata": {},
     "output_type": "execute_result"
    }
   ],
   "source": [
    "feature_selection.select_features()"
   ]
  },
  {
   "cell_type": "markdown",
   "id": "098ef02d",
   "metadata": {},
   "source": [
    "### 3.2 От Eli5"
   ]
  },
  {
   "cell_type": "code",
   "execution_count": 26,
   "id": "c1aeac1b",
   "metadata": {},
   "outputs": [
    {
     "name": "stdout",
     "output_type": "stream",
     "text": [
      "Размер обучающего подмножества для Permutation importance: (700, 26) ; Среднее значение таргета: 0.9985714285714286\n",
      "\n",
      "Размер тестового подмножества для Permutation importance: (350, 26) ; Среднее значение таргета: 0.9942857142857143\n",
      "==================================================\n",
      "Определены только количественные переменные!\n"
     ]
    },
    {
     "data": {
      "text/html": [
       "<div>\n",
       "<style scoped>\n",
       "    .dataframe tbody tr th:only-of-type {\n",
       "        vertical-align: middle;\n",
       "    }\n",
       "\n",
       "    .dataframe tbody tr th {\n",
       "        vertical-align: top;\n",
       "    }\n",
       "\n",
       "    .dataframe thead th {\n",
       "        text-align: right;\n",
       "    }\n",
       "</style>\n",
       "<table border=\"1\" class=\"dataframe\">\n",
       "  <thead>\n",
       "    <tr style=\"text-align: right;\">\n",
       "      <th></th>\n",
       "      <th>Perm_Importance_Tr</th>\n",
       "      <th>Perm_Importance_Te</th>\n",
       "    </tr>\n",
       "    <tr>\n",
       "      <th>Feature</th>\n",
       "      <th></th>\n",
       "      <th></th>\n",
       "    </tr>\n",
       "  </thead>\n",
       "  <tbody>\n",
       "    <tr>\n",
       "      <th>feature_13</th>\n",
       "      <td>0.240143</td>\n",
       "      <td>0.196000</td>\n",
       "    </tr>\n",
       "    <tr>\n",
       "      <th>feature_3</th>\n",
       "      <td>0.290429</td>\n",
       "      <td>0.190286</td>\n",
       "    </tr>\n",
       "    <tr>\n",
       "      <th>feature_5</th>\n",
       "      <td>0.146571</td>\n",
       "      <td>0.096857</td>\n",
       "    </tr>\n",
       "    <tr>\n",
       "      <th>feature_23</th>\n",
       "      <td>0.154714</td>\n",
       "      <td>0.086286</td>\n",
       "    </tr>\n",
       "    <tr>\n",
       "      <th>feature_6</th>\n",
       "      <td>0.126429</td>\n",
       "      <td>0.082000</td>\n",
       "    </tr>\n",
       "    <tr>\n",
       "      <th>feature_19</th>\n",
       "      <td>0.092000</td>\n",
       "      <td>0.062286</td>\n",
       "    </tr>\n",
       "    <tr>\n",
       "      <th>feature_1</th>\n",
       "      <td>0.114429</td>\n",
       "      <td>0.060000</td>\n",
       "    </tr>\n",
       "    <tr>\n",
       "      <th>random_feature</th>\n",
       "      <td>0.014857</td>\n",
       "      <td>-0.010000</td>\n",
       "    </tr>\n",
       "  </tbody>\n",
       "</table>\n",
       "</div>"
      ],
      "text/plain": [
       "                Perm_Importance_Tr  Perm_Importance_Te\n",
       "Feature                                               \n",
       "feature_13                0.240143            0.196000\n",
       "feature_3                 0.290429            0.190286\n",
       "feature_5                 0.146571            0.096857\n",
       "feature_23                0.154714            0.086286\n",
       "feature_6                 0.126429            0.082000\n",
       "feature_19                0.092000            0.062286\n",
       "feature_1                 0.114429            0.060000\n",
       "random_feature            0.014857           -0.010000"
      ]
     },
     "execution_count": 26,
     "metadata": {},
     "output_type": "execute_result"
    }
   ],
   "source": [
    "feature_selection.permutation_analysis(features=depth_features,\n",
    "                                       strat=strat,\n",
    "                                       n_iter=10,\n",
    "                                       permute_type='eli5',\n",
    " #                                      n_jobs=-1,\n",
    " #                                      metric=roc_auc_score,\n",
    " #                                      higher_is_better=True\n",
    "                                      )"
   ]
  },
  {
   "cell_type": "code",
   "execution_count": 27,
   "id": "c315de6a",
   "metadata": {},
   "outputs": [
    {
     "data": {
      "image/png": "[encoded data removed]",
      "text/plain": [
       "<Figure size 1152x864 with 1 Axes>"
      ]
     },
     "metadata": {
      "needs_background": "light"
     },
     "output_type": "display_data"
    }
   ],
   "source": [
    "feature_selection.permutation_plot(figsize=(16,12), top=10)"
   ]
  },
  {
   "cell_type": "code",
   "execution_count": 28,
   "id": "1f325b8b",
   "metadata": {},
   "outputs": [
    {
     "name": "stdout",
     "output_type": "stream",
     "text": [
      "8 признаков было до Permutation Importance \n",
      "\n",
      "7 признаков после Permutation Importance от eli5\n"
     ]
    },
    {
     "data": {
      "text/plain": [
       "['feature_13',\n",
       " 'feature_3',\n",
       " 'feature_5',\n",
       " 'feature_23',\n",
       " 'feature_6',\n",
       " 'feature_19',\n",
       " 'feature_1']"
      ]
     },
     "execution_count": 28,
     "metadata": {},
     "output_type": "execute_result"
    }
   ],
   "source": [
    "feature_selection.select_features()"
   ]
  },
  {
   "cell_type": "markdown",
   "id": "4d0aec91",
   "metadata": {},
   "source": [
    "### 3.3 Самописный permutation kib"
   ]
  },
  {
   "cell_type": "code",
   "execution_count": 29,
   "id": "9fb1c691",
   "metadata": {},
   "outputs": [
    {
     "name": "stdout",
     "output_type": "stream",
     "text": [
      "Размер обучающего подмножества для Permutation importance: (700, 26) ; Среднее значение таргета: 0.9985714285714286\n",
      "\n",
      "Размер тестового подмножества для Permutation importance: (350, 26) ; Среднее значение таргета: 0.9942857142857143\n",
      "==================================================\n",
      "Определены только количественные переменные!\n",
      "Расчет Permutation Importance на Train\n"
     ]
    },
    {
     "name": "stderr",
     "output_type": "stream",
     "text": [
      "100%|██████████| 8/8 [00:07<00:00,  1.14it/s]\n"
     ]
    },
    {
     "name": "stdout",
     "output_type": "stream",
     "text": [
      "Расчет Permutation Importance на Test\n"
     ]
    },
    {
     "name": "stderr",
     "output_type": "stream",
     "text": [
      "100%|██████████| 8/8 [00:02<00:00,  2.95it/s]\n"
     ]
    },
    {
     "data": {
      "text/html": [
       "<div>\n",
       "<style scoped>\n",
       "    .dataframe tbody tr th:only-of-type {\n",
       "        vertical-align: middle;\n",
       "    }\n",
       "\n",
       "    .dataframe tbody tr th {\n",
       "        vertical-align: top;\n",
       "    }\n",
       "\n",
       "    .dataframe thead th {\n",
       "        text-align: right;\n",
       "    }\n",
       "</style>\n",
       "<table border=\"1\" class=\"dataframe\">\n",
       "  <thead>\n",
       "    <tr style=\"text-align: right;\">\n",
       "      <th></th>\n",
       "      <th>Perm_Importance_Tr</th>\n",
       "      <th>Perm_Importance_Te</th>\n",
       "    </tr>\n",
       "    <tr>\n",
       "      <th>Feature</th>\n",
       "      <th></th>\n",
       "      <th></th>\n",
       "    </tr>\n",
       "  </thead>\n",
       "  <tbody>\n",
       "    <tr>\n",
       "      <th>feature_13</th>\n",
       "      <td>0.238784</td>\n",
       "      <td>0.196632</td>\n",
       "    </tr>\n",
       "    <tr>\n",
       "      <th>feature_3</th>\n",
       "      <td>0.282238</td>\n",
       "      <td>0.191642</td>\n",
       "    </tr>\n",
       "    <tr>\n",
       "      <th>feature_5</th>\n",
       "      <td>0.153502</td>\n",
       "      <td>0.095758</td>\n",
       "    </tr>\n",
       "    <tr>\n",
       "      <th>feature_23</th>\n",
       "      <td>0.149153</td>\n",
       "      <td>0.083460</td>\n",
       "    </tr>\n",
       "    <tr>\n",
       "      <th>feature_6</th>\n",
       "      <td>0.133823</td>\n",
       "      <td>0.070596</td>\n",
       "    </tr>\n",
       "    <tr>\n",
       "      <th>feature_19</th>\n",
       "      <td>0.093460</td>\n",
       "      <td>0.066181</td>\n",
       "    </tr>\n",
       "    <tr>\n",
       "      <th>feature_1</th>\n",
       "      <td>0.106025</td>\n",
       "      <td>0.062257</td>\n",
       "    </tr>\n",
       "    <tr>\n",
       "      <th>random_feature</th>\n",
       "      <td>0.013015</td>\n",
       "      <td>-0.005680</td>\n",
       "    </tr>\n",
       "  </tbody>\n",
       "</table>\n",
       "</div>"
      ],
      "text/plain": [
       "                Perm_Importance_Tr  Perm_Importance_Te\n",
       "Feature                                               \n",
       "feature_13                0.238784            0.196632\n",
       "feature_3                 0.282238            0.191642\n",
       "feature_5                 0.153502            0.095758\n",
       "feature_23                0.149153            0.083460\n",
       "feature_6                 0.133823            0.070596\n",
       "feature_19                0.093460            0.066181\n",
       "feature_1                 0.106025            0.062257\n",
       "random_feature            0.013015           -0.005680"
      ]
     },
     "execution_count": 29,
     "metadata": {},
     "output_type": "execute_result"
    }
   ],
   "source": [
    "feature_selection.permutation_analysis(features=depth_features,\n",
    "                                       strat=strat,\n",
    "                                       n_iter=10,\n",
    "                                       permute_type='kib',\n",
    "                                       n_jobs=-1,\n",
    "                                       metric=f1_macro,\n",
    "                                       higher_is_better=True)"
   ]
  },
  {
   "cell_type": "code",
   "execution_count": 30,
   "id": "d52b9db5",
   "metadata": {},
   "outputs": [
    {
     "data": {
      "image/png": "[encoded data removed]",
      "text/plain": [
       "<Figure size 1152x864 with 1 Axes>"
      ]
     },
     "metadata": {
      "needs_background": "light"
     },
     "output_type": "display_data"
    }
   ],
   "source": [
    "feature_selection.permutation_plot(figsize=(16,12), top=10)"
   ]
  },
  {
   "cell_type": "code",
   "execution_count": 31,
   "id": "03ed3a33",
   "metadata": {},
   "outputs": [
    {
     "name": "stdout",
     "output_type": "stream",
     "text": [
      "8 признаков было до Permutation Importance \n",
      "\n",
      "7 признаков после Permutation Importance от kib\n"
     ]
    },
    {
     "data": {
      "text/plain": [
       "['feature_13',\n",
       " 'feature_3',\n",
       " 'feature_5',\n",
       " 'feature_23',\n",
       " 'feature_6',\n",
       " 'feature_19',\n",
       " 'feature_1']"
      ]
     },
     "execution_count": 31,
     "metadata": {},
     "output_type": "execute_result"
    }
   ],
   "source": [
    "feature_selection.select_features()"
   ]
  },
  {
   "cell_type": "raw",
   "id": "103a9f81",
   "metadata": {},
   "source": []
  },
  {
   "cell_type": "raw",
   "id": "c570c548",
   "metadata": {},
   "source": []
  }
 ],
 "metadata": {
  "kernelspec": {
   "display_name": "Python 3",
   "language": "python",
   "name": "python3"
  },
  "language_info": {
   "codemirror_mode": {
    "name": "ipython",
    "version": 3
   },
   "file_extension": ".py",
   "mimetype": "text/x-python",
   "name": "python",
   "nbconvert_exporter": "python",
   "pygments_lexer": "ipython3",
   "version": "3.7.6"
  }
 },
 "nbformat": 4,
 "nbformat_minor": 5
}
