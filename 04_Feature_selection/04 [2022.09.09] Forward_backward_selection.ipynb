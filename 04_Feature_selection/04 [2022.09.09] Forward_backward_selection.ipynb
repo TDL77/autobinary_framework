{
 "cells": [
  {
   "cell_type": "markdown",
   "id": "d9cc5841",
   "metadata": {},
   "source": [
    "# Демонстрация автоматического расчета важностей"
   ]
  },
  {
   "cell_type": "code",
   "execution_count": 1,
   "id": "814f5fb8",
   "metadata": {},
   "outputs": [
    {
     "data": {
      "text/html": [
       "<style>.container {width:95% !important;}</style>"
      ],
      "text/plain": [
       "<IPython.core.display.HTML object>"
      ]
     },
     "metadata": {},
     "output_type": "display_data"
    }
   ],
   "source": [
    "# расширяем поле, убираем предупреждения\n",
    "from IPython.core.display import display, HTML\n",
    "display(HTML('<style>.container {width:95% !important;}</style>'))\n",
    "\n",
    "import warnings\n",
    "warnings.filterwarnings('ignore')"
   ]
  },
  {
   "cell_type": "code",
   "execution_count": 2,
   "id": "bf823b56",
   "metadata": {},
   "outputs": [],
   "source": [
    "# Стандартные библиотеки для анализа\n",
    "import pandas as pd\n",
    "pd.options.display.float_format = '{:20,.5f}'.format\n",
    "\n",
    "from sklearn.model_selection import train_test_split, StratifiedKFold\n",
    "\n",
    "import matplotlib.pylab as pl\n",
    "import lightgbm as lgb\n",
    "\n",
    "import numpy as np\n",
    "from tqdm import tqdm\n",
    "from sklearn.metrics import roc_auc_score"
   ]
  },
  {
   "cell_type": "code",
   "execution_count": 3,
   "id": "e12ac32b",
   "metadata": {},
   "outputs": [],
   "source": [
    "import sys\n",
    "sys.path.append('../')\n",
    "\n",
    "# Наша разработанная библиотека\n",
    "from autobinary import SentColumns, CatBoostEncoder, AutoTrees, base_pipe, AutoSelection"
   ]
  },
  {
   "cell_type": "code",
   "execution_count": 4,
   "id": "ce9ea3f2",
   "metadata": {},
   "outputs": [
    {
     "name": "stdout",
     "output_type": "stream",
     "text": [
      "sklearn:  0.24.2\n",
      "lightgbm : 3.3.2\n",
      "catboost : 1.0.4\n",
      "matplotlib:  3.1.0\n",
      "autobinary:  1.0.4\n"
     ]
    }
   ],
   "source": [
    "import sklearn as sk\n",
    "import xgboost as xgb\n",
    "import catboost as catb\n",
    "import matplotlib as mplot\n",
    "import autobinary as ab\n",
    "\n",
    "print('sklearn: ', sk.__version__)\n",
    "print('lightgbm :', lgb.__version__)\n",
    "print('catboost :', catb.__version__)\n",
    "print('matplotlib: ', mplot.__version__)\n",
    "print('autobinary: ', ab.__version__)"
   ]
  },
  {
   "cell_type": "code",
   "execution_count": 5,
   "id": "0507dc9d",
   "metadata": {},
   "outputs": [
    {
     "name": "stdout",
     "output_type": "stream",
     "text": [
      "Размерность данных: (1000, 26)\n"
     ]
    },
    {
     "data": {
      "text/html": [
       "<div>\n",
       "<style scoped>\n",
       "    .dataframe tbody tr th:only-of-type {\n",
       "        vertical-align: middle;\n",
       "    }\n",
       "\n",
       "    .dataframe tbody tr th {\n",
       "        vertical-align: top;\n",
       "    }\n",
       "\n",
       "    .dataframe thead th {\n",
       "        text-align: right;\n",
       "    }\n",
       "</style>\n",
       "<table border=\"1\" class=\"dataframe\">\n",
       "  <thead>\n",
       "    <tr style=\"text-align: right;\">\n",
       "      <th></th>\n",
       "      <th>feature_0</th>\n",
       "      <th>feature_1</th>\n",
       "      <th>feature_2</th>\n",
       "      <th>feature_3</th>\n",
       "      <th>feature_4</th>\n",
       "      <th>feature_5</th>\n",
       "      <th>feature_6</th>\n",
       "      <th>feature_7</th>\n",
       "      <th>feature_8</th>\n",
       "      <th>feature_9</th>\n",
       "      <th>...</th>\n",
       "      <th>feature_16</th>\n",
       "      <th>feature_17</th>\n",
       "      <th>feature_18</th>\n",
       "      <th>feature_19</th>\n",
       "      <th>feature_20</th>\n",
       "      <th>feature_21</th>\n",
       "      <th>feature_22</th>\n",
       "      <th>feature_23</th>\n",
       "      <th>feature_24</th>\n",
       "      <th>target</th>\n",
       "    </tr>\n",
       "  </thead>\n",
       "  <tbody>\n",
       "    <tr>\n",
       "      <th>0</th>\n",
       "      <td>-0.08703</td>\n",
       "      <td>1.35713</td>\n",
       "      <td>-0.60108</td>\n",
       "      <td>-3.36450</td>\n",
       "      <td>-3.38396</td>\n",
       "      <td>2.18352</td>\n",
       "      <td>2.21945</td>\n",
       "      <td>-1.90678</td>\n",
       "      <td>4.09890</td>\n",
       "      <td>1.53230</td>\n",
       "      <td>...</td>\n",
       "      <td>5.43266</td>\n",
       "      <td>1.59238</td>\n",
       "      <td>-1.43742</td>\n",
       "      <td>-2.21700</td>\n",
       "      <td>2.74544</td>\n",
       "      <td>1.07497</td>\n",
       "      <td>1.16129</td>\n",
       "      <td>1.63421</td>\n",
       "      <td>-2.07849</td>\n",
       "      <td>0</td>\n",
       "    </tr>\n",
       "    <tr>\n",
       "      <th>1</th>\n",
       "      <td>0.42706</td>\n",
       "      <td>-2.57458</td>\n",
       "      <td>-4.78315</td>\n",
       "      <td>5.21344</td>\n",
       "      <td>-1.14970</td>\n",
       "      <td>3.17040</td>\n",
       "      <td>2.08226</td>\n",
       "      <td>6.94894</td>\n",
       "      <td>-2.68050</td>\n",
       "      <td>0.15669</td>\n",
       "      <td>...</td>\n",
       "      <td>-4.05924</td>\n",
       "      <td>-0.44249</td>\n",
       "      <td>2.91312</td>\n",
       "      <td>-1.87243</td>\n",
       "      <td>-0.68255</td>\n",
       "      <td>-0.75467</td>\n",
       "      <td>-0.35606</td>\n",
       "      <td>-2.74458</td>\n",
       "      <td>2.77727</td>\n",
       "      <td>0</td>\n",
       "    </tr>\n",
       "  </tbody>\n",
       "</table>\n",
       "<p>2 rows × 26 columns</p>\n",
       "</div>"
      ],
      "text/plain": [
       "             feature_0            feature_1            feature_2  \\\n",
       "0             -0.08703              1.35713             -0.60108   \n",
       "1              0.42706             -2.57458             -4.78315   \n",
       "\n",
       "             feature_3            feature_4            feature_5  \\\n",
       "0             -3.36450             -3.38396              2.18352   \n",
       "1              5.21344             -1.14970              3.17040   \n",
       "\n",
       "             feature_6            feature_7            feature_8  \\\n",
       "0              2.21945             -1.90678              4.09890   \n",
       "1              2.08226              6.94894             -2.68050   \n",
       "\n",
       "             feature_9  ...           feature_16           feature_17  \\\n",
       "0              1.53230  ...              5.43266              1.59238   \n",
       "1              0.15669  ...             -4.05924             -0.44249   \n",
       "\n",
       "            feature_18           feature_19           feature_20  \\\n",
       "0             -1.43742             -2.21700              2.74544   \n",
       "1              2.91312             -1.87243             -0.68255   \n",
       "\n",
       "            feature_21           feature_22           feature_23  \\\n",
       "0              1.07497              1.16129              1.63421   \n",
       "1             -0.75467             -0.35606             -2.74458   \n",
       "\n",
       "            feature_24  target  \n",
       "0             -2.07849       0  \n",
       "1              2.77727       0  \n",
       "\n",
       "[2 rows x 26 columns]"
      ]
     },
     "execution_count": 5,
     "metadata": {},
     "output_type": "execute_result"
    }
   ],
   "source": [
    "from sklearn.datasets import make_classification\n",
    "\n",
    "X, y = make_classification(\n",
    "    n_samples=1000, \n",
    "    n_features=25, \n",
    "    n_informative=7, \n",
    "    n_redundant=18, \n",
    "    n_classes=2, \n",
    "    random_state=42)\n",
    "\n",
    "sample = pd.DataFrame(X)\n",
    "sample.columns = [f'feature_{i}' for i in range(len(sample.columns))]\n",
    "\n",
    "sample['target'] = y\n",
    "\n",
    "print('Размерность данных:', sample.shape)\n",
    "sample.head(2)"
   ]
  },
  {
   "cell_type": "code",
   "execution_count": 6,
   "id": "90fbf1e7",
   "metadata": {},
   "outputs": [],
   "source": [
    "num_columns = sample.drop(columns='target').columns.tolist()\n",
    "\n",
    "cat_columns = [\n",
    "]\n",
    "\n",
    "target = ['target']"
   ]
  },
  {
   "cell_type": "code",
   "execution_count": 7,
   "id": "0528486a",
   "metadata": {},
   "outputs": [],
   "source": [
    "X_train, X_val, y_train, y_val = train_test_split(\n",
    "    sample[num_columns+cat_columns],\n",
    "    sample[target],\n",
    "    test_size=0.3,\n",
    "    stratify=sample[target],\n",
    "    random_state=42\n",
    ")"
   ]
  },
  {
   "cell_type": "code",
   "execution_count": 8,
   "id": "0938561b",
   "metadata": {},
   "outputs": [],
   "source": [
    "prep_pipe = base_pipe(\n",
    "    num_columns=num_columns, \n",
    "    cat_columns=cat_columns, \n",
    "    kind='num')"
   ]
  },
  {
   "cell_type": "code",
   "execution_count": 9,
   "id": "1db195ec",
   "metadata": {},
   "outputs": [],
   "source": [
    "params = {\n",
    "    'learning_rate':0.01,\n",
    "    'iterations':500,\n",
    "    'subsample':0.9,\n",
    "    'colsample_bylevel':0.9,\n",
    "    'depth':6,\n",
    "    'loss_function':'Logloss',\n",
    "    'thread_count':-1,\n",
    "    'random_state':42,\n",
    "    'eval_metric':'AUC',\n",
    "    #'custom_metric':'Logloss',\n",
    "    'verbose':0}\n",
    "\n",
    "fit_params = {\n",
    "    'use_best_model':True,\n",
    "    'early_stopping_rounds':100, \n",
    "    'verbose':100,\n",
    "    'plot':False}\n",
    "\n",
    "# создаем экземпляр класса XGBClassifier\n",
    "catb_model = catb.CatBoostClassifier(**params)\n",
    "\n",
    "# задаем стратегию проверки\n",
    "strat = StratifiedKFold(\n",
    "    n_splits=5,\n",
    "    shuffle=True,\n",
    "    random_state=42)"
   ]
  },
  {
   "cell_type": "markdown",
   "id": "a4f89d6f",
   "metadata": {},
   "source": [
    "# 1. Применение класса `AutoSelection`\n",
    "* Передаем в параметры: функцию трансформации, количественные и категориальные признаки, параметры обучения, а также модель обучения.\n",
    "* Атрибутами являются признаковое пространство, целевая метка, название необходимой метрики для оптимизации и название используемого алгоритма."
   ]
  },
  {
   "cell_type": "code",
   "execution_count": 10,
   "id": "637f6bfd",
   "metadata": {},
   "outputs": [],
   "source": [
    "selection = AutoSelection(\n",
    "    base_pipe=base_pipe,\n",
    "    num_columns=num_columns,\n",
    "    cat_columns=cat_columns,\n",
    "    main_fit_params=fit_params,\n",
    "    main_estimator=catb_model,\n",
    "\n",
    "    X_train=X_train,\n",
    "    y_train=y_train,\n",
    "    \n",
    "    main_metric='gini',\n",
    "    model_type='catboost')"
   ]
  },
  {
   "cell_type": "markdown",
   "id": "b5168d08",
   "metadata": {},
   "source": [
    "## 1.1 Описание работы функции `forward_selection`.\n",
    "\n",
    "- **1.** Сначала обучается модель по кросс-валидационной схеме, которая определяется параметрами `strat/groups`; \n",
    "\n",
    "- **2.** Расчитывается средняя метрика по всем последним фолдам;\n",
    "\n",
    "- **3.** Из упорядоченного по важности списка факторов в модель добавляется по одному фактору, и снова происходит кросс-валидационное обучение;\n",
    "\n",
    "- **4.** Рассчитываются метрики на фолдах при добавленных признаках и сравниваются со значениями метрик на фолдах при всех фактора;\n",
    "\n",
    "- **5.** Метод останавливается как только на более, чем половине фолдах значение метрик при добавленных факторов выше, чем при всем списке факторов."
   ]
  },
  {
   "cell_type": "code",
   "execution_count": 11,
   "id": "8a7efb95",
   "metadata": {
    "scrolled": true
   },
   "outputs": [
    {
     "name": "stderr",
     "output_type": "stream",
     "text": [
      "\r",
      "0it [00:00, ?it/s]"
     ]
    },
    {
     "name": "stdout",
     "output_type": "stream",
     "text": [
      "==================== Обучение 1 фолда! ====================\n",
      "0:\ttest: 0.8915944\ttest1: 0.8652786\tbest: 0.8652786 (0)\ttotal: 56.6ms\tremaining: 28.2s\n",
      "100:\ttest: 0.9965051\ttest1: 0.9955093\tbest: 0.9955093 (97)\ttotal: 192ms\tremaining: 759ms\n",
      "200:\ttest: 0.9987500\ttest1: 0.9969382\tbest: 0.9971423 (179)\ttotal: 322ms\tremaining: 479ms\n"
     ]
    },
    {
     "name": "stderr",
     "output_type": "stream",
     "text": [
      "\r",
      "1it [00:00,  1.97it/s]"
     ]
    },
    {
     "name": "stdout",
     "output_type": "stream",
     "text": [
      "Stopped by overfitting detector  (100 iterations wait)\n",
      "\n",
      "bestTest = 0.9971422739\n",
      "bestIteration = 179\n",
      "\n",
      "Shrink model to first 180 iterations.\n",
      "BEST ITERATION:  179\n",
      "gini на обучающей выборке: 99.684\n",
      "gini на проверочной выборке: 99.428\n",
      "\n",
      "********************** 1 фолд обучен! ******************************\n",
      "\n",
      "\n",
      "==================== Обучение 2 фолда! ====================\n",
      "0:\ttest: 0.9361663\ttest1: 0.9203061\tbest: 0.9203061 (0)\ttotal: 2.94ms\tremaining: 1.47s\n",
      "100:\ttest: 0.9975765\ttest1: 0.9738776\tbest: 0.9748980 (73)\ttotal: 157ms\tremaining: 622ms\n",
      "200:\ttest: 0.9991964\ttest1: 0.9777551\tbest: 0.9777551 (200)\ttotal: 290ms\tremaining: 431ms\n",
      "300:\ttest: 0.9998342\ttest1: 0.9789796\tbest: 0.9795918 (293)\ttotal: 424ms\tremaining: 280ms\n",
      "400:\ttest: 1.0000000\ttest1: 0.9812245\tbest: 0.9814286 (385)\ttotal: 555ms\tremaining: 137ms\n"
     ]
    },
    {
     "name": "stderr",
     "output_type": "stream",
     "text": [
      "\r",
      "2it [00:01,  1.50it/s]"
     ]
    },
    {
     "name": "stdout",
     "output_type": "stream",
     "text": [
      "499:\ttest: 1.0000000\ttest1: 0.9822449\tbest: 0.9824490 (465)\ttotal: 689ms\tremaining: 0us\n",
      "\n",
      "bestTest = 0.9824489796\n",
      "bestIteration = 465\n",
      "\n",
      "Shrink model to first 466 iterations.\n",
      "BEST ITERATION:  465\n",
      "gini на обучающей выборке: 100.000\n",
      "gini на проверочной выборке: 96.490\n",
      "\n",
      "********************** 2 фолд обучен! ******************************\n",
      "\n",
      "\n",
      "==================== Обучение 3 фолда! ====================\n",
      "0:\ttest: 0.9323971\ttest1: 0.9009184\tbest: 0.9009184 (0)\ttotal: 2.05ms\tremaining: 1.02s\n",
      "100:\ttest: 0.9969005\ttest1: 0.9804082\tbest: 0.9808163 (90)\ttotal: 136ms\tremaining: 539ms\n",
      "200:\ttest: 0.9990816\ttest1: 0.9855102\tbest: 0.9855102 (199)\ttotal: 285ms\tremaining: 423ms\n",
      "300:\ttest: 0.9997704\ttest1: 0.9859184\tbest: 0.9867347 (226)\ttotal: 417ms\tremaining: 275ms\n",
      "Stopped by overfitting detector  (100 iterations wait)\n",
      "\n",
      "bestTest = 0.9867346939\n",
      "bestIteration = 226\n",
      "\n",
      "Shrink model to first 227 iterations.\n",
      "BEST ITERATION:  226\n"
     ]
    },
    {
     "name": "stderr",
     "output_type": "stream",
     "text": [
      "\r",
      "3it [00:01,  1.66it/s]"
     ]
    },
    {
     "name": "stdout",
     "output_type": "stream",
     "text": [
      "gini на обучающей выборке: 99.867\n",
      "gini на проверочной выборке: 97.347\n",
      "\n",
      "********************** 3 фолд обучен! ******************************\n",
      "\n",
      "\n",
      "==================== Обучение 4 фолда! ====================\n",
      "0:\ttest: 0.9337300\ttest1: 0.8405102\tbest: 0.8405102 (0)\ttotal: 2.31ms\tremaining: 1.15s\n",
      "100:\ttest: 0.9966964\ttest1: 0.9708163\tbest: 0.9710204 (99)\ttotal: 141ms\tremaining: 558ms\n",
      "200:\ttest: 0.9992092\ttest1: 0.9800000\tbest: 0.9800000 (199)\ttotal: 273ms\tremaining: 406ms\n",
      "300:\ttest: 0.9997832\ttest1: 0.9810204\tbest: 0.9812245 (294)\ttotal: 402ms\tremaining: 265ms\n"
     ]
    },
    {
     "name": "stderr",
     "output_type": "stream",
     "text": [
      "\r",
      "4it [00:02,  1.51it/s]"
     ]
    },
    {
     "name": "stdout",
     "output_type": "stream",
     "text": [
      "400:\ttest: 0.9999745\ttest1: 0.9824490\tbest: 0.9826531 (376)\ttotal: 530ms\tremaining: 131ms\n",
      "499:\ttest: 1.0000000\ttest1: 0.9830612\tbest: 0.9830612 (489)\ttotal: 661ms\tremaining: 0us\n",
      "\n",
      "bestTest = 0.9830612245\n",
      "bestIteration = 489\n",
      "\n",
      "Shrink model to first 490 iterations.\n",
      "BEST ITERATION:  489\n",
      "gini на обучающей выборке: 100.000\n",
      "gini на проверочной выборке: 96.612\n",
      "\n",
      "********************** 4 фолд обучен! ******************************\n",
      "\n",
      "\n",
      "==================== Обучение 5 фолда! ====================\n",
      "0:\ttest: 0.9490045\ttest1: 0.8640816\tbest: 0.8640816 (0)\ttotal: 1.67ms\tremaining: 834ms\n",
      "100:\ttest: 0.9968239\ttest1: 0.9626531\tbest: 0.9628571 (98)\ttotal: 140ms\tremaining: 552ms\n",
      "200:\ttest: 0.9992474\ttest1: 0.9738776\tbest: 0.9740816 (195)\ttotal: 267ms\tremaining: 398ms\n",
      "300:\ttest: 0.9997321\ttest1: 0.9767347\tbest: 0.9767347 (291)\ttotal: 407ms\tremaining: 269ms\n",
      "400:\ttest: 0.9999490\ttest1: 0.9773469\tbest: 0.9775510 (383)\ttotal: 542ms\tremaining: 134ms\n"
     ]
    },
    {
     "name": "stderr",
     "output_type": "stream",
     "text": [
      "5it [00:03,  1.51it/s]\n"
     ]
    },
    {
     "name": "stdout",
     "output_type": "stream",
     "text": [
      "499:\ttest: 1.0000000\ttest1: 0.9785714\tbest: 0.9787755 (471)\ttotal: 667ms\tremaining: 0us\n",
      "\n",
      "bestTest = 0.9787755102\n",
      "bestIteration = 471\n",
      "\n",
      "Shrink model to first 472 iterations.\n",
      "BEST ITERATION:  471\n",
      "gini на обучающей выборке: 99.997\n",
      "gini на проверочной выборке: 95.755\n",
      "\n",
      "********************** 5 фолд обучен! ******************************\n",
      "\n",
      "\n",
      "Средняя метрика на фолдах со всеми факторами:  97.126507\n",
      "==========================\n",
      "Конец обуения кросс-валидации!\n",
      "\n",
      "Начало жадного отбора факторов Forward Selection!\n",
      "==========================\n",
      "Добавление признака feature_17\n"
     ]
    },
    {
     "name": "stderr",
     "output_type": "stream",
     "text": [
      "1it [00:00,  9.02it/s]"
     ]
    },
    {
     "name": "stdout",
     "output_type": "stream",
     "text": [
      "==================== Обучение 1 фолда! ====================\n",
      "0:\ttest: 0.8363265\ttest1: 0.8507859\tbest: 0.8507859 (0)\ttotal: 2.33ms\tremaining: 1.16s\n",
      "100:\ttest: 0.8543240\ttest1: 0.8689528\tbest: 0.8700755 (44)\ttotal: 50.4ms\tremaining: 199ms\n",
      "Stopped by overfitting detector  (100 iterations wait)\n",
      "\n",
      "bestTest = 0.8700755256\n",
      "bestIteration = 44\n",
      "\n",
      "Shrink model to first 45 iterations.\n",
      "BEST ITERATION:  44\n",
      "gini на обучающей выборке: 70.818\n",
      "gini на проверочной выборке: 74.015\n",
      "\n",
      "********************** 1 фолд обучен! ******************************\n",
      "\n",
      "\n",
      "==================== Обучение 2 фолда! ====================\n",
      "0:\ttest: 0.8415031\ttest1: 0.8365306\tbest: 0.8365306 (0)\ttotal: 708us\tremaining: 353ms\n",
      "100:\ttest: 0.8570709\ttest1: 0.8577551\tbest: 0.8591837 (33)\ttotal: 52.4ms\tremaining: 207ms\n"
     ]
    },
    {
     "name": "stderr",
     "output_type": "stream",
     "text": [
      "3it [00:00,  8.57it/s]"
     ]
    },
    {
     "name": "stdout",
     "output_type": "stream",
     "text": [
      "Stopped by overfitting detector  (100 iterations wait)\n",
      "\n",
      "bestTest = 0.8591836735\n",
      "bestIteration = 33\n",
      "\n",
      "Shrink model to first 34 iterations.\n",
      "BEST ITERATION:  33\n",
      "gini на обучающей выборке: 71.310\n",
      "gini на проверочной выборке: 71.837\n",
      "\n",
      "********************** 2 фолд обучен! ******************************\n",
      "\n",
      "\n",
      "==================== Обучение 3 фолда! ====================\n",
      "0:\ttest: 0.8331548\ttest1: 0.8154082\tbest: 0.8154082 (0)\ttotal: 1.31ms\tremaining: 653ms\n",
      "100:\ttest: 0.8596028\ttest1: 0.8586735\tbest: 0.8604082 (51)\ttotal: 52.4ms\tremaining: 207ms\n",
      "Stopped by overfitting detector  (100 iterations wait)\n",
      "\n",
      "bestTest = 0.8604081633\n",
      "bestIteration = 51\n",
      "\n",
      "Shrink model to first 52 iterations.\n",
      "BEST ITERATION:  51\n",
      "gini на обучающей выборке: 71.884\n",
      "gini на проверочной выборке: 72.082\n",
      "\n",
      "********************** 3 фолд обучен! ******************************\n",
      "\n",
      "\n",
      "==================== Обучение 4 фолда! ====================\n",
      "0:\ttest: 0.8304315\ttest1: 0.8396939\tbest: 0.8396939 (0)\ttotal: 1.29ms\tremaining: 642ms\n",
      "100:\ttest: 0.8558655\ttest1: 0.8634694\tbest: 0.8671429 (13)\ttotal: 51.7ms\tremaining: 204ms\n"
     ]
    },
    {
     "name": "stderr",
     "output_type": "stream",
     "text": [
      "5it [00:00,  9.50it/s]\n"
     ]
    },
    {
     "name": "stdout",
     "output_type": "stream",
     "text": [
      "Stopped by overfitting detector  (100 iterations wait)\n",
      "\n",
      "bestTest = 0.8671428571\n",
      "bestIteration = 13\n",
      "\n",
      "Shrink model to first 14 iterations.\n",
      "BEST ITERATION:  13\n",
      "gini на обучающей выборке: 70.767\n",
      "gini на проверочной выборке: 73.429\n",
      "\n",
      "********************** 4 фолд обучен! ******************************\n",
      "\n",
      "\n",
      "==================== Обучение 5 фолда! ====================\n",
      "0:\ttest: 0.8526193\ttest1: 0.8071429\tbest: 0.8071429 (0)\ttotal: 701us\tremaining: 350ms\n",
      "100:\ttest: 0.8674983\ttest1: 0.8222449\tbest: 0.8280612 (6)\ttotal: 48.8ms\tremaining: 193ms\n",
      "Stopped by overfitting detector  (100 iterations wait)\n",
      "\n",
      "bestTest = 0.8280612245\n",
      "bestIteration = 6\n",
      "\n",
      "Shrink model to first 7 iterations.\n",
      "BEST ITERATION:  6\n",
      "gini на обучающей выборке: 73.001\n",
      "gini на проверочной выборке: 65.612\n",
      "\n",
      "********************** 5 фолд обучен! ******************************\n",
      "\n",
      "\n",
      "Количество признаков: 1 => метрика: 71.39485775939279\n",
      "==========================\n",
      "Добавление признака feature_4\n"
     ]
    },
    {
     "name": "stderr",
     "output_type": "stream",
     "text": [
      "\r",
      "0it [00:00, ?it/s]"
     ]
    },
    {
     "name": "stdout",
     "output_type": "stream",
     "text": [
      "==================== Обучение 1 фолда! ====================\n",
      "0:\ttest: 0.8829464\ttest1: 0.9072260\tbest: 0.9072260 (0)\ttotal: 1.6ms\tremaining: 797ms\n",
      "100:\ttest: 0.9125638\ttest1: 0.9176363\tbest: 0.9176363 (100)\ttotal: 67.5ms\tremaining: 267ms\n",
      "200:\ttest: 0.9216199\ttest1: 0.9219228\tbest: 0.9221270 (188)\ttotal: 133ms\tremaining: 197ms\n"
     ]
    },
    {
     "name": "stderr",
     "output_type": "stream",
     "text": [
      "\r",
      "1it [00:00,  4.11it/s]"
     ]
    },
    {
     "name": "stdout",
     "output_type": "stream",
     "text": [
      "Stopped by overfitting detector  (100 iterations wait)\n",
      "\n",
      "bestTest = 0.9221269647\n",
      "bestIteration = 188\n",
      "\n",
      "Shrink model to first 189 iterations.\n",
      "BEST ITERATION:  188\n",
      "gini на обучающей выборке: 84.031\n",
      "gini на проверочной выборке: 84.425\n",
      "\n",
      "********************** 1 фолд обучен! ******************************\n",
      "\n",
      "\n",
      "==================== Обучение 2 фолда! ====================\n",
      "0:\ttest: 0.8741948\ttest1: 0.8636735\tbest: 0.8636735 (0)\ttotal: 1.6ms\tremaining: 801ms\n",
      "100:\ttest: 0.9121609\ttest1: 0.9069388\tbest: 0.9071429 (78)\ttotal: 65.6ms\tremaining: 259ms\n"
     ]
    },
    {
     "name": "stderr",
     "output_type": "stream",
     "text": [
      "\r",
      "2it [00:00,  4.86it/s]"
     ]
    },
    {
     "name": "stdout",
     "output_type": "stream",
     "text": [
      "200:\ttest: 0.9208217\ttest1: 0.9069388\tbest: 0.9081633 (106)\ttotal: 133ms\tremaining: 198ms\n",
      "Stopped by overfitting detector  (100 iterations wait)\n",
      "\n",
      "bestTest = 0.9081632653\n",
      "bestIteration = 106\n",
      "\n",
      "Shrink model to first 107 iterations.\n",
      "BEST ITERATION:  106\n",
      "gini на обучающей выборке: 82.460\n",
      "gini на проверочной выборке: 81.633\n",
      "\n",
      "********************** 2 фолд обучен! ******************************\n",
      "\n",
      "\n",
      "==================== Обучение 3 фолда! ====================\n"
     ]
    },
    {
     "name": "stderr",
     "output_type": "stream",
     "text": [
      "\r",
      "3it [00:00,  6.21it/s]"
     ]
    },
    {
     "name": "stdout",
     "output_type": "stream",
     "text": [
      "0:\ttest: 0.8902346\ttest1: 0.8668367\tbest: 0.8668367 (0)\ttotal: 2.11ms\tremaining: 1.05s\n",
      "100:\ttest: 0.9216380\ttest1: 0.8710204\tbest: 0.8839796 (4)\ttotal: 71.4ms\tremaining: 282ms\n",
      "Stopped by overfitting detector  (100 iterations wait)\n",
      "\n",
      "bestTest = 0.8839795918\n",
      "bestIteration = 4\n",
      "\n",
      "Shrink model to first 5 iterations.\n",
      "BEST ITERATION:  4\n",
      "gini на обучающей выборке: 82.537\n",
      "gini на проверочной выборке: 76.796\n",
      "\n",
      "********************** 3 фолд обучен! ******************************\n",
      "\n",
      "\n",
      "==================== Обучение 4 фолда! ====================\n",
      "0:\ttest: 0.8683529\ttest1: 0.8159184\tbest: 0.8159184 (0)\ttotal: 1.34ms\tremaining: 671ms\n",
      "100:\ttest: 0.9149415\ttest1: 0.8885714\tbest: 0.8943878 (7)\ttotal: 69.4ms\tremaining: 274ms\n",
      "Stopped by overfitting detector  (100 iterations wait)\n",
      "\n",
      "bestTest = 0.8943877551\n",
      "bestIteration = 7\n",
      "\n",
      "Shrink model to first 8 iterations.\n",
      "BEST ITERATION:  7\n"
     ]
    },
    {
     "name": "stderr",
     "output_type": "stream",
     "text": [
      "5it [00:00,  6.53it/s]\n"
     ]
    },
    {
     "name": "stdout",
     "output_type": "stream",
     "text": [
      "gini на обучающей выборке: 81.294\n",
      "gini на проверочной выборке: 78.878\n",
      "\n",
      "********************** 4 фолд обучен! ******************************\n",
      "\n",
      "\n",
      "==================== Обучение 5 фолда! ====================\n",
      "0:\ttest: 0.8824028\ttest1: 0.8090816\tbest: 0.8090816 (0)\ttotal: 919us\tremaining: 459ms\n",
      "100:\ttest: 0.9203115\ttest1: 0.8675510\tbest: 0.8694898 (31)\ttotal: 69ms\tremaining: 273ms\n",
      "Stopped by overfitting detector  (100 iterations wait)\n",
      "\n",
      "bestTest = 0.8694897959\n",
      "bestIteration = 31\n",
      "\n",
      "Shrink model to first 32 iterations.\n",
      "BEST ITERATION:  31\n",
      "gini на обучающей выборке: 82.895\n",
      "gini на проверочной выборке: 73.898\n",
      "\n",
      "********************** 5 фолд обучен! ******************************\n",
      "\n",
      "\n",
      "Количество признаков: 2 => метрика: 79.12589491399744\n",
      "==========================\n",
      "Добавление признака feature_19\n"
     ]
    },
    {
     "name": "stderr",
     "output_type": "stream",
     "text": [
      "\r",
      "0it [00:00, ?it/s]"
     ]
    },
    {
     "name": "stdout",
     "output_type": "stream",
     "text": [
      "==================== Обучение 1 фолда! ====================\n",
      "0:\ttest: 0.9274107\ttest1: 0.9394774\tbest: 0.9394774 (0)\ttotal: 2.38ms\tremaining: 1.19s\n"
     ]
    },
    {
     "name": "stderr",
     "output_type": "stream",
     "text": [
      "\r",
      "1it [00:00,  7.27it/s]"
     ]
    },
    {
     "name": "stdout",
     "output_type": "stream",
     "text": [
      "100:\ttest: 0.9695089\ttest1: 0.9679526\tbest: 0.9723413 (30)\ttotal: 77.2ms\tremaining: 305ms\n",
      "Stopped by overfitting detector  (100 iterations wait)\n",
      "\n",
      "bestTest = 0.9723412941\n",
      "bestIteration = 30\n",
      "\n",
      "Shrink model to first 31 iterations.\n",
      "BEST ITERATION:  30\n",
      "gini на обучающей выборке: 92.180\n",
      "gini на проверочной выборке: 94.468\n",
      "\n",
      "********************** 1 фолд обучен! ******************************\n",
      "\n",
      "\n",
      "==================== Обучение 2 фолда! ====================\n",
      "0:\ttest: 0.9288384\ttest1: 0.9044898\tbest: 0.9044898 (0)\ttotal: 1.37ms\tremaining: 685ms\n",
      "100:\ttest: 0.9744384\ttest1: 0.9385714\tbest: 0.9385714 (100)\ttotal: 77.9ms\tremaining: 308ms\n"
     ]
    },
    {
     "name": "stderr",
     "output_type": "stream",
     "text": [
      "\r",
      "2it [00:00,  4.33it/s]"
     ]
    },
    {
     "name": "stdout",
     "output_type": "stream",
     "text": [
      "200:\ttest: 0.9810584\ttest1: 0.9416327\tbest: 0.9416327 (166)\ttotal: 149ms\tremaining: 222ms\n",
      "300:\ttest: 0.9852677\ttest1: 0.9406122\tbest: 0.9420408 (215)\ttotal: 231ms\tremaining: 152ms\n",
      "Stopped by overfitting detector  (100 iterations wait)\n",
      "\n",
      "bestTest = 0.9420408163\n",
      "bestIteration = 215\n",
      "\n",
      "Shrink model to first 216 iterations.\n",
      "BEST ITERATION:  215\n",
      "gini на обучающей выборке: 96.398\n",
      "gini на проверочной выборке: 88.408\n",
      "\n",
      "********************** 2 фолд обучен! ******************************\n",
      "\n",
      "\n",
      "==================== Обучение 3 фолда! ====================\n",
      "0:\ttest: 0.9239786\ttest1: 0.9228571\tbest: 0.9228571 (0)\ttotal: 2.06ms\tremaining: 1.03s\n"
     ]
    },
    {
     "name": "stderr",
     "output_type": "stream",
     "text": [
      "\r",
      "3it [00:00,  4.91it/s]"
     ]
    },
    {
     "name": "stdout",
     "output_type": "stream",
     "text": [
      "100:\ttest: 0.9730099\ttest1: 0.9453061\tbest: 0.9475510 (73)\ttotal: 78.4ms\tremaining: 310ms\n",
      "Stopped by overfitting detector  (100 iterations wait)\n",
      "\n",
      "bestTest = 0.9475510204\n",
      "bestIteration = 73\n",
      "\n",
      "Shrink model to first 74 iterations.\n",
      "BEST ITERATION:  73\n",
      "gini на обучающей выборке: 94.154\n",
      "gini на проверочной выборке: 89.510\n",
      "\n",
      "********************** 3 фолд обучен! ******************************\n",
      "\n",
      "\n",
      "==================== Обучение 4 фолда! ====================\n",
      "0:\ttest: 0.9305540\ttest1: 0.9079592\tbest: 0.9079592 (0)\ttotal: 890us\tremaining: 444ms\n",
      "100:\ttest: 0.9732522\ttest1: 0.9387755\tbest: 0.9393878 (92)\ttotal: 81.6ms\tremaining: 322ms\n",
      "200:\ttest: 0.9801656\ttest1: 0.9408163\tbest: 0.9408163 (194)\ttotal: 161ms\tremaining: 239ms\n",
      "300:\ttest: 0.9850636\ttest1: 0.9440816\tbest: 0.9440816 (300)\ttotal: 238ms\tremaining: 157ms\n",
      "400:\ttest: 0.9888519\ttest1: 0.9469388\tbest: 0.9469388 (398)\ttotal: 316ms\tremaining: 77.9ms\n"
     ]
    },
    {
     "name": "stderr",
     "output_type": "stream",
     "text": [
      "\r",
      "4it [00:01,  3.11it/s]"
     ]
    },
    {
     "name": "stdout",
     "output_type": "stream",
     "text": [
      "499:\ttest: 0.9919132\ttest1: 0.9475510\tbest: 0.9483673 (489)\ttotal: 389ms\tremaining: 0us\n",
      "\n",
      "bestTest = 0.9483673469\n",
      "bestIteration = 489\n",
      "\n",
      "Shrink model to first 490 iterations.\n",
      "BEST ITERATION:  489\n",
      "gini на обучающей выборке: 98.319\n",
      "gini на проверочной выборке: 89.673\n",
      "\n",
      "********************** 4 фолд обучен! ******************************\n",
      "\n",
      "\n",
      "==================== Обучение 5 фолда! ====================\n",
      "0:\ttest: 0.9345846\ttest1: 0.8612245\tbest: 0.8612245 (0)\ttotal: 1.03ms\tremaining: 514ms\n",
      "100:\ttest: 0.9709308\ttest1: 0.9459184\tbest: 0.9461224 (98)\ttotal: 79.5ms\tremaining: 314ms\n"
     ]
    },
    {
     "name": "stderr",
     "output_type": "stream",
     "text": [
      "5it [00:01,  3.74it/s]\n"
     ]
    },
    {
     "name": "stdout",
     "output_type": "stream",
     "text": [
      "200:\ttest: 0.9794640\ttest1: 0.9438776\tbest: 0.9477551 (135)\ttotal: 158ms\tremaining: 235ms\n",
      "Stopped by overfitting detector  (100 iterations wait)\n",
      "\n",
      "bestTest = 0.947755102\n",
      "bestIteration = 135\n",
      "\n",
      "Shrink model to first 136 iterations.\n",
      "BEST ITERATION:  135\n",
      "gini на обучающей выборке: 94.908\n",
      "gini на проверочной выборке: 89.551\n",
      "\n",
      "********************** 5 фолд обучен! ******************************\n",
      "\n",
      "\n",
      "Количество признаков: 3 => метрика: 90.32222319423789\n",
      "==========================\n",
      "Добавление признака feature_22\n"
     ]
    },
    {
     "name": "stderr",
     "output_type": "stream",
     "text": [
      "\r",
      "0it [00:00, ?it/s]"
     ]
    },
    {
     "name": "stdout",
     "output_type": "stream",
     "text": [
      "==================== Обучение 1 фолда! ====================\n",
      "0:\ttest: 0.9098661\ttest1: 0.9266177\tbest: 0.9266177 (0)\ttotal: 1.54ms\tremaining: 768ms\n",
      "100:\ttest: 0.9818240\ttest1: 0.9902021\tbest: 0.9908145 (92)\ttotal: 80.2ms\tremaining: 317ms\n",
      "200:\ttest: 0.9891327\ttest1: 0.9908145\tbest: 0.9914268 (145)\ttotal: 159ms\tremaining: 236ms\n"
     ]
    },
    {
     "name": "stderr",
     "output_type": "stream",
     "text": [
      "\r",
      "1it [00:00,  4.06it/s]"
     ]
    },
    {
     "name": "stdout",
     "output_type": "stream",
     "text": [
      "Stopped by overfitting detector  (100 iterations wait)\n",
      "\n",
      "bestTest = 0.9914268218\n",
      "bestIteration = 145\n",
      "\n",
      "Shrink model to first 146 iterations.\n",
      "BEST ITERATION:  145\n",
      "gini на обучающей выборке: 97.179\n",
      "gini на проверочной выборке: 98.285\n",
      "\n",
      "********************** 1 фолд обучен! ******************************\n",
      "\n",
      "\n",
      "==================== Обучение 2 фолда! ====================\n",
      "0:\ttest: 0.9169632\ttest1: 0.9035714\tbest: 0.9035714 (0)\ttotal: 933us\tremaining: 466ms\n",
      "100:\ttest: 0.9858544\ttest1: 0.9626531\tbest: 0.9632653 (93)\ttotal: 77ms\tremaining: 304ms\n",
      "200:\ttest: 0.9920662\ttest1: 0.9630612\tbest: 0.9638776 (150)\ttotal: 157ms\tremaining: 233ms\n",
      "300:\ttest: 0.9953061\ttest1: 0.9630612\tbest: 0.9644898 (219)\ttotal: 235ms\tremaining: 155ms\n",
      "Stopped by overfitting detector  (100 iterations wait)\n",
      "\n",
      "bestTest = 0.9644897959\n",
      "bestIteration = 219\n",
      "\n",
      "Shrink model to first 220 iterations.\n",
      "BEST ITERATION:  219\n"
     ]
    },
    {
     "name": "stderr",
     "output_type": "stream",
     "text": [
      "\r",
      "2it [00:00,  3.55it/s]"
     ]
    },
    {
     "name": "stdout",
     "output_type": "stream",
     "text": [
      "gini на обучающей выборке: 98.605\n",
      "gini на проверочной выборке: 92.898\n",
      "\n",
      "********************** 2 фолд обучен! ******************************\n",
      "\n",
      "\n",
      "==================== Обучение 3 фолда! ====================\n",
      "0:\ttest: 0.9070715\ttest1: 0.9030612\tbest: 0.9030612 (0)\ttotal: 994us\tremaining: 496ms\n",
      "100:\ttest: 0.9857906\ttest1: 0.9555102\tbest: 0.9565306 (71)\ttotal: 82.5ms\tremaining: 326ms\n",
      "200:\ttest: 0.9913392\ttest1: 0.9585714\tbest: 0.9585714 (199)\ttotal: 160ms\tremaining: 238ms\n",
      "300:\ttest: 0.9948469\ttest1: 0.9608163\tbest: 0.9616327 (260)\ttotal: 239ms\tremaining: 158ms\n"
     ]
    },
    {
     "name": "stderr",
     "output_type": "stream",
     "text": [
      "\r",
      "3it [00:00,  3.20it/s]"
     ]
    },
    {
     "name": "stdout",
     "output_type": "stream",
     "text": [
      "Stopped by overfitting detector  (100 iterations wait)\n",
      "\n",
      "bestTest = 0.9616326531\n",
      "bestIteration = 260\n",
      "\n",
      "Shrink model to first 261 iterations.\n",
      "BEST ITERATION:  260\n",
      "gini на обучающей выборке: 98.735\n",
      "gini на проверочной выборке: 92.327\n",
      "\n",
      "********************** 3 фолд обучен! ******************************\n",
      "\n",
      "\n",
      "==================== Обучение 4 фолда! ====================\n",
      "0:\ttest: 0.9161405\ttest1: 0.8683673\tbest: 0.8683673 (0)\ttotal: 1ms\tremaining: 500ms\n",
      "100:\ttest: 0.9858034\ttest1: 0.9444898\tbest: 0.9448980 (99)\ttotal: 82.9ms\tremaining: 328ms\n",
      "200:\ttest: 0.9915815\ttest1: 0.9512245\tbest: 0.9512245 (200)\ttotal: 159ms\tremaining: 236ms\n",
      "300:\ttest: 0.9946300\ttest1: 0.9561224\tbest: 0.9563265 (299)\ttotal: 229ms\tremaining: 152ms\n",
      "400:\ttest: 0.9965943\ttest1: 0.9577551\tbest: 0.9583673 (368)\ttotal: 304ms\tremaining: 75.1ms\n"
     ]
    },
    {
     "name": "stderr",
     "output_type": "stream",
     "text": [
      "\r",
      "4it [00:01,  2.72it/s]"
     ]
    },
    {
     "name": "stdout",
     "output_type": "stream",
     "text": [
      "499:\ttest: 0.9979719\ttest1: 0.9583673\tbest: 0.9585714 (410)\ttotal: 382ms\tremaining: 0us\n",
      "\n",
      "bestTest = 0.9585714286\n",
      "bestIteration = 410\n",
      "\n",
      "Shrink model to first 411 iterations.\n",
      "BEST ITERATION:  410\n",
      "gini на обучающей выборке: 99.360\n",
      "gini на проверочной выборке: 91.714\n",
      "\n",
      "********************** 4 фолд обучен! ******************************\n",
      "\n",
      "\n",
      "==================== Обучение 5 фолда! ====================\n",
      "0:\ttest: 0.9191954\ttest1: 0.8662245\tbest: 0.8662245 (0)\ttotal: 878us\tremaining: 438ms\n",
      "100:\ttest: 0.9857651\ttest1: 0.9559184\tbest: 0.9567347 (88)\ttotal: 85.2ms\tremaining: 336ms\n",
      "200:\ttest: 0.9920152\ttest1: 0.9606122\tbest: 0.9620408 (186)\ttotal: 164ms\tremaining: 244ms\n",
      "300:\ttest: 0.9952423\ttest1: 0.9620408\tbest: 0.9626531 (284)\ttotal: 249ms\tremaining: 165ms\n"
     ]
    },
    {
     "name": "stderr",
     "output_type": "stream",
     "text": [
      "5it [00:01,  2.80it/s]\n"
     ]
    },
    {
     "name": "stdout",
     "output_type": "stream",
     "text": [
      "400:\ttest: 0.9971301\ttest1: 0.9612245\tbest: 0.9630612 (316)\ttotal: 332ms\tremaining: 82ms\n",
      "Stopped by overfitting detector  (100 iterations wait)\n",
      "\n",
      "bestTest = 0.9630612245\n",
      "bestIteration = 316\n",
      "\n",
      "Shrink model to first 317 iterations.\n",
      "BEST ITERATION:  316\n",
      "gini на обучающей выборке: 99.138\n",
      "gini на проверочной выборке: 92.612\n",
      "\n",
      "********************** 5 фолд обучен! ******************************\n",
      "\n",
      "\n",
      "Количество признаков: 4 => метрика: 93.56727695364734\n",
      "==========================\n",
      "Добавление признака feature_18\n"
     ]
    },
    {
     "name": "stderr",
     "output_type": "stream",
     "text": [
      "\r",
      "0it [00:00, ?it/s]"
     ]
    },
    {
     "name": "stdout",
     "output_type": "stream",
     "text": [
      "==================== Обучение 1 фолда! ====================\n",
      "0:\ttest: 0.9390625\ttest1: 0.9523372\tbest: 0.9523372 (0)\ttotal: 1.07ms\tremaining: 534ms\n",
      "100:\ttest: 0.9835969\ttest1: 0.9887732\tbest: 0.9887732 (100)\ttotal: 81.9ms\tremaining: 324ms\n",
      "200:\ttest: 0.9903316\ttest1: 0.9918351\tbest: 0.9918351 (178)\ttotal: 164ms\tremaining: 244ms\n"
     ]
    },
    {
     "name": "stderr",
     "output_type": "stream",
     "text": [
      "\r",
      "1it [00:00,  3.29it/s]"
     ]
    },
    {
     "name": "stdout",
     "output_type": "stream",
     "text": [
      "300:\ttest: 0.9949107\ttest1: 0.9914268\tbest: 0.9920392 (206)\ttotal: 244ms\tremaining: 161ms\n",
      "Stopped by overfitting detector  (100 iterations wait)\n",
      "\n",
      "bestTest = 0.9920391917\n",
      "bestIteration = 206\n",
      "\n",
      "Shrink model to first 207 iterations.\n",
      "BEST ITERATION:  206\n",
      "gini на обучающей выборке: 98.133\n",
      "gini на проверочной выборке: 98.408\n",
      "\n",
      "********************** 1 фолд обучен! ******************************\n",
      "\n",
      "\n",
      "==================== Обучение 2 фолда! ====================\n",
      "0:\ttest: 0.9275437\ttest1: 0.9302041\tbest: 0.9302041 (0)\ttotal: 1.29ms\tremaining: 644ms\n",
      "100:\ttest: 0.9868238\ttest1: 0.9657143\tbest: 0.9657143 (100)\ttotal: 86.2ms\tremaining: 341ms\n"
     ]
    },
    {
     "name": "stderr",
     "output_type": "stream",
     "text": [
      "\r",
      "2it [00:00,  3.97it/s]"
     ]
    },
    {
     "name": "stdout",
     "output_type": "stream",
     "text": [
      "200:\ttest: 0.9930611\ttest1: 0.9655102\tbest: 0.9667347 (103)\ttotal: 168ms\tremaining: 250ms\n",
      "Stopped by overfitting detector  (100 iterations wait)\n",
      "\n",
      "bestTest = 0.9667346939\n",
      "bestIteration = 103\n",
      "\n",
      "Shrink model to first 104 iterations.\n",
      "BEST ITERATION:  103\n",
      "gini на обучающей выборке: 97.418\n",
      "gini на проверочной выборке: 93.347\n",
      "\n",
      "********************** 2 фолд обучен! ******************************\n",
      "\n",
      "\n",
      "==================== Обучение 3 фолда! ====================\n",
      "0:\ttest: 0.9250182\ttest1: 0.9254082\tbest: 0.9254082 (0)\ttotal: 1ms\tremaining: 502ms\n",
      "100:\ttest: 0.9857524\ttest1: 0.9663265\tbest: 0.9671429 (83)\ttotal: 83.3ms\tremaining: 329ms\n"
     ]
    },
    {
     "name": "stderr",
     "output_type": "stream",
     "text": [
      "\r",
      "3it [00:00,  4.21it/s]"
     ]
    },
    {
     "name": "stdout",
     "output_type": "stream",
     "text": [
      "200:\ttest: 0.9919387\ttest1: 0.9669388\tbest: 0.9677551 (109)\ttotal: 167ms\tremaining: 248ms\n",
      "Stopped by overfitting detector  (100 iterations wait)\n",
      "\n",
      "bestTest = 0.967755102\n",
      "bestIteration = 109\n",
      "\n",
      "Shrink model to first 110 iterations.\n",
      "BEST ITERATION:  109\n",
      "gini на обучающей выборке: 97.296\n",
      "gini на проверочной выборке: 93.551\n",
      "\n",
      "********************** 3 фолд обучен! ******************************\n",
      "\n",
      "\n",
      "==================== Обучение 4 фолда! ====================\n",
      "0:\ttest: 0.9362301\ttest1: 0.8946939\tbest: 0.8946939 (0)\ttotal: 944us\tremaining: 471ms\n",
      "100:\ttest: 0.9866580\ttest1: 0.9461224\tbest: 0.9463265 (92)\ttotal: 85.5ms\tremaining: 338ms\n",
      "200:\ttest: 0.9923086\ttest1: 0.9500000\tbest: 0.9508163 (155)\ttotal: 168ms\tremaining: 251ms\n",
      "300:\ttest: 0.9958035\ttest1: 0.9536735\tbest: 0.9542857 (266)\ttotal: 252ms\tremaining: 167ms\n",
      "400:\ttest: 0.9978954\ttest1: 0.9548980\tbest: 0.9559184 (350)\ttotal: 336ms\tremaining: 83.1ms\n"
     ]
    },
    {
     "name": "stderr",
     "output_type": "stream",
     "text": [
      "\r",
      "4it [00:01,  2.97it/s]"
     ]
    },
    {
     "name": "stdout",
     "output_type": "stream",
     "text": [
      "499:\ttest: 0.9989923\ttest1: 0.9573469\tbest: 0.9575510 (470)\ttotal: 415ms\tremaining: 0us\n",
      "\n",
      "bestTest = 0.9575510204\n",
      "bestIteration = 470\n",
      "\n",
      "Shrink model to first 471 iterations.\n",
      "BEST ITERATION:  470\n",
      "gini на обучающей выборке: 99.740\n",
      "gini на проверочной выборке: 91.510\n",
      "\n",
      "********************** 4 фолд обучен! ******************************\n",
      "\n",
      "\n",
      "==================== Обучение 5 фолда! ====================\n",
      "0:\ttest: 0.9443233\ttest1: 0.8765306\tbest: 0.8765306 (0)\ttotal: 912us\tremaining: 455ms\n",
      "100:\ttest: 0.9865432\ttest1: 0.9481633\tbest: 0.9485714 (94)\ttotal: 89.3ms\tremaining: 353ms\n",
      "200:\ttest: 0.9925637\ttest1: 0.9565306\tbest: 0.9565306 (197)\ttotal: 169ms\tremaining: 251ms\n",
      "300:\ttest: 0.9960586\ttest1: 0.9591837\tbest: 0.9595918 (297)\ttotal: 249ms\tremaining: 164ms\n"
     ]
    },
    {
     "name": "stderr",
     "output_type": "stream",
     "text": [
      "5it [00:01,  3.08it/s]\n"
     ]
    },
    {
     "name": "stdout",
     "output_type": "stream",
     "text": [
      "Stopped by overfitting detector  (100 iterations wait)\n",
      "\n",
      "bestTest = 0.9595918367\n",
      "bestIteration = 297\n",
      "\n",
      "Shrink model to first 298 iterations.\n",
      "BEST ITERATION:  297\n",
      "gini на обучающей выборке: 99.179\n",
      "gini на проверочной выборке: 91.918\n",
      "\n",
      "********************** 5 фолд обучен! ******************************\n",
      "\n",
      "\n",
      "Количество признаков: 5 => метрика: 93.74687378931978\n",
      "==========================\n",
      "Добавление признака feature_5\n"
     ]
    },
    {
     "name": "stderr",
     "output_type": "stream",
     "text": [
      "\r",
      "0it [00:00, ?it/s]"
     ]
    },
    {
     "name": "stdout",
     "output_type": "stream",
     "text": [
      "==================== Обучение 1 фолда! ====================\n",
      "0:\ttest: 0.9453380\ttest1: 0.9469279\tbest: 0.9469279 (0)\ttotal: 1.88ms\tremaining: 937ms\n",
      "100:\ttest: 0.9904209\ttest1: 0.9938763\tbest: 0.9938763 (100)\ttotal: 83.9ms\tremaining: 332ms\n",
      "200:\ttest: 0.9957143\ttest1: 0.9961217\tbest: 0.9963258 (184)\ttotal: 171ms\tremaining: 254ms\n",
      "300:\ttest: 0.9980357\ttest1: 0.9973464\tbest: 0.9973464 (267)\ttotal: 273ms\tremaining: 181ms\n",
      "400:\ttest: 0.9991582\ttest1: 0.9977546\tbest: 0.9981629 (369)\ttotal: 358ms\tremaining: 88.3ms\n",
      "499:\ttest: 0.9997321\ttest1: 0.9981629\tbest: 0.9983670 (409)\ttotal: 439ms\tremaining: 0us\n",
      "\n",
      "bestTest = 0.9983670137\n",
      "bestIteration = 409\n",
      "\n",
      "Shrink model to first 410 iterations.\n",
      "BEST ITERATION:  409\n"
     ]
    },
    {
     "name": "stderr",
     "output_type": "stream",
     "text": [
      "\r",
      "1it [00:00,  1.94it/s]"
     ]
    },
    {
     "name": "stdout",
     "output_type": "stream",
     "text": [
      "gini на обучающей выборке: 99.849\n",
      "gini на проверочной выборке: 99.673\n",
      "\n",
      "********************** 1 фолд обучен! ******************************\n",
      "\n",
      "\n",
      "==================== Обучение 2 фолда! ====================\n",
      "0:\ttest: 0.9309302\ttest1: 0.9103061\tbest: 0.9103061 (0)\ttotal: 942us\tremaining: 470ms\n",
      "100:\ttest: 0.9930866\ttest1: 0.9710204\tbest: 0.9714286 (84)\ttotal: 86.1ms\tremaining: 340ms\n",
      "200:\ttest: 0.9971556\ttest1: 0.9748980\tbest: 0.9753061 (174)\ttotal: 168ms\tremaining: 250ms\n",
      "300:\ttest: 0.9987627\ttest1: 0.9763265\tbest: 0.9763265 (300)\ttotal: 251ms\tremaining: 166ms\n"
     ]
    },
    {
     "name": "stderr",
     "output_type": "stream",
     "text": [
      "\r",
      "2it [00:00,  2.23it/s]"
     ]
    },
    {
     "name": "stdout",
     "output_type": "stream",
     "text": [
      "400:\ttest: 0.9995408\ttest1: 0.9761224\tbest: 0.9763265 (300)\ttotal: 340ms\tremaining: 83.8ms\n",
      "Stopped by overfitting detector  (100 iterations wait)\n",
      "\n",
      "bestTest = 0.9763265306\n",
      "bestIteration = 300\n",
      "\n",
      "Shrink model to first 301 iterations.\n",
      "BEST ITERATION:  300\n",
      "gini на обучающей выборке: 99.753\n",
      "gini на проверочной выборке: 95.265\n",
      "\n",
      "********************** 2 фолд обучен! ******************************\n",
      "\n",
      "\n",
      "==================== Обучение 3 фолда! ====================\n",
      "0:\ttest: 0.9368423\ttest1: 0.8926531\tbest: 0.8926531 (0)\ttotal: 864us\tremaining: 431ms\n",
      "100:\ttest: 0.9910713\ttest1: 0.9771429\tbest: 0.9773469 (99)\ttotal: 86.9ms\tremaining: 343ms\n",
      "200:\ttest: 0.9958418\ttest1: 0.9816327\tbest: 0.9816327 (199)\ttotal: 171ms\tremaining: 254ms\n",
      "300:\ttest: 0.9977041\ttest1: 0.9836735\tbest: 0.9844898 (287)\ttotal: 253ms\tremaining: 167ms\n",
      "400:\ttest: 0.9990306\ttest1: 0.9851020\tbest: 0.9857143 (362)\ttotal: 337ms\tremaining: 83.2ms\n"
     ]
    },
    {
     "name": "stderr",
     "output_type": "stream",
     "text": [
      "\r",
      "3it [00:01,  2.20it/s]"
     ]
    },
    {
     "name": "stdout",
     "output_type": "stream",
     "text": [
      "Stopped by overfitting detector  (100 iterations wait)\n",
      "\n",
      "bestTest = 0.9857142857\n",
      "bestIteration = 362\n",
      "\n",
      "Shrink model to first 363 iterations.\n",
      "BEST ITERATION:  362\n",
      "gini на обучающей выборке: 99.712\n",
      "gini на проверочной выборке: 97.143\n",
      "\n",
      "********************** 3 фолд обучен! ******************************\n",
      "\n",
      "\n",
      "==================== Обучение 4 фолда! ====================\n",
      "0:\ttest: 0.9497634\ttest1: 0.9328571\tbest: 0.9328571 (0)\ttotal: 1.1ms\tremaining: 548ms\n",
      "100:\ttest: 0.9913137\ttest1: 0.9565306\tbest: 0.9565306 (100)\ttotal: 87.7ms\tremaining: 346ms\n",
      "200:\ttest: 0.9965688\ttest1: 0.9665306\tbest: 0.9665306 (200)\ttotal: 172ms\tremaining: 256ms\n",
      "300:\ttest: 0.9984183\ttest1: 0.9706122\tbest: 0.9708163 (296)\ttotal: 270ms\tremaining: 179ms\n",
      "400:\ttest: 0.9993622\ttest1: 0.9736735\tbest: 0.9736735 (398)\ttotal: 351ms\tremaining: 86.8ms\n"
     ]
    },
    {
     "name": "stderr",
     "output_type": "stream",
     "text": [
      "\r",
      "4it [00:01,  2.10it/s]"
     ]
    },
    {
     "name": "stdout",
     "output_type": "stream",
     "text": [
      "499:\ttest: 0.9997449\ttest1: 0.9753061\tbest: 0.9753061 (499)\ttotal: 434ms\tremaining: 0us\n",
      "\n",
      "bestTest = 0.9753061224\n",
      "bestIteration = 499\n",
      "\n",
      "BEST ITERATION:  499\n",
      "gini на обучающей выборке: 99.949\n",
      "gini на проверочной выборке: 95.061\n",
      "\n",
      "********************** 4 фолд обучен! ******************************\n",
      "\n",
      "\n",
      "==================== Обучение 5 фолда! ====================\n",
      "0:\ttest: 0.9375056\ttest1: 0.8928571\tbest: 0.8928571 (0)\ttotal: 1.14ms\tremaining: 568ms\n",
      "100:\ttest: 0.9913264\ttest1: 0.9551020\tbest: 0.9553061 (99)\ttotal: 84.4ms\tremaining: 333ms\n",
      "200:\ttest: 0.9963903\ttest1: 0.9663265\tbest: 0.9667347 (188)\ttotal: 168ms\tremaining: 250ms\n",
      "300:\ttest: 0.9984566\ttest1: 0.9722449\tbest: 0.9722449 (294)\ttotal: 256ms\tremaining: 169ms\n",
      "400:\ttest: 0.9994133\ttest1: 0.9757143\tbest: 0.9759184 (397)\ttotal: 349ms\tremaining: 86.3ms\n"
     ]
    },
    {
     "name": "stderr",
     "output_type": "stream",
     "text": [
      "5it [00:02,  2.08it/s]\n"
     ]
    },
    {
     "name": "stdout",
     "output_type": "stream",
     "text": [
      "499:\ttest: 0.9997449\ttest1: 0.9771429\tbest: 0.9771429 (491)\ttotal: 434ms\tremaining: 0us\n",
      "\n",
      "bestTest = 0.9771428571\n",
      "bestIteration = 491\n",
      "\n",
      "Shrink model to first 492 iterations.\n",
      "BEST ITERATION:  491\n",
      "gini на обучающей выборке: 99.946\n",
      "gini на проверочной выборке: 95.429\n",
      "\n",
      "********************** 5 фолд обучен! ******************************\n",
      "\n",
      "\n",
      "Количество признаков: 6 => метрика: 96.51427238378513\n",
      "==========================\n",
      "Добавление признака feature_2\n"
     ]
    },
    {
     "name": "stderr",
     "output_type": "stream",
     "text": [
      "\r",
      "0it [00:00, ?it/s]"
     ]
    },
    {
     "name": "stdout",
     "output_type": "stream",
     "text": [
      "==================== Обучение 1 фолда! ====================\n",
      "0:\ttest: 0.9243750\ttest1: 0.9440702\tbest: 0.9440702 (0)\ttotal: 2.48ms\tremaining: 1.24s\n",
      "100:\ttest: 0.9927423\ttest1: 0.9944887\tbest: 0.9953052 (96)\ttotal: 93.8ms\tremaining: 370ms\n",
      "200:\ttest: 0.9972704\ttest1: 0.9969382\tbest: 0.9969382 (189)\ttotal: 178ms\tremaining: 265ms\n",
      "300:\ttest: 0.9989923\ttest1: 0.9973464\tbest: 0.9973464 (278)\ttotal: 265ms\tremaining: 175ms\n",
      "400:\ttest: 0.9996811\ttest1: 0.9977546\tbest: 0.9977546 (321)\ttotal: 348ms\tremaining: 85.9ms\n"
     ]
    },
    {
     "name": "stderr",
     "output_type": "stream",
     "text": [
      "\r",
      "1it [00:00,  2.28it/s]"
     ]
    },
    {
     "name": "stdout",
     "output_type": "stream",
     "text": [
      "Stopped by overfitting detector  (100 iterations wait)\n",
      "\n",
      "bestTest = 0.9977546438\n",
      "bestIteration = 321\n",
      "\n",
      "Shrink model to first 322 iterations.\n",
      "BEST ITERATION:  321\n",
      "gini на обучающей выборке: 99.842\n",
      "gini на проверочной выборке: 99.551\n",
      "\n",
      "********************** 1 фолд обучен! ******************************\n",
      "\n",
      "\n",
      "==================== Обучение 2 фолда! ====================\n",
      "0:\ttest: 0.9274162\ttest1: 0.8733673\tbest: 0.8733673 (0)\ttotal: 1.14ms\tremaining: 568ms\n",
      "100:\ttest: 0.9957653\ttest1: 0.9728571\tbest: 0.9751020 (82)\ttotal: 90.4ms\tremaining: 357ms\n"
     ]
    },
    {
     "name": "stderr",
     "output_type": "stream",
     "text": [
      "\r",
      "2it [00:00,  3.34it/s]"
     ]
    },
    {
     "name": "stdout",
     "output_type": "stream",
     "text": [
      "Stopped by overfitting detector  (100 iterations wait)\n",
      "\n",
      "bestTest = 0.9751020408\n",
      "bestIteration = 82\n",
      "\n",
      "Shrink model to first 83 iterations.\n",
      "BEST ITERATION:  82\n",
      "gini на обучающей выборке: 98.952\n",
      "gini на проверочной выборке: 95.020\n",
      "\n",
      "********************** 2 фолд обучен! ******************************\n",
      "\n",
      "\n",
      "==================== Обучение 3 фолда! ====================\n",
      "0:\ttest: 0.9233281\ttest1: 0.9479592\tbest: 0.9479592 (0)\ttotal: 1.18ms\tremaining: 590ms\n",
      "100:\ttest: 0.9943367\ttest1: 0.9797959\tbest: 0.9800000 (93)\ttotal: 92.4ms\tremaining: 365ms\n"
     ]
    },
    {
     "name": "stderr",
     "output_type": "stream",
     "text": [
      "\r",
      "3it [00:01,  2.89it/s]"
     ]
    },
    {
     "name": "stdout",
     "output_type": "stream",
     "text": [
      "200:\ttest: 0.9975255\ttest1: 0.9863265\tbest: 0.9863265 (200)\ttotal: 179ms\tremaining: 266ms\n",
      "300:\ttest: 0.9988648\ttest1: 0.9881633\tbest: 0.9887755 (287)\ttotal: 265ms\tremaining: 175ms\n",
      "Stopped by overfitting detector  (100 iterations wait)\n",
      "\n",
      "bestTest = 0.9887755102\n",
      "bestIteration = 287\n",
      "\n",
      "Shrink model to first 288 iterations.\n",
      "BEST ITERATION:  287\n",
      "gini на обучающей выборке: 99.740\n",
      "gini на проверочной выборке: 97.755\n",
      "\n",
      "********************** 3 фолд обучен! ******************************\n",
      "\n",
      "\n",
      "==================== Обучение 4 фолда! ====================\n",
      "0:\ttest: 0.9355030\ttest1: 0.8562245\tbest: 0.8562245 (0)\ttotal: 1.32ms\tremaining: 660ms\n",
      "100:\ttest: 0.9945663\ttest1: 0.9663265\tbest: 0.9663265 (100)\ttotal: 92.9ms\tremaining: 367ms\n",
      "200:\ttest: 0.9978826\ttest1: 0.9746939\tbest: 0.9751020 (177)\ttotal: 197ms\tremaining: 292ms\n",
      "300:\ttest: 0.9991837\ttest1: 0.9771429\tbest: 0.9775510 (279)\ttotal: 285ms\tremaining: 189ms\n",
      "400:\ttest: 0.9997066\ttest1: 0.9783673\tbest: 0.9783673 (387)\ttotal: 370ms\tremaining: 91.4ms\n"
     ]
    },
    {
     "name": "stderr",
     "output_type": "stream",
     "text": [
      "\r",
      "4it [00:01,  2.39it/s]"
     ]
    },
    {
     "name": "stdout",
     "output_type": "stream",
     "text": [
      "499:\ttest: 0.9999490\ttest1: 0.9789796\tbest: 0.9789796 (485)\ttotal: 455ms\tremaining: 0us\n",
      "\n",
      "bestTest = 0.9789795918\n",
      "bestIteration = 485\n",
      "\n",
      "Shrink model to first 486 iterations.\n",
      "BEST ITERATION:  485\n",
      "gini на обучающей выборке: 99.990\n",
      "gini на проверочной выборке: 95.796\n",
      "\n",
      "********************** 4 фолд обучен! ******************************\n",
      "\n",
      "\n",
      "==================== Обучение 5 фолда! ====================\n",
      "0:\ttest: 0.9332134\ttest1: 0.8445918\tbest: 0.8445918 (0)\ttotal: 1.08ms\tremaining: 537ms\n",
      "100:\ttest: 0.9946555\ttest1: 0.9581633\tbest: 0.9581633 (100)\ttotal: 89.2ms\tremaining: 352ms\n",
      "200:\ttest: 0.9977678\ttest1: 0.9695918\tbest: 0.9695918 (200)\ttotal: 180ms\tremaining: 268ms\n",
      "300:\ttest: 0.9990434\ttest1: 0.9751020\tbest: 0.9755102 (289)\ttotal: 276ms\tremaining: 182ms\n",
      "400:\ttest: 0.9997576\ttest1: 0.9777551\tbest: 0.9781633 (376)\ttotal: 360ms\tremaining: 88.9ms\n"
     ]
    },
    {
     "name": "stderr",
     "output_type": "stream",
     "text": [
      "5it [00:02,  2.39it/s]"
     ]
    },
    {
     "name": "stdout",
     "output_type": "stream",
     "text": [
      "499:\ttest: 0.9999362\ttest1: 0.9783673\tbest: 0.9787755 (489)\ttotal: 445ms\tremaining: 0us\n",
      "\n",
      "bestTest = 0.9787755102\n",
      "bestIteration = 489\n",
      "\n",
      "Shrink model to first 490 iterations.\n",
      "BEST ITERATION:  489\n",
      "gini на обучающей выборке: 99.987\n",
      "gini на проверочной выборке: 95.755\n",
      "\n",
      "********************** 5 фолд обучен! ******************************\n",
      "\n",
      "\n",
      "Количество признаков: 7 => метрика: 96.77549187464331\n",
      "\n",
      "Количество отобранных признаков: 7\n",
      "Метрика до отбора: 97.1265 => после отбора: 96.7755\n",
      "==========================\n",
      "Конец жадного отбора факторов Forward Selection!\n"
     ]
    },
    {
     "name": "stderr",
     "output_type": "stream",
     "text": [
      "\n"
     ]
    }
   ],
   "source": [
    "fselection_res = selection.forward_selection(strat=strat)"
   ]
  },
  {
   "cell_type": "code",
   "execution_count": 12,
   "id": "f5a692cf",
   "metadata": {},
   "outputs": [
    {
     "data": {
      "image/png": "[encoded data removed]",
      "text/plain": [
       "<Figure size 1440x720 with 1 Axes>"
      ]
     },
     "metadata": {
      "needs_background": "light"
     },
     "output_type": "display_data"
    }
   ],
   "source": [
    "# Отрисовка метода forward_selection.\n",
    "## Оранжевая линия - среднее значение метрики при всех факторах. Синяя - среднее значение метрики при добавлении факторав по важности.\n",
    "\n",
    "selection.plot_forward(figsize=(20,10))"
   ]
  },
  {
   "cell_type": "markdown",
   "id": "b6134bd3",
   "metadata": {},
   "source": [
    "## 1.2 Описание работы функции `backward_selection`.\n",
    "- **1.** Сначала обучается модель по кросс-валидационной схеме, которая определяется параметрами strat / groups;\n",
    "\n",
    "- **2.** Расчитывается средняя метрика по всем фолдам на тестовых множествах;\n",
    "\n",
    "- **3.** Из упорядоченного по важности списка факторов из модели удаляется по одному, и снова происходит кросс-валидационное обучение;\n",
    "\n",
    "- **4.** Рассчитываются метрики на фолдах при удаленных признаках и сравниваются со значениями метрик на фолдах при всех фактора;\n",
    "\n",
    "- **5.** Метод останавливается в зависимости от параметра `first_degradation`:\n",
    "    - При значении True - остановка происходит при первом пересечении средней метрики при отобранных факторов относительно всех факторов;\n",
    "    - При значении False - остановка происходит аналогично методу forward_selection."
   ]
  },
  {
   "cell_type": "code",
   "execution_count": 13,
   "id": "ec65ebd0",
   "metadata": {},
   "outputs": [
    {
     "name": "stderr",
     "output_type": "stream",
     "text": [
      "\r",
      "0it [00:00, ?it/s]"
     ]
    },
    {
     "name": "stdout",
     "output_type": "stream",
     "text": [
      "==================== Обучение 1 фолда! ====================\n",
      "0:\ttest: 0.8915944\ttest1: 0.8652786\tbest: 0.8652786 (0)\ttotal: 1.61ms\tremaining: 806ms\n",
      "100:\ttest: 0.9965051\ttest1: 0.9955093\tbest: 0.9955093 (97)\ttotal: 140ms\tremaining: 553ms\n"
     ]
    },
    {
     "name": "stderr",
     "output_type": "stream",
     "text": [
      "\r",
      "1it [00:00,  2.09it/s]"
     ]
    },
    {
     "name": "stdout",
     "output_type": "stream",
     "text": [
      "200:\ttest: 0.9987500\ttest1: 0.9969382\tbest: 0.9971423 (179)\ttotal: 297ms\tremaining: 442ms\n",
      "Stopped by overfitting detector  (100 iterations wait)\n",
      "\n",
      "bestTest = 0.9971422739\n",
      "bestIteration = 179\n",
      "\n",
      "Shrink model to first 180 iterations.\n",
      "BEST ITERATION:  179\n",
      "gini на обучающей выборке: 99.684\n",
      "gini на проверочной выборке: 99.428\n",
      "\n",
      "********************** 1 фолд обучен! ******************************\n",
      "\n",
      "\n",
      "==================== Обучение 2 фолда! ====================\n",
      "0:\ttest: 0.9361663\ttest1: 0.9203061\tbest: 0.9203061 (0)\ttotal: 1.66ms\tremaining: 827ms\n",
      "100:\ttest: 0.9975765\ttest1: 0.9738776\tbest: 0.9748980 (73)\ttotal: 137ms\tremaining: 543ms\n",
      "200:\ttest: 0.9991964\ttest1: 0.9777551\tbest: 0.9777551 (200)\ttotal: 283ms\tremaining: 421ms\n",
      "300:\ttest: 0.9998342\ttest1: 0.9789796\tbest: 0.9795918 (293)\ttotal: 423ms\tremaining: 280ms\n",
      "400:\ttest: 1.0000000\ttest1: 0.9812245\tbest: 0.9814286 (385)\ttotal: 572ms\tremaining: 141ms\n"
     ]
    },
    {
     "name": "stderr",
     "output_type": "stream",
     "text": [
      "\r",
      "2it [00:01,  1.51it/s]"
     ]
    },
    {
     "name": "stdout",
     "output_type": "stream",
     "text": [
      "499:\ttest: 1.0000000\ttest1: 0.9822449\tbest: 0.9824490 (465)\ttotal: 701ms\tremaining: 0us\n",
      "\n",
      "bestTest = 0.9824489796\n",
      "bestIteration = 465\n",
      "\n",
      "Shrink model to first 466 iterations.\n",
      "BEST ITERATION:  465\n",
      "gini на обучающей выборке: 100.000\n",
      "gini на проверочной выборке: 96.490\n",
      "\n",
      "********************** 2 фолд обучен! ******************************\n",
      "\n",
      "\n",
      "==================== Обучение 3 фолда! ====================\n",
      "0:\ttest: 0.9323971\ttest1: 0.9009184\tbest: 0.9009184 (0)\ttotal: 1.43ms\tremaining: 713ms\n",
      "100:\ttest: 0.9969005\ttest1: 0.9804082\tbest: 0.9808163 (90)\ttotal: 132ms\tremaining: 520ms\n"
     ]
    },
    {
     "name": "stderr",
     "output_type": "stream",
     "text": [
      "\r",
      "3it [00:01,  1.69it/s]"
     ]
    },
    {
     "name": "stdout",
     "output_type": "stream",
     "text": [
      "200:\ttest: 0.9990816\ttest1: 0.9855102\tbest: 0.9855102 (199)\ttotal: 277ms\tremaining: 412ms\n",
      "300:\ttest: 0.9997704\ttest1: 0.9859184\tbest: 0.9867347 (226)\ttotal: 409ms\tremaining: 270ms\n",
      "Stopped by overfitting detector  (100 iterations wait)\n",
      "\n",
      "bestTest = 0.9867346939\n",
      "bestIteration = 226\n",
      "\n",
      "Shrink model to first 227 iterations.\n",
      "BEST ITERATION:  226\n",
      "gini на обучающей выборке: 99.867\n",
      "gini на проверочной выборке: 97.347\n",
      "\n",
      "********************** 3 фолд обучен! ******************************\n",
      "\n",
      "\n",
      "==================== Обучение 4 фолда! ====================\n",
      "0:\ttest: 0.9337300\ttest1: 0.8405102\tbest: 0.8405102 (0)\ttotal: 1.66ms\tremaining: 827ms\n",
      "100:\ttest: 0.9966964\ttest1: 0.9708163\tbest: 0.9710204 (99)\ttotal: 137ms\tremaining: 540ms\n",
      "200:\ttest: 0.9992092\ttest1: 0.9800000\tbest: 0.9800000 (199)\ttotal: 271ms\tremaining: 404ms\n",
      "300:\ttest: 0.9997832\ttest1: 0.9810204\tbest: 0.9812245 (294)\ttotal: 400ms\tremaining: 264ms\n"
     ]
    },
    {
     "name": "stderr",
     "output_type": "stream",
     "text": [
      "\r",
      "4it [00:02,  1.53it/s]"
     ]
    },
    {
     "name": "stdout",
     "output_type": "stream",
     "text": [
      "400:\ttest: 0.9999745\ttest1: 0.9824490\tbest: 0.9826531 (376)\ttotal: 532ms\tremaining: 131ms\n",
      "499:\ttest: 1.0000000\ttest1: 0.9830612\tbest: 0.9830612 (489)\ttotal: 661ms\tremaining: 0us\n",
      "\n",
      "bestTest = 0.9830612245\n",
      "bestIteration = 489\n",
      "\n",
      "Shrink model to first 490 iterations.\n",
      "BEST ITERATION:  489\n",
      "gini на обучающей выборке: 100.000\n",
      "gini на проверочной выборке: 96.612\n",
      "\n",
      "********************** 4 фолд обучен! ******************************\n",
      "\n",
      "\n",
      "==================== Обучение 5 фолда! ====================\n",
      "0:\ttest: 0.9490045\ttest1: 0.8640816\tbest: 0.8640816 (0)\ttotal: 2.18ms\tremaining: 1.09s\n",
      "100:\ttest: 0.9968239\ttest1: 0.9626531\tbest: 0.9628571 (98)\ttotal: 149ms\tremaining: 588ms\n",
      "200:\ttest: 0.9992474\ttest1: 0.9738776\tbest: 0.9740816 (195)\ttotal: 279ms\tremaining: 416ms\n",
      "300:\ttest: 0.9997321\ttest1: 0.9767347\tbest: 0.9767347 (291)\ttotal: 420ms\tremaining: 278ms\n",
      "400:\ttest: 0.9999490\ttest1: 0.9773469\tbest: 0.9775510 (383)\ttotal: 546ms\tremaining: 135ms\n"
     ]
    },
    {
     "name": "stderr",
     "output_type": "stream",
     "text": [
      "5it [00:03,  1.51it/s]\n"
     ]
    },
    {
     "name": "stdout",
     "output_type": "stream",
     "text": [
      "499:\ttest: 1.0000000\ttest1: 0.9785714\tbest: 0.9787755 (471)\ttotal: 673ms\tremaining: 0us\n",
      "\n",
      "bestTest = 0.9787755102\n",
      "bestIteration = 471\n",
      "\n",
      "Shrink model to first 472 iterations.\n",
      "BEST ITERATION:  471\n",
      "gini на обучающей выборке: 99.997\n",
      "gini на проверочной выборке: 95.755\n",
      "\n",
      "********************** 5 фолд обучен! ******************************\n",
      "\n",
      "\n",
      "Средняя метрика на фолдах со всеми факторами:  97.126507\n",
      "==========================\n",
      "Конец обуения кросс-валидации!\n",
      "\n",
      "Начало жадного отбора факторов Backward Selection!\n",
      "==========================\n",
      "Удаление признака 0\n"
     ]
    },
    {
     "name": "stderr",
     "output_type": "stream",
     "text": [
      "\r",
      "0it [00:00, ?it/s]"
     ]
    },
    {
     "name": "stdout",
     "output_type": "stream",
     "text": [
      "==================== Обучение 1 фолда! ====================\n",
      "0:\ttest: 0.9075064\ttest1: 0.9204940\tbest: 0.9204940 (0)\ttotal: 1.61ms\tremaining: 801ms\n",
      "100:\ttest: 0.9951403\ttest1: 0.9944887\tbest: 0.9946928 (80)\ttotal: 131ms\tremaining: 516ms\n"
     ]
    },
    {
     "name": "stderr",
     "output_type": "stream",
     "text": [
      "\r",
      "1it [00:00,  2.16it/s]"
     ]
    },
    {
     "name": "stdout",
     "output_type": "stream",
     "text": [
      "200:\ttest: 0.9985714\ttest1: 0.9967340\tbest: 0.9971423 (182)\ttotal: 274ms\tremaining: 407ms\n",
      "Stopped by overfitting detector  (100 iterations wait)\n",
      "\n",
      "bestTest = 0.9971422739\n",
      "bestIteration = 182\n",
      "\n",
      "Shrink model to first 183 iterations.\n",
      "BEST ITERATION:  182\n",
      "gini на обучающей выборке: 99.640\n",
      "gini на проверочной выборке: 99.428\n",
      "\n",
      "********************** 1 фолд обучен! ******************************\n",
      "\n",
      "\n",
      "==================== Обучение 2 фолда! ====================\n",
      "0:\ttest: 0.8990166\ttest1: 0.8917347\tbest: 0.8917347 (0)\ttotal: 1.39ms\tremaining: 692ms\n",
      "100:\ttest: 0.9974362\ttest1: 0.9746939\tbest: 0.9757143 (90)\ttotal: 131ms\tremaining: 516ms\n",
      "200:\ttest: 0.9992729\ttest1: 0.9818367\tbest: 0.9820408 (199)\ttotal: 257ms\tremaining: 382ms\n",
      "300:\ttest: 0.9998342\ttest1: 0.9832653\tbest: 0.9836735 (290)\ttotal: 382ms\tremaining: 253ms\n",
      "400:\ttest: 1.0000000\ttest1: 0.9848980\tbest: 0.9848980 (396)\ttotal: 512ms\tremaining: 126ms\n"
     ]
    },
    {
     "name": "stderr",
     "output_type": "stream",
     "text": [
      "\r",
      "2it [00:01,  1.62it/s]"
     ]
    },
    {
     "name": "stdout",
     "output_type": "stream",
     "text": [
      "499:\ttest: 1.0000000\ttest1: 0.9861224\tbest: 0.9861224 (437)\ttotal: 642ms\tremaining: 0us\n",
      "\n",
      "bestTest = 0.986122449\n",
      "bestIteration = 437\n",
      "\n",
      "Shrink model to first 438 iterations.\n",
      "BEST ITERATION:  437\n",
      "gini на обучающей выборке: 100.000\n",
      "gini на проверочной выборке: 97.224\n",
      "\n",
      "********************** 2 фолд обучен! ******************************\n",
      "\n",
      "\n",
      "==================== Обучение 3 фолда! ====================\n",
      "0:\ttest: 0.9064210\ttest1: 0.8862245\tbest: 0.8862245 (0)\ttotal: 1.36ms\tremaining: 677ms\n",
      "100:\ttest: 0.9973341\ttest1: 0.9838776\tbest: 0.9840816 (91)\ttotal: 139ms\tremaining: 549ms\n",
      "200:\ttest: 0.9992347\ttest1: 0.9869388\tbest: 0.9869388 (200)\ttotal: 267ms\tremaining: 397ms\n",
      "300:\ttest: 0.9998724\ttest1: 0.9877551\tbest: 0.9879592 (248)\ttotal: 392ms\tremaining: 259ms\n",
      "Stopped by overfitting detector  (100 iterations wait)\n",
      "\n",
      "bestTest = 0.9879591837\n",
      "bestIteration = 248\n",
      "\n",
      "Shrink model to first 249 iterations.\n"
     ]
    },
    {
     "name": "stderr",
     "output_type": "stream",
     "text": [
      "\r",
      "3it [00:01,  1.74it/s]"
     ]
    },
    {
     "name": "stdout",
     "output_type": "stream",
     "text": [
      "BEST ITERATION:  248\n",
      "gini на обучающей выборке: 99.926\n",
      "gini на проверочной выборке: 97.592\n",
      "\n",
      "********************** 3 фолд обучен! ******************************\n",
      "\n",
      "\n",
      "==================== Обучение 4 фолда! ====================\n",
      "0:\ttest: 0.9145461\ttest1: 0.8870408\tbest: 0.8870408 (0)\ttotal: 1.4ms\tremaining: 697ms\n",
      "100:\ttest: 0.9973214\ttest1: 0.9757143\tbest: 0.9759184 (99)\ttotal: 140ms\tremaining: 551ms\n",
      "200:\ttest: 0.9994260\ttest1: 0.9814286\tbest: 0.9814286 (200)\ttotal: 279ms\tremaining: 415ms\n",
      "300:\ttest: 0.9998597\ttest1: 0.9840816\tbest: 0.9840816 (300)\ttotal: 437ms\tremaining: 289ms\n"
     ]
    },
    {
     "name": "stderr",
     "output_type": "stream",
     "text": [
      "\r",
      "4it [00:02,  1.57it/s]"
     ]
    },
    {
     "name": "stdout",
     "output_type": "stream",
     "text": [
      "400:\ttest: 0.9999745\ttest1: 0.9840816\tbest: 0.9844898 (367)\ttotal: 570ms\tremaining: 141ms\n",
      "Stopped by overfitting detector  (100 iterations wait)\n",
      "\n",
      "bestTest = 0.9844897959\n",
      "bestIteration = 367\n",
      "\n",
      "Shrink model to first 368 iterations.\n",
      "BEST ITERATION:  367\n",
      "gini на обучающей выборке: 99.992\n",
      "gini на проверочной выборке: 96.898\n",
      "\n",
      "********************** 4 фолд обучен! ******************************\n",
      "\n",
      "\n",
      "==================== Обучение 5 фолда! ====================\n",
      "0:\ttest: 0.9194505\ttest1: 0.8059184\tbest: 0.8059184 (0)\ttotal: 1.41ms\tremaining: 705ms\n",
      "100:\ttest: 0.9966581\ttest1: 0.9626531\tbest: 0.9632653 (96)\ttotal: 128ms\tremaining: 506ms\n",
      "200:\ttest: 0.9991964\ttest1: 0.9748980\tbest: 0.9748980 (200)\ttotal: 256ms\tremaining: 381ms\n",
      "300:\ttest: 0.9997704\ttest1: 0.9775510\tbest: 0.9777551 (286)\ttotal: 388ms\tremaining: 257ms\n",
      "400:\ttest: 0.9999490\ttest1: 0.9787755\tbest: 0.9789796 (344)\ttotal: 518ms\tremaining: 128ms\n"
     ]
    },
    {
     "name": "stderr",
     "output_type": "stream",
     "text": [
      "5it [00:03,  1.57it/s]\n"
     ]
    },
    {
     "name": "stdout",
     "output_type": "stream",
     "text": [
      "499:\ttest: 1.0000000\ttest1: 0.9791837\tbest: 0.9797959 (490)\ttotal: 648ms\tremaining: 0us\n",
      "\n",
      "bestTest = 0.9797959184\n",
      "bestIteration = 490\n",
      "\n",
      "Shrink model to first 491 iterations.\n",
      "BEST ITERATION:  490\n",
      "gini на обучающей выборке: 100.000\n",
      "gini на проверочной выборке: 95.959\n",
      "\n",
      "********************** 5 фолд обучен! ******************************\n",
      "\n",
      "\n",
      "Количество признаков: 24 => метрика: 97.42038483488926\n",
      "==========================\n",
      "Удаление признака 1\n"
     ]
    },
    {
     "name": "stderr",
     "output_type": "stream",
     "text": [
      "\r",
      "0it [00:00, ?it/s]"
     ]
    },
    {
     "name": "stdout",
     "output_type": "stream",
     "text": [
      "==================== Обучение 1 фолда! ====================\n",
      "0:\ttest: 0.9282398\ttest1: 0.8906920\tbest: 0.8906920 (0)\ttotal: 1.42ms\tremaining: 708ms\n",
      "100:\ttest: 0.9956505\ttest1: 0.9946928\tbest: 0.9948969 (95)\ttotal: 125ms\tremaining: 492ms\n",
      "200:\ttest: 0.9985969\ttest1: 0.9967340\tbest: 0.9967340 (182)\ttotal: 252ms\tremaining: 375ms\n",
      "300:\ttest: 0.9996046\ttest1: 0.9977546\tbest: 0.9977546 (264)\ttotal: 375ms\tremaining: 248ms\n"
     ]
    },
    {
     "name": "stderr",
     "output_type": "stream",
     "text": [
      "\r",
      "1it [00:00,  1.36it/s]"
     ]
    },
    {
     "name": "stdout",
     "output_type": "stream",
     "text": [
      "400:\ttest: 0.9999235\ttest1: 0.9979588\tbest: 0.9979588 (316)\ttotal: 516ms\tremaining: 127ms\n",
      "499:\ttest: 1.0000000\ttest1: 0.9985711\tbest: 0.9985711 (422)\ttotal: 648ms\tremaining: 0us\n",
      "\n",
      "bestTest = 0.998571137\n",
      "bestIteration = 422\n",
      "\n",
      "Shrink model to first 423 iterations.\n",
      "BEST ITERATION:  422\n",
      "gini на обучающей выборке: 99.992\n",
      "gini на проверочной выборке: 99.714\n",
      "\n",
      "********************** 1 фолд обучен! ******************************\n",
      "\n",
      "\n",
      "==================== Обучение 2 фолда! ====================\n",
      "0:\ttest: 0.9378245\ttest1: 0.8919388\tbest: 0.8919388 (0)\ttotal: 1.34ms\tremaining: 671ms\n",
      "100:\ttest: 0.9975637\ttest1: 0.9718367\tbest: 0.9718367 (98)\ttotal: 133ms\tremaining: 524ms\n",
      "200:\ttest: 0.9993367\ttest1: 0.9789796\tbest: 0.9791837 (182)\ttotal: 265ms\tremaining: 394ms\n",
      "300:\ttest: 0.9998214\ttest1: 0.9818367\tbest: 0.9820408 (296)\ttotal: 392ms\tremaining: 259ms\n",
      "400:\ttest: 1.0000000\ttest1: 0.9836735\tbest: 0.9836735 (400)\ttotal: 522ms\tremaining: 129ms\n"
     ]
    },
    {
     "name": "stderr",
     "output_type": "stream",
     "text": [
      "\r",
      "2it [00:01,  1.36it/s]"
     ]
    },
    {
     "name": "stdout",
     "output_type": "stream",
     "text": [
      "499:\ttest: 1.0000000\ttest1: 0.9844898\tbest: 0.9844898 (490)\ttotal: 651ms\tremaining: 0us\n",
      "\n",
      "bestTest = 0.9844897959\n",
      "bestIteration = 490\n",
      "\n",
      "Shrink model to first 491 iterations.\n",
      "BEST ITERATION:  490\n",
      "gini на обучающей выборке: 100.000\n",
      "gini на проверочной выборке: 96.898\n",
      "\n",
      "********************** 2 фолд обучен! ******************************\n",
      "\n",
      "\n",
      "==================== Обучение 3 фолда! ====================\n",
      "0:\ttest: 0.9482965\ttest1: 0.9153061\tbest: 0.9153061 (0)\ttotal: 1.52ms\tremaining: 761ms\n",
      "100:\ttest: 0.9973852\ttest1: 0.9840816\tbest: 0.9853061 (81)\ttotal: 128ms\tremaining: 506ms\n",
      "200:\ttest: 0.9990944\ttest1: 0.9865306\tbest: 0.9869388 (195)\ttotal: 262ms\tremaining: 390ms\n",
      "300:\ttest: 0.9998724\ttest1: 0.9885714\tbest: 0.9887755 (259)\ttotal: 404ms\tremaining: 267ms\n"
     ]
    },
    {
     "name": "stderr",
     "output_type": "stream",
     "text": [
      "\r",
      "3it [00:02,  1.35it/s]"
     ]
    },
    {
     "name": "stdout",
     "output_type": "stream",
     "text": [
      "400:\ttest: 1.0000000\ttest1: 0.9891837\tbest: 0.9893878 (397)\ttotal: 535ms\tremaining: 132ms\n",
      "Stopped by overfitting detector  (100 iterations wait)\n",
      "\n",
      "bestTest = 0.9893877551\n",
      "bestIteration = 397\n",
      "\n",
      "Shrink model to first 398 iterations.\n",
      "BEST ITERATION:  397\n",
      "gini на обучающей выборке: 100.000\n",
      "gini на проверочной выборке: 97.878\n",
      "\n",
      "********************** 3 фолд обучен! ******************************\n",
      "\n",
      "\n",
      "==================== Обучение 4 фолда! ====================\n",
      "0:\ttest: 0.9433092\ttest1: 0.9140816\tbest: 0.9140816 (0)\ttotal: 1.39ms\tremaining: 695ms\n",
      "100:\ttest: 0.9966581\ttest1: 0.9724490\tbest: 0.9724490 (100)\ttotal: 132ms\tremaining: 522ms\n",
      "200:\ttest: 0.9991964\ttest1: 0.9800000\tbest: 0.9800000 (200)\ttotal: 263ms\tremaining: 391ms\n",
      "300:\ttest: 0.9998087\ttest1: 0.9820408\tbest: 0.9826531 (290)\ttotal: 394ms\tremaining: 261ms\n",
      "400:\ttest: 0.9999745\ttest1: 0.9834694\tbest: 0.9836735 (377)\ttotal: 525ms\tremaining: 130ms\n"
     ]
    },
    {
     "name": "stderr",
     "output_type": "stream",
     "text": [
      "\r",
      "4it [00:02,  1.34it/s]"
     ]
    },
    {
     "name": "stdout",
     "output_type": "stream",
     "text": [
      "499:\ttest: 1.0000000\ttest1: 0.9848980\tbest: 0.9851020 (463)\ttotal: 672ms\tremaining: 0us\n",
      "\n",
      "bestTest = 0.9851020408\n",
      "bestIteration = 463\n",
      "\n",
      "Shrink model to first 464 iterations.\n",
      "BEST ITERATION:  463\n",
      "gini на обучающей выборке: 100.000\n",
      "gini на проверочной выборке: 97.020\n",
      "\n",
      "********************** 4 фолд обучен! ******************************\n",
      "\n",
      "\n",
      "==================== Обучение 5 фолда! ====================\n",
      "0:\ttest: 0.9389469\ttest1: 0.8479592\tbest: 0.8479592 (0)\ttotal: 1.47ms\tremaining: 734ms\n",
      "100:\ttest: 0.9965816\ttest1: 0.9630612\tbest: 0.9630612 (98)\ttotal: 132ms\tremaining: 520ms\n",
      "200:\ttest: 0.9991199\ttest1: 0.9726531\tbest: 0.9732653 (180)\ttotal: 267ms\tremaining: 397ms\n",
      "300:\ttest: 0.9996939\ttest1: 0.9769388\tbest: 0.9771429 (275)\ttotal: 400ms\tremaining: 265ms\n"
     ]
    },
    {
     "name": "stderr",
     "output_type": "stream",
     "text": [
      "5it [00:03,  1.37it/s]\n"
     ]
    },
    {
     "name": "stdout",
     "output_type": "stream",
     "text": [
      "400:\ttest: 0.9999235\ttest1: 0.9773469\tbest: 0.9777551 (353)\ttotal: 528ms\tremaining: 130ms\n",
      "Stopped by overfitting detector  (100 iterations wait)\n",
      "\n",
      "bestTest = 0.977755102\n",
      "bestIteration = 353\n",
      "\n",
      "Shrink model to first 354 iterations.\n",
      "BEST ITERATION:  353\n",
      "gini на обучающей выборке: 99.980\n",
      "gini на проверочной выборке: 95.551\n",
      "\n",
      "********************** 5 фолд обучен! ******************************\n",
      "\n",
      "\n",
      "Количество признаков: 23 => метрика: 97.41223323377115\n",
      "==========================\n",
      "Удаление признака 2\n"
     ]
    },
    {
     "name": "stderr",
     "output_type": "stream",
     "text": [
      "\r",
      "0it [00:00, ?it/s]"
     ]
    },
    {
     "name": "stdout",
     "output_type": "stream",
     "text": [
      "==================== Обучение 1 фолда! ====================\n",
      "0:\ttest: 0.9142283\ttest1: 0.8875281\tbest: 0.8875281 (0)\ttotal: 1.36ms\tremaining: 680ms\n",
      "100:\ttest: 0.9965306\ttest1: 0.9946928\tbest: 0.9948969 (99)\ttotal: 138ms\tremaining: 543ms\n",
      "200:\ttest: 0.9988393\ttest1: 0.9969382\tbest: 0.9969382 (200)\ttotal: 272ms\tremaining: 405ms\n",
      "300:\ttest: 0.9996173\ttest1: 0.9977546\tbest: 0.9979588 (295)\ttotal: 402ms\tremaining: 266ms\n"
     ]
    },
    {
     "name": "stderr",
     "output_type": "stream",
     "text": [
      "\r",
      "1it [00:00,  1.60it/s]"
     ]
    },
    {
     "name": "stdout",
     "output_type": "stream",
     "text": [
      "400:\ttest: 0.9999490\ttest1: 0.9979588\tbest: 0.9981629 (310)\ttotal: 532ms\tremaining: 131ms\n",
      "Stopped by overfitting detector  (100 iterations wait)\n",
      "\n",
      "bestTest = 0.9981628904\n",
      "bestIteration = 310\n",
      "\n",
      "Shrink model to first 311 iterations.\n",
      "BEST ITERATION:  310\n",
      "gini на обучающей выборке: 99.939\n",
      "gini на проверочной выборке: 99.633\n",
      "\n",
      "********************** 1 фолд обучен! ******************************\n",
      "\n",
      "\n",
      "==================== Обучение 2 фолда! ====================\n",
      "0:\ttest: 0.9222056\ttest1: 0.8214286\tbest: 0.8214286 (0)\ttotal: 1.52ms\tremaining: 757ms\n",
      "100:\ttest: 0.9973214\ttest1: 0.9746939\tbest: 0.9753061 (39)\ttotal: 148ms\tremaining: 586ms\n",
      "200:\ttest: 0.9992474\ttest1: 0.9795918\tbest: 0.9797959 (169)\ttotal: 282ms\tremaining: 420ms\n",
      "300:\ttest: 0.9998342\ttest1: 0.9804082\tbest: 0.9808163 (276)\ttotal: 411ms\tremaining: 271ms\n",
      "400:\ttest: 1.0000000\ttest1: 0.9826531\tbest: 0.9828571 (395)\ttotal: 537ms\tremaining: 133ms\n"
     ]
    },
    {
     "name": "stderr",
     "output_type": "stream",
     "text": [
      "\r",
      "2it [00:01,  1.42it/s]"
     ]
    },
    {
     "name": "stdout",
     "output_type": "stream",
     "text": [
      "499:\ttest: 1.0000000\ttest1: 0.9834694\tbest: 0.9834694 (472)\ttotal: 671ms\tremaining: 0us\n",
      "\n",
      "bestTest = 0.9834693878\n",
      "bestIteration = 472\n",
      "\n",
      "Shrink model to first 473 iterations.\n",
      "BEST ITERATION:  472\n",
      "gini на обучающей выборке: 100.000\n",
      "gini на проверочной выборке: 96.694\n",
      "\n",
      "********************** 2 фолд обучен! ******************************\n",
      "\n",
      "\n",
      "==================== Обучение 3 фолда! ====================\n",
      "0:\ttest: 0.8896414\ttest1: 0.9064286\tbest: 0.9064286 (0)\ttotal: 1.3ms\tremaining: 648ms\n",
      "100:\ttest: 0.9972194\ttest1: 0.9820408\tbest: 0.9830612 (81)\ttotal: 130ms\tremaining: 512ms\n",
      "200:\ttest: 0.9990816\ttest1: 0.9853061\tbest: 0.9855102 (156)\ttotal: 263ms\tremaining: 391ms\n",
      "300:\ttest: 0.9997959\ttest1: 0.9879592\tbest: 0.9879592 (263)\ttotal: 392ms\tremaining: 259ms\n"
     ]
    },
    {
     "name": "stderr",
     "output_type": "stream",
     "text": [
      "\r",
      "3it [00:02,  1.39it/s]"
     ]
    },
    {
     "name": "stdout",
     "output_type": "stream",
     "text": [
      "400:\ttest: 0.9999745\ttest1: 0.9885714\tbest: 0.9887755 (384)\ttotal: 522ms\tremaining: 129ms\n",
      "499:\ttest: 1.0000000\ttest1: 0.9900000\tbest: 0.9904082 (484)\ttotal: 655ms\tremaining: 0us\n",
      "\n",
      "bestTest = 0.9904081633\n",
      "bestIteration = 484\n",
      "\n",
      "Shrink model to first 485 iterations.\n",
      "BEST ITERATION:  484\n",
      "gini на обучающей выборке: 100.000\n",
      "gini на проверочной выборке: 98.082\n",
      "\n",
      "********************** 3 фолд обучен! ******************************\n",
      "\n",
      "\n",
      "==================== Обучение 4 фолда! ====================\n",
      "0:\ttest: 0.8886274\ttest1: 0.8343878\tbest: 0.8343878 (0)\ttotal: 1.4ms\tremaining: 696ms\n",
      "100:\ttest: 0.9966326\ttest1: 0.9773469\tbest: 0.9773469 (98)\ttotal: 129ms\tremaining: 508ms\n",
      "200:\ttest: 0.9990434\ttest1: 0.9822449\tbest: 0.9822449 (200)\ttotal: 256ms\tremaining: 381ms\n",
      "300:\ttest: 0.9997194\ttest1: 0.9846939\tbest: 0.9851020 (271)\ttotal: 383ms\tremaining: 254ms\n",
      "400:\ttest: 0.9999745\ttest1: 0.9857143\tbest: 0.9861224 (353)\ttotal: 513ms\tremaining: 127ms\n"
     ]
    },
    {
     "name": "stderr",
     "output_type": "stream",
     "text": [
      "\r",
      "4it [00:02,  1.43it/s]"
     ]
    },
    {
     "name": "stdout",
     "output_type": "stream",
     "text": [
      "Stopped by overfitting detector  (100 iterations wait)\n",
      "\n",
      "bestTest = 0.986122449\n",
      "bestIteration = 353\n",
      "\n",
      "Shrink model to first 354 iterations.\n",
      "BEST ITERATION:  353\n",
      "gini на обучающей выборке: 99.974\n",
      "gini на проверочной выборке: 97.224\n",
      "\n",
      "********************** 4 фолд обучен! ******************************\n",
      "\n",
      "\n",
      "==================== Обучение 5 фолда! ====================\n",
      "0:\ttest: 0.9257516\ttest1: 0.8584694\tbest: 0.8584694 (0)\ttotal: 1.38ms\tremaining: 687ms\n",
      "100:\ttest: 0.9967219\ttest1: 0.9536735\tbest: 0.9536735 (100)\ttotal: 131ms\tremaining: 517ms\n",
      "200:\ttest: 0.9990816\ttest1: 0.9708163\tbest: 0.9708163 (200)\ttotal: 271ms\tremaining: 404ms\n",
      "300:\ttest: 0.9997704\ttest1: 0.9751020\tbest: 0.9755102 (271)\ttotal: 403ms\tremaining: 266ms\n"
     ]
    },
    {
     "name": "stderr",
     "output_type": "stream",
     "text": [
      "5it [00:03,  1.40it/s]\n"
     ]
    },
    {
     "name": "stdout",
     "output_type": "stream",
     "text": [
      "400:\ttest: 0.9999617\ttest1: 0.9785714\tbest: 0.9787755 (398)\ttotal: 550ms\tremaining: 136ms\n",
      "499:\ttest: 1.0000000\ttest1: 0.9802041\tbest: 0.9802041 (471)\ttotal: 701ms\tremaining: 0us\n",
      "\n",
      "bestTest = 0.9802040816\n",
      "bestIteration = 471\n",
      "\n",
      "Shrink model to first 472 iterations.\n",
      "BEST ITERATION:  471\n",
      "gini на обучающей выборке: 100.000\n",
      "gini на проверочной выборке: 96.041\n",
      "\n",
      "********************** 5 фолд обучен! ******************************\n",
      "\n",
      "\n",
      "Количество признаков: 22 => метрика: 97.53467888073784\n",
      "==========================\n",
      "Удаление признака 3\n"
     ]
    },
    {
     "name": "stderr",
     "output_type": "stream",
     "text": [
      "\r",
      "0it [00:00, ?it/s]"
     ]
    },
    {
     "name": "stdout",
     "output_type": "stream",
     "text": [
      "==================== Обучение 1 фолда! ====================\n",
      "0:\ttest: 0.9204783\ttest1: 0.8848745\tbest: 0.8848745 (0)\ttotal: 1.35ms\tremaining: 674ms\n",
      "100:\ttest: 0.9960714\ttest1: 0.9961217\tbest: 0.9963258 (88)\ttotal: 131ms\tremaining: 516ms\n"
     ]
    },
    {
     "name": "stderr",
     "output_type": "stream",
     "text": [
      "\r",
      "1it [00:00,  2.79it/s]"
     ]
    },
    {
     "name": "stdout",
     "output_type": "stream",
     "text": [
      "200:\ttest: 0.9986862\ttest1: 0.9971423\tbest: 0.9973464 (130)\ttotal: 262ms\tremaining: 389ms\n",
      "Stopped by overfitting detector  (100 iterations wait)\n",
      "\n",
      "bestTest = 0.9973463972\n",
      "bestIteration = 130\n",
      "\n",
      "Shrink model to first 131 iterations.\n",
      "BEST ITERATION:  130\n",
      "gini на обучающей выборке: 99.436\n",
      "gini на проверочной выборке: 99.469\n",
      "\n",
      "********************** 1 фолд обучен! ******************************\n",
      "\n",
      "\n",
      "==================== Обучение 2 фолда! ====================\n",
      "0:\ttest: 0.9259557\ttest1: 0.8953061\tbest: 0.8953061 (0)\ttotal: 1.57ms\tremaining: 782ms\n",
      "100:\ttest: 0.9976275\ttest1: 0.9795918\tbest: 0.9795918 (100)\ttotal: 128ms\tremaining: 507ms\n",
      "200:\ttest: 0.9992985\ttest1: 0.9820408\tbest: 0.9824490 (199)\ttotal: 259ms\tremaining: 385ms\n",
      "300:\ttest: 0.9998597\ttest1: 0.9840816\tbest: 0.9840816 (239)\ttotal: 385ms\tremaining: 255ms\n",
      "400:\ttest: 1.0000000\ttest1: 0.9851020\tbest: 0.9853061 (379)\ttotal: 511ms\tremaining: 126ms\n"
     ]
    },
    {
     "name": "stderr",
     "output_type": "stream",
     "text": [
      "\r",
      "2it [00:01,  1.75it/s]"
     ]
    },
    {
     "name": "stdout",
     "output_type": "stream",
     "text": [
      "499:\ttest: 1.0000000\ttest1: 0.9861224\tbest: 0.9863265 (462)\ttotal: 637ms\tremaining: 0us\n",
      "\n",
      "bestTest = 0.9863265306\n",
      "bestIteration = 462\n",
      "\n",
      "Shrink model to first 463 iterations.\n",
      "BEST ITERATION:  462\n",
      "gini на обучающей выборке: 100.000\n",
      "gini на проверочной выборке: 97.265\n",
      "\n",
      "********************** 2 фолд обучен! ******************************\n",
      "\n",
      "\n",
      "==================== Обучение 3 фолда! ====================\n",
      "0:\ttest: 0.9600314\ttest1: 0.9006122\tbest: 0.9006122 (0)\ttotal: 1.29ms\tremaining: 646ms\n",
      "100:\ttest: 0.9973214\ttest1: 0.9830612\tbest: 0.9838776 (94)\ttotal: 124ms\tremaining: 488ms\n",
      "200:\ttest: 0.9989286\ttest1: 0.9867347\tbest: 0.9875510 (178)\ttotal: 248ms\tremaining: 370ms\n",
      "300:\ttest: 0.9997321\ttest1: 0.9881633\tbest: 0.9881633 (291)\ttotal: 377ms\tremaining: 249ms\n"
     ]
    },
    {
     "name": "stderr",
     "output_type": "stream",
     "text": [
      "\r",
      "3it [00:01,  1.54it/s]"
     ]
    },
    {
     "name": "stdout",
     "output_type": "stream",
     "text": [
      "400:\ttest: 0.9999745\ttest1: 0.9895918\tbest: 0.9897959 (351)\ttotal: 505ms\tremaining: 125ms\n",
      "499:\ttest: 1.0000000\ttest1: 0.9906122\tbest: 0.9906122 (444)\ttotal: 651ms\tremaining: 0us\n",
      "\n",
      "bestTest = 0.9906122449\n",
      "bestIteration = 444\n",
      "\n",
      "Shrink model to first 445 iterations.\n",
      "BEST ITERATION:  444\n",
      "gini на обучающей выборке: 99.997\n",
      "gini на проверочной выборке: 98.122\n",
      "\n",
      "********************** 3 фолд обучен! ******************************\n",
      "\n",
      "\n",
      "==================== Обучение 4 фолда! ====================\n",
      "0:\ttest: 0.9472442\ttest1: 0.8560204\tbest: 0.8560204 (0)\ttotal: 1.41ms\tremaining: 703ms\n",
      "100:\ttest: 0.9965051\ttest1: 0.9742857\tbest: 0.9744898 (98)\ttotal: 131ms\tremaining: 519ms\n",
      "200:\ttest: 0.9990689\ttest1: 0.9802041\tbest: 0.9802041 (199)\ttotal: 259ms\tremaining: 386ms\n"
     ]
    },
    {
     "name": "stderr",
     "output_type": "stream",
     "text": [
      "\r",
      "4it [00:02,  1.60it/s]"
     ]
    },
    {
     "name": "stdout",
     "output_type": "stream",
     "text": [
      "300:\ttest: 0.9997576\ttest1: 0.9832653\tbest: 0.9832653 (298)\ttotal: 385ms\tremaining: 255ms\n",
      "400:\ttest: 0.9999745\ttest1: 0.9828571\tbest: 0.9834694 (303)\ttotal: 510ms\tremaining: 126ms\n",
      "Stopped by overfitting detector  (100 iterations wait)\n",
      "\n",
      "bestTest = 0.9834693878\n",
      "bestIteration = 303\n",
      "\n",
      "Shrink model to first 304 iterations.\n",
      "BEST ITERATION:  303\n",
      "gini на обучающей выборке: 99.954\n",
      "gini на проверочной выборке: 96.694\n",
      "\n",
      "********************** 4 фолд обучен! ******************************\n",
      "\n",
      "\n",
      "==================== Обучение 5 фолда! ====================\n",
      "0:\ttest: 0.9577418\ttest1: 0.8572449\tbest: 0.8572449 (0)\ttotal: 1.54ms\tremaining: 771ms\n",
      "100:\ttest: 0.9968750\ttest1: 0.9622449\tbest: 0.9624490 (97)\ttotal: 128ms\tremaining: 504ms\n",
      "200:\ttest: 0.9991199\ttest1: 0.9700000\tbest: 0.9702041 (197)\ttotal: 251ms\tremaining: 374ms\n",
      "300:\ttest: 0.9996811\ttest1: 0.9757143\tbest: 0.9761224 (286)\ttotal: 379ms\tremaining: 251ms\n",
      "400:\ttest: 0.9999617\ttest1: 0.9775510\tbest: 0.9775510 (366)\ttotal: 505ms\tremaining: 125ms\n"
     ]
    },
    {
     "name": "stderr",
     "output_type": "stream",
     "text": [
      "5it [00:03,  1.61it/s]\n"
     ]
    },
    {
     "name": "stdout",
     "output_type": "stream",
     "text": [
      "499:\ttest: 1.0000000\ttest1: 0.9781633\tbest: 0.9783673 (467)\ttotal: 628ms\tremaining: 0us\n",
      "\n",
      "bestTest = 0.9783673469\n",
      "bestIteration = 467\n",
      "\n",
      "Shrink model to first 468 iterations.\n",
      "BEST ITERATION:  467\n",
      "gini на обучающей выборке: 99.997\n",
      "gini на проверочной выборке: 95.673\n",
      "\n",
      "********************** 5 фолд обучен! ******************************\n",
      "\n",
      "\n",
      "Количество признаков: 21 => метрика: 97.4448762971202\n",
      "==========================\n",
      "Удаление признака 4\n"
     ]
    },
    {
     "name": "stderr",
     "output_type": "stream",
     "text": [
      "\r",
      "0it [00:00, ?it/s]"
     ]
    },
    {
     "name": "stdout",
     "output_type": "stream",
     "text": [
      "==================== Обучение 1 фолда! ====================\n",
      "0:\ttest: 0.9533929\ttest1: 0.9567259\tbest: 0.9567259 (0)\ttotal: 1.25ms\tremaining: 621ms\n",
      "100:\ttest: 0.9962628\ttest1: 0.9959175\tbest: 0.9959175 (100)\ttotal: 122ms\tremaining: 480ms\n"
     ]
    },
    {
     "name": "stderr",
     "output_type": "stream",
     "text": [
      "\r",
      "1it [00:00,  2.22it/s]"
     ]
    },
    {
     "name": "stdout",
     "output_type": "stream",
     "text": [
      "200:\ttest: 0.9985714\ttest1: 0.9969382\tbest: 0.9971423 (199)\ttotal: 244ms\tremaining: 363ms\n",
      "300:\ttest: 0.9995026\ttest1: 0.9975505\tbest: 0.9975505 (217)\ttotal: 367ms\tremaining: 242ms\n",
      "Stopped by overfitting detector  (100 iterations wait)\n",
      "\n",
      "bestTest = 0.9975505205\n",
      "bestIteration = 217\n",
      "\n",
      "Shrink model to first 218 iterations.\n",
      "BEST ITERATION:  217\n",
      "gini на обучающей выборке: 99.758\n",
      "gini на проверочной выборке: 99.510\n",
      "\n",
      "********************** 1 фолд обучен! ******************************\n",
      "\n",
      "\n",
      "==================== Обучение 2 фолда! ====================\n",
      "0:\ttest: 0.9162936\ttest1: 0.9120408\tbest: 0.9120408 (0)\ttotal: 1.37ms\tremaining: 682ms\n",
      "100:\ttest: 0.9975893\ttest1: 0.9744898\tbest: 0.9744898 (100)\ttotal: 125ms\tremaining: 496ms\n",
      "200:\ttest: 0.9991326\ttest1: 0.9808163\tbest: 0.9810204 (190)\ttotal: 271ms\tremaining: 403ms\n",
      "300:\ttest: 0.9997704\ttest1: 0.9832653\tbest: 0.9834694 (291)\ttotal: 395ms\tremaining: 261ms\n",
      "400:\ttest: 0.9999872\ttest1: 0.9840816\tbest: 0.9848980 (378)\ttotal: 519ms\tremaining: 128ms\n"
     ]
    },
    {
     "name": "stderr",
     "output_type": "stream",
     "text": [
      "\r",
      "2it [00:01,  1.68it/s]"
     ]
    },
    {
     "name": "stdout",
     "output_type": "stream",
     "text": [
      "Stopped by overfitting detector  (100 iterations wait)\n",
      "\n",
      "bestTest = 0.9848979592\n",
      "bestIteration = 378\n",
      "\n",
      "Shrink model to first 379 iterations.\n",
      "BEST ITERATION:  378\n",
      "gini на обучающей выборке: 99.992\n",
      "gini на проверочной выборке: 96.980\n",
      "\n",
      "********************** 2 фолд обучен! ******************************\n",
      "\n",
      "\n",
      "==================== Обучение 3 фолда! ====================\n",
      "0:\ttest: 0.9509624\ttest1: 0.8611224\tbest: 0.8611224 (0)\ttotal: 1.46ms\tremaining: 726ms\n",
      "100:\ttest: 0.9973341\ttest1: 0.9836735\tbest: 0.9836735 (100)\ttotal: 124ms\tremaining: 491ms\n"
     ]
    },
    {
     "name": "stderr",
     "output_type": "stream",
     "text": [
      "\r",
      "3it [00:01,  1.99it/s]"
     ]
    },
    {
     "name": "stdout",
     "output_type": "stream",
     "text": [
      "200:\ttest: 0.9990051\ttest1: 0.9863265\tbest: 0.9871429 (176)\ttotal: 245ms\tremaining: 364ms\n",
      "Stopped by overfitting detector  (100 iterations wait)\n",
      "\n",
      "bestTest = 0.9871428571\n",
      "bestIteration = 176\n",
      "\n",
      "Shrink model to first 177 iterations.\n",
      "BEST ITERATION:  176\n",
      "gini на обучающей выборке: 99.735\n",
      "gini на проверочной выборке: 97.429\n",
      "\n",
      "********************** 3 фолд обучен! ******************************\n",
      "\n",
      "\n",
      "==================== Обучение 4 фолда! ====================\n",
      "0:\ttest: 0.9346038\ttest1: 0.9052041\tbest: 0.9052041 (0)\ttotal: 1.33ms\tremaining: 663ms\n",
      "100:\ttest: 0.9965178\ttest1: 0.9783673\tbest: 0.9783673 (100)\ttotal: 124ms\tremaining: 488ms\n",
      "200:\ttest: 0.9992602\ttest1: 0.9816327\tbest: 0.9820408 (168)\ttotal: 245ms\tremaining: 364ms\n"
     ]
    },
    {
     "name": "stderr",
     "output_type": "stream",
     "text": [
      "\r",
      "4it [00:02,  1.92it/s]"
     ]
    },
    {
     "name": "stdout",
     "output_type": "stream",
     "text": [
      "300:\ttest: 0.9998087\ttest1: 0.9861224\tbest: 0.9863265 (294)\ttotal: 368ms\tremaining: 243ms\n",
      "Stopped by overfitting detector  (100 iterations wait)\n",
      "\n",
      "bestTest = 0.9863265306\n",
      "bestIteration = 294\n",
      "\n",
      "Shrink model to first 295 iterations.\n",
      "BEST ITERATION:  294\n",
      "gini на обучающей выборке: 99.959\n",
      "gini на проверочной выборке: 97.265\n",
      "\n",
      "********************** 4 фолд обучен! ******************************\n",
      "\n",
      "\n",
      "==================== Обучение 5 фолда! ====================\n",
      "0:\ttest: 0.9465682\ttest1: 0.8870408\tbest: 0.8870408 (0)\ttotal: 1.37ms\tremaining: 683ms\n",
      "100:\ttest: 0.9963775\ttest1: 0.9559184\tbest: 0.9559184 (99)\ttotal: 127ms\tremaining: 501ms\n",
      "200:\ttest: 0.9991454\ttest1: 0.9710204\tbest: 0.9716327 (192)\ttotal: 250ms\tremaining: 372ms\n",
      "300:\ttest: 0.9997832\ttest1: 0.9746939\tbest: 0.9746939 (290)\ttotal: 373ms\tremaining: 247ms\n",
      "400:\ttest: 0.9999362\ttest1: 0.9769388\tbest: 0.9771429 (393)\ttotal: 497ms\tremaining: 123ms\n"
     ]
    },
    {
     "name": "stderr",
     "output_type": "stream",
     "text": [
      "5it [00:02,  1.79it/s]\n"
     ]
    },
    {
     "name": "stdout",
     "output_type": "stream",
     "text": [
      "499:\ttest: 0.9999872\ttest1: 0.9773469\tbest: 0.9777551 (429)\ttotal: 619ms\tremaining: 0us\n",
      "\n",
      "bestTest = 0.977755102\n",
      "bestIteration = 429\n",
      "\n",
      "Shrink model to first 430 iterations.\n",
      "BEST ITERATION:  429\n",
      "gini на обучающей выборке: 99.995\n",
      "gini на проверочной выборке: 95.551\n",
      "\n",
      "********************** 5 фолд обучен! ******************************\n",
      "\n",
      "\n",
      "Количество признаков: 20 => метрика: 97.3469187797593\n",
      "==========================\n",
      "Удаление признака 5\n"
     ]
    },
    {
     "name": "stderr",
     "output_type": "stream",
     "text": [
      "\r",
      "0it [00:00, ?it/s]"
     ]
    },
    {
     "name": "stdout",
     "output_type": "stream",
     "text": [
      "==================== Обучение 1 фолда! ====================\n",
      "0:\ttest: 0.9400638\ttest1: 0.9157991\tbest: 0.9157991 (0)\ttotal: 2.29ms\tremaining: 1.14s\n",
      "100:\ttest: 0.9960459\ttest1: 0.9961217\tbest: 0.9961217 (100)\ttotal: 123ms\tremaining: 485ms\n"
     ]
    },
    {
     "name": "stderr",
     "output_type": "stream",
     "text": [
      "\r",
      "1it [00:00,  2.39it/s]"
     ]
    },
    {
     "name": "stdout",
     "output_type": "stream",
     "text": [
      "200:\ttest: 0.9987755\ttest1: 0.9979588\tbest: 0.9981629 (193)\ttotal: 246ms\tremaining: 365ms\n",
      "Stopped by overfitting detector  (100 iterations wait)\n",
      "\n",
      "bestTest = 0.9981628904\n",
      "bestIteration = 193\n",
      "\n",
      "Shrink model to first 194 iterations.\n",
      "BEST ITERATION:  193\n",
      "gini на обучающей выборке: 99.719\n",
      "gini на проверочной выборке: 99.633\n",
      "\n",
      "********************** 1 фолд обучен! ******************************\n",
      "\n",
      "\n",
      "==================== Обучение 2 фолда! ====================\n",
      "0:\ttest: 0.9465491\ttest1: 0.9187755\tbest: 0.9187755 (0)\ttotal: 1.45ms\tremaining: 725ms\n",
      "100:\ttest: 0.9971811\ttest1: 0.9810204\tbest: 0.9810204 (100)\ttotal: 125ms\tremaining: 492ms\n",
      "200:\ttest: 0.9991199\ttest1: 0.9846939\tbest: 0.9846939 (200)\ttotal: 246ms\tremaining: 366ms\n"
     ]
    },
    {
     "name": "stderr",
     "output_type": "stream",
     "text": [
      "\r",
      "2it [00:00,  2.16it/s]"
     ]
    },
    {
     "name": "stdout",
     "output_type": "stream",
     "text": [
      "300:\ttest: 0.9998087\ttest1: 0.9846939\tbest: 0.9848980 (253)\ttotal: 367ms\tremaining: 243ms\n",
      "Stopped by overfitting detector  (100 iterations wait)\n",
      "\n",
      "bestTest = 0.9848979592\n",
      "bestIteration = 253\n",
      "\n",
      "Shrink model to first 254 iterations.\n",
      "BEST ITERATION:  253\n",
      "gini на обучающей выборке: 99.918\n",
      "gini на проверочной выборке: 96.980\n",
      "\n",
      "********************** 2 фолд обучен! ******************************\n",
      "\n",
      "\n",
      "==================== Обучение 3 фолда! ====================\n",
      "0:\ttest: 0.9314022\ttest1: 0.8615306\tbest: 0.8615306 (0)\ttotal: 1.36ms\tremaining: 679ms\n",
      "100:\ttest: 0.9973469\ttest1: 0.9830612\tbest: 0.9836735 (96)\ttotal: 122ms\tremaining: 482ms\n",
      "200:\ttest: 0.9991964\ttest1: 0.9873469\tbest: 0.9875510 (198)\ttotal: 241ms\tremaining: 358ms\n",
      "300:\ttest: 0.9997832\ttest1: 0.9889796\tbest: 0.9891837 (251)\ttotal: 362ms\tremaining: 239ms\n",
      "400:\ttest: 0.9999745\ttest1: 0.9902041\tbest: 0.9904082 (385)\ttotal: 483ms\tremaining: 119ms\n"
     ]
    },
    {
     "name": "stderr",
     "output_type": "stream",
     "text": [
      "\r",
      "3it [00:01,  1.77it/s]"
     ]
    },
    {
     "name": "stdout",
     "output_type": "stream",
     "text": [
      "Stopped by overfitting detector  (100 iterations wait)\n",
      "\n",
      "bestTest = 0.9904081633\n",
      "bestIteration = 385\n",
      "\n",
      "Shrink model to first 386 iterations.\n",
      "BEST ITERATION:  385\n",
      "gini на обучающей выборке: 99.995\n",
      "gini на проверочной выборке: 98.082\n",
      "\n",
      "********************** 3 фолд обучен! ******************************\n",
      "\n",
      "\n",
      "==================== Обучение 4 фолда! ====================\n",
      "0:\ttest: 0.9251457\ttest1: 0.8767347\tbest: 0.8767347 (0)\ttotal: 1.46ms\tremaining: 728ms\n",
      "100:\ttest: 0.9965306\ttest1: 0.9800000\tbest: 0.9800000 (100)\ttotal: 123ms\tremaining: 485ms\n",
      "200:\ttest: 0.9990944\ttest1: 0.9838776\tbest: 0.9838776 (172)\ttotal: 246ms\tremaining: 365ms\n",
      "300:\ttest: 0.9997832\ttest1: 0.9865306\tbest: 0.9865306 (291)\ttotal: 365ms\tremaining: 241ms\n"
     ]
    },
    {
     "name": "stderr",
     "output_type": "stream",
     "text": [
      "\r",
      "4it [00:02,  1.63it/s]"
     ]
    },
    {
     "name": "stdout",
     "output_type": "stream",
     "text": [
      "400:\ttest: 0.9999745\ttest1: 0.9863265\tbest: 0.9867347 (315)\ttotal: 488ms\tremaining: 120ms\n",
      "499:\ttest: 1.0000000\ttest1: 0.9871429\tbest: 0.9873469 (467)\ttotal: 606ms\tremaining: 0us\n",
      "\n",
      "bestTest = 0.9873469388\n",
      "bestIteration = 467\n",
      "\n",
      "Shrink model to first 468 iterations.\n",
      "BEST ITERATION:  467\n",
      "gini на обучающей выборке: 100.000\n",
      "gini на проверочной выборке: 97.469\n",
      "\n",
      "********************** 4 фолд обучен! ******************************\n",
      "\n",
      "\n",
      "==================== Обучение 5 фолда! ====================\n",
      "0:\ttest: 0.9505861\ttest1: 0.8131633\tbest: 0.8131633 (0)\ttotal: 1.27ms\tremaining: 636ms\n",
      "100:\ttest: 0.9972576\ttest1: 0.9614286\tbest: 0.9614286 (100)\ttotal: 122ms\tremaining: 482ms\n",
      "200:\ttest: 0.9992729\ttest1: 0.9716327\tbest: 0.9718367 (198)\ttotal: 242ms\tremaining: 360ms\n",
      "300:\ttest: 0.9998724\ttest1: 0.9746939\tbest: 0.9748980 (289)\ttotal: 365ms\tremaining: 241ms\n",
      "400:\ttest: 0.9999617\ttest1: 0.9785714\tbest: 0.9785714 (394)\ttotal: 485ms\tremaining: 120ms\n"
     ]
    },
    {
     "name": "stderr",
     "output_type": "stream",
     "text": [
      "5it [00:02,  1.67it/s]\n"
     ]
    },
    {
     "name": "stdout",
     "output_type": "stream",
     "text": [
      "499:\ttest: 1.0000000\ttest1: 0.9795918\tbest: 0.9795918 (485)\ttotal: 629ms\tremaining: 0us\n",
      "\n",
      "bestTest = 0.9795918367\n",
      "bestIteration = 485\n",
      "\n",
      "Shrink model to first 486 iterations.\n",
      "BEST ITERATION:  485\n",
      "gini на обучающей выборке: 100.000\n",
      "gini на проверочной выборке: 95.918\n",
      "\n",
      "********************** 5 фолд обучен! ******************************\n",
      "\n",
      "\n",
      "Количество признаков: 19 => метрика: 97.61631153379906\n",
      "==========================\n",
      "Удаление признака 6\n"
     ]
    },
    {
     "name": "stderr",
     "output_type": "stream",
     "text": [
      "\r",
      "0it [00:00, ?it/s]"
     ]
    },
    {
     "name": "stdout",
     "output_type": "stream",
     "text": [
      "==================== Обучение 1 фолда! ====================\n",
      "0:\ttest: 0.9440306\ttest1: 0.9188610\tbest: 0.9188610 (0)\ttotal: 1.4ms\tremaining: 699ms\n",
      "100:\ttest: 0.9960332\ttest1: 0.9961217\tbest: 0.9963258 (98)\ttotal: 120ms\tremaining: 473ms\n"
     ]
    },
    {
     "name": "stderr",
     "output_type": "stream",
     "text": [
      "\r",
      "1it [00:00,  2.19it/s]"
     ]
    },
    {
     "name": "stdout",
     "output_type": "stream",
     "text": [
      "200:\ttest: 0.9986735\ttest1: 0.9979588\tbest: 0.9979588 (191)\ttotal: 241ms\tremaining: 358ms\n",
      "300:\ttest: 0.9995153\ttest1: 0.9983670\tbest: 0.9983670 (229)\ttotal: 359ms\tremaining: 237ms\n",
      "Stopped by overfitting detector  (100 iterations wait)\n",
      "\n",
      "bestTest = 0.9983670137\n",
      "bestIteration = 229\n",
      "\n",
      "Shrink model to first 230 iterations.\n",
      "BEST ITERATION:  229\n",
      "gini на обучающей выборке: 99.806\n",
      "gini на проверочной выборке: 99.673\n",
      "\n",
      "********************** 1 фолд обучен! ******************************\n",
      "\n",
      "\n",
      "==================== Обучение 2 фолда! ====================\n",
      "0:\ttest: 0.9701272\ttest1: 0.9427551\tbest: 0.9427551 (0)\ttotal: 1.35ms\tremaining: 675ms\n"
     ]
    },
    {
     "name": "stderr",
     "output_type": "stream",
     "text": [
      "\r",
      "2it [00:00,  3.40it/s]"
     ]
    },
    {
     "name": "stdout",
     "output_type": "stream",
     "text": [
      "100:\ttest: 0.9970663\ttest1: 0.9726531\tbest: 0.9753061 (14)\ttotal: 122ms\tremaining: 483ms\n",
      "Stopped by overfitting detector  (100 iterations wait)\n",
      "\n",
      "bestTest = 0.9753061224\n",
      "bestIteration = 14\n",
      "\n",
      "Shrink model to first 15 iterations.\n",
      "BEST ITERATION:  14\n",
      "gini на обучающей выборке: 98.472\n",
      "gini на проверочной выборке: 95.061\n",
      "\n",
      "********************** 2 фолд обучен! ******************************\n",
      "\n",
      "\n",
      "==================== Обучение 3 фолда! ====================\n",
      "0:\ttest: 0.9366637\ttest1: 0.9574490\tbest: 0.9574490 (0)\ttotal: 1.54ms\tremaining: 766ms\n",
      "100:\ttest: 0.9965943\ttest1: 0.9834694\tbest: 0.9836735 (92)\ttotal: 122ms\tremaining: 481ms\n",
      "200:\ttest: 0.9989286\ttest1: 0.9871429\tbest: 0.9871429 (199)\ttotal: 243ms\tremaining: 361ms\n",
      "300:\ttest: 0.9997704\ttest1: 0.9883673\tbest: 0.9885714 (297)\ttotal: 363ms\tremaining: 240ms\n"
     ]
    },
    {
     "name": "stderr",
     "output_type": "stream",
     "text": [
      "\r",
      "3it [00:01,  2.28it/s]"
     ]
    },
    {
     "name": "stdout",
     "output_type": "stream",
     "text": [
      "400:\ttest: 0.9999745\ttest1: 0.9881633\tbest: 0.9887755 (345)\ttotal: 485ms\tremaining: 120ms\n",
      "Stopped by overfitting detector  (100 iterations wait)\n",
      "\n",
      "bestTest = 0.9887755102\n",
      "bestIteration = 345\n",
      "\n",
      "Shrink model to first 346 iterations.\n",
      "BEST ITERATION:  345\n",
      "gini на обучающей выборке: 99.995\n",
      "gini на проверочной выборке: 97.755\n",
      "\n",
      "********************** 3 фолд обучен! ******************************\n",
      "\n",
      "\n",
      "==================== Обучение 4 фолда! ====================\n",
      "0:\ttest: 0.9599995\ttest1: 0.9147959\tbest: 0.9147959 (0)\ttotal: 1.69ms\tremaining: 841ms\n",
      "100:\ttest: 0.9963775\ttest1: 0.9793878\tbest: 0.9797959 (95)\ttotal: 122ms\tremaining: 482ms\n",
      "200:\ttest: 0.9988520\ttest1: 0.9824490\tbest: 0.9824490 (176)\ttotal: 241ms\tremaining: 359ms\n",
      "300:\ttest: 0.9997066\ttest1: 0.9842857\tbest: 0.9846939 (287)\ttotal: 360ms\tremaining: 238ms\n",
      "400:\ttest: 0.9999745\ttest1: 0.9857143\tbest: 0.9857143 (395)\ttotal: 482ms\tremaining: 119ms\n"
     ]
    },
    {
     "name": "stderr",
     "output_type": "stream",
     "text": [
      "\r",
      "4it [00:01,  1.85it/s]"
     ]
    },
    {
     "name": "stdout",
     "output_type": "stream",
     "text": [
      "499:\ttest: 1.0000000\ttest1: 0.9846939\tbest: 0.9859184 (411)\ttotal: 615ms\tremaining: 0us\n",
      "\n",
      "bestTest = 0.9859183673\n",
      "bestIteration = 411\n",
      "\n",
      "Shrink model to first 412 iterations.\n",
      "BEST ITERATION:  411\n",
      "gini на обучающей выборке: 99.995\n",
      "gini на проверочной выборке: 97.184\n",
      "\n",
      "********************** 4 фолд обучен! ******************************\n",
      "\n",
      "\n",
      "==================== Обучение 5 фолда! ====================\n",
      "0:\ttest: 0.9534624\ttest1: 0.8572449\tbest: 0.8572449 (0)\ttotal: 2.44ms\tremaining: 1.22s\n",
      "100:\ttest: 0.9966836\ttest1: 0.9530612\tbest: 0.9530612 (100)\ttotal: 124ms\tremaining: 492ms\n",
      "200:\ttest: 0.9991199\ttest1: 0.9683673\tbest: 0.9683673 (200)\ttotal: 243ms\tremaining: 362ms\n",
      "300:\ttest: 0.9997576\ttest1: 0.9738776\tbest: 0.9738776 (299)\ttotal: 364ms\tremaining: 240ms\n"
     ]
    },
    {
     "name": "stderr",
     "output_type": "stream",
     "text": [
      "5it [00:02,  1.89it/s]\n"
     ]
    },
    {
     "name": "stdout",
     "output_type": "stream",
     "text": [
      "400:\ttest: 0.9999362\ttest1: 0.9765306\tbest: 0.9769388 (374)\ttotal: 487ms\tremaining: 120ms\n",
      "499:\ttest: 1.0000000\ttest1: 0.9773469\tbest: 0.9779592 (474)\ttotal: 608ms\tremaining: 0us\n",
      "\n",
      "bestTest = 0.9779591837\n",
      "bestIteration = 474\n",
      "\n",
      "Shrink model to first 475 iterations.\n",
      "BEST ITERATION:  474\n",
      "gini на обучающей выборке: 99.997\n",
      "gini на проверочной выборке: 95.592\n",
      "\n",
      "********************** 5 фолд обучен! ******************************\n",
      "\n",
      "\n",
      "Количество признаков: 18 => метрика: 97.0530478939892\n",
      "==========================\n",
      "Удаление признака 7\n"
     ]
    },
    {
     "name": "stderr",
     "output_type": "stream",
     "text": [
      "\r",
      "0it [00:00, ?it/s]"
     ]
    },
    {
     "name": "stdout",
     "output_type": "stream",
     "text": [
      "==================== Обучение 1 фолда! ====================\n",
      "0:\ttest: 0.9388967\ttest1: 0.9402939\tbest: 0.9402939 (0)\ttotal: 1.25ms\tremaining: 625ms\n",
      "100:\ttest: 0.9961607\ttest1: 0.9957134\tbest: 0.9957134 (91)\ttotal: 118ms\tremaining: 465ms\n",
      "200:\ttest: 0.9986862\ttest1: 0.9977546\tbest: 0.9977546 (200)\ttotal: 251ms\tremaining: 373ms\n",
      "300:\ttest: 0.9995408\ttest1: 0.9979588\tbest: 0.9981629 (248)\ttotal: 378ms\tremaining: 250ms\n",
      "Stopped by overfitting detector  (100 iterations wait)\n"
     ]
    },
    {
     "name": "stderr",
     "output_type": "stream",
     "text": [
      "\r",
      "1it [00:00,  1.98it/s]"
     ]
    },
    {
     "name": "stdout",
     "output_type": "stream",
     "text": [
      "\n",
      "bestTest = 0.9981628904\n",
      "bestIteration = 248\n",
      "\n",
      "Shrink model to first 249 iterations.\n",
      "BEST ITERATION:  248\n",
      "gini на обучающей выборке: 99.839\n",
      "gini на проверочной выборке: 99.633\n",
      "\n",
      "********************** 1 фолд обучен! ******************************\n",
      "\n",
      "\n",
      "==================== Обучение 2 фолда! ====================\n",
      "0:\ttest: 0.9528502\ttest1: 0.9148980\tbest: 0.9148980 (0)\ttotal: 1.27ms\tremaining: 637ms\n",
      "100:\ttest: 0.9973469\ttest1: 0.9761224\tbest: 0.9763265 (95)\ttotal: 122ms\tremaining: 481ms\n",
      "200:\ttest: 0.9991582\ttest1: 0.9806122\tbest: 0.9806122 (198)\ttotal: 248ms\tremaining: 368ms\n",
      "300:\ttest: 0.9997576\ttest1: 0.9830612\tbest: 0.9830612 (297)\ttotal: 380ms\tremaining: 251ms\n",
      "400:\ttest: 0.9999872\ttest1: 0.9848980\tbest: 0.9851020 (360)\ttotal: 525ms\tremaining: 130ms\n"
     ]
    },
    {
     "name": "stderr",
     "output_type": "stream",
     "text": [
      "\r",
      "2it [00:01,  1.63it/s]"
     ]
    },
    {
     "name": "stdout",
     "output_type": "stream",
     "text": [
      "Stopped by overfitting detector  (100 iterations wait)\n",
      "\n",
      "bestTest = 0.9851020408\n",
      "bestIteration = 360\n",
      "\n",
      "Shrink model to first 361 iterations.\n",
      "BEST ITERATION:  360\n",
      "gini на обучающей выборке: 99.987\n",
      "gini на проверочной выборке: 97.020\n",
      "\n",
      "********************** 2 фолд обучен! ******************************\n",
      "\n",
      "\n",
      "==================== Обучение 3 фолда! ====================\n",
      "0:\ttest: 0.9484050\ttest1: 0.8974490\tbest: 0.8974490 (0)\ttotal: 1.23ms\tremaining: 615ms\n",
      "100:\ttest: 0.9968622\ttest1: 0.9859184\tbest: 0.9859184 (100)\ttotal: 130ms\tremaining: 513ms\n",
      "200:\ttest: 0.9990434\ttest1: 0.9879592\tbest: 0.9879592 (194)\ttotal: 263ms\tremaining: 391ms\n",
      "300:\ttest: 0.9997576\ttest1: 0.9893878\tbest: 0.9893878 (298)\ttotal: 388ms\tremaining: 256ms\n",
      "400:\ttest: 0.9999745\ttest1: 0.9906122\tbest: 0.9910204 (389)\ttotal: 505ms\tremaining: 125ms\n"
     ]
    },
    {
     "name": "stderr",
     "output_type": "stream",
     "text": [
      "\r",
      "3it [00:01,  1.52it/s]"
     ]
    },
    {
     "name": "stdout",
     "output_type": "stream",
     "text": [
      "499:\ttest: 1.0000000\ttest1: 0.9918367\tbest: 0.9920408 (453)\ttotal: 620ms\tremaining: 0us\n",
      "\n",
      "bestTest = 0.9920408163\n",
      "bestIteration = 453\n",
      "\n",
      "Shrink model to first 454 iterations.\n",
      "BEST ITERATION:  453\n",
      "gini на обучающей выборке: 100.000\n",
      "gini на проверочной выборке: 98.408\n",
      "\n",
      "********************** 3 фолд обучен! ******************************\n",
      "\n",
      "\n",
      "==================== Обучение 4 фолда! ====================\n",
      "0:\ttest: 0.9500695\ttest1: 0.9436735\tbest: 0.9436735 (0)\ttotal: 1.18ms\tremaining: 590ms\n",
      "100:\ttest: 0.9963903\ttest1: 0.9759184\tbest: 0.9763265 (91)\ttotal: 121ms\tremaining: 478ms\n",
      "200:\ttest: 0.9989413\ttest1: 0.9830612\tbest: 0.9832653 (198)\ttotal: 239ms\tremaining: 356ms\n",
      "300:\ttest: 0.9997704\ttest1: 0.9863265\tbest: 0.9863265 (299)\ttotal: 358ms\tremaining: 236ms\n",
      "400:\ttest: 0.9999745\ttest1: 0.9865306\tbest: 0.9869388 (375)\ttotal: 476ms\tremaining: 117ms\n"
     ]
    },
    {
     "name": "stderr",
     "output_type": "stream",
     "text": [
      "\r",
      "4it [00:02,  1.54it/s]"
     ]
    },
    {
     "name": "stdout",
     "output_type": "stream",
     "text": [
      "Stopped by overfitting detector  (100 iterations wait)\n",
      "\n",
      "bestTest = 0.9869387755\n",
      "bestIteration = 375\n",
      "\n",
      "Shrink model to first 376 iterations.\n",
      "BEST ITERATION:  375\n",
      "gini на обучающей выборке: 99.992\n",
      "gini на проверочной выборке: 97.388\n",
      "\n",
      "********************** 4 фолд обучен! ******************************\n",
      "\n",
      "\n",
      "==================== Обучение 5 фолда! ====================\n",
      "0:\ttest: 0.9578183\ttest1: 0.8800000\tbest: 0.8800000 (0)\ttotal: 1.35ms\tremaining: 676ms\n",
      "100:\ttest: 0.9966454\ttest1: 0.9604082\tbest: 0.9606122 (14)\ttotal: 122ms\tremaining: 481ms\n",
      "200:\ttest: 0.9990434\ttest1: 0.9710204\tbest: 0.9710204 (200)\ttotal: 239ms\tremaining: 355ms\n",
      "300:\ttest: 0.9997066\ttest1: 0.9753061\tbest: 0.9755102 (292)\ttotal: 357ms\tremaining: 236ms\n",
      "400:\ttest: 0.9999235\ttest1: 0.9781633\tbest: 0.9785714 (370)\ttotal: 476ms\tremaining: 117ms\n"
     ]
    },
    {
     "name": "stderr",
     "output_type": "stream",
     "text": [
      "5it [00:03,  1.55it/s]\n"
     ]
    },
    {
     "name": "stdout",
     "output_type": "stream",
     "text": [
      "499:\ttest: 0.9999872\ttest1: 0.9781633\tbest: 0.9793878 (460)\ttotal: 595ms\tremaining: 0us\n",
      "\n",
      "bestTest = 0.9793877551\n",
      "bestIteration = 460\n",
      "\n",
      "Shrink model to first 461 iterations.\n",
      "BEST ITERATION:  460\n",
      "gini на обучающей выборке: 99.997\n",
      "gini на проверочной выборке: 95.878\n",
      "\n",
      "********************** 5 фолд обучен! ******************************\n",
      "\n",
      "\n",
      "Количество признаков: 17 => метрика: 97.6652911256358\n",
      "==========================\n",
      "Удаление признака 8\n"
     ]
    },
    {
     "name": "stderr",
     "output_type": "stream",
     "text": [
      "\r",
      "0it [00:00, ?it/s]"
     ]
    },
    {
     "name": "stdout",
     "output_type": "stream",
     "text": [
      "==================== Обучение 1 фолда! ====================\n",
      "0:\ttest: 0.9405867\ttest1: 0.9697898\tbest: 0.9697898 (0)\ttotal: 1.36ms\tremaining: 679ms\n",
      "100:\ttest: 0.9955485\ttest1: 0.9953052\tbest: 0.9957134 (94)\ttotal: 117ms\tremaining: 462ms\n",
      "200:\ttest: 0.9985587\ttest1: 0.9977546\tbest: 0.9977546 (197)\ttotal: 230ms\tremaining: 343ms\n",
      "300:\ttest: 0.9995281\ttest1: 0.9981629\tbest: 0.9981629 (269)\ttotal: 347ms\tremaining: 229ms\n",
      "400:\ttest: 0.9999362\ttest1: 0.9985711\tbest: 0.9987753 (378)\ttotal: 458ms\tremaining: 113ms\n"
     ]
    },
    {
     "name": "stderr",
     "output_type": "stream",
     "text": [
      "\r",
      "1it [00:00,  1.60it/s]"
     ]
    },
    {
     "name": "stdout",
     "output_type": "stream",
     "text": [
      "Stopped by overfitting detector  (100 iterations wait)\n",
      "\n",
      "bestTest = 0.9987752603\n",
      "bestIteration = 378\n",
      "\n",
      "Shrink model to first 379 iterations.\n",
      "BEST ITERATION:  378\n",
      "gini на обучающей выборке: 99.969\n",
      "gini на проверочной выборке: 99.755\n",
      "\n",
      "********************** 1 фолд обучен! ******************************\n",
      "\n",
      "\n",
      "==================== Обучение 2 фолда! ====================\n",
      "0:\ttest: 0.9704078\ttest1: 0.9073469\tbest: 0.9073469 (0)\ttotal: 1.26ms\tremaining: 629ms\n",
      "100:\ttest: 0.9975255\ttest1: 0.9767347\tbest: 0.9771429 (95)\ttotal: 117ms\tremaining: 462ms\n",
      "200:\ttest: 0.9991709\ttest1: 0.9802041\tbest: 0.9806122 (165)\ttotal: 231ms\tremaining: 343ms\n",
      "300:\ttest: 0.9997959\ttest1: 0.9836735\tbest: 0.9836735 (298)\ttotal: 349ms\tremaining: 231ms\n",
      "400:\ttest: 0.9999872\ttest1: 0.9857143\tbest: 0.9861224 (382)\ttotal: 464ms\tremaining: 114ms\n"
     ]
    },
    {
     "name": "stderr",
     "output_type": "stream",
     "text": [
      "\r",
      "2it [00:01,  1.57it/s]"
     ]
    },
    {
     "name": "stdout",
     "output_type": "stream",
     "text": [
      "Stopped by overfitting detector  (100 iterations wait)\n",
      "\n",
      "bestTest = 0.986122449\n",
      "bestIteration = 382\n",
      "\n",
      "Shrink model to first 383 iterations.\n",
      "BEST ITERATION:  382\n",
      "gini на обучающей выборке: 99.992\n",
      "gini на проверочной выборке: 97.224\n",
      "\n",
      "********************** 2 фолд обучен! ******************************\n",
      "\n",
      "\n",
      "==================== Обучение 3 фолда! ====================\n",
      "0:\ttest: 0.9557584\ttest1: 0.9285714\tbest: 0.9285714 (0)\ttotal: 1.45ms\tremaining: 726ms\n",
      "100:\ttest: 0.9970280\ttest1: 0.9818367\tbest: 0.9820408 (97)\ttotal: 117ms\tremaining: 462ms\n",
      "200:\ttest: 0.9990944\ttest1: 0.9867347\tbest: 0.9869388 (199)\ttotal: 233ms\tremaining: 347ms\n",
      "300:\ttest: 0.9997832\ttest1: 0.9885714\tbest: 0.9885714 (268)\ttotal: 347ms\tremaining: 229ms\n"
     ]
    },
    {
     "name": "stderr",
     "output_type": "stream",
     "text": [
      "\r",
      "3it [00:01,  1.65it/s]"
     ]
    },
    {
     "name": "stdout",
     "output_type": "stream",
     "text": [
      "400:\ttest: 0.9999745\ttest1: 0.9891837\tbest: 0.9893878 (332)\ttotal: 460ms\tremaining: 113ms\n",
      "Stopped by overfitting detector  (100 iterations wait)\n",
      "\n",
      "bestTest = 0.9893877551\n",
      "bestIteration = 332\n",
      "\n",
      "Shrink model to first 333 iterations.\n",
      "BEST ITERATION:  332\n",
      "gini на обучающей выборке: 99.980\n",
      "gini на проверочной выборке: 97.878\n",
      "\n",
      "********************** 3 фолд обучен! ******************************\n",
      "\n",
      "\n",
      "==================== Обучение 4 фолда! ====================\n",
      "0:\ttest: 0.9518170\ttest1: 0.9177551\tbest: 0.9177551 (0)\ttotal: 1.73ms\tremaining: 863ms\n",
      "100:\ttest: 0.9961989\ttest1: 0.9714286\tbest: 0.9716327 (94)\ttotal: 118ms\tremaining: 468ms\n",
      "200:\ttest: 0.9991071\ttest1: 0.9810204\tbest: 0.9812245 (191)\ttotal: 246ms\tremaining: 366ms\n",
      "300:\ttest: 0.9997704\ttest1: 0.9836735\tbest: 0.9838776 (295)\ttotal: 351ms\tremaining: 232ms\n",
      "400:\ttest: 0.9999745\ttest1: 0.9859184\tbest: 0.9861224 (387)\ttotal: 463ms\tremaining: 114ms\n"
     ]
    },
    {
     "name": "stderr",
     "output_type": "stream",
     "text": [
      "\r",
      "4it [00:02,  1.60it/s]"
     ]
    },
    {
     "name": "stdout",
     "output_type": "stream",
     "text": [
      "499:\ttest: 1.0000000\ttest1: 0.9855102\tbest: 0.9863265 (482)\ttotal: 572ms\tremaining: 0us\n",
      "\n",
      "bestTest = 0.9863265306\n",
      "bestIteration = 482\n",
      "\n",
      "Shrink model to first 483 iterations.\n",
      "BEST ITERATION:  482\n",
      "gini на обучающей выборке: 100.000\n",
      "gini на проверочной выборке: 97.265\n",
      "\n",
      "********************** 4 фолд обучен! ******************************\n",
      "\n",
      "\n",
      "==================== Обучение 5 фолда! ====================\n",
      "0:\ttest: 0.9489534\ttest1: 0.8762245\tbest: 0.8762245 (0)\ttotal: 1.24ms\tremaining: 617ms\n",
      "100:\ttest: 0.9962882\ttest1: 0.9646939\tbest: 0.9646939 (99)\ttotal: 118ms\tremaining: 465ms\n",
      "200:\ttest: 0.9990434\ttest1: 0.9755102\tbest: 0.9761224 (196)\ttotal: 230ms\tremaining: 342ms\n",
      "300:\ttest: 0.9996556\ttest1: 0.9781633\tbest: 0.9783673 (279)\ttotal: 342ms\tremaining: 226ms\n",
      "400:\ttest: 0.9999362\ttest1: 0.9804082\tbest: 0.9810204 (359)\ttotal: 457ms\tremaining: 113ms\n"
     ]
    },
    {
     "name": "stderr",
     "output_type": "stream",
     "text": [
      "5it [00:03,  1.58it/s]\n"
     ]
    },
    {
     "name": "stdout",
     "output_type": "stream",
     "text": [
      "499:\ttest: 0.9999872\ttest1: 0.9816327\tbest: 0.9818367 (497)\ttotal: 590ms\tremaining: 0us\n",
      "\n",
      "bestTest = 0.9818367347\n",
      "bestIteration = 497\n",
      "\n",
      "Shrink model to first 498 iterations.\n",
      "BEST ITERATION:  497\n",
      "gini на обучающей выборке: 99.997\n",
      "gini на проверочной выборке: 96.367\n",
      "\n",
      "********************** 5 фолд обучен! ******************************\n",
      "\n",
      "\n",
      "Количество признаков: 16 => метрика: 97.69794918579801\n",
      "==========================\n",
      "Удаление признака 9\n"
     ]
    },
    {
     "name": "stderr",
     "output_type": "stream",
     "text": [
      "\r",
      "0it [00:00, ?it/s]"
     ]
    },
    {
     "name": "stdout",
     "output_type": "stream",
     "text": [
      "==================== Обучение 1 фолда! ====================\n",
      "0:\ttest: 0.9468878\ttest1: 0.9703001\tbest: 0.9703001 (0)\ttotal: 1.33ms\tremaining: 665ms\n",
      "100:\ttest: 0.9957526\ttest1: 0.9961217\tbest: 0.9961217 (100)\ttotal: 127ms\tremaining: 503ms\n"
     ]
    },
    {
     "name": "stderr",
     "output_type": "stream",
     "text": [
      "\r",
      "1it [00:00,  3.00it/s]"
     ]
    },
    {
     "name": "stdout",
     "output_type": "stream",
     "text": [
      "200:\ttest: 0.9986862\ttest1: 0.9973464\tbest: 0.9975505 (137)\ttotal: 244ms\tremaining: 363ms\n",
      "Stopped by overfitting detector  (100 iterations wait)\n",
      "\n",
      "bestTest = 0.9975505205\n",
      "bestIteration = 137\n",
      "\n",
      "Shrink model to first 138 iterations.\n",
      "BEST ITERATION:  137\n",
      "gini на обучающей выборке: 99.418\n",
      "gini на проверочной выборке: 99.510\n",
      "\n",
      "********************** 1 фолд обучен! ******************************\n",
      "\n",
      "\n",
      "==================== Обучение 2 фолда! ====================\n",
      "0:\ttest: 0.9502034\ttest1: 0.9181633\tbest: 0.9181633 (0)\ttotal: 1.31ms\tremaining: 653ms\n",
      "100:\ttest: 0.9972321\ttest1: 0.9755102\tbest: 0.9761224 (87)\ttotal: 111ms\tremaining: 437ms\n",
      "200:\ttest: 0.9992092\ttest1: 0.9797959\tbest: 0.9800000 (192)\ttotal: 215ms\tremaining: 320ms\n",
      "300:\ttest: 0.9998342\ttest1: 0.9816327\tbest: 0.9820408 (274)\ttotal: 315ms\tremaining: 208ms\n",
      "400:\ttest: 0.9999745\ttest1: 0.9828571\tbest: 0.9834694 (353)\ttotal: 419ms\tremaining: 104ms\n"
     ]
    },
    {
     "name": "stderr",
     "output_type": "stream",
     "text": [
      "\r",
      "2it [00:00,  2.04it/s]"
     ]
    },
    {
     "name": "stdout",
     "output_type": "stream",
     "text": [
      "499:\ttest: 1.0000000\ttest1: 0.9848980\tbest: 0.9848980 (494)\ttotal: 522ms\tremaining: 0us\n",
      "\n",
      "bestTest = 0.9848979592\n",
      "bestIteration = 494\n",
      "\n",
      "Shrink model to first 495 iterations.\n",
      "BEST ITERATION:  494\n",
      "gini на обучающей выборке: 100.000\n",
      "gini на проверочной выборке: 96.980\n",
      "\n",
      "********************** 2 фолд обучен! ******************************\n",
      "\n",
      "\n",
      "==================== Обучение 3 фолда! ====================\n",
      "0:\ttest: 0.9484751\ttest1: 0.9345918\tbest: 0.9345918 (0)\ttotal: 1.3ms\tremaining: 647ms\n",
      "100:\ttest: 0.9972449\ttest1: 0.9838776\tbest: 0.9859184 (26)\ttotal: 110ms\tremaining: 435ms\n",
      "200:\ttest: 0.9990306\ttest1: 0.9879592\tbest: 0.9879592 (198)\ttotal: 208ms\tremaining: 309ms\n",
      "300:\ttest: 0.9998087\ttest1: 0.9908163\tbest: 0.9908163 (273)\ttotal: 308ms\tremaining: 204ms\n",
      "400:\ttest: 0.9999745\ttest1: 0.9916327\tbest: 0.9916327 (339)\ttotal: 405ms\tremaining: 100ms\n"
     ]
    },
    {
     "name": "stderr",
     "output_type": "stream",
     "text": [
      "\r",
      "3it [00:01,  1.89it/s]"
     ]
    },
    {
     "name": "stdout",
     "output_type": "stream",
     "text": [
      "499:\ttest: 1.0000000\ttest1: 0.9916327\tbest: 0.9918367 (403)\ttotal: 501ms\tremaining: 0us\n",
      "\n",
      "bestTest = 0.9918367347\n",
      "bestIteration = 403\n",
      "\n",
      "Shrink model to first 404 iterations.\n",
      "BEST ITERATION:  403\n",
      "gini на обучающей выборке: 99.997\n",
      "gini на проверочной выборке: 98.367\n",
      "\n",
      "********************** 3 фолд обучен! ******************************\n",
      "\n",
      "\n",
      "==================== Обучение 4 фолда! ====================\n",
      "0:\ttest: 0.9478692\ttest1: 0.8988776\tbest: 0.8988776 (0)\ttotal: 1.27ms\tremaining: 636ms\n",
      "100:\ttest: 0.9964795\ttest1: 0.9767347\tbest: 0.9779592 (89)\ttotal: 106ms\tremaining: 419ms\n",
      "200:\ttest: 0.9992347\ttest1: 0.9826531\tbest: 0.9826531 (200)\ttotal: 203ms\tremaining: 302ms\n",
      "300:\ttest: 0.9998724\ttest1: 0.9853061\tbest: 0.9859184 (280)\ttotal: 304ms\tremaining: 201ms\n",
      "400:\ttest: 0.9999872\ttest1: 0.9867347\tbest: 0.9867347 (342)\ttotal: 404ms\tremaining: 99.7ms\n"
     ]
    },
    {
     "name": "stderr",
     "output_type": "stream",
     "text": [
      "\r",
      "4it [00:02,  1.82it/s]"
     ]
    },
    {
     "name": "stdout",
     "output_type": "stream",
     "text": [
      "499:\ttest: 1.0000000\ttest1: 0.9875510\tbest: 0.9877551 (456)\ttotal: 504ms\tremaining: 0us\n",
      "\n",
      "bestTest = 0.987755102\n",
      "bestIteration = 456\n",
      "\n",
      "Shrink model to first 457 iterations.\n",
      "BEST ITERATION:  456\n",
      "gini на обучающей выборке: 100.000\n",
      "gini на проверочной выборке: 97.551\n",
      "\n",
      "********************** 4 фолд обучен! ******************************\n",
      "\n",
      "\n",
      "==================== Обучение 5 фолда! ====================\n",
      "0:\ttest: 0.9488195\ttest1: 0.8968367\tbest: 0.8968367 (0)\ttotal: 1.28ms\tremaining: 640ms\n",
      "100:\ttest: 0.9967347\ttest1: 0.9616327\tbest: 0.9616327 (95)\ttotal: 120ms\tremaining: 473ms\n",
      "200:\ttest: 0.9991964\ttest1: 0.9738776\tbest: 0.9742857 (199)\ttotal: 237ms\tremaining: 352ms\n",
      "300:\ttest: 0.9997959\ttest1: 0.9795918\tbest: 0.9797959 (292)\ttotal: 380ms\tremaining: 251ms\n"
     ]
    },
    {
     "name": "stderr",
     "output_type": "stream",
     "text": [
      "5it [00:02,  1.87it/s]\n"
     ]
    },
    {
     "name": "stdout",
     "output_type": "stream",
     "text": [
      "400:\ttest: 0.9999617\ttest1: 0.9795918\tbest: 0.9800000 (302)\ttotal: 502ms\tremaining: 124ms\n",
      "Stopped by overfitting detector  (100 iterations wait)\n",
      "\n",
      "bestTest = 0.98\n",
      "bestIteration = 302\n",
      "\n",
      "Shrink model to first 303 iterations.\n",
      "BEST ITERATION:  302\n",
      "gini на обучающей выборке: 99.959\n",
      "gini на проверочной выборке: 96.000\n",
      "\n",
      "********************** 5 фолд обучен! ******************************\n",
      "\n",
      "\n",
      "Количество признаков: 15 => метрика: 97.68161265731032\n",
      "==========================\n",
      "Удаление признака 10\n"
     ]
    },
    {
     "name": "stderr",
     "output_type": "stream",
     "text": [
      "\r",
      "0it [00:00, ?it/s]"
     ]
    },
    {
     "name": "stdout",
     "output_type": "stream",
     "text": [
      "==================== Обучение 1 фолда! ====================\n",
      "0:\ttest: 0.9415561\ttest1: 0.9505001\tbest: 0.9505001 (0)\ttotal: 1.59ms\tremaining: 795ms\n",
      "100:\ttest: 0.9963520\ttest1: 0.9961217\tbest: 0.9961217 (78)\ttotal: 115ms\tremaining: 455ms\n",
      "200:\ttest: 0.9987117\ttest1: 0.9973464\tbest: 0.9975505 (187)\ttotal: 209ms\tremaining: 311ms\n"
     ]
    },
    {
     "name": "stderr",
     "output_type": "stream",
     "text": [
      "\r",
      "1it [00:00,  2.41it/s]"
     ]
    },
    {
     "name": "stdout",
     "output_type": "stream",
     "text": [
      "300:\ttest: 0.9995918\ttest1: 0.9981629\tbest: 0.9983670 (250)\ttotal: 301ms\tremaining: 199ms\n",
      "Stopped by overfitting detector  (100 iterations wait)\n",
      "\n",
      "bestTest = 0.9983670137\n",
      "bestIteration = 250\n",
      "\n",
      "Shrink model to first 251 iterations.\n",
      "BEST ITERATION:  250\n",
      "gini на обучающей выборке: 99.852\n",
      "gini на проверочной выборке: 99.673\n",
      "\n",
      "********************** 1 фолд обучен! ******************************\n",
      "\n",
      "\n",
      "==================== Обучение 2 фолда! ====================\n",
      "0:\ttest: 0.9579012\ttest1: 0.8803061\tbest: 0.8803061 (0)\ttotal: 1.43ms\tremaining: 711ms\n",
      "100:\ttest: 0.9976020\ttest1: 0.9759184\tbest: 0.9759184 (85)\ttotal: 103ms\tremaining: 409ms\n",
      "200:\ttest: 0.9990178\ttest1: 0.9795918\tbest: 0.9800000 (196)\ttotal: 207ms\tremaining: 309ms\n",
      "300:\ttest: 0.9997704\ttest1: 0.9834694\tbest: 0.9834694 (298)\ttotal: 317ms\tremaining: 210ms\n",
      "400:\ttest: 0.9999872\ttest1: 0.9836735\tbest: 0.9842857 (374)\ttotal: 443ms\tremaining: 109ms\n"
     ]
    },
    {
     "name": "stderr",
     "output_type": "stream",
     "text": [
      "\r",
      "2it [00:01,  1.86it/s]"
     ]
    },
    {
     "name": "stdout",
     "output_type": "stream",
     "text": [
      "499:\ttest: 1.0000000\ttest1: 0.9846939\tbest: 0.9848980 (457)\ttotal: 544ms\tremaining: 0us\n",
      "\n",
      "bestTest = 0.9848979592\n",
      "bestIteration = 457\n",
      "\n",
      "Shrink model to first 458 iterations.\n",
      "BEST ITERATION:  457\n",
      "gini на обучающей выборке: 100.000\n",
      "gini на проверочной выборке: 96.980\n",
      "\n",
      "********************** 2 фолд обучен! ******************************\n",
      "\n",
      "\n",
      "==================== Обучение 3 фолда! ====================\n",
      "0:\ttest: 0.9328690\ttest1: 0.9112245\tbest: 0.9112245 (0)\ttotal: 1.2ms\tremaining: 598ms\n",
      "100:\ttest: 0.9974617\ttest1: 0.9824490\tbest: 0.9826531 (79)\ttotal: 113ms\tremaining: 445ms\n",
      "200:\ttest: 0.9991837\ttest1: 0.9863265\tbest: 0.9867347 (180)\ttotal: 218ms\tremaining: 324ms\n",
      "300:\ttest: 0.9998342\ttest1: 0.9881633\tbest: 0.9883673 (291)\ttotal: 332ms\tremaining: 220ms\n",
      "400:\ttest: 1.0000000\ttest1: 0.9893878\tbest: 0.9895918 (385)\ttotal: 447ms\tremaining: 110ms\n"
     ]
    },
    {
     "name": "stderr",
     "output_type": "stream",
     "text": [
      "\r",
      "3it [00:01,  1.71it/s]"
     ]
    },
    {
     "name": "stdout",
     "output_type": "stream",
     "text": [
      "499:\ttest: 1.0000000\ttest1: 0.9893878\tbest: 0.9902041 (451)\ttotal: 561ms\tremaining: 0us\n",
      "\n",
      "bestTest = 0.9902040816\n",
      "bestIteration = 451\n",
      "\n",
      "Shrink model to first 452 iterations.\n",
      "BEST ITERATION:  451\n",
      "gini на обучающей выборке: 100.000\n",
      "gini на проверочной выборке: 98.041\n",
      "\n",
      "********************** 3 фолд обучен! ******************************\n",
      "\n",
      "\n",
      "==================== Обучение 4 фолда! ====================\n",
      "0:\ttest: 0.9366191\ttest1: 0.8778571\tbest: 0.8778571 (0)\ttotal: 1.45ms\tremaining: 722ms\n",
      "100:\ttest: 0.9966581\ttest1: 0.9793878\tbest: 0.9793878 (92)\ttotal: 119ms\tremaining: 472ms\n",
      "200:\ttest: 0.9990434\ttest1: 0.9834694\tbest: 0.9836735 (187)\ttotal: 227ms\tremaining: 338ms\n",
      "300:\ttest: 0.9998214\ttest1: 0.9871429\tbest: 0.9871429 (299)\ttotal: 329ms\tremaining: 218ms\n",
      "400:\ttest: 0.9999745\ttest1: 0.9883673\tbest: 0.9883673 (363)\ttotal: 428ms\tremaining: 106ms\n"
     ]
    },
    {
     "name": "stderr",
     "output_type": "stream",
     "text": [
      "\r",
      "4it [00:02,  1.66it/s]"
     ]
    },
    {
     "name": "stdout",
     "output_type": "stream",
     "text": [
      "499:\ttest: 1.0000000\ttest1: 0.9887755\tbest: 0.9889796 (431)\ttotal: 528ms\tremaining: 0us\n",
      "\n",
      "bestTest = 0.9889795918\n",
      "bestIteration = 431\n",
      "\n",
      "Shrink model to first 432 iterations.\n",
      "BEST ITERATION:  431\n",
      "gini на обучающей выборке: 99.997\n",
      "gini на проверочной выборке: 97.796\n",
      "\n",
      "********************** 4 фолд обучен! ******************************\n",
      "\n",
      "\n",
      "==================== Обучение 5 фолда! ====================\n",
      "0:\ttest: 0.9395911\ttest1: 0.8664286\tbest: 0.8664286 (0)\ttotal: 1.7ms\tremaining: 849ms\n",
      "100:\ttest: 0.9969898\ttest1: 0.9687755\tbest: 0.9687755 (100)\ttotal: 135ms\tremaining: 532ms\n",
      "200:\ttest: 0.9990561\ttest1: 0.9773469\tbest: 0.9775510 (191)\ttotal: 244ms\tremaining: 363ms\n",
      "300:\ttest: 0.9997449\ttest1: 0.9806122\tbest: 0.9806122 (298)\ttotal: 364ms\tremaining: 241ms\n",
      "400:\ttest: 0.9999490\ttest1: 0.9826531\tbest: 0.9826531 (390)\ttotal: 484ms\tremaining: 120ms\n"
     ]
    },
    {
     "name": "stderr",
     "output_type": "stream",
     "text": [
      "5it [00:02,  1.68it/s]\n"
     ]
    },
    {
     "name": "stdout",
     "output_type": "stream",
     "text": [
      "499:\ttest: 1.0000000\ttest1: 0.9828571\tbest: 0.9828571 (402)\ttotal: 590ms\tremaining: 0us\n",
      "\n",
      "bestTest = 0.9828571429\n",
      "bestIteration = 402\n",
      "\n",
      "Shrink model to first 403 iterations.\n",
      "BEST ITERATION:  402\n",
      "gini на обучающей выборке: 99.992\n",
      "gini на проверочной выборке: 96.571\n",
      "\n",
      "********************** 5 фолд обучен! ******************************\n",
      "\n",
      "\n",
      "Количество признаков: 14 => метрика: 97.81223156745858\n",
      "==========================\n",
      "Удаление признака 11\n"
     ]
    },
    {
     "name": "stderr",
     "output_type": "stream",
     "text": [
      "\r",
      "0it [00:00, ?it/s]"
     ]
    },
    {
     "name": "stdout",
     "output_type": "stream",
     "text": [
      "==================== Обучение 1 фолда! ====================\n",
      "0:\ttest: 0.9410906\ttest1: 0.9206981\tbest: 0.9206981 (0)\ttotal: 1.02ms\tremaining: 509ms\n",
      "100:\ttest: 0.9953827\ttest1: 0.9969382\tbest: 0.9969382 (88)\ttotal: 103ms\tremaining: 407ms\n",
      "200:\ttest: 0.9985077\ttest1: 0.9985711\tbest: 0.9985711 (165)\ttotal: 198ms\tremaining: 295ms\n"
     ]
    },
    {
     "name": "stderr",
     "output_type": "stream",
     "text": [
      "\r",
      "1it [00:00,  2.78it/s]"
     ]
    },
    {
     "name": "stdout",
     "output_type": "stream",
     "text": [
      "300:\ttest: 0.9995663\ttest1: 0.9985711\tbest: 0.9987753 (209)\ttotal: 290ms\tremaining: 192ms\n",
      "Stopped by overfitting detector  (100 iterations wait)\n",
      "\n",
      "bestTest = 0.9987752603\n",
      "bestIteration = 209\n",
      "\n",
      "Shrink model to first 210 iterations.\n",
      "BEST ITERATION:  209\n",
      "gini на обучающей выборке: 99.719\n",
      "gini на проверочной выборке: 99.755\n",
      "\n",
      "********************** 1 фолд обучен! ******************************\n",
      "\n",
      "\n",
      "==================== Обучение 2 фолда! ====================\n",
      "0:\ttest: 0.9458730\ttest1: 0.9290816\tbest: 0.9290816 (0)\ttotal: 1.14ms\tremaining: 568ms\n",
      "100:\ttest: 0.9975127\ttest1: 0.9785714\tbest: 0.9785714 (98)\ttotal: 101ms\tremaining: 399ms\n",
      "200:\ttest: 0.9991199\ttest1: 0.9838776\tbest: 0.9838776 (196)\ttotal: 203ms\tremaining: 301ms\n",
      "300:\ttest: 0.9997704\ttest1: 0.9846939\tbest: 0.9846939 (251)\ttotal: 309ms\tremaining: 204ms\n",
      "400:\ttest: 0.9999745\ttest1: 0.9865306\tbest: 0.9865306 (393)\ttotal: 401ms\tremaining: 98.9ms\n",
      "499:\ttest: 1.0000000\ttest1: 0.9879592\tbest: 0.9881633 (476)\ttotal: 491ms\tremaining: 0us\n",
      "\n",
      "bestTest = 0.9881632653\n",
      "bestIteration = 476\n",
      "\n",
      "Shrink model to first 477 iterations.\n"
     ]
    },
    {
     "name": "stderr",
     "output_type": "stream",
     "text": [
      "\r",
      "2it [00:00,  2.08it/s]"
     ]
    },
    {
     "name": "stdout",
     "output_type": "stream",
     "text": [
      "BEST ITERATION:  476\n",
      "gini на обучающей выборке: 100.000\n",
      "gini на проверочной выборке: 97.633\n",
      "\n",
      "********************** 2 фолд обучен! ******************************\n",
      "\n",
      "\n",
      "==================== Обучение 3 фолда! ====================\n",
      "0:\ttest: 0.9446103\ttest1: 0.9259184\tbest: 0.9259184 (0)\ttotal: 1.18ms\tremaining: 591ms\n",
      "100:\ttest: 0.9966071\ttest1: 0.9859184\tbest: 0.9859184 (56)\ttotal: 111ms\tremaining: 439ms\n",
      "200:\ttest: 0.9989668\ttest1: 0.9881633\tbest: 0.9885714 (184)\ttotal: 217ms\tremaining: 323ms\n",
      "300:\ttest: 0.9997576\ttest1: 0.9885714\tbest: 0.9897959 (284)\ttotal: 311ms\tremaining: 206ms\n",
      "Stopped by overfitting detector  (100 iterations wait)\n",
      "\n",
      "bestTest = 0.9897959184\n",
      "bestIteration = 284\n",
      "\n",
      "Shrink model to first 285 iterations.\n",
      "BEST ITERATION:  284\n"
     ]
    },
    {
     "name": "stderr",
     "output_type": "stream",
     "text": [
      "\r",
      "3it [00:01,  2.13it/s]"
     ]
    },
    {
     "name": "stdout",
     "output_type": "stream",
     "text": [
      "gini на обучающей выборке: 99.944\n",
      "gini на проверочной выборке: 97.959\n",
      "\n",
      "********************** 3 фолд обучен! ******************************\n",
      "\n",
      "\n",
      "==================== Обучение 4 фолда! ====================\n",
      "0:\ttest: 0.9496996\ttest1: 0.8813265\tbest: 0.8813265 (0)\ttotal: 1.32ms\tremaining: 659ms\n",
      "100:\ttest: 0.9961352\ttest1: 0.9742857\tbest: 0.9757143 (93)\ttotal: 101ms\tremaining: 399ms\n",
      "200:\ttest: 0.9989668\ttest1: 0.9828571\tbest: 0.9828571 (193)\ttotal: 195ms\tremaining: 290ms\n",
      "300:\ttest: 0.9997449\ttest1: 0.9846939\tbest: 0.9848980 (259)\ttotal: 286ms\tremaining: 189ms\n",
      "400:\ttest: 0.9999745\ttest1: 0.9857143\tbest: 0.9859184 (376)\ttotal: 398ms\tremaining: 98.3ms\n"
     ]
    },
    {
     "name": "stderr",
     "output_type": "stream",
     "text": [
      "\r",
      "4it [00:01,  1.93it/s]"
     ]
    },
    {
     "name": "stdout",
     "output_type": "stream",
     "text": [
      "499:\ttest: 1.0000000\ttest1: 0.9865306\tbest: 0.9865306 (499)\ttotal: 512ms\tremaining: 0us\n",
      "\n",
      "bestTest = 0.9865306122\n",
      "bestIteration = 499\n",
      "\n",
      "BEST ITERATION:  499\n",
      "gini на обучающей выборке: 100.000\n",
      "gini на проверочной выборке: 97.306\n",
      "\n",
      "********************** 4 фолд обучен! ******************************\n",
      "\n",
      "\n",
      "==================== Обучение 5 фолда! ====================\n",
      "0:\ttest: 0.9559306\ttest1: 0.8969388\tbest: 0.8969388 (0)\ttotal: 1.78ms\tremaining: 889ms\n",
      "100:\ttest: 0.9961989\ttest1: 0.9642857\tbest: 0.9642857 (100)\ttotal: 128ms\tremaining: 507ms\n",
      "200:\ttest: 0.9988648\ttest1: 0.9759184\tbest: 0.9759184 (192)\ttotal: 244ms\tremaining: 363ms\n",
      "300:\ttest: 0.9996556\ttest1: 0.9800000\tbest: 0.9802041 (282)\ttotal: 363ms\tremaining: 240ms\n",
      "400:\ttest: 0.9999107\ttest1: 0.9814286\tbest: 0.9814286 (382)\ttotal: 479ms\tremaining: 118ms\n"
     ]
    },
    {
     "name": "stderr",
     "output_type": "stream",
     "text": [
      "5it [00:02,  1.89it/s]\n"
     ]
    },
    {
     "name": "stdout",
     "output_type": "stream",
     "text": [
      "499:\ttest: 0.9999872\ttest1: 0.9818367\tbest: 0.9822449 (434)\ttotal: 595ms\tremaining: 0us\n",
      "\n",
      "bestTest = 0.982244898\n",
      "bestIteration = 434\n",
      "\n",
      "Shrink model to first 435 iterations.\n",
      "BEST ITERATION:  434\n",
      "gini на обучающей выборке: 99.992\n",
      "gini на проверочной выборке: 96.449\n",
      "\n",
      "********************** 5 фолд обучен! ******************************\n",
      "\n",
      "\n",
      "Количество признаков: 13 => метрика: 97.82039816538986\n",
      "==========================\n",
      "Удаление признака 12\n"
     ]
    },
    {
     "name": "stderr",
     "output_type": "stream",
     "text": [
      "\r",
      "0it [00:00, ?it/s]"
     ]
    },
    {
     "name": "stdout",
     "output_type": "stream",
     "text": [
      "==================== Обучение 1 фолда! ====================\n",
      "0:\ttest: 0.9423661\ttest1: 0.9583588\tbest: 0.9583588 (0)\ttotal: 1.02ms\tremaining: 510ms\n",
      "100:\ttest: 0.9954847\ttest1: 0.9963258\tbest: 0.9963258 (98)\ttotal: 99.9ms\tremaining: 395ms\n",
      "200:\ttest: 0.9985204\ttest1: 0.9977546\tbest: 0.9977546 (181)\ttotal: 192ms\tremaining: 285ms\n",
      "300:\ttest: 0.9995918\ttest1: 0.9979588\tbest: 0.9981629 (295)\ttotal: 279ms\tremaining: 185ms\n",
      "400:\ttest: 0.9999490\ttest1: 0.9983670\tbest: 0.9985711 (396)\ttotal: 370ms\tremaining: 91.3ms\n"
     ]
    },
    {
     "name": "stderr",
     "output_type": "stream",
     "text": [
      "\r",
      "1it [00:00,  1.88it/s]"
     ]
    },
    {
     "name": "stdout",
     "output_type": "stream",
     "text": [
      "Stopped by overfitting detector  (100 iterations wait)\n",
      "\n",
      "bestTest = 0.998571137\n",
      "bestIteration = 396\n",
      "\n",
      "Shrink model to first 397 iterations.\n",
      "BEST ITERATION:  396\n",
      "gini на обучающей выборке: 99.990\n",
      "gini на проверочной выборке: 99.714\n",
      "\n",
      "********************** 1 фолд обучен! ******************************\n",
      "\n",
      "\n",
      "==================== Обучение 2 фолда! ====================\n",
      "0:\ttest: 0.9339150\ttest1: 0.8982653\tbest: 0.8982653 (0)\ttotal: 1.42ms\tremaining: 709ms\n",
      "100:\ttest: 0.9976913\ttest1: 0.9744898\tbest: 0.9755102 (92)\ttotal: 96.8ms\tremaining: 383ms\n",
      "200:\ttest: 0.9993367\ttest1: 0.9793878\tbest: 0.9797959 (180)\ttotal: 191ms\tremaining: 285ms\n",
      "300:\ttest: 0.9998342\ttest1: 0.9812245\tbest: 0.9820408 (291)\ttotal: 279ms\tremaining: 184ms\n",
      "400:\ttest: 0.9999872\ttest1: 0.9824490\tbest: 0.9824490 (394)\ttotal: 367ms\tremaining: 90.7ms\n"
     ]
    },
    {
     "name": "stderr",
     "output_type": "stream",
     "text": [
      "\r",
      "2it [00:01,  1.89it/s]"
     ]
    },
    {
     "name": "stdout",
     "output_type": "stream",
     "text": [
      "499:\ttest: 1.0000000\ttest1: 0.9840816\tbest: 0.9842857 (473)\ttotal: 455ms\tremaining: 0us\n",
      "\n",
      "bestTest = 0.9842857143\n",
      "bestIteration = 473\n",
      "\n",
      "Shrink model to first 474 iterations.\n",
      "BEST ITERATION:  473\n",
      "gini на обучающей выборке: 100.000\n",
      "gini на проверочной выборке: 96.857\n",
      "\n",
      "********************** 2 фолд обучен! ******************************\n",
      "\n",
      "\n",
      "==================== Обучение 3 фолда! ====================\n",
      "0:\ttest: 0.9494636\ttest1: 0.9279592\tbest: 0.9279592 (0)\ttotal: 1.18ms\tremaining: 591ms\n"
     ]
    },
    {
     "name": "stderr",
     "output_type": "stream",
     "text": [
      "\r",
      "3it [00:01,  2.82it/s]"
     ]
    },
    {
     "name": "stdout",
     "output_type": "stream",
     "text": [
      "100:\ttest: 0.9970025\ttest1: 0.9830612\tbest: 0.9844898 (15)\ttotal: 96ms\tremaining: 379ms\n",
      "Stopped by overfitting detector  (100 iterations wait)\n",
      "\n",
      "bestTest = 0.9844897959\n",
      "bestIteration = 15\n",
      "\n",
      "Shrink model to first 16 iterations.\n",
      "BEST ITERATION:  15\n",
      "gini на обучающей выборке: 97.987\n",
      "gini на проверочной выборке: 96.898\n",
      "\n",
      "********************** 3 фолд обучен! ******************************\n",
      "\n",
      "\n",
      "==================== Обучение 4 фолда! ====================\n",
      "0:\ttest: 0.9451779\ttest1: 0.8822449\tbest: 0.8822449 (0)\ttotal: 1.21ms\tremaining: 604ms\n",
      "100:\ttest: 0.9964413\ttest1: 0.9751020\tbest: 0.9751020 (100)\ttotal: 99.1ms\tremaining: 392ms\n",
      "200:\ttest: 0.9990561\ttest1: 0.9840816\tbest: 0.9851020 (194)\ttotal: 194ms\tremaining: 289ms\n",
      "300:\ttest: 0.9997704\ttest1: 0.9877551\tbest: 0.9879592 (239)\ttotal: 296ms\tremaining: 195ms\n"
     ]
    },
    {
     "name": "stderr",
     "output_type": "stream",
     "text": [
      "\r",
      "4it [00:01,  2.49it/s]"
     ]
    },
    {
     "name": "stdout",
     "output_type": "stream",
     "text": [
      "400:\ttest: 0.9999490\ttest1: 0.9881633\tbest: 0.9883673 (322)\ttotal: 387ms\tremaining: 95.4ms\n",
      "Stopped by overfitting detector  (100 iterations wait)\n",
      "\n",
      "bestTest = 0.9883673469\n",
      "bestIteration = 322\n",
      "\n",
      "Shrink model to first 323 iterations.\n",
      "BEST ITERATION:  322\n",
      "gini на обучающей выборке: 99.964\n",
      "gini на проверочной выборке: 97.673\n",
      "\n",
      "********************** 4 фолд обучен! ******************************\n",
      "\n",
      "\n",
      "==================== Обучение 5 фолда! ====================\n",
      "0:\ttest: 0.9304392\ttest1: 0.8634694\tbest: 0.8634694 (0)\ttotal: 1.34ms\tremaining: 668ms\n",
      "100:\ttest: 0.9967602\ttest1: 0.9687755\tbest: 0.9689796 (93)\ttotal: 99ms\tremaining: 391ms\n",
      "200:\ttest: 0.9989158\ttest1: 0.9763265\tbest: 0.9763265 (199)\ttotal: 193ms\tremaining: 287ms\n",
      "300:\ttest: 0.9996173\ttest1: 0.9783673\tbest: 0.9785714 (295)\ttotal: 280ms\tremaining: 185ms\n",
      "400:\ttest: 0.9999362\ttest1: 0.9795918\tbest: 0.9795918 (395)\ttotal: 370ms\tremaining: 91.4ms\n"
     ]
    },
    {
     "name": "stderr",
     "output_type": "stream",
     "text": [
      "5it [00:02,  2.26it/s]\n"
     ]
    },
    {
     "name": "stdout",
     "output_type": "stream",
     "text": [
      "499:\ttest: 0.9999872\ttest1: 0.9797959\tbest: 0.9808163 (431)\ttotal: 459ms\tremaining: 0us\n",
      "\n",
      "bestTest = 0.9808163265\n",
      "bestIteration = 431\n",
      "\n",
      "Shrink model to first 432 iterations.\n",
      "BEST ITERATION:  431\n",
      "gini на обучающей выборке: 99.992\n",
      "gini на проверочной выборке: 96.163\n",
      "\n",
      "********************** 5 фолд обучен! ******************************\n",
      "\n",
      "\n",
      "Количество признаков: 12 => метрика: 97.46121282560789\n",
      "==========================\n",
      "Удаление признака 13\n"
     ]
    },
    {
     "name": "stderr",
     "output_type": "stream",
     "text": [
      "\r",
      "0it [00:00, ?it/s]"
     ]
    },
    {
     "name": "stdout",
     "output_type": "stream",
     "text": [
      "==================== Обучение 1 фолда! ====================\n",
      "0:\ttest: 0.9071620\ttest1: 0.8997755\tbest: 0.8997755 (0)\ttotal: 1.06ms\tremaining: 530ms\n",
      "100:\ttest: 0.9955102\ttest1: 0.9967340\tbest: 0.9967340 (89)\ttotal: 96ms\tremaining: 379ms\n",
      "200:\ttest: 0.9984949\ttest1: 0.9983670\tbest: 0.9983670 (194)\ttotal: 188ms\tremaining: 280ms\n",
      "300:\ttest: 0.9995408\ttest1: 0.9983670\tbest: 0.9985711 (257)\ttotal: 279ms\tremaining: 185ms\n"
     ]
    },
    {
     "name": "stderr",
     "output_type": "stream",
     "text": [
      "\r",
      "1it [00:00,  1.90it/s]"
     ]
    },
    {
     "name": "stdout",
     "output_type": "stream",
     "text": [
      "400:\ttest: 0.9999107\ttest1: 0.9989794\tbest: 0.9989794 (372)\ttotal: 387ms\tremaining: 95.4ms\n",
      "Stopped by overfitting detector  (100 iterations wait)\n",
      "\n",
      "bestTest = 0.9989793835\n",
      "bestIteration = 372\n",
      "\n",
      "Shrink model to first 373 iterations.\n",
      "BEST ITERATION:  372\n",
      "gini на обучающей выборке: 99.969\n",
      "gini на проверочной выборке: 99.796\n",
      "\n",
      "********************** 1 фолд обучен! ******************************\n",
      "\n",
      "\n",
      "==================== Обучение 2 фолда! ====================\n",
      "0:\ttest: 0.8940675\ttest1: 0.8648980\tbest: 0.8648980 (0)\ttotal: 1.08ms\tremaining: 540ms\n",
      "100:\ttest: 0.9972066\ttest1: 0.9777551\tbest: 0.9777551 (100)\ttotal: 94.2ms\tremaining: 372ms\n",
      "200:\ttest: 0.9989923\ttest1: 0.9816327\tbest: 0.9818367 (198)\ttotal: 191ms\tremaining: 284ms\n",
      "300:\ttest: 0.9997449\ttest1: 0.9832653\tbest: 0.9834694 (249)\ttotal: 286ms\tremaining: 189ms\n",
      "400:\ttest: 0.9999872\ttest1: 0.9844898\tbest: 0.9846939 (388)\ttotal: 399ms\tremaining: 98.5ms\n"
     ]
    },
    {
     "name": "stderr",
     "output_type": "stream",
     "text": [
      "\r",
      "2it [00:01,  1.82it/s]"
     ]
    },
    {
     "name": "stdout",
     "output_type": "stream",
     "text": [
      "499:\ttest: 1.0000000\ttest1: 0.9851020\tbest: 0.9855102 (489)\ttotal: 485ms\tremaining: 0us\n",
      "\n",
      "bestTest = 0.9855102041\n",
      "bestIteration = 489\n",
      "\n",
      "Shrink model to first 490 iterations.\n",
      "BEST ITERATION:  489\n",
      "gini на обучающей выборке: 100.000\n",
      "gini на проверочной выборке: 97.102\n",
      "\n",
      "********************** 2 фолд обучен! ******************************\n",
      "\n",
      "\n",
      "==================== Обучение 3 фолда! ====================\n",
      "0:\ttest: 0.8901006\ttest1: 0.9028571\tbest: 0.9028571 (0)\ttotal: 1.21ms\tremaining: 603ms\n",
      "100:\ttest: 0.9967091\ttest1: 0.9861224\tbest: 0.9863265 (96)\ttotal: 93.3ms\tremaining: 368ms\n",
      "200:\ttest: 0.9988520\ttest1: 0.9881633\tbest: 0.9881633 (200)\ttotal: 184ms\tremaining: 274ms\n",
      "300:\ttest: 0.9996939\ttest1: 0.9895918\tbest: 0.9902041 (299)\ttotal: 269ms\tremaining: 178ms\n",
      "400:\ttest: 0.9999107\ttest1: 0.9912245\tbest: 0.9912245 (381)\ttotal: 354ms\tremaining: 87.4ms\n"
     ]
    },
    {
     "name": "stderr",
     "output_type": "stream",
     "text": [
      "\r",
      "3it [00:01,  1.91it/s]"
     ]
    },
    {
     "name": "stdout",
     "output_type": "stream",
     "text": [
      "Stopped by overfitting detector  (100 iterations wait)\n",
      "\n",
      "bestTest = 0.9912244898\n",
      "bestIteration = 381\n",
      "\n",
      "Shrink model to first 382 iterations.\n",
      "BEST ITERATION:  381\n",
      "gini на обучающей выборке: 99.980\n",
      "gini на проверочной выборке: 98.245\n",
      "\n",
      "********************** 3 фолд обучен! ******************************\n",
      "\n",
      "\n",
      "==================== Обучение 4 фолда! ====================\n",
      "0:\ttest: 0.9176648\ttest1: 0.8631633\tbest: 0.8631633 (0)\ttotal: 1.44ms\tremaining: 719ms\n",
      "100:\ttest: 0.9965943\ttest1: 0.9759184\tbest: 0.9761224 (98)\ttotal: 93.5ms\tremaining: 369ms\n",
      "200:\ttest: 0.9988903\ttest1: 0.9838776\tbest: 0.9838776 (193)\ttotal: 183ms\tremaining: 272ms\n",
      "300:\ttest: 0.9996811\ttest1: 0.9859184\tbest: 0.9861224 (292)\ttotal: 270ms\tremaining: 179ms\n",
      "400:\ttest: 0.9999617\ttest1: 0.9873469\tbest: 0.9873469 (369)\ttotal: 358ms\tremaining: 88.3ms\n"
     ]
    },
    {
     "name": "stderr",
     "output_type": "stream",
     "text": [
      "\r",
      "4it [00:02,  1.92it/s]"
     ]
    },
    {
     "name": "stdout",
     "output_type": "stream",
     "text": [
      "499:\ttest: 1.0000000\ttest1: 0.9881633\tbest: 0.9885714 (489)\ttotal: 444ms\tremaining: 0us\n",
      "\n",
      "bestTest = 0.9885714286\n",
      "bestIteration = 489\n",
      "\n",
      "Shrink model to first 490 iterations.\n",
      "BEST ITERATION:  489\n",
      "gini на обучающей выборке: 100.000\n",
      "gini на проверочной выборке: 97.714\n",
      "\n",
      "********************** 4 фолд обучен! ******************************\n",
      "\n",
      "\n",
      "==================== Обучение 5 фолда! ====================\n",
      "0:\ttest: 0.9331752\ttest1: 0.8844898\tbest: 0.8844898 (0)\ttotal: 1.38ms\tremaining: 691ms\n",
      "100:\ttest: 0.9964413\ttest1: 0.9651020\tbest: 0.9651020 (100)\ttotal: 91.7ms\tremaining: 362ms\n",
      "200:\ttest: 0.9988520\ttest1: 0.9740816\tbest: 0.9746939 (197)\ttotal: 184ms\tremaining: 274ms\n",
      "300:\ttest: 0.9996046\ttest1: 0.9763265\tbest: 0.9765306 (274)\ttotal: 271ms\tremaining: 179ms\n",
      "400:\ttest: 0.9999362\ttest1: 0.9781633\tbest: 0.9783673 (393)\ttotal: 356ms\tremaining: 87.8ms\n"
     ]
    },
    {
     "name": "stderr",
     "output_type": "stream",
     "text": [
      "5it [00:02,  1.91it/s]\n"
     ]
    },
    {
     "name": "stdout",
     "output_type": "stream",
     "text": [
      "499:\ttest: 0.9999872\ttest1: 0.9785714\tbest: 0.9787755 (449)\ttotal: 443ms\tremaining: 0us\n",
      "\n",
      "bestTest = 0.9787755102\n",
      "bestIteration = 449\n",
      "\n",
      "Shrink model to first 450 iterations.\n",
      "BEST ITERATION:  449\n",
      "gini на обучающей выборке: 99.992\n",
      "gini на проверочной выборке: 95.755\n",
      "\n",
      "********************** 5 фолд обучен! ******************************\n",
      "\n",
      "\n",
      "Количество признаков: 11 => метрика: 97.72244064802896\n",
      "==========================\n",
      "Удаление признака 14\n"
     ]
    },
    {
     "name": "stderr",
     "output_type": "stream",
     "text": [
      "\r",
      "0it [00:00, ?it/s]"
     ]
    },
    {
     "name": "stdout",
     "output_type": "stream",
     "text": [
      "==================== Обучение 1 фолда! ====================\n",
      "0:\ttest: 0.9325446\ttest1: 0.9370280\tbest: 0.9370280 (0)\ttotal: 2.21ms\tremaining: 1.1s\n",
      "100:\ttest: 0.9941327\ttest1: 0.9971423\tbest: 0.9971423 (85)\ttotal: 93.5ms\tremaining: 369ms\n",
      "200:\ttest: 0.9977168\ttest1: 0.9979588\tbest: 0.9979588 (171)\ttotal: 184ms\tremaining: 273ms\n",
      "300:\ttest: 0.9992602\ttest1: 0.9987753\tbest: 0.9987753 (284)\ttotal: 268ms\tremaining: 177ms\n"
     ]
    },
    {
     "name": "stderr",
     "output_type": "stream",
     "text": [
      "\r",
      "1it [00:00,  2.21it/s]"
     ]
    },
    {
     "name": "stdout",
     "output_type": "stream",
     "text": [
      "400:\ttest: 0.9998597\ttest1: 0.9989794\tbest: 0.9989794 (301)\ttotal: 362ms\tremaining: 89.5ms\n",
      "Stopped by overfitting detector  (100 iterations wait)\n",
      "\n",
      "bestTest = 0.9989793835\n",
      "bestIteration = 301\n",
      "\n",
      "Shrink model to first 302 iterations.\n",
      "BEST ITERATION:  301\n",
      "gini на обучающей выборке: 99.852\n",
      "gini на проверочной выборке: 99.796\n",
      "\n",
      "********************** 1 фолд обучен! ******************************\n",
      "\n",
      "\n",
      "==================== Обучение 2 фолда! ====================\n",
      "0:\ttest: 0.9420528\ttest1: 0.9276531\tbest: 0.9276531 (0)\ttotal: 1.2ms\tremaining: 600ms\n",
      "100:\ttest: 0.9968239\ttest1: 0.9759184\tbest: 0.9761224 (88)\ttotal: 86.9ms\tremaining: 343ms\n",
      "200:\ttest: 0.9990944\ttest1: 0.9775510\tbest: 0.9781633 (169)\ttotal: 174ms\tremaining: 259ms\n",
      "300:\ttest: 0.9998469\ttest1: 0.9800000\tbest: 0.9804082 (282)\ttotal: 259ms\tremaining: 171ms\n",
      "400:\ttest: 1.0000000\ttest1: 0.9806122\tbest: 0.9810204 (379)\ttotal: 344ms\tremaining: 84.8ms\n"
     ]
    },
    {
     "name": "stderr",
     "output_type": "stream",
     "text": [
      "\r",
      "2it [00:00,  2.07it/s]"
     ]
    },
    {
     "name": "stdout",
     "output_type": "stream",
     "text": [
      "499:\ttest: 1.0000000\ttest1: 0.9816327\tbest: 0.9818367 (480)\ttotal: 429ms\tremaining: 0us\n",
      "\n",
      "bestTest = 0.9818367347\n",
      "bestIteration = 480\n",
      "\n",
      "Shrink model to first 481 iterations.\n",
      "BEST ITERATION:  480\n",
      "gini на обучающей выборке: 100.000\n",
      "gini на проверочной выборке: 96.367\n",
      "\n",
      "********************** 2 фолд обучен! ******************************\n",
      "\n",
      "\n",
      "==================== Обучение 3 фолда! ====================\n",
      "0:\ttest: 0.9472315\ttest1: 0.9039796\tbest: 0.9039796 (0)\ttotal: 1.13ms\tremaining: 561ms\n",
      "100:\ttest: 0.9961479\ttest1: 0.9840816\tbest: 0.9848980 (92)\ttotal: 86.6ms\tremaining: 342ms\n"
     ]
    },
    {
     "name": "stderr",
     "output_type": "stream",
     "text": [
      "\r",
      "3it [00:01,  2.46it/s]"
     ]
    },
    {
     "name": "stdout",
     "output_type": "stream",
     "text": [
      "200:\ttest: 0.9985714\ttest1: 0.9879592\tbest: 0.9883673 (195)\ttotal: 172ms\tremaining: 256ms\n",
      "300:\ttest: 0.9996301\ttest1: 0.9883673\tbest: 0.9885714 (203)\ttotal: 257ms\tremaining: 170ms\n",
      "Stopped by overfitting detector  (100 iterations wait)\n",
      "\n",
      "bestTest = 0.9885714286\n",
      "bestIteration = 203\n",
      "\n",
      "Shrink model to first 204 iterations.\n",
      "BEST ITERATION:  203\n",
      "gini на обучающей выборке: 99.735\n",
      "gini на проверочной выборке: 97.714\n",
      "\n",
      "********************** 3 фолд обучен! ******************************\n",
      "\n",
      "\n",
      "==================== Обучение 4 фолда! ====================\n",
      "0:\ttest: 0.9342530\ttest1: 0.9012245\tbest: 0.9012245 (0)\ttotal: 1.1ms\tremaining: 550ms\n",
      "100:\ttest: 0.9951913\ttest1: 0.9763265\tbest: 0.9763265 (100)\ttotal: 88.5ms\tremaining: 350ms\n",
      "200:\ttest: 0.9980612\ttest1: 0.9846939\tbest: 0.9846939 (200)\ttotal: 173ms\tremaining: 258ms\n",
      "300:\ttest: 0.9993495\ttest1: 0.9865306\tbest: 0.9867347 (299)\ttotal: 259ms\tremaining: 171ms\n"
     ]
    },
    {
     "name": "stderr",
     "output_type": "stream",
     "text": [
      "\r",
      "4it [00:01,  2.26it/s]"
     ]
    },
    {
     "name": "stdout",
     "output_type": "stream",
     "text": [
      "400:\ttest: 0.9998087\ttest1: 0.9885714\tbest: 0.9887755 (392)\ttotal: 346ms\tremaining: 85.4ms\n",
      "Stopped by overfitting detector  (100 iterations wait)\n",
      "\n",
      "bestTest = 0.9887755102\n",
      "bestIteration = 392\n",
      "\n",
      "Shrink model to first 393 iterations.\n",
      "BEST ITERATION:  392\n",
      "gini на обучающей выборке: 99.957\n",
      "gini на проверочной выборке: 97.755\n",
      "\n",
      "********************** 4 фолд обучен! ******************************\n",
      "\n",
      "\n",
      "==================== Обучение 5 фолда! ====================\n",
      "0:\ttest: 0.9393041\ttest1: 0.8977551\tbest: 0.8977551 (0)\ttotal: 976us\tremaining: 487ms\n",
      "100:\ttest: 0.9962372\ttest1: 0.9659184\tbest: 0.9659184 (100)\ttotal: 88.3ms\tremaining: 349ms\n",
      "200:\ttest: 0.9985969\ttest1: 0.9736735\tbest: 0.9736735 (200)\ttotal: 175ms\tremaining: 260ms\n",
      "300:\ttest: 0.9995025\ttest1: 0.9789796\tbest: 0.9793878 (281)\ttotal: 261ms\tremaining: 173ms\n"
     ]
    },
    {
     "name": "stderr",
     "output_type": "stream",
     "text": [
      "5it [00:02,  2.19it/s]\n"
     ]
    },
    {
     "name": "stdout",
     "output_type": "stream",
     "text": [
      "400:\ttest: 0.9998087\ttest1: 0.9808163\tbest: 0.9808163 (397)\ttotal: 347ms\tremaining: 85.7ms\n",
      "499:\ttest: 0.9999617\ttest1: 0.9804082\tbest: 0.9810204 (429)\ttotal: 432ms\tremaining: 0us\n",
      "\n",
      "bestTest = 0.9810204082\n",
      "bestIteration = 429\n",
      "\n",
      "Shrink model to first 430 iterations.\n",
      "BEST ITERATION:  429\n",
      "gini на обучающей выборке: 99.974\n",
      "gini на проверочной выборке: 96.204\n",
      "\n",
      "********************** 5 фолд обучен! ******************************\n",
      "\n",
      "\n",
      "Количество признаков: 10 => метрика: 97.56733860721263\n",
      "==========================\n",
      "Удаление признака 15\n"
     ]
    },
    {
     "name": "stderr",
     "output_type": "stream",
     "text": [
      "\r",
      "0it [00:00, ?it/s]"
     ]
    },
    {
     "name": "stdout",
     "output_type": "stream",
     "text": [
      "==================== Обучение 1 фолда! ====================\n",
      "0:\ttest: 0.9358992\ttest1: 0.9614207\tbest: 0.9614207 (0)\ttotal: 1.47ms\tremaining: 732ms\n",
      "100:\ttest: 0.9944898\ttest1: 0.9975505\tbest: 0.9975505 (74)\ttotal: 116ms\tremaining: 459ms\n",
      "200:\ttest: 0.9980612\ttest1: 0.9987753\tbest: 0.9987753 (170)\ttotal: 224ms\tremaining: 334ms\n",
      "300:\ttest: 0.9994133\ttest1: 0.9989794\tbest: 0.9989794 (270)\ttotal: 315ms\tremaining: 208ms\n",
      "400:\ttest: 0.9998342\ttest1: 0.9989794\tbest: 0.9991835 (310)\ttotal: 400ms\tremaining: 98.8ms\n"
     ]
    },
    {
     "name": "stderr",
     "output_type": "stream",
     "text": [
      "\r",
      "1it [00:00,  2.09it/s]"
     ]
    },
    {
     "name": "stdout",
     "output_type": "stream",
     "text": [
      "Stopped by overfitting detector  (100 iterations wait)\n",
      "\n",
      "bestTest = 0.9991835068\n",
      "bestIteration = 310\n",
      "\n",
      "Shrink model to first 311 iterations.\n",
      "BEST ITERATION:  310\n",
      "gini на обучающей выборке: 99.893\n",
      "gini на проверочной выборке: 99.837\n",
      "\n",
      "********************** 1 фолд обучен! ******************************\n",
      "\n",
      "\n",
      "==================== Обучение 2 фолда! ====================\n",
      "0:\ttest: 0.9569956\ttest1: 0.9489796\tbest: 0.9489796 (0)\ttotal: 943us\tremaining: 471ms\n",
      "100:\ttest: 0.9969515\ttest1: 0.9734694\tbest: 0.9734694 (98)\ttotal: 86.5ms\tremaining: 342ms\n",
      "200:\ttest: 0.9991709\ttest1: 0.9759184\tbest: 0.9761224 (176)\ttotal: 171ms\tremaining: 255ms\n",
      "300:\ttest: 0.9997576\ttest1: 0.9789796\tbest: 0.9789796 (269)\ttotal: 255ms\tremaining: 168ms\n",
      "400:\ttest: 0.9999617\ttest1: 0.9802041\tbest: 0.9804082 (396)\ttotal: 339ms\tremaining: 83.7ms\n"
     ]
    },
    {
     "name": "stderr",
     "output_type": "stream",
     "text": [
      "\r",
      "2it [00:00,  2.05it/s]"
     ]
    },
    {
     "name": "stdout",
     "output_type": "stream",
     "text": [
      "Stopped by overfitting detector  (100 iterations wait)\n",
      "\n",
      "bestTest = 0.9804081633\n",
      "bestIteration = 396\n",
      "\n",
      "Shrink model to first 397 iterations.\n",
      "BEST ITERATION:  396\n",
      "gini на обучающей выборке: 99.990\n",
      "gini на проверочной выборке: 96.082\n",
      "\n",
      "********************** 2 фолд обучен! ******************************\n",
      "\n",
      "\n",
      "==================== Обучение 3 фолда! ====================\n",
      "0:\ttest: 0.9394061\ttest1: 0.9313265\tbest: 0.9313265 (0)\ttotal: 1.01ms\tremaining: 504ms\n",
      "100:\ttest: 0.9966964\ttest1: 0.9846939\tbest: 0.9848980 (98)\ttotal: 88.1ms\tremaining: 348ms\n",
      "200:\ttest: 0.9985076\ttest1: 0.9857143\tbest: 0.9857143 (159)\ttotal: 173ms\tremaining: 258ms\n",
      "300:\ttest: 0.9995025\ttest1: 0.9875510\tbest: 0.9877551 (297)\ttotal: 257ms\tremaining: 170ms\n",
      "400:\ttest: 0.9998852\ttest1: 0.9871429\tbest: 0.9879592 (305)\ttotal: 342ms\tremaining: 84.5ms\n",
      "Stopped by overfitting detector  (100 iterations wait)\n",
      "\n",
      "bestTest = 0.9879591837\n",
      "bestIteration = 305\n",
      "\n",
      "Shrink model to first 306 iterations.\n",
      "BEST ITERATION:  305\n"
     ]
    },
    {
     "name": "stderr",
     "output_type": "stream",
     "text": [
      "\r",
      "3it [00:01,  2.20it/s]"
     ]
    },
    {
     "name": "stdout",
     "output_type": "stream",
     "text": [
      "gini на обучающей выборке: 99.908\n",
      "gini на проверочной выборке: 97.592\n",
      "\n",
      "********************** 3 фолд обучен! ******************************\n",
      "\n",
      "\n",
      "==================== Обучение 4 фолда! ====================\n",
      "0:\ttest: 0.9548655\ttest1: 0.8696939\tbest: 0.8696939 (0)\ttotal: 1.06ms\tremaining: 530ms\n",
      "100:\ttest: 0.9948086\ttest1: 0.9740816\tbest: 0.9740816 (94)\ttotal: 86.7ms\tremaining: 342ms\n",
      "200:\ttest: 0.9979592\ttest1: 0.9840816\tbest: 0.9840816 (199)\ttotal: 171ms\tremaining: 255ms\n",
      "300:\ttest: 0.9993112\ttest1: 0.9867347\tbest: 0.9867347 (300)\ttotal: 255ms\tremaining: 169ms\n",
      "400:\ttest: 0.9997832\ttest1: 0.9887755\tbest: 0.9887755 (400)\ttotal: 338ms\tremaining: 83.5ms\n",
      "499:\ttest: 0.9999745\ttest1: 0.9895918\tbest: 0.9895918 (493)\ttotal: 422ms\tremaining: 0us\n",
      "\n",
      "bestTest = 0.9895918367\n",
      "bestIteration = 493\n",
      "\n",
      "Shrink model to first 494 iterations.\n",
      "BEST ITERATION:  493\n"
     ]
    },
    {
     "name": "stderr",
     "output_type": "stream",
     "text": [
      "\r",
      "4it [00:01,  2.12it/s]"
     ]
    },
    {
     "name": "stdout",
     "output_type": "stream",
     "text": [
      "gini на обучающей выборке: 99.995\n",
      "gini на проверочной выборке: 97.918\n",
      "\n",
      "********************** 4 фолд обучен! ******************************\n",
      "\n",
      "\n",
      "==================== Обучение 5 фолда! ====================\n",
      "0:\ttest: 0.9814921\ttest1: 0.9461224\tbest: 0.9461224 (0)\ttotal: 1.04ms\tremaining: 517ms\n",
      "100:\ttest: 0.9959566\ttest1: 0.9616327\tbest: 0.9620408 (9)\ttotal: 85.1ms\tremaining: 336ms\n",
      "200:\ttest: 0.9984311\ttest1: 0.9710204\tbest: 0.9710204 (200)\ttotal: 170ms\tremaining: 253ms\n",
      "300:\ttest: 0.9994388\ttest1: 0.9771429\tbest: 0.9773469 (294)\ttotal: 254ms\tremaining: 168ms\n",
      "400:\ttest: 0.9998087\ttest1: 0.9795918\tbest: 0.9795918 (399)\ttotal: 338ms\tremaining: 83.3ms\n",
      "499:\ttest: 0.9999617\ttest1: 0.9822449\tbest: 0.9824490 (493)\ttotal: 422ms\tremaining: 0us\n",
      "\n",
      "bestTest = 0.9824489796\n",
      "bestIteration = 493\n",
      "\n",
      "Shrink model to first 494 iterations.\n",
      "BEST ITERATION:  493\n"
     ]
    },
    {
     "name": "stderr",
     "output_type": "stream",
     "text": [
      "5it [00:02,  2.10it/s]\n"
     ]
    },
    {
     "name": "stdout",
     "output_type": "stream",
     "text": [
      "gini на обучающей выборке: 99.992\n",
      "gini на проверочной выборке: 96.490\n",
      "\n",
      "********************** 5 фолд обучен! ******************************\n",
      "\n",
      "\n",
      "Количество признаков: 9 => метрика: 97.58366680413744\n",
      "==========================\n",
      "Удаление признака 16\n"
     ]
    },
    {
     "name": "stderr",
     "output_type": "stream",
     "text": [
      "\r",
      "0it [00:00, ?it/s]"
     ]
    },
    {
     "name": "stdout",
     "output_type": "stream",
     "text": [
      "==================== Обучение 1 фолда! ====================\n",
      "0:\ttest: 0.9259311\ttest1: 0.9237600\tbest: 0.9237600 (0)\ttotal: 1.65ms\tremaining: 825ms\n",
      "100:\ttest: 0.9942219\ttest1: 0.9955093\tbest: 0.9955093 (100)\ttotal: 83.4ms\tremaining: 329ms\n",
      "200:\ttest: 0.9977934\ttest1: 0.9971423\tbest: 0.9973464 (177)\ttotal: 166ms\tremaining: 248ms\n",
      "300:\ttest: 0.9991327\ttest1: 0.9979588\tbest: 0.9979588 (299)\ttotal: 250ms\tremaining: 165ms\n",
      "Stopped by overfitting detector  (100 iterations wait)\n",
      "\n",
      "bestTest = 0.9979587671\n",
      "bestIteration = 299\n",
      "\n",
      "Shrink model to first 300 iterations.\n",
      "BEST ITERATION:  299\n",
      "gini на обучающей выборке: 99.824\n",
      "gini на проверочной выборке: 99.592\n"
     ]
    },
    {
     "name": "stderr",
     "output_type": "stream",
     "text": [
      "\r",
      "1it [00:00,  2.52it/s]"
     ]
    },
    {
     "name": "stdout",
     "output_type": "stream",
     "text": [
      "\n",
      "********************** 1 фолд обучен! ******************************\n",
      "\n",
      "\n",
      "==================== Обучение 2 фолда! ====================\n",
      "0:\ttest: 0.9390298\ttest1: 0.8851020\tbest: 0.8851020 (0)\ttotal: 1.05ms\tremaining: 522ms\n",
      "100:\ttest: 0.9961862\ttest1: 0.9724490\tbest: 0.9726531 (99)\ttotal: 89.3ms\tremaining: 353ms\n",
      "200:\ttest: 0.9984694\ttest1: 0.9742857\tbest: 0.9746939 (195)\ttotal: 190ms\tremaining: 282ms\n",
      "300:\ttest: 0.9994133\ttest1: 0.9761224\tbest: 0.9761224 (250)\ttotal: 275ms\tremaining: 182ms\n",
      "400:\ttest: 0.9997959\ttest1: 0.9775510\tbest: 0.9777551 (398)\ttotal: 358ms\tremaining: 88.3ms\n",
      "499:\ttest: 0.9999490\ttest1: 0.9783673\tbest: 0.9785714 (492)\ttotal: 440ms\tremaining: 0us\n",
      "\n",
      "bestTest = 0.9785714286\n",
      "bestIteration = 492\n",
      "\n",
      "Shrink model to first 493 iterations.\n",
      "BEST ITERATION:  492\n"
     ]
    },
    {
     "name": "stderr",
     "output_type": "stream",
     "text": [
      "\r",
      "2it [00:00,  2.14it/s]"
     ]
    },
    {
     "name": "stdout",
     "output_type": "stream",
     "text": [
      "gini на обучающей выборке: 99.990\n",
      "gini на проверочной выборке: 95.714\n",
      "\n",
      "********************** 2 фолд обучен! ******************************\n",
      "\n",
      "\n",
      "==================== Обучение 3 фолда! ====================\n",
      "0:\ttest: 0.9313065\ttest1: 0.8962245\tbest: 0.8962245 (0)\ttotal: 1.1ms\tremaining: 551ms\n",
      "100:\ttest: 0.9950892\ttest1: 0.9779592\tbest: 0.9791837 (84)\ttotal: 84.9ms\tremaining: 335ms\n",
      "200:\ttest: 0.9978954\ttest1: 0.9836735\tbest: 0.9838776 (190)\ttotal: 189ms\tremaining: 281ms\n",
      "300:\ttest: 0.9990051\ttest1: 0.9865306\tbest: 0.9869388 (296)\ttotal: 270ms\tremaining: 179ms\n",
      "400:\ttest: 0.9995663\ttest1: 0.9875510\tbest: 0.9877551 (372)\ttotal: 353ms\tremaining: 87.1ms\n"
     ]
    },
    {
     "name": "stderr",
     "output_type": "stream",
     "text": [
      "\r",
      "3it [00:01,  2.05it/s]"
     ]
    },
    {
     "name": "stdout",
     "output_type": "stream",
     "text": [
      "499:\ttest: 0.9998980\ttest1: 0.9877551\tbest: 0.9879592 (430)\ttotal: 434ms\tremaining: 0us\n",
      "\n",
      "bestTest = 0.9879591837\n",
      "bestIteration = 430\n",
      "\n",
      "Shrink model to first 431 iterations.\n",
      "BEST ITERATION:  430\n",
      "gini на обучающей выборке: 99.946\n",
      "gini на проверочной выборке: 97.592\n",
      "\n",
      "********************** 3 фолд обучен! ******************************\n",
      "\n",
      "\n",
      "==================== Обучение 4 фолда! ====================\n",
      "0:\ttest: 0.9360706\ttest1: 0.9423469\tbest: 0.9423469 (0)\ttotal: 1.02ms\tremaining: 507ms\n",
      "100:\ttest: 0.9944897\ttest1: 0.9712245\tbest: 0.9712245 (88)\ttotal: 85.6ms\tremaining: 338ms\n",
      "200:\ttest: 0.9981505\ttest1: 0.9791837\tbest: 0.9804082 (189)\ttotal: 169ms\tremaining: 252ms\n",
      "300:\ttest: 0.9994388\ttest1: 0.9812245\tbest: 0.9812245 (238)\ttotal: 252ms\tremaining: 166ms\n",
      "400:\ttest: 0.9997959\ttest1: 0.9836735\tbest: 0.9836735 (356)\ttotal: 334ms\tremaining: 82.4ms\n"
     ]
    },
    {
     "name": "stderr",
     "output_type": "stream",
     "text": [
      "\r",
      "4it [00:01,  2.04it/s]"
     ]
    },
    {
     "name": "stdout",
     "output_type": "stream",
     "text": [
      "499:\ttest: 1.0000000\ttest1: 0.9853061\tbest: 0.9853061 (478)\ttotal: 419ms\tremaining: 0us\n",
      "\n",
      "bestTest = 0.9853061224\n",
      "bestIteration = 478\n",
      "\n",
      "Shrink model to first 479 iterations.\n",
      "BEST ITERATION:  478\n",
      "gini на обучающей выборке: 99.997\n",
      "gini на проверочной выборке: 97.061\n",
      "\n",
      "********************** 4 фолд обучен! ******************************\n",
      "\n",
      "\n",
      "==================== Обучение 5 фолда! ====================\n",
      "0:\ttest: 0.9318678\ttest1: 0.8594898\tbest: 0.8594898 (0)\ttotal: 997us\tremaining: 498ms\n",
      "100:\ttest: 0.9944132\ttest1: 0.9491837\tbest: 0.9491837 (100)\ttotal: 97.2ms\tremaining: 384ms\n",
      "200:\ttest: 0.9981122\ttest1: 0.9648980\tbest: 0.9648980 (200)\ttotal: 180ms\tremaining: 268ms\n",
      "300:\ttest: 0.9992347\ttest1: 0.9742857\tbest: 0.9742857 (299)\ttotal: 262ms\tremaining: 173ms\n",
      "400:\ttest: 0.9996811\ttest1: 0.9757143\tbest: 0.9759184 (370)\ttotal: 344ms\tremaining: 84.9ms\n"
     ]
    },
    {
     "name": "stderr",
     "output_type": "stream",
     "text": [
      "5it [00:02,  2.09it/s]\n"
     ]
    },
    {
     "name": "stdout",
     "output_type": "stream",
     "text": [
      "Stopped by overfitting detector  (100 iterations wait)\n",
      "\n",
      "bestTest = 0.9759183673\n",
      "bestIteration = 370\n",
      "\n",
      "Shrink model to first 371 iterations.\n",
      "BEST ITERATION:  370\n",
      "gini на обучающей выборке: 99.921\n",
      "gini на проверочной выборке: 95.184\n",
      "\n",
      "********************** 5 фолд обучен! ******************************\n",
      "\n",
      "\n",
      "Количество признаков: 8 => метрика: 97.02855476544569\n",
      "==========================\n",
      "Удаление признака 17\n"
     ]
    },
    {
     "name": "stderr",
     "output_type": "stream",
     "text": [
      "\r",
      "0it [00:00, ?it/s]"
     ]
    },
    {
     "name": "stdout",
     "output_type": "stream",
     "text": [
      "==================== Обучение 1 фолда! ====================\n",
      "0:\ttest: 0.9243750\ttest1: 0.9440702\tbest: 0.9440702 (0)\ttotal: 1.29ms\tremaining: 646ms\n",
      "100:\ttest: 0.9927423\ttest1: 0.9944887\tbest: 0.9953052 (96)\ttotal: 82.1ms\tremaining: 324ms\n",
      "200:\ttest: 0.9972704\ttest1: 0.9969382\tbest: 0.9969382 (189)\ttotal: 166ms\tremaining: 246ms\n",
      "300:\ttest: 0.9989923\ttest1: 0.9973464\tbest: 0.9973464 (278)\ttotal: 251ms\tremaining: 166ms\n",
      "400:\ttest: 0.9996811\ttest1: 0.9977546\tbest: 0.9977546 (321)\ttotal: 336ms\tremaining: 82.9ms\n"
     ]
    },
    {
     "name": "stderr",
     "output_type": "stream",
     "text": [
      "\r",
      "1it [00:00,  2.31it/s]"
     ]
    },
    {
     "name": "stdout",
     "output_type": "stream",
     "text": [
      "Stopped by overfitting detector  (100 iterations wait)\n",
      "\n",
      "bestTest = 0.9977546438\n",
      "bestIteration = 321\n",
      "\n",
      "Shrink model to first 322 iterations.\n",
      "BEST ITERATION:  321\n",
      "gini на обучающей выборке: 99.842\n",
      "gini на проверочной выборке: 99.551\n",
      "\n",
      "********************** 1 фолд обучен! ******************************\n",
      "\n",
      "\n",
      "==================== Обучение 2 фолда! ====================\n",
      "0:\ttest: 0.9274162\ttest1: 0.8733673\tbest: 0.8733673 (0)\ttotal: 1.54ms\tremaining: 768ms\n",
      "100:\ttest: 0.9957653\ttest1: 0.9728571\tbest: 0.9751020 (82)\ttotal: 113ms\tremaining: 446ms\n"
     ]
    },
    {
     "name": "stderr",
     "output_type": "stream",
     "text": [
      "\r",
      "2it [00:00,  3.12it/s]"
     ]
    },
    {
     "name": "stdout",
     "output_type": "stream",
     "text": [
      "Stopped by overfitting detector  (100 iterations wait)\n",
      "\n",
      "bestTest = 0.9751020408\n",
      "bestIteration = 82\n",
      "\n",
      "Shrink model to first 83 iterations.\n",
      "BEST ITERATION:  82\n",
      "gini на обучающей выборке: 98.952\n",
      "gini на проверочной выборке: 95.020\n",
      "\n",
      "********************** 2 фолд обучен! ******************************\n",
      "\n",
      "\n",
      "==================== Обучение 3 фолда! ====================\n",
      "0:\ttest: 0.9233281\ttest1: 0.9479592\tbest: 0.9479592 (0)\ttotal: 953us\tremaining: 476ms\n",
      "100:\ttest: 0.9943367\ttest1: 0.9797959\tbest: 0.9800000 (93)\ttotal: 90.4ms\tremaining: 357ms\n",
      "200:\ttest: 0.9975255\ttest1: 0.9863265\tbest: 0.9863265 (200)\ttotal: 181ms\tremaining: 270ms\n",
      "300:\ttest: 0.9988648\ttest1: 0.9881633\tbest: 0.9887755 (287)\ttotal: 272ms\tremaining: 180ms\n"
     ]
    },
    {
     "name": "stderr",
     "output_type": "stream",
     "text": [
      "\r",
      "3it [00:01,  2.77it/s]"
     ]
    },
    {
     "name": "stdout",
     "output_type": "stream",
     "text": [
      "Stopped by overfitting detector  (100 iterations wait)\n",
      "\n",
      "bestTest = 0.9887755102\n",
      "bestIteration = 287\n",
      "\n",
      "Shrink model to first 288 iterations.\n",
      "BEST ITERATION:  287\n",
      "gini на обучающей выборке: 99.740\n",
      "gini на проверочной выборке: 97.755\n",
      "\n",
      "********************** 3 фолд обучен! ******************************\n",
      "\n",
      "\n",
      "==================== Обучение 4 фолда! ====================\n",
      "0:\ttest: 0.9355030\ttest1: 0.8562245\tbest: 0.8562245 (0)\ttotal: 1.65ms\tremaining: 825ms\n",
      "100:\ttest: 0.9945663\ttest1: 0.9663265\tbest: 0.9663265 (100)\ttotal: 84ms\tremaining: 332ms\n",
      "200:\ttest: 0.9978826\ttest1: 0.9746939\tbest: 0.9751020 (177)\ttotal: 165ms\tremaining: 246ms\n",
      "300:\ttest: 0.9991837\ttest1: 0.9771429\tbest: 0.9775510 (279)\ttotal: 247ms\tremaining: 164ms\n",
      "400:\ttest: 0.9997066\ttest1: 0.9783673\tbest: 0.9783673 (387)\ttotal: 328ms\tremaining: 80.9ms\n",
      "499:\ttest: 0.9999490\ttest1: 0.9789796\tbest: 0.9789796 (485)\ttotal: 412ms\tremaining: 0us\n",
      "\n",
      "bestTest = 0.9789795918\n",
      "bestIteration = 485\n",
      "\n",
      "Shrink model to first 486 iterations.\n",
      "BEST ITERATION:  485\n"
     ]
    },
    {
     "name": "stderr",
     "output_type": "stream",
     "text": [
      "\r",
      "4it [00:01,  2.43it/s]"
     ]
    },
    {
     "name": "stdout",
     "output_type": "stream",
     "text": [
      "gini на обучающей выборке: 99.990\n",
      "gini на проверочной выборке: 95.796\n",
      "\n",
      "********************** 4 фолд обучен! ******************************\n",
      "\n",
      "\n",
      "==================== Обучение 5 фолда! ====================\n",
      "0:\ttest: 0.9332134\ttest1: 0.8445918\tbest: 0.8445918 (0)\ttotal: 1.15ms\tremaining: 572ms\n",
      "100:\ttest: 0.9946555\ttest1: 0.9581633\tbest: 0.9581633 (100)\ttotal: 84.7ms\tremaining: 335ms\n",
      "200:\ttest: 0.9977678\ttest1: 0.9695918\tbest: 0.9695918 (200)\ttotal: 166ms\tremaining: 248ms\n",
      "300:\ttest: 0.9990434\ttest1: 0.9751020\tbest: 0.9755102 (289)\ttotal: 248ms\tremaining: 164ms\n",
      "400:\ttest: 0.9997576\ttest1: 0.9777551\tbest: 0.9781633 (376)\ttotal: 328ms\tremaining: 81.1ms\n"
     ]
    },
    {
     "name": "stderr",
     "output_type": "stream",
     "text": [
      "5it [00:02,  2.43it/s]"
     ]
    },
    {
     "name": "stdout",
     "output_type": "stream",
     "text": [
      "499:\ttest: 0.9999362\ttest1: 0.9783673\tbest: 0.9787755 (489)\ttotal: 409ms\tremaining: 0us\n",
      "\n",
      "bestTest = 0.9787755102\n",
      "bestIteration = 489\n",
      "\n",
      "Shrink model to first 490 iterations.\n",
      "BEST ITERATION:  489\n",
      "gini на обучающей выборке: 99.987\n",
      "gini на проверочной выборке: 95.755\n",
      "\n",
      "********************** 5 фолд обучен! ******************************\n",
      "\n",
      "\n",
      "Количество признаков: 7 => метрика: 96.77549187464331\n",
      "\n",
      "Количество отобранных признаков: 8\n",
      "Метрика до отбора: 97.1265 => после отбора: 97.0286\n",
      "==========================\n",
      "Конец жадного отбора факторов Backward Selection!\n"
     ]
    },
    {
     "name": "stderr",
     "output_type": "stream",
     "text": [
      "\n"
     ]
    }
   ],
   "source": [
    "bselection_res = selection.backward_selection(strat=strat,first_degradation=True)"
   ]
  },
  {
   "cell_type": "markdown",
   "id": "883e36bd",
   "metadata": {},
   "source": [
    "## 1.3 Описание работы функции `deep_backward_selection`.\n",
    "\n",
    "- **1.** Сначала обучается модель по кросс-валидационной схеме, которая определяется параметрами `strat / groups`;\n",
    "\n",
    "- **2.** Параметр tol:float=0.001 - порог по которому мы сохраняем / удалем признак;\n",
    "\n",
    "- **3.** Расчитывается средняя метрика по всем фолдам на тестовых множествах;\n",
    "\n",
    "- **4.** Из упорядоченного по важности списка факторов из модели удаляется по одному, и снова происходит кросс-валидационное обучение;\n",
    "\n",
    "- **5.** Рассчитываются метрики на фолдах при удаленных признаках и сравниваются со значениями метрик на фолдах при всех фактора;\n",
    "\n",
    "- **6.** Метод работает по всем факторам, после удаления сравнивает с максимальной доступной метрикой:\n",
    "    - Если выше, то удаляет признак и записывает значение как новое для сравнения.\n",
    "\n",
    "**Итог:** остаются только те признаки, исключение которых привело бы к снижению качества модели."
   ]
  },
  {
   "cell_type": "code",
   "execution_count": 14,
   "id": "6d8222cc",
   "metadata": {
    "scrolled": true
   },
   "outputs": [
    {
     "name": "stderr",
     "output_type": "stream",
     "text": [
      "\r",
      "0it [00:00, ?it/s]"
     ]
    },
    {
     "name": "stdout",
     "output_type": "stream",
     "text": [
      "==================== Обучение 1 фолда! ====================\n",
      "0:\ttest: 0.8915944\ttest1: 0.8652786\tbest: 0.8652786 (0)\ttotal: 1.45ms\tremaining: 723ms\n",
      "100:\ttest: 0.9965051\ttest1: 0.9955093\tbest: 0.9955093 (97)\ttotal: 128ms\tremaining: 506ms\n"
     ]
    },
    {
     "name": "stderr",
     "output_type": "stream",
     "text": [
      "\r",
      "1it [00:00,  2.40it/s]"
     ]
    },
    {
     "name": "stdout",
     "output_type": "stream",
     "text": [
      "200:\ttest: 0.9987500\ttest1: 0.9969382\tbest: 0.9971423 (179)\ttotal: 256ms\tremaining: 381ms\n",
      "Stopped by overfitting detector  (100 iterations wait)\n",
      "\n",
      "bestTest = 0.9971422739\n",
      "bestIteration = 179\n",
      "\n",
      "Shrink model to first 180 iterations.\n",
      "BEST ITERATION:  179\n",
      "gini на обучающей выборке: 99.684\n",
      "gini на проверочной выборке: 99.428\n",
      "\n",
      "********************** 1 фолд обучен! ******************************\n",
      "\n",
      "\n",
      "==================== Обучение 2 фолда! ====================\n",
      "0:\ttest: 0.9361663\ttest1: 0.9203061\tbest: 0.9203061 (0)\ttotal: 1.57ms\tremaining: 784ms\n",
      "100:\ttest: 0.9975765\ttest1: 0.9738776\tbest: 0.9748980 (73)\ttotal: 131ms\tremaining: 519ms\n",
      "200:\ttest: 0.9991964\ttest1: 0.9777551\tbest: 0.9777551 (200)\ttotal: 256ms\tremaining: 381ms\n",
      "300:\ttest: 0.9998342\ttest1: 0.9789796\tbest: 0.9795918 (293)\ttotal: 382ms\tremaining: 253ms\n",
      "400:\ttest: 1.0000000\ttest1: 0.9812245\tbest: 0.9814286 (385)\ttotal: 506ms\tremaining: 125ms\n"
     ]
    },
    {
     "name": "stderr",
     "output_type": "stream",
     "text": [
      "\r",
      "2it [00:01,  1.69it/s]"
     ]
    },
    {
     "name": "stdout",
     "output_type": "stream",
     "text": [
      "499:\ttest: 1.0000000\ttest1: 0.9822449\tbest: 0.9824490 (465)\ttotal: 635ms\tremaining: 0us\n",
      "\n",
      "bestTest = 0.9824489796\n",
      "bestIteration = 465\n",
      "\n",
      "Shrink model to first 466 iterations.\n",
      "BEST ITERATION:  465\n",
      "gini на обучающей выборке: 100.000\n",
      "gini на проверочной выборке: 96.490\n",
      "\n",
      "********************** 2 фолд обучен! ******************************\n",
      "\n",
      "\n",
      "==================== Обучение 3 фолда! ====================\n",
      "0:\ttest: 0.9323971\ttest1: 0.9009184\tbest: 0.9009184 (0)\ttotal: 1.57ms\tremaining: 786ms\n",
      "100:\ttest: 0.9969005\ttest1: 0.9804082\tbest: 0.9808163 (90)\ttotal: 127ms\tremaining: 502ms\n"
     ]
    },
    {
     "name": "stderr",
     "output_type": "stream",
     "text": [
      "\r",
      "3it [00:01,  1.86it/s]"
     ]
    },
    {
     "name": "stdout",
     "output_type": "stream",
     "text": [
      "200:\ttest: 0.9990816\ttest1: 0.9855102\tbest: 0.9855102 (199)\ttotal: 253ms\tremaining: 376ms\n",
      "300:\ttest: 0.9997704\ttest1: 0.9859184\tbest: 0.9867347 (226)\ttotal: 379ms\tremaining: 251ms\n",
      "Stopped by overfitting detector  (100 iterations wait)\n",
      "\n",
      "bestTest = 0.9867346939\n",
      "bestIteration = 226\n",
      "\n",
      "Shrink model to first 227 iterations.\n",
      "BEST ITERATION:  226\n",
      "gini на обучающей выборке: 99.867\n",
      "gini на проверочной выборке: 97.347\n",
      "\n",
      "********************** 3 фолд обучен! ******************************\n",
      "\n",
      "\n",
      "==================== Обучение 4 фолда! ====================\n",
      "0:\ttest: 0.9337300\ttest1: 0.8405102\tbest: 0.8405102 (0)\ttotal: 1.45ms\tremaining: 725ms\n",
      "100:\ttest: 0.9966964\ttest1: 0.9708163\tbest: 0.9710204 (99)\ttotal: 128ms\tremaining: 507ms\n",
      "200:\ttest: 0.9992092\ttest1: 0.9800000\tbest: 0.9800000 (199)\ttotal: 254ms\tremaining: 378ms\n",
      "300:\ttest: 0.9997832\ttest1: 0.9810204\tbest: 0.9812245 (294)\ttotal: 378ms\tremaining: 250ms\n"
     ]
    },
    {
     "name": "stderr",
     "output_type": "stream",
     "text": [
      "\r",
      "4it [00:02,  1.65it/s]"
     ]
    },
    {
     "name": "stdout",
     "output_type": "stream",
     "text": [
      "400:\ttest: 0.9999745\ttest1: 0.9824490\tbest: 0.9826531 (376)\ttotal: 504ms\tremaining: 124ms\n",
      "499:\ttest: 1.0000000\ttest1: 0.9830612\tbest: 0.9830612 (489)\ttotal: 626ms\tremaining: 0us\n",
      "\n",
      "bestTest = 0.9830612245\n",
      "bestIteration = 489\n",
      "\n",
      "Shrink model to first 490 iterations.\n",
      "BEST ITERATION:  489\n",
      "gini на обучающей выборке: 100.000\n",
      "gini на проверочной выборке: 96.612\n",
      "\n",
      "********************** 4 фолд обучен! ******************************\n",
      "\n",
      "\n",
      "==================== Обучение 5 фолда! ====================\n",
      "0:\ttest: 0.9490045\ttest1: 0.8640816\tbest: 0.8640816 (0)\ttotal: 1.59ms\tremaining: 792ms\n",
      "100:\ttest: 0.9968239\ttest1: 0.9626531\tbest: 0.9628571 (98)\ttotal: 128ms\tremaining: 506ms\n",
      "200:\ttest: 0.9992474\ttest1: 0.9738776\tbest: 0.9740816 (195)\ttotal: 254ms\tremaining: 378ms\n",
      "300:\ttest: 0.9997321\ttest1: 0.9767347\tbest: 0.9767347 (291)\ttotal: 381ms\tremaining: 252ms\n",
      "400:\ttest: 0.9999490\ttest1: 0.9773469\tbest: 0.9775510 (383)\ttotal: 504ms\tremaining: 124ms\n"
     ]
    },
    {
     "name": "stderr",
     "output_type": "stream",
     "text": [
      "5it [00:03,  1.65it/s]\n"
     ]
    },
    {
     "name": "stdout",
     "output_type": "stream",
     "text": [
      "499:\ttest: 1.0000000\ttest1: 0.9785714\tbest: 0.9787755 (471)\ttotal: 629ms\tremaining: 0us\n",
      "\n",
      "bestTest = 0.9787755102\n",
      "bestIteration = 471\n",
      "\n",
      "Shrink model to first 472 iterations.\n",
      "BEST ITERATION:  471\n",
      "gini на обучающей выборке: 99.997\n",
      "gini на проверочной выборке: 95.755\n",
      "\n",
      "********************** 5 фолд обучен! ******************************\n",
      "\n",
      "\n",
      "Средняя метрика на фолдах со всеми факторами:  97.126507\n",
      "==========================\n",
      "Конец обучения кросс-валидации!\n",
      "\n",
      "Начало глубокого жадного отбора факторов Backward Selection!\n",
      "==========================\n",
      "Проверяемый признак: feature_20\n"
     ]
    },
    {
     "name": "stderr",
     "output_type": "stream",
     "text": [
      "\r",
      "0it [00:00, ?it/s]"
     ]
    },
    {
     "name": "stdout",
     "output_type": "stream",
     "text": [
      "==================== Обучение 1 фолда! ====================\n",
      "0:\ttest: 0.9075064\ttest1: 0.9204940\tbest: 0.9204940 (0)\ttotal: 1.43ms\tremaining: 713ms\n",
      "100:\ttest: 0.9951403\ttest1: 0.9944887\tbest: 0.9946928 (80)\ttotal: 126ms\tremaining: 500ms\n"
     ]
    },
    {
     "name": "stderr",
     "output_type": "stream",
     "text": [
      "\r",
      "1it [00:00,  2.43it/s]"
     ]
    },
    {
     "name": "stdout",
     "output_type": "stream",
     "text": [
      "200:\ttest: 0.9985714\ttest1: 0.9967340\tbest: 0.9971423 (182)\ttotal: 251ms\tremaining: 374ms\n",
      "Stopped by overfitting detector  (100 iterations wait)\n",
      "\n",
      "bestTest = 0.9971422739\n",
      "bestIteration = 182\n",
      "\n",
      "Shrink model to first 183 iterations.\n",
      "BEST ITERATION:  182\n",
      "gini на обучающей выборке: 99.640\n",
      "gini на проверочной выборке: 99.428\n",
      "\n",
      "********************** 1 фолд обучен! ******************************\n",
      "\n",
      "\n",
      "==================== Обучение 2 фолда! ====================\n",
      "0:\ttest: 0.8990166\ttest1: 0.8917347\tbest: 0.8917347 (0)\ttotal: 1.45ms\tremaining: 722ms\n",
      "100:\ttest: 0.9974362\ttest1: 0.9746939\tbest: 0.9757143 (90)\ttotal: 128ms\tremaining: 504ms\n",
      "200:\ttest: 0.9992729\ttest1: 0.9818367\tbest: 0.9820408 (199)\ttotal: 250ms\tremaining: 371ms\n",
      "300:\ttest: 0.9998342\ttest1: 0.9832653\tbest: 0.9836735 (290)\ttotal: 374ms\tremaining: 247ms\n",
      "400:\ttest: 1.0000000\ttest1: 0.9848980\tbest: 0.9848980 (396)\ttotal: 498ms\tremaining: 123ms\n"
     ]
    },
    {
     "name": "stderr",
     "output_type": "stream",
     "text": [
      "\r",
      "2it [00:01,  1.72it/s]"
     ]
    },
    {
     "name": "stdout",
     "output_type": "stream",
     "text": [
      "499:\ttest: 1.0000000\ttest1: 0.9861224\tbest: 0.9861224 (437)\ttotal: 620ms\tremaining: 0us\n",
      "\n",
      "bestTest = 0.986122449\n",
      "bestIteration = 437\n",
      "\n",
      "Shrink model to first 438 iterations.\n",
      "BEST ITERATION:  437\n",
      "gini на обучающей выборке: 100.000\n",
      "gini на проверочной выборке: 97.224\n",
      "\n",
      "********************** 2 фолд обучен! ******************************\n",
      "\n",
      "\n",
      "==================== Обучение 3 фолда! ====================\n",
      "0:\ttest: 0.9064210\ttest1: 0.8862245\tbest: 0.8862245 (0)\ttotal: 1.43ms\tremaining: 715ms\n",
      "100:\ttest: 0.9973341\ttest1: 0.9838776\tbest: 0.9840816 (91)\ttotal: 125ms\tremaining: 494ms\n",
      "200:\ttest: 0.9992347\ttest1: 0.9869388\tbest: 0.9869388 (200)\ttotal: 249ms\tremaining: 371ms\n",
      "300:\ttest: 0.9998724\ttest1: 0.9877551\tbest: 0.9879592 (248)\ttotal: 374ms\tremaining: 247ms\n",
      "Stopped by overfitting detector  (100 iterations wait)\n",
      "\n",
      "bestTest = 0.9879591837\n",
      "bestIteration = 248\n",
      "\n",
      "Shrink model to first 249 iterations.\n"
     ]
    },
    {
     "name": "stderr",
     "output_type": "stream",
     "text": [
      "\r",
      "3it [00:01,  1.84it/s]"
     ]
    },
    {
     "name": "stdout",
     "output_type": "stream",
     "text": [
      "BEST ITERATION:  248\n",
      "gini на обучающей выборке: 99.926\n",
      "gini на проверочной выборке: 97.592\n",
      "\n",
      "********************** 3 фолд обучен! ******************************\n",
      "\n",
      "\n",
      "==================== Обучение 4 фолда! ====================\n",
      "0:\ttest: 0.9145461\ttest1: 0.8870408\tbest: 0.8870408 (0)\ttotal: 1.53ms\tremaining: 765ms\n",
      "100:\ttest: 0.9973214\ttest1: 0.9757143\tbest: 0.9759184 (99)\ttotal: 126ms\tremaining: 498ms\n",
      "200:\ttest: 0.9994260\ttest1: 0.9814286\tbest: 0.9814286 (200)\ttotal: 249ms\tremaining: 371ms\n",
      "300:\ttest: 0.9998597\ttest1: 0.9840816\tbest: 0.9840816 (300)\ttotal: 390ms\tremaining: 258ms\n"
     ]
    },
    {
     "name": "stderr",
     "output_type": "stream",
     "text": [
      "\r",
      "4it [00:02,  1.67it/s]"
     ]
    },
    {
     "name": "stdout",
     "output_type": "stream",
     "text": [
      "400:\ttest: 0.9999745\ttest1: 0.9840816\tbest: 0.9844898 (367)\ttotal: 516ms\tremaining: 127ms\n",
      "Stopped by overfitting detector  (100 iterations wait)\n",
      "\n",
      "bestTest = 0.9844897959\n",
      "bestIteration = 367\n",
      "\n",
      "Shrink model to first 368 iterations.\n",
      "BEST ITERATION:  367\n",
      "gini на обучающей выборке: 99.992\n",
      "gini на проверочной выборке: 96.898\n",
      "\n",
      "********************** 4 фолд обучен! ******************************\n",
      "\n",
      "\n",
      "==================== Обучение 5 фолда! ====================\n",
      "0:\ttest: 0.9194505\ttest1: 0.8059184\tbest: 0.8059184 (0)\ttotal: 1.43ms\tremaining: 714ms\n",
      "100:\ttest: 0.9966581\ttest1: 0.9626531\tbest: 0.9632653 (96)\ttotal: 135ms\tremaining: 531ms\n",
      "200:\ttest: 0.9991964\ttest1: 0.9748980\tbest: 0.9748980 (200)\ttotal: 267ms\tremaining: 397ms\n",
      "300:\ttest: 0.9997704\ttest1: 0.9775510\tbest: 0.9777551 (286)\ttotal: 401ms\tremaining: 265ms\n",
      "400:\ttest: 0.9999490\ttest1: 0.9787755\tbest: 0.9789796 (344)\ttotal: 528ms\tremaining: 130ms\n"
     ]
    },
    {
     "name": "stderr",
     "output_type": "stream",
     "text": [
      "5it [00:03,  1.65it/s]\n"
     ]
    },
    {
     "name": "stdout",
     "output_type": "stream",
     "text": [
      "499:\ttest: 1.0000000\ttest1: 0.9791837\tbest: 0.9797959 (490)\ttotal: 652ms\tremaining: 0us\n",
      "\n",
      "bestTest = 0.9797959184\n",
      "bestIteration = 490\n",
      "\n",
      "Shrink model to first 491 iterations.\n",
      "BEST ITERATION:  490\n",
      "gini на обучающей выборке: 100.000\n",
      "gini на проверочной выборке: 95.959\n",
      "\n",
      "********************** 5 фолд обучен! ******************************\n",
      "\n",
      "\n",
      "Количество признаков: 24 => метрика: 97.42038483488926\n",
      "Метрика модели со всеми признаками=97.12650728386885\n",
      "Разница метрики =-0.29387755102041524\n",
      "Удаляем:  feature_20\n",
      "Проверяемый признак: feature_13\n"
     ]
    },
    {
     "name": "stderr",
     "output_type": "stream",
     "text": [
      "\r",
      "0it [00:00, ?it/s]"
     ]
    },
    {
     "name": "stdout",
     "output_type": "stream",
     "text": [
      "==================== Обучение 1 фолда! ====================\n",
      "0:\ttest: 0.9282398\ttest1: 0.8906920\tbest: 0.8906920 (0)\ttotal: 1.29ms\tremaining: 646ms\n",
      "100:\ttest: 0.9956505\ttest1: 0.9946928\tbest: 0.9948969 (95)\ttotal: 126ms\tremaining: 498ms\n",
      "200:\ttest: 0.9985969\ttest1: 0.9967340\tbest: 0.9967340 (182)\ttotal: 262ms\tremaining: 390ms\n",
      "300:\ttest: 0.9996046\ttest1: 0.9977546\tbest: 0.9977546 (264)\ttotal: 404ms\tremaining: 267ms\n"
     ]
    },
    {
     "name": "stderr",
     "output_type": "stream",
     "text": [
      "\r",
      "1it [00:00,  1.35it/s]"
     ]
    },
    {
     "name": "stdout",
     "output_type": "stream",
     "text": [
      "400:\ttest: 0.9999235\ttest1: 0.9979588\tbest: 0.9979588 (316)\ttotal: 532ms\tremaining: 131ms\n",
      "499:\ttest: 1.0000000\ttest1: 0.9985711\tbest: 0.9985711 (422)\ttotal: 655ms\tremaining: 0us\n",
      "\n",
      "bestTest = 0.998571137\n",
      "bestIteration = 422\n",
      "\n",
      "Shrink model to first 423 iterations.\n",
      "BEST ITERATION:  422\n",
      "gini на обучающей выборке: 99.992\n",
      "gini на проверочной выборке: 99.714\n",
      "\n",
      "********************** 1 фолд обучен! ******************************\n",
      "\n",
      "\n",
      "==================== Обучение 2 фолда! ====================\n",
      "0:\ttest: 0.9378245\ttest1: 0.8919388\tbest: 0.8919388 (0)\ttotal: 1.38ms\tremaining: 687ms\n",
      "100:\ttest: 0.9975637\ttest1: 0.9718367\tbest: 0.9718367 (98)\ttotal: 125ms\tremaining: 495ms\n",
      "200:\ttest: 0.9993367\ttest1: 0.9789796\tbest: 0.9791837 (182)\ttotal: 249ms\tremaining: 371ms\n",
      "300:\ttest: 0.9998214\ttest1: 0.9818367\tbest: 0.9820408 (296)\ttotal: 386ms\tremaining: 255ms\n",
      "400:\ttest: 1.0000000\ttest1: 0.9836735\tbest: 0.9836735 (400)\ttotal: 522ms\tremaining: 129ms\n"
     ]
    },
    {
     "name": "stderr",
     "output_type": "stream",
     "text": [
      "\r",
      "2it [00:01,  1.36it/s]"
     ]
    },
    {
     "name": "stdout",
     "output_type": "stream",
     "text": [
      "499:\ttest: 1.0000000\ttest1: 0.9844898\tbest: 0.9844898 (490)\ttotal: 648ms\tremaining: 0us\n",
      "\n",
      "bestTest = 0.9844897959\n",
      "bestIteration = 490\n",
      "\n",
      "Shrink model to first 491 iterations.\n",
      "BEST ITERATION:  490\n",
      "gini на обучающей выборке: 100.000\n",
      "gini на проверочной выборке: 96.898\n",
      "\n",
      "********************** 2 фолд обучен! ******************************\n",
      "\n",
      "\n",
      "==================== Обучение 3 фолда! ====================\n",
      "0:\ttest: 0.9482965\ttest1: 0.9153061\tbest: 0.9153061 (0)\ttotal: 1.36ms\tremaining: 678ms\n",
      "100:\ttest: 0.9973852\ttest1: 0.9840816\tbest: 0.9853061 (81)\ttotal: 124ms\tremaining: 490ms\n",
      "200:\ttest: 0.9990944\ttest1: 0.9865306\tbest: 0.9869388 (195)\ttotal: 248ms\tremaining: 369ms\n",
      "300:\ttest: 0.9998724\ttest1: 0.9885714\tbest: 0.9887755 (259)\ttotal: 372ms\tremaining: 246ms\n"
     ]
    },
    {
     "name": "stderr",
     "output_type": "stream",
     "text": [
      "\r",
      "3it [00:02,  1.40it/s]"
     ]
    },
    {
     "name": "stdout",
     "output_type": "stream",
     "text": [
      "400:\ttest: 1.0000000\ttest1: 0.9891837\tbest: 0.9893878 (397)\ttotal: 495ms\tremaining: 122ms\n",
      "Stopped by overfitting detector  (100 iterations wait)\n",
      "\n",
      "bestTest = 0.9893877551\n",
      "bestIteration = 397\n",
      "\n",
      "Shrink model to first 398 iterations.\n",
      "BEST ITERATION:  397\n",
      "gini на обучающей выборке: 100.000\n",
      "gini на проверочной выборке: 97.878\n",
      "\n",
      "********************** 3 фолд обучен! ******************************\n",
      "\n",
      "\n",
      "==================== Обучение 4 фолда! ====================\n",
      "0:\ttest: 0.9433092\ttest1: 0.9140816\tbest: 0.9140816 (0)\ttotal: 1.32ms\tremaining: 661ms\n",
      "100:\ttest: 0.9966581\ttest1: 0.9724490\tbest: 0.9724490 (100)\ttotal: 127ms\tremaining: 503ms\n",
      "200:\ttest: 0.9991964\ttest1: 0.9800000\tbest: 0.9800000 (200)\ttotal: 251ms\tremaining: 373ms\n",
      "300:\ttest: 0.9998087\ttest1: 0.9820408\tbest: 0.9826531 (290)\ttotal: 374ms\tremaining: 248ms\n",
      "400:\ttest: 0.9999745\ttest1: 0.9834694\tbest: 0.9836735 (377)\ttotal: 495ms\tremaining: 122ms\n"
     ]
    },
    {
     "name": "stderr",
     "output_type": "stream",
     "text": [
      "\r",
      "4it [00:02,  1.41it/s]"
     ]
    },
    {
     "name": "stdout",
     "output_type": "stream",
     "text": [
      "499:\ttest: 1.0000000\ttest1: 0.9848980\tbest: 0.9851020 (463)\ttotal: 617ms\tremaining: 0us\n",
      "\n",
      "bestTest = 0.9851020408\n",
      "bestIteration = 463\n",
      "\n",
      "Shrink model to first 464 iterations.\n",
      "BEST ITERATION:  463\n",
      "gini на обучающей выборке: 100.000\n",
      "gini на проверочной выборке: 97.020\n",
      "\n",
      "********************** 4 фолд обучен! ******************************\n",
      "\n",
      "\n",
      "==================== Обучение 5 фолда! ====================\n",
      "0:\ttest: 0.9389469\ttest1: 0.8479592\tbest: 0.8479592 (0)\ttotal: 1.37ms\tremaining: 686ms\n",
      "100:\ttest: 0.9965816\ttest1: 0.9630612\tbest: 0.9630612 (98)\ttotal: 126ms\tremaining: 498ms\n",
      "200:\ttest: 0.9991199\ttest1: 0.9726531\tbest: 0.9732653 (180)\ttotal: 251ms\tremaining: 373ms\n",
      "300:\ttest: 0.9996939\ttest1: 0.9769388\tbest: 0.9771429 (275)\ttotal: 380ms\tremaining: 251ms\n"
     ]
    },
    {
     "name": "stderr",
     "output_type": "stream",
     "text": [
      "5it [00:03,  1.41it/s]\n"
     ]
    },
    {
     "name": "stdout",
     "output_type": "stream",
     "text": [
      "400:\ttest: 0.9999235\ttest1: 0.9773469\tbest: 0.9777551 (353)\ttotal: 522ms\tremaining: 129ms\n",
      "Stopped by overfitting detector  (100 iterations wait)\n",
      "\n",
      "bestTest = 0.977755102\n",
      "bestIteration = 353\n",
      "\n",
      "Shrink model to first 354 iterations.\n",
      "BEST ITERATION:  353\n",
      "gini на обучающей выборке: 99.980\n",
      "gini на проверочной выборке: 95.551\n",
      "\n",
      "********************** 5 фолд обучен! ******************************\n",
      "\n",
      "\n",
      "Количество признаков: 23 => метрика: 97.41223323377115\n",
      "Метрика модели со всеми признаками=97.42038483488926\n",
      "Разница метрики =0.008151601118115082\n",
      "Сохраняем:  feature_13\n",
      "Проверяемый признак: feature_0\n"
     ]
    },
    {
     "name": "stderr",
     "output_type": "stream",
     "text": [
      "\r",
      "0it [00:00, ?it/s]"
     ]
    },
    {
     "name": "stdout",
     "output_type": "stream",
     "text": [
      "==================== Обучение 1 фолда! ====================\n",
      "0:\ttest: 0.9282398\ttest1: 0.8906920\tbest: 0.8906920 (0)\ttotal: 1.27ms\tremaining: 636ms\n",
      "100:\ttest: 0.9957143\ttest1: 0.9938763\tbest: 0.9940804 (99)\ttotal: 126ms\tremaining: 497ms\n",
      "200:\ttest: 0.9985969\ttest1: 0.9959175\tbest: 0.9961217 (157)\ttotal: 250ms\tremaining: 372ms\n",
      "300:\ttest: 0.9996301\ttest1: 0.9969382\tbest: 0.9969382 (270)\ttotal: 375ms\tremaining: 248ms\n",
      "400:\ttest: 0.9999490\ttest1: 0.9979588\tbest: 0.9981629 (380)\ttotal: 500ms\tremaining: 124ms\n"
     ]
    },
    {
     "name": "stderr",
     "output_type": "stream",
     "text": [
      "\r",
      "1it [00:00,  1.42it/s]"
     ]
    },
    {
     "name": "stdout",
     "output_type": "stream",
     "text": [
      "499:\ttest: 1.0000000\ttest1: 0.9983670\tbest: 0.9985711 (477)\ttotal: 621ms\tremaining: 0us\n",
      "\n",
      "bestTest = 0.998571137\n",
      "bestIteration = 477\n",
      "\n",
      "Shrink model to first 478 iterations.\n",
      "BEST ITERATION:  477\n",
      "gini на обучающей выборке: 100.000\n",
      "gini на проверочной выборке: 99.714\n",
      "\n",
      "********************** 1 фолд обучен! ******************************\n",
      "\n",
      "\n",
      "==================== Обучение 2 фолда! ====================\n",
      "0:\ttest: 0.9378245\ttest1: 0.8919388\tbest: 0.8919388 (0)\ttotal: 1.36ms\tremaining: 681ms\n",
      "100:\ttest: 0.9975382\ttest1: 0.9734694\tbest: 0.9734694 (98)\ttotal: 126ms\tremaining: 498ms\n",
      "200:\ttest: 0.9993240\ttest1: 0.9787755\tbest: 0.9800000 (180)\ttotal: 250ms\tremaining: 372ms\n",
      "300:\ttest: 0.9998724\ttest1: 0.9810204\tbest: 0.9812245 (285)\ttotal: 373ms\tremaining: 247ms\n",
      "400:\ttest: 1.0000000\ttest1: 0.9820408\tbest: 0.9820408 (394)\ttotal: 497ms\tremaining: 123ms\n"
     ]
    },
    {
     "name": "stderr",
     "output_type": "stream",
     "text": [
      "\r",
      "2it [00:01,  1.42it/s]"
     ]
    },
    {
     "name": "stdout",
     "output_type": "stream",
     "text": [
      "499:\ttest: 1.0000000\ttest1: 0.9830612\tbest: 0.9830612 (476)\ttotal: 620ms\tremaining: 0us\n",
      "\n",
      "bestTest = 0.9830612245\n",
      "bestIteration = 476\n",
      "\n",
      "Shrink model to first 477 iterations.\n",
      "BEST ITERATION:  476\n",
      "gini на обучающей выборке: 100.000\n",
      "gini на проверочной выборке: 96.612\n",
      "\n",
      "********************** 2 фолд обучен! ******************************\n",
      "\n",
      "\n",
      "==================== Обучение 3 фолда! ====================\n",
      "0:\ttest: 0.9482965\ttest1: 0.9153061\tbest: 0.9153061 (0)\ttotal: 1.33ms\tremaining: 666ms\n",
      "100:\ttest: 0.9971938\ttest1: 0.9844898\tbest: 0.9855102 (82)\ttotal: 151ms\tremaining: 597ms\n",
      "200:\ttest: 0.9990051\ttest1: 0.9873469\tbest: 0.9879592 (195)\ttotal: 279ms\tremaining: 415ms\n"
     ]
    },
    {
     "name": "stderr",
     "output_type": "stream",
     "text": [
      "\r",
      "3it [00:02,  1.50it/s]"
     ]
    },
    {
     "name": "stdout",
     "output_type": "stream",
     "text": [
      "300:\ttest: 0.9997959\ttest1: 0.9893878\tbest: 0.9893878 (293)\ttotal: 428ms\tremaining: 283ms\n",
      "Stopped by overfitting detector  (100 iterations wait)\n",
      "\n",
      "bestTest = 0.9893877551\n",
      "bestIteration = 293\n",
      "\n",
      "Shrink model to first 294 iterations.\n",
      "BEST ITERATION:  293\n",
      "gini на обучающей выборке: 99.949\n",
      "gini на проверочной выборке: 97.878\n",
      "\n",
      "********************** 3 фолд обучен! ******************************\n",
      "\n",
      "\n",
      "==================== Обучение 4 фолда! ====================\n",
      "0:\ttest: 0.9433092\ttest1: 0.9140816\tbest: 0.9140816 (0)\ttotal: 1.48ms\tremaining: 741ms\n",
      "100:\ttest: 0.9960076\ttest1: 0.9718367\tbest: 0.9720408 (98)\ttotal: 136ms\tremaining: 539ms\n",
      "200:\ttest: 0.9990306\ttest1: 0.9787755\tbest: 0.9787755 (199)\ttotal: 266ms\tremaining: 396ms\n",
      "300:\ttest: 0.9997704\ttest1: 0.9814286\tbest: 0.9818367 (276)\ttotal: 395ms\tremaining: 261ms\n",
      "400:\ttest: 0.9999745\ttest1: 0.9828571\tbest: 0.9834694 (398)\ttotal: 516ms\tremaining: 128ms\n"
     ]
    },
    {
     "name": "stderr",
     "output_type": "stream",
     "text": [
      "\r",
      "4it [00:02,  1.45it/s]"
     ]
    },
    {
     "name": "stdout",
     "output_type": "stream",
     "text": [
      "499:\ttest: 1.0000000\ttest1: 0.9840816\tbest: 0.9842857 (440)\ttotal: 638ms\tremaining: 0us\n",
      "\n",
      "bestTest = 0.9842857143\n",
      "bestIteration = 440\n",
      "\n",
      "Shrink model to first 441 iterations.\n",
      "BEST ITERATION:  440\n",
      "gini на обучающей выборке: 100.000\n",
      "gini на проверочной выборке: 96.857\n",
      "\n",
      "********************** 4 фолд обучен! ******************************\n",
      "\n",
      "\n",
      "==================== Обучение 5 фолда! ====================\n",
      "0:\ttest: 0.9389469\ttest1: 0.8479592\tbest: 0.8479592 (0)\ttotal: 1.31ms\tremaining: 656ms\n",
      "100:\ttest: 0.9963903\ttest1: 0.9604082\tbest: 0.9616327 (98)\ttotal: 125ms\tremaining: 495ms\n",
      "200:\ttest: 0.9990944\ttest1: 0.9744898\tbest: 0.9744898 (199)\ttotal: 249ms\tremaining: 370ms\n",
      "300:\ttest: 0.9997449\ttest1: 0.9781633\tbest: 0.9781633 (299)\ttotal: 371ms\tremaining: 246ms\n"
     ]
    },
    {
     "name": "stderr",
     "output_type": "stream",
     "text": [
      "5it [00:03,  1.47it/s]\n"
     ]
    },
    {
     "name": "stdout",
     "output_type": "stream",
     "text": [
      "400:\ttest: 0.9999362\ttest1: 0.9793878\tbest: 0.9800000 (366)\ttotal: 495ms\tremaining: 122ms\n",
      "Stopped by overfitting detector  (100 iterations wait)\n",
      "\n",
      "bestTest = 0.98\n",
      "bestIteration = 366\n",
      "\n",
      "Shrink model to first 367 iterations.\n",
      "BEST ITERATION:  366\n",
      "gini на обучающей выборке: 99.982\n",
      "gini на проверочной выборке: 96.000\n",
      "\n",
      "********************** 5 фолд обучен! ******************************\n",
      "\n",
      "\n",
      "Количество признаков: 23 => метрика: 97.41223323377116\n",
      "Метрика модели со всеми признаками=97.42038483488926\n",
      "Разница метрики =0.00815160111810087\n",
      "Сохраняем:  feature_0\n",
      "Проверяемый признак: feature_8\n"
     ]
    },
    {
     "name": "stderr",
     "output_type": "stream",
     "text": [
      "\r",
      "0it [00:00, ?it/s]"
     ]
    },
    {
     "name": "stdout",
     "output_type": "stream",
     "text": [
      "==================== Обучение 1 фолда! ====================\n",
      "0:\ttest: 0.9282398\ttest1: 0.8906920\tbest: 0.8906920 (0)\ttotal: 1.93ms\tremaining: 963ms\n",
      "100:\ttest: 0.9955995\ttest1: 0.9953052\tbest: 0.9953052 (99)\ttotal: 125ms\tremaining: 495ms\n",
      "200:\ttest: 0.9985587\ttest1: 0.9963258\tbest: 0.9965299 (194)\ttotal: 250ms\tremaining: 372ms\n",
      "300:\ttest: 0.9996429\ttest1: 0.9975505\tbest: 0.9975505 (277)\ttotal: 374ms\tremaining: 247ms\n"
     ]
    },
    {
     "name": "stderr",
     "output_type": "stream",
     "text": [
      "\r",
      "1it [00:00,  1.74it/s]"
     ]
    },
    {
     "name": "stdout",
     "output_type": "stream",
     "text": [
      "400:\ttest: 0.9999235\ttest1: 0.9977546\tbest: 0.9977546 (303)\ttotal: 498ms\tremaining: 123ms\n",
      "Stopped by overfitting detector  (100 iterations wait)\n",
      "\n",
      "bestTest = 0.9977546438\n",
      "bestIteration = 303\n",
      "\n",
      "Shrink model to first 304 iterations.\n",
      "BEST ITERATION:  303\n",
      "gini на обучающей выборке: 99.929\n",
      "gini на проверочной выборке: 99.551\n",
      "\n",
      "********************** 1 фолд обучен! ******************************\n",
      "\n",
      "\n",
      "==================== Обучение 2 фолда! ====================\n",
      "0:\ttest: 0.9378245\ttest1: 0.8919388\tbest: 0.8919388 (0)\ttotal: 1.44ms\tremaining: 718ms\n",
      "100:\ttest: 0.9974107\ttest1: 0.9753061\tbest: 0.9753061 (99)\ttotal: 127ms\tremaining: 500ms\n",
      "200:\ttest: 0.9992985\ttest1: 0.9800000\tbest: 0.9806122 (188)\ttotal: 249ms\tremaining: 370ms\n"
     ]
    },
    {
     "name": "stderr",
     "output_type": "stream",
     "text": [
      "\r",
      "2it [00:01,  2.00it/s]"
     ]
    },
    {
     "name": "stdout",
     "output_type": "stream",
     "text": [
      "300:\ttest: 0.9998469\ttest1: 0.9810204\tbest: 0.9814286 (212)\ttotal: 373ms\tremaining: 246ms\n",
      "Stopped by overfitting detector  (100 iterations wait)\n",
      "\n",
      "bestTest = 0.9814285714\n",
      "bestIteration = 212\n",
      "\n",
      "Shrink model to first 213 iterations.\n",
      "BEST ITERATION:  212\n",
      "gini на обучающей выборке: 99.890\n",
      "gini на проверочной выборке: 96.286\n",
      "\n",
      "********************** 2 фолд обучен! ******************************\n",
      "\n",
      "\n",
      "==================== Обучение 3 фолда! ====================\n",
      "0:\ttest: 0.9482965\ttest1: 0.9153061\tbest: 0.9153061 (0)\ttotal: 1.3ms\tremaining: 650ms\n",
      "100:\ttest: 0.9975000\ttest1: 0.9863265\tbest: 0.9867347 (79)\ttotal: 125ms\tremaining: 495ms\n",
      "200:\ttest: 0.9992219\ttest1: 0.9879592\tbest: 0.9881633 (186)\ttotal: 249ms\tremaining: 370ms\n",
      "300:\ttest: 0.9998342\ttest1: 0.9893878\tbest: 0.9893878 (290)\ttotal: 373ms\tremaining: 247ms\n",
      "400:\ttest: 0.9999872\ttest1: 0.9897959\tbest: 0.9902041 (389)\ttotal: 498ms\tremaining: 123ms\n"
     ]
    },
    {
     "name": "stderr",
     "output_type": "stream",
     "text": [
      "\r",
      "3it [00:01,  1.70it/s]"
     ]
    },
    {
     "name": "stdout",
     "output_type": "stream",
     "text": [
      "Stopped by overfitting detector  (100 iterations wait)\n",
      "\n",
      "bestTest = 0.9902040816\n",
      "bestIteration = 389\n",
      "\n",
      "Shrink model to first 390 iterations.\n",
      "BEST ITERATION:  389\n",
      "gini на обучающей выборке: 99.995\n",
      "gini на проверочной выборке: 98.041\n",
      "\n",
      "********************** 3 фолд обучен! ******************************\n",
      "\n",
      "\n",
      "==================== Обучение 4 фолда! ====================\n",
      "0:\ttest: 0.9433092\ttest1: 0.9140816\tbest: 0.9140816 (0)\ttotal: 1.37ms\tremaining: 682ms\n",
      "100:\ttest: 0.9964923\ttest1: 0.9706122\tbest: 0.9712245 (99)\ttotal: 124ms\tremaining: 488ms\n",
      "200:\ttest: 0.9991454\ttest1: 0.9797959\tbest: 0.9802041 (190)\ttotal: 248ms\tremaining: 369ms\n",
      "300:\ttest: 0.9997704\ttest1: 0.9814286\tbest: 0.9818367 (274)\ttotal: 372ms\tremaining: 246ms\n",
      "400:\ttest: 0.9999745\ttest1: 0.9842857\tbest: 0.9844898 (391)\ttotal: 495ms\tremaining: 122ms\n"
     ]
    },
    {
     "name": "stderr",
     "output_type": "stream",
     "text": [
      "\r",
      "4it [00:02,  1.59it/s]"
     ]
    },
    {
     "name": "stdout",
     "output_type": "stream",
     "text": [
      "499:\ttest: 1.0000000\ttest1: 0.9842857\tbest: 0.9846939 (422)\ttotal: 617ms\tremaining: 0us\n",
      "\n",
      "bestTest = 0.9846938776\n",
      "bestIteration = 422\n",
      "\n",
      "Shrink model to first 423 iterations.\n",
      "BEST ITERATION:  422\n",
      "gini на обучающей выборке: 100.000\n",
      "gini на проверочной выборке: 96.939\n",
      "\n",
      "********************** 4 фолд обучен! ******************************\n",
      "\n",
      "\n",
      "==================== Обучение 5 фолда! ====================\n",
      "0:\ttest: 0.9389469\ttest1: 0.8479592\tbest: 0.8479592 (0)\ttotal: 1.38ms\tremaining: 690ms\n",
      "100:\ttest: 0.9960586\ttest1: 0.9610204\tbest: 0.9622449 (89)\ttotal: 147ms\tremaining: 580ms\n",
      "200:\ttest: 0.9989030\ttest1: 0.9720408\tbest: 0.9724490 (180)\ttotal: 271ms\tremaining: 403ms\n",
      "300:\ttest: 0.9996811\ttest1: 0.9773469\tbest: 0.9775510 (293)\ttotal: 395ms\tremaining: 261ms\n",
      "400:\ttest: 0.9999235\ttest1: 0.9781633\tbest: 0.9789796 (353)\ttotal: 518ms\tremaining: 128ms\n",
      "Stopped by overfitting detector  (100 iterations wait)\n",
      "\n",
      "bestTest = 0.9789795918\n",
      "bestIteration = 353\n",
      "\n",
      "Shrink model to first 354 iterations.\n"
     ]
    },
    {
     "name": "stderr",
     "output_type": "stream",
     "text": [
      "5it [00:03,  1.63it/s]\n"
     ]
    },
    {
     "name": "stdout",
     "output_type": "stream",
     "text": [
      "BEST ITERATION:  353\n",
      "gini на обучающей выборке: 99.967\n",
      "gini на проверочной выборке: 95.796\n",
      "\n",
      "********************** 5 фолд обучен! ******************************\n",
      "\n",
      "\n",
      "Количество признаков: 23 => метрика: 97.32243065015352\n",
      "Метрика модели со всеми признаками=97.42038483488926\n",
      "Разница метрики =0.09795418473574102\n",
      "Сохраняем:  feature_8\n",
      "Проверяемый признак: feature_3\n"
     ]
    },
    {
     "name": "stderr",
     "output_type": "stream",
     "text": [
      "\r",
      "0it [00:00, ?it/s]"
     ]
    },
    {
     "name": "stdout",
     "output_type": "stream",
     "text": [
      "==================== Обучение 1 фолда! ====================\n",
      "0:\ttest: 0.9282398\ttest1: 0.8906920\tbest: 0.8906920 (0)\ttotal: 1.48ms\tremaining: 738ms\n",
      "100:\ttest: 0.9954209\ttest1: 0.9944887\tbest: 0.9944887 (100)\ttotal: 125ms\tremaining: 494ms\n",
      "200:\ttest: 0.9986607\ttest1: 0.9965299\tbest: 0.9967340 (193)\ttotal: 248ms\tremaining: 369ms\n",
      "300:\ttest: 0.9995663\ttest1: 0.9977546\tbest: 0.9977546 (283)\ttotal: 381ms\tremaining: 252ms\n",
      "400:\ttest: 0.9999107\ttest1: 0.9979588\tbest: 0.9981629 (383)\ttotal: 515ms\tremaining: 127ms\n"
     ]
    },
    {
     "name": "stderr",
     "output_type": "stream",
     "text": [
      "\r",
      "1it [00:00,  1.39it/s]"
     ]
    },
    {
     "name": "stdout",
     "output_type": "stream",
     "text": [
      "499:\ttest: 1.0000000\ttest1: 0.9985711\tbest: 0.9985711 (480)\ttotal: 635ms\tremaining: 0us\n",
      "\n",
      "bestTest = 0.998571137\n",
      "bestIteration = 480\n",
      "\n",
      "Shrink model to first 481 iterations.\n",
      "BEST ITERATION:  480\n",
      "gini на обучающей выборке: 100.000\n",
      "gini на проверочной выборке: 99.714\n",
      "\n",
      "********************** 1 фолд обучен! ******************************\n",
      "\n",
      "\n",
      "==================== Обучение 2 фолда! ====================\n",
      "0:\ttest: 0.9378245\ttest1: 0.8919388\tbest: 0.8919388 (0)\ttotal: 1.43ms\tremaining: 711ms\n",
      "100:\ttest: 0.9973469\ttest1: 0.9755102\tbest: 0.9759184 (83)\ttotal: 125ms\tremaining: 493ms\n",
      "200:\ttest: 0.9993750\ttest1: 0.9804082\tbest: 0.9808163 (187)\ttotal: 249ms\tremaining: 370ms\n",
      "300:\ttest: 0.9998469\ttest1: 0.9826531\tbest: 0.9828571 (281)\ttotal: 372ms\tremaining: 246ms\n",
      "400:\ttest: 1.0000000\ttest1: 0.9834694\tbest: 0.9836735 (343)\ttotal: 501ms\tremaining: 124ms\n"
     ]
    },
    {
     "name": "stderr",
     "output_type": "stream",
     "text": [
      "\r",
      "2it [00:01,  1.48it/s]"
     ]
    },
    {
     "name": "stdout",
     "output_type": "stream",
     "text": [
      "Stopped by overfitting detector  (100 iterations wait)\n",
      "\n",
      "bestTest = 0.9836734694\n",
      "bestIteration = 343\n",
      "\n",
      "Shrink model to first 344 iterations.\n",
      "BEST ITERATION:  343\n",
      "gini на обучающей выборке: 99.992\n",
      "gini на проверочной выборке: 96.735\n",
      "\n",
      "********************** 2 фолд обучен! ******************************\n",
      "\n",
      "\n",
      "==================== Обучение 3 фолда! ====================\n",
      "0:\ttest: 0.9482965\ttest1: 0.9153061\tbest: 0.9153061 (0)\ttotal: 1.31ms\tremaining: 656ms\n",
      "100:\ttest: 0.9972449\ttest1: 0.9865306\tbest: 0.9869388 (84)\ttotal: 129ms\tremaining: 509ms\n",
      "200:\ttest: 0.9990306\ttest1: 0.9879592\tbest: 0.9879592 (192)\ttotal: 263ms\tremaining: 391ms\n",
      "300:\ttest: 0.9998724\ttest1: 0.9885714\tbest: 0.9889796 (260)\ttotal: 386ms\tremaining: 255ms\n",
      "400:\ttest: 1.0000000\ttest1: 0.9895918\tbest: 0.9897959 (383)\ttotal: 508ms\tremaining: 125ms\n"
     ]
    },
    {
     "name": "stderr",
     "output_type": "stream",
     "text": [
      "\r",
      "3it [00:02,  1.45it/s]"
     ]
    },
    {
     "name": "stdout",
     "output_type": "stream",
     "text": [
      "499:\ttest: 1.0000000\ttest1: 0.9906122\tbest: 0.9908163 (489)\ttotal: 630ms\tremaining: 0us\n",
      "\n",
      "bestTest = 0.9908163265\n",
      "bestIteration = 489\n",
      "\n",
      "Shrink model to first 490 iterations.\n",
      "BEST ITERATION:  489\n",
      "gini на обучающей выборке: 100.000\n",
      "gini на проверочной выборке: 98.163\n",
      "\n",
      "********************** 3 фолд обучен! ******************************\n",
      "\n",
      "\n",
      "==================== Обучение 4 фолда! ====================\n",
      "0:\ttest: 0.9433092\ttest1: 0.9140816\tbest: 0.9140816 (0)\ttotal: 1.36ms\tremaining: 679ms\n",
      "100:\ttest: 0.9963520\ttest1: 0.9708163\tbest: 0.9714286 (98)\ttotal: 125ms\tremaining: 494ms\n",
      "200:\ttest: 0.9991582\ttest1: 0.9791837\tbest: 0.9793878 (190)\ttotal: 248ms\tremaining: 369ms\n",
      "300:\ttest: 0.9997832\ttest1: 0.9824490\tbest: 0.9830612 (290)\ttotal: 372ms\tremaining: 246ms\n",
      "400:\ttest: 0.9999872\ttest1: 0.9842857\tbest: 0.9848980 (390)\ttotal: 496ms\tremaining: 122ms\n"
     ]
    },
    {
     "name": "stderr",
     "output_type": "stream",
     "text": [
      "\r",
      "4it [00:02,  1.45it/s]"
     ]
    },
    {
     "name": "stdout",
     "output_type": "stream",
     "text": [
      "Stopped by overfitting detector  (100 iterations wait)\n",
      "\n",
      "bestTest = 0.9848979592\n",
      "bestIteration = 390\n",
      "\n",
      "Shrink model to first 391 iterations.\n",
      "BEST ITERATION:  390\n",
      "gini на обучающей выборке: 99.995\n",
      "gini на проверочной выборке: 96.980\n",
      "\n",
      "********************** 4 фолд обучен! ******************************\n",
      "\n",
      "\n",
      "==================== Обучение 5 фолда! ====================\n",
      "0:\ttest: 0.9389469\ttest1: 0.8479592\tbest: 0.8479592 (0)\ttotal: 1.28ms\tremaining: 640ms\n",
      "100:\ttest: 0.9965051\ttest1: 0.9620408\tbest: 0.9628571 (90)\ttotal: 126ms\tremaining: 496ms\n",
      "200:\ttest: 0.9990306\ttest1: 0.9734694\tbest: 0.9736735 (193)\ttotal: 250ms\tremaining: 371ms\n",
      "300:\ttest: 0.9997194\ttest1: 0.9767347\tbest: 0.9773469 (295)\ttotal: 373ms\tremaining: 247ms\n",
      "400:\ttest: 0.9999490\ttest1: 0.9775510\tbest: 0.9775510 (375)\ttotal: 499ms\tremaining: 123ms\n"
     ]
    },
    {
     "name": "stderr",
     "output_type": "stream",
     "text": [
      "5it [00:03,  1.44it/s]\n"
     ]
    },
    {
     "name": "stdout",
     "output_type": "stream",
     "text": [
      "499:\ttest: 0.9999872\ttest1: 0.9785714\tbest: 0.9785714 (485)\ttotal: 622ms\tremaining: 0us\n",
      "\n",
      "bestTest = 0.9785714286\n",
      "bestIteration = 485\n",
      "\n",
      "Shrink model to first 486 iterations.\n",
      "BEST ITERATION:  485\n",
      "gini на обучающей выборке: 99.997\n",
      "gini на проверочной выборке: 95.714\n",
      "\n",
      "********************** 5 фолд обучен! ******************************\n",
      "\n",
      "\n",
      "Количество признаков: 23 => метрика: 97.4612128256079\n",
      "Метрика модели со всеми признаками=97.42038483488926\n",
      "Разница метрики =-0.04082799071863974\n",
      "Удаляем:  feature_3\n",
      "Проверяемый признак: feature_10\n"
     ]
    },
    {
     "name": "stderr",
     "output_type": "stream",
     "text": [
      "\r",
      "0it [00:00, ?it/s]"
     ]
    },
    {
     "name": "stdout",
     "output_type": "stream",
     "text": [
      "==================== Обучение 1 фолда! ====================\n",
      "0:\ttest: 0.9142283\ttest1: 0.8875281\tbest: 0.8875281 (0)\ttotal: 1.34ms\tremaining: 671ms\n",
      "100:\ttest: 0.9966199\ttest1: 0.9944887\tbest: 0.9944887 (99)\ttotal: 124ms\tremaining: 491ms\n",
      "200:\ttest: 0.9988648\ttest1: 0.9969382\tbest: 0.9969382 (146)\ttotal: 247ms\tremaining: 368ms\n",
      "300:\ttest: 0.9996556\ttest1: 0.9975505\tbest: 0.9975505 (262)\ttotal: 369ms\tremaining: 244ms\n",
      "400:\ttest: 0.9999490\ttest1: 0.9983670\tbest: 0.9983670 (400)\ttotal: 493ms\tremaining: 122ms\n"
     ]
    },
    {
     "name": "stderr",
     "output_type": "stream",
     "text": [
      "\r",
      "1it [00:00,  1.42it/s]"
     ]
    },
    {
     "name": "stdout",
     "output_type": "stream",
     "text": [
      "499:\ttest: 1.0000000\ttest1: 0.9981629\tbest: 0.9983670 (400)\ttotal: 620ms\tremaining: 0us\n",
      "\n",
      "bestTest = 0.9983670137\n",
      "bestIteration = 400\n",
      "\n",
      "Shrink model to first 401 iterations.\n",
      "BEST ITERATION:  400\n",
      "gini на обучающей выборке: 99.990\n",
      "gini на проверочной выборке: 99.673\n",
      "\n",
      "********************** 1 фолд обучен! ******************************\n",
      "\n",
      "\n",
      "==================== Обучение 2 фолда! ====================\n",
      "0:\ttest: 0.9222056\ttest1: 0.8214286\tbest: 0.8214286 (0)\ttotal: 1.37ms\tremaining: 686ms\n",
      "100:\ttest: 0.9975510\ttest1: 0.9767347\tbest: 0.9777551 (88)\ttotal: 130ms\tremaining: 512ms\n",
      "200:\ttest: 0.9992729\ttest1: 0.9818367\tbest: 0.9824490 (170)\ttotal: 279ms\tremaining: 415ms\n",
      "300:\ttest: 0.9998469\ttest1: 0.9838776\tbest: 0.9842857 (273)\ttotal: 407ms\tremaining: 269ms\n",
      "400:\ttest: 1.0000000\ttest1: 0.9842857\tbest: 0.9844898 (337)\ttotal: 557ms\tremaining: 137ms\n"
     ]
    },
    {
     "name": "stderr",
     "output_type": "stream",
     "text": [
      "\r",
      "2it [00:01,  1.33it/s]"
     ]
    },
    {
     "name": "stdout",
     "output_type": "stream",
     "text": [
      "499:\ttest: 1.0000000\ttest1: 0.9855102\tbest: 0.9859184 (483)\ttotal: 694ms\tremaining: 0us\n",
      "\n",
      "bestTest = 0.9859183673\n",
      "bestIteration = 483\n",
      "\n",
      "Shrink model to first 484 iterations.\n",
      "BEST ITERATION:  483\n",
      "gini на обучающей выборке: 100.000\n",
      "gini на проверочной выборке: 97.184\n",
      "\n",
      "********************** 2 фолд обучен! ******************************\n",
      "\n",
      "\n",
      "==================== Обучение 3 фолда! ====================\n",
      "0:\ttest: 0.8896414\ttest1: 0.9064286\tbest: 0.9064286 (0)\ttotal: 1.34ms\tremaining: 669ms\n",
      "100:\ttest: 0.9977806\ttest1: 0.9851020\tbest: 0.9853061 (79)\ttotal: 128ms\tremaining: 504ms\n",
      "200:\ttest: 0.9992729\ttest1: 0.9885714\tbest: 0.9891837 (195)\ttotal: 268ms\tremaining: 398ms\n",
      "300:\ttest: 0.9998469\ttest1: 0.9900000\tbest: 0.9902041 (271)\ttotal: 393ms\tremaining: 260ms\n",
      "400:\ttest: 1.0000000\ttest1: 0.9910204\tbest: 0.9910204 (398)\ttotal: 516ms\tremaining: 127ms\n"
     ]
    },
    {
     "name": "stderr",
     "output_type": "stream",
     "text": [
      "\r",
      "3it [00:02,  1.32it/s]"
     ]
    },
    {
     "name": "stdout",
     "output_type": "stream",
     "text": [
      "499:\ttest: 1.0000000\ttest1: 0.9910204\tbest: 0.9914286 (453)\ttotal: 639ms\tremaining: 0us\n",
      "\n",
      "bestTest = 0.9914285714\n",
      "bestIteration = 453\n",
      "\n",
      "Shrink model to first 454 iterations.\n",
      "BEST ITERATION:  453\n",
      "gini на обучающей выборке: 100.000\n",
      "gini на проверочной выборке: 98.286\n",
      "\n",
      "********************** 3 фолд обучен! ******************************\n",
      "\n",
      "\n",
      "==================== Обучение 4 фолда! ====================\n",
      "0:\ttest: 0.8886274\ttest1: 0.8343878\tbest: 0.8343878 (0)\ttotal: 1.35ms\tremaining: 672ms\n",
      "100:\ttest: 0.9962627\ttest1: 0.9755102\tbest: 0.9761224 (92)\ttotal: 124ms\tremaining: 491ms\n",
      "200:\ttest: 0.9989923\ttest1: 0.9810204\tbest: 0.9810204 (198)\ttotal: 248ms\tremaining: 368ms\n",
      "300:\ttest: 0.9997066\ttest1: 0.9840816\tbest: 0.9840816 (297)\ttotal: 369ms\tremaining: 244ms\n",
      "400:\ttest: 0.9999745\ttest1: 0.9840816\tbest: 0.9842857 (347)\ttotal: 492ms\tremaining: 122ms\n"
     ]
    },
    {
     "name": "stderr",
     "output_type": "stream",
     "text": [
      "\r",
      "4it [00:02,  1.36it/s]"
     ]
    },
    {
     "name": "stdout",
     "output_type": "stream",
     "text": [
      "499:\ttest: 1.0000000\ttest1: 0.9851020\tbest: 0.9853061 (481)\ttotal: 615ms\tremaining: 0us\n",
      "\n",
      "bestTest = 0.9853061224\n",
      "bestIteration = 481\n",
      "\n",
      "Shrink model to first 482 iterations.\n",
      "BEST ITERATION:  481\n",
      "gini на обучающей выборке: 100.000\n",
      "gini на проверочной выборке: 97.061\n",
      "\n",
      "********************** 4 фолд обучен! ******************************\n",
      "\n",
      "\n",
      "==================== Обучение 5 фолда! ====================\n",
      "0:\ttest: 0.9257516\ttest1: 0.8584694\tbest: 0.8584694 (0)\ttotal: 1.32ms\tremaining: 657ms\n",
      "100:\ttest: 0.9970790\ttest1: 0.9536735\tbest: 0.9536735 (100)\ttotal: 123ms\tremaining: 487ms\n",
      "200:\ttest: 0.9991582\ttest1: 0.9706122\tbest: 0.9706122 (200)\ttotal: 249ms\tremaining: 370ms\n",
      "300:\ttest: 0.9997576\ttest1: 0.9734694\tbest: 0.9742857 (294)\ttotal: 379ms\tremaining: 250ms\n",
      "400:\ttest: 0.9999617\ttest1: 0.9787755\tbest: 0.9787755 (396)\ttotal: 508ms\tremaining: 125ms\n"
     ]
    },
    {
     "name": "stderr",
     "output_type": "stream",
     "text": [
      "5it [00:03,  1.37it/s]\n"
     ]
    },
    {
     "name": "stdout",
     "output_type": "stream",
     "text": [
      "499:\ttest: 1.0000000\ttest1: 0.9795918\tbest: 0.9800000 (432)\ttotal: 633ms\tremaining: 0us\n",
      "\n",
      "bestTest = 0.98\n",
      "bestIteration = 432\n",
      "\n",
      "Shrink model to first 433 iterations.\n",
      "BEST ITERATION:  432\n",
      "gini на обучающей выборке: 99.997\n",
      "gini на проверочной выборке: 96.000\n",
      "\n",
      "********************** 5 фолд обучен! ******************************\n",
      "\n",
      "\n",
      "Количество признаков: 22 => метрика: 97.64080299603002\n",
      "Метрика модели со всеми признаками=97.4612128256079\n",
      "Разница метрики =-0.17959017042211656\n",
      "Удаляем:  feature_10\n",
      "Проверяемый признак: feature_9\n"
     ]
    },
    {
     "name": "stderr",
     "output_type": "stream",
     "text": [
      "\r",
      "0it [00:00, ?it/s]"
     ]
    },
    {
     "name": "stdout",
     "output_type": "stream",
     "text": [
      "==================== Обучение 1 фолда! ====================\n",
      "0:\ttest: 0.9400446\ttest1: 0.9160033\tbest: 0.9160033 (0)\ttotal: 1.39ms\tremaining: 693ms\n",
      "100:\ttest: 0.9960842\ttest1: 0.9961217\tbest: 0.9961217 (84)\ttotal: 147ms\tremaining: 582ms\n",
      "200:\ttest: 0.9986224\ttest1: 0.9973464\tbest: 0.9979588 (181)\ttotal: 288ms\tremaining: 428ms\n"
     ]
    },
    {
     "name": "stderr",
     "output_type": "stream",
     "text": [
      "\r",
      "1it [00:00,  2.22it/s]"
     ]
    },
    {
     "name": "stdout",
     "output_type": "stream",
     "text": [
      "Stopped by overfitting detector  (100 iterations wait)\n",
      "\n",
      "bestTest = 0.9979587671\n",
      "bestIteration = 181\n",
      "\n",
      "Shrink model to first 182 iterations.\n",
      "BEST ITERATION:  181\n",
      "gini на обучающей выборке: 99.666\n",
      "gini на проверочной выборке: 99.592\n",
      "\n",
      "********************** 1 фолд обучен! ******************************\n",
      "\n",
      "\n",
      "==================== Обучение 2 фолда! ====================\n",
      "0:\ttest: 0.9387875\ttest1: 0.9190816\tbest: 0.9190816 (0)\ttotal: 1.44ms\tremaining: 717ms\n",
      "100:\ttest: 0.9979719\ttest1: 0.9763265\tbest: 0.9765306 (94)\ttotal: 125ms\tremaining: 494ms\n",
      "200:\ttest: 0.9991709\ttest1: 0.9802041\tbest: 0.9802041 (200)\ttotal: 247ms\tremaining: 367ms\n",
      "300:\ttest: 0.9998087\ttest1: 0.9824490\tbest: 0.9830612 (288)\ttotal: 369ms\tremaining: 244ms\n",
      "400:\ttest: 1.0000000\ttest1: 0.9848980\tbest: 0.9848980 (389)\ttotal: 496ms\tremaining: 122ms\n"
     ]
    },
    {
     "name": "stderr",
     "output_type": "stream",
     "text": [
      "\r",
      "2it [00:01,  1.64it/s]"
     ]
    },
    {
     "name": "stdout",
     "output_type": "stream",
     "text": [
      "499:\ttest: 1.0000000\ttest1: 0.9851020\tbest: 0.9857143 (433)\ttotal: 640ms\tremaining: 0us\n",
      "\n",
      "bestTest = 0.9857142857\n",
      "bestIteration = 433\n",
      "\n",
      "Shrink model to first 434 iterations.\n",
      "BEST ITERATION:  433\n",
      "gini на обучающей выборке: 100.000\n",
      "gini на проверочной выборке: 97.143\n",
      "\n",
      "********************** 2 фолд обучен! ******************************\n",
      "\n",
      "\n",
      "==================== Обучение 3 фолда! ====================\n",
      "0:\ttest: 0.9551461\ttest1: 0.9234694\tbest: 0.9234694 (0)\ttotal: 1.33ms\tremaining: 662ms\n",
      "100:\ttest: 0.9972449\ttest1: 0.9842857\tbest: 0.9844898 (91)\ttotal: 137ms\tremaining: 540ms\n",
      "200:\ttest: 0.9990306\ttest1: 0.9885714\tbest: 0.9891837 (176)\ttotal: 269ms\tremaining: 400ms\n"
     ]
    },
    {
     "name": "stderr",
     "output_type": "stream",
     "text": [
      "\r",
      "3it [00:01,  1.89it/s]"
     ]
    },
    {
     "name": "stdout",
     "output_type": "stream",
     "text": [
      "Stopped by overfitting detector  (100 iterations wait)\n",
      "\n",
      "bestTest = 0.9891836735\n",
      "bestIteration = 176\n",
      "\n",
      "Shrink model to first 177 iterations.\n",
      "BEST ITERATION:  176\n",
      "gini на обучающей выборке: 99.758\n",
      "gini на проверочной выборке: 97.837\n",
      "\n",
      "********************** 3 фолд обучен! ******************************\n",
      "\n",
      "\n",
      "==================== Обучение 4 фолда! ====================\n",
      "0:\ttest: 0.9481626\ttest1: 0.8954082\tbest: 0.8954082 (0)\ttotal: 1.34ms\tremaining: 671ms\n",
      "100:\ttest: 0.9969642\ttest1: 0.9740816\tbest: 0.9742857 (99)\ttotal: 131ms\tremaining: 519ms\n",
      "200:\ttest: 0.9990816\ttest1: 0.9797959\tbest: 0.9797959 (199)\ttotal: 258ms\tremaining: 384ms\n",
      "300:\ttest: 0.9997959\ttest1: 0.9818367\tbest: 0.9824490 (256)\ttotal: 380ms\tremaining: 251ms\n",
      "400:\ttest: 0.9999745\ttest1: 0.9840816\tbest: 0.9840816 (391)\ttotal: 511ms\tremaining: 126ms\n"
     ]
    },
    {
     "name": "stderr",
     "output_type": "stream",
     "text": [
      "\r",
      "4it [00:02,  1.65it/s]"
     ]
    },
    {
     "name": "stdout",
     "output_type": "stream",
     "text": [
      "499:\ttest: 1.0000000\ttest1: 0.9846939\tbest: 0.9846939 (468)\ttotal: 642ms\tremaining: 0us\n",
      "\n",
      "bestTest = 0.9846938776\n",
      "bestIteration = 468\n",
      "\n",
      "Shrink model to first 469 iterations.\n",
      "BEST ITERATION:  468\n",
      "gini на обучающей выборке: 100.000\n",
      "gini на проверочной выборке: 96.939\n",
      "\n",
      "********************** 4 фолд обучен! ******************************\n",
      "\n",
      "\n",
      "==================== Обучение 5 фолда! ====================\n",
      "0:\ttest: 0.9550249\ttest1: 0.8733673\tbest: 0.8733673 (0)\ttotal: 1.42ms\tremaining: 711ms\n",
      "100:\ttest: 0.9964923\ttest1: 0.9608163\tbest: 0.9608163 (81)\ttotal: 125ms\tremaining: 495ms\n",
      "200:\ttest: 0.9990689\ttest1: 0.9714286\tbest: 0.9716327 (199)\ttotal: 252ms\tremaining: 375ms\n",
      "300:\ttest: 0.9996556\ttest1: 0.9759184\tbest: 0.9765306 (289)\ttotal: 375ms\tremaining: 248ms\n",
      "400:\ttest: 0.9999235\ttest1: 0.9793878\tbest: 0.9793878 (394)\ttotal: 497ms\tremaining: 123ms\n"
     ]
    },
    {
     "name": "stderr",
     "output_type": "stream",
     "text": [
      "5it [00:03,  1.64it/s]\n"
     ]
    },
    {
     "name": "stdout",
     "output_type": "stream",
     "text": [
      "499:\ttest: 0.9999872\ttest1: 0.9793878\tbest: 0.9795918 (405)\ttotal: 622ms\tremaining: 0us\n",
      "\n",
      "bestTest = 0.9795918367\n",
      "bestIteration = 405\n",
      "\n",
      "Shrink model to first 406 iterations.\n",
      "BEST ITERATION:  405\n",
      "gini на обучающей выборке: 99.985\n",
      "gini на проверочной выборке: 95.918\n",
      "\n",
      "********************** 5 фолд обучен! ******************************\n",
      "\n",
      "\n",
      "Количество признаков: 21 => метрика: 97.48569762258853\n",
      "Метрика модели со всеми признаками=97.64080299603002\n",
      "Разница метрики =0.15510537344148645\n",
      "Сохраняем:  feature_9\n",
      "Проверяемый признак: feature_16\n"
     ]
    },
    {
     "name": "stderr",
     "output_type": "stream",
     "text": [
      "\r",
      "0it [00:00, ?it/s]"
     ]
    },
    {
     "name": "stdout",
     "output_type": "stream",
     "text": [
      "==================== Обучение 1 фолда! ====================\n",
      "0:\ttest: 0.9400446\ttest1: 0.9160033\tbest: 0.9160033 (0)\ttotal: 1.24ms\tremaining: 620ms\n",
      "100:\ttest: 0.9960204\ttest1: 0.9953052\tbest: 0.9953052 (98)\ttotal: 129ms\tremaining: 512ms\n",
      "200:\ttest: 0.9985714\ttest1: 0.9971423\tbest: 0.9971423 (145)\ttotal: 257ms\tremaining: 382ms\n",
      "300:\ttest: 0.9995026\ttest1: 0.9977546\tbest: 0.9977546 (269)\ttotal: 380ms\tremaining: 251ms\n",
      "400:\ttest: 0.9998980\ttest1: 0.9979588\tbest: 0.9979588 (352)\ttotal: 506ms\tremaining: 125ms\n"
     ]
    },
    {
     "name": "stderr",
     "output_type": "stream",
     "text": [
      "\r",
      "1it [00:00,  1.51it/s]"
     ]
    },
    {
     "name": "stdout",
     "output_type": "stream",
     "text": [
      "Stopped by overfitting detector  (100 iterations wait)\n",
      "\n",
      "bestTest = 0.9979587671\n",
      "bestIteration = 352\n",
      "\n",
      "Shrink model to first 353 iterations.\n",
      "BEST ITERATION:  352\n",
      "gini на обучающей выборке: 99.959\n",
      "gini на проверочной выборке: 99.592\n",
      "\n",
      "********************** 1 фолд обучен! ******************************\n",
      "\n",
      "\n",
      "==================== Обучение 2 фолда! ====================\n",
      "0:\ttest: 0.9387875\ttest1: 0.9190816\tbest: 0.9190816 (0)\ttotal: 1.37ms\tremaining: 683ms\n",
      "100:\ttest: 0.9978316\ttest1: 0.9767347\tbest: 0.9769388 (99)\ttotal: 128ms\tremaining: 507ms\n",
      "200:\ttest: 0.9991709\ttest1: 0.9804082\tbest: 0.9806122 (196)\ttotal: 254ms\tremaining: 377ms\n",
      "300:\ttest: 0.9997704\ttest1: 0.9834694\tbest: 0.9834694 (298)\ttotal: 379ms\tremaining: 251ms\n",
      "400:\ttest: 1.0000000\ttest1: 0.9855102\tbest: 0.9855102 (400)\ttotal: 511ms\tremaining: 126ms\n"
     ]
    },
    {
     "name": "stderr",
     "output_type": "stream",
     "text": [
      "\r",
      "2it [00:01,  1.43it/s]"
     ]
    },
    {
     "name": "stdout",
     "output_type": "stream",
     "text": [
      "499:\ttest: 1.0000000\ttest1: 0.9865306\tbest: 0.9865306 (488)\ttotal: 637ms\tremaining: 0us\n",
      "\n",
      "bestTest = 0.9865306122\n",
      "bestIteration = 488\n",
      "\n",
      "Shrink model to first 489 iterations.\n",
      "BEST ITERATION:  488\n",
      "gini на обучающей выборке: 100.000\n",
      "gini на проверочной выборке: 97.306\n",
      "\n",
      "********************** 2 фолд обучен! ******************************\n",
      "\n",
      "\n",
      "==================== Обучение 3 фолда! ====================\n",
      "0:\ttest: 0.9551461\ttest1: 0.9234694\tbest: 0.9234694 (0)\ttotal: 1.33ms\tremaining: 663ms\n",
      "100:\ttest: 0.9973469\ttest1: 0.9838776\tbest: 0.9851020 (84)\ttotal: 129ms\tremaining: 511ms\n",
      "200:\ttest: 0.9990561\ttest1: 0.9861224\tbest: 0.9869388 (174)\ttotal: 257ms\tremaining: 383ms\n",
      "300:\ttest: 0.9997704\ttest1: 0.9889796\tbest: 0.9891837 (297)\ttotal: 410ms\tremaining: 271ms\n",
      "400:\ttest: 0.9999745\ttest1: 0.9897959\tbest: 0.9904082 (371)\ttotal: 556ms\tremaining: 137ms\n"
     ]
    },
    {
     "name": "stderr",
     "output_type": "stream",
     "text": [
      "\r",
      "3it [00:02,  1.37it/s]"
     ]
    },
    {
     "name": "stdout",
     "output_type": "stream",
     "text": [
      "499:\ttest: 1.0000000\ttest1: 0.9906122\tbest: 0.9906122 (460)\ttotal: 681ms\tremaining: 0us\n",
      "\n",
      "bestTest = 0.9906122449\n",
      "bestIteration = 460\n",
      "\n",
      "Shrink model to first 461 iterations.\n",
      "BEST ITERATION:  460\n",
      "gini на обучающей выборке: 100.000\n",
      "gini на проверочной выборке: 98.122\n",
      "\n",
      "********************** 3 фолд обучен! ******************************\n",
      "\n",
      "\n",
      "==================== Обучение 4 фолда! ====================\n",
      "0:\ttest: 0.9481626\ttest1: 0.8954082\tbest: 0.8954082 (0)\ttotal: 1.38ms\tremaining: 688ms\n",
      "100:\ttest: 0.9965178\ttest1: 0.9753061\tbest: 0.9753061 (100)\ttotal: 127ms\tremaining: 503ms\n",
      "200:\ttest: 0.9989413\ttest1: 0.9810204\tbest: 0.9810204 (200)\ttotal: 251ms\tremaining: 373ms\n",
      "300:\ttest: 0.9997321\ttest1: 0.9834694\tbest: 0.9834694 (254)\ttotal: 374ms\tremaining: 247ms\n",
      "400:\ttest: 0.9999745\ttest1: 0.9842857\tbest: 0.9844898 (396)\ttotal: 499ms\tremaining: 123ms\n"
     ]
    },
    {
     "name": "stderr",
     "output_type": "stream",
     "text": [
      "\r",
      "4it [00:02,  1.39it/s]"
     ]
    },
    {
     "name": "stdout",
     "output_type": "stream",
     "text": [
      "499:\ttest: 1.0000000\ttest1: 0.9848980\tbest: 0.9855102 (417)\ttotal: 621ms\tremaining: 0us\n",
      "\n",
      "bestTest = 0.9855102041\n",
      "bestIteration = 417\n",
      "\n",
      "Shrink model to first 418 iterations.\n",
      "BEST ITERATION:  417\n",
      "gini на обучающей выборке: 99.995\n",
      "gini на проверочной выборке: 97.102\n",
      "\n",
      "********************** 4 фолд обучен! ******************************\n",
      "\n",
      "\n",
      "==================== Обучение 5 фолда! ====================\n",
      "0:\ttest: 0.9550249\ttest1: 0.8733673\tbest: 0.8733673 (0)\ttotal: 1.48ms\tremaining: 740ms\n",
      "100:\ttest: 0.9965816\ttest1: 0.9583673\tbest: 0.9589796 (98)\ttotal: 126ms\tremaining: 498ms\n",
      "200:\ttest: 0.9991199\ttest1: 0.9712245\tbest: 0.9718367 (184)\ttotal: 252ms\tremaining: 375ms\n",
      "300:\ttest: 0.9997066\ttest1: 0.9757143\tbest: 0.9757143 (285)\ttotal: 389ms\tremaining: 257ms\n",
      "400:\ttest: 0.9999362\ttest1: 0.9789796\tbest: 0.9791837 (393)\ttotal: 519ms\tremaining: 128ms\n"
     ]
    },
    {
     "name": "stderr",
     "output_type": "stream",
     "text": [
      "5it [00:03,  1.40it/s]\n"
     ]
    },
    {
     "name": "stdout",
     "output_type": "stream",
     "text": [
      "Stopped by overfitting detector  (100 iterations wait)\n",
      "\n",
      "bestTest = 0.9791836735\n",
      "bestIteration = 393\n",
      "\n",
      "Shrink model to first 394 iterations.\n",
      "BEST ITERATION:  393\n",
      "gini на обучающей выборке: 99.982\n",
      "gini на проверочной выборке: 95.837\n",
      "\n",
      "********************** 5 фолд обучен! ******************************\n",
      "\n",
      "\n",
      "Количество признаков: 21 => метрика: 97.59182007156811\n",
      "Метрика модели со всеми признаками=97.64080299603002\n",
      "Разница метрики =0.048982924461910216\n",
      "Сохраняем:  feature_16\n",
      "Проверяемый признак: feature_15\n"
     ]
    },
    {
     "name": "stderr",
     "output_type": "stream",
     "text": [
      "\r",
      "0it [00:00, ?it/s]"
     ]
    },
    {
     "name": "stdout",
     "output_type": "stream",
     "text": [
      "==================== Обучение 1 фолда! ====================\n",
      "0:\ttest: 0.9400446\ttest1: 0.9160033\tbest: 0.9160033 (0)\ttotal: 1.31ms\tremaining: 657ms\n",
      "100:\ttest: 0.9958291\ttest1: 0.9948969\tbest: 0.9948969 (78)\ttotal: 124ms\tremaining: 491ms\n",
      "200:\ttest: 0.9985969\ttest1: 0.9971423\tbest: 0.9973464 (180)\ttotal: 250ms\tremaining: 372ms\n",
      "300:\ttest: 0.9994898\ttest1: 0.9975505\tbest: 0.9975505 (263)\ttotal: 373ms\tremaining: 247ms\n",
      "400:\ttest: 0.9999235\ttest1: 0.9983670\tbest: 0.9983670 (376)\ttotal: 499ms\tremaining: 123ms\n"
     ]
    },
    {
     "name": "stderr",
     "output_type": "stream",
     "text": [
      "\r",
      "1it [00:00,  1.48it/s]"
     ]
    },
    {
     "name": "stdout",
     "output_type": "stream",
     "text": [
      "Stopped by overfitting detector  (100 iterations wait)\n",
      "\n",
      "bestTest = 0.9983670137\n",
      "bestIteration = 376\n",
      "\n",
      "Shrink model to first 377 iterations.\n",
      "BEST ITERATION:  376\n",
      "gini на обучающей выборке: 99.980\n",
      "gini на проверочной выборке: 99.673\n",
      "\n",
      "********************** 1 фолд обучен! ******************************\n",
      "\n",
      "\n",
      "==================== Обучение 2 фолда! ====================\n",
      "0:\ttest: 0.9387875\ttest1: 0.9190816\tbest: 0.9190816 (0)\ttotal: 1.41ms\tremaining: 704ms\n",
      "100:\ttest: 0.9977551\ttest1: 0.9765306\tbest: 0.9765306 (100)\ttotal: 129ms\tremaining: 509ms\n",
      "200:\ttest: 0.9992219\ttest1: 0.9802041\tbest: 0.9804082 (171)\ttotal: 257ms\tremaining: 382ms\n",
      "300:\ttest: 0.9998342\ttest1: 0.9816327\tbest: 0.9816327 (272)\ttotal: 384ms\tremaining: 254ms\n",
      "400:\ttest: 1.0000000\ttest1: 0.9826531\tbest: 0.9826531 (327)\ttotal: 514ms\tremaining: 127ms\n"
     ]
    },
    {
     "name": "stderr",
     "output_type": "stream",
     "text": [
      "\r",
      "2it [00:01,  1.40it/s]"
     ]
    },
    {
     "name": "stdout",
     "output_type": "stream",
     "text": [
      "499:\ttest: 1.0000000\ttest1: 0.9846939\tbest: 0.9846939 (486)\ttotal: 639ms\tremaining: 0us\n",
      "\n",
      "bestTest = 0.9846938776\n",
      "bestIteration = 486\n",
      "\n",
      "Shrink model to first 487 iterations.\n",
      "BEST ITERATION:  486\n",
      "gini на обучающей выборке: 100.000\n",
      "gini на проверочной выборке: 96.939\n",
      "\n",
      "********************** 2 фолд обучен! ******************************\n",
      "\n",
      "\n",
      "==================== Обучение 3 фолда! ====================\n",
      "0:\ttest: 0.9551461\ttest1: 0.9234694\tbest: 0.9234694 (0)\ttotal: 1.41ms\tremaining: 704ms\n",
      "100:\ttest: 0.9972576\ttest1: 0.9836735\tbest: 0.9838776 (77)\ttotal: 128ms\tremaining: 504ms\n",
      "200:\ttest: 0.9990434\ttest1: 0.9877551\tbest: 0.9881633 (198)\ttotal: 257ms\tremaining: 382ms\n",
      "300:\ttest: 0.9997576\ttest1: 0.9895918\tbest: 0.9895918 (295)\ttotal: 383ms\tremaining: 253ms\n"
     ]
    },
    {
     "name": "stderr",
     "output_type": "stream",
     "text": [
      "\r",
      "3it [00:02,  1.51it/s]"
     ]
    },
    {
     "name": "stdout",
     "output_type": "stream",
     "text": [
      "400:\ttest: 1.0000000\ttest1: 0.9891837\tbest: 0.9897959 (315)\ttotal: 510ms\tremaining: 126ms\n",
      "Stopped by overfitting detector  (100 iterations wait)\n",
      "\n",
      "bestTest = 0.9897959184\n",
      "bestIteration = 315\n",
      "\n",
      "Shrink model to first 316 iterations.\n",
      "BEST ITERATION:  315\n",
      "gini на обучающей выборке: 99.969\n",
      "gini на проверочной выборке: 97.959\n",
      "\n",
      "********************** 3 фолд обучен! ******************************\n",
      "\n",
      "\n",
      "==================== Обучение 4 фолда! ====================\n",
      "0:\ttest: 0.9481626\ttest1: 0.8954082\tbest: 0.8954082 (0)\ttotal: 1.38ms\tremaining: 690ms\n",
      "100:\ttest: 0.9964923\ttest1: 0.9753061\tbest: 0.9753061 (100)\ttotal: 128ms\tremaining: 506ms\n",
      "200:\ttest: 0.9989286\ttest1: 0.9802041\tbest: 0.9806122 (197)\ttotal: 253ms\tremaining: 377ms\n",
      "300:\ttest: 0.9997576\ttest1: 0.9830612\tbest: 0.9838776 (260)\ttotal: 382ms\tremaining: 252ms\n",
      "400:\ttest: 0.9999745\ttest1: 0.9848980\tbest: 0.9848980 (383)\ttotal: 510ms\tremaining: 126ms\n"
     ]
    },
    {
     "name": "stderr",
     "output_type": "stream",
     "text": [
      "\r",
      "4it [00:02,  1.46it/s]"
     ]
    },
    {
     "name": "stdout",
     "output_type": "stream",
     "text": [
      "499:\ttest: 1.0000000\ttest1: 0.9865306\tbest: 0.9867347 (494)\ttotal: 638ms\tremaining: 0us\n",
      "\n",
      "bestTest = 0.9867346939\n",
      "bestIteration = 494\n",
      "\n",
      "Shrink model to first 495 iterations.\n",
      "BEST ITERATION:  494\n",
      "gini на обучающей выборке: 100.000\n",
      "gini на проверочной выборке: 97.347\n",
      "\n",
      "********************** 4 фолд обучен! ******************************\n",
      "\n",
      "\n",
      "==================== Обучение 5 фолда! ====================\n",
      "0:\ttest: 0.9550249\ttest1: 0.8733673\tbest: 0.8733673 (0)\ttotal: 1.42ms\tremaining: 708ms\n",
      "100:\ttest: 0.9968367\ttest1: 0.9595918\tbest: 0.9595918 (99)\ttotal: 129ms\tremaining: 508ms\n",
      "200:\ttest: 0.9990689\ttest1: 0.9700000\tbest: 0.9700000 (199)\ttotal: 257ms\tremaining: 382ms\n",
      "300:\ttest: 0.9996939\ttest1: 0.9753061\tbest: 0.9753061 (289)\ttotal: 385ms\tremaining: 254ms\n",
      "400:\ttest: 0.9999617\ttest1: 0.9791837\tbest: 0.9791837 (389)\ttotal: 520ms\tremaining: 128ms\n"
     ]
    },
    {
     "name": "stderr",
     "output_type": "stream",
     "text": [
      "5it [00:03,  1.44it/s]\n"
     ]
    },
    {
     "name": "stdout",
     "output_type": "stream",
     "text": [
      "499:\ttest: 0.9999872\ttest1: 0.9800000\tbest: 0.9800000 (464)\ttotal: 650ms\tremaining: 0us\n",
      "\n",
      "bestTest = 0.98\n",
      "bestIteration = 464\n",
      "\n",
      "Shrink model to first 465 iterations.\n",
      "BEST ITERATION:  464\n",
      "gini на обучающей выборке: 99.997\n",
      "gini на проверочной выборке: 96.000\n",
      "\n",
      "********************** 5 фолд обучен! ******************************\n",
      "\n",
      "\n",
      "Количество признаков: 21 => метрика: 97.58366013888715\n",
      "Метрика модели со всеми признаками=97.64080299603002\n",
      "Разница метрики =0.057142857142864045\n",
      "Сохраняем:  feature_15\n",
      "Проверяемый признак: feature_7\n"
     ]
    },
    {
     "name": "stderr",
     "output_type": "stream",
     "text": [
      "\r",
      "0it [00:00, ?it/s]"
     ]
    },
    {
     "name": "stdout",
     "output_type": "stream",
     "text": [
      "==================== Обучение 1 фолда! ====================\n",
      "0:\ttest: 0.9400446\ttest1: 0.9160033\tbest: 0.9160033 (0)\ttotal: 1.94ms\tremaining: 966ms\n",
      "100:\ttest: 0.9958418\ttest1: 0.9957134\tbest: 0.9957134 (100)\ttotal: 134ms\tremaining: 530ms\n"
     ]
    },
    {
     "name": "stderr",
     "output_type": "stream",
     "text": [
      "\r",
      "1it [00:00,  2.79it/s]"
     ]
    },
    {
     "name": "stdout",
     "output_type": "stream",
     "text": [
      "200:\ttest: 0.9985459\ttest1: 0.9967340\tbest: 0.9967340 (115)\ttotal: 275ms\tremaining: 409ms\n",
      "Stopped by overfitting detector  (100 iterations wait)\n",
      "\n",
      "bestTest = 0.9967340274\n",
      "bestIteration = 115\n",
      "\n",
      "Shrink model to first 116 iterations.\n",
      "BEST ITERATION:  115\n",
      "gini на обучающей выборке: 99.316\n",
      "gini на проверочной выборке: 99.347\n",
      "\n",
      "********************** 1 фолд обучен! ******************************\n",
      "\n",
      "\n",
      "==================== Обучение 2 фолда! ====================\n",
      "0:\ttest: 0.9387875\ttest1: 0.9190816\tbest: 0.9190816 (0)\ttotal: 1.38ms\tremaining: 687ms\n",
      "100:\ttest: 0.9976020\ttest1: 0.9785714\tbest: 0.9785714 (98)\ttotal: 136ms\tremaining: 536ms\n",
      "200:\ttest: 0.9991964\ttest1: 0.9820408\tbest: 0.9824490 (192)\ttotal: 265ms\tremaining: 395ms\n",
      "300:\ttest: 0.9998087\ttest1: 0.9840816\tbest: 0.9840816 (298)\ttotal: 399ms\tremaining: 264ms\n"
     ]
    },
    {
     "name": "stderr",
     "output_type": "stream",
     "text": [
      "\r",
      "2it [00:00,  1.96it/s]"
     ]
    },
    {
     "name": "stdout",
     "output_type": "stream",
     "text": [
      "400:\ttest: 1.0000000\ttest1: 0.9838776\tbest: 0.9842857 (311)\ttotal: 528ms\tremaining: 130ms\n",
      "Stopped by overfitting detector  (100 iterations wait)\n",
      "\n",
      "bestTest = 0.9842857143\n",
      "bestIteration = 311\n",
      "\n",
      "Shrink model to first 312 iterations.\n",
      "BEST ITERATION:  311\n",
      "gini на обучающей выборке: 99.967\n",
      "gini на проверочной выборке: 96.857\n",
      "\n",
      "********************** 2 фолд обучен! ******************************\n",
      "\n",
      "\n",
      "==================== Обучение 3 фолда! ====================\n",
      "0:\ttest: 0.9551461\ttest1: 0.9234694\tbest: 0.9234694 (0)\ttotal: 1.42ms\tremaining: 706ms\n",
      "100:\ttest: 0.9968367\ttest1: 0.9826531\tbest: 0.9838776 (80)\ttotal: 140ms\tremaining: 554ms\n",
      "200:\ttest: 0.9990178\ttest1: 0.9873469\tbest: 0.9875510 (172)\ttotal: 289ms\tremaining: 429ms\n",
      "300:\ttest: 0.9998087\ttest1: 0.9891837\tbest: 0.9893878 (265)\ttotal: 449ms\tremaining: 297ms\n",
      "400:\ttest: 1.0000000\ttest1: 0.9900000\tbest: 0.9902041 (359)\ttotal: 596ms\tremaining: 147ms\n"
     ]
    },
    {
     "name": "stderr",
     "output_type": "stream",
     "text": [
      "\r",
      "3it [00:01,  1.51it/s]"
     ]
    },
    {
     "name": "stdout",
     "output_type": "stream",
     "text": [
      "499:\ttest: 1.0000000\ttest1: 0.9904082\tbest: 0.9908163 (476)\ttotal: 744ms\tremaining: 0us\n",
      "\n",
      "bestTest = 0.9908163265\n",
      "bestIteration = 476\n",
      "\n",
      "Shrink model to first 477 iterations.\n",
      "BEST ITERATION:  476\n",
      "gini на обучающей выборке: 100.000\n",
      "gini на проверочной выборке: 98.163\n",
      "\n",
      "********************** 3 фолд обучен! ******************************\n",
      "\n",
      "\n",
      "==================== Обучение 4 фолда! ====================\n",
      "0:\ttest: 0.9481626\ttest1: 0.8954082\tbest: 0.8954082 (0)\ttotal: 1.44ms\tremaining: 718ms\n",
      "100:\ttest: 0.9964030\ttest1: 0.9732653\tbest: 0.9734694 (98)\ttotal: 140ms\tremaining: 552ms\n",
      "200:\ttest: 0.9990434\ttest1: 0.9814286\tbest: 0.9814286 (200)\ttotal: 274ms\tremaining: 408ms\n",
      "300:\ttest: 0.9997576\ttest1: 0.9834694\tbest: 0.9834694 (300)\ttotal: 404ms\tremaining: 267ms\n"
     ]
    },
    {
     "name": "stderr",
     "output_type": "stream",
     "text": [
      "\r",
      "4it [00:02,  1.42it/s]"
     ]
    },
    {
     "name": "stdout",
     "output_type": "stream",
     "text": [
      "400:\ttest: 0.9999745\ttest1: 0.9853061\tbest: 0.9853061 (393)\ttotal: 546ms\tremaining: 135ms\n",
      "499:\ttest: 1.0000000\ttest1: 0.9857143\tbest: 0.9859184 (482)\ttotal: 684ms\tremaining: 0us\n",
      "\n",
      "bestTest = 0.9859183673\n",
      "bestIteration = 482\n",
      "\n",
      "Shrink model to first 483 iterations.\n",
      "BEST ITERATION:  482\n",
      "gini на обучающей выборке: 100.000\n",
      "gini на проверочной выборке: 97.184\n",
      "\n",
      "********************** 4 фолд обучен! ******************************\n",
      "\n",
      "\n",
      "==================== Обучение 5 фолда! ====================\n",
      "0:\ttest: 0.9550249\ttest1: 0.8733673\tbest: 0.8733673 (0)\ttotal: 1.26ms\tremaining: 630ms\n",
      "100:\ttest: 0.9967602\ttest1: 0.9624490\tbest: 0.9632653 (99)\ttotal: 135ms\tremaining: 534ms\n",
      "200:\ttest: 0.9991582\ttest1: 0.9724490\tbest: 0.9728571 (199)\ttotal: 268ms\tremaining: 399ms\n",
      "300:\ttest: 0.9997449\ttest1: 0.9767347\tbest: 0.9771429 (286)\ttotal: 401ms\tremaining: 265ms\n",
      "400:\ttest: 0.9999362\ttest1: 0.9781633\tbest: 0.9783673 (366)\ttotal: 537ms\tremaining: 132ms\n"
     ]
    },
    {
     "name": "stderr",
     "output_type": "stream",
     "text": [
      "5it [00:03,  1.48it/s]\n"
     ]
    },
    {
     "name": "stdout",
     "output_type": "stream",
     "text": [
      "499:\ttest: 1.0000000\ttest1: 0.9800000\tbest: 0.9800000 (487)\ttotal: 687ms\tremaining: 0us\n",
      "\n",
      "bestTest = 0.98\n",
      "bestIteration = 487\n",
      "\n",
      "Shrink model to first 488 iterations.\n",
      "BEST ITERATION:  487\n",
      "gini на обучающей выборке: 99.997\n",
      "gini на проверочной выборке: 96.000\n",
      "\n",
      "********************** 5 фолд обучен! ******************************\n",
      "\n",
      "\n",
      "Количество признаков: 21 => метрика: 97.51017742063145\n",
      "Метрика модели со всеми признаками=97.64080299603002\n",
      "Разница метрики =0.13062557539856812\n",
      "Сохраняем:  feature_7\n",
      "Проверяемый признак: feature_23\n"
     ]
    },
    {
     "name": "stderr",
     "output_type": "stream",
     "text": [
      "\r",
      "0it [00:00, ?it/s]"
     ]
    },
    {
     "name": "stdout",
     "output_type": "stream",
     "text": [
      "==================== Обучение 1 фолда! ====================\n",
      "0:\ttest: 0.9400446\ttest1: 0.9160033\tbest: 0.9160033 (0)\ttotal: 1.39ms\tremaining: 692ms\n",
      "100:\ttest: 0.9959184\ttest1: 0.9957134\tbest: 0.9957134 (95)\ttotal: 128ms\tremaining: 504ms\n"
     ]
    },
    {
     "name": "stderr",
     "output_type": "stream",
     "text": [
      "\r",
      "1it [00:00,  2.70it/s]"
     ]
    },
    {
     "name": "stdout",
     "output_type": "stream",
     "text": [
      "200:\ttest: 0.9985842\ttest1: 0.9969382\tbest: 0.9973464 (146)\ttotal: 255ms\tremaining: 379ms\n",
      "Stopped by overfitting detector  (100 iterations wait)\n",
      "\n",
      "bestTest = 0.9973463972\n",
      "bestIteration = 146\n",
      "\n",
      "Shrink model to first 147 iterations.\n",
      "BEST ITERATION:  146\n",
      "gini на обучающей выборке: 99.474\n",
      "gini на проверочной выборке: 99.469\n",
      "\n",
      "********************** 1 фолд обучен! ******************************\n",
      "\n",
      "\n",
      "==================== Обучение 2 фолда! ====================\n",
      "0:\ttest: 0.9387875\ttest1: 0.9190816\tbest: 0.9190816 (0)\ttotal: 1.44ms\tremaining: 717ms\n",
      "100:\ttest: 0.9977933\ttest1: 0.9773469\tbest: 0.9779592 (70)\ttotal: 136ms\tremaining: 538ms\n",
      "200:\ttest: 0.9992602\ttest1: 0.9820408\tbest: 0.9820408 (187)\ttotal: 273ms\tremaining: 406ms\n",
      "300:\ttest: 0.9998469\ttest1: 0.9830612\tbest: 0.9834694 (287)\ttotal: 414ms\tremaining: 274ms\n",
      "400:\ttest: 1.0000000\ttest1: 0.9859184\tbest: 0.9859184 (389)\ttotal: 552ms\tremaining: 136ms\n"
     ]
    },
    {
     "name": "stderr",
     "output_type": "stream",
     "text": [
      "\r",
      "2it [00:01,  1.63it/s]"
     ]
    },
    {
     "name": "stdout",
     "output_type": "stream",
     "text": [
      "499:\ttest: 1.0000000\ttest1: 0.9865306\tbest: 0.9867347 (447)\ttotal: 694ms\tremaining: 0us\n",
      "\n",
      "bestTest = 0.9867346939\n",
      "bestIteration = 447\n",
      "\n",
      "Shrink model to first 448 iterations.\n",
      "BEST ITERATION:  447\n",
      "gini на обучающей выборке: 100.000\n",
      "gini на проверочной выборке: 97.347\n",
      "\n",
      "********************** 2 фолд обучен! ******************************\n",
      "\n",
      "\n",
      "==================== Обучение 3 фолда! ====================\n",
      "0:\ttest: 0.9551461\ttest1: 0.9234694\tbest: 0.9234694 (0)\ttotal: 1.62ms\tremaining: 809ms\n",
      "100:\ttest: 0.9970790\ttest1: 0.9826531\tbest: 0.9832653 (60)\ttotal: 141ms\tremaining: 559ms\n",
      "200:\ttest: 0.9990561\ttest1: 0.9865306\tbest: 0.9875510 (193)\ttotal: 272ms\tremaining: 405ms\n",
      "300:\ttest: 0.9997832\ttest1: 0.9877551\tbest: 0.9879592 (224)\ttotal: 400ms\tremaining: 264ms\n"
     ]
    },
    {
     "name": "stderr",
     "output_type": "stream",
     "text": [
      "\r",
      "3it [00:01,  1.49it/s]"
     ]
    },
    {
     "name": "stdout",
     "output_type": "stream",
     "text": [
      "400:\ttest: 0.9999872\ttest1: 0.9883673\tbest: 0.9887755 (357)\ttotal: 528ms\tremaining: 130ms\n",
      "499:\ttest: 1.0000000\ttest1: 0.9887755\tbest: 0.9889796 (413)\ttotal: 655ms\tremaining: 0us\n",
      "\n",
      "bestTest = 0.9889795918\n",
      "bestIteration = 413\n",
      "\n",
      "Shrink model to first 414 iterations.\n",
      "BEST ITERATION:  413\n",
      "gini на обучающей выборке: 99.997\n",
      "gini на проверочной выборке: 97.796\n",
      "\n",
      "********************** 3 фолд обучен! ******************************\n",
      "\n",
      "\n",
      "==================== Обучение 4 фолда! ====================\n",
      "0:\ttest: 0.9481626\ttest1: 0.8954082\tbest: 0.8954082 (0)\ttotal: 1.45ms\tremaining: 723ms\n",
      "100:\ttest: 0.9962372\ttest1: 0.9742857\tbest: 0.9742857 (100)\ttotal: 128ms\tremaining: 505ms\n",
      "200:\ttest: 0.9988265\ttest1: 0.9804082\tbest: 0.9806122 (196)\ttotal: 254ms\tremaining: 378ms\n",
      "300:\ttest: 0.9997449\ttest1: 0.9824490\tbest: 0.9838776 (260)\ttotal: 380ms\tremaining: 251ms\n",
      "400:\ttest: 0.9999745\ttest1: 0.9846939\tbest: 0.9846939 (400)\ttotal: 512ms\tremaining: 126ms\n"
     ]
    },
    {
     "name": "stderr",
     "output_type": "stream",
     "text": [
      "\r",
      "4it [00:02,  1.42it/s]"
     ]
    },
    {
     "name": "stdout",
     "output_type": "stream",
     "text": [
      "499:\ttest: 1.0000000\ttest1: 0.9857143\tbest: 0.9857143 (474)\ttotal: 647ms\tremaining: 0us\n",
      "\n",
      "bestTest = 0.9857142857\n",
      "bestIteration = 474\n",
      "\n",
      "Shrink model to first 475 iterations.\n",
      "BEST ITERATION:  474\n",
      "gini на обучающей выборке: 100.000\n",
      "gini на проверочной выборке: 97.143\n",
      "\n",
      "********************** 4 фолд обучен! ******************************\n",
      "\n",
      "\n",
      "==================== Обучение 5 фолда! ====================\n",
      "0:\ttest: 0.9550249\ttest1: 0.8733673\tbest: 0.8733673 (0)\ttotal: 1.32ms\tremaining: 659ms\n",
      "100:\ttest: 0.9968750\ttest1: 0.9636735\tbest: 0.9636735 (100)\ttotal: 151ms\tremaining: 595ms\n",
      "200:\ttest: 0.9992347\ttest1: 0.9722449\tbest: 0.9724490 (199)\ttotal: 291ms\tremaining: 433ms\n",
      "300:\ttest: 0.9997576\ttest1: 0.9777551\tbest: 0.9779592 (287)\ttotal: 422ms\tremaining: 279ms\n",
      "400:\ttest: 0.9999235\ttest1: 0.9783673\tbest: 0.9787755 (344)\ttotal: 550ms\tremaining: 136ms\n",
      "Stopped by overfitting detector  (100 iterations wait)\n",
      "\n",
      "bestTest = 0.9787755102\n",
      "bestIteration = 344\n",
      "\n",
      "Shrink model to first 345 iterations.\n"
     ]
    },
    {
     "name": "stderr",
     "output_type": "stream",
     "text": [
      "5it [00:03,  1.50it/s]\n"
     ]
    },
    {
     "name": "stdout",
     "output_type": "stream",
     "text": [
      "BEST ITERATION:  344\n",
      "gini на обучающей выборке: 99.969\n",
      "gini на проверочной выборке: 95.755\n",
      "\n",
      "********************** 5 фолд обучен! ******************************\n",
      "\n",
      "\n",
      "Количество признаков: 21 => метрика: 97.50201915426305\n",
      "Метрика модели со всеми признаками=97.64080299603002\n",
      "Разница метрики =0.13878384176696557\n",
      "Сохраняем:  feature_23\n",
      "Проверяемый признак: feature_14\n"
     ]
    },
    {
     "name": "stderr",
     "output_type": "stream",
     "text": [
      "\r",
      "0it [00:00, ?it/s]"
     ]
    },
    {
     "name": "stdout",
     "output_type": "stream",
     "text": [
      "==================== Обучение 1 фолда! ====================\n",
      "0:\ttest: 0.9400446\ttest1: 0.9160033\tbest: 0.9160033 (0)\ttotal: 1.32ms\tremaining: 660ms\n",
      "100:\ttest: 0.9956122\ttest1: 0.9963258\tbest: 0.9963258 (100)\ttotal: 127ms\tremaining: 501ms\n",
      "200:\ttest: 0.9985969\ttest1: 0.9969382\tbest: 0.9971423 (139)\ttotal: 254ms\tremaining: 378ms\n",
      "300:\ttest: 0.9995153\ttest1: 0.9979588\tbest: 0.9979588 (248)\ttotal: 380ms\tremaining: 251ms\n"
     ]
    },
    {
     "name": "stderr",
     "output_type": "stream",
     "text": [
      "\r",
      "1it [00:00,  1.92it/s]"
     ]
    },
    {
     "name": "stdout",
     "output_type": "stream",
     "text": [
      "Stopped by overfitting detector  (100 iterations wait)\n",
      "\n",
      "bestTest = 0.9979587671\n",
      "bestIteration = 248\n",
      "\n",
      "Shrink model to first 249 iterations.\n",
      "BEST ITERATION:  248\n",
      "gini на обучающей выборке: 99.844\n",
      "gini на проверочной выборке: 99.592\n",
      "\n",
      "********************** 1 фолд обучен! ******************************\n",
      "\n",
      "\n",
      "==================== Обучение 2 фолда! ====================\n",
      "0:\ttest: 0.9387875\ttest1: 0.9190816\tbest: 0.9190816 (0)\ttotal: 1.38ms\tremaining: 691ms\n",
      "100:\ttest: 0.9976785\ttest1: 0.9781633\tbest: 0.9787755 (96)\ttotal: 128ms\tremaining: 505ms\n",
      "200:\ttest: 0.9991582\ttest1: 0.9832653\tbest: 0.9834694 (190)\ttotal: 253ms\tremaining: 377ms\n",
      "300:\ttest: 0.9998214\ttest1: 0.9848980\tbest: 0.9853061 (289)\ttotal: 379ms\tremaining: 251ms\n"
     ]
    },
    {
     "name": "stderr",
     "output_type": "stream",
     "text": [
      "\r",
      "2it [00:01,  1.58it/s]"
     ]
    },
    {
     "name": "stdout",
     "output_type": "stream",
     "text": [
      "400:\ttest: 0.9999872\ttest1: 0.9859184\tbest: 0.9861224 (338)\ttotal: 506ms\tremaining: 125ms\n",
      "499:\ttest: 1.0000000\ttest1: 0.9871429\tbest: 0.9873469 (449)\ttotal: 630ms\tremaining: 0us\n",
      "\n",
      "bestTest = 0.9873469388\n",
      "bestIteration = 449\n",
      "\n",
      "Shrink model to first 450 iterations.\n",
      "BEST ITERATION:  449\n",
      "gini на обучающей выборке: 100.000\n",
      "gini на проверочной выборке: 97.469\n",
      "\n",
      "********************** 2 фолд обучен! ******************************\n",
      "\n",
      "\n",
      "==================== Обучение 3 фолда! ====================\n",
      "0:\ttest: 0.9551461\ttest1: 0.9234694\tbest: 0.9234694 (0)\ttotal: 1.41ms\tremaining: 703ms\n",
      "100:\ttest: 0.9974107\ttest1: 0.9812245\tbest: 0.9824490 (78)\ttotal: 129ms\tremaining: 511ms\n",
      "200:\ttest: 0.9990816\ttest1: 0.9861224\tbest: 0.9865306 (178)\ttotal: 278ms\tremaining: 413ms\n"
     ]
    },
    {
     "name": "stderr",
     "output_type": "stream",
     "text": [
      "\r",
      "3it [00:01,  1.57it/s]"
     ]
    },
    {
     "name": "stdout",
     "output_type": "stream",
     "text": [
      "300:\ttest: 0.9997959\ttest1: 0.9883673\tbest: 0.9885714 (265)\ttotal: 404ms\tremaining: 267ms\n",
      "400:\ttest: 1.0000000\ttest1: 0.9889796\tbest: 0.9891837 (329)\ttotal: 529ms\tremaining: 131ms\n",
      "Stopped by overfitting detector  (100 iterations wait)\n",
      "\n",
      "bestTest = 0.9891836735\n",
      "bestIteration = 329\n",
      "\n",
      "Shrink model to first 330 iterations.\n",
      "BEST ITERATION:  329\n",
      "gini на обучающей выборке: 99.982\n",
      "gini на проверочной выборке: 97.837\n",
      "\n",
      "********************** 3 фолд обучен! ******************************\n",
      "\n",
      "\n",
      "==================== Обучение 4 фолда! ====================\n",
      "0:\ttest: 0.9481626\ttest1: 0.8954082\tbest: 0.8954082 (0)\ttotal: 1.42ms\tremaining: 707ms\n",
      "100:\ttest: 0.9961862\ttest1: 0.9740816\tbest: 0.9740816 (96)\ttotal: 146ms\tremaining: 577ms\n",
      "200:\ttest: 0.9990306\ttest1: 0.9828571\tbest: 0.9828571 (197)\ttotal: 281ms\tremaining: 418ms\n",
      "300:\ttest: 0.9997832\ttest1: 0.9844898\tbest: 0.9853061 (260)\ttotal: 415ms\tremaining: 274ms\n"
     ]
    },
    {
     "name": "stderr",
     "output_type": "stream",
     "text": [
      "\r",
      "4it [00:02,  1.44it/s]"
     ]
    },
    {
     "name": "stdout",
     "output_type": "stream",
     "text": [
      "400:\ttest: 0.9999745\ttest1: 0.9848980\tbest: 0.9855102 (353)\ttotal: 554ms\tremaining: 137ms\n",
      "499:\ttest: 1.0000000\ttest1: 0.9859184\tbest: 0.9859184 (452)\ttotal: 693ms\tremaining: 0us\n",
      "\n",
      "bestTest = 0.9859183673\n",
      "bestIteration = 452\n",
      "\n",
      "Shrink model to first 453 iterations.\n",
      "BEST ITERATION:  452\n",
      "gini на обучающей выборке: 100.000\n",
      "gini на проверочной выборке: 97.184\n",
      "\n",
      "********************** 4 фолд обучен! ******************************\n",
      "\n",
      "\n",
      "==================== Обучение 5 фолда! ====================\n",
      "0:\ttest: 0.9550249\ttest1: 0.8733673\tbest: 0.8733673 (0)\ttotal: 1.35ms\tremaining: 676ms\n",
      "100:\ttest: 0.9971046\ttest1: 0.9632653\tbest: 0.9632653 (100)\ttotal: 136ms\tremaining: 536ms\n",
      "200:\ttest: 0.9990561\ttest1: 0.9708163\tbest: 0.9708163 (199)\ttotal: 273ms\tremaining: 405ms\n",
      "300:\ttest: 0.9997194\ttest1: 0.9761224\tbest: 0.9763265 (296)\ttotal: 424ms\tremaining: 280ms\n",
      "400:\ttest: 0.9999107\ttest1: 0.9781633\tbest: 0.9783673 (388)\ttotal: 569ms\tremaining: 141ms\n"
     ]
    },
    {
     "name": "stderr",
     "output_type": "stream",
     "text": [
      "5it [00:03,  1.45it/s]\n"
     ]
    },
    {
     "name": "stdout",
     "output_type": "stream",
     "text": [
      "499:\ttest: 0.9999872\ttest1: 0.9787755\tbest: 0.9793878 (489)\ttotal: 696ms\tremaining: 0us\n",
      "\n",
      "bestTest = 0.9793877551\n",
      "bestIteration = 489\n",
      "\n",
      "Shrink model to first 490 iterations.\n",
      "BEST ITERATION:  489\n",
      "gini на обучающей выборке: 99.997\n",
      "gini на проверочной выборке: 95.878\n",
      "\n",
      "********************** 5 фолд обучен! ******************************\n",
      "\n",
      "\n",
      "Количество признаков: 21 => метрика: 97.59182007156812\n",
      "Метрика модели со всеми признаками=97.64080299603002\n",
      "Разница метрики =0.048982924461896005\n",
      "Сохраняем:  feature_14\n",
      "Проверяемый признак: feature_21\n"
     ]
    },
    {
     "name": "stderr",
     "output_type": "stream",
     "text": [
      "\r",
      "0it [00:00, ?it/s]"
     ]
    },
    {
     "name": "stdout",
     "output_type": "stream",
     "text": [
      "==================== Обучение 1 фолда! ====================\n",
      "0:\ttest: 0.9400446\ttest1: 0.9160033\tbest: 0.9160033 (0)\ttotal: 1.91ms\tremaining: 952ms\n",
      "100:\ttest: 0.9953444\ttest1: 0.9951010\tbest: 0.9951010 (94)\ttotal: 129ms\tremaining: 508ms\n",
      "200:\ttest: 0.9985077\ttest1: 0.9975505\tbest: 0.9975505 (193)\ttotal: 278ms\tremaining: 414ms\n",
      "300:\ttest: 0.9995408\ttest1: 0.9981629\tbest: 0.9981629 (291)\ttotal: 422ms\tremaining: 279ms\n"
     ]
    },
    {
     "name": "stderr",
     "output_type": "stream",
     "text": [
      "\r",
      "1it [00:00,  1.36it/s]"
     ]
    },
    {
     "name": "stdout",
     "output_type": "stream",
     "text": [
      "400:\ttest: 0.9999107\ttest1: 0.9981629\tbest: 0.9985711 (356)\ttotal: 577ms\tremaining: 142ms\n",
      "Stopped by overfitting detector  (100 iterations wait)\n",
      "\n",
      "bestTest = 0.998571137\n",
      "bestIteration = 356\n",
      "\n",
      "Shrink model to first 357 iterations.\n",
      "BEST ITERATION:  356\n",
      "gini на обучающей выборке: 99.959\n",
      "gini на проверочной выборке: 99.714\n",
      "\n",
      "********************** 1 фолд обучен! ******************************\n",
      "\n",
      "\n",
      "==================== Обучение 2 фолда! ====================\n",
      "0:\ttest: 0.9387875\ttest1: 0.9190816\tbest: 0.9190816 (0)\ttotal: 1.42ms\tremaining: 707ms\n",
      "100:\ttest: 0.9975637\ttest1: 0.9759184\tbest: 0.9765306 (98)\ttotal: 140ms\tremaining: 552ms\n",
      "200:\ttest: 0.9992219\ttest1: 0.9800000\tbest: 0.9800000 (193)\ttotal: 280ms\tremaining: 417ms\n",
      "300:\ttest: 0.9998469\ttest1: 0.9818367\tbest: 0.9818367 (300)\ttotal: 417ms\tremaining: 276ms\n",
      "400:\ttest: 1.0000000\ttest1: 0.9836735\tbest: 0.9838776 (393)\ttotal: 553ms\tremaining: 136ms\n"
     ]
    },
    {
     "name": "stderr",
     "output_type": "stream",
     "text": [
      "\r",
      "2it [00:01,  1.30it/s]"
     ]
    },
    {
     "name": "stdout",
     "output_type": "stream",
     "text": [
      "499:\ttest: 1.0000000\ttest1: 0.9840816\tbest: 0.9848980 (461)\ttotal: 704ms\tremaining: 0us\n",
      "\n",
      "bestTest = 0.9848979592\n",
      "bestIteration = 461\n",
      "\n",
      "Shrink model to first 462 iterations.\n",
      "BEST ITERATION:  461\n",
      "gini на обучающей выборке: 100.000\n",
      "gini на проверочной выборке: 96.980\n",
      "\n",
      "********************** 2 фолд обучен! ******************************\n",
      "\n",
      "\n",
      "==================== Обучение 3 фолда! ====================\n",
      "0:\ttest: 0.9551461\ttest1: 0.9234694\tbest: 0.9234694 (0)\ttotal: 1.37ms\tremaining: 684ms\n",
      "100:\ttest: 0.9973214\ttest1: 0.9848980\tbest: 0.9853061 (52)\ttotal: 138ms\tremaining: 544ms\n",
      "200:\ttest: 0.9991582\ttest1: 0.9881633\tbest: 0.9885714 (190)\ttotal: 278ms\tremaining: 413ms\n",
      "300:\ttest: 0.9998214\ttest1: 0.9906122\tbest: 0.9906122 (298)\ttotal: 420ms\tremaining: 278ms\n"
     ]
    },
    {
     "name": "stderr",
     "output_type": "stream",
     "text": [
      "\r",
      "3it [00:02,  1.27it/s]"
     ]
    },
    {
     "name": "stdout",
     "output_type": "stream",
     "text": [
      "400:\ttest: 1.0000000\ttest1: 0.9912245\tbest: 0.9912245 (385)\ttotal: 558ms\tremaining: 138ms\n",
      "499:\ttest: 1.0000000\ttest1: 0.9912245\tbest: 0.9914286 (402)\ttotal: 694ms\tremaining: 0us\n",
      "\n",
      "bestTest = 0.9914285714\n",
      "bestIteration = 402\n",
      "\n",
      "Shrink model to first 403 iterations.\n",
      "BEST ITERATION:  402\n",
      "gini на обучающей выборке: 100.000\n",
      "gini на проверочной выборке: 98.286\n",
      "\n",
      "********************** 3 фолд обучен! ******************************\n",
      "\n",
      "\n",
      "==================== Обучение 4 фолда! ====================\n",
      "0:\ttest: 0.9481626\ttest1: 0.8954082\tbest: 0.8954082 (0)\ttotal: 1.32ms\tremaining: 661ms\n",
      "100:\ttest: 0.9951275\ttest1: 0.9730612\tbest: 0.9730612 (98)\ttotal: 139ms\tremaining: 550ms\n",
      "200:\ttest: 0.9988010\ttest1: 0.9818367\tbest: 0.9818367 (200)\ttotal: 276ms\tremaining: 410ms\n",
      "300:\ttest: 0.9997066\ttest1: 0.9838776\tbest: 0.9842857 (278)\ttotal: 411ms\tremaining: 272ms\n"
     ]
    },
    {
     "name": "stderr",
     "output_type": "stream",
     "text": [
      "\r",
      "4it [00:03,  1.26it/s]"
     ]
    },
    {
     "name": "stdout",
     "output_type": "stream",
     "text": [
      "400:\ttest: 0.9999617\ttest1: 0.9855102\tbest: 0.9857143 (394)\ttotal: 563ms\tremaining: 139ms\n",
      "499:\ttest: 1.0000000\ttest1: 0.9859184\tbest: 0.9859184 (445)\ttotal: 709ms\tremaining: 0us\n",
      "\n",
      "bestTest = 0.9859183673\n",
      "bestIteration = 445\n",
      "\n",
      "Shrink model to first 446 iterations.\n",
      "BEST ITERATION:  445\n",
      "gini на обучающей выборке: 99.997\n",
      "gini на проверочной выборке: 97.184\n",
      "\n",
      "********************** 4 фолд обучен! ******************************\n",
      "\n",
      "\n",
      "==================== Обучение 5 фолда! ====================\n",
      "0:\ttest: 0.9550249\ttest1: 0.8733673\tbest: 0.8733673 (0)\ttotal: 1.36ms\tremaining: 679ms\n",
      "100:\ttest: 0.9962117\ttest1: 0.9569388\tbest: 0.9573469 (99)\ttotal: 139ms\tremaining: 547ms\n",
      "200:\ttest: 0.9989541\ttest1: 0.9661224\tbest: 0.9661224 (200)\ttotal: 284ms\tremaining: 422ms\n",
      "300:\ttest: 0.9996429\ttest1: 0.9722449\tbest: 0.9724490 (299)\ttotal: 430ms\tremaining: 284ms\n",
      "400:\ttest: 0.9999362\ttest1: 0.9740816\tbest: 0.9746939 (394)\ttotal: 565ms\tremaining: 140ms\n"
     ]
    },
    {
     "name": "stderr",
     "output_type": "stream",
     "text": [
      "5it [00:03,  1.27it/s]\n"
     ]
    },
    {
     "name": "stdout",
     "output_type": "stream",
     "text": [
      "499:\ttest: 1.0000000\ttest1: 0.9767347\tbest: 0.9769388 (490)\ttotal: 700ms\tremaining: 0us\n",
      "\n",
      "bestTest = 0.9769387755\n",
      "bestIteration = 490\n",
      "\n",
      "Shrink model to first 491 iterations.\n",
      "BEST ITERATION:  490\n",
      "gini на обучающей выборке: 99.997\n",
      "gini на проверочной выборке: 95.388\n",
      "\n",
      "********************** 5 фолд обучен! ******************************\n",
      "\n",
      "\n",
      "Количество признаков: 21 => метрика: 97.51019241744464\n",
      "Метрика модели со всеми признаками=97.64080299603002\n",
      "Разница метрики =0.13061057858537595\n",
      "Сохраняем:  feature_21\n",
      "Проверяемый признак: feature_1\n"
     ]
    },
    {
     "name": "stderr",
     "output_type": "stream",
     "text": [
      "\r",
      "0it [00:00, ?it/s]"
     ]
    },
    {
     "name": "stdout",
     "output_type": "stream",
     "text": [
      "==================== Обучение 1 фолда! ====================\n",
      "0:\ttest: 0.9400446\ttest1: 0.9160033\tbest: 0.9160033 (0)\ttotal: 2.04ms\tremaining: 1.02s\n",
      "100:\ttest: 0.9956505\ttest1: 0.9961217\tbest: 0.9961217 (98)\ttotal: 153ms\tremaining: 605ms\n",
      "200:\ttest: 0.9985714\ttest1: 0.9977546\tbest: 0.9977546 (165)\ttotal: 292ms\tremaining: 434ms\n",
      "300:\ttest: 0.9996429\ttest1: 0.9979588\tbest: 0.9983670 (268)\ttotal: 428ms\tremaining: 283ms\n"
     ]
    },
    {
     "name": "stderr",
     "output_type": "stream",
     "text": [
      "\r",
      "1it [00:00,  1.48it/s]"
     ]
    },
    {
     "name": "stdout",
     "output_type": "stream",
     "text": [
      "400:\ttest: 0.9999362\ttest1: 0.9985711\tbest: 0.9985711 (317)\ttotal: 567ms\tremaining: 140ms\n",
      "Stopped by overfitting detector  (100 iterations wait)\n",
      "\n",
      "bestTest = 0.998571137\n",
      "bestIteration = 317\n",
      "\n",
      "Shrink model to first 318 iterations.\n",
      "BEST ITERATION:  317\n",
      "gini на обучающей выборке: 99.941\n",
      "gini на проверочной выборке: 99.714\n",
      "\n",
      "********************** 1 фолд обучен! ******************************\n",
      "\n",
      "\n",
      "==================== Обучение 2 фолда! ====================\n",
      "0:\ttest: 0.9438705\ttest1: 0.9257143\tbest: 0.9257143 (0)\ttotal: 1.4ms\tremaining: 699ms\n",
      "100:\ttest: 0.9978954\ttest1: 0.9783673\tbest: 0.9787755 (12)\ttotal: 155ms\tremaining: 613ms\n",
      "200:\ttest: 0.9992985\ttest1: 0.9818367\tbest: 0.9824490 (174)\ttotal: 310ms\tremaining: 462ms\n",
      "300:\ttest: 0.9998724\ttest1: 0.9838776\tbest: 0.9840816 (292)\ttotal: 450ms\tremaining: 297ms\n",
      "400:\ttest: 1.0000000\ttest1: 0.9842857\tbest: 0.9844898 (315)\ttotal: 595ms\tremaining: 147ms\n"
     ]
    },
    {
     "name": "stderr",
     "output_type": "stream",
     "text": [
      "\r",
      "2it [00:01,  1.31it/s]"
     ]
    },
    {
     "name": "stdout",
     "output_type": "stream",
     "text": [
      "499:\ttest: 1.0000000\ttest1: 0.9846939\tbest: 0.9848980 (416)\ttotal: 736ms\tremaining: 0us\n",
      "\n",
      "bestTest = 0.9848979592\n",
      "bestIteration = 416\n",
      "\n",
      "Shrink model to first 417 iterations.\n",
      "BEST ITERATION:  416\n",
      "gini на обучающей выборке: 100.000\n",
      "gini на проверочной выборке: 96.980\n",
      "\n",
      "********************** 2 фолд обучен! ******************************\n",
      "\n",
      "\n",
      "==================== Обучение 3 фолда! ====================\n",
      "0:\ttest: 0.9551461\ttest1: 0.9234694\tbest: 0.9234694 (0)\ttotal: 1.47ms\tremaining: 734ms\n",
      "100:\ttest: 0.9973469\ttest1: 0.9834694\tbest: 0.9844898 (48)\ttotal: 140ms\tremaining: 552ms\n",
      "200:\ttest: 0.9991454\ttest1: 0.9873469\tbest: 0.9873469 (182)\ttotal: 283ms\tremaining: 421ms\n",
      "300:\ttest: 0.9997959\ttest1: 0.9877551\tbest: 0.9877551 (298)\ttotal: 432ms\tremaining: 286ms\n",
      "400:\ttest: 0.9999745\ttest1: 0.9885714\tbest: 0.9887755 (396)\ttotal: 575ms\tremaining: 142ms\n"
     ]
    },
    {
     "name": "stderr",
     "output_type": "stream",
     "text": [
      "\r",
      "3it [00:02,  1.28it/s]"
     ]
    },
    {
     "name": "stdout",
     "output_type": "stream",
     "text": [
      "499:\ttest: 1.0000000\ttest1: 0.9895918\tbest: 0.9895918 (499)\ttotal: 711ms\tremaining: 0us\n",
      "\n",
      "bestTest = 0.9895918367\n",
      "bestIteration = 499\n",
      "\n",
      "BEST ITERATION:  499\n",
      "gini на обучающей выборке: 100.000\n",
      "gini на проверочной выборке: 97.918\n",
      "\n",
      "********************** 3 фолд обучен! ******************************\n",
      "\n",
      "\n",
      "==================== Обучение 4 фолда! ====================\n",
      "0:\ttest: 0.9445656\ttest1: 0.9101020\tbest: 0.9101020 (0)\ttotal: 1.46ms\tremaining: 728ms\n",
      "100:\ttest: 0.9955994\ttest1: 0.9740816\tbest: 0.9740816 (98)\ttotal: 143ms\tremaining: 565ms\n",
      "200:\ttest: 0.9989541\ttest1: 0.9826531\tbest: 0.9828571 (194)\ttotal: 281ms\tremaining: 418ms\n",
      "300:\ttest: 0.9997576\ttest1: 0.9838776\tbest: 0.9840816 (273)\ttotal: 422ms\tremaining: 279ms\n",
      "400:\ttest: 0.9999745\ttest1: 0.9863265\tbest: 0.9867347 (393)\ttotal: 562ms\tremaining: 139ms\n"
     ]
    },
    {
     "name": "stderr",
     "output_type": "stream",
     "text": [
      "\r",
      "4it [00:03,  1.27it/s]"
     ]
    },
    {
     "name": "stdout",
     "output_type": "stream",
     "text": [
      "Stopped by overfitting detector  (100 iterations wait)\n",
      "\n",
      "bestTest = 0.9867346939\n",
      "bestIteration = 393\n",
      "\n",
      "Shrink model to first 394 iterations.\n",
      "BEST ITERATION:  393\n",
      "gini на обучающей выборке: 99.995\n",
      "gini на проверочной выборке: 97.347\n",
      "\n",
      "********************** 4 фолд обучен! ******************************\n",
      "\n",
      "\n",
      "==================== Обучение 5 фолда! ====================\n",
      "0:\ttest: 0.9265361\ttest1: 0.8829592\tbest: 0.8829592 (0)\ttotal: 1.6ms\tremaining: 797ms\n",
      "100:\ttest: 0.9968239\ttest1: 0.9632653\tbest: 0.9632653 (100)\ttotal: 157ms\tremaining: 619ms\n",
      "200:\ttest: 0.9990178\ttest1: 0.9718367\tbest: 0.9718367 (200)\ttotal: 297ms\tremaining: 441ms\n",
      "300:\ttest: 0.9997194\ttest1: 0.9763265\tbest: 0.9767347 (270)\ttotal: 444ms\tremaining: 293ms\n",
      "400:\ttest: 0.9999490\ttest1: 0.9771429\tbest: 0.9779592 (373)\ttotal: 579ms\tremaining: 143ms\n"
     ]
    },
    {
     "name": "stderr",
     "output_type": "stream",
     "text": [
      "5it [00:03,  1.27it/s]\n"
     ]
    },
    {
     "name": "stdout",
     "output_type": "stream",
     "text": [
      "499:\ttest: 1.0000000\ttest1: 0.9783673\tbest: 0.9787755 (483)\ttotal: 712ms\tremaining: 0us\n",
      "\n",
      "bestTest = 0.9787755102\n",
      "bestIteration = 483\n",
      "\n",
      "Shrink model to first 484 iterations.\n",
      "BEST ITERATION:  483\n",
      "gini на обучающей выборке: 100.000\n",
      "gini на проверочной выборке: 95.755\n",
      "\n",
      "********************** 5 фолд обучен! ******************************\n",
      "\n",
      "\n",
      "Количество признаков: 21 => метрика: 97.54284547866911\n",
      "Метрика модели со всеми признаками=97.64080299603002\n",
      "Разница метрики =0.09795751736091063\n",
      "Сохраняем:  feature_1\n",
      "Проверяемый признак: feature_11\n"
     ]
    },
    {
     "name": "stderr",
     "output_type": "stream",
     "text": [
      "\r",
      "0it [00:00, ?it/s]"
     ]
    },
    {
     "name": "stdout",
     "output_type": "stream",
     "text": [
      "==================== Обучение 1 фолда! ====================\n",
      "0:\ttest: 0.9400446\ttest1: 0.9160033\tbest: 0.9160033 (0)\ttotal: 1.38ms\tremaining: 688ms\n",
      "100:\ttest: 0.9953316\ttest1: 0.9953052\tbest: 0.9953052 (87)\ttotal: 135ms\tremaining: 534ms\n",
      "200:\ttest: 0.9983673\ttest1: 0.9967340\tbest: 0.9967340 (174)\ttotal: 274ms\tremaining: 407ms\n",
      "300:\ttest: 0.9995153\ttest1: 0.9975505\tbest: 0.9975505 (283)\ttotal: 409ms\tremaining: 270ms\n"
     ]
    },
    {
     "name": "stderr",
     "output_type": "stream",
     "text": [
      "\r",
      "1it [00:00,  1.29it/s]"
     ]
    },
    {
     "name": "stdout",
     "output_type": "stream",
     "text": [
      "400:\ttest: 0.9998980\ttest1: 0.9979588\tbest: 0.9981629 (390)\ttotal: 552ms\tremaining: 136ms\n",
      "499:\ttest: 1.0000000\ttest1: 0.9987753\tbest: 0.9987753 (475)\ttotal: 682ms\tremaining: 0us\n",
      "\n",
      "bestTest = 0.9987752603\n",
      "bestIteration = 475\n",
      "\n",
      "Shrink model to first 476 iterations.\n",
      "BEST ITERATION:  475\n",
      "gini на обучающей выборке: 100.000\n",
      "gini на проверочной выборке: 99.755\n",
      "\n",
      "********************** 1 фолд обучен! ******************************\n",
      "\n",
      "\n",
      "==================== Обучение 2 фолда! ====================\n",
      "0:\ttest: 0.9438705\ttest1: 0.9257143\tbest: 0.9257143 (0)\ttotal: 1.61ms\tremaining: 804ms\n",
      "100:\ttest: 0.9975255\ttest1: 0.9791837\tbest: 0.9797959 (98)\ttotal: 136ms\tremaining: 536ms\n",
      "200:\ttest: 0.9991071\ttest1: 0.9808163\tbest: 0.9808163 (200)\ttotal: 270ms\tremaining: 402ms\n",
      "300:\ttest: 0.9998342\ttest1: 0.9832653\tbest: 0.9840816 (281)\ttotal: 428ms\tremaining: 283ms\n",
      "400:\ttest: 1.0000000\ttest1: 0.9842857\tbest: 0.9844898 (325)\ttotal: 559ms\tremaining: 138ms\n"
     ]
    },
    {
     "name": "stderr",
     "output_type": "stream",
     "text": [
      "\r",
      "2it [00:01,  1.29it/s]"
     ]
    },
    {
     "name": "stdout",
     "output_type": "stream",
     "text": [
      "499:\ttest: 1.0000000\ttest1: 0.9853061\tbest: 0.9853061 (455)\ttotal: 691ms\tremaining: 0us\n",
      "\n",
      "bestTest = 0.9853061224\n",
      "bestIteration = 455\n",
      "\n",
      "Shrink model to first 456 iterations.\n",
      "BEST ITERATION:  455\n",
      "gini на обучающей выборке: 100.000\n",
      "gini на проверочной выборке: 97.061\n",
      "\n",
      "********************** 2 фолд обучен! ******************************\n",
      "\n",
      "\n",
      "==================== Обучение 3 фолда! ====================\n",
      "0:\ttest: 0.9551461\ttest1: 0.9234694\tbest: 0.9234694 (0)\ttotal: 1.51ms\tremaining: 754ms\n",
      "100:\ttest: 0.9972449\ttest1: 0.9818367\tbest: 0.9840816 (54)\ttotal: 133ms\tremaining: 524ms\n",
      "200:\ttest: 0.9989668\ttest1: 0.9844898\tbest: 0.9855102 (173)\ttotal: 268ms\tremaining: 399ms\n",
      "300:\ttest: 0.9997832\ttest1: 0.9867347\tbest: 0.9871429 (249)\ttotal: 406ms\tremaining: 268ms\n"
     ]
    },
    {
     "name": "stderr",
     "output_type": "stream",
     "text": [
      "\r",
      "3it [00:02,  1.49it/s]"
     ]
    },
    {
     "name": "stdout",
     "output_type": "stream",
     "text": [
      "Stopped by overfitting detector  (100 iterations wait)\n",
      "\n",
      "bestTest = 0.9871428571\n",
      "bestIteration = 249\n",
      "\n",
      "Shrink model to first 250 iterations.\n",
      "BEST ITERATION:  249\n",
      "gini на обучающей выборке: 99.911\n",
      "gini на проверочной выборке: 97.429\n",
      "\n",
      "********************** 3 фолд обучен! ******************************\n",
      "\n",
      "\n",
      "==================== Обучение 4 фолда! ====================\n",
      "0:\ttest: 0.9445656\ttest1: 0.9101020\tbest: 0.9101020 (0)\ttotal: 1.4ms\tremaining: 700ms\n",
      "100:\ttest: 0.9960841\ttest1: 0.9753061\tbest: 0.9753061 (100)\ttotal: 135ms\tremaining: 535ms\n",
      "200:\ttest: 0.9989668\ttest1: 0.9820408\tbest: 0.9822449 (193)\ttotal: 268ms\tremaining: 399ms\n",
      "300:\ttest: 0.9997704\ttest1: 0.9840816\tbest: 0.9846939 (278)\ttotal: 400ms\tremaining: 264ms\n"
     ]
    },
    {
     "name": "stderr",
     "output_type": "stream",
     "text": [
      "\r",
      "4it [00:02,  1.42it/s]"
     ]
    },
    {
     "name": "stdout",
     "output_type": "stream",
     "text": [
      "400:\ttest: 0.9999745\ttest1: 0.9857143\tbest: 0.9859184 (387)\ttotal: 535ms\tremaining: 132ms\n",
      "499:\ttest: 1.0000000\ttest1: 0.9859184\tbest: 0.9861224 (402)\ttotal: 665ms\tremaining: 0us\n",
      "\n",
      "bestTest = 0.986122449\n",
      "bestIteration = 402\n",
      "\n",
      "Shrink model to first 403 iterations.\n",
      "BEST ITERATION:  402\n",
      "gini на обучающей выборке: 99.995\n",
      "gini на проверочной выборке: 97.224\n",
      "\n",
      "********************** 4 фолд обучен! ******************************\n",
      "\n",
      "\n",
      "==================== Обучение 5 фолда! ====================\n",
      "0:\ttest: 0.9265361\ttest1: 0.8829592\tbest: 0.8829592 (0)\ttotal: 1.46ms\tremaining: 730ms\n",
      "100:\ttest: 0.9964030\ttest1: 0.9583673\tbest: 0.9585714 (99)\ttotal: 139ms\tremaining: 549ms\n",
      "200:\ttest: 0.9989668\ttest1: 0.9665306\tbest: 0.9665306 (200)\ttotal: 272ms\tremaining: 404ms\n",
      "300:\ttest: 0.9997959\ttest1: 0.9708163\tbest: 0.9712245 (292)\ttotal: 404ms\tremaining: 267ms\n",
      "400:\ttest: 0.9999745\ttest1: 0.9742857\tbest: 0.9744898 (395)\ttotal: 534ms\tremaining: 132ms\n"
     ]
    },
    {
     "name": "stderr",
     "output_type": "stream",
     "text": [
      "5it [00:03,  1.39it/s]\n"
     ]
    },
    {
     "name": "stdout",
     "output_type": "stream",
     "text": [
      "499:\ttest: 1.0000000\ttest1: 0.9763265\tbest: 0.9763265 (497)\ttotal: 666ms\tremaining: 0us\n",
      "\n",
      "bestTest = 0.9763265306\n",
      "bestIteration = 497\n",
      "\n",
      "Shrink model to first 498 iterations.\n",
      "BEST ITERATION:  497\n",
      "gini на обучающей выборке: 100.000\n",
      "gini на проверочной выборке: 95.265\n",
      "\n",
      "********************** 5 фолд обучен! ******************************\n",
      "\n",
      "\n",
      "Количество признаков: 21 => метрика: 97.34692877763476\n",
      "Метрика модели со всеми признаками=97.64080299603002\n",
      "Разница метрики =0.29387421839525985\n",
      "Сохраняем:  feature_11\n",
      "Проверяемый признак: feature_24\n"
     ]
    },
    {
     "name": "stderr",
     "output_type": "stream",
     "text": [
      "\r",
      "0it [00:00, ?it/s]"
     ]
    },
    {
     "name": "stdout",
     "output_type": "stream",
     "text": [
      "==================== Обучение 1 фолда! ====================\n",
      "0:\ttest: 0.9400446\ttest1: 0.9160033\tbest: 0.9160033 (0)\ttotal: 1.46ms\tremaining: 729ms\n",
      "100:\ttest: 0.9958673\ttest1: 0.9953052\tbest: 0.9955093 (84)\ttotal: 136ms\tremaining: 538ms\n",
      "200:\ttest: 0.9985459\ttest1: 0.9971423\tbest: 0.9973464 (176)\ttotal: 270ms\tremaining: 402ms\n",
      "300:\ttest: 0.9995918\ttest1: 0.9979588\tbest: 0.9981629 (242)\ttotal: 423ms\tremaining: 280ms\n"
     ]
    },
    {
     "name": "stderr",
     "output_type": "stream",
     "text": [
      "\r",
      "1it [00:00,  1.23it/s]"
     ]
    },
    {
     "name": "stdout",
     "output_type": "stream",
     "text": [
      "400:\ttest: 0.9998724\ttest1: 0.9983670\tbest: 0.9983670 (331)\ttotal: 572ms\tremaining: 141ms\n",
      "499:\ttest: 1.0000000\ttest1: 0.9985711\tbest: 0.9985711 (421)\ttotal: 704ms\tremaining: 0us\n",
      "\n",
      "bestTest = 0.998571137\n",
      "bestIteration = 421\n",
      "\n",
      "Shrink model to first 422 iterations.\n",
      "BEST ITERATION:  421\n",
      "gini на обучающей выборке: 99.990\n",
      "gini на проверочной выборке: 99.714\n",
      "\n",
      "********************** 1 фолд обучен! ******************************\n",
      "\n",
      "\n",
      "==================== Обучение 2 фолда! ====================\n",
      "0:\ttest: 0.9438705\ttest1: 0.9257143\tbest: 0.9257143 (0)\ttotal: 1.83ms\tremaining: 914ms\n",
      "100:\ttest: 0.9977933\ttest1: 0.9806122\tbest: 0.9812245 (80)\ttotal: 139ms\tremaining: 548ms\n",
      "200:\ttest: 0.9991964\ttest1: 0.9822449\tbest: 0.9824490 (191)\ttotal: 272ms\tremaining: 404ms\n",
      "300:\ttest: 0.9997959\ttest1: 0.9842857\tbest: 0.9842857 (278)\ttotal: 406ms\tremaining: 268ms\n",
      "400:\ttest: 1.0000000\ttest1: 0.9844898\tbest: 0.9851020 (344)\ttotal: 538ms\tremaining: 133ms\n"
     ]
    },
    {
     "name": "stderr",
     "output_type": "stream",
     "text": [
      "\r",
      "2it [00:01,  1.26it/s]"
     ]
    },
    {
     "name": "stdout",
     "output_type": "stream",
     "text": [
      "499:\ttest: 1.0000000\ttest1: 0.9853061\tbest: 0.9857143 (440)\ttotal: 686ms\tremaining: 0us\n",
      "\n",
      "bestTest = 0.9857142857\n",
      "bestIteration = 440\n",
      "\n",
      "Shrink model to first 441 iterations.\n",
      "BEST ITERATION:  440\n",
      "gini на обучающей выборке: 100.000\n",
      "gini на проверочной выборке: 97.143\n",
      "\n",
      "********************** 2 фолд обучен! ******************************\n",
      "\n",
      "\n",
      "==================== Обучение 3 фолда! ====================\n",
      "0:\ttest: 0.9551461\ttest1: 0.9234694\tbest: 0.9234694 (0)\ttotal: 1.66ms\tremaining: 830ms\n",
      "100:\ttest: 0.9970918\ttest1: 0.9840816\tbest: 0.9846939 (84)\ttotal: 138ms\tremaining: 545ms\n",
      "200:\ttest: 0.9991582\ttest1: 0.9871429\tbest: 0.9871429 (186)\ttotal: 273ms\tremaining: 406ms\n",
      "300:\ttest: 0.9997959\ttest1: 0.9887755\tbest: 0.9889796 (293)\ttotal: 408ms\tremaining: 269ms\n"
     ]
    },
    {
     "name": "stderr",
     "output_type": "stream",
     "text": [
      "\r",
      "3it [00:02,  1.33it/s]"
     ]
    },
    {
     "name": "stdout",
     "output_type": "stream",
     "text": [
      "400:\ttest: 1.0000000\ttest1: 0.9895918\tbest: 0.9900000 (362)\ttotal: 542ms\tremaining: 134ms\n",
      "Stopped by overfitting detector  (100 iterations wait)\n",
      "\n",
      "bestTest = 0.99\n",
      "bestIteration = 362\n",
      "\n",
      "Shrink model to first 363 iterations.\n",
      "BEST ITERATION:  362\n",
      "gini на обучающей выборке: 99.995\n",
      "gini на проверочной выборке: 98.000\n",
      "\n",
      "********************** 3 фолд обучен! ******************************\n",
      "\n",
      "\n",
      "==================== Обучение 4 фолда! ====================\n",
      "0:\ttest: 0.9445656\ttest1: 0.9101020\tbest: 0.9101020 (0)\ttotal: 1.51ms\tremaining: 753ms\n",
      "100:\ttest: 0.9959311\ttest1: 0.9726531\tbest: 0.9726531 (100)\ttotal: 143ms\tremaining: 565ms\n",
      "200:\ttest: 0.9989668\ttest1: 0.9808163\tbest: 0.9814286 (177)\ttotal: 309ms\tremaining: 460ms\n",
      "300:\ttest: 0.9997704\ttest1: 0.9844898\tbest: 0.9846939 (292)\ttotal: 451ms\tremaining: 298ms\n",
      "400:\ttest: 0.9999745\ttest1: 0.9865306\tbest: 0.9867347 (391)\ttotal: 589ms\tremaining: 146ms\n"
     ]
    },
    {
     "name": "stderr",
     "output_type": "stream",
     "text": [
      "\r",
      "4it [00:03,  1.27it/s]"
     ]
    },
    {
     "name": "stdout",
     "output_type": "stream",
     "text": [
      "499:\ttest: 1.0000000\ttest1: 0.9863265\tbest: 0.9871429 (413)\ttotal: 723ms\tremaining: 0us\n",
      "\n",
      "bestTest = 0.9871428571\n",
      "bestIteration = 413\n",
      "\n",
      "Shrink model to first 414 iterations.\n",
      "BEST ITERATION:  413\n",
      "gini на обучающей выборке: 99.995\n",
      "gini на проверочной выборке: 97.429\n",
      "\n",
      "********************** 4 фолд обучен! ******************************\n",
      "\n",
      "\n",
      "==================== Обучение 5 фолда! ====================\n",
      "0:\ttest: 0.9265361\ttest1: 0.8829592\tbest: 0.8829592 (0)\ttotal: 1.5ms\tremaining: 750ms\n",
      "100:\ttest: 0.9964030\ttest1: 0.9597959\tbest: 0.9597959 (100)\ttotal: 138ms\tremaining: 545ms\n",
      "200:\ttest: 0.9989541\ttest1: 0.9706122\tbest: 0.9710204 (193)\ttotal: 276ms\tremaining: 410ms\n",
      "300:\ttest: 0.9997066\ttest1: 0.9779592\tbest: 0.9785714 (291)\ttotal: 411ms\tremaining: 272ms\n"
     ]
    },
    {
     "name": "stderr",
     "output_type": "stream",
     "text": [
      "5it [00:03,  1.28it/s]\n"
     ]
    },
    {
     "name": "stdout",
     "output_type": "stream",
     "text": [
      "400:\ttest: 0.9999362\ttest1: 0.9795918\tbest: 0.9797959 (397)\ttotal: 548ms\tremaining: 135ms\n",
      "499:\ttest: 1.0000000\ttest1: 0.9802041\tbest: 0.9804082 (472)\ttotal: 680ms\tremaining: 0us\n",
      "\n",
      "bestTest = 0.9804081633\n",
      "bestIteration = 472\n",
      "\n",
      "Shrink model to first 473 iterations.\n",
      "BEST ITERATION:  472\n",
      "gini на обучающей выборке: 99.997\n",
      "gini на проверочной выборке: 96.082\n",
      "\n",
      "********************** 5 фолд обучен! ******************************\n",
      "\n",
      "\n",
      "Количество признаков: 21 => метрика: 97.67345772356708\n",
      "Метрика модели со всеми признаками=97.64080299603002\n",
      "Разница метрики =-0.03265472753706433\n",
      "Удаляем:  feature_24\n",
      "Проверяемый признак: feature_12\n"
     ]
    },
    {
     "name": "stderr",
     "output_type": "stream",
     "text": [
      "\r",
      "0it [00:00, ?it/s]"
     ]
    },
    {
     "name": "stdout",
     "output_type": "stream",
     "text": [
      "==================== Обучение 1 фолда! ====================\n",
      "0:\ttest: 0.9371939\ttest1: 0.9125332\tbest: 0.9125332 (0)\ttotal: 1.99ms\tremaining: 993ms\n",
      "100:\ttest: 0.9958673\ttest1: 0.9938763\tbest: 0.9940804 (97)\ttotal: 136ms\tremaining: 536ms\n",
      "200:\ttest: 0.9985077\ttest1: 0.9965299\tbest: 0.9967340 (191)\ttotal: 286ms\tremaining: 425ms\n",
      "300:\ttest: 0.9995918\ttest1: 0.9971423\tbest: 0.9975505 (285)\ttotal: 420ms\tremaining: 278ms\n",
      "400:\ttest: 0.9999235\ttest1: 0.9981629\tbest: 0.9981629 (341)\ttotal: 554ms\tremaining: 137ms\n"
     ]
    },
    {
     "name": "stderr",
     "output_type": "stream",
     "text": [
      "\r",
      "1it [00:00,  1.43it/s]"
     ]
    },
    {
     "name": "stdout",
     "output_type": "stream",
     "text": [
      "Stopped by overfitting detector  (100 iterations wait)\n",
      "\n",
      "bestTest = 0.9981628904\n",
      "bestIteration = 341\n",
      "\n",
      "Shrink model to first 342 iterations.\n",
      "BEST ITERATION:  341\n",
      "gini на обучающей выборке: 99.967\n",
      "gini на проверочной выборке: 99.633\n",
      "\n",
      "********************** 1 фолд обучен! ******************************\n",
      "\n",
      "\n",
      "==================== Обучение 2 фолда! ====================\n",
      "0:\ttest: 0.9129453\ttest1: 0.9072449\tbest: 0.9072449 (0)\ttotal: 1.35ms\tremaining: 674ms\n",
      "100:\ttest: 0.9974107\ttest1: 0.9742857\tbest: 0.9746939 (99)\ttotal: 136ms\tremaining: 537ms\n",
      "200:\ttest: 0.9991454\ttest1: 0.9804082\tbest: 0.9810204 (173)\ttotal: 269ms\tremaining: 399ms\n",
      "300:\ttest: 0.9998342\ttest1: 0.9820408\tbest: 0.9820408 (252)\ttotal: 400ms\tremaining: 265ms\n",
      "400:\ttest: 0.9999872\ttest1: 0.9842857\tbest: 0.9842857 (396)\ttotal: 550ms\tremaining: 136ms\n"
     ]
    },
    {
     "name": "stderr",
     "output_type": "stream",
     "text": [
      "\r",
      "2it [00:01,  1.34it/s]"
     ]
    },
    {
     "name": "stdout",
     "output_type": "stream",
     "text": [
      "Stopped by overfitting detector  (100 iterations wait)\n",
      "\n",
      "bestTest = 0.9842857143\n",
      "bestIteration = 396\n",
      "\n",
      "Shrink model to first 397 iterations.\n",
      "BEST ITERATION:  396\n",
      "gini на обучающей выборке: 99.997\n",
      "gini на проверочной выборке: 96.857\n",
      "\n",
      "********************** 2 фолд обучен! ******************************\n",
      "\n",
      "\n",
      "==================== Обучение 3 фолда! ====================\n",
      "0:\ttest: 0.9570722\ttest1: 0.9104082\tbest: 0.9104082 (0)\ttotal: 1.38ms\tremaining: 690ms\n",
      "100:\ttest: 0.9971938\ttest1: 0.9812245\tbest: 0.9820408 (92)\ttotal: 138ms\tremaining: 546ms\n",
      "200:\ttest: 0.9989796\ttest1: 0.9853061\tbest: 0.9853061 (185)\ttotal: 276ms\tremaining: 411ms\n",
      "300:\ttest: 0.9997321\ttest1: 0.9873469\tbest: 0.9873469 (291)\ttotal: 408ms\tremaining: 270ms\n",
      "400:\ttest: 0.9999872\ttest1: 0.9879592\tbest: 0.9885714 (340)\ttotal: 543ms\tremaining: 134ms\n"
     ]
    },
    {
     "name": "stderr",
     "output_type": "stream",
     "text": [
      "\r",
      "3it [00:02,  1.40it/s]"
     ]
    },
    {
     "name": "stdout",
     "output_type": "stream",
     "text": [
      "Stopped by overfitting detector  (100 iterations wait)\n",
      "\n",
      "bestTest = 0.9885714286\n",
      "bestIteration = 340\n",
      "\n",
      "Shrink model to first 341 iterations.\n",
      "BEST ITERATION:  340\n",
      "gini на обучающей выборке: 99.972\n",
      "gini на проверочной выборке: 97.714\n",
      "\n",
      "********************** 3 фолд обучен! ******************************\n",
      "\n",
      "\n",
      "==================== Обучение 4 фолда! ====================\n",
      "0:\ttest: 0.9469126\ttest1: 0.8696939\tbest: 0.8696939 (0)\ttotal: 1.41ms\tremaining: 703ms\n",
      "100:\ttest: 0.9966709\ttest1: 0.9724490\tbest: 0.9730612 (96)\ttotal: 133ms\tremaining: 525ms\n",
      "200:\ttest: 0.9992985\ttest1: 0.9789796\tbest: 0.9793878 (198)\ttotal: 294ms\tremaining: 438ms\n",
      "300:\ttest: 0.9999235\ttest1: 0.9812245\tbest: 0.9816327 (299)\ttotal: 427ms\tremaining: 282ms\n",
      "400:\ttest: 1.0000000\ttest1: 0.9832653\tbest: 0.9834694 (365)\ttotal: 563ms\tremaining: 139ms\n"
     ]
    },
    {
     "name": "stderr",
     "output_type": "stream",
     "text": [
      "\r",
      "4it [00:02,  1.34it/s]"
     ]
    },
    {
     "name": "stdout",
     "output_type": "stream",
     "text": [
      "499:\ttest: 1.0000000\ttest1: 0.9842857\tbest: 0.9842857 (474)\ttotal: 703ms\tremaining: 0us\n",
      "\n",
      "bestTest = 0.9842857143\n",
      "bestIteration = 474\n",
      "\n",
      "Shrink model to first 475 iterations.\n",
      "BEST ITERATION:  474\n",
      "gini на обучающей выборке: 100.000\n",
      "gini на проверочной выборке: 96.857\n",
      "\n",
      "********************** 4 фолд обучен! ******************************\n",
      "\n",
      "\n",
      "==================== Обучение 5 фолда! ====================\n",
      "0:\ttest: 0.9496805\ttest1: 0.9050000\tbest: 0.9050000 (0)\ttotal: 1.56ms\tremaining: 777ms\n",
      "100:\ttest: 0.9968367\ttest1: 0.9553061\tbest: 0.9553061 (100)\ttotal: 137ms\tremaining: 541ms\n",
      "200:\ttest: 0.9990434\ttest1: 0.9687755\tbest: 0.9693878 (190)\ttotal: 274ms\tremaining: 408ms\n",
      "300:\ttest: 0.9996811\ttest1: 0.9755102\tbest: 0.9755102 (300)\ttotal: 413ms\tremaining: 273ms\n",
      "400:\ttest: 0.9999362\ttest1: 0.9779592\tbest: 0.9783673 (355)\ttotal: 553ms\tremaining: 136ms\n"
     ]
    },
    {
     "name": "stderr",
     "output_type": "stream",
     "text": [
      "5it [00:03,  1.34it/s]\n"
     ]
    },
    {
     "name": "stdout",
     "output_type": "stream",
     "text": [
      "499:\ttest: 0.9999872\ttest1: 0.9795918\tbest: 0.9795918 (449)\ttotal: 684ms\tremaining: 0us\n",
      "\n",
      "bestTest = 0.9795918367\n",
      "bestIteration = 449\n",
      "\n",
      "Shrink model to first 450 iterations.\n",
      "BEST ITERATION:  449\n",
      "gini на обучающей выборке: 99.997\n",
      "gini на проверочной выборке: 95.918\n",
      "\n",
      "********************** 5 фолд обучен! ******************************\n",
      "\n",
      "\n",
      "Количество признаков: 20 => метрика: 97.39590337053377\n",
      "Метрика модели со всеми признаками=97.67345772356708\n",
      "Разница метрики =0.27755435303330955\n",
      "Сохраняем:  feature_12\n",
      "Проверяемый признак: feature_6\n"
     ]
    },
    {
     "name": "stderr",
     "output_type": "stream",
     "text": [
      "\r",
      "0it [00:00, ?it/s]"
     ]
    },
    {
     "name": "stdout",
     "output_type": "stream",
     "text": [
      "==================== Обучение 1 фолда! ====================\n",
      "0:\ttest: 0.9480166\ttest1: 0.9210043\tbest: 0.9210043 (0)\ttotal: 1.49ms\tremaining: 743ms\n",
      "100:\ttest: 0.9957653\ttest1: 0.9955093\tbest: 0.9955093 (100)\ttotal: 138ms\tremaining: 544ms\n",
      "200:\ttest: 0.9989796\ttest1: 0.9967340\tbest: 0.9969382 (139)\ttotal: 275ms\tremaining: 409ms\n"
     ]
    },
    {
     "name": "stderr",
     "output_type": "stream",
     "text": [
      "\r",
      "1it [00:00,  2.57it/s]"
     ]
    },
    {
     "name": "stdout",
     "output_type": "stream",
     "text": [
      "Stopped by overfitting detector  (100 iterations wait)\n",
      "\n",
      "bestTest = 0.9969381506\n",
      "bestIteration = 139\n",
      "\n",
      "Shrink model to first 140 iterations.\n",
      "BEST ITERATION:  139\n",
      "gini на обучающей выборке: 99.487\n",
      "gini на проверочной выборке: 99.388\n",
      "\n",
      "********************** 1 фолд обучен! ******************************\n",
      "\n",
      "\n",
      "==================== Обучение 2 фолда! ====================\n",
      "0:\ttest: 0.9129453\ttest1: 0.9072449\tbest: 0.9072449 (0)\ttotal: 1.42ms\tremaining: 710ms\n",
      "100:\ttest: 0.9975510\ttest1: 0.9779592\tbest: 0.9779592 (100)\ttotal: 146ms\tremaining: 575ms\n",
      "200:\ttest: 0.9992219\ttest1: 0.9818367\tbest: 0.9822449 (184)\ttotal: 297ms\tremaining: 442ms\n",
      "300:\ttest: 0.9997704\ttest1: 0.9848980\tbest: 0.9853061 (258)\ttotal: 435ms\tremaining: 288ms\n",
      "400:\ttest: 0.9999872\ttest1: 0.9865306\tbest: 0.9867347 (398)\ttotal: 580ms\tremaining: 143ms\n"
     ]
    },
    {
     "name": "stderr",
     "output_type": "stream",
     "text": [
      "\r",
      "2it [00:01,  1.57it/s]"
     ]
    },
    {
     "name": "stdout",
     "output_type": "stream",
     "text": [
      "499:\ttest: 1.0000000\ttest1: 0.9875510\tbest: 0.9875510 (499)\ttotal: 718ms\tremaining: 0us\n",
      "\n",
      "bestTest = 0.9875510204\n",
      "bestIteration = 499\n",
      "\n",
      "BEST ITERATION:  499\n",
      "gini на обучающей выборке: 100.000\n",
      "gini на проверочной выборке: 97.510\n",
      "\n",
      "********************** 2 фолд обучен! ******************************\n",
      "\n",
      "\n",
      "==================== Обучение 3 фолда! ====================\n",
      "0:\ttest: 0.9570722\ttest1: 0.9104082\tbest: 0.9104082 (0)\ttotal: 1.53ms\tremaining: 762ms\n",
      "100:\ttest: 0.9980102\ttest1: 0.9808163\tbest: 0.9814286 (51)\ttotal: 142ms\tremaining: 561ms\n",
      "200:\ttest: 0.9993750\ttest1: 0.9863265\tbest: 0.9867347 (192)\ttotal: 287ms\tremaining: 427ms\n",
      "300:\ttest: 0.9998214\ttest1: 0.9881633\tbest: 0.9883673 (251)\ttotal: 421ms\tremaining: 278ms\n"
     ]
    },
    {
     "name": "stderr",
     "output_type": "stream",
     "text": [
      "\r",
      "3it [00:01,  1.66it/s]"
     ]
    },
    {
     "name": "stdout",
     "output_type": "stream",
     "text": [
      "Stopped by overfitting detector  (100 iterations wait)\n",
      "\n",
      "bestTest = 0.9883673469\n",
      "bestIteration = 251\n",
      "\n",
      "Shrink model to first 252 iterations.\n",
      "BEST ITERATION:  251\n",
      "gini на обучающей выборке: 99.923\n",
      "gini на проверочной выборке: 97.673\n",
      "\n",
      "********************** 3 фолд обучен! ******************************\n",
      "\n",
      "\n",
      "==================== Обучение 4 фолда! ====================\n",
      "0:\ttest: 0.9469126\ttest1: 0.8696939\tbest: 0.8696939 (0)\ttotal: 1.39ms\tremaining: 691ms\n",
      "100:\ttest: 0.9971811\ttest1: 0.9740816\tbest: 0.9755102 (98)\ttotal: 136ms\tremaining: 538ms\n",
      "200:\ttest: 0.9994260\ttest1: 0.9828571\tbest: 0.9832653 (199)\ttotal: 270ms\tremaining: 402ms\n",
      "300:\ttest: 0.9998597\ttest1: 0.9853061\tbest: 0.9853061 (299)\ttotal: 427ms\tremaining: 282ms\n",
      "400:\ttest: 0.9999872\ttest1: 0.9871429\tbest: 0.9871429 (391)\ttotal: 563ms\tremaining: 139ms\n"
     ]
    },
    {
     "name": "stderr",
     "output_type": "stream",
     "text": [
      "\r",
      "4it [00:02,  1.48it/s]"
     ]
    },
    {
     "name": "stdout",
     "output_type": "stream",
     "text": [
      "499:\ttest: 1.0000000\ttest1: 0.9873469\tbest: 0.9873469 (460)\ttotal: 695ms\tremaining: 0us\n",
      "\n",
      "bestTest = 0.9873469388\n",
      "bestIteration = 460\n",
      "\n",
      "Shrink model to first 461 iterations.\n",
      "BEST ITERATION:  460\n",
      "gini на обучающей выборке: 100.000\n",
      "gini на проверочной выборке: 97.469\n",
      "\n",
      "********************** 4 фолд обучен! ******************************\n",
      "\n",
      "\n",
      "==================== Обучение 5 фолда! ====================\n",
      "0:\ttest: 0.9496805\ttest1: 0.9050000\tbest: 0.9050000 (0)\ttotal: 1.39ms\tremaining: 692ms\n",
      "100:\ttest: 0.9974234\ttest1: 0.9597959\tbest: 0.9602041 (98)\ttotal: 135ms\tremaining: 535ms\n",
      "200:\ttest: 0.9991837\ttest1: 0.9716327\tbest: 0.9728571 (195)\ttotal: 266ms\tremaining: 396ms\n",
      "300:\ttest: 0.9998214\ttest1: 0.9763265\tbest: 0.9767347 (295)\ttotal: 398ms\tremaining: 263ms\n",
      "400:\ttest: 0.9999362\ttest1: 0.9795918\tbest: 0.9795918 (400)\ttotal: 530ms\tremaining: 131ms\n"
     ]
    },
    {
     "name": "stderr",
     "output_type": "stream",
     "text": [
      "5it [00:03,  1.52it/s]\n"
     ]
    },
    {
     "name": "stdout",
     "output_type": "stream",
     "text": [
      "499:\ttest: 1.0000000\ttest1: 0.9804082\tbest: 0.9808163 (469)\ttotal: 659ms\tremaining: 0us\n",
      "\n",
      "bestTest = 0.9808163265\n",
      "bestIteration = 469\n",
      "\n",
      "Shrink model to first 470 iterations.\n",
      "BEST ITERATION:  469\n",
      "gini на обучающей выборке: 99.997\n",
      "gini на проверочной выборке: 96.163\n",
      "\n",
      "********************** 5 фолд обучен! ******************************\n",
      "\n",
      "\n",
      "Количество признаков: 20 => метрика: 97.64079133184198\n",
      "Метрика модели со всеми признаками=97.67345772356708\n",
      "Разница метрики =0.03266639172510111\n",
      "Сохраняем:  feature_6\n",
      "Проверяемый признак: feature_2\n"
     ]
    },
    {
     "name": "stderr",
     "output_type": "stream",
     "text": [
      "\r",
      "0it [00:00, ?it/s]"
     ]
    },
    {
     "name": "stdout",
     "output_type": "stream",
     "text": [
      "==================== Обучение 1 фолда! ====================\n",
      "0:\ttest: 0.9461224\ttest1: 0.9277404\tbest: 0.9277404 (0)\ttotal: 1.45ms\tremaining: 722ms\n",
      "100:\ttest: 0.9953954\ttest1: 0.9938763\tbest: 0.9938763 (94)\ttotal: 137ms\tremaining: 539ms\n",
      "200:\ttest: 0.9987117\ttest1: 0.9969382\tbest: 0.9969382 (195)\ttotal: 272ms\tremaining: 404ms\n",
      "300:\ttest: 0.9996301\ttest1: 0.9977546\tbest: 0.9977546 (289)\ttotal: 407ms\tremaining: 269ms\n",
      "400:\ttest: 0.9999235\ttest1: 0.9983670\tbest: 0.9983670 (390)\ttotal: 539ms\tremaining: 133ms\n"
     ]
    },
    {
     "name": "stderr",
     "output_type": "stream",
     "text": [
      "\r",
      "1it [00:00,  1.34it/s]"
     ]
    },
    {
     "name": "stdout",
     "output_type": "stream",
     "text": [
      "Stopped by overfitting detector  (100 iterations wait)\n",
      "\n",
      "bestTest = 0.9983670137\n",
      "bestIteration = 390\n",
      "\n",
      "Shrink model to first 391 iterations.\n",
      "BEST ITERATION:  390\n",
      "gini на обучающей выборке: 99.980\n",
      "gini на проверочной выборке: 99.673\n",
      "\n",
      "********************** 1 фолд обучен! ******************************\n",
      "\n",
      "\n",
      "==================== Обучение 2 фолда! ====================\n",
      "0:\ttest: 0.9227222\ttest1: 0.8927551\tbest: 0.8927551 (0)\ttotal: 1.42ms\tremaining: 711ms\n",
      "100:\ttest: 0.9974489\ttest1: 0.9775510\tbest: 0.9775510 (100)\ttotal: 136ms\tremaining: 537ms\n",
      "200:\ttest: 0.9993367\ttest1: 0.9816327\tbest: 0.9822449 (195)\ttotal: 270ms\tremaining: 402ms\n"
     ]
    },
    {
     "name": "stderr",
     "output_type": "stream",
     "text": [
      "\r",
      "2it [00:01,  1.67it/s]"
     ]
    },
    {
     "name": "stdout",
     "output_type": "stream",
     "text": [
      "300:\ttest: 0.9998597\ttest1: 0.9820408\tbest: 0.9838776 (220)\ttotal: 405ms\tremaining: 268ms\n",
      "Stopped by overfitting detector  (100 iterations wait)\n",
      "\n",
      "bestTest = 0.983877551\n",
      "bestIteration = 220\n",
      "\n",
      "Shrink model to first 221 iterations.\n",
      "BEST ITERATION:  220\n",
      "gini на обучающей выборке: 99.895\n",
      "gini на проверочной выборке: 96.776\n",
      "\n",
      "********************** 2 фолд обучен! ******************************\n",
      "\n",
      "\n",
      "==================== Обучение 3 фолда! ====================\n",
      "0:\ttest: 0.9351395\ttest1: 0.8900000\tbest: 0.8900000 (0)\ttotal: 1.39ms\tremaining: 692ms\n",
      "100:\ttest: 0.9975765\ttest1: 0.9802041\tbest: 0.9812245 (94)\ttotal: 136ms\tremaining: 535ms\n",
      "200:\ttest: 0.9991454\ttest1: 0.9842857\tbest: 0.9842857 (188)\ttotal: 269ms\tremaining: 400ms\n",
      "300:\ttest: 0.9997832\ttest1: 0.9861224\tbest: 0.9863265 (290)\ttotal: 401ms\tremaining: 265ms\n",
      "400:\ttest: 0.9999872\ttest1: 0.9881633\tbest: 0.9881633 (396)\ttotal: 533ms\tremaining: 132ms\n"
     ]
    },
    {
     "name": "stderr",
     "output_type": "stream",
     "text": [
      "\r",
      "3it [00:01,  1.49it/s]"
     ]
    },
    {
     "name": "stdout",
     "output_type": "stream",
     "text": [
      "499:\ttest: 1.0000000\ttest1: 0.9891837\tbest: 0.9891837 (495)\ttotal: 664ms\tremaining: 0us\n",
      "\n",
      "bestTest = 0.9891836735\n",
      "bestIteration = 495\n",
      "\n",
      "Shrink model to first 496 iterations.\n",
      "BEST ITERATION:  495\n",
      "gini на обучающей выборке: 100.000\n",
      "gini на проверочной выборке: 97.837\n",
      "\n",
      "********************** 3 фолд обучен! ******************************\n",
      "\n",
      "\n",
      "==================== Обучение 4 фолда! ====================\n",
      "0:\ttest: 0.9489598\ttest1: 0.9024490\tbest: 0.9024490 (0)\ttotal: 1.44ms\tremaining: 721ms\n",
      "100:\ttest: 0.9960076\ttest1: 0.9728571\tbest: 0.9728571 (98)\ttotal: 135ms\tremaining: 533ms\n",
      "200:\ttest: 0.9990944\ttest1: 0.9814286\tbest: 0.9814286 (200)\ttotal: 267ms\tremaining: 397ms\n",
      "300:\ttest: 0.9997704\ttest1: 0.9840816\tbest: 0.9842857 (291)\ttotal: 398ms\tremaining: 263ms\n",
      "400:\ttest: 0.9999617\ttest1: 0.9846939\tbest: 0.9848980 (393)\ttotal: 555ms\tremaining: 137ms\n"
     ]
    },
    {
     "name": "stderr",
     "output_type": "stream",
     "text": [
      "\r",
      "4it [00:02,  1.41it/s]"
     ]
    },
    {
     "name": "stdout",
     "output_type": "stream",
     "text": [
      "499:\ttest: 1.0000000\ttest1: 0.9844898\tbest: 0.9857143 (414)\ttotal: 687ms\tremaining: 0us\n",
      "\n",
      "bestTest = 0.9857142857\n",
      "bestIteration = 414\n",
      "\n",
      "Shrink model to first 415 iterations.\n",
      "BEST ITERATION:  414\n",
      "gini на обучающей выборке: 99.995\n",
      "gini на проверочной выборке: 97.143\n",
      "\n",
      "********************** 4 фолд обучен! ******************************\n",
      "\n",
      "\n",
      "==================== Обучение 5 фолда! ====================\n",
      "0:\ttest: 0.9542214\ttest1: 0.8823469\tbest: 0.8823469 (0)\ttotal: 1.44ms\tremaining: 721ms\n",
      "100:\ttest: 0.9964285\ttest1: 0.9616327\tbest: 0.9618367 (99)\ttotal: 141ms\tremaining: 558ms\n",
      "200:\ttest: 0.9991071\ttest1: 0.9730612\tbest: 0.9730612 (200)\ttotal: 274ms\tremaining: 407ms\n",
      "300:\ttest: 0.9997449\ttest1: 0.9781633\tbest: 0.9785714 (295)\ttotal: 410ms\tremaining: 271ms\n",
      "400:\ttest: 0.9999362\ttest1: 0.9783673\tbest: 0.9789796 (344)\ttotal: 540ms\tremaining: 133ms\n"
     ]
    },
    {
     "name": "stderr",
     "output_type": "stream",
     "text": [
      "5it [00:03,  1.45it/s]\n"
     ]
    },
    {
     "name": "stdout",
     "output_type": "stream",
     "text": [
      "Stopped by overfitting detector  (100 iterations wait)\n",
      "\n",
      "bestTest = 0.9789795918\n",
      "bestIteration = 344\n",
      "\n",
      "Shrink model to first 345 iterations.\n",
      "BEST ITERATION:  344\n",
      "gini на обучающей выборке: 99.972\n",
      "gini на проверочной выборке: 95.796\n",
      "\n",
      "********************** 5 фолд обучен! ******************************\n",
      "\n",
      "\n",
      "Количество признаков: 20 => метрика: 97.44488462868307\n",
      "Метрика модели со всеми признаками=97.67345772356708\n",
      "Разница метрики =0.22857309488401256\n",
      "Сохраняем:  feature_2\n",
      "Проверяемый признак: feature_5\n"
     ]
    },
    {
     "name": "stderr",
     "output_type": "stream",
     "text": [
      "\r",
      "0it [00:00, ?it/s]"
     ]
    },
    {
     "name": "stdout",
     "output_type": "stream",
     "text": [
      "==================== Обучение 1 фолда! ====================\n",
      "0:\ttest: 0.9287181\ttest1: 0.8911002\tbest: 0.8911002 (0)\ttotal: 1.41ms\tremaining: 704ms\n",
      "100:\ttest: 0.9955102\ttest1: 0.9953052\tbest: 0.9953052 (100)\ttotal: 138ms\tremaining: 543ms\n",
      "200:\ttest: 0.9985077\ttest1: 0.9967340\tbest: 0.9967340 (192)\ttotal: 275ms\tremaining: 409ms\n",
      "300:\ttest: 0.9996173\ttest1: 0.9975505\tbest: 0.9977546 (282)\ttotal: 435ms\tremaining: 288ms\n",
      "400:\ttest: 0.9999107\ttest1: 0.9981629\tbest: 0.9981629 (383)\ttotal: 566ms\tremaining: 140ms\n"
     ]
    },
    {
     "name": "stderr",
     "output_type": "stream",
     "text": [
      "\r",
      "1it [00:00,  1.25it/s]"
     ]
    },
    {
     "name": "stdout",
     "output_type": "stream",
     "text": [
      "499:\ttest: 1.0000000\ttest1: 0.9979588\tbest: 0.9983670 (421)\ttotal: 693ms\tremaining: 0us\n",
      "\n",
      "bestTest = 0.9983670137\n",
      "bestIteration = 421\n",
      "\n",
      "Shrink model to first 422 iterations.\n",
      "BEST ITERATION:  421\n",
      "gini на обучающей выборке: 99.990\n",
      "gini на проверочной выборке: 99.673\n",
      "\n",
      "********************** 1 фолд обучен! ******************************\n",
      "\n",
      "\n",
      "==================== Обучение 2 фолда! ====================\n",
      "0:\ttest: 0.9247312\ttest1: 0.8835714\tbest: 0.8835714 (0)\ttotal: 1.41ms\tremaining: 703ms\n",
      "100:\ttest: 0.9972449\ttest1: 0.9793878\tbest: 0.9797959 (99)\ttotal: 139ms\tremaining: 550ms\n",
      "200:\ttest: 0.9991964\ttest1: 0.9820408\tbest: 0.9822449 (197)\ttotal: 277ms\tremaining: 412ms\n",
      "300:\ttest: 0.9997449\ttest1: 0.9836735\tbest: 0.9836735 (275)\ttotal: 411ms\tremaining: 272ms\n",
      "400:\ttest: 0.9999745\ttest1: 0.9859184\tbest: 0.9859184 (400)\ttotal: 542ms\tremaining: 134ms\n"
     ]
    },
    {
     "name": "stderr",
     "output_type": "stream",
     "text": [
      "\r",
      "2it [00:01,  1.28it/s]"
     ]
    },
    {
     "name": "stdout",
     "output_type": "stream",
     "text": [
      "499:\ttest: 1.0000000\ttest1: 0.9855102\tbest: 0.9859184 (400)\ttotal: 675ms\tremaining: 0us\n",
      "\n",
      "bestTest = 0.9859183673\n",
      "bestIteration = 400\n",
      "\n",
      "Shrink model to first 401 iterations.\n",
      "BEST ITERATION:  400\n",
      "gini на обучающей выборке: 99.995\n",
      "gini на проверочной выборке: 97.184\n",
      "\n",
      "********************** 2 фолд обучен! ******************************\n",
      "\n",
      "\n",
      "==================== Обучение 3 фолда! ====================\n",
      "0:\ttest: 0.9201520\ttest1: 0.8864286\tbest: 0.8864286 (0)\ttotal: 1.47ms\tremaining: 735ms\n",
      "100:\ttest: 0.9972449\ttest1: 0.9846939\tbest: 0.9846939 (100)\ttotal: 142ms\tremaining: 561ms\n",
      "200:\ttest: 0.9991326\ttest1: 0.9873469\tbest: 0.9877551 (194)\ttotal: 277ms\tremaining: 412ms\n",
      "300:\ttest: 0.9998342\ttest1: 0.9879592\tbest: 0.9887755 (247)\ttotal: 413ms\tremaining: 273ms\n"
     ]
    },
    {
     "name": "stderr",
     "output_type": "stream",
     "text": [
      "\r",
      "3it [00:02,  1.49it/s]"
     ]
    },
    {
     "name": "stdout",
     "output_type": "stream",
     "text": [
      "Stopped by overfitting detector  (100 iterations wait)\n",
      "\n",
      "bestTest = 0.9887755102\n",
      "bestIteration = 247\n",
      "\n",
      "Shrink model to first 248 iterations.\n",
      "BEST ITERATION:  247\n",
      "gini на обучающей выборке: 99.921\n",
      "gini на проверочной выборке: 97.755\n",
      "\n",
      "********************** 3 фолд обучен! ******************************\n",
      "\n",
      "\n",
      "==================== Обучение 4 фолда! ====================\n",
      "0:\ttest: 0.9467404\ttest1: 0.8800000\tbest: 0.8800000 (0)\ttotal: 1.48ms\tremaining: 740ms\n",
      "100:\ttest: 0.9969387\ttest1: 0.9722449\tbest: 0.9732653 (93)\ttotal: 136ms\tremaining: 536ms\n",
      "200:\ttest: 0.9991454\ttest1: 0.9795918\tbest: 0.9797959 (196)\ttotal: 290ms\tremaining: 431ms\n",
      "300:\ttest: 0.9998087\ttest1: 0.9826531\tbest: 0.9826531 (283)\ttotal: 424ms\tremaining: 280ms\n",
      "400:\ttest: 0.9999872\ttest1: 0.9844898\tbest: 0.9846939 (383)\ttotal: 556ms\tremaining: 137ms\n"
     ]
    },
    {
     "name": "stderr",
     "output_type": "stream",
     "text": [
      "\r",
      "4it [00:02,  1.40it/s]"
     ]
    },
    {
     "name": "stdout",
     "output_type": "stream",
     "text": [
      "499:\ttest: 1.0000000\ttest1: 0.9844898\tbest: 0.9848980 (401)\ttotal: 686ms\tremaining: 0us\n",
      "\n",
      "bestTest = 0.9848979592\n",
      "bestIteration = 401\n",
      "\n",
      "Shrink model to first 402 iterations.\n",
      "BEST ITERATION:  401\n",
      "gini на обучающей выборке: 99.997\n",
      "gini на проверочной выборке: 96.980\n",
      "\n",
      "********************** 4 фолд обучен! ******************************\n",
      "\n",
      "\n",
      "==================== Обучение 5 фолда! ====================\n",
      "0:\ttest: 0.9374801\ttest1: 0.8389796\tbest: 0.8389796 (0)\ttotal: 1.39ms\tremaining: 693ms\n",
      "100:\ttest: 0.9966326\ttest1: 0.9569388\tbest: 0.9569388 (100)\ttotal: 138ms\tremaining: 544ms\n",
      "200:\ttest: 0.9990816\ttest1: 0.9685714\tbest: 0.9685714 (198)\ttotal: 284ms\tremaining: 422ms\n",
      "300:\ttest: 0.9997321\ttest1: 0.9755102\tbest: 0.9755102 (299)\ttotal: 424ms\tremaining: 280ms\n",
      "400:\ttest: 0.9999490\ttest1: 0.9767347\tbest: 0.9769388 (336)\ttotal: 556ms\tremaining: 137ms\n"
     ]
    },
    {
     "name": "stderr",
     "output_type": "stream",
     "text": [
      "5it [00:03,  1.36it/s]\n"
     ]
    },
    {
     "name": "stdout",
     "output_type": "stream",
     "text": [
      "499:\ttest: 1.0000000\ttest1: 0.9783673\tbest: 0.9783673 (492)\ttotal: 688ms\tremaining: 0us\n",
      "\n",
      "bestTest = 0.9783673469\n",
      "bestIteration = 492\n",
      "\n",
      "Shrink model to first 493 iterations.\n",
      "BEST ITERATION:  492\n",
      "gini на обучающей выборке: 100.000\n",
      "gini на проверочной выборке: 95.673\n",
      "\n",
      "********************** 5 фолд обучен! ******************************\n",
      "\n",
      "\n",
      "Количество признаков: 20 => метрика: 97.4530478939892\n",
      "Метрика модели со всеми признаками=97.67345772356708\n",
      "Разница метрики =0.22040982957788913\n",
      "Сохраняем:  feature_5\n",
      "Проверяемый признак: feature_18\n"
     ]
    },
    {
     "name": "stderr",
     "output_type": "stream",
     "text": [
      "\r",
      "0it [00:00, ?it/s]"
     ]
    },
    {
     "name": "stdout",
     "output_type": "stream",
     "text": [
      "==================== Обучение 1 фолда! ====================\n",
      "0:\ttest: 0.9287181\ttest1: 0.8911002\tbest: 0.8911002 (0)\ttotal: 1.34ms\tremaining: 671ms\n",
      "100:\ttest: 0.9963010\ttest1: 0.9955093\tbest: 0.9955093 (95)\ttotal: 134ms\tremaining: 530ms\n",
      "200:\ttest: 0.9989286\ttest1: 0.9973464\tbest: 0.9973464 (198)\ttotal: 265ms\tremaining: 395ms\n",
      "300:\ttest: 0.9997066\ttest1: 0.9981629\tbest: 0.9981629 (300)\ttotal: 396ms\tremaining: 262ms\n",
      "400:\ttest: 0.9999617\ttest1: 0.9987753\tbest: 0.9989794 (387)\ttotal: 528ms\tremaining: 130ms\n"
     ]
    },
    {
     "name": "stderr",
     "output_type": "stream",
     "text": [
      "\r",
      "1it [00:00,  1.30it/s]"
     ]
    },
    {
     "name": "stdout",
     "output_type": "stream",
     "text": [
      "499:\ttest: 1.0000000\ttest1: 0.9991835\tbest: 0.9991835 (413)\ttotal: 678ms\tremaining: 0us\n",
      "\n",
      "bestTest = 0.9991835068\n",
      "bestIteration = 413\n",
      "\n",
      "Shrink model to first 414 iterations.\n",
      "BEST ITERATION:  413\n",
      "gini на обучающей выборке: 99.997\n",
      "gini на проверочной выборке: 99.837\n",
      "\n",
      "********************** 1 фолд обучен! ******************************\n",
      "\n",
      "\n",
      "==================== Обучение 2 фолда! ====================\n",
      "0:\ttest: 0.9336407\ttest1: 0.8947959\tbest: 0.8947959 (0)\ttotal: 1.49ms\tremaining: 743ms\n",
      "100:\ttest: 0.9977806\ttest1: 0.9800000\tbest: 0.9800000 (100)\ttotal: 138ms\tremaining: 545ms\n",
      "200:\ttest: 0.9993240\ttest1: 0.9822449\tbest: 0.9828571 (152)\ttotal: 270ms\tremaining: 402ms\n",
      "300:\ttest: 0.9998342\ttest1: 0.9840816\tbest: 0.9848980 (258)\ttotal: 401ms\tremaining: 265ms\n"
     ]
    },
    {
     "name": "stderr",
     "output_type": "stream",
     "text": [
      "\r",
      "2it [00:01,  1.31it/s]"
     ]
    },
    {
     "name": "stdout",
     "output_type": "stream",
     "text": [
      "400:\ttest: 1.0000000\ttest1: 0.9857143\tbest: 0.9857143 (332)\ttotal: 541ms\tremaining: 134ms\n",
      "499:\ttest: 1.0000000\ttest1: 0.9859184\tbest: 0.9863265 (418)\ttotal: 671ms\tremaining: 0us\n",
      "\n",
      "bestTest = 0.9863265306\n",
      "bestIteration = 418\n",
      "\n",
      "Shrink model to first 419 iterations.\n",
      "BEST ITERATION:  418\n",
      "gini на обучающей выборке: 100.000\n",
      "gini на проверочной выборке: 97.265\n",
      "\n",
      "********************** 2 фолд обучен! ******************************\n",
      "\n",
      "\n",
      "==================== Обучение 3 фолда! ====================\n",
      "0:\ttest: 0.9426396\ttest1: 0.8971429\tbest: 0.8971429 (0)\ttotal: 1.37ms\tremaining: 686ms\n"
     ]
    },
    {
     "name": "stderr",
     "output_type": "stream",
     "text": [
      "\r",
      "3it [00:01,  1.93it/s]"
     ]
    },
    {
     "name": "stdout",
     "output_type": "stream",
     "text": [
      "100:\ttest: 0.9979974\ttest1: 0.9820408\tbest: 0.9834694 (32)\ttotal: 136ms\tremaining: 537ms\n",
      "Stopped by overfitting detector  (100 iterations wait)\n",
      "\n",
      "bestTest = 0.9834693878\n",
      "bestIteration = 32\n",
      "\n",
      "Shrink model to first 33 iterations.\n",
      "BEST ITERATION:  32\n",
      "gini на обучающей выборке: 99.150\n",
      "gini на проверочной выборке: 96.694\n",
      "\n",
      "********************** 3 фолд обучен! ******************************\n",
      "\n",
      "\n",
      "==================== Обучение 4 фолда! ====================\n",
      "0:\ttest: 0.9158025\ttest1: 0.8378571\tbest: 0.8378571 (0)\ttotal: 1.47ms\tremaining: 734ms\n",
      "100:\ttest: 0.9970918\ttest1: 0.9763265\tbest: 0.9771429 (98)\ttotal: 134ms\tremaining: 529ms\n",
      "200:\ttest: 0.9992219\ttest1: 0.9834694\tbest: 0.9834694 (199)\ttotal: 262ms\tremaining: 389ms\n"
     ]
    },
    {
     "name": "stderr",
     "output_type": "stream",
     "text": [
      "\r",
      "4it [00:02,  1.87it/s]"
     ]
    },
    {
     "name": "stdout",
     "output_type": "stream",
     "text": [
      "300:\ttest: 0.9998214\ttest1: 0.9859184\tbest: 0.9861224 (279)\ttotal: 389ms\tremaining: 257ms\n",
      "Stopped by overfitting detector  (100 iterations wait)\n",
      "\n",
      "bestTest = 0.986122449\n",
      "bestIteration = 279\n",
      "\n",
      "Shrink model to first 280 iterations.\n",
      "BEST ITERATION:  279\n",
      "gini на обучающей выборке: 99.952\n",
      "gini на проверочной выборке: 97.224\n",
      "\n",
      "********************** 4 фолд обучен! ******************************\n",
      "\n",
      "\n",
      "==================== Обучение 5 фолда! ====================\n",
      "0:\ttest: 0.9448207\ttest1: 0.8877551\tbest: 0.8877551 (0)\ttotal: 1.38ms\tremaining: 688ms\n",
      "100:\ttest: 0.9975000\ttest1: 0.9628571\tbest: 0.9628571 (100)\ttotal: 151ms\tremaining: 595ms\n",
      "200:\ttest: 0.9991199\ttest1: 0.9738776\tbest: 0.9740816 (198)\ttotal: 281ms\tremaining: 418ms\n",
      "300:\ttest: 0.9998087\ttest1: 0.9777551\tbest: 0.9777551 (293)\ttotal: 410ms\tremaining: 271ms\n",
      "400:\ttest: 0.9999617\ttest1: 0.9802041\tbest: 0.9806122 (368)\ttotal: 541ms\tremaining: 133ms\n"
     ]
    },
    {
     "name": "stderr",
     "output_type": "stream",
     "text": [
      "5it [00:03,  1.65it/s]\n"
     ]
    },
    {
     "name": "stdout",
     "output_type": "stream",
     "text": [
      "Stopped by overfitting detector  (100 iterations wait)\n",
      "\n",
      "bestTest = 0.9806122449\n",
      "bestIteration = 368\n",
      "\n",
      "Shrink model to first 369 iterations.\n",
      "BEST ITERATION:  368\n",
      "gini на обучающей выборке: 99.987\n",
      "gini на проверочной выборке: 96.122\n",
      "\n",
      "********************** 5 фолд обучен! ******************************\n",
      "\n",
      "\n",
      "Количество признаков: 20 => метрика: 97.42856476332113\n",
      "Метрика модели со всеми признаками=97.67345772356708\n",
      "Разница метрики =0.24489296024594864\n",
      "Сохраняем:  feature_18\n",
      "Проверяемый признак: feature_22\n"
     ]
    },
    {
     "name": "stderr",
     "output_type": "stream",
     "text": [
      "\r",
      "0it [00:00, ?it/s]"
     ]
    },
    {
     "name": "stdout",
     "output_type": "stream",
     "text": [
      "==================== Обучение 1 фолда! ====================\n",
      "0:\ttest: 0.9159056\ttest1: 0.8997755\tbest: 0.8997755 (0)\ttotal: 1.33ms\tremaining: 664ms\n",
      "100:\ttest: 0.9956760\ttest1: 0.9926516\tbest: 0.9928557 (97)\ttotal: 136ms\tremaining: 536ms\n",
      "200:\ttest: 0.9988776\ttest1: 0.9961217\tbest: 0.9961217 (199)\ttotal: 283ms\tremaining: 420ms\n",
      "300:\ttest: 0.9997577\ttest1: 0.9969382\tbest: 0.9969382 (271)\ttotal: 421ms\tremaining: 278ms\n"
     ]
    },
    {
     "name": "stderr",
     "output_type": "stream",
     "text": [
      "\r",
      "1it [00:00,  1.36it/s]"
     ]
    },
    {
     "name": "stdout",
     "output_type": "stream",
     "text": [
      "400:\ttest: 0.9999872\ttest1: 0.9967340\tbest: 0.9971423 (364)\ttotal: 559ms\tremaining: 138ms\n",
      "Stopped by overfitting detector  (100 iterations wait)\n",
      "\n",
      "bestTest = 0.9971422739\n",
      "bestIteration = 364\n",
      "\n",
      "Shrink model to first 365 iterations.\n",
      "BEST ITERATION:  364\n",
      "gini на обучающей выборке: 99.982\n",
      "gini на проверочной выборке: 99.428\n",
      "\n",
      "********************** 1 фолд обучен! ******************************\n",
      "\n",
      "\n",
      "==================== Обучение 2 фолда! ====================\n",
      "0:\ttest: 0.9278754\ttest1: 0.8738776\tbest: 0.8738776 (0)\ttotal: 1.35ms\tremaining: 674ms\n",
      "100:\ttest: 0.9978444\ttest1: 0.9689796\tbest: 0.9695918 (94)\ttotal: 143ms\tremaining: 566ms\n",
      "200:\ttest: 0.9993495\ttest1: 0.9753061\tbest: 0.9759184 (183)\ttotal: 282ms\tremaining: 420ms\n",
      "300:\ttest: 0.9998724\ttest1: 0.9793878\tbest: 0.9795918 (290)\ttotal: 410ms\tremaining: 271ms\n",
      "400:\ttest: 1.0000000\ttest1: 0.9808163\tbest: 0.9812245 (394)\ttotal: 535ms\tremaining: 132ms\n"
     ]
    },
    {
     "name": "stderr",
     "output_type": "stream",
     "text": [
      "\r",
      "2it [00:01,  1.34it/s]"
     ]
    },
    {
     "name": "stdout",
     "output_type": "stream",
     "text": [
      "499:\ttest: 1.0000000\ttest1: 0.9836735\tbest: 0.9836735 (496)\ttotal: 664ms\tremaining: 0us\n",
      "\n",
      "bestTest = 0.9836734694\n",
      "bestIteration = 496\n",
      "\n",
      "Shrink model to first 497 iterations.\n",
      "BEST ITERATION:  496\n",
      "gini на обучающей выборке: 100.000\n",
      "gini на проверочной выборке: 96.735\n",
      "\n",
      "********************** 2 фолд обучен! ******************************\n",
      "\n",
      "\n",
      "==================== Обучение 3 фолда! ====================\n",
      "0:\ttest: 0.9291254\ttest1: 0.9343878\tbest: 0.9343878 (0)\ttotal: 1.35ms\tremaining: 673ms\n",
      "100:\ttest: 0.9976275\ttest1: 0.9836735\tbest: 0.9838776 (75)\ttotal: 130ms\tremaining: 513ms\n",
      "200:\ttest: 0.9994388\ttest1: 0.9871429\tbest: 0.9875510 (181)\ttotal: 260ms\tremaining: 387ms\n",
      "300:\ttest: 0.9999617\ttest1: 0.9902041\tbest: 0.9904082 (293)\ttotal: 388ms\tremaining: 257ms\n"
     ]
    },
    {
     "name": "stderr",
     "output_type": "stream",
     "text": [
      "\r",
      "3it [00:02,  1.36it/s]"
     ]
    },
    {
     "name": "stdout",
     "output_type": "stream",
     "text": [
      "400:\ttest: 1.0000000\ttest1: 0.9912245\tbest: 0.9918367 (377)\ttotal: 517ms\tremaining: 128ms\n",
      "499:\ttest: 1.0000000\ttest1: 0.9930612\tbest: 0.9932653 (461)\ttotal: 643ms\tremaining: 0us\n",
      "\n",
      "bestTest = 0.9932653061\n",
      "bestIteration = 461\n",
      "\n",
      "Shrink model to first 462 iterations.\n",
      "BEST ITERATION:  461\n",
      "gini на обучающей выборке: 100.000\n",
      "gini на проверочной выборке: 98.653\n",
      "\n",
      "********************** 3 фолд обучен! ******************************\n",
      "\n",
      "\n",
      "==================== Обучение 4 фолда! ====================\n",
      "0:\ttest: 0.9350885\ttest1: 0.8742857\tbest: 0.8742857 (0)\ttotal: 1.33ms\tremaining: 665ms\n",
      "100:\ttest: 0.9965943\ttest1: 0.9842857\tbest: 0.9844898 (98)\ttotal: 132ms\tremaining: 521ms\n",
      "200:\ttest: 0.9989158\ttest1: 0.9918367\tbest: 0.9918367 (195)\ttotal: 258ms\tremaining: 384ms\n",
      "300:\ttest: 0.9997959\ttest1: 0.9938776\tbest: 0.9940816 (259)\ttotal: 386ms\tremaining: 255ms\n",
      "400:\ttest: 0.9999617\ttest1: 0.9942857\tbest: 0.9946939 (334)\ttotal: 513ms\tremaining: 127ms\n",
      "Stopped by overfitting detector  (100 iterations wait)\n",
      "\n",
      "bestTest = 0.9946938776\n",
      "bestIteration = 334\n",
      "\n",
      "Shrink model to first 335 iterations.\n",
      "BEST ITERATION:  334\n"
     ]
    },
    {
     "name": "stderr",
     "output_type": "stream",
     "text": [
      "\r",
      "4it [00:02,  1.43it/s]"
     ]
    },
    {
     "name": "stdout",
     "output_type": "stream",
     "text": [
      "gini на обучающей выборке: 99.982\n",
      "gini на проверочной выборке: 98.939\n",
      "\n",
      "********************** 4 фолд обучен! ******************************\n",
      "\n",
      "\n",
      "==================== Обучение 5 фолда! ====================\n",
      "0:\ttest: 0.9246547\ttest1: 0.8669388\tbest: 0.8669388 (0)\ttotal: 1.45ms\tremaining: 725ms\n",
      "100:\ttest: 0.9971301\ttest1: 0.9640816\tbest: 0.9640816 (100)\ttotal: 130ms\tremaining: 512ms\n",
      "200:\ttest: 0.9993495\ttest1: 0.9697959\tbest: 0.9708163 (181)\ttotal: 261ms\tremaining: 388ms\n",
      "300:\ttest: 0.9998724\ttest1: 0.9726531\tbest: 0.9726531 (300)\ttotal: 389ms\tremaining: 257ms\n"
     ]
    },
    {
     "name": "stderr",
     "output_type": "stream",
     "text": [
      "5it [00:03,  1.39it/s]\n"
     ]
    },
    {
     "name": "stdout",
     "output_type": "stream",
     "text": [
      "400:\ttest: 1.0000000\ttest1: 0.9753061\tbest: 0.9755102 (386)\ttotal: 518ms\tremaining: 128ms\n",
      "499:\ttest: 1.0000000\ttest1: 0.9759184\tbest: 0.9763265 (437)\ttotal: 667ms\tremaining: 0us\n",
      "\n",
      "bestTest = 0.9763265306\n",
      "bestIteration = 437\n",
      "\n",
      "Shrink model to first 438 iterations.\n",
      "BEST ITERATION:  437\n",
      "gini на обучающей выборке: 100.000\n",
      "gini на проверочной выборке: 95.265\n",
      "\n",
      "********************** 5 фолд обучен! ******************************\n",
      "\n",
      "\n",
      "Количество признаков: 20 => метрика: 97.80405830427702\n",
      "Метрика модели со всеми признаками=97.67345772356708\n",
      "Разница метрики =-0.13060058070993819\n",
      "Удаляем:  feature_22\n",
      "Проверяемый признак: feature_19\n"
     ]
    },
    {
     "name": "stderr",
     "output_type": "stream",
     "text": [
      "\r",
      "0it [00:00, ?it/s]"
     ]
    },
    {
     "name": "stdout",
     "output_type": "stream",
     "text": [
      "==================== Обучение 1 фолда! ====================\n",
      "0:\ttest: 0.9286671\ttest1: 0.9338641\tbest: 0.9338641 (0)\ttotal: 1.76ms\tremaining: 880ms\n",
      "100:\ttest: 0.9965944\ttest1: 0.9899980\tbest: 0.9906103 (96)\ttotal: 129ms\tremaining: 509ms\n",
      "200:\ttest: 0.9990689\ttest1: 0.9934681\tbest: 0.9934681 (193)\ttotal: 256ms\tremaining: 380ms\n",
      "300:\ttest: 0.9996556\ttest1: 0.9936722\tbest: 0.9938763 (273)\ttotal: 382ms\tremaining: 253ms\n"
     ]
    },
    {
     "name": "stderr",
     "output_type": "stream",
     "text": [
      "\r",
      "1it [00:00,  1.33it/s]"
     ]
    },
    {
     "name": "stdout",
     "output_type": "stream",
     "text": [
      "400:\ttest: 0.9999107\ttest1: 0.9942845\tbest: 0.9942845 (332)\ttotal: 509ms\tremaining: 126ms\n",
      "499:\ttest: 1.0000000\ttest1: 0.9948969\tbest: 0.9948969 (470)\ttotal: 660ms\tremaining: 0us\n",
      "\n",
      "bestTest = 0.9948969177\n",
      "bestIteration = 470\n",
      "\n",
      "Shrink model to first 471 iterations.\n",
      "BEST ITERATION:  470\n",
      "gini на обучающей выборке: 99.995\n",
      "gini на проверочной выборке: 98.979\n",
      "\n",
      "********************** 1 фолд обучен! ******************************\n",
      "\n",
      "\n",
      "==================== Обучение 2 фолда! ====================\n",
      "0:\ttest: 0.9076072\ttest1: 0.8946939\tbest: 0.8946939 (0)\ttotal: 1.31ms\tremaining: 656ms\n",
      "100:\ttest: 0.9965433\ttest1: 0.9726531\tbest: 0.9738776 (95)\ttotal: 130ms\tremaining: 514ms\n",
      "200:\ttest: 0.9991326\ttest1: 0.9787755\tbest: 0.9789796 (194)\ttotal: 257ms\tremaining: 382ms\n",
      "300:\ttest: 0.9997832\ttest1: 0.9818367\tbest: 0.9818367 (282)\ttotal: 381ms\tremaining: 252ms\n"
     ]
    },
    {
     "name": "stderr",
     "output_type": "stream",
     "text": [
      "\r",
      "2it [00:01,  1.37it/s]"
     ]
    },
    {
     "name": "stdout",
     "output_type": "stream",
     "text": [
      "400:\ttest: 0.9999745\ttest1: 0.9834694\tbest: 0.9834694 (375)\ttotal: 505ms\tremaining: 125ms\n",
      "499:\ttest: 1.0000000\ttest1: 0.9840816\tbest: 0.9846939 (487)\ttotal: 628ms\tremaining: 0us\n",
      "\n",
      "bestTest = 0.9846938776\n",
      "bestIteration = 487\n",
      "\n",
      "Shrink model to first 488 iterations.\n",
      "BEST ITERATION:  487\n",
      "gini на обучающей выборке: 100.000\n",
      "gini на проверочной выборке: 96.939\n",
      "\n",
      "********************** 2 фолд обучен! ******************************\n",
      "\n",
      "\n",
      "==================== Обучение 3 фолда! ====================\n",
      "0:\ttest: 0.9582839\ttest1: 0.9553061\tbest: 0.9553061 (0)\ttotal: 1.44ms\tremaining: 717ms\n",
      "100:\ttest: 0.9974234\ttest1: 0.9795918\tbest: 0.9802041 (64)\ttotal: 139ms\tremaining: 549ms\n",
      "200:\ttest: 0.9990816\ttest1: 0.9857143\tbest: 0.9861224 (189)\ttotal: 264ms\tremaining: 393ms\n",
      "300:\ttest: 0.9998980\ttest1: 0.9879592\tbest: 0.9879592 (288)\ttotal: 390ms\tremaining: 258ms\n",
      "400:\ttest: 0.9999745\ttest1: 0.9885714\tbest: 0.9897959 (349)\ttotal: 512ms\tremaining: 127ms\n",
      "Stopped by overfitting detector  (100 iterations wait)\n",
      "\n",
      "bestTest = 0.9897959184\n",
      "bestIteration = 349\n",
      "\n",
      "Shrink model to first 350 iterations.\n"
     ]
    },
    {
     "name": "stderr",
     "output_type": "stream",
     "text": [
      "\r",
      "3it [00:02,  1.42it/s]"
     ]
    },
    {
     "name": "stdout",
     "output_type": "stream",
     "text": [
      "BEST ITERATION:  349\n",
      "gini на обучающей выборке: 99.990\n",
      "gini на проверочной выборке: 97.959\n",
      "\n",
      "********************** 3 фолд обучен! ******************************\n",
      "\n",
      "\n",
      "==================== Обучение 4 фолда! ====================\n",
      "0:\ttest: 0.9158408\ttest1: 0.8786735\tbest: 0.8786735 (0)\ttotal: 1.51ms\tremaining: 753ms\n",
      "100:\ttest: 0.9960204\ttest1: 0.9820408\tbest: 0.9824490 (98)\ttotal: 128ms\tremaining: 507ms\n",
      "200:\ttest: 0.9987627\ttest1: 0.9881633\tbest: 0.9883673 (171)\ttotal: 256ms\tremaining: 380ms\n",
      "300:\ttest: 0.9996939\ttest1: 0.9908163\tbest: 0.9910204 (293)\ttotal: 383ms\tremaining: 253ms\n"
     ]
    },
    {
     "name": "stderr",
     "output_type": "stream",
     "text": [
      "\r",
      "4it [00:02,  1.46it/s]"
     ]
    },
    {
     "name": "stdout",
     "output_type": "stream",
     "text": [
      "400:\ttest: 0.9999362\ttest1: 0.9910204\tbest: 0.9918367 (334)\ttotal: 535ms\tremaining: 132ms\n",
      "Stopped by overfitting detector  (100 iterations wait)\n",
      "\n",
      "bestTest = 0.9918367347\n",
      "bestIteration = 334\n",
      "\n",
      "Shrink model to first 335 iterations.\n",
      "BEST ITERATION:  334\n",
      "gini на обучающей выборке: 99.969\n",
      "gini на проверочной выборке: 98.367\n",
      "\n",
      "********************** 4 фолд обучен! ******************************\n",
      "\n",
      "\n",
      "==================== Обучение 5 фолда! ====================\n",
      "0:\ttest: 0.9235258\ttest1: 0.8375510\tbest: 0.8375510 (0)\ttotal: 1.38ms\tremaining: 688ms\n",
      "100:\ttest: 0.9961479\ttest1: 0.9555102\tbest: 0.9555102 (100)\ttotal: 126ms\tremaining: 500ms\n",
      "200:\ttest: 0.9991071\ttest1: 0.9659184\tbest: 0.9663265 (197)\ttotal: 253ms\tremaining: 376ms\n",
      "300:\ttest: 0.9997959\ttest1: 0.9695918\tbest: 0.9697959 (296)\ttotal: 383ms\tremaining: 253ms\n",
      "400:\ttest: 0.9999617\ttest1: 0.9722449\tbest: 0.9722449 (391)\ttotal: 505ms\tremaining: 125ms\n"
     ]
    },
    {
     "name": "stderr",
     "output_type": "stream",
     "text": [
      "5it [00:03,  1.42it/s]\n"
     ]
    },
    {
     "name": "stdout",
     "output_type": "stream",
     "text": [
      "499:\ttest: 1.0000000\ttest1: 0.9732653\tbest: 0.9732653 (461)\ttotal: 630ms\tremaining: 0us\n",
      "\n",
      "bestTest = 0.9732653061\n",
      "bestIteration = 461\n",
      "\n",
      "Shrink model to first 462 iterations.\n",
      "BEST ITERATION:  461\n",
      "gini на обучающей выборке: 100.000\n",
      "gini на проверочной выборке: 94.653\n",
      "\n",
      "********************** 5 фолд обучен! ******************************\n",
      "\n",
      "\n",
      "Количество признаков: 19 => метрика: 97.37955017892031\n",
      "Метрика модели со всеми признаками=97.80405830427702\n",
      "Разница метрики =0.42450812535670934\n",
      "Сохраняем:  feature_19\n",
      "Проверяемый признак: feature_4\n"
     ]
    },
    {
     "name": "stderr",
     "output_type": "stream",
     "text": [
      "\r",
      "0it [00:00, ?it/s]"
     ]
    },
    {
     "name": "stdout",
     "output_type": "stream",
     "text": [
      "==================== Обучение 1 фолда! ====================\n",
      "0:\ttest: 0.9138202\ttest1: 0.9179424\tbest: 0.9179424 (0)\ttotal: 2.06ms\tremaining: 1.03s\n",
      "100:\ttest: 0.9932526\ttest1: 0.9912227\tbest: 0.9916309 (90)\ttotal: 128ms\tremaining: 506ms\n"
     ]
    },
    {
     "name": "stderr",
     "output_type": "stream",
     "text": [
      "\r",
      "1it [00:00,  2.58it/s]"
     ]
    },
    {
     "name": "stdout",
     "output_type": "stream",
     "text": [
      "200:\ttest: 0.9984056\ttest1: 0.9940804\tbest: 0.9942845 (154)\ttotal: 259ms\tremaining: 385ms\n",
      "Stopped by overfitting detector  (100 iterations wait)\n",
      "\n",
      "bestTest = 0.9942845479\n",
      "bestIteration = 154\n",
      "\n",
      "Shrink model to first 155 iterations.\n",
      "BEST ITERATION:  154\n",
      "gini на обучающей выборке: 99.388\n",
      "gini на проверочной выборке: 98.857\n",
      "\n",
      "********************** 1 фолд обучен! ******************************\n",
      "\n",
      "\n",
      "==================== Обучение 2 фолда! ====================\n",
      "0:\ttest: 0.8965293\ttest1: 0.8422449\tbest: 0.8422449 (0)\ttotal: 1.36ms\tremaining: 677ms\n",
      "100:\ttest: 0.9950510\ttest1: 0.9630612\tbest: 0.9634694 (94)\ttotal: 127ms\tremaining: 501ms\n",
      "200:\ttest: 0.9985331\ttest1: 0.9697959\tbest: 0.9697959 (171)\ttotal: 276ms\tremaining: 410ms\n",
      "300:\ttest: 0.9996811\ttest1: 0.9740816\tbest: 0.9742857 (294)\ttotal: 405ms\tremaining: 268ms\n",
      "400:\ttest: 0.9999872\ttest1: 0.9751020\tbest: 0.9753061 (374)\ttotal: 528ms\tremaining: 130ms\n"
     ]
    },
    {
     "name": "stderr",
     "output_type": "stream",
     "text": [
      "\r",
      "2it [00:01,  1.68it/s]"
     ]
    },
    {
     "name": "stdout",
     "output_type": "stream",
     "text": [
      "499:\ttest: 1.0000000\ttest1: 0.9757143\tbest: 0.9759184 (443)\ttotal: 653ms\tremaining: 0us\n",
      "\n",
      "bestTest = 0.9759183673\n",
      "bestIteration = 443\n",
      "\n",
      "Shrink model to first 444 iterations.\n",
      "BEST ITERATION:  443\n",
      "gini на обучающей выборке: 100.000\n",
      "gini на проверочной выборке: 95.184\n",
      "\n",
      "********************** 2 фолд обучен! ******************************\n",
      "\n",
      "\n",
      "==================== Обучение 3 фолда! ====================\n",
      "0:\ttest: 0.9551015\ttest1: 0.9461224\tbest: 0.9461224 (0)\ttotal: 1.46ms\tremaining: 728ms\n",
      "100:\ttest: 0.9951785\ttest1: 0.9777551\tbest: 0.9781633 (82)\ttotal: 137ms\tremaining: 540ms\n",
      "200:\ttest: 0.9987372\ttest1: 0.9816327\tbest: 0.9816327 (200)\ttotal: 264ms\tremaining: 392ms\n",
      "300:\ttest: 0.9997066\ttest1: 0.9838776\tbest: 0.9840816 (277)\ttotal: 387ms\tremaining: 256ms\n"
     ]
    },
    {
     "name": "stderr",
     "output_type": "stream",
     "text": [
      "\r",
      "3it [00:01,  1.55it/s]"
     ]
    },
    {
     "name": "stdout",
     "output_type": "stream",
     "text": [
      "400:\ttest: 0.9999745\ttest1: 0.9867347\tbest: 0.9873469 (389)\ttotal: 512ms\tremaining: 126ms\n",
      "Stopped by overfitting detector  (100 iterations wait)\n",
      "\n",
      "bestTest = 0.9873469388\n",
      "bestIteration = 389\n",
      "\n",
      "Shrink model to first 390 iterations.\n",
      "BEST ITERATION:  389\n",
      "gini на обучающей выборке: 99.990\n",
      "gini на проверочной выборке: 97.469\n",
      "\n",
      "********************** 3 фолд обучен! ******************************\n",
      "\n",
      "\n",
      "==================== Обучение 4 фолда! ====================\n",
      "0:\ttest: 0.8949859\ttest1: 0.8684694\tbest: 0.8684694 (0)\ttotal: 1.34ms\tremaining: 668ms\n",
      "100:\ttest: 0.9929846\ttest1: 0.9791837\tbest: 0.9791837 (100)\ttotal: 130ms\tremaining: 514ms\n",
      "200:\ttest: 0.9982398\ttest1: 0.9883673\tbest: 0.9883673 (185)\ttotal: 256ms\tremaining: 380ms\n"
     ]
    },
    {
     "name": "stderr",
     "output_type": "stream",
     "text": [
      "\r",
      "4it [00:02,  1.59it/s]"
     ]
    },
    {
     "name": "stdout",
     "output_type": "stream",
     "text": [
      "300:\ttest: 0.9994515\ttest1: 0.9922449\tbest: 0.9922449 (299)\ttotal: 383ms\tremaining: 253ms\n",
      "Stopped by overfitting detector  (100 iterations wait)\n",
      "\n",
      "bestTest = 0.992244898\n",
      "bestIteration = 299\n",
      "\n",
      "Shrink model to first 300 iterations.\n",
      "BEST ITERATION:  299\n",
      "gini на обучающей выборке: 99.885\n",
      "gini на проверочной выборке: 98.449\n",
      "\n",
      "********************** 4 фолд обучен! ******************************\n",
      "\n",
      "\n",
      "==================== Обучение 5 фолда! ====================\n",
      "0:\ttest: 0.9162170\ttest1: 0.8517347\tbest: 0.8517347 (0)\ttotal: 1.31ms\tremaining: 654ms\n",
      "100:\ttest: 0.9941836\ttest1: 0.9510204\tbest: 0.9510204 (96)\ttotal: 130ms\tremaining: 513ms\n",
      "200:\ttest: 0.9979974\ttest1: 0.9616327\tbest: 0.9616327 (200)\ttotal: 254ms\tremaining: 377ms\n",
      "300:\ttest: 0.9995536\ttest1: 0.9689796\tbest: 0.9691837 (294)\ttotal: 380ms\tremaining: 251ms\n",
      "400:\ttest: 0.9999107\ttest1: 0.9726531\tbest: 0.9728571 (379)\ttotal: 501ms\tremaining: 124ms\n"
     ]
    },
    {
     "name": "stderr",
     "output_type": "stream",
     "text": [
      "5it [00:03,  1.58it/s]\n"
     ]
    },
    {
     "name": "stdout",
     "output_type": "stream",
     "text": [
      "499:\ttest: 1.0000000\ttest1: 0.9732653\tbest: 0.9734694 (453)\ttotal: 642ms\tremaining: 0us\n",
      "\n",
      "bestTest = 0.9734693878\n",
      "bestIteration = 453\n",
      "\n",
      "Shrink model to first 454 iterations.\n",
      "BEST ITERATION:  453\n",
      "gini на обучающей выборке: 100.000\n",
      "gini на проверочной выборке: 94.694\n",
      "\n",
      "********************** 5 фолд обучен! ******************************\n",
      "\n",
      "\n",
      "Количество признаков: 19 => метрика: 96.93056558814585\n",
      "Метрика модели со всеми признаками=97.80405830427702\n",
      "Разница метрики =0.8734927161311674\n",
      "Сохраняем:  feature_4\n",
      "Проверяемый признак: feature_17\n"
     ]
    },
    {
     "name": "stderr",
     "output_type": "stream",
     "text": [
      "\r",
      "0it [00:00, ?it/s]"
     ]
    },
    {
     "name": "stdout",
     "output_type": "stream",
     "text": [
      "==================== Обучение 1 фолда! ====================\n",
      "0:\ttest: 0.9156633\ttest1: 0.8633395\tbest: 0.8633395 (0)\ttotal: 1.32ms\tremaining: 657ms\n",
      "100:\ttest: 0.9948469\ttest1: 0.9928557\tbest: 0.9928557 (100)\ttotal: 130ms\tremaining: 515ms\n",
      "200:\ttest: 0.9987500\ttest1: 0.9948969\tbest: 0.9951010 (197)\ttotal: 286ms\tremaining: 426ms\n",
      "300:\ttest: 0.9996556\ttest1: 0.9957134\tbest: 0.9957134 (287)\ttotal: 426ms\tremaining: 281ms\n"
     ]
    },
    {
     "name": "stderr",
     "output_type": "stream",
     "text": [
      "\r",
      "1it [00:00,  1.55it/s]"
     ]
    },
    {
     "name": "stdout",
     "output_type": "stream",
     "text": [
      "400:\ttest: 0.9999490\ttest1: 0.9955093\tbest: 0.9959175 (309)\ttotal: 551ms\tremaining: 136ms\n",
      "Stopped by overfitting detector  (100 iterations wait)\n",
      "\n",
      "bestTest = 0.9959175342\n",
      "bestIteration = 309\n",
      "\n",
      "Shrink model to first 310 iterations.\n",
      "BEST ITERATION:  309\n",
      "gini на обучающей выборке: 99.941\n",
      "gini на проверочной выборке: 99.184\n",
      "\n",
      "********************** 1 фолд обучен! ******************************\n",
      "\n",
      "\n",
      "==================== Обучение 2 фолда! ====================\n",
      "0:\ttest: 0.8965293\ttest1: 0.8638776\tbest: 0.8638776 (0)\ttotal: 1.33ms\tremaining: 664ms\n",
      "100:\ttest: 0.9958928\ttest1: 0.9708163\tbest: 0.9708163 (95)\ttotal: 127ms\tremaining: 500ms\n",
      "200:\ttest: 0.9989158\ttest1: 0.9777551\tbest: 0.9779592 (199)\ttotal: 262ms\tremaining: 390ms\n",
      "300:\ttest: 0.9997704\ttest1: 0.9812245\tbest: 0.9814286 (297)\ttotal: 409ms\tremaining: 270ms\n"
     ]
    },
    {
     "name": "stderr",
     "output_type": "stream",
     "text": [
      "\r",
      "2it [00:01,  1.41it/s]"
     ]
    },
    {
     "name": "stdout",
     "output_type": "stream",
     "text": [
      "400:\ttest: 0.9999745\ttest1: 0.9832653\tbest: 0.9834694 (337)\ttotal: 543ms\tremaining: 134ms\n",
      "499:\ttest: 1.0000000\ttest1: 0.9844898\tbest: 0.9846939 (443)\ttotal: 670ms\tremaining: 0us\n",
      "\n",
      "bestTest = 0.9846938776\n",
      "bestIteration = 443\n",
      "\n",
      "Shrink model to first 444 iterations.\n",
      "BEST ITERATION:  443\n",
      "gini на обучающей выборке: 100.000\n",
      "gini на проверочной выборке: 96.939\n",
      "\n",
      "********************** 2 фолд обучен! ******************************\n",
      "\n",
      "\n",
      "==================== Обучение 3 фолда! ====================\n",
      "0:\ttest: 0.9335323\ttest1: 0.9240816\tbest: 0.9240816 (0)\ttotal: 1.3ms\tremaining: 650ms\n",
      "100:\ttest: 0.9959311\ttest1: 0.9808163\tbest: 0.9814286 (79)\ttotal: 132ms\tremaining: 523ms\n",
      "200:\ttest: 0.9990944\ttest1: 0.9846939\tbest: 0.9851020 (195)\ttotal: 260ms\tremaining: 386ms\n",
      "300:\ttest: 0.9998469\ttest1: 0.9869388\tbest: 0.9869388 (283)\ttotal: 386ms\tremaining: 255ms\n",
      "400:\ttest: 0.9999872\ttest1: 0.9885714\tbest: 0.9885714 (389)\ttotal: 510ms\tremaining: 126ms\n"
     ]
    },
    {
     "name": "stderr",
     "output_type": "stream",
     "text": [
      "\r",
      "3it [00:02,  1.39it/s]"
     ]
    },
    {
     "name": "stdout",
     "output_type": "stream",
     "text": [
      "499:\ttest: 1.0000000\ttest1: 0.9889796\tbest: 0.9891837 (481)\ttotal: 640ms\tremaining: 0us\n",
      "\n",
      "bestTest = 0.9891836735\n",
      "bestIteration = 481\n",
      "\n",
      "Shrink model to first 482 iterations.\n",
      "BEST ITERATION:  481\n",
      "gini на обучающей выборке: 100.000\n",
      "gini на проверочной выборке: 97.837\n",
      "\n",
      "********************** 3 фолд обучен! ******************************\n",
      "\n",
      "\n",
      "==================== Обучение 4 фолда! ====================\n",
      "0:\ttest: 0.9164913\ttest1: 0.8873469\tbest: 0.8873469 (0)\ttotal: 1.4ms\tremaining: 697ms\n",
      "100:\ttest: 0.9945663\ttest1: 0.9887755\tbest: 0.9887755 (96)\ttotal: 133ms\tremaining: 524ms\n",
      "200:\ttest: 0.9984694\ttest1: 0.9934694\tbest: 0.9934694 (198)\ttotal: 257ms\tremaining: 383ms\n",
      "300:\ttest: 0.9997066\ttest1: 0.9942857\tbest: 0.9946939 (262)\ttotal: 381ms\tremaining: 252ms\n"
     ]
    },
    {
     "name": "stderr",
     "output_type": "stream",
     "text": [
      "\r",
      "4it [00:02,  1.55it/s]"
     ]
    },
    {
     "name": "stdout",
     "output_type": "stream",
     "text": [
      "Stopped by overfitting detector  (100 iterations wait)\n",
      "\n",
      "bestTest = 0.9946938776\n",
      "bestIteration = 262\n",
      "\n",
      "Shrink model to first 263 iterations.\n",
      "BEST ITERATION:  262\n",
      "gini на обучающей выборке: 99.895\n",
      "gini на проверочной выборке: 98.939\n",
      "\n",
      "********************** 4 фолд обучен! ******************************\n",
      "\n",
      "\n",
      "==================== Обучение 5 фолда! ====================\n",
      "0:\ttest: 0.9527545\ttest1: 0.8638776\tbest: 0.8638776 (0)\ttotal: 1.37ms\tremaining: 684ms\n",
      "100:\ttest: 0.9955994\ttest1: 0.9463265\tbest: 0.9463265 (100)\ttotal: 142ms\tremaining: 562ms\n",
      "200:\ttest: 0.9990306\ttest1: 0.9612245\tbest: 0.9612245 (197)\ttotal: 287ms\tremaining: 427ms\n",
      "300:\ttest: 0.9998087\ttest1: 0.9653061\tbest: 0.9653061 (297)\ttotal: 432ms\tremaining: 285ms\n"
     ]
    },
    {
     "name": "stderr",
     "output_type": "stream",
     "text": [
      "5it [00:03,  1.44it/s]"
     ]
    },
    {
     "name": "stdout",
     "output_type": "stream",
     "text": [
      "400:\ttest: 0.9999872\ttest1: 0.9685714\tbest: 0.9685714 (400)\ttotal: 571ms\tremaining: 141ms\n",
      "499:\ttest: 1.0000000\ttest1: 0.9702041\tbest: 0.9706122 (487)\ttotal: 708ms\tremaining: 0us\n",
      "\n",
      "bestTest = 0.9706122449\n",
      "bestIteration = 487\n",
      "\n",
      "Shrink model to first 488 iterations.\n",
      "BEST ITERATION:  487\n",
      "gini на обучающей выборке: 100.000\n",
      "gini на проверочной выборке: 94.122\n",
      "\n",
      "********************** 5 фолд обучен! ******************************\n",
      "\n",
      "\n",
      "Количество признаков: 19 => метрика: 97.40404830640155\n",
      "Метрика модели со всеми признаками=97.80405830427702\n",
      "Разница метрики =0.40000999787547187\n",
      "Сохраняем:  feature_17\n",
      "Общее количество признаков для сохранения:  20\n",
      "\n",
      "==========================\n",
      "Конец жадного отбора факторов Backward Selection!\n"
     ]
    },
    {
     "name": "stderr",
     "output_type": "stream",
     "text": [
      "\n"
     ]
    }
   ],
   "source": [
    "deep_bselection_res = selection.deep_backward_selection(strat=strat, tol=0.001)"
   ]
  },
  {
   "cell_type": "code",
   "execution_count": 15,
   "id": "83a871ef",
   "metadata": {},
   "outputs": [
    {
     "data": {
      "text/html": [
       "<div>\n",
       "<style scoped>\n",
       "    .dataframe tbody tr th:only-of-type {\n",
       "        vertical-align: middle;\n",
       "    }\n",
       "\n",
       "    .dataframe tbody tr th {\n",
       "        vertical-align: top;\n",
       "    }\n",
       "\n",
       "    .dataframe thead th {\n",
       "        text-align: right;\n",
       "    }\n",
       "</style>\n",
       "<table border=\"1\" class=\"dataframe\">\n",
       "  <thead>\n",
       "    <tr style=\"text-align: right;\">\n",
       "      <th></th>\n",
       "      <th>Метод отбора</th>\n",
       "      <th>Количество факторов</th>\n",
       "      <th>Метрика gini на кросс-валидации</th>\n",
       "      <th>Метрика gini на отложенном множестве</th>\n",
       "    </tr>\n",
       "  </thead>\n",
       "  <tbody>\n",
       "    <tr>\n",
       "      <th>0</th>\n",
       "      <td>Mean_importance</td>\n",
       "      <td>25</td>\n",
       "      <td>97.12651</td>\n",
       "      <td>94.57750</td>\n",
       "    </tr>\n",
       "    <tr>\n",
       "      <th>1</th>\n",
       "      <td>Forward_selection</td>\n",
       "      <td>7</td>\n",
       "      <td>96.77549</td>\n",
       "      <td>93.74190</td>\n",
       "    </tr>\n",
       "    <tr>\n",
       "      <th>2</th>\n",
       "      <td>Backward_selection</td>\n",
       "      <td>8</td>\n",
       "      <td>97.02860</td>\n",
       "      <td>94.82640</td>\n",
       "    </tr>\n",
       "    <tr>\n",
       "      <th>3</th>\n",
       "      <td>Deep_backward_selection</td>\n",
       "      <td>20</td>\n",
       "      <td>97.80406</td>\n",
       "      <td>95.33310</td>\n",
       "    </tr>\n",
       "  </tbody>\n",
       "</table>\n",
       "</div>"
      ],
      "text/plain": [
       "              Метод отбора  Количество факторов  \\\n",
       "0          Mean_importance                   25   \n",
       "1        Forward_selection                    7   \n",
       "2       Backward_selection                    8   \n",
       "3  Deep_backward_selection                   20   \n",
       "\n",
       "   Метрика gini на кросс-валидации  Метрика gini на отложенном множестве  \n",
       "0                         97.12651                              94.57750  \n",
       "1                         96.77549                              93.74190  \n",
       "2                         97.02860                              94.82640  \n",
       "3                         97.80406                              95.33310  "
      ]
     },
     "execution_count": 15,
     "metadata": {},
     "output_type": "execute_result"
    }
   ],
   "source": [
    "selection.report(X_val,y_val)"
   ]
  },
  {
   "cell_type": "code",
   "execution_count": null,
   "id": "b43deac8",
   "metadata": {},
   "outputs": [],
   "source": []
  },
  {
   "cell_type": "code",
   "execution_count": null,
   "id": "4048327a",
   "metadata": {},
   "outputs": [],
   "source": []
  },
  {
   "cell_type": "raw",
   "id": "f2a6c822",
   "metadata": {},
   "source": []
  },
  {
   "cell_type": "raw",
   "id": "d8620cd9",
   "metadata": {},
   "source": []
  }
 ],
 "metadata": {
  "kernelspec": {
   "display_name": "Python 3 (ipykernel)",
   "language": "python",
   "name": "python3"
  },
  "language_info": {
   "codemirror_mode": {
    "name": "ipython",
    "version": 3
   },
   "file_extension": ".py",
   "mimetype": "text/x-python",
   "name": "python",
   "nbconvert_exporter": "python",
   "pygments_lexer": "ipython3",
   "version": "3.9.7"
  }
 },
 "nbformat": 4,
 "nbformat_minor": 5
}
