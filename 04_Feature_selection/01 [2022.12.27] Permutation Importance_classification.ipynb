{
 "cells": [
  {
   "cell_type": "markdown",
   "id": "2bfe493e",
   "metadata": {},
   "source": [
    "# Демонстрация автоматического отбора признаков с помощью PrimarySelection"
   ]
  },
  {
   "cell_type": "markdown",
   "id": "5d778031",
   "metadata": {},
   "source": [
    "## Структура ноутбука:\n",
    "- Применение библиотеки PrimarySelection для задач классификации\n",
    "    * Приведение числовых признаков к типу float, замена бесконечных значений;\n",
    "    * Проверка на пропущенные значения;\n",
    "    * Корреляционный анализ;\n",
    "    * Анализ признаков относительно глубины алгоритма;\n",
    "    * Проверка всех библиотек Permutation Importance (sklearn, eli5, собственный kib) на CatBoostClassifier   "
   ]
  },
  {
   "cell_type": "code",
   "execution_count": 1,
   "id": "089b36d4",
   "metadata": {},
   "outputs": [
    {
     "data": {
      "text/html": [
       "<style>.container {width:95% !important;}</style>"
      ],
      "text/plain": [
       "<IPython.core.display.HTML object>"
      ]
     },
     "metadata": {},
     "output_type": "display_data"
    }
   ],
   "source": [
    "# расширяем поле, убираем предупреждения\n",
    "from IPython.core.display import display, HTML\n",
    "display(HTML('<style>.container {width:95% !important;}</style>'))\n",
    "\n",
    "import warnings\n",
    "warnings.filterwarnings('ignore')"
   ]
  },
  {
   "cell_type": "code",
   "execution_count": 2,
   "id": "40f0f6e7",
   "metadata": {},
   "outputs": [],
   "source": [
    "# Стандартные библиотеки для анализа\n",
    "import pandas as pd\n",
    "\n",
    "from sklearn.model_selection import train_test_split, StratifiedKFold\n",
    "from sklearn.metrics import roc_auc_score, mean_absolute_percentage_error\n",
    "\n",
    "import matplotlib.pylab as pl"
   ]
  },
  {
   "cell_type": "code",
   "execution_count": 3,
   "id": "10f913e6",
   "metadata": {},
   "outputs": [],
   "source": [
    "import sys\n",
    "sys.path.append('../')\n",
    "\n",
    "# Наша разработанная библиотека\n",
    "from autobinary import SentColumns, CatBoostEncoder, NansAnalysis, PrimarySelection, base_pipe"
   ]
  },
  {
   "cell_type": "markdown",
   "id": "e9758402",
   "metadata": {},
   "source": [
    "* sklearn:  0.24.2\n",
    "* xgboost:  1.5.2\n",
    "* matplotlib:  3.1.1\n",
    "* autobinary:  1.0.3"
   ]
  },
  {
   "cell_type": "code",
   "execution_count": 4,
   "id": "aafb7f6b",
   "metadata": {},
   "outputs": [
    {
     "name": "stdout",
     "output_type": "stream",
     "text": [
      "sklearn:  1.0.2\n",
      "xgboost:  1.5.2\n",
      "matplotlib:  3.5.1\n",
      "autobinary:  1.0.6\n"
     ]
    }
   ],
   "source": [
    "import sklearn as sk\n",
    "import xgboost as xgb\n",
    "import matplotlib as mplot\n",
    "import autobinary as ab\n",
    "\n",
    "print('sklearn: ', sk.__version__)\n",
    "print('xgboost: ', xgb.__version__)\n",
    "print('matplotlib: ', mplot.__version__)\n",
    "print('autobinary: ', ab.__version__)"
   ]
  },
  {
   "cell_type": "code",
   "execution_count": 5,
   "id": "96fbb8bc",
   "metadata": {},
   "outputs": [
    {
     "data": {
      "text/plain": [
       "'1.21.5'"
      ]
     },
     "execution_count": 5,
     "metadata": {},
     "output_type": "execute_result"
    }
   ],
   "source": [
    "import numpy as np\n",
    "np.__version__"
   ]
  },
  {
   "cell_type": "code",
   "execution_count": 6,
   "id": "21d6483b",
   "metadata": {},
   "outputs": [
    {
     "data": {
      "text/plain": [
       "'1.7.3'"
      ]
     },
     "execution_count": 6,
     "metadata": {},
     "output_type": "execute_result"
    }
   ],
   "source": [
    "import scipy\n",
    "scipy.__version__"
   ]
  },
  {
   "cell_type": "code",
   "execution_count": 7,
   "id": "b76b401c",
   "metadata": {},
   "outputs": [],
   "source": [
    "# eli5==0.13.0"
   ]
  },
  {
   "cell_type": "code",
   "execution_count": 8,
   "id": "16c54791",
   "metadata": {},
   "outputs": [
    {
     "name": "stdout",
     "output_type": "stream",
     "text": [
      "Размерность данных: (891, 12)\n"
     ]
    },
    {
     "data": {
      "text/html": [
       "<div>\n",
       "<style scoped>\n",
       "    .dataframe tbody tr th:only-of-type {\n",
       "        vertical-align: middle;\n",
       "    }\n",
       "\n",
       "    .dataframe tbody tr th {\n",
       "        vertical-align: top;\n",
       "    }\n",
       "\n",
       "    .dataframe thead th {\n",
       "        text-align: right;\n",
       "    }\n",
       "</style>\n",
       "<table border=\"1\" class=\"dataframe\">\n",
       "  <thead>\n",
       "    <tr style=\"text-align: right;\">\n",
       "      <th></th>\n",
       "      <th>PassengerId</th>\n",
       "      <th>Survived</th>\n",
       "      <th>Pclass</th>\n",
       "      <th>Name</th>\n",
       "      <th>Sex</th>\n",
       "      <th>Age</th>\n",
       "      <th>SibSp</th>\n",
       "      <th>Parch</th>\n",
       "      <th>Ticket</th>\n",
       "      <th>Fare</th>\n",
       "      <th>Cabin</th>\n",
       "      <th>Embarked</th>\n",
       "    </tr>\n",
       "  </thead>\n",
       "  <tbody>\n",
       "    <tr>\n",
       "      <th>0</th>\n",
       "      <td>1</td>\n",
       "      <td>0</td>\n",
       "      <td>3</td>\n",
       "      <td>Braund, Mr. Owen Harris</td>\n",
       "      <td>male</td>\n",
       "      <td>22.0</td>\n",
       "      <td>1</td>\n",
       "      <td>0</td>\n",
       "      <td>A/5 21171</td>\n",
       "      <td>7.2500</td>\n",
       "      <td>NaN</td>\n",
       "      <td>S</td>\n",
       "    </tr>\n",
       "    <tr>\n",
       "      <th>1</th>\n",
       "      <td>2</td>\n",
       "      <td>1</td>\n",
       "      <td>1</td>\n",
       "      <td>Cumings, Mrs. John Bradley (Florence Briggs Th...</td>\n",
       "      <td>female</td>\n",
       "      <td>38.0</td>\n",
       "      <td>1</td>\n",
       "      <td>0</td>\n",
       "      <td>PC 17599</td>\n",
       "      <td>71.2833</td>\n",
       "      <td>C85</td>\n",
       "      <td>C</td>\n",
       "    </tr>\n",
       "  </tbody>\n",
       "</table>\n",
       "</div>"
      ],
      "text/plain": [
       "   PassengerId  Survived  Pclass  \\\n",
       "0            1         0       3   \n",
       "1            2         1       1   \n",
       "\n",
       "                                                Name     Sex   Age  SibSp  \\\n",
       "0                            Braund, Mr. Owen Harris    male  22.0      1   \n",
       "1  Cumings, Mrs. John Bradley (Florence Briggs Th...  female  38.0      1   \n",
       "\n",
       "   Parch     Ticket     Fare Cabin Embarked  \n",
       "0      0  A/5 21171   7.2500   NaN        S  \n",
       "1      0   PC 17599  71.2833   C85        C  "
      ]
     },
     "execution_count": 8,
     "metadata": {},
     "output_type": "execute_result"
    }
   ],
   "source": [
    "sample = pd.read_csv('../data/train_titanic.csv')\n",
    "\n",
    "print('Размерность данных:', sample.shape)\n",
    "sample.head(2)"
   ]
  },
  {
   "cell_type": "code",
   "execution_count": 9,
   "id": "0e4610e1",
   "metadata": {},
   "outputs": [],
   "source": [
    "num_columns = [\n",
    "    'Age', 'Fare'\n",
    "]\n",
    "\n",
    "cat_columns = [\n",
    "    'Pclass', 'Sex', 'Embarked', 'SibSp', 'Parch'\n",
    "]\n",
    "\n",
    "features = num_columns+cat_columns\n",
    "\n",
    "target = 'Survived'"
   ]
  },
  {
   "cell_type": "code",
   "execution_count": 10,
   "id": "29c41b1b",
   "metadata": {},
   "outputs": [
    {
     "name": "stdout",
     "output_type": "stream",
     "text": [
      "Определены количественные и категориальные переменные!\n"
     ]
    }
   ],
   "source": [
    "# Обновление пайплайна трансформации\n",
    "\n",
    "prep_pipe = base_pipe(\n",
    "    num_columns=num_columns, \n",
    "    cat_columns=cat_columns\n",
    ")"
   ]
  },
  {
   "cell_type": "code",
   "execution_count": 11,
   "id": "b96e3f6e",
   "metadata": {},
   "outputs": [
    {
     "name": "stdout",
     "output_type": "stream",
     "text": [
      "Все бесконечные значения заменены на пропуски, количественные переменные приведены к типу float!\n"
     ]
    },
    {
     "data": {
      "text/html": [
       "<div>\n",
       "<style scoped>\n",
       "    .dataframe tbody tr th:only-of-type {\n",
       "        vertical-align: middle;\n",
       "    }\n",
       "\n",
       "    .dataframe tbody tr th {\n",
       "        vertical-align: top;\n",
       "    }\n",
       "\n",
       "    .dataframe thead th {\n",
       "        text-align: right;\n",
       "    }\n",
       "</style>\n",
       "<table border=\"1\" class=\"dataframe\">\n",
       "  <thead>\n",
       "    <tr style=\"text-align: right;\">\n",
       "      <th></th>\n",
       "      <th>PassengerId</th>\n",
       "      <th>Survived</th>\n",
       "      <th>Pclass</th>\n",
       "      <th>Name</th>\n",
       "      <th>Sex</th>\n",
       "      <th>Age</th>\n",
       "      <th>SibSp</th>\n",
       "      <th>Parch</th>\n",
       "      <th>Ticket</th>\n",
       "      <th>Fare</th>\n",
       "      <th>Cabin</th>\n",
       "      <th>Embarked</th>\n",
       "    </tr>\n",
       "  </thead>\n",
       "  <tbody>\n",
       "    <tr>\n",
       "      <th>0</th>\n",
       "      <td>1</td>\n",
       "      <td>0</td>\n",
       "      <td>3</td>\n",
       "      <td>Braund, Mr. Owen Harris</td>\n",
       "      <td>male</td>\n",
       "      <td>22.0</td>\n",
       "      <td>1</td>\n",
       "      <td>0</td>\n",
       "      <td>A/5 21171</td>\n",
       "      <td>7.2500</td>\n",
       "      <td>NaN</td>\n",
       "      <td>S</td>\n",
       "    </tr>\n",
       "    <tr>\n",
       "      <th>1</th>\n",
       "      <td>2</td>\n",
       "      <td>1</td>\n",
       "      <td>1</td>\n",
       "      <td>Cumings, Mrs. John Bradley (Florence Briggs Th...</td>\n",
       "      <td>female</td>\n",
       "      <td>38.0</td>\n",
       "      <td>1</td>\n",
       "      <td>0</td>\n",
       "      <td>PC 17599</td>\n",
       "      <td>71.2833</td>\n",
       "      <td>C85</td>\n",
       "      <td>C</td>\n",
       "    </tr>\n",
       "    <tr>\n",
       "      <th>2</th>\n",
       "      <td>3</td>\n",
       "      <td>1</td>\n",
       "      <td>3</td>\n",
       "      <td>Heikkinen, Miss. Laina</td>\n",
       "      <td>female</td>\n",
       "      <td>26.0</td>\n",
       "      <td>0</td>\n",
       "      <td>0</td>\n",
       "      <td>STON/O2. 3101282</td>\n",
       "      <td>7.9250</td>\n",
       "      <td>NaN</td>\n",
       "      <td>S</td>\n",
       "    </tr>\n",
       "    <tr>\n",
       "      <th>3</th>\n",
       "      <td>4</td>\n",
       "      <td>1</td>\n",
       "      <td>1</td>\n",
       "      <td>Futrelle, Mrs. Jacques Heath (Lily May Peel)</td>\n",
       "      <td>female</td>\n",
       "      <td>35.0</td>\n",
       "      <td>1</td>\n",
       "      <td>0</td>\n",
       "      <td>113803</td>\n",
       "      <td>53.1000</td>\n",
       "      <td>C123</td>\n",
       "      <td>S</td>\n",
       "    </tr>\n",
       "    <tr>\n",
       "      <th>4</th>\n",
       "      <td>5</td>\n",
       "      <td>0</td>\n",
       "      <td>3</td>\n",
       "      <td>Allen, Mr. William Henry</td>\n",
       "      <td>male</td>\n",
       "      <td>35.0</td>\n",
       "      <td>0</td>\n",
       "      <td>0</td>\n",
       "      <td>373450</td>\n",
       "      <td>8.0500</td>\n",
       "      <td>NaN</td>\n",
       "      <td>S</td>\n",
       "    </tr>\n",
       "  </tbody>\n",
       "</table>\n",
       "</div>"
      ],
      "text/plain": [
       "   PassengerId  Survived  Pclass  \\\n",
       "0            1         0       3   \n",
       "1            2         1       1   \n",
       "2            3         1       3   \n",
       "3            4         1       1   \n",
       "4            5         0       3   \n",
       "\n",
       "                                                Name     Sex   Age  SibSp  \\\n",
       "0                            Braund, Mr. Owen Harris    male  22.0      1   \n",
       "1  Cumings, Mrs. John Bradley (Florence Briggs Th...  female  38.0      1   \n",
       "2                             Heikkinen, Miss. Laina  female  26.0      0   \n",
       "3       Futrelle, Mrs. Jacques Heath (Lily May Peel)  female  35.0      1   \n",
       "4                           Allen, Mr. William Henry    male  35.0      0   \n",
       "\n",
       "   Parch            Ticket     Fare Cabin Embarked  \n",
       "0      0         A/5 21171   7.2500   NaN        S  \n",
       "1      0          PC 17599  71.2833   C85        C  \n",
       "2      0  STON/O2. 3101282   7.9250   NaN        S  \n",
       "3      0            113803  53.1000  C123        S  \n",
       "4      0            373450   8.0500   NaN        S  "
      ]
     },
     "execution_count": 11,
     "metadata": {},
     "output_type": "execute_result"
    }
   ],
   "source": [
    "# обработка бесконечных и пропущенных значений\n",
    "\n",
    "nans = NansAnalysis(df=sample)\n",
    "\n",
    "sample = nans.to_types(num_columns=num_columns)\n",
    "sample.head()"
   ]
  },
  {
   "cell_type": "code",
   "execution_count": 12,
   "id": "382c0d7d",
   "metadata": {},
   "outputs": [
    {
     "data": {
      "text/html": [
       "<div>\n",
       "<style scoped>\n",
       "    .dataframe tbody tr th:only-of-type {\n",
       "        vertical-align: middle;\n",
       "    }\n",
       "\n",
       "    .dataframe tbody tr th {\n",
       "        vertical-align: top;\n",
       "    }\n",
       "\n",
       "    .dataframe thead th {\n",
       "        text-align: right;\n",
       "    }\n",
       "</style>\n",
       "<table border=\"1\" class=\"dataframe\">\n",
       "  <thead>\n",
       "    <tr style=\"text-align: right;\">\n",
       "      <th></th>\n",
       "      <th>feature</th>\n",
       "      <th>cnt_null</th>\n",
       "      <th>share_nans</th>\n",
       "    </tr>\n",
       "  </thead>\n",
       "  <tbody>\n",
       "    <tr>\n",
       "      <th>10</th>\n",
       "      <td>Cabin</td>\n",
       "      <td>687</td>\n",
       "      <td>0.77</td>\n",
       "    </tr>\n",
       "    <tr>\n",
       "      <th>5</th>\n",
       "      <td>Age</td>\n",
       "      <td>177</td>\n",
       "      <td>0.20</td>\n",
       "    </tr>\n",
       "    <tr>\n",
       "      <th>11</th>\n",
       "      <td>Embarked</td>\n",
       "      <td>2</td>\n",
       "      <td>0.00</td>\n",
       "    </tr>\n",
       "    <tr>\n",
       "      <th>0</th>\n",
       "      <td>PassengerId</td>\n",
       "      <td>0</td>\n",
       "      <td>0.00</td>\n",
       "    </tr>\n",
       "    <tr>\n",
       "      <th>1</th>\n",
       "      <td>Survived</td>\n",
       "      <td>0</td>\n",
       "      <td>0.00</td>\n",
       "    </tr>\n",
       "  </tbody>\n",
       "</table>\n",
       "</div>"
      ],
      "text/plain": [
       "        feature  cnt_null  share_nans\n",
       "10        Cabin       687        0.77\n",
       "5           Age       177        0.20\n",
       "11     Embarked         2        0.00\n",
       "0   PassengerId         0        0.00\n",
       "1      Survived         0        0.00"
      ]
     },
     "metadata": {},
     "output_type": "display_data"
    },
    {
     "name": "stdout",
     "output_type": "stream",
     "text": [
      "Количество столбцов до: 12\n",
      "==================================================\n",
      "Удалены столбцы, имеющие долю пропусков > 90.0 %, количество оставшихся : 12 \n"
     ]
    }
   ],
   "source": [
    "# Проводим анализ на пропущенные значения. Столбцы имеющие пропусков больше percent.\n",
    "\n",
    "feat_after_nans = nans.fit(percent = 0.9)\n",
    "\n",
    "# Обновляем факторы\n",
    "\n",
    "num_columns = list(filter(lambda x: x in feat_after_nans, num_columns))\n",
    "cat_columns = list(filter(lambda x: x in feat_after_nans, cat_columns))"
   ]
  },
  {
   "cell_type": "code",
   "execution_count": 13,
   "id": "ccfbcb52",
   "metadata": {},
   "outputs": [
    {
     "data": {
      "text/html": [
       "<div>\n",
       "<style scoped>\n",
       "    .dataframe tbody tr th:only-of-type {\n",
       "        vertical-align: middle;\n",
       "    }\n",
       "\n",
       "    .dataframe tbody tr th {\n",
       "        vertical-align: top;\n",
       "    }\n",
       "\n",
       "    .dataframe thead th {\n",
       "        text-align: right;\n",
       "    }\n",
       "</style>\n",
       "<table border=\"1\" class=\"dataframe\">\n",
       "  <thead>\n",
       "    <tr style=\"text-align: right;\">\n",
       "      <th></th>\n",
       "      <th>feature</th>\n",
       "      <th>cnt_null</th>\n",
       "      <th>share_nans</th>\n",
       "    </tr>\n",
       "  </thead>\n",
       "  <tbody>\n",
       "    <tr>\n",
       "      <th>10</th>\n",
       "      <td>Cabin</td>\n",
       "      <td>687</td>\n",
       "      <td>0.77</td>\n",
       "    </tr>\n",
       "    <tr>\n",
       "      <th>5</th>\n",
       "      <td>Age</td>\n",
       "      <td>177</td>\n",
       "      <td>0.20</td>\n",
       "    </tr>\n",
       "    <tr>\n",
       "      <th>11</th>\n",
       "      <td>Embarked</td>\n",
       "      <td>2</td>\n",
       "      <td>0.00</td>\n",
       "    </tr>\n",
       "    <tr>\n",
       "      <th>0</th>\n",
       "      <td>PassengerId</td>\n",
       "      <td>0</td>\n",
       "      <td>0.00</td>\n",
       "    </tr>\n",
       "    <tr>\n",
       "      <th>1</th>\n",
       "      <td>Survived</td>\n",
       "      <td>0</td>\n",
       "      <td>0.00</td>\n",
       "    </tr>\n",
       "    <tr>\n",
       "      <th>2</th>\n",
       "      <td>Pclass</td>\n",
       "      <td>0</td>\n",
       "      <td>0.00</td>\n",
       "    </tr>\n",
       "    <tr>\n",
       "      <th>3</th>\n",
       "      <td>Name</td>\n",
       "      <td>0</td>\n",
       "      <td>0.00</td>\n",
       "    </tr>\n",
       "    <tr>\n",
       "      <th>4</th>\n",
       "      <td>Sex</td>\n",
       "      <td>0</td>\n",
       "      <td>0.00</td>\n",
       "    </tr>\n",
       "    <tr>\n",
       "      <th>6</th>\n",
       "      <td>SibSp</td>\n",
       "      <td>0</td>\n",
       "      <td>0.00</td>\n",
       "    </tr>\n",
       "    <tr>\n",
       "      <th>7</th>\n",
       "      <td>Parch</td>\n",
       "      <td>0</td>\n",
       "      <td>0.00</td>\n",
       "    </tr>\n",
       "    <tr>\n",
       "      <th>8</th>\n",
       "      <td>Ticket</td>\n",
       "      <td>0</td>\n",
       "      <td>0.00</td>\n",
       "    </tr>\n",
       "    <tr>\n",
       "      <th>9</th>\n",
       "      <td>Fare</td>\n",
       "      <td>0</td>\n",
       "      <td>0.00</td>\n",
       "    </tr>\n",
       "  </tbody>\n",
       "</table>\n",
       "</div>"
      ],
      "text/plain": [
       "        feature  cnt_null  share_nans\n",
       "10        Cabin       687        0.77\n",
       "5           Age       177        0.20\n",
       "11     Embarked         2        0.00\n",
       "0   PassengerId         0        0.00\n",
       "1      Survived         0        0.00\n",
       "2        Pclass         0        0.00\n",
       "3          Name         0        0.00\n",
       "4           Sex         0        0.00\n",
       "6         SibSp         0        0.00\n",
       "7         Parch         0        0.00\n",
       "8        Ticket         0        0.00\n",
       "9          Fare         0        0.00"
      ]
     },
     "execution_count": 13,
     "metadata": {},
     "output_type": "execute_result"
    }
   ],
   "source": [
    "# Функция nans_df - датафрейм с пропущенными значениями\n",
    "\n",
    "nans.nans_df"
   ]
  },
  {
   "cell_type": "code",
   "execution_count": 14,
   "id": "e1b23f88",
   "metadata": {},
   "outputs": [],
   "source": [
    "# Разделение на обучение и тест\n",
    "\n",
    "X_train, X_valid, y_train, y_valid = train_test_split(\n",
    "    sample,\n",
    "    sample[target],\n",
    "    test_size=0.3,\n",
    "    stratify=sample[target],\n",
    "    random_state=42\n",
    ")"
   ]
  },
  {
   "cell_type": "markdown",
   "id": "5104d5c2",
   "metadata": {},
   "source": [
    "# Использование класса PrimarySelection"
   ]
  },
  {
   "cell_type": "markdown",
   "id": "b5c473ad",
   "metadata": {},
   "source": [
    "### Класс PrimarySelection используется для анализа качества данных и отбора факторов.\n",
    "\n",
    "* В параметры передаются тренировочная выборка, пайплайн обработки факторов, количественные и категориальные списки факторов, название таргета, тип модели и тип задачи."
   ]
  },
  {
   "cell_type": "code",
   "execution_count": 15,
   "id": "28097e7a",
   "metadata": {},
   "outputs": [
    {
     "name": "stdout",
     "output_type": "stream",
     "text": [
      "Класс первичного отбора факторов инициализирован!\n"
     ]
    }
   ],
   "source": [
    "# Инициализация класса первичного отбора факторов\n",
    "\n",
    "feature_selection = PrimarySelection(df_train=X_train,\n",
    "                                     base_pipe=base_pipe,\n",
    "                                     num_columns=num_columns,\n",
    "                                     cat_columns=cat_columns,\n",
    "                                     target=target,\n",
    "                                     model_type='lightboost',\n",
    "                                     task_type='classification')"
   ]
  },
  {
   "cell_type": "markdown",
   "id": "6def8782",
   "metadata": {},
   "source": [
    "## 1. Корреляционный анализ"
   ]
  },
  {
   "cell_type": "markdown",
   "id": "c88a0380",
   "metadata": {},
   "source": [
    "* method - метод расчета корреляций (spearman / pearson);\n",
    "* threshold - порог при котором фактор является коррелирующим;\n",
    "* drop_with_most_correlations:\n",
    "    * True - исключается фактор с наибольшим количеством коррелирующих с ним факторов с корреляцией выше порогового значения;\n",
    "    * False - исключается фактор с наименьшим Джини из списка коррелирующих факторов."
   ]
  },
  {
   "cell_type": "code",
   "execution_count": 16,
   "id": "920ff7b9",
   "metadata": {},
   "outputs": [
    {
     "name": "stdout",
     "output_type": "stream",
     "text": [
      "Определены количественные и категориальные переменные!\n",
      "Количество факторов до: 7\n",
      "==================================================\n",
      "Количество факторов после корреляционного анализа: 6\n"
     ]
    }
   ],
   "source": [
    "# Корреляционный анализ \n",
    "\n",
    "feat_after_corr = feature_selection.corr_analysis(method='spearman',\n",
    "                                                  threshold=0.4, \n",
    "                                                  drop_with_most_correlations=True)"
   ]
  },
  {
   "cell_type": "code",
   "execution_count": 17,
   "id": "9b1f2f39",
   "metadata": {},
   "outputs": [
    {
     "data": {
      "text/html": [
       "<div>\n",
       "<style scoped>\n",
       "    .dataframe tbody tr th:only-of-type {\n",
       "        vertical-align: middle;\n",
       "    }\n",
       "\n",
       "    .dataframe tbody tr th {\n",
       "        vertical-align: top;\n",
       "    }\n",
       "\n",
       "    .dataframe thead th {\n",
       "        text-align: right;\n",
       "    }\n",
       "</style>\n",
       "<table border=\"1\" class=\"dataframe\">\n",
       "  <thead>\n",
       "    <tr style=\"text-align: right;\">\n",
       "      <th></th>\n",
       "      <th>Корреляция более 40.0%</th>\n",
       "    </tr>\n",
       "  </thead>\n",
       "  <tbody>\n",
       "    <tr>\n",
       "      <th>Pclass</th>\n",
       "      <td>['Fare']</td>\n",
       "    </tr>\n",
       "  </tbody>\n",
       "</table>\n",
       "</div>"
      ],
      "text/plain": [
       "       Корреляция более 40.0%\n",
       "Pclass               ['Fare']"
      ]
     },
     "execution_count": 17,
     "metadata": {},
     "output_type": "execute_result"
    }
   ],
   "source": [
    "# функция corr_df - датафрейм с коррелирующими факторами\n",
    "\n",
    "feature_selection.corr_df"
   ]
  },
  {
   "cell_type": "code",
   "execution_count": 18,
   "id": "3e81c246",
   "metadata": {},
   "outputs": [
    {
     "data": {
      "text/html": [
       "<div>\n",
       "<style scoped>\n",
       "    .dataframe tbody tr th:only-of-type {\n",
       "        vertical-align: middle;\n",
       "    }\n",
       "\n",
       "    .dataframe tbody tr th {\n",
       "        vertical-align: top;\n",
       "    }\n",
       "\n",
       "    .dataframe thead th {\n",
       "        text-align: right;\n",
       "    }\n",
       "</style>\n",
       "<table border=\"1\" class=\"dataframe\">\n",
       "  <thead>\n",
       "    <tr style=\"text-align: right;\">\n",
       "      <th></th>\n",
       "      <th>metric</th>\n",
       "    </tr>\n",
       "  </thead>\n",
       "  <tbody>\n",
       "    <tr>\n",
       "      <th>Sex</th>\n",
       "      <td>54.1383</td>\n",
       "    </tr>\n",
       "    <tr>\n",
       "      <th>Fare</th>\n",
       "      <td>38.6561</td>\n",
       "    </tr>\n",
       "    <tr>\n",
       "      <th>Pclass</th>\n",
       "      <td>35.5899</td>\n",
       "    </tr>\n",
       "    <tr>\n",
       "      <th>Embarked</th>\n",
       "      <td>17.5231</td>\n",
       "    </tr>\n",
       "    <tr>\n",
       "      <th>Parch</th>\n",
       "      <td>17.3706</td>\n",
       "    </tr>\n",
       "    <tr>\n",
       "      <th>SibSp</th>\n",
       "      <td>17.2877</td>\n",
       "    </tr>\n",
       "    <tr>\n",
       "      <th>Age</th>\n",
       "      <td>2.5410</td>\n",
       "    </tr>\n",
       "  </tbody>\n",
       "</table>\n",
       "</div>"
      ],
      "text/plain": [
       "           metric\n",
       "Sex       54.1383\n",
       "Fare      38.6561\n",
       "Pclass    35.5899\n",
       "Embarked  17.5231\n",
       "Parch     17.3706\n",
       "SibSp     17.2877\n",
       "Age        2.5410"
      ]
     },
     "execution_count": 18,
     "metadata": {},
     "output_type": "execute_result"
    }
   ],
   "source": [
    "# функция metric_res - датафрейм с метриками однофакторного анализа\n",
    "\n",
    "feature_selection.metric_res"
   ]
  },
  {
   "cell_type": "code",
   "execution_count": 19,
   "id": "c456f5e6",
   "metadata": {},
   "outputs": [
    {
     "data": {
      "text/plain": [
       "['Embarked', 'SibSp', 'Age', 'Parch', 'Fare', 'Sex']"
      ]
     },
     "execution_count": 19,
     "metadata": {},
     "output_type": "execute_result"
    }
   ],
   "source": [
    "# Функция feat_after_corr - список факторов после корреляционного анализа\n",
    "\n",
    "feature_selection.feat_after_corr"
   ]
  },
  {
   "cell_type": "markdown",
   "id": "4219b906",
   "metadata": {},
   "source": [
    "## 2. Отбор признаков с помощью углубления древовидных алгоритмов"
   ]
  },
  {
   "cell_type": "markdown",
   "id": "457fbdca",
   "metadata": {},
   "source": [
    "### Метод depth_analysis используется для отбора факторов относительно глубины алгоритма.\n",
    "\n",
    "* В параметры передаются список факторов и максимальная глубина до которой будут расчитываться важности признаков.\n",
    "\n",
    "\n",
    "* На выходе мы получаем таблицу из факторов отсортированных по важности, таблицу из факторов отрсортированных по рангу признака, список факторов из отсортированных по важности, список факторов из отсортированных по рангу.\n",
    "\n",
    "\n",
    "    * Аргоритм отбора относительно глубины: модель обучается на всех факторах в цикле с глубиной от 1 до максимально указанной. Далее выводятся важности по каждому признаку в каждой глубине. После чего значение усредняется по каждому признаку и сортируется по убыванию.\n",
    "    \n",
    "    * Алгоритм отбора относительно ранга в глубине: аналогично предыдущему, только при каждом значении глубины отбираются признаки со значением важности >0, по ним расставляются ранговые значения, и расчитывается среднее внутри каждой глубины. После чего ранги усредняются относительно глубин и сортируются по убыванию."
   ]
  },
  {
   "cell_type": "code",
   "execution_count": 20,
   "id": "0b5d0e6e",
   "metadata": {},
   "outputs": [
    {
     "name": "stdout",
     "output_type": "stream",
     "text": [
      "Определены количественные и категориальные переменные!\n"
     ]
    },
    {
     "data": {
      "application/vnd.jupyter.widget-view+json": {
       "model_id": "3366d7bd37994346b4f434c3ad4f315a",
       "version_major": 2,
       "version_minor": 0
      },
      "text/plain": [
       "  0%|          | 0/3 [00:00<?, ?it/s]"
      ]
     },
     "metadata": {},
     "output_type": "display_data"
    },
    {
     "name": "stdout",
     "output_type": "stream",
     "text": [
      "Количество признаков до отбора: 6\n",
      "==================================================\n",
      "Количество признаков после mean importance относительно глубины: 6\n",
      "Количество признаков после mean rank относительно глубины: 6\n"
     ]
    },
    {
     "data": {
      "text/html": [
       "<div>\n",
       "<style scoped>\n",
       "    .dataframe tbody tr th:only-of-type {\n",
       "        vertical-align: middle;\n",
       "    }\n",
       "\n",
       "    .dataframe tbody tr th {\n",
       "        vertical-align: top;\n",
       "    }\n",
       "\n",
       "    .dataframe thead th {\n",
       "        text-align: right;\n",
       "    }\n",
       "</style>\n",
       "<table border=\"1\" class=\"dataframe\">\n",
       "  <thead>\n",
       "    <tr style=\"text-align: right;\">\n",
       "      <th></th>\n",
       "      <th>importance_depth_1</th>\n",
       "      <th>importance_depth_2</th>\n",
       "      <th>importance_depth_3</th>\n",
       "      <th>mean_importance</th>\n",
       "      <th>mean_rank</th>\n",
       "    </tr>\n",
       "  </thead>\n",
       "  <tbody>\n",
       "    <tr>\n",
       "      <th>Sex</th>\n",
       "      <td>9248.759086</td>\n",
       "      <td>9802.779716</td>\n",
       "      <td>9991.386434</td>\n",
       "      <td>9680.975079</td>\n",
       "      <td>0.323810</td>\n",
       "    </tr>\n",
       "    <tr>\n",
       "      <th>Fare</th>\n",
       "      <td>2676.378949</td>\n",
       "      <td>3322.974358</td>\n",
       "      <td>4341.057824</td>\n",
       "      <td>3446.803711</td>\n",
       "      <td>0.258730</td>\n",
       "    </tr>\n",
       "    <tr>\n",
       "      <th>Age</th>\n",
       "      <td>0.000000</td>\n",
       "      <td>999.698651</td>\n",
       "      <td>1670.168675</td>\n",
       "      <td>889.955776</td>\n",
       "      <td>0.126984</td>\n",
       "    </tr>\n",
       "    <tr>\n",
       "      <th>SibSp</th>\n",
       "      <td>571.306269</td>\n",
       "      <td>770.071167</td>\n",
       "      <td>916.275160</td>\n",
       "      <td>752.550865</td>\n",
       "      <td>0.161905</td>\n",
       "    </tr>\n",
       "    <tr>\n",
       "      <th>Parch</th>\n",
       "      <td>0.000000</td>\n",
       "      <td>151.053780</td>\n",
       "      <td>525.644644</td>\n",
       "      <td>225.566141</td>\n",
       "      <td>0.063492</td>\n",
       "    </tr>\n",
       "  </tbody>\n",
       "</table>\n",
       "</div>"
      ],
      "text/plain": [
       "       importance_depth_1  importance_depth_2  importance_depth_3  \\\n",
       "Sex           9248.759086         9802.779716         9991.386434   \n",
       "Fare          2676.378949         3322.974358         4341.057824   \n",
       "Age              0.000000          999.698651         1670.168675   \n",
       "SibSp          571.306269          770.071167          916.275160   \n",
       "Parch            0.000000          151.053780          525.644644   \n",
       "\n",
       "       mean_importance  mean_rank  \n",
       "Sex        9680.975079   0.323810  \n",
       "Fare       3446.803711   0.258730  \n",
       "Age         889.955776   0.126984  \n",
       "SibSp       752.550865   0.161905  \n",
       "Parch       225.566141   0.063492  "
      ]
     },
     "metadata": {},
     "output_type": "display_data"
    }
   ],
   "source": [
    "# Анализ относительно глубины\n",
    "\n",
    "depth_features, rank_features = feature_selection.depth_analysis(features=feat_after_corr,\n",
    "                                                                 max_depth=3)"
   ]
  },
  {
   "cell_type": "markdown",
   "id": "4e615efc",
   "metadata": {},
   "source": [
    "# 3. Проверка Permutation Importance на одной модели с разными алгоритмами sklearn, eli5, собственный код (kib)\n",
    "\n",
    "    * Код является примером. Не обязательно использовать все три способа. Необходимо отталкиваться от размера выборки и типа задачи (классификация, мультикласс, регрессия). Для задач классификации наиболее оптимальными являются eli5 / kib. Для задач регрессии kib / sklearn.\n",
    "    \n",
    "    * Для начала применяем конвеер трансформации категориальных и численных признаков, после чего обучаем алгоритм при наших ранее заданных параметрах."
   ]
  },
  {
   "cell_type": "code",
   "execution_count": 21,
   "id": "3d68b801",
   "metadata": {},
   "outputs": [],
   "source": [
    "# Задаем стратегию деления больших данных для расчета permutation importance на подмножестве обучающего множества\n",
    "\n",
    "strat = StratifiedKFold(n_splits=3,\n",
    "                        shuffle=True,\n",
    "                        random_state=42)"
   ]
  },
  {
   "cell_type": "markdown",
   "id": "c5fdf034",
   "metadata": {},
   "source": [
    "* На вход подаются список факторов после анализа относительно глубины / корреляционного анализа / анализа пропусков, стратегия деления, количество перемешиваний, тип перемешивания, число ядер, метрика и направление метрики (для типа перемешивания kib)"
   ]
  },
  {
   "cell_type": "markdown",
   "id": "a0bb4641",
   "metadata": {},
   "source": [
    "### 3.1 От Sklearn"
   ]
  },
  {
   "cell_type": "code",
   "execution_count": 22,
   "id": "123feee6",
   "metadata": {},
   "outputs": [
    {
     "name": "stdout",
     "output_type": "stream",
     "text": [
      "Размер обучающего подмножества для Permutation importance: (415, 12) ; Среднее значение таргета: 0.38313253012048193\n",
      "\n",
      "Размер тестового подмножества для Permutation importance: (208, 12) ; Среднее значение таргета: 0.38461538461538464\n",
      "==================================================\n",
      "Определены количественные и категориальные переменные!\n"
     ]
    },
    {
     "data": {
      "text/html": [
       "<div>\n",
       "<style scoped>\n",
       "    .dataframe tbody tr th:only-of-type {\n",
       "        vertical-align: middle;\n",
       "    }\n",
       "\n",
       "    .dataframe tbody tr th {\n",
       "        vertical-align: top;\n",
       "    }\n",
       "\n",
       "    .dataframe thead th {\n",
       "        text-align: right;\n",
       "    }\n",
       "</style>\n",
       "<table border=\"1\" class=\"dataframe\">\n",
       "  <thead>\n",
       "    <tr style=\"text-align: right;\">\n",
       "      <th></th>\n",
       "      <th>Perm_Importance_Tr</th>\n",
       "      <th>Perm_Importance_Te</th>\n",
       "    </tr>\n",
       "    <tr>\n",
       "      <th>Feature</th>\n",
       "      <th></th>\n",
       "      <th></th>\n",
       "    </tr>\n",
       "  </thead>\n",
       "  <tbody>\n",
       "    <tr>\n",
       "      <th>Sex</th>\n",
       "      <td>0.258554</td>\n",
       "      <td>0.220192</td>\n",
       "    </tr>\n",
       "    <tr>\n",
       "      <th>Fare</th>\n",
       "      <td>0.137590</td>\n",
       "      <td>0.048077</td>\n",
       "    </tr>\n",
       "    <tr>\n",
       "      <th>Age</th>\n",
       "      <td>0.071084</td>\n",
       "      <td>0.033654</td>\n",
       "    </tr>\n",
       "    <tr>\n",
       "      <th>random_feature</th>\n",
       "      <td>0.087229</td>\n",
       "      <td>0.011058</td>\n",
       "    </tr>\n",
       "    <tr>\n",
       "      <th>SibSp</th>\n",
       "      <td>0.015663</td>\n",
       "      <td>0.003846</td>\n",
       "    </tr>\n",
       "    <tr>\n",
       "      <th>Parch</th>\n",
       "      <td>0.014699</td>\n",
       "      <td>0.002404</td>\n",
       "    </tr>\n",
       "    <tr>\n",
       "      <th>Embarked</th>\n",
       "      <td>0.015904</td>\n",
       "      <td>-0.001923</td>\n",
       "    </tr>\n",
       "  </tbody>\n",
       "</table>\n",
       "</div>"
      ],
      "text/plain": [
       "                Perm_Importance_Tr  Perm_Importance_Te\n",
       "Feature                                               \n",
       "Sex                       0.258554            0.220192\n",
       "Fare                      0.137590            0.048077\n",
       "Age                       0.071084            0.033654\n",
       "random_feature            0.087229            0.011058\n",
       "SibSp                     0.015663            0.003846\n",
       "Parch                     0.014699            0.002404\n",
       "Embarked                  0.015904           -0.001923"
      ]
     },
     "execution_count": 22,
     "metadata": {},
     "output_type": "execute_result"
    }
   ],
   "source": [
    "feature_selection.permutation_analysis(features=depth_features,\n",
    "                                       strat=strat,\n",
    "                                       n_iter=10,\n",
    "                                       permute_type='sklearn',\n",
    "                                       n_jobs=-1,\n",
    " #                                      metric=roc_auc_score,\n",
    " #                                      higher_is_better=True\n",
    "                                      )"
   ]
  },
  {
   "cell_type": "code",
   "execution_count": 23,
   "id": "51ff44cf",
   "metadata": {},
   "outputs": [
    {
     "data": {
      "image/png": "[encoded data removed]",
      "text/plain": [
       "<Figure size 1152x864 with 1 Axes>"
      ]
     },
     "metadata": {
      "needs_background": "light"
     },
     "output_type": "display_data"
    }
   ],
   "source": [
    "# вызов функции permutation_plot отрисовывает топ важности по методу permutation importance\n",
    "\n",
    "feature_selection.permutation_plot(figsize=(16,12), top=10)"
   ]
  },
  {
   "cell_type": "markdown",
   "id": "a1e83d6d",
   "metadata": {},
   "source": [
    "#### Вызов функции select_features выдает список отобранных признаков. \n",
    "\n",
    "* Отбор происходит следующим образом:\n",
    "    * Если на тестовом множестве значение метрики относительно перемешанного факторо и рандомного признака ниже нуля, то отбираются все признаки выше нуля.\n",
    "    * Если рандомный признак имеет положительное значение на тестовом множестве, то отбираются все признаки выше значения при рандомном признаке."
   ]
  },
  {
   "cell_type": "code",
   "execution_count": 24,
   "id": "c91acfe3",
   "metadata": {},
   "outputs": [
    {
     "name": "stdout",
     "output_type": "stream",
     "text": [
      "7 признаков было до Permutation Importance \n",
      "\n",
      "3 признаков после Permutation Importance от sklearn\n"
     ]
    },
    {
     "data": {
      "text/plain": [
       "['Sex', 'Fare', 'Age']"
      ]
     },
     "execution_count": 24,
     "metadata": {},
     "output_type": "execute_result"
    }
   ],
   "source": [
    "feature_selection.select_features()"
   ]
  },
  {
   "cell_type": "markdown",
   "id": "0e166ca8",
   "metadata": {},
   "source": [
    "### 3.2 От Eli5"
   ]
  },
  {
   "cell_type": "code",
   "execution_count": 25,
   "id": "20a1843e",
   "metadata": {},
   "outputs": [
    {
     "name": "stdout",
     "output_type": "stream",
     "text": [
      "Размер обучающего подмножества для Permutation importance: (415, 12) ; Среднее значение таргета: 0.38313253012048193\n",
      "\n",
      "Размер тестового подмножества для Permutation importance: (208, 12) ; Среднее значение таргета: 0.38461538461538464\n",
      "==================================================\n",
      "Определены количественные и категориальные переменные!\n"
     ]
    },
    {
     "data": {
      "text/html": [
       "<div>\n",
       "<style scoped>\n",
       "    .dataframe tbody tr th:only-of-type {\n",
       "        vertical-align: middle;\n",
       "    }\n",
       "\n",
       "    .dataframe tbody tr th {\n",
       "        vertical-align: top;\n",
       "    }\n",
       "\n",
       "    .dataframe thead th {\n",
       "        text-align: right;\n",
       "    }\n",
       "</style>\n",
       "<table border=\"1\" class=\"dataframe\">\n",
       "  <thead>\n",
       "    <tr style=\"text-align: right;\">\n",
       "      <th></th>\n",
       "      <th>Perm_Importance_Tr</th>\n",
       "      <th>Perm_Importance_Te</th>\n",
       "    </tr>\n",
       "    <tr>\n",
       "      <th>Feature</th>\n",
       "      <th></th>\n",
       "      <th></th>\n",
       "    </tr>\n",
       "  </thead>\n",
       "  <tbody>\n",
       "    <tr>\n",
       "      <th>Sex</th>\n",
       "      <td>0.248193</td>\n",
       "      <td>0.224038</td>\n",
       "    </tr>\n",
       "    <tr>\n",
       "      <th>Fare</th>\n",
       "      <td>0.138795</td>\n",
       "      <td>0.048558</td>\n",
       "    </tr>\n",
       "    <tr>\n",
       "      <th>Age</th>\n",
       "      <td>0.069880</td>\n",
       "      <td>0.033654</td>\n",
       "    </tr>\n",
       "    <tr>\n",
       "      <th>Parch</th>\n",
       "      <td>0.014458</td>\n",
       "      <td>0.006731</td>\n",
       "    </tr>\n",
       "    <tr>\n",
       "      <th>SibSp</th>\n",
       "      <td>0.018072</td>\n",
       "      <td>0.000481</td>\n",
       "    </tr>\n",
       "    <tr>\n",
       "      <th>Embarked</th>\n",
       "      <td>0.015663</td>\n",
       "      <td>-0.001442</td>\n",
       "    </tr>\n",
       "    <tr>\n",
       "      <th>random_feature</th>\n",
       "      <td>0.084337</td>\n",
       "      <td>-0.003365</td>\n",
       "    </tr>\n",
       "  </tbody>\n",
       "</table>\n",
       "</div>"
      ],
      "text/plain": [
       "                Perm_Importance_Tr  Perm_Importance_Te\n",
       "Feature                                               \n",
       "Sex                       0.248193            0.224038\n",
       "Fare                      0.138795            0.048558\n",
       "Age                       0.069880            0.033654\n",
       "Parch                     0.014458            0.006731\n",
       "SibSp                     0.018072            0.000481\n",
       "Embarked                  0.015663           -0.001442\n",
       "random_feature            0.084337           -0.003365"
      ]
     },
     "execution_count": 25,
     "metadata": {},
     "output_type": "execute_result"
    }
   ],
   "source": [
    "feature_selection.permutation_analysis(features=depth_features,\n",
    "                                       strat=strat,\n",
    "                                       n_iter=10,\n",
    "                                       permute_type='eli5',\n",
    " #                                      n_jobs=-1,\n",
    " #                                      metric=roc_auc_score,\n",
    " #                                      higher_is_better=True\n",
    "                                      )"
   ]
  },
  {
   "cell_type": "code",
   "execution_count": 26,
   "id": "e36f3b97",
   "metadata": {},
   "outputs": [
    {
     "data": {
      "image/png": "[encoded data removed]",
      "text/plain": [
       "<Figure size 1152x864 with 1 Axes>"
      ]
     },
     "metadata": {
      "needs_background": "light"
     },
     "output_type": "display_data"
    }
   ],
   "source": [
    "feature_selection.permutation_plot(figsize=(16,12), top=10)"
   ]
  },
  {
   "cell_type": "code",
   "execution_count": 27,
   "id": "c87d9fbc",
   "metadata": {},
   "outputs": [
    {
     "name": "stdout",
     "output_type": "stream",
     "text": [
      "7 признаков было до Permutation Importance \n",
      "\n",
      "5 признаков после Permutation Importance от eli5\n"
     ]
    },
    {
     "data": {
      "text/plain": [
       "['Sex', 'Fare', 'Age', 'Parch', 'SibSp']"
      ]
     },
     "execution_count": 27,
     "metadata": {},
     "output_type": "execute_result"
    }
   ],
   "source": [
    "feature_selection.select_features()"
   ]
  },
  {
   "cell_type": "markdown",
   "id": "ee97d1f0",
   "metadata": {},
   "source": [
    "### 3.3 Самописный permutation kib"
   ]
  },
  {
   "cell_type": "code",
   "execution_count": 28,
   "id": "75aee662",
   "metadata": {},
   "outputs": [
    {
     "name": "stdout",
     "output_type": "stream",
     "text": [
      "Размер обучающего подмножества для Permutation importance: (415, 12) ; Среднее значение таргета: 0.38313253012048193\n",
      "\n",
      "Размер тестового подмножества для Permutation importance: (208, 12) ; Среднее значение таргета: 0.38461538461538464\n",
      "==================================================\n",
      "Определены количественные и категориальные переменные!\n",
      "Расчет Permutation Importance на Train\n"
     ]
    },
    {
     "name": "stderr",
     "output_type": "stream",
     "text": [
      "100%|██████████| 7/7 [00:00<00:00, 331.84it/s]\n"
     ]
    },
    {
     "name": "stdout",
     "output_type": "stream",
     "text": [
      "Расчет Permutation Importance на Test\n"
     ]
    },
    {
     "name": "stderr",
     "output_type": "stream",
     "text": [
      "100%|██████████| 7/7 [00:00<00:00, 2380.04it/s]\n"
     ]
    },
    {
     "data": {
      "text/html": [
       "<div>\n",
       "<style scoped>\n",
       "    .dataframe tbody tr th:only-of-type {\n",
       "        vertical-align: middle;\n",
       "    }\n",
       "\n",
       "    .dataframe tbody tr th {\n",
       "        vertical-align: top;\n",
       "    }\n",
       "\n",
       "    .dataframe thead th {\n",
       "        text-align: right;\n",
       "    }\n",
       "</style>\n",
       "<table border=\"1\" class=\"dataframe\">\n",
       "  <thead>\n",
       "    <tr style=\"text-align: right;\">\n",
       "      <th></th>\n",
       "      <th>Perm_Importance_Tr</th>\n",
       "      <th>Perm_Importance_Te</th>\n",
       "    </tr>\n",
       "    <tr>\n",
       "      <th>Feature</th>\n",
       "      <th></th>\n",
       "      <th></th>\n",
       "    </tr>\n",
       "  </thead>\n",
       "  <tbody>\n",
       "    <tr>\n",
       "      <th>Sex</th>\n",
       "      <td>0.245923</td>\n",
       "      <td>0.233794</td>\n",
       "    </tr>\n",
       "    <tr>\n",
       "      <th>Fare</th>\n",
       "      <td>0.118239</td>\n",
       "      <td>0.075649</td>\n",
       "    </tr>\n",
       "    <tr>\n",
       "      <th>Age</th>\n",
       "      <td>0.043440</td>\n",
       "      <td>0.027095</td>\n",
       "    </tr>\n",
       "    <tr>\n",
       "      <th>Embarked</th>\n",
       "      <td>0.007707</td>\n",
       "      <td>0.005142</td>\n",
       "    </tr>\n",
       "    <tr>\n",
       "      <th>SibSp</th>\n",
       "      <td>0.005700</td>\n",
       "      <td>0.004229</td>\n",
       "    </tr>\n",
       "    <tr>\n",
       "      <th>random_feature</th>\n",
       "      <td>0.067355</td>\n",
       "      <td>0.001973</td>\n",
       "    </tr>\n",
       "    <tr>\n",
       "      <th>Parch</th>\n",
       "      <td>0.006641</td>\n",
       "      <td>-0.000176</td>\n",
       "    </tr>\n",
       "  </tbody>\n",
       "</table>\n",
       "</div>"
      ],
      "text/plain": [
       "                Perm_Importance_Tr  Perm_Importance_Te\n",
       "Feature                                               \n",
       "Sex                       0.245923            0.233794\n",
       "Fare                      0.118239            0.075649\n",
       "Age                       0.043440            0.027095\n",
       "Embarked                  0.007707            0.005142\n",
       "SibSp                     0.005700            0.004229\n",
       "random_feature            0.067355            0.001973\n",
       "Parch                     0.006641           -0.000176"
      ]
     },
     "execution_count": 28,
     "metadata": {},
     "output_type": "execute_result"
    }
   ],
   "source": [
    "feature_selection.permutation_analysis(features=depth_features,\n",
    "                                       strat=strat,\n",
    "                                       n_iter=10,\n",
    "                                       permute_type='kib',\n",
    "                                       n_jobs=-1,\n",
    "                                       metric=roc_auc_score,\n",
    "                                       higher_is_better=True)"
   ]
  },
  {
   "cell_type": "code",
   "execution_count": 29,
   "id": "5f1bb30a",
   "metadata": {},
   "outputs": [
    {
     "data": {
      "image/png": "[encoded data removed]",
      "text/plain": [
       "<Figure size 1152x864 with 1 Axes>"
      ]
     },
     "metadata": {
      "needs_background": "light"
     },
     "output_type": "display_data"
    }
   ],
   "source": [
    "feature_selection.permutation_plot(figsize=(16,12), top=10)"
   ]
  },
  {
   "cell_type": "code",
   "execution_count": 30,
   "id": "41b7d51c",
   "metadata": {},
   "outputs": [
    {
     "name": "stdout",
     "output_type": "stream",
     "text": [
      "7 признаков было до Permutation Importance \n",
      "\n",
      "5 признаков после Permutation Importance от kib\n"
     ]
    },
    {
     "data": {
      "text/plain": [
       "['Sex', 'Fare', 'Age', 'Embarked', 'SibSp']"
      ]
     },
     "execution_count": 30,
     "metadata": {},
     "output_type": "execute_result"
    }
   ],
   "source": [
    "feature_selection.select_features()"
   ]
  },
  {
   "cell_type": "code",
   "execution_count": null,
   "id": "52a91b05",
   "metadata": {},
   "outputs": [],
   "source": []
  },
  {
   "cell_type": "code",
   "execution_count": null,
   "id": "d774370c",
   "metadata": {},
   "outputs": [],
   "source": []
  },
  {
   "cell_type": "raw",
   "id": "d64ccfb4",
   "metadata": {},
   "source": []
  },
  {
   "cell_type": "raw",
   "id": "3761a2ca",
   "metadata": {},
   "source": []
  }
 ],
 "metadata": {
  "kernelspec": {
   "display_name": "Python 3",
   "language": "python",
   "name": "python3"
  },
  "language_info": {
   "codemirror_mode": {
    "name": "ipython",
    "version": 3
   },
   "file_extension": ".py",
   "mimetype": "text/x-python",
   "name": "python",
   "nbconvert_exporter": "python",
   "pygments_lexer": "ipython3",
   "version": "3.7.6"
  }
 },
 "nbformat": 4,
 "nbformat_minor": 5
}
