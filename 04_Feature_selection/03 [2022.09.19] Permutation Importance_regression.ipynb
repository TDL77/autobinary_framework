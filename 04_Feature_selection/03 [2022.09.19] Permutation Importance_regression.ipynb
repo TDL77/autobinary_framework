{
 "cells": [
  {
   "cell_type": "markdown",
   "id": "87b7e3a8",
   "metadata": {},
   "source": [
    "# Демонстрация автоматического отбора признаков с помощью Permutation Importance"
   ]
  },
  {
   "cell_type": "markdown",
   "id": "e5d44cda",
   "metadata": {},
   "source": [
    "## Структура ноутбука:\n",
    "\n",
    "- Применение библиотеки Permutation Importance для задач регрессии\n",
    "    * Проверка Permutation Importance на доступных алгоритмах\n",
    "    * Проверка всех библиотек Permutation Importance (sklearn, eli5, собственный kib) на CatBoostRegressor    "
   ]
  },
  {
   "cell_type": "code",
   "execution_count": 1,
   "id": "ad01b2f7",
   "metadata": {},
   "outputs": [
    {
     "data": {
      "text/html": [
       "<style>.container {width:95% !important;}</style>"
      ],
      "text/plain": [
       "<IPython.core.display.HTML object>"
      ]
     },
     "metadata": {},
     "output_type": "display_data"
    }
   ],
   "source": [
    "# расширяем поле, убираем предупреждения\n",
    "from IPython.core.display import display, HTML\n",
    "display(HTML('<style>.container {width:95% !important;}</style>'))\n",
    "\n",
    "import warnings\n",
    "warnings.filterwarnings('ignore')"
   ]
  },
  {
   "cell_type": "code",
   "execution_count": 2,
   "id": "1ab508dc",
   "metadata": {},
   "outputs": [],
   "source": [
    "# Стандартные библиотеки для анализа\n",
    "import pandas as pd\n",
    "\n",
    "from sklearn.model_selection import train_test_split, StratifiedKFold\n",
    "from sklearn.metrics import roc_auc_score, mean_absolute_percentage_error\n",
    "\n",
    "import matplotlib.pylab as pl"
   ]
  },
  {
   "cell_type": "code",
   "execution_count": 3,
   "id": "76cb7fee",
   "metadata": {},
   "outputs": [],
   "source": [
    "import sys\n",
    "sys.path.append('../')\n",
    "\n",
    "# Наша разработанная библиотека\n",
    "from autobinary import SentColumns, CatBoostEncoder, PermutationSelection, base_pipe"
   ]
  },
  {
   "cell_type": "markdown",
   "id": "9a34edcc",
   "metadata": {},
   "source": [
    "* sklearn:  0.24.2\n",
    "* xgboost:  1.5.2\n",
    "* matplotlib:  3.1.1\n",
    "* autobinary:  1.0.3"
   ]
  },
  {
   "cell_type": "code",
   "execution_count": 4,
   "id": "5530d48f",
   "metadata": {},
   "outputs": [
    {
     "name": "stdout",
     "output_type": "stream",
     "text": [
      "sklearn:  0.24.2\n",
      "xgboost:  1.5.2\n",
      "matplotlib:  3.1.0\n",
      "autobinary:  1.0.4\n"
     ]
    }
   ],
   "source": [
    "import sklearn as sk\n",
    "import xgboost as xgb\n",
    "import matplotlib as mplot\n",
    "import autobinary as ab\n",
    "\n",
    "print('sklearn: ', sk.__version__)\n",
    "print('xgboost: ', xgb.__version__)\n",
    "print('matplotlib: ', mplot.__version__)\n",
    "print('autobinary: ', ab.__version__)"
   ]
  },
  {
   "cell_type": "code",
   "execution_count": 5,
   "id": "12ae3b50",
   "metadata": {},
   "outputs": [
    {
     "data": {
      "text/plain": [
       "'1.22.4'"
      ]
     },
     "execution_count": 5,
     "metadata": {},
     "output_type": "execute_result"
    }
   ],
   "source": [
    "import numpy as np\n",
    "np.__version__"
   ]
  },
  {
   "cell_type": "code",
   "execution_count": 6,
   "id": "d629950c",
   "metadata": {},
   "outputs": [
    {
     "data": {
      "text/plain": [
       "'1.8.1'"
      ]
     },
     "execution_count": 6,
     "metadata": {},
     "output_type": "execute_result"
    }
   ],
   "source": [
    "import scipy\n",
    "scipy.__version__"
   ]
  },
  {
   "cell_type": "code",
   "execution_count": 7,
   "id": "8763ca62",
   "metadata": {},
   "outputs": [],
   "source": [
    "# eli5==0.13.0"
   ]
  },
  {
   "cell_type": "markdown",
   "id": "740b88dc",
   "metadata": {},
   "source": [
    "# Для регрессии"
   ]
  },
  {
   "cell_type": "code",
   "execution_count": 8,
   "id": "76c7a13b",
   "metadata": {},
   "outputs": [
    {
     "name": "stdout",
     "output_type": "stream",
     "text": [
      "Размерность данных: (1460, 81)\n"
     ]
    },
    {
     "data": {
      "text/html": [
       "<div>\n",
       "<style scoped>\n",
       "    .dataframe tbody tr th:only-of-type {\n",
       "        vertical-align: middle;\n",
       "    }\n",
       "\n",
       "    .dataframe tbody tr th {\n",
       "        vertical-align: top;\n",
       "    }\n",
       "\n",
       "    .dataframe thead th {\n",
       "        text-align: right;\n",
       "    }\n",
       "</style>\n",
       "<table border=\"1\" class=\"dataframe\">\n",
       "  <thead>\n",
       "    <tr style=\"text-align: right;\">\n",
       "      <th></th>\n",
       "      <th>Id</th>\n",
       "      <th>MSSubClass</th>\n",
       "      <th>MSZoning</th>\n",
       "      <th>LotFrontage</th>\n",
       "      <th>LotArea</th>\n",
       "      <th>Street</th>\n",
       "      <th>Alley</th>\n",
       "      <th>LotShape</th>\n",
       "      <th>LandContour</th>\n",
       "      <th>Utilities</th>\n",
       "      <th>...</th>\n",
       "      <th>PoolArea</th>\n",
       "      <th>PoolQC</th>\n",
       "      <th>Fence</th>\n",
       "      <th>MiscFeature</th>\n",
       "      <th>MiscVal</th>\n",
       "      <th>MoSold</th>\n",
       "      <th>YrSold</th>\n",
       "      <th>SaleType</th>\n",
       "      <th>SaleCondition</th>\n",
       "      <th>SalePrice</th>\n",
       "    </tr>\n",
       "  </thead>\n",
       "  <tbody>\n",
       "    <tr>\n",
       "      <th>0</th>\n",
       "      <td>1</td>\n",
       "      <td>60</td>\n",
       "      <td>RL</td>\n",
       "      <td>65.0</td>\n",
       "      <td>8450</td>\n",
       "      <td>Pave</td>\n",
       "      <td>NaN</td>\n",
       "      <td>Reg</td>\n",
       "      <td>Lvl</td>\n",
       "      <td>AllPub</td>\n",
       "      <td>...</td>\n",
       "      <td>0</td>\n",
       "      <td>NaN</td>\n",
       "      <td>NaN</td>\n",
       "      <td>NaN</td>\n",
       "      <td>0</td>\n",
       "      <td>2</td>\n",
       "      <td>2008</td>\n",
       "      <td>WD</td>\n",
       "      <td>Normal</td>\n",
       "      <td>208500</td>\n",
       "    </tr>\n",
       "    <tr>\n",
       "      <th>1</th>\n",
       "      <td>2</td>\n",
       "      <td>20</td>\n",
       "      <td>RL</td>\n",
       "      <td>80.0</td>\n",
       "      <td>9600</td>\n",
       "      <td>Pave</td>\n",
       "      <td>NaN</td>\n",
       "      <td>Reg</td>\n",
       "      <td>Lvl</td>\n",
       "      <td>AllPub</td>\n",
       "      <td>...</td>\n",
       "      <td>0</td>\n",
       "      <td>NaN</td>\n",
       "      <td>NaN</td>\n",
       "      <td>NaN</td>\n",
       "      <td>0</td>\n",
       "      <td>5</td>\n",
       "      <td>2007</td>\n",
       "      <td>WD</td>\n",
       "      <td>Normal</td>\n",
       "      <td>181500</td>\n",
       "    </tr>\n",
       "  </tbody>\n",
       "</table>\n",
       "<p>2 rows × 81 columns</p>\n",
       "</div>"
      ],
      "text/plain": [
       "   Id  MSSubClass MSZoning  LotFrontage  LotArea Street Alley LotShape  \\\n",
       "0   1          60       RL         65.0     8450   Pave   NaN      Reg   \n",
       "1   2          20       RL         80.0     9600   Pave   NaN      Reg   \n",
       "\n",
       "  LandContour Utilities  ... PoolArea PoolQC Fence MiscFeature MiscVal MoSold  \\\n",
       "0         Lvl    AllPub  ...        0    NaN   NaN         NaN       0      2   \n",
       "1         Lvl    AllPub  ...        0    NaN   NaN         NaN       0      5   \n",
       "\n",
       "  YrSold  SaleType  SaleCondition  SalePrice  \n",
       "0   2008        WD         Normal     208500  \n",
       "1   2007        WD         Normal     181500  \n",
       "\n",
       "[2 rows x 81 columns]"
      ]
     },
     "execution_count": 8,
     "metadata": {},
     "output_type": "execute_result"
    }
   ],
   "source": [
    "sample = pd.read_csv('../data/train_houseprice.csv')\n",
    "\n",
    "print('Размерность данных:', sample.shape)\n",
    "sample.head(2)"
   ]
  },
  {
   "cell_type": "code",
   "execution_count": 9,
   "id": "5d72f0e8",
   "metadata": {},
   "outputs": [],
   "source": [
    "num_columns = [\n",
    "    'LotArea', 'LotFrontage', 'TotalBsmtSF', 'PoolArea', 'FullBath'\n",
    "]\n",
    "\n",
    "cat_columns = [\n",
    "    'BldgType', 'CentralAir', 'GarageQual', 'Fence', 'SaleType'\n",
    "]\n",
    "\n",
    "features = num_columns+cat_columns\n",
    "\n",
    "target = ['SalePrice']"
   ]
  },
  {
   "cell_type": "code",
   "execution_count": 10,
   "id": "83c80c7d",
   "metadata": {},
   "outputs": [],
   "source": [
    "X_train, X_val, y_train, y_val = train_test_split(\n",
    "    sample[features],\n",
    "    sample[target],\n",
    "    test_size=0.3,\n",
    "    random_state=42\n",
    ")"
   ]
  },
  {
   "cell_type": "code",
   "execution_count": 11,
   "id": "e31ce716",
   "metadata": {},
   "outputs": [],
   "source": [
    "prep_pipe = base_pipe(\n",
    "    num_columns=num_columns, \n",
    "    cat_columns=cat_columns, \n",
    "    kind='all')"
   ]
  },
  {
   "cell_type": "code",
   "execution_count": 12,
   "id": "2ebe30b0",
   "metadata": {},
   "outputs": [],
   "source": [
    "prep_pipe.fit(X_train, y_train)\n",
    "\n",
    "new_X_train = prep_pipe.transform(X_train)\n",
    "new_X_valid = prep_pipe.transform(X_val)"
   ]
  },
  {
   "cell_type": "markdown",
   "id": "b5b4af99",
   "metadata": {},
   "source": [
    "# 1. Использование библиотеки Auto Permutation"
   ]
  },
  {
   "cell_type": "markdown",
   "id": "4a28bc38",
   "metadata": {},
   "source": [
    "#### Проверка на нескольких моделях \n",
    "\n",
    "* Для выбора оптимального алгоритма, можно запустить метод на различных моделях бустинга, деревьев. Задаются словари параметров, листы со словарями и названием моделей. "
   ]
  },
  {
   "cell_type": "code",
   "execution_count": 13,
   "id": "dbc834d7",
   "metadata": {},
   "outputs": [],
   "source": [
    "# Определение стандартных гиперпараметров моделей и список моделей\n",
    "\n",
    "params_xgb = {\n",
    "    'eta':0.01,\n",
    "    'n_estimators':500,\n",
    "    'subsample':0.9,\n",
    "    'max_depth':6,\n",
    "    'objective':'reg:squarederror',\n",
    "    'n_jobs':-1,\n",
    "    'random_state':42,\n",
    "    'eval_metric':'rmse'}\n",
    "\n",
    "params_ctb = {\n",
    "    'learning_rate':0.01,\n",
    "    'iterations':500,\n",
    "    'subsample':0.9,\n",
    "    'depth':6,\n",
    "    'loss_function':'RMSE',\n",
    "    'thread_count':-1,\n",
    "    'random_state':42,\n",
    "    'custom_metric':'RMSE',\n",
    "    'verbose':0}\n",
    "\n",
    "params_lgb = {\n",
    "    'learning_rate':0.01,\n",
    "    'n_estimators':500,\n",
    "    'subsample':0.9,\n",
    "    'max_depth':6,\n",
    "    'objective':'regression',\n",
    "    'n_jobs':-1,\n",
    "    'random_state':42,\n",
    "    'metric':'rmse'}\n",
    "\n",
    "params_dt = {\n",
    "             'max_depth':6,\n",
    "             'random_state':42}\n",
    "\n",
    "params_rf = {\n",
    "             'max_depth':6,\n",
    "             'random_state':42,\n",
    "             'n_estimators':500}\n",
    "\n",
    "params_list = [params_xgb, \n",
    "               params_ctb, \n",
    "               params_lgb, \n",
    "               params_dt, \n",
    "               params_rf\n",
    "              ]\n",
    "\n",
    "models_list = ['xgboost', \n",
    "               'catboost', \n",
    "               'lightboost', \n",
    "               'decisiontree', \n",
    "               'randomforest'\n",
    "              ] "
   ]
  },
  {
   "cell_type": "markdown",
   "id": "bacde878",
   "metadata": {},
   "source": [
    "### 1.1. Определяем класс PermutationSelection, куда передаем список из словарей параметров, список моделей, а также задаем тип задачи: \"classification\"/\"multiclassification\"/\"regression\"\n",
    "\n",
    "* Далее запускаем метод обучения fit, куда передаем тренировочное множество (фолд из тренировочного множества, при больших выборках), и целевую переменную.\n",
    "\n",
    "\n",
    "* Далее запускае метод calculate_permutation. Это основной метод для расчета метрик при перемешивании факторов. В метод передается тестовое множество (независимый фолд из тренировочного множества, при больших выборках), целевую переменную для тестового множества, количество перемешиваний фактора, способ Permutation Importance (\"eli5\"/\"sklearn\"/\"kib\"). Для более подробного описания метода, можно вызвать функцию shift+tab\n",
    "\n",
    "\n",
    "* Все запускается циклом, для отбора более быстрого оптимального алгоритма.\n",
    "    * Запуск требуется по желанию, если есть независимые фолды маленьких размеров.\n",
    "    * Данный цикл является примером работы на всех доступных алгоритмах."
   ]
  },
  {
   "cell_type": "code",
   "execution_count": 14,
   "id": "78a6fcd5",
   "metadata": {
    "scrolled": true
   },
   "outputs": [
    {
     "name": "stdout",
     "output_type": "stream",
     "text": [
      "Расчет Permutation Importance на Train\n"
     ]
    },
    {
     "name": "stderr",
     "output_type": "stream",
     "text": [
      "100%|██████████████████████████████████████████| 11/11 [00:00<00:00, 781.91it/s]\n"
     ]
    },
    {
     "name": "stdout",
     "output_type": "stream",
     "text": [
      "Расчет Permutation Importance на Test\n"
     ]
    },
    {
     "name": "stderr",
     "output_type": "stream",
     "text": [
      "100%|█████████████████████████████████████████| 11/11 [00:00<00:00, 7890.77it/s]\n"
     ]
    },
    {
     "name": "stdout",
     "output_type": "stream",
     "text": [
      "Модель:  xgboost \n",
      "\n",
      "11 признаков было до Permutation Importance \n",
      "\n",
      "10 признаков после Permutation Importance от kib\n",
      "\n",
      "Расчет Permutation Importance на Train\n"
     ]
    },
    {
     "name": "stderr",
     "output_type": "stream",
     "text": [
      "100%|████████████████████████████████████████| 11/11 [00:00<00:00, 15871.12it/s]\n"
     ]
    },
    {
     "name": "stdout",
     "output_type": "stream",
     "text": [
      "Расчет Permutation Importance на Test\n"
     ]
    },
    {
     "name": "stderr",
     "output_type": "stream",
     "text": [
      "100%|████████████████████████████████████████| 11/11 [00:00<00:00, 15151.84it/s]"
     ]
    },
    {
     "name": "stdout",
     "output_type": "stream",
     "text": [
      "Модель:  catboost \n",
      "\n",
      "11 признаков было до Permutation Importance \n",
      "\n",
      "10 признаков после Permutation Importance от kib\n",
      "\n"
     ]
    },
    {
     "name": "stderr",
     "output_type": "stream",
     "text": [
      "\n"
     ]
    },
    {
     "name": "stdout",
     "output_type": "stream",
     "text": [
      "Расчет Permutation Importance на Train\n"
     ]
    },
    {
     "name": "stderr",
     "output_type": "stream",
     "text": [
      "100%|█████████████████████████████████████████| 11/11 [00:00<00:00, 7978.10it/s]\n"
     ]
    },
    {
     "name": "stdout",
     "output_type": "stream",
     "text": [
      "Расчет Permutation Importance на Test\n"
     ]
    },
    {
     "name": "stderr",
     "output_type": "stream",
     "text": [
      "100%|████████████████████████████████████████| 11/11 [00:00<00:00, 21330.26it/s]\n"
     ]
    },
    {
     "name": "stdout",
     "output_type": "stream",
     "text": [
      "Модель:  lightboost \n",
      "\n",
      "11 признаков было до Permutation Importance \n",
      "\n",
      "9 признаков после Permutation Importance от kib\n",
      "\n",
      "Расчет Permutation Importance на Train\n"
     ]
    },
    {
     "name": "stderr",
     "output_type": "stream",
     "text": [
      "100%|████████████████████████████████████████| 11/11 [00:00<00:00, 15023.56it/s]\n"
     ]
    },
    {
     "name": "stdout",
     "output_type": "stream",
     "text": [
      "Расчет Permutation Importance на Test\n"
     ]
    },
    {
     "name": "stderr",
     "output_type": "stream",
     "text": [
      "100%|████████████████████████████████████████| 11/11 [00:00<00:00, 13702.80it/s]"
     ]
    },
    {
     "name": "stdout",
     "output_type": "stream",
     "text": [
      "Модель:  decisiontree \n",
      "\n",
      "11 признаков было до Permutation Importance \n",
      "\n",
      "6 признаков после Permutation Importance от kib\n",
      "\n"
     ]
    },
    {
     "name": "stderr",
     "output_type": "stream",
     "text": [
      "\n"
     ]
    },
    {
     "name": "stdout",
     "output_type": "stream",
     "text": [
      "Расчет Permutation Importance на Train\n"
     ]
    },
    {
     "name": "stderr",
     "output_type": "stream",
     "text": [
      "100%|████████████████████████████████████████| 11/11 [00:00<00:00, 11411.66it/s]\n"
     ]
    },
    {
     "name": "stdout",
     "output_type": "stream",
     "text": [
      "Расчет Permutation Importance на Test\n"
     ]
    },
    {
     "name": "stderr",
     "output_type": "stream",
     "text": [
      "100%|████████████████████████████████████████| 11/11 [00:00<00:00, 10438.31it/s]\n"
     ]
    },
    {
     "name": "stdout",
     "output_type": "stream",
     "text": [
      "Модель:  randomforest \n",
      "\n",
      "11 признаков было до Permutation Importance \n",
      "\n",
      "10 признаков после Permutation Importance от kib\n",
      "\n"
     ]
    }
   ],
   "source": [
    "# Применение самописной библиотеки Permutation Importance (kib)\n",
    "\n",
    "features_dict=dict()\n",
    "\n",
    "for i in range(len(params_list)):\n",
    "    \n",
    "    perm_imp = PermutationSelection(\n",
    "        model_type=models_list[i], \n",
    "        model_params=params_list[i], \n",
    "        task_type='regression')\n",
    "    \n",
    "    perm_imp.fit(\n",
    "        X_train=new_X_train,\n",
    "        y_train=y_train)\n",
    "    \n",
    "    perm_imp.calculate_permutation(\n",
    "        X_test=new_X_valid, \n",
    "        y_test=y_val,\n",
    "        n_iter=5,\n",
    "        permute_type='kib',\n",
    "        n_jobs=-1,\n",
    "        metric=mean_absolute_percentage_error,\n",
    "        higher_is_better=False)\n",
    "    \n",
    "    \n",
    "    print('Модель: ', models_list[i],'\\n')\n",
    "    features_dict[models_list[i]] = perm_imp.select_features()\n",
    "    print()"
   ]
  },
  {
   "cell_type": "markdown",
   "id": "b0e62d6c",
   "metadata": {},
   "source": [
    "* После обучения моделей получаем словари факторов для каждого из алгоритмов. Также можно отследить скорость обучения и выбрать подходящий для нас алгоритм"
   ]
  },
  {
   "cell_type": "code",
   "execution_count": 15,
   "id": "229acc82",
   "metadata": {
    "scrolled": true
   },
   "outputs": [
    {
     "data": {
      "text/plain": [
       "{'xgboost': ['TotalBsmtSF',\n",
       "  'FullBath',\n",
       "  'LotArea',\n",
       "  'BldgType',\n",
       "  'CentralAir',\n",
       "  'GarageQual',\n",
       "  'SaleType',\n",
       "  'LotFrontage',\n",
       "  'Fence',\n",
       "  'PoolArea'],\n",
       " 'catboost': ['TotalBsmtSF',\n",
       "  'FullBath',\n",
       "  'LotArea',\n",
       "  'CentralAir',\n",
       "  'SaleType',\n",
       "  'GarageQual',\n",
       "  'BldgType',\n",
       "  'LotFrontage',\n",
       "  'Fence',\n",
       "  'PoolArea'],\n",
       " 'lightboost': ['TotalBsmtSF',\n",
       "  'FullBath',\n",
       "  'LotArea',\n",
       "  'CentralAir',\n",
       "  'BldgType',\n",
       "  'GarageQual',\n",
       "  'SaleType',\n",
       "  'LotFrontage',\n",
       "  'Fence'],\n",
       " 'decisiontree': ['TotalBsmtSF',\n",
       "  'FullBath',\n",
       "  'BldgType',\n",
       "  'LotArea',\n",
       "  'CentralAir',\n",
       "  'GarageQual'],\n",
       " 'randomforest': ['TotalBsmtSF',\n",
       "  'FullBath',\n",
       "  'LotArea',\n",
       "  'BldgType',\n",
       "  'CentralAir',\n",
       "  'GarageQual',\n",
       "  'LotFrontage',\n",
       "  'SaleType',\n",
       "  'Fence',\n",
       "  'PoolArea']}"
      ]
     },
     "execution_count": 15,
     "metadata": {},
     "output_type": "execute_result"
    }
   ],
   "source": [
    "features_dict"
   ]
  },
  {
   "cell_type": "markdown",
   "id": "bdb32298",
   "metadata": {},
   "source": [
    "* После анализа цикла, выбираем лучший алгоритм относительно скорость / качество. В нашем случае выбор выберем catboost и покажем на его примере."
   ]
  },
  {
   "cell_type": "markdown",
   "id": "b5e24408",
   "metadata": {},
   "source": [
    "## 2. Отбор признаков с помощью углубления древовидных алгоритмов"
   ]
  },
  {
   "cell_type": "markdown",
   "id": "82827418",
   "metadata": {},
   "source": [
    "### 2.1. Задаем класс PermutationSelection. Передаем выборанный нами алгоритм, словарь параметров алгоритмы, а также тип решаемой задачи (покажем на примере catboost)"
   ]
  },
  {
   "cell_type": "code",
   "execution_count": 16,
   "id": "104ccb00",
   "metadata": {},
   "outputs": [
    {
     "data": {
      "text/plain": [
       "'catboost'"
      ]
     },
     "execution_count": 16,
     "metadata": {},
     "output_type": "execute_result"
    }
   ],
   "source": [
    "models_list[1]"
   ]
  },
  {
   "cell_type": "code",
   "execution_count": 17,
   "id": "f758852b",
   "metadata": {},
   "outputs": [
    {
     "data": {
      "text/plain": [
       "{'learning_rate': 0.01,\n",
       " 'iterations': 500,\n",
       " 'subsample': 0.9,\n",
       " 'depth': 6,\n",
       " 'loss_function': 'RMSE',\n",
       " 'thread_count': -1,\n",
       " 'random_state': 42,\n",
       " 'custom_metric': 'RMSE',\n",
       " 'verbose': 0}"
      ]
     },
     "execution_count": 17,
     "metadata": {},
     "output_type": "execute_result"
    }
   ],
   "source": [
    "params_list[1]"
   ]
  },
  {
   "cell_type": "code",
   "execution_count": 18,
   "id": "973c11e3",
   "metadata": {},
   "outputs": [],
   "source": [
    "perm_imp = PermutationSelection(\n",
    "    model_type=models_list[1], \n",
    "    model_params=params_list[1], \n",
    "    task_type='regression')"
   ]
  },
  {
   "cell_type": "markdown",
   "id": "4fdf3d27",
   "metadata": {},
   "source": [
    "### 2.2. Метод depth_analysis используется для отбора факторов относительно глубины алгоритма.\n",
    "\n",
    "* В параметры передаются тренировочная выборка (фолд из тренировочной выборки), целевая переменная, список факторов и максимальная глубина до которой будут расчитываться важности признаков.\n",
    "\n",
    "\n",
    "* На выходе мы получаем таблицу из факторов отсортированных по важности, таблицу из факторов отрсортированных по рангу признака, список факторов из отсортированных по важности, список факторов из отсортированных по рангу.\n",
    "\n",
    "\n",
    "    * Аргоритм отбора относительно глубины: модель обучается на всех факторах в цикле с глубиной от 1 до максимально указанной. Далее выводятся важности по каждому признаку в каждой глубине. После чего значение усредняется по каждому признаку и сортируется по убыванию.\n",
    "    \n",
    "    * Алгоритм отбора относительно ранга в глубине: аналогично предыдущему, только при каждом значении глубины отбираются признаки со значением важности >0, по ним расставляются ранговые значения, и расчитывается среднее внутри каждой глубины. После чего ранги усредняются относительно глубин и сортируются по убыванию."
   ]
  },
  {
   "cell_type": "code",
   "execution_count": 19,
   "id": "08973d15",
   "metadata": {},
   "outputs": [
    {
     "data": {
      "application/vnd.jupyter.widget-view+json": {
       "model_id": "7feaa2b2e97f4e7e8a8c199d6b6b383b",
       "version_major": 2,
       "version_minor": 0
      },
      "text/plain": [
       "  0%|          | 0/5 [00:00<?, ?it/s]"
      ]
     },
     "metadata": {},
     "output_type": "display_data"
    },
    {
     "name": "stdout",
     "output_type": "stream",
     "text": [
      "Количество признаков до отбора: 10\n",
      "==================================================\n",
      "Количество признаков после mean importance относительно глубины: 10\n",
      "Количество признаков после mean rank относительно глубины: 10\n"
     ]
    }
   ],
   "source": [
    "fi, fi_rank, depth_features, rank_features = perm_imp.depth_analysis(\n",
    "    new_X_train, \n",
    "    y_train, \n",
    "    features,\n",
    "    5)"
   ]
  },
  {
   "cell_type": "code",
   "execution_count": 20,
   "id": "7b52ec28",
   "metadata": {},
   "outputs": [
    {
     "data": {
      "text/html": [
       "<div>\n",
       "<style scoped>\n",
       "    .dataframe tbody tr th:only-of-type {\n",
       "        vertical-align: middle;\n",
       "    }\n",
       "\n",
       "    .dataframe tbody tr th {\n",
       "        vertical-align: top;\n",
       "    }\n",
       "\n",
       "    .dataframe thead th {\n",
       "        text-align: right;\n",
       "    }\n",
       "</style>\n",
       "<table border=\"1\" class=\"dataframe\">\n",
       "  <thead>\n",
       "    <tr style=\"text-align: right;\">\n",
       "      <th></th>\n",
       "      <th>importance_depth_1</th>\n",
       "      <th>importance_depth_2</th>\n",
       "      <th>importance_depth_3</th>\n",
       "      <th>importance_depth_4</th>\n",
       "      <th>importance_depth_5</th>\n",
       "      <th>mean_importance</th>\n",
       "      <th>mean_rank</th>\n",
       "    </tr>\n",
       "  </thead>\n",
       "  <tbody>\n",
       "    <tr>\n",
       "      <th>TotalBsmtSF</th>\n",
       "      <td>46.962522</td>\n",
       "      <td>41.747351</td>\n",
       "      <td>38.284152</td>\n",
       "      <td>35.894621</td>\n",
       "      <td>33.627931</td>\n",
       "      <td>39.303315</td>\n",
       "      <td>0.185455</td>\n",
       "    </tr>\n",
       "    <tr>\n",
       "      <th>FullBath</th>\n",
       "      <td>30.428177</td>\n",
       "      <td>29.067838</td>\n",
       "      <td>28.989073</td>\n",
       "      <td>29.168358</td>\n",
       "      <td>29.227895</td>\n",
       "      <td>29.376268</td>\n",
       "      <td>0.166465</td>\n",
       "    </tr>\n",
       "    <tr>\n",
       "      <th>LotArea</th>\n",
       "      <td>12.038321</td>\n",
       "      <td>11.696827</td>\n",
       "      <td>11.991002</td>\n",
       "      <td>11.711556</td>\n",
       "      <td>12.242628</td>\n",
       "      <td>11.936067</td>\n",
       "      <td>0.147475</td>\n",
       "    </tr>\n",
       "    <tr>\n",
       "      <th>BldgType</th>\n",
       "      <td>2.351358</td>\n",
       "      <td>5.262407</td>\n",
       "      <td>7.001603</td>\n",
       "      <td>7.899342</td>\n",
       "      <td>8.133085</td>\n",
       "      <td>6.129559</td>\n",
       "      <td>0.120404</td>\n",
       "    </tr>\n",
       "    <tr>\n",
       "      <th>SaleType</th>\n",
       "      <td>4.335840</td>\n",
       "      <td>5.412221</td>\n",
       "      <td>5.971520</td>\n",
       "      <td>6.404530</td>\n",
       "      <td>6.547577</td>\n",
       "      <td>5.734338</td>\n",
       "      <td>0.117576</td>\n",
       "    </tr>\n",
       "  </tbody>\n",
       "</table>\n",
       "</div>"
      ],
      "text/plain": [
       "             importance_depth_1  importance_depth_2  importance_depth_3  \\\n",
       "TotalBsmtSF           46.962522           41.747351           38.284152   \n",
       "FullBath              30.428177           29.067838           28.989073   \n",
       "LotArea               12.038321           11.696827           11.991002   \n",
       "BldgType               2.351358            5.262407            7.001603   \n",
       "SaleType               4.335840            5.412221            5.971520   \n",
       "\n",
       "             importance_depth_4  importance_depth_5  mean_importance  \\\n",
       "TotalBsmtSF           35.894621           33.627931        39.303315   \n",
       "FullBath              29.168358           29.227895        29.376268   \n",
       "LotArea               11.711556           12.242628        11.936067   \n",
       "BldgType               7.899342            8.133085         6.129559   \n",
       "SaleType               6.404530            6.547577         5.734338   \n",
       "\n",
       "             mean_rank  \n",
       "TotalBsmtSF   0.185455  \n",
       "FullBath      0.166465  \n",
       "LotArea       0.147475  \n",
       "BldgType      0.120404  \n",
       "SaleType      0.117576  "
      ]
     },
     "execution_count": 20,
     "metadata": {},
     "output_type": "execute_result"
    }
   ],
   "source": [
    "# Таблица важностей признаков относительно глубины\n",
    "\n",
    "fi.head()"
   ]
  },
  {
   "cell_type": "code",
   "execution_count": 21,
   "id": "8ac72a9f",
   "metadata": {},
   "outputs": [
    {
     "data": {
      "text/html": [
       "<div>\n",
       "<style scoped>\n",
       "    .dataframe tbody tr th:only-of-type {\n",
       "        vertical-align: middle;\n",
       "    }\n",
       "\n",
       "    .dataframe tbody tr th {\n",
       "        vertical-align: top;\n",
       "    }\n",
       "\n",
       "    .dataframe thead th {\n",
       "        text-align: right;\n",
       "    }\n",
       "</style>\n",
       "<table border=\"1\" class=\"dataframe\">\n",
       "  <thead>\n",
       "    <tr style=\"text-align: right;\">\n",
       "      <th></th>\n",
       "      <th>rank_depth_1</th>\n",
       "      <th>rank_depth_2</th>\n",
       "      <th>rank_depth_3</th>\n",
       "      <th>rank_depth_4</th>\n",
       "      <th>rank_depth_5</th>\n",
       "      <th>mean_rank</th>\n",
       "    </tr>\n",
       "    <tr>\n",
       "      <th>index</th>\n",
       "      <th></th>\n",
       "      <th></th>\n",
       "      <th></th>\n",
       "      <th></th>\n",
       "      <th></th>\n",
       "      <th></th>\n",
       "    </tr>\n",
       "  </thead>\n",
       "  <tbody>\n",
       "    <tr>\n",
       "      <th>TotalBsmtSF</th>\n",
       "      <td>0.200000</td>\n",
       "      <td>0.181818</td>\n",
       "      <td>0.181818</td>\n",
       "      <td>0.181818</td>\n",
       "      <td>0.181818</td>\n",
       "      <td>0.185455</td>\n",
       "    </tr>\n",
       "    <tr>\n",
       "      <th>FullBath</th>\n",
       "      <td>0.177778</td>\n",
       "      <td>0.163636</td>\n",
       "      <td>0.163636</td>\n",
       "      <td>0.163636</td>\n",
       "      <td>0.163636</td>\n",
       "      <td>0.166465</td>\n",
       "    </tr>\n",
       "    <tr>\n",
       "      <th>LotArea</th>\n",
       "      <td>0.155556</td>\n",
       "      <td>0.145455</td>\n",
       "      <td>0.145455</td>\n",
       "      <td>0.145455</td>\n",
       "      <td>0.145455</td>\n",
       "      <td>0.147475</td>\n",
       "    </tr>\n",
       "    <tr>\n",
       "      <th>BldgType</th>\n",
       "      <td>0.111111</td>\n",
       "      <td>0.109091</td>\n",
       "      <td>0.127273</td>\n",
       "      <td>0.127273</td>\n",
       "      <td>0.127273</td>\n",
       "      <td>0.120404</td>\n",
       "    </tr>\n",
       "    <tr>\n",
       "      <th>SaleType</th>\n",
       "      <td>0.133333</td>\n",
       "      <td>0.127273</td>\n",
       "      <td>0.109091</td>\n",
       "      <td>0.109091</td>\n",
       "      <td>0.109091</td>\n",
       "      <td>0.117576</td>\n",
       "    </tr>\n",
       "  </tbody>\n",
       "</table>\n",
       "</div>"
      ],
      "text/plain": [
       "             rank_depth_1  rank_depth_2  rank_depth_3  rank_depth_4  \\\n",
       "index                                                                 \n",
       "TotalBsmtSF      0.200000      0.181818      0.181818      0.181818   \n",
       "FullBath         0.177778      0.163636      0.163636      0.163636   \n",
       "LotArea          0.155556      0.145455      0.145455      0.145455   \n",
       "BldgType         0.111111      0.109091      0.127273      0.127273   \n",
       "SaleType         0.133333      0.127273      0.109091      0.109091   \n",
       "\n",
       "             rank_depth_5  mean_rank  \n",
       "index                                 \n",
       "TotalBsmtSF      0.181818   0.185455  \n",
       "FullBath         0.163636   0.166465  \n",
       "LotArea          0.145455   0.147475  \n",
       "BldgType         0.127273   0.120404  \n",
       "SaleType         0.109091   0.117576  "
      ]
     },
     "execution_count": 21,
     "metadata": {},
     "output_type": "execute_result"
    }
   ],
   "source": [
    "# Таблица рангов признаков относительно глубины\n",
    "\n",
    "fi_rank.head()"
   ]
  },
  {
   "cell_type": "code",
   "execution_count": 22,
   "id": "14f06fb6",
   "metadata": {},
   "outputs": [],
   "source": [
    "# Обновляем признаки после отбора по важностям или рангу относительно глубины\n",
    "\n",
    "new_num_columns = list(filter(lambda x: x in num_columns, depth_features))\n",
    "new_cat_columns = list(filter(lambda x: x in cat_columns, depth_features))"
   ]
  },
  {
   "cell_type": "markdown",
   "id": "93e8ee75",
   "metadata": {},
   "source": [
    "# 3. Проверка Permutation Importance на одной модели с разными алгоритмами sklearn, eli5, собственный код (kib)\n",
    "\n",
    "    * Код является примером. Не обязательно использовать все три способа. Необходимо отталкиваться от размера выборки и типа задачи (классификация, мультикласс, регрессия). Для задач классификации наиболее оптимальными являются eli5 / kib. Для задач регрессии kib / sklearn.\n",
    "    \n",
    "    * Для начала применяем конвеер трансформации категориальных и численных признаков, после чего обучаем алгоритм при наших ранее заданных параметрах."
   ]
  },
  {
   "cell_type": "code",
   "execution_count": 23,
   "id": "5250601c",
   "metadata": {},
   "outputs": [],
   "source": [
    "prep_pipe = base_pipe(\n",
    "    num_columns=new_num_columns, \n",
    "    cat_columns=new_cat_columns, \n",
    "    kind='all')\n",
    "\n",
    "prep_pipe.fit(X_train[depth_features], y_train)\n",
    "\n",
    "new_X_train = prep_pipe.transform(X_train[depth_features])\n",
    "new_X_valid = prep_pipe.transform(X_val[depth_features])\n",
    "\n",
    "# Обучение алгоритма\n",
    "perm_imp.fit(\n",
    "    X_train=new_X_train,\n",
    "    y_train=y_train)"
   ]
  },
  {
   "cell_type": "markdown",
   "id": "6a4f3c28",
   "metadata": {},
   "source": [
    "### 3.1 От Sklearn"
   ]
  },
  {
   "cell_type": "code",
   "execution_count": 24,
   "id": "963ac1b2",
   "metadata": {},
   "outputs": [
    {
     "name": "stdout",
     "output_type": "stream",
     "text": [
      "CPU times: user 69.2 ms, sys: 11.8 ms, total: 81 ms\n",
      "Wall time: 434 ms\n"
     ]
    },
    {
     "data": {
      "text/html": [
       "<div>\n",
       "<style scoped>\n",
       "    .dataframe tbody tr th:only-of-type {\n",
       "        vertical-align: middle;\n",
       "    }\n",
       "\n",
       "    .dataframe tbody tr th {\n",
       "        vertical-align: top;\n",
       "    }\n",
       "\n",
       "    .dataframe thead th {\n",
       "        text-align: right;\n",
       "    }\n",
       "</style>\n",
       "<table border=\"1\" class=\"dataframe\">\n",
       "  <thead>\n",
       "    <tr style=\"text-align: right;\">\n",
       "      <th></th>\n",
       "      <th>Perm_Importance_Tr</th>\n",
       "      <th>Perm_Importance_Te</th>\n",
       "    </tr>\n",
       "    <tr>\n",
       "      <th>Feature</th>\n",
       "      <th></th>\n",
       "      <th></th>\n",
       "    </tr>\n",
       "  </thead>\n",
       "  <tbody>\n",
       "    <tr>\n",
       "      <th>TotalBsmtSF</th>\n",
       "      <td>220.750175</td>\n",
       "      <td>91.119160</td>\n",
       "    </tr>\n",
       "    <tr>\n",
       "      <th>FullBath</th>\n",
       "      <td>170.164983</td>\n",
       "      <td>71.551743</td>\n",
       "    </tr>\n",
       "    <tr>\n",
       "      <th>LotArea</th>\n",
       "      <td>137.841558</td>\n",
       "      <td>57.647103</td>\n",
       "    </tr>\n",
       "    <tr>\n",
       "      <th>SaleType</th>\n",
       "      <td>50.847926</td>\n",
       "      <td>18.336513</td>\n",
       "    </tr>\n",
       "    <tr>\n",
       "      <th>BldgType</th>\n",
       "      <td>26.537764</td>\n",
       "      <td>14.631869</td>\n",
       "    </tr>\n",
       "    <tr>\n",
       "      <th>GarageQual</th>\n",
       "      <td>32.711879</td>\n",
       "      <td>10.486697</td>\n",
       "    </tr>\n",
       "    <tr>\n",
       "      <th>LotFrontage</th>\n",
       "      <td>32.511537</td>\n",
       "      <td>9.622099</td>\n",
       "    </tr>\n",
       "    <tr>\n",
       "      <th>CentralAir</th>\n",
       "      <td>33.363111</td>\n",
       "      <td>8.564518</td>\n",
       "    </tr>\n",
       "    <tr>\n",
       "      <th>Fence</th>\n",
       "      <td>15.197015</td>\n",
       "      <td>4.022369</td>\n",
       "    </tr>\n",
       "    <tr>\n",
       "      <th>random_feature</th>\n",
       "      <td>5.456989</td>\n",
       "      <td>1.672371</td>\n",
       "    </tr>\n",
       "    <tr>\n",
       "      <th>PoolArea</th>\n",
       "      <td>12.312911</td>\n",
       "      <td>-0.230712</td>\n",
       "    </tr>\n",
       "  </tbody>\n",
       "</table>\n",
       "</div>"
      ],
      "text/plain": [
       "                Perm_Importance_Tr  Perm_Importance_Te\n",
       "Feature                                               \n",
       "TotalBsmtSF             220.750175           91.119160\n",
       "FullBath                170.164983           71.551743\n",
       "LotArea                 137.841558           57.647103\n",
       "SaleType                 50.847926           18.336513\n",
       "BldgType                 26.537764           14.631869\n",
       "GarageQual               32.711879           10.486697\n",
       "LotFrontage              32.511537            9.622099\n",
       "CentralAir               33.363111            8.564518\n",
       "Fence                    15.197015            4.022369\n",
       "random_feature            5.456989            1.672371\n",
       "PoolArea                 12.312911           -0.230712"
      ]
     },
     "execution_count": 24,
     "metadata": {},
     "output_type": "execute_result"
    }
   ],
   "source": [
    "%%time\n",
    "\n",
    "# От Sklearn\n",
    "\n",
    "perm_imp.calculate_permutation(\n",
    "    X_test=new_X_valid, \n",
    "    y_test=y_val,\n",
    "    n_iter=15,\n",
    "    permute_type='sklearn',\n",
    "    n_jobs=-1,\n",
    "#   metric=roc_auc_score,\n",
    "#   higher_is_better=True\n",
    ")"
   ]
  },
  {
   "cell_type": "code",
   "execution_count": 25,
   "id": "b7237b54",
   "metadata": {},
   "outputs": [
    {
     "data": {
      "image/png": "[encoded data removed]",
      "text/plain": [
       "<Figure size 864x432 with 1 Axes>"
      ]
     },
     "metadata": {
      "needs_background": "light"
     },
     "output_type": "display_data"
    }
   ],
   "source": [
    "# вызов функции permutation_plot отрисовывает топ важности по методу permutation importance\n",
    "\n",
    "perm_imp.permutation_plot(top=5, figsize=(12,6))"
   ]
  },
  {
   "cell_type": "markdown",
   "id": "c760a59d",
   "metadata": {},
   "source": [
    "#### Вызов функции select_features выдает список отобранных признаков. \n",
    "\n",
    "* Отбор происходит следующим образом:\n",
    "    * Если на тестовом множестве значение метрики относительно перемешанного факторо и рандомного признака ниже нуля, то отбираются все признаки выше нуля.\n",
    "    * Если рандомный признак имеет положительное значение на тестовом множестве, то отбираются все признаки выше значения при рандомном признаке."
   ]
  },
  {
   "cell_type": "code",
   "execution_count": 26,
   "id": "6e1eb7df",
   "metadata": {},
   "outputs": [
    {
     "name": "stdout",
     "output_type": "stream",
     "text": [
      "11 признаков было до Permutation Importance \n",
      "\n",
      "9 признаков после Permutation Importance от sklearn\n"
     ]
    },
    {
     "data": {
      "text/plain": [
       "['TotalBsmtSF',\n",
       " 'FullBath',\n",
       " 'LotArea',\n",
       " 'SaleType',\n",
       " 'BldgType',\n",
       " 'GarageQual',\n",
       " 'LotFrontage',\n",
       " 'CentralAir',\n",
       " 'Fence']"
      ]
     },
     "execution_count": 26,
     "metadata": {},
     "output_type": "execute_result"
    }
   ],
   "source": [
    "perm_imp.select_features()"
   ]
  },
  {
   "cell_type": "markdown",
   "id": "027532e1",
   "metadata": {},
   "source": [
    "### 3.2 От Eli5"
   ]
  },
  {
   "cell_type": "code",
   "execution_count": 27,
   "id": "7219f9b5",
   "metadata": {},
   "outputs": [
    {
     "name": "stdout",
     "output_type": "stream",
     "text": [
      "CPU times: user 1.89 s, sys: 190 ms, total: 2.08 s\n",
      "Wall time: 1.18 s\n"
     ]
    },
    {
     "data": {
      "text/html": [
       "<div>\n",
       "<style scoped>\n",
       "    .dataframe tbody tr th:only-of-type {\n",
       "        vertical-align: middle;\n",
       "    }\n",
       "\n",
       "    .dataframe tbody tr th {\n",
       "        vertical-align: top;\n",
       "    }\n",
       "\n",
       "    .dataframe thead th {\n",
       "        text-align: right;\n",
       "    }\n",
       "</style>\n",
       "<table border=\"1\" class=\"dataframe\">\n",
       "  <thead>\n",
       "    <tr style=\"text-align: right;\">\n",
       "      <th></th>\n",
       "      <th>Perm_Importance_Tr</th>\n",
       "      <th>Perm_Importance_Te</th>\n",
       "    </tr>\n",
       "    <tr>\n",
       "      <th>Feature</th>\n",
       "      <th></th>\n",
       "      <th></th>\n",
       "    </tr>\n",
       "  </thead>\n",
       "  <tbody>\n",
       "    <tr>\n",
       "      <th>TotalBsmtSF</th>\n",
       "      <td>226.723277</td>\n",
       "      <td>93.823868</td>\n",
       "    </tr>\n",
       "    <tr>\n",
       "      <th>FullBath</th>\n",
       "      <td>168.479664</td>\n",
       "      <td>71.869676</td>\n",
       "    </tr>\n",
       "    <tr>\n",
       "      <th>LotArea</th>\n",
       "      <td>147.412751</td>\n",
       "      <td>55.042284</td>\n",
       "    </tr>\n",
       "    <tr>\n",
       "      <th>SaleType</th>\n",
       "      <td>51.767547</td>\n",
       "      <td>18.873177</td>\n",
       "    </tr>\n",
       "    <tr>\n",
       "      <th>BldgType</th>\n",
       "      <td>26.250021</td>\n",
       "      <td>15.879817</td>\n",
       "    </tr>\n",
       "    <tr>\n",
       "      <th>LotFrontage</th>\n",
       "      <td>32.865461</td>\n",
       "      <td>10.424180</td>\n",
       "    </tr>\n",
       "    <tr>\n",
       "      <th>CentralAir</th>\n",
       "      <td>33.654834</td>\n",
       "      <td>9.737823</td>\n",
       "    </tr>\n",
       "    <tr>\n",
       "      <th>GarageQual</th>\n",
       "      <td>33.277807</td>\n",
       "      <td>9.591808</td>\n",
       "    </tr>\n",
       "    <tr>\n",
       "      <th>Fence</th>\n",
       "      <td>15.410129</td>\n",
       "      <td>4.469577</td>\n",
       "    </tr>\n",
       "    <tr>\n",
       "      <th>random_feature</th>\n",
       "      <td>6.147293</td>\n",
       "      <td>1.551905</td>\n",
       "    </tr>\n",
       "    <tr>\n",
       "      <th>PoolArea</th>\n",
       "      <td>11.949773</td>\n",
       "      <td>-0.186108</td>\n",
       "    </tr>\n",
       "  </tbody>\n",
       "</table>\n",
       "</div>"
      ],
      "text/plain": [
       "                Perm_Importance_Tr  Perm_Importance_Te\n",
       "Feature                                               \n",
       "TotalBsmtSF             226.723277           93.823868\n",
       "FullBath                168.479664           71.869676\n",
       "LotArea                 147.412751           55.042284\n",
       "SaleType                 51.767547           18.873177\n",
       "BldgType                 26.250021           15.879817\n",
       "LotFrontage              32.865461           10.424180\n",
       "CentralAir               33.654834            9.737823\n",
       "GarageQual               33.277807            9.591808\n",
       "Fence                    15.410129            4.469577\n",
       "random_feature            6.147293            1.551905\n",
       "PoolArea                 11.949773           -0.186108"
      ]
     },
     "execution_count": 27,
     "metadata": {},
     "output_type": "execute_result"
    }
   ],
   "source": [
    "%%time\n",
    "\n",
    "# От Eli5\n",
    "\n",
    "perm_imp.calculate_permutation(\n",
    "    X_test=new_X_valid, \n",
    "    y_test=y_val,\n",
    "    n_iter=15,\n",
    "    permute_type='eli5',\n",
    "#   n_jobs=-1,\n",
    "#   metric=roc_auc_score,\n",
    "#   higher_is_better=True\n",
    ")"
   ]
  },
  {
   "cell_type": "code",
   "execution_count": 28,
   "id": "852408a7",
   "metadata": {},
   "outputs": [
    {
     "data": {
      "image/png": "[encoded data removed]",
      "text/plain": [
       "<Figure size 864x432 with 1 Axes>"
      ]
     },
     "metadata": {
      "needs_background": "light"
     },
     "output_type": "display_data"
    }
   ],
   "source": [
    "perm_imp.permutation_plot(top=5, figsize=(12,6))"
   ]
  },
  {
   "cell_type": "code",
   "execution_count": 29,
   "id": "d14e49d4",
   "metadata": {},
   "outputs": [
    {
     "name": "stdout",
     "output_type": "stream",
     "text": [
      "11 признаков было до Permutation Importance \n",
      "\n",
      "9 признаков после Permutation Importance от eli5\n"
     ]
    },
    {
     "data": {
      "text/plain": [
       "['TotalBsmtSF',\n",
       " 'FullBath',\n",
       " 'LotArea',\n",
       " 'SaleType',\n",
       " 'BldgType',\n",
       " 'LotFrontage',\n",
       " 'CentralAir',\n",
       " 'GarageQual',\n",
       " 'Fence']"
      ]
     },
     "execution_count": 29,
     "metadata": {},
     "output_type": "execute_result"
    }
   ],
   "source": [
    "perm_imp.select_features()"
   ]
  },
  {
   "cell_type": "markdown",
   "id": "7209409c",
   "metadata": {},
   "source": [
    "### 3.3 Самописный permutation kib"
   ]
  },
  {
   "cell_type": "code",
   "execution_count": 30,
   "id": "3c47fc0a",
   "metadata": {},
   "outputs": [
    {
     "name": "stdout",
     "output_type": "stream",
     "text": [
      "Расчет Permutation Importance на Train\n"
     ]
    },
    {
     "name": "stderr",
     "output_type": "stream",
     "text": [
      "100%|████████████████████████████████████████| 11/11 [00:00<00:00, 10273.29it/s]\n"
     ]
    },
    {
     "name": "stdout",
     "output_type": "stream",
     "text": [
      "Расчет Permutation Importance на Test\n"
     ]
    },
    {
     "name": "stderr",
     "output_type": "stream",
     "text": [
      "100%|████████████████████████████████████████| 11/11 [00:00<00:00, 26439.74it/s]"
     ]
    },
    {
     "name": "stdout",
     "output_type": "stream",
     "text": [
      "CPU times: user 55.1 ms, sys: 8.4 ms, total: 63.5 ms\n",
      "Wall time: 193 ms\n"
     ]
    },
    {
     "name": "stderr",
     "output_type": "stream",
     "text": [
      "\n"
     ]
    },
    {
     "data": {
      "text/html": [
       "<div>\n",
       "<style scoped>\n",
       "    .dataframe tbody tr th:only-of-type {\n",
       "        vertical-align: middle;\n",
       "    }\n",
       "\n",
       "    .dataframe tbody tr th {\n",
       "        vertical-align: top;\n",
       "    }\n",
       "\n",
       "    .dataframe thead th {\n",
       "        text-align: right;\n",
       "    }\n",
       "</style>\n",
       "<table border=\"1\" class=\"dataframe\">\n",
       "  <thead>\n",
       "    <tr style=\"text-align: right;\">\n",
       "      <th></th>\n",
       "      <th>Perm_Importance_Tr</th>\n",
       "      <th>Perm_Importance_Te</th>\n",
       "    </tr>\n",
       "    <tr>\n",
       "      <th>Feature</th>\n",
       "      <th></th>\n",
       "      <th></th>\n",
       "    </tr>\n",
       "  </thead>\n",
       "  <tbody>\n",
       "    <tr>\n",
       "      <th>TotalBsmtSF</th>\n",
       "      <td>0.409922</td>\n",
       "      <td>0.449625</td>\n",
       "    </tr>\n",
       "    <tr>\n",
       "      <th>FullBath</th>\n",
       "      <td>0.400166</td>\n",
       "      <td>0.443372</td>\n",
       "    </tr>\n",
       "    <tr>\n",
       "      <th>LotArea</th>\n",
       "      <td>0.349849</td>\n",
       "      <td>0.378941</td>\n",
       "    </tr>\n",
       "    <tr>\n",
       "      <th>SaleType</th>\n",
       "      <td>0.333166</td>\n",
       "      <td>0.369120</td>\n",
       "    </tr>\n",
       "    <tr>\n",
       "      <th>CentralAir</th>\n",
       "      <td>0.333818</td>\n",
       "      <td>0.368713</td>\n",
       "    </tr>\n",
       "    <tr>\n",
       "      <th>GarageQual</th>\n",
       "      <td>0.330999</td>\n",
       "      <td>0.368427</td>\n",
       "    </tr>\n",
       "    <tr>\n",
       "      <th>BldgType</th>\n",
       "      <td>0.335932</td>\n",
       "      <td>0.366453</td>\n",
       "    </tr>\n",
       "    <tr>\n",
       "      <th>LotFrontage</th>\n",
       "      <td>0.324048</td>\n",
       "      <td>0.360913</td>\n",
       "    </tr>\n",
       "    <tr>\n",
       "      <th>Fence</th>\n",
       "      <td>0.322998</td>\n",
       "      <td>0.360466</td>\n",
       "    </tr>\n",
       "    <tr>\n",
       "      <th>PoolArea</th>\n",
       "      <td>0.321318</td>\n",
       "      <td>0.359458</td>\n",
       "    </tr>\n",
       "    <tr>\n",
       "      <th>random_feature</th>\n",
       "      <td>0.323883</td>\n",
       "      <td>0.358682</td>\n",
       "    </tr>\n",
       "  </tbody>\n",
       "</table>\n",
       "</div>"
      ],
      "text/plain": [
       "                Perm_Importance_Tr  Perm_Importance_Te\n",
       "Feature                                               \n",
       "TotalBsmtSF               0.409922            0.449625\n",
       "FullBath                  0.400166            0.443372\n",
       "LotArea                   0.349849            0.378941\n",
       "SaleType                  0.333166            0.369120\n",
       "CentralAir                0.333818            0.368713\n",
       "GarageQual                0.330999            0.368427\n",
       "BldgType                  0.335932            0.366453\n",
       "LotFrontage               0.324048            0.360913\n",
       "Fence                     0.322998            0.360466\n",
       "PoolArea                  0.321318            0.359458\n",
       "random_feature            0.323883            0.358682"
      ]
     },
     "execution_count": 30,
     "metadata": {},
     "output_type": "execute_result"
    }
   ],
   "source": [
    "%%time\n",
    "\n",
    "# Самописный permutation\n",
    "\n",
    "perm_imp.calculate_permutation(\n",
    "    X_test=new_X_valid, \n",
    "    y_test=y_val,\n",
    "    n_iter=15,\n",
    "    permute_type='kib',\n",
    "    n_jobs=-1,\n",
    "    metric=mean_absolute_percentage_error,\n",
    "    higher_is_better=False)"
   ]
  },
  {
   "cell_type": "code",
   "execution_count": 31,
   "id": "ca22dea8",
   "metadata": {
    "scrolled": true
   },
   "outputs": [
    {
     "data": {
      "image/png": "[encoded data removed]",
      "text/plain": [
       "<Figure size 864x360 with 1 Axes>"
      ]
     },
     "metadata": {
      "needs_background": "light"
     },
     "output_type": "display_data"
    }
   ],
   "source": [
    "perm_imp.permutation_plot(top=5, figsize=(12,5))"
   ]
  },
  {
   "cell_type": "code",
   "execution_count": 32,
   "id": "036741ef",
   "metadata": {
    "scrolled": true
   },
   "outputs": [
    {
     "name": "stdout",
     "output_type": "stream",
     "text": [
      "11 признаков было до Permutation Importance \n",
      "\n",
      "10 признаков после Permutation Importance от kib\n"
     ]
    },
    {
     "data": {
      "text/plain": [
       "['TotalBsmtSF',\n",
       " 'FullBath',\n",
       " 'LotArea',\n",
       " 'SaleType',\n",
       " 'CentralAir',\n",
       " 'GarageQual',\n",
       " 'BldgType',\n",
       " 'LotFrontage',\n",
       " 'Fence',\n",
       " 'PoolArea']"
      ]
     },
     "execution_count": 32,
     "metadata": {},
     "output_type": "execute_result"
    }
   ],
   "source": [
    "perm_imp.select_features()"
   ]
  },
  {
   "cell_type": "code",
   "execution_count": null,
   "id": "34802aba",
   "metadata": {},
   "outputs": [],
   "source": []
  },
  {
   "cell_type": "code",
   "execution_count": null,
   "id": "35c45dbb",
   "metadata": {},
   "outputs": [],
   "source": []
  },
  {
   "cell_type": "raw",
   "id": "6203a718",
   "metadata": {},
   "source": []
  },
  {
   "cell_type": "raw",
   "id": "24d78080",
   "metadata": {},
   "source": []
  }
 ],
 "metadata": {
  "kernelspec": {
   "display_name": "Python 3 (ipykernel)",
   "language": "python",
   "name": "python3"
  },
  "language_info": {
   "codemirror_mode": {
    "name": "ipython",
    "version": 3
   },
   "file_extension": ".py",
   "mimetype": "text/x-python",
   "name": "python",
   "nbconvert_exporter": "python",
   "pygments_lexer": "ipython3",
   "version": "3.9.7"
  }
 },
 "nbformat": 4,
 "nbformat_minor": 5
}
