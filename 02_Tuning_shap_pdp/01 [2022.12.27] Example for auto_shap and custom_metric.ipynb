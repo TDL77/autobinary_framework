{
 "cells": [
  {
   "cell_type": "markdown",
   "id": "af347943",
   "metadata": {},
   "source": [
    "# Демонстрация автоматического расчета shap"
   ]
  },
  {
   "cell_type": "code",
   "execution_count": 1,
   "id": "ca3ca0d9",
   "metadata": {},
   "outputs": [
    {
     "data": {
      "text/html": [
       "<style>.container {width:95% !important;}</style>"
      ],
      "text/plain": [
       "<IPython.core.display.HTML object>"
      ]
     },
     "metadata": {},
     "output_type": "display_data"
    }
   ],
   "source": [
    "# расширяем поле, убираем предупреждения\n",
    "from IPython.core.display import display, HTML\n",
    "display(HTML('<style>.container {width:95% !important;}</style>'))\n",
    "\n",
    "import warnings\n",
    "warnings.filterwarnings('ignore')"
   ]
  },
  {
   "cell_type": "code",
   "execution_count": 2,
   "id": "5f4763df",
   "metadata": {},
   "outputs": [],
   "source": [
    "# Стандартные библиотеки для анализа\n",
    "import pandas as pd\n",
    "\n",
    "from sklearn.model_selection import train_test_split, StratifiedKFold\n",
    "from sklearn.impute import SimpleImputer\n",
    "\n",
    "from sklearn.pipeline import Pipeline\n",
    "from sklearn.compose import ColumnTransformer\n",
    "\n",
    "import xgboost as xgb\n",
    "\n",
    "import matplotlib.pylab as pl"
   ]
  },
  {
   "cell_type": "code",
   "execution_count": 3,
   "id": "4d426c99",
   "metadata": {},
   "outputs": [],
   "source": [
    "import sys\n",
    "sys.path.append('../')\n",
    "\n",
    "# Наша разработанная библиотека\n",
    "from autobinary import SentColumns, CatBoostEncoder, AutoTrees, base_pipe, PlotShap, BalanceCover"
   ]
  },
  {
   "cell_type": "code",
   "execution_count": 4,
   "id": "5c4cf4f5",
   "metadata": {},
   "outputs": [
    {
     "name": "stdout",
     "output_type": "stream",
     "text": [
      "sklearn:  0.24.2\n",
      "xgboost:  1.5.2\n",
      "matplotlib:  3.1.0\n",
      "autobinary:  1.0.6\n"
     ]
    }
   ],
   "source": [
    "import sklearn as sk\n",
    "import xgboost as xgb\n",
    "import matplotlib as mplot\n",
    "import autobinary as ab\n",
    "\n",
    "print('sklearn: ', sk.__version__)\n",
    "print('xgboost: ', xgb.__version__)\n",
    "print('matplotlib: ', mplot.__version__)\n",
    "print('autobinary: ', ab.__version__)"
   ]
  },
  {
   "cell_type": "code",
   "execution_count": 5,
   "id": "793cc2de",
   "metadata": {},
   "outputs": [
    {
     "name": "stdout",
     "output_type": "stream",
     "text": [
      "Размерность данных: (891, 12)\n"
     ]
    },
    {
     "data": {
      "text/html": [
       "<div>\n",
       "<style scoped>\n",
       "    .dataframe tbody tr th:only-of-type {\n",
       "        vertical-align: middle;\n",
       "    }\n",
       "\n",
       "    .dataframe tbody tr th {\n",
       "        vertical-align: top;\n",
       "    }\n",
       "\n",
       "    .dataframe thead th {\n",
       "        text-align: right;\n",
       "    }\n",
       "</style>\n",
       "<table border=\"1\" class=\"dataframe\">\n",
       "  <thead>\n",
       "    <tr style=\"text-align: right;\">\n",
       "      <th></th>\n",
       "      <th>PassengerId</th>\n",
       "      <th>Survived</th>\n",
       "      <th>Pclass</th>\n",
       "      <th>Name</th>\n",
       "      <th>Sex</th>\n",
       "      <th>Age</th>\n",
       "      <th>SibSp</th>\n",
       "      <th>Parch</th>\n",
       "      <th>Ticket</th>\n",
       "      <th>Fare</th>\n",
       "      <th>Cabin</th>\n",
       "      <th>Embarked</th>\n",
       "    </tr>\n",
       "  </thead>\n",
       "  <tbody>\n",
       "    <tr>\n",
       "      <th>0</th>\n",
       "      <td>1</td>\n",
       "      <td>0</td>\n",
       "      <td>3</td>\n",
       "      <td>Braund, Mr. Owen Harris</td>\n",
       "      <td>male</td>\n",
       "      <td>22.0</td>\n",
       "      <td>1</td>\n",
       "      <td>0</td>\n",
       "      <td>A/5 21171</td>\n",
       "      <td>7.2500</td>\n",
       "      <td>NaN</td>\n",
       "      <td>S</td>\n",
       "    </tr>\n",
       "    <tr>\n",
       "      <th>1</th>\n",
       "      <td>2</td>\n",
       "      <td>1</td>\n",
       "      <td>1</td>\n",
       "      <td>Cumings, Mrs. John Bradley (Florence Briggs Th...</td>\n",
       "      <td>female</td>\n",
       "      <td>38.0</td>\n",
       "      <td>1</td>\n",
       "      <td>0</td>\n",
       "      <td>PC 17599</td>\n",
       "      <td>71.2833</td>\n",
       "      <td>C85</td>\n",
       "      <td>C</td>\n",
       "    </tr>\n",
       "  </tbody>\n",
       "</table>\n",
       "</div>"
      ],
      "text/plain": [
       "   PassengerId  Survived  Pclass  \\\n",
       "0            1         0       3   \n",
       "1            2         1       1   \n",
       "\n",
       "                                                Name     Sex   Age  SibSp  \\\n",
       "0                            Braund, Mr. Owen Harris    male  22.0      1   \n",
       "1  Cumings, Mrs. John Bradley (Florence Briggs Th...  female  38.0      1   \n",
       "\n",
       "   Parch     Ticket     Fare Cabin Embarked  \n",
       "0      0  A/5 21171   7.2500   NaN        S  \n",
       "1      0   PC 17599  71.2833   C85        C  "
      ]
     },
     "execution_count": 5,
     "metadata": {},
     "output_type": "execute_result"
    }
   ],
   "source": [
    "sample = pd.read_csv('../data/train_titanic.csv')\n",
    "\n",
    "print('Размерность данных:', sample.shape)\n",
    "sample.head(2)"
   ]
  },
  {
   "cell_type": "code",
   "execution_count": 6,
   "id": "a85be2a1",
   "metadata": {},
   "outputs": [],
   "source": [
    "num_columns = [\n",
    "    'Age', 'Fare'\n",
    "]\n",
    "\n",
    "cat_columns = [\n",
    "    'Pclass', 'Sex', 'Embarked', 'SibSp', 'Parch'\n",
    "]\n",
    "\n",
    "target = ['Survived']"
   ]
  },
  {
   "cell_type": "code",
   "execution_count": 7,
   "id": "764da3ab",
   "metadata": {},
   "outputs": [],
   "source": [
    "X_train, X_valid, y_train, y_valid = train_test_split(\n",
    "    sample,\n",
    "    sample[target],\n",
    "    test_size=0.3,\n",
    "    stratify=sample[target],\n",
    "    random_state=42\n",
    ")"
   ]
  },
  {
   "cell_type": "code",
   "execution_count": 8,
   "id": "ec7a509d",
   "metadata": {},
   "outputs": [],
   "source": [
    "prep_pipe = base_pipe(\n",
    "    num_columns=num_columns, \n",
    "    cat_columns=cat_columns)"
   ]
  },
  {
   "cell_type": "code",
   "execution_count": 9,
   "id": "55ec7e79",
   "metadata": {},
   "outputs": [],
   "source": [
    "prep_pipe.fit(X_train, y_train)\n",
    "\n",
    "new_X_train = prep_pipe.transform(X_train)\n",
    "new_X_valid = prep_pipe.transform(X_valid)"
   ]
  },
  {
   "cell_type": "code",
   "execution_count": 10,
   "id": "7aae3cde",
   "metadata": {},
   "outputs": [],
   "source": [
    "# создаем экземпляр класса XGBClassifier\n",
    "xgb_model = xgb.XGBClassifier(\n",
    "    eta=0.01,\n",
    "    n_estimators=800,\n",
    "    subsample=0.8,\n",
    "    colsample_bytree=0.8,\n",
    "    max_depth = 6,\n",
    "    objective='binary:logistic',\n",
    "    use_label_encoder=False,\n",
    "    n_jobs=-1,\n",
    "    random_state=42)"
   ]
  },
  {
   "cell_type": "code",
   "execution_count": 11,
   "id": "07aff21b",
   "metadata": {},
   "outputs": [
    {
     "name": "stdout",
     "output_type": "stream",
     "text": [
      "[02:29:46] WARNING: /Users/runner/work/xgboost/xgboost/src/learner.cc:1115: Starting in XGBoost 1.3.0, the default evaluation metric used with the objective 'binary:logistic' was changed from 'error' to 'logloss'. Explicitly set eval_metric if you'd like to restore the old behavior.\n"
     ]
    }
   ],
   "source": [
    "xgb_model.fit(new_X_train, y_train);"
   ]
  },
  {
   "cell_type": "markdown",
   "id": "bf1528d3",
   "metadata": {},
   "source": [
    "## 1. Кастомная метрика"
   ]
  },
  {
   "cell_type": "code",
   "execution_count": 12,
   "id": "9ebc4b77",
   "metadata": {},
   "outputs": [
    {
     "data": {
      "text/html": [
       "<div>\n",
       "<style scoped>\n",
       "    .dataframe tbody tr th:only-of-type {\n",
       "        vertical-align: middle;\n",
       "    }\n",
       "\n",
       "    .dataframe tbody tr th {\n",
       "        vertical-align: top;\n",
       "    }\n",
       "\n",
       "    .dataframe thead th {\n",
       "        text-align: right;\n",
       "    }\n",
       "</style>\n",
       "<table border=\"1\" class=\"dataframe\">\n",
       "  <thead>\n",
       "    <tr style=\"text-align: right;\">\n",
       "      <th></th>\n",
       "      <th>target</th>\n",
       "      <th>proba</th>\n",
       "    </tr>\n",
       "  </thead>\n",
       "  <tbody>\n",
       "    <tr>\n",
       "      <th>0</th>\n",
       "      <td>1</td>\n",
       "      <td>0.991804</td>\n",
       "    </tr>\n",
       "    <tr>\n",
       "      <th>1</th>\n",
       "      <td>1</td>\n",
       "      <td>0.989071</td>\n",
       "    </tr>\n",
       "  </tbody>\n",
       "</table>\n",
       "</div>"
      ],
      "text/plain": [
       "   target     proba\n",
       "0       1  0.991804\n",
       "1       1  0.989071"
      ]
     },
     "execution_count": 12,
     "metadata": {},
     "output_type": "execute_result"
    }
   ],
   "source": [
    "df_train = pd.DataFrame()\n",
    "df_train['target'] = y_train\n",
    "df_train['proba'] = xgb_model.predict_proba(new_X_train)[:, 1]\n",
    "df_train = df_train.sort_values('proba', ascending=False).reset_index(drop=True)\n",
    "\n",
    "df_train.head(2)"
   ]
  },
  {
   "cell_type": "code",
   "execution_count": 13,
   "id": "87484460",
   "metadata": {},
   "outputs": [
    {
     "data": {
      "text/html": [
       "<div>\n",
       "<style scoped>\n",
       "    .dataframe tbody tr th:only-of-type {\n",
       "        vertical-align: middle;\n",
       "    }\n",
       "\n",
       "    .dataframe tbody tr th {\n",
       "        vertical-align: top;\n",
       "    }\n",
       "\n",
       "    .dataframe thead th {\n",
       "        text-align: right;\n",
       "    }\n",
       "</style>\n",
       "<table border=\"1\" class=\"dataframe\">\n",
       "  <thead>\n",
       "    <tr style=\"text-align: right;\">\n",
       "      <th></th>\n",
       "      <th>target</th>\n",
       "      <th>proba</th>\n",
       "    </tr>\n",
       "  </thead>\n",
       "  <tbody>\n",
       "    <tr>\n",
       "      <th>0</th>\n",
       "      <td>1</td>\n",
       "      <td>0.991994</td>\n",
       "    </tr>\n",
       "    <tr>\n",
       "      <th>1</th>\n",
       "      <td>1</td>\n",
       "      <td>0.989649</td>\n",
       "    </tr>\n",
       "  </tbody>\n",
       "</table>\n",
       "</div>"
      ],
      "text/plain": [
       "   target     proba\n",
       "0       1  0.991994\n",
       "1       1  0.989649"
      ]
     },
     "execution_count": 13,
     "metadata": {},
     "output_type": "execute_result"
    }
   ],
   "source": [
    "df_valid = pd.DataFrame()\n",
    "df_valid['target'] = y_valid\n",
    "df_valid['proba'] = xgb_model.predict_proba(new_X_valid)[:, 1]\n",
    "df_valid = df_valid.sort_values('proba', ascending=False).reset_index(drop=True)\n",
    "\n",
    "df_valid.head(2)"
   ]
  },
  {
   "cell_type": "markdown",
   "id": "db301f63",
   "metadata": {},
   "source": [
    "### 1.1 TRAIN - Накапливаемые статистики"
   ]
  },
  {
   "cell_type": "code",
   "execution_count": 14,
   "id": "99502bc4",
   "metadata": {},
   "outputs": [],
   "source": [
    "metr_train = BalanceCover(df_train, target='target')"
   ]
  },
  {
   "cell_type": "code",
   "execution_count": 15,
   "id": "2c951d24",
   "metadata": {},
   "outputs": [
    {
     "name": "stdout",
     "output_type": "stream",
     "text": [
      "Всего записей в выборке:  623\n",
      "Всего таргетов в выборке:  239\n"
     ]
    },
    {
     "data": {
      "image/png": "[encoded data removed]",
      "text/plain": [
       "<Figure size 432x288 with 1 Axes>"
      ]
     },
     "metadata": {
      "needs_background": "light"
     },
     "output_type": "display_data"
    },
    {
     "data": {
      "image/png": "[encoded data removed]",
      "text/plain": [
       "<Figure size 432x288 with 1 Axes>"
      ]
     },
     "metadata": {
      "needs_background": "light"
     },
     "output_type": "display_data"
    }
   ],
   "source": [
    "metr_train.calc_scores(30, df_train.shape[0])\n",
    "\n",
    "metr_train.sample_describe()\n",
    "metr_train.plot_scores()"
   ]
  },
  {
   "cell_type": "code",
   "execution_count": 16,
   "id": "ad132442",
   "metadata": {
    "scrolled": true
   },
   "outputs": [
    {
     "data": {
      "text/html": [
       "<div>\n",
       "<style scoped>\n",
       "    .dataframe tbody tr th:only-of-type {\n",
       "        vertical-align: middle;\n",
       "    }\n",
       "\n",
       "    .dataframe tbody tr th {\n",
       "        vertical-align: top;\n",
       "    }\n",
       "\n",
       "    .dataframe thead th {\n",
       "        text-align: right;\n",
       "    }\n",
       "</style>\n",
       "<table border=\"1\" class=\"dataframe\">\n",
       "  <thead>\n",
       "    <tr style=\"text-align: right;\">\n",
       "      <th></th>\n",
       "      <th>start_bucket</th>\n",
       "      <th>end_bucket</th>\n",
       "      <th>turget_in_bucket</th>\n",
       "      <th>bucket_bal (%)</th>\n",
       "      <th>coverage (%)</th>\n",
       "      <th>base_bal (%)</th>\n",
       "      <th>bucket_bal/base_bal</th>\n",
       "      <th>auc</th>\n",
       "    </tr>\n",
       "  </thead>\n",
       "  <tbody>\n",
       "    <tr>\n",
       "      <th>0</th>\n",
       "      <td>0</td>\n",
       "      <td>30</td>\n",
       "      <td>30</td>\n",
       "      <td>100.000000</td>\n",
       "      <td>12.552301</td>\n",
       "      <td>38.362761</td>\n",
       "      <td>2.606695</td>\n",
       "      <td>100.000000</td>\n",
       "    </tr>\n",
       "    <tr>\n",
       "      <th>1</th>\n",
       "      <td>0</td>\n",
       "      <td>60</td>\n",
       "      <td>60</td>\n",
       "      <td>100.000000</td>\n",
       "      <td>25.104603</td>\n",
       "      <td>38.362761</td>\n",
       "      <td>2.606695</td>\n",
       "      <td>100.000000</td>\n",
       "    </tr>\n",
       "    <tr>\n",
       "      <th>2</th>\n",
       "      <td>0</td>\n",
       "      <td>90</td>\n",
       "      <td>90</td>\n",
       "      <td>100.000000</td>\n",
       "      <td>37.656904</td>\n",
       "      <td>38.362761</td>\n",
       "      <td>2.606695</td>\n",
       "      <td>100.000000</td>\n",
       "    </tr>\n",
       "    <tr>\n",
       "      <th>3</th>\n",
       "      <td>0</td>\n",
       "      <td>120</td>\n",
       "      <td>120</td>\n",
       "      <td>100.000000</td>\n",
       "      <td>50.209205</td>\n",
       "      <td>38.362761</td>\n",
       "      <td>2.606695</td>\n",
       "      <td>100.000000</td>\n",
       "    </tr>\n",
       "    <tr>\n",
       "      <th>4</th>\n",
       "      <td>0</td>\n",
       "      <td>150</td>\n",
       "      <td>149</td>\n",
       "      <td>99.333333</td>\n",
       "      <td>62.343096</td>\n",
       "      <td>38.362761</td>\n",
       "      <td>2.589317</td>\n",
       "      <td>87.583893</td>\n",
       "    </tr>\n",
       "    <tr>\n",
       "      <th>5</th>\n",
       "      <td>0</td>\n",
       "      <td>180</td>\n",
       "      <td>178</td>\n",
       "      <td>98.888889</td>\n",
       "      <td>74.476987</td>\n",
       "      <td>38.362761</td>\n",
       "      <td>2.577731</td>\n",
       "      <td>81.882022</td>\n",
       "    </tr>\n",
       "    <tr>\n",
       "      <th>6</th>\n",
       "      <td>0</td>\n",
       "      <td>210</td>\n",
       "      <td>201</td>\n",
       "      <td>95.714286</td>\n",
       "      <td>84.100418</td>\n",
       "      <td>38.362761</td>\n",
       "      <td>2.494979</td>\n",
       "      <td>90.961857</td>\n",
       "    </tr>\n",
       "    <tr>\n",
       "      <th>7</th>\n",
       "      <td>0</td>\n",
       "      <td>240</td>\n",
       "      <td>216</td>\n",
       "      <td>90.000000</td>\n",
       "      <td>90.376569</td>\n",
       "      <td>38.362761</td>\n",
       "      <td>2.346025</td>\n",
       "      <td>91.936728</td>\n",
       "    </tr>\n",
       "    <tr>\n",
       "      <th>8</th>\n",
       "      <td>0</td>\n",
       "      <td>270</td>\n",
       "      <td>226</td>\n",
       "      <td>83.703704</td>\n",
       "      <td>94.560669</td>\n",
       "      <td>38.362761</td>\n",
       "      <td>2.181900</td>\n",
       "      <td>92.256637</td>\n",
       "    </tr>\n",
       "    <tr>\n",
       "      <th>9</th>\n",
       "      <td>0</td>\n",
       "      <td>300</td>\n",
       "      <td>230</td>\n",
       "      <td>76.666667</td>\n",
       "      <td>96.234310</td>\n",
       "      <td>38.362761</td>\n",
       "      <td>1.998466</td>\n",
       "      <td>93.708075</td>\n",
       "    </tr>\n",
       "    <tr>\n",
       "      <th>10</th>\n",
       "      <td>0</td>\n",
       "      <td>330</td>\n",
       "      <td>232</td>\n",
       "      <td>70.303030</td>\n",
       "      <td>97.071130</td>\n",
       "      <td>38.362761</td>\n",
       "      <td>1.832585</td>\n",
       "      <td>94.891362</td>\n",
       "    </tr>\n",
       "    <tr>\n",
       "      <th>11</th>\n",
       "      <td>0</td>\n",
       "      <td>360</td>\n",
       "      <td>236</td>\n",
       "      <td>65.555556</td>\n",
       "      <td>98.744770</td>\n",
       "      <td>38.362761</td>\n",
       "      <td>1.708833</td>\n",
       "      <td>94.602583</td>\n",
       "    </tr>\n",
       "    <tr>\n",
       "      <th>12</th>\n",
       "      <td>0</td>\n",
       "      <td>390</td>\n",
       "      <td>238</td>\n",
       "      <td>61.025641</td>\n",
       "      <td>99.581590</td>\n",
       "      <td>38.362761</td>\n",
       "      <td>1.590752</td>\n",
       "      <td>94.830827</td>\n",
       "    </tr>\n",
       "    <tr>\n",
       "      <th>13</th>\n",
       "      <td>0</td>\n",
       "      <td>420</td>\n",
       "      <td>239</td>\n",
       "      <td>56.904762</td>\n",
       "      <td>100.000000</td>\n",
       "      <td>38.362761</td>\n",
       "      <td>1.483333</td>\n",
       "      <td>95.313114</td>\n",
       "    </tr>\n",
       "    <tr>\n",
       "      <th>14</th>\n",
       "      <td>0</td>\n",
       "      <td>450</td>\n",
       "      <td>239</td>\n",
       "      <td>53.111111</td>\n",
       "      <td>100.000000</td>\n",
       "      <td>38.362761</td>\n",
       "      <td>1.384444</td>\n",
       "      <td>95.979496</td>\n",
       "    </tr>\n",
       "    <tr>\n",
       "      <th>15</th>\n",
       "      <td>0</td>\n",
       "      <td>480</td>\n",
       "      <td>239</td>\n",
       "      <td>49.791667</td>\n",
       "      <td>100.000000</td>\n",
       "      <td>38.362761</td>\n",
       "      <td>1.297917</td>\n",
       "      <td>96.479974</td>\n",
       "    </tr>\n",
       "    <tr>\n",
       "      <th>16</th>\n",
       "      <td>0</td>\n",
       "      <td>510</td>\n",
       "      <td>239</td>\n",
       "      <td>46.862745</td>\n",
       "      <td>100.000000</td>\n",
       "      <td>38.362761</td>\n",
       "      <td>1.221569</td>\n",
       "      <td>96.869644</td>\n",
       "    </tr>\n",
       "    <tr>\n",
       "      <th>17</th>\n",
       "      <td>0</td>\n",
       "      <td>540</td>\n",
       "      <td>239</td>\n",
       "      <td>44.259259</td>\n",
       "      <td>100.000000</td>\n",
       "      <td>38.362761</td>\n",
       "      <td>1.153704</td>\n",
       "      <td>97.181640</td>\n",
       "    </tr>\n",
       "    <tr>\n",
       "      <th>18</th>\n",
       "      <td>0</td>\n",
       "      <td>570</td>\n",
       "      <td>239</td>\n",
       "      <td>41.929825</td>\n",
       "      <td>100.000000</td>\n",
       "      <td>38.362761</td>\n",
       "      <td>1.092982</td>\n",
       "      <td>97.437080</td>\n",
       "    </tr>\n",
       "    <tr>\n",
       "      <th>19</th>\n",
       "      <td>0</td>\n",
       "      <td>600</td>\n",
       "      <td>239</td>\n",
       "      <td>39.833333</td>\n",
       "      <td>100.000000</td>\n",
       "      <td>38.362761</td>\n",
       "      <td>1.038333</td>\n",
       "      <td>97.650065</td>\n",
       "    </tr>\n",
       "    <tr>\n",
       "      <th>20</th>\n",
       "      <td>0</td>\n",
       "      <td>630</td>\n",
       "      <td>239</td>\n",
       "      <td>37.936508</td>\n",
       "      <td>100.000000</td>\n",
       "      <td>38.362761</td>\n",
       "      <td>0.988889</td>\n",
       "      <td>97.790817</td>\n",
       "    </tr>\n",
       "  </tbody>\n",
       "</table>\n",
       "</div>"
      ],
      "text/plain": [
       "    start_bucket  end_bucket  turget_in_bucket  bucket_bal (%)  coverage (%)  \\\n",
       "0              0          30                30      100.000000     12.552301   \n",
       "1              0          60                60      100.000000     25.104603   \n",
       "2              0          90                90      100.000000     37.656904   \n",
       "3              0         120               120      100.000000     50.209205   \n",
       "4              0         150               149       99.333333     62.343096   \n",
       "5              0         180               178       98.888889     74.476987   \n",
       "6              0         210               201       95.714286     84.100418   \n",
       "7              0         240               216       90.000000     90.376569   \n",
       "8              0         270               226       83.703704     94.560669   \n",
       "9              0         300               230       76.666667     96.234310   \n",
       "10             0         330               232       70.303030     97.071130   \n",
       "11             0         360               236       65.555556     98.744770   \n",
       "12             0         390               238       61.025641     99.581590   \n",
       "13             0         420               239       56.904762    100.000000   \n",
       "14             0         450               239       53.111111    100.000000   \n",
       "15             0         480               239       49.791667    100.000000   \n",
       "16             0         510               239       46.862745    100.000000   \n",
       "17             0         540               239       44.259259    100.000000   \n",
       "18             0         570               239       41.929825    100.000000   \n",
       "19             0         600               239       39.833333    100.000000   \n",
       "20             0         630               239       37.936508    100.000000   \n",
       "\n",
       "    base_bal (%)  bucket_bal/base_bal         auc  \n",
       "0      38.362761             2.606695  100.000000  \n",
       "1      38.362761             2.606695  100.000000  \n",
       "2      38.362761             2.606695  100.000000  \n",
       "3      38.362761             2.606695  100.000000  \n",
       "4      38.362761             2.589317   87.583893  \n",
       "5      38.362761             2.577731   81.882022  \n",
       "6      38.362761             2.494979   90.961857  \n",
       "7      38.362761             2.346025   91.936728  \n",
       "8      38.362761             2.181900   92.256637  \n",
       "9      38.362761             1.998466   93.708075  \n",
       "10     38.362761             1.832585   94.891362  \n",
       "11     38.362761             1.708833   94.602583  \n",
       "12     38.362761             1.590752   94.830827  \n",
       "13     38.362761             1.483333   95.313114  \n",
       "14     38.362761             1.384444   95.979496  \n",
       "15     38.362761             1.297917   96.479974  \n",
       "16     38.362761             1.221569   96.869644  \n",
       "17     38.362761             1.153704   97.181640  \n",
       "18     38.362761             1.092982   97.437080  \n",
       "19     38.362761             1.038333   97.650065  \n",
       "20     38.362761             0.988889   97.790817  "
      ]
     },
     "execution_count": 16,
     "metadata": {},
     "output_type": "execute_result"
    }
   ],
   "source": [
    "metr_train.output"
   ]
  },
  {
   "cell_type": "markdown",
   "id": "22744ba6",
   "metadata": {},
   "source": [
    "### 1.2 TRAIN - Статистики по бакетам"
   ]
  },
  {
   "cell_type": "code",
   "execution_count": 17,
   "id": "52c480dc",
   "metadata": {},
   "outputs": [
    {
     "name": "stdout",
     "output_type": "stream",
     "text": [
      "Всего записей в выборке:  623\n",
      "Всего таргетов в выборке:  239\n"
     ]
    },
    {
     "data": {
      "image/png": "[encoded data removed]",
      "text/plain": [
       "<Figure size 432x288 with 1 Axes>"
      ]
     },
     "metadata": {
      "needs_background": "light"
     },
     "output_type": "display_data"
    },
    {
     "data": {
      "image/png": "[encoded data removed]",
      "text/plain": [
       "<Figure size 432x288 with 1 Axes>"
      ]
     },
     "metadata": {
      "needs_background": "light"
     },
     "output_type": "display_data"
    }
   ],
   "source": [
    "metr_train.calc_scores_2(30, df_train.shape[0])\n",
    "\n",
    "metr_train.sample_describe()\n",
    "metr_train.plot_scores_2()"
   ]
  },
  {
   "cell_type": "code",
   "execution_count": 18,
   "id": "ce7a03b6",
   "metadata": {
    "scrolled": true
   },
   "outputs": [
    {
     "data": {
      "text/html": [
       "<div>\n",
       "<style scoped>\n",
       "    .dataframe tbody tr th:only-of-type {\n",
       "        vertical-align: middle;\n",
       "    }\n",
       "\n",
       "    .dataframe tbody tr th {\n",
       "        vertical-align: top;\n",
       "    }\n",
       "\n",
       "    .dataframe thead th {\n",
       "        text-align: right;\n",
       "    }\n",
       "</style>\n",
       "<table border=\"1\" class=\"dataframe\">\n",
       "  <thead>\n",
       "    <tr style=\"text-align: right;\">\n",
       "      <th></th>\n",
       "      <th>start_bucket</th>\n",
       "      <th>end_bucket</th>\n",
       "      <th>target_in_bucket</th>\n",
       "      <th>bucket_bal (%)</th>\n",
       "      <th>coverage (%)</th>\n",
       "      <th>base_bal (%)</th>\n",
       "      <th>bucket_bal/base_bal</th>\n",
       "      <th>auc</th>\n",
       "    </tr>\n",
       "  </thead>\n",
       "  <tbody>\n",
       "    <tr>\n",
       "      <th>0</th>\n",
       "      <td>0</td>\n",
       "      <td>30</td>\n",
       "      <td>30</td>\n",
       "      <td>100.000000</td>\n",
       "      <td>12.552301</td>\n",
       "      <td>38.362761</td>\n",
       "      <td>2.606695</td>\n",
       "      <td>100.000000</td>\n",
       "    </tr>\n",
       "    <tr>\n",
       "      <th>1</th>\n",
       "      <td>30</td>\n",
       "      <td>60</td>\n",
       "      <td>30</td>\n",
       "      <td>100.000000</td>\n",
       "      <td>12.552301</td>\n",
       "      <td>38.362761</td>\n",
       "      <td>2.606695</td>\n",
       "      <td>100.000000</td>\n",
       "    </tr>\n",
       "    <tr>\n",
       "      <th>2</th>\n",
       "      <td>60</td>\n",
       "      <td>90</td>\n",
       "      <td>30</td>\n",
       "      <td>100.000000</td>\n",
       "      <td>12.552301</td>\n",
       "      <td>38.362761</td>\n",
       "      <td>2.606695</td>\n",
       "      <td>100.000000</td>\n",
       "    </tr>\n",
       "    <tr>\n",
       "      <th>3</th>\n",
       "      <td>90</td>\n",
       "      <td>120</td>\n",
       "      <td>30</td>\n",
       "      <td>100.000000</td>\n",
       "      <td>12.552301</td>\n",
       "      <td>38.362761</td>\n",
       "      <td>2.606695</td>\n",
       "      <td>100.000000</td>\n",
       "    </tr>\n",
       "    <tr>\n",
       "      <th>4</th>\n",
       "      <td>120</td>\n",
       "      <td>150</td>\n",
       "      <td>29</td>\n",
       "      <td>96.666667</td>\n",
       "      <td>12.133891</td>\n",
       "      <td>38.362761</td>\n",
       "      <td>2.519805</td>\n",
       "      <td>36.206897</td>\n",
       "    </tr>\n",
       "    <tr>\n",
       "      <th>5</th>\n",
       "      <td>150</td>\n",
       "      <td>180</td>\n",
       "      <td>29</td>\n",
       "      <td>96.666667</td>\n",
       "      <td>12.133891</td>\n",
       "      <td>38.362761</td>\n",
       "      <td>2.519805</td>\n",
       "      <td>41.379310</td>\n",
       "    </tr>\n",
       "    <tr>\n",
       "      <th>6</th>\n",
       "      <td>180</td>\n",
       "      <td>210</td>\n",
       "      <td>23</td>\n",
       "      <td>76.666667</td>\n",
       "      <td>9.623431</td>\n",
       "      <td>38.362761</td>\n",
       "      <td>1.998466</td>\n",
       "      <td>67.080745</td>\n",
       "    </tr>\n",
       "    <tr>\n",
       "      <th>7</th>\n",
       "      <td>210</td>\n",
       "      <td>240</td>\n",
       "      <td>15</td>\n",
       "      <td>50.000000</td>\n",
       "      <td>6.276151</td>\n",
       "      <td>38.362761</td>\n",
       "      <td>1.303347</td>\n",
       "      <td>46.888889</td>\n",
       "    </tr>\n",
       "    <tr>\n",
       "      <th>8</th>\n",
       "      <td>240</td>\n",
       "      <td>270</td>\n",
       "      <td>10</td>\n",
       "      <td>33.333333</td>\n",
       "      <td>4.184100</td>\n",
       "      <td>38.362761</td>\n",
       "      <td>0.868898</td>\n",
       "      <td>44.000000</td>\n",
       "    </tr>\n",
       "    <tr>\n",
       "      <th>9</th>\n",
       "      <td>270</td>\n",
       "      <td>300</td>\n",
       "      <td>4</td>\n",
       "      <td>13.333333</td>\n",
       "      <td>1.673640</td>\n",
       "      <td>38.362761</td>\n",
       "      <td>0.347559</td>\n",
       "      <td>35.576923</td>\n",
       "    </tr>\n",
       "    <tr>\n",
       "      <th>10</th>\n",
       "      <td>300</td>\n",
       "      <td>330</td>\n",
       "      <td>2</td>\n",
       "      <td>6.666667</td>\n",
       "      <td>0.836820</td>\n",
       "      <td>38.362761</td>\n",
       "      <td>0.173780</td>\n",
       "      <td>84.821429</td>\n",
       "    </tr>\n",
       "    <tr>\n",
       "      <th>11</th>\n",
       "      <td>330</td>\n",
       "      <td>360</td>\n",
       "      <td>4</td>\n",
       "      <td>13.333333</td>\n",
       "      <td>1.673640</td>\n",
       "      <td>38.362761</td>\n",
       "      <td>0.347559</td>\n",
       "      <td>75.000000</td>\n",
       "    </tr>\n",
       "    <tr>\n",
       "      <th>12</th>\n",
       "      <td>360</td>\n",
       "      <td>390</td>\n",
       "      <td>2</td>\n",
       "      <td>6.666667</td>\n",
       "      <td>0.836820</td>\n",
       "      <td>38.362761</td>\n",
       "      <td>0.173780</td>\n",
       "      <td>24.107143</td>\n",
       "    </tr>\n",
       "    <tr>\n",
       "      <th>13</th>\n",
       "      <td>390</td>\n",
       "      <td>420</td>\n",
       "      <td>1</td>\n",
       "      <td>3.333333</td>\n",
       "      <td>0.418410</td>\n",
       "      <td>38.362761</td>\n",
       "      <td>0.086890</td>\n",
       "      <td>81.034483</td>\n",
       "    </tr>\n",
       "    <tr>\n",
       "      <th>14</th>\n",
       "      <td>420</td>\n",
       "      <td>450</td>\n",
       "      <td>0</td>\n",
       "      <td>0.000000</td>\n",
       "      <td>0.000000</td>\n",
       "      <td>38.362761</td>\n",
       "      <td>0.000000</td>\n",
       "      <td>100.000000</td>\n",
       "    </tr>\n",
       "    <tr>\n",
       "      <th>15</th>\n",
       "      <td>450</td>\n",
       "      <td>480</td>\n",
       "      <td>0</td>\n",
       "      <td>0.000000</td>\n",
       "      <td>0.000000</td>\n",
       "      <td>38.362761</td>\n",
       "      <td>0.000000</td>\n",
       "      <td>100.000000</td>\n",
       "    </tr>\n",
       "    <tr>\n",
       "      <th>16</th>\n",
       "      <td>480</td>\n",
       "      <td>510</td>\n",
       "      <td>0</td>\n",
       "      <td>0.000000</td>\n",
       "      <td>0.000000</td>\n",
       "      <td>38.362761</td>\n",
       "      <td>0.000000</td>\n",
       "      <td>100.000000</td>\n",
       "    </tr>\n",
       "    <tr>\n",
       "      <th>17</th>\n",
       "      <td>510</td>\n",
       "      <td>540</td>\n",
       "      <td>0</td>\n",
       "      <td>0.000000</td>\n",
       "      <td>0.000000</td>\n",
       "      <td>38.362761</td>\n",
       "      <td>0.000000</td>\n",
       "      <td>100.000000</td>\n",
       "    </tr>\n",
       "    <tr>\n",
       "      <th>18</th>\n",
       "      <td>540</td>\n",
       "      <td>570</td>\n",
       "      <td>0</td>\n",
       "      <td>0.000000</td>\n",
       "      <td>0.000000</td>\n",
       "      <td>38.362761</td>\n",
       "      <td>0.000000</td>\n",
       "      <td>100.000000</td>\n",
       "    </tr>\n",
       "    <tr>\n",
       "      <th>19</th>\n",
       "      <td>570</td>\n",
       "      <td>600</td>\n",
       "      <td>0</td>\n",
       "      <td>0.000000</td>\n",
       "      <td>0.000000</td>\n",
       "      <td>38.362761</td>\n",
       "      <td>0.000000</td>\n",
       "      <td>100.000000</td>\n",
       "    </tr>\n",
       "    <tr>\n",
       "      <th>20</th>\n",
       "      <td>600</td>\n",
       "      <td>630</td>\n",
       "      <td>0</td>\n",
       "      <td>0.000000</td>\n",
       "      <td>0.000000</td>\n",
       "      <td>38.362761</td>\n",
       "      <td>0.000000</td>\n",
       "      <td>100.000000</td>\n",
       "    </tr>\n",
       "  </tbody>\n",
       "</table>\n",
       "</div>"
      ],
      "text/plain": [
       "    start_bucket  end_bucket  target_in_bucket  bucket_bal (%)  coverage (%)  \\\n",
       "0              0          30                30      100.000000     12.552301   \n",
       "1             30          60                30      100.000000     12.552301   \n",
       "2             60          90                30      100.000000     12.552301   \n",
       "3             90         120                30      100.000000     12.552301   \n",
       "4            120         150                29       96.666667     12.133891   \n",
       "5            150         180                29       96.666667     12.133891   \n",
       "6            180         210                23       76.666667      9.623431   \n",
       "7            210         240                15       50.000000      6.276151   \n",
       "8            240         270                10       33.333333      4.184100   \n",
       "9            270         300                 4       13.333333      1.673640   \n",
       "10           300         330                 2        6.666667      0.836820   \n",
       "11           330         360                 4       13.333333      1.673640   \n",
       "12           360         390                 2        6.666667      0.836820   \n",
       "13           390         420                 1        3.333333      0.418410   \n",
       "14           420         450                 0        0.000000      0.000000   \n",
       "15           450         480                 0        0.000000      0.000000   \n",
       "16           480         510                 0        0.000000      0.000000   \n",
       "17           510         540                 0        0.000000      0.000000   \n",
       "18           540         570                 0        0.000000      0.000000   \n",
       "19           570         600                 0        0.000000      0.000000   \n",
       "20           600         630                 0        0.000000      0.000000   \n",
       "\n",
       "    base_bal (%)  bucket_bal/base_bal         auc  \n",
       "0      38.362761             2.606695  100.000000  \n",
       "1      38.362761             2.606695  100.000000  \n",
       "2      38.362761             2.606695  100.000000  \n",
       "3      38.362761             2.606695  100.000000  \n",
       "4      38.362761             2.519805   36.206897  \n",
       "5      38.362761             2.519805   41.379310  \n",
       "6      38.362761             1.998466   67.080745  \n",
       "7      38.362761             1.303347   46.888889  \n",
       "8      38.362761             0.868898   44.000000  \n",
       "9      38.362761             0.347559   35.576923  \n",
       "10     38.362761             0.173780   84.821429  \n",
       "11     38.362761             0.347559   75.000000  \n",
       "12     38.362761             0.173780   24.107143  \n",
       "13     38.362761             0.086890   81.034483  \n",
       "14     38.362761             0.000000  100.000000  \n",
       "15     38.362761             0.000000  100.000000  \n",
       "16     38.362761             0.000000  100.000000  \n",
       "17     38.362761             0.000000  100.000000  \n",
       "18     38.362761             0.000000  100.000000  \n",
       "19     38.362761             0.000000  100.000000  \n",
       "20     38.362761             0.000000  100.000000  "
      ]
     },
     "execution_count": 18,
     "metadata": {},
     "output_type": "execute_result"
    }
   ],
   "source": [
    "metr_train.output2"
   ]
  },
  {
   "cell_type": "markdown",
   "id": "ab2ca709",
   "metadata": {},
   "source": [
    "### 1.3 TEST - Накапливаемые статистики"
   ]
  },
  {
   "cell_type": "code",
   "execution_count": 19,
   "id": "cf2b2139",
   "metadata": {},
   "outputs": [],
   "source": [
    "metr_valid = BalanceCover(df_valid, target='target')"
   ]
  },
  {
   "cell_type": "code",
   "execution_count": 20,
   "id": "0137a202",
   "metadata": {},
   "outputs": [
    {
     "name": "stdout",
     "output_type": "stream",
     "text": [
      "Всего записей в выборке:  268\n",
      "Всего таргетов в выборке:  103\n"
     ]
    },
    {
     "data": {
      "image/png": "[encoded data removed]",
      "text/plain": [
       "<Figure size 432x288 with 1 Axes>"
      ]
     },
     "metadata": {
      "needs_background": "light"
     },
     "output_type": "display_data"
    },
    {
     "data": {
      "image/png": "[encoded data removed]",
      "text/plain": [
       "<Figure size 432x288 with 1 Axes>"
      ]
     },
     "metadata": {
      "needs_background": "light"
     },
     "output_type": "display_data"
    }
   ],
   "source": [
    "metr_valid.calc_scores(30, df_valid.shape[0])\n",
    "\n",
    "metr_valid.sample_describe()\n",
    "metr_valid.plot_scores()"
   ]
  },
  {
   "cell_type": "code",
   "execution_count": 21,
   "id": "d97b5c60",
   "metadata": {},
   "outputs": [
    {
     "data": {
      "text/html": [
       "<div>\n",
       "<style scoped>\n",
       "    .dataframe tbody tr th:only-of-type {\n",
       "        vertical-align: middle;\n",
       "    }\n",
       "\n",
       "    .dataframe tbody tr th {\n",
       "        vertical-align: top;\n",
       "    }\n",
       "\n",
       "    .dataframe thead th {\n",
       "        text-align: right;\n",
       "    }\n",
       "</style>\n",
       "<table border=\"1\" class=\"dataframe\">\n",
       "  <thead>\n",
       "    <tr style=\"text-align: right;\">\n",
       "      <th></th>\n",
       "      <th>start_bucket</th>\n",
       "      <th>end_bucket</th>\n",
       "      <th>turget_in_bucket</th>\n",
       "      <th>bucket_bal (%)</th>\n",
       "      <th>coverage (%)</th>\n",
       "      <th>base_bal (%)</th>\n",
       "      <th>bucket_bal/base_bal</th>\n",
       "      <th>auc</th>\n",
       "    </tr>\n",
       "  </thead>\n",
       "  <tbody>\n",
       "    <tr>\n",
       "      <th>0</th>\n",
       "      <td>0</td>\n",
       "      <td>30</td>\n",
       "      <td>29</td>\n",
       "      <td>96.666667</td>\n",
       "      <td>28.155340</td>\n",
       "      <td>38.432836</td>\n",
       "      <td>2.515210</td>\n",
       "      <td>48.275862</td>\n",
       "    </tr>\n",
       "    <tr>\n",
       "      <th>1</th>\n",
       "      <td>0</td>\n",
       "      <td>60</td>\n",
       "      <td>55</td>\n",
       "      <td>91.666667</td>\n",
       "      <td>53.398058</td>\n",
       "      <td>38.432836</td>\n",
       "      <td>2.385113</td>\n",
       "      <td>65.090909</td>\n",
       "    </tr>\n",
       "    <tr>\n",
       "      <th>2</th>\n",
       "      <td>0</td>\n",
       "      <td>90</td>\n",
       "      <td>70</td>\n",
       "      <td>77.777778</td>\n",
       "      <td>67.961165</td>\n",
       "      <td>38.432836</td>\n",
       "      <td>2.023732</td>\n",
       "      <td>80.571429</td>\n",
       "    </tr>\n",
       "    <tr>\n",
       "      <th>3</th>\n",
       "      <td>0</td>\n",
       "      <td>120</td>\n",
       "      <td>81</td>\n",
       "      <td>67.500000</td>\n",
       "      <td>78.640777</td>\n",
       "      <td>38.432836</td>\n",
       "      <td>1.756311</td>\n",
       "      <td>81.054131</td>\n",
       "    </tr>\n",
       "    <tr>\n",
       "      <th>4</th>\n",
       "      <td>0</td>\n",
       "      <td>150</td>\n",
       "      <td>87</td>\n",
       "      <td>58.000000</td>\n",
       "      <td>84.466019</td>\n",
       "      <td>38.432836</td>\n",
       "      <td>1.509126</td>\n",
       "      <td>83.789454</td>\n",
       "    </tr>\n",
       "    <tr>\n",
       "      <th>5</th>\n",
       "      <td>0</td>\n",
       "      <td>180</td>\n",
       "      <td>90</td>\n",
       "      <td>50.000000</td>\n",
       "      <td>87.378641</td>\n",
       "      <td>38.432836</td>\n",
       "      <td>1.300971</td>\n",
       "      <td>86.401235</td>\n",
       "    </tr>\n",
       "    <tr>\n",
       "      <th>6</th>\n",
       "      <td>0</td>\n",
       "      <td>210</td>\n",
       "      <td>99</td>\n",
       "      <td>47.142857</td>\n",
       "      <td>96.116505</td>\n",
       "      <td>38.432836</td>\n",
       "      <td>1.226630</td>\n",
       "      <td>81.859132</td>\n",
       "    </tr>\n",
       "    <tr>\n",
       "      <th>7</th>\n",
       "      <td>0</td>\n",
       "      <td>240</td>\n",
       "      <td>99</td>\n",
       "      <td>41.250000</td>\n",
       "      <td>96.116505</td>\n",
       "      <td>38.432836</td>\n",
       "      <td>1.073301</td>\n",
       "      <td>85.718891</td>\n",
       "    </tr>\n",
       "    <tr>\n",
       "      <th>8</th>\n",
       "      <td>0</td>\n",
       "      <td>270</td>\n",
       "      <td>103</td>\n",
       "      <td>38.148148</td>\n",
       "      <td>100.000000</td>\n",
       "      <td>38.432836</td>\n",
       "      <td>0.992593</td>\n",
       "      <td>84.786702</td>\n",
       "    </tr>\n",
       "  </tbody>\n",
       "</table>\n",
       "</div>"
      ],
      "text/plain": [
       "   start_bucket  end_bucket  turget_in_bucket  bucket_bal (%)  coverage (%)  \\\n",
       "0             0          30                29       96.666667     28.155340   \n",
       "1             0          60                55       91.666667     53.398058   \n",
       "2             0          90                70       77.777778     67.961165   \n",
       "3             0         120                81       67.500000     78.640777   \n",
       "4             0         150                87       58.000000     84.466019   \n",
       "5             0         180                90       50.000000     87.378641   \n",
       "6             0         210                99       47.142857     96.116505   \n",
       "7             0         240                99       41.250000     96.116505   \n",
       "8             0         270               103       38.148148    100.000000   \n",
       "\n",
       "   base_bal (%)  bucket_bal/base_bal        auc  \n",
       "0     38.432836             2.515210  48.275862  \n",
       "1     38.432836             2.385113  65.090909  \n",
       "2     38.432836             2.023732  80.571429  \n",
       "3     38.432836             1.756311  81.054131  \n",
       "4     38.432836             1.509126  83.789454  \n",
       "5     38.432836             1.300971  86.401235  \n",
       "6     38.432836             1.226630  81.859132  \n",
       "7     38.432836             1.073301  85.718891  \n",
       "8     38.432836             0.992593  84.786702  "
      ]
     },
     "execution_count": 21,
     "metadata": {},
     "output_type": "execute_result"
    }
   ],
   "source": [
    "metr_valid.output"
   ]
  },
  {
   "cell_type": "markdown",
   "id": "9f4cac61",
   "metadata": {},
   "source": [
    "### 1.4 TEST - Статистики по бакетам"
   ]
  },
  {
   "cell_type": "code",
   "execution_count": 22,
   "id": "f0f790a1",
   "metadata": {},
   "outputs": [
    {
     "name": "stdout",
     "output_type": "stream",
     "text": [
      "Всего записей в выборке:  268\n",
      "Всего таргетов в выборке:  103\n"
     ]
    },
    {
     "data": {
      "image/png": "[encoded data removed]",
      "text/plain": [
       "<Figure size 432x288 with 1 Axes>"
      ]
     },
     "metadata": {
      "needs_background": "light"
     },
     "output_type": "display_data"
    },
    {
     "data": {
      "image/png": "[encoded data removed]",
      "text/plain": [
       "<Figure size 432x288 with 1 Axes>"
      ]
     },
     "metadata": {
      "needs_background": "light"
     },
     "output_type": "display_data"
    }
   ],
   "source": [
    "metr_valid.calc_scores_2(30, df_valid.shape[0])\n",
    "\n",
    "metr_valid.sample_describe()\n",
    "metr_valid.plot_scores_2()"
   ]
  },
  {
   "cell_type": "code",
   "execution_count": 23,
   "id": "c3fc741e",
   "metadata": {},
   "outputs": [
    {
     "data": {
      "text/html": [
       "<div>\n",
       "<style scoped>\n",
       "    .dataframe tbody tr th:only-of-type {\n",
       "        vertical-align: middle;\n",
       "    }\n",
       "\n",
       "    .dataframe tbody tr th {\n",
       "        vertical-align: top;\n",
       "    }\n",
       "\n",
       "    .dataframe thead th {\n",
       "        text-align: right;\n",
       "    }\n",
       "</style>\n",
       "<table border=\"1\" class=\"dataframe\">\n",
       "  <thead>\n",
       "    <tr style=\"text-align: right;\">\n",
       "      <th></th>\n",
       "      <th>start_bucket</th>\n",
       "      <th>end_bucket</th>\n",
       "      <th>target_in_bucket</th>\n",
       "      <th>bucket_bal (%)</th>\n",
       "      <th>coverage (%)</th>\n",
       "      <th>base_bal (%)</th>\n",
       "      <th>bucket_bal/base_bal</th>\n",
       "      <th>auc</th>\n",
       "    </tr>\n",
       "  </thead>\n",
       "  <tbody>\n",
       "    <tr>\n",
       "      <th>0</th>\n",
       "      <td>0</td>\n",
       "      <td>30</td>\n",
       "      <td>29</td>\n",
       "      <td>96.666667</td>\n",
       "      <td>28.155340</td>\n",
       "      <td>38.432836</td>\n",
       "      <td>2.515210</td>\n",
       "      <td>48.275862</td>\n",
       "    </tr>\n",
       "    <tr>\n",
       "      <th>1</th>\n",
       "      <td>30</td>\n",
       "      <td>60</td>\n",
       "      <td>26</td>\n",
       "      <td>86.666667</td>\n",
       "      <td>25.242718</td>\n",
       "      <td>38.432836</td>\n",
       "      <td>2.255016</td>\n",
       "      <td>47.115385</td>\n",
       "    </tr>\n",
       "    <tr>\n",
       "      <th>2</th>\n",
       "      <td>60</td>\n",
       "      <td>90</td>\n",
       "      <td>15</td>\n",
       "      <td>50.000000</td>\n",
       "      <td>14.563107</td>\n",
       "      <td>38.432836</td>\n",
       "      <td>1.300971</td>\n",
       "      <td>55.111111</td>\n",
       "    </tr>\n",
       "    <tr>\n",
       "      <th>3</th>\n",
       "      <td>90</td>\n",
       "      <td>120</td>\n",
       "      <td>11</td>\n",
       "      <td>36.666667</td>\n",
       "      <td>10.679612</td>\n",
       "      <td>38.432836</td>\n",
       "      <td>0.954045</td>\n",
       "      <td>49.043062</td>\n",
       "    </tr>\n",
       "    <tr>\n",
       "      <th>4</th>\n",
       "      <td>120</td>\n",
       "      <td>150</td>\n",
       "      <td>6</td>\n",
       "      <td>20.000000</td>\n",
       "      <td>5.825243</td>\n",
       "      <td>38.432836</td>\n",
       "      <td>0.520388</td>\n",
       "      <td>61.111111</td>\n",
       "    </tr>\n",
       "    <tr>\n",
       "      <th>5</th>\n",
       "      <td>150</td>\n",
       "      <td>180</td>\n",
       "      <td>3</td>\n",
       "      <td>10.000000</td>\n",
       "      <td>2.912621</td>\n",
       "      <td>38.432836</td>\n",
       "      <td>0.260194</td>\n",
       "      <td>70.370370</td>\n",
       "    </tr>\n",
       "    <tr>\n",
       "      <th>6</th>\n",
       "      <td>180</td>\n",
       "      <td>210</td>\n",
       "      <td>9</td>\n",
       "      <td>30.000000</td>\n",
       "      <td>8.737864</td>\n",
       "      <td>38.432836</td>\n",
       "      <td>0.780583</td>\n",
       "      <td>56.613757</td>\n",
       "    </tr>\n",
       "    <tr>\n",
       "      <th>7</th>\n",
       "      <td>210</td>\n",
       "      <td>240</td>\n",
       "      <td>0</td>\n",
       "      <td>0.000000</td>\n",
       "      <td>0.000000</td>\n",
       "      <td>38.432836</td>\n",
       "      <td>0.000000</td>\n",
       "      <td>100.000000</td>\n",
       "    </tr>\n",
       "    <tr>\n",
       "      <th>8</th>\n",
       "      <td>240</td>\n",
       "      <td>270</td>\n",
       "      <td>4</td>\n",
       "      <td>13.333333</td>\n",
       "      <td>3.883495</td>\n",
       "      <td>38.432836</td>\n",
       "      <td>0.346926</td>\n",
       "      <td>70.833333</td>\n",
       "    </tr>\n",
       "  </tbody>\n",
       "</table>\n",
       "</div>"
      ],
      "text/plain": [
       "   start_bucket  end_bucket  target_in_bucket  bucket_bal (%)  coverage (%)  \\\n",
       "0             0          30                29       96.666667     28.155340   \n",
       "1            30          60                26       86.666667     25.242718   \n",
       "2            60          90                15       50.000000     14.563107   \n",
       "3            90         120                11       36.666667     10.679612   \n",
       "4           120         150                 6       20.000000      5.825243   \n",
       "5           150         180                 3       10.000000      2.912621   \n",
       "6           180         210                 9       30.000000      8.737864   \n",
       "7           210         240                 0        0.000000      0.000000   \n",
       "8           240         270                 4       13.333333      3.883495   \n",
       "\n",
       "   base_bal (%)  bucket_bal/base_bal         auc  \n",
       "0     38.432836             2.515210   48.275862  \n",
       "1     38.432836             2.255016   47.115385  \n",
       "2     38.432836             1.300971   55.111111  \n",
       "3     38.432836             0.954045   49.043062  \n",
       "4     38.432836             0.520388   61.111111  \n",
       "5     38.432836             0.260194   70.370370  \n",
       "6     38.432836             0.780583   56.613757  \n",
       "7     38.432836             0.000000  100.000000  \n",
       "8     38.432836             0.346926   70.833333  "
      ]
     },
     "execution_count": 23,
     "metadata": {},
     "output_type": "execute_result"
    }
   ],
   "source": [
    "metr_valid.output2"
   ]
  },
  {
   "cell_type": "markdown",
   "id": "8d92fae4",
   "metadata": {},
   "source": [
    "## 2. Использование библиотеки"
   ]
  },
  {
   "cell_type": "code",
   "execution_count": 24,
   "id": "be0f6e9e",
   "metadata": {},
   "outputs": [],
   "source": [
    "# задаем класс\n",
    "c_shap = PlotShap(model=xgb_model, sample=new_X_train)\n",
    "# обучаем\n",
    "c_shap.fit_shap()"
   ]
  },
  {
   "cell_type": "code",
   "execution_count": 25,
   "id": "66058d95",
   "metadata": {},
   "outputs": [
    {
     "data": {
      "image/png": "[encoded data removed]",
      "text/plain": [
       "<Figure size 576x309.6 with 2 Axes>"
      ]
     },
     "metadata": {
      "needs_background": "light"
     },
     "output_type": "display_data"
    }
   ],
   "source": [
    "c_shap.create_plot_shap(plot_type='dot', number_features=30)"
   ]
  },
  {
   "cell_type": "code",
   "execution_count": 26,
   "id": "1f58026e",
   "metadata": {},
   "outputs": [
    {
     "data": {
      "image/png": "[encoded data removed]",
      "text/plain": [
       "<Figure size 576x309.6 with 1 Axes>"
      ]
     },
     "metadata": {
      "needs_background": "light"
     },
     "output_type": "display_data"
    }
   ],
   "source": [
    "c_shap.create_plot_shap(plot_type='bar', number_features=30)"
   ]
  },
  {
   "cell_type": "code",
   "execution_count": 27,
   "id": "07849807",
   "metadata": {},
   "outputs": [
    {
     "data": {
      "text/html": [
       "<div>\n",
       "<style scoped>\n",
       "    .dataframe tbody tr th:only-of-type {\n",
       "        vertical-align: middle;\n",
       "    }\n",
       "\n",
       "    .dataframe tbody tr th {\n",
       "        vertical-align: top;\n",
       "    }\n",
       "\n",
       "    .dataframe thead th {\n",
       "        text-align: right;\n",
       "    }\n",
       "</style>\n",
       "<table border=\"1\" class=\"dataframe\">\n",
       "  <thead>\n",
       "    <tr style=\"text-align: right;\">\n",
       "      <th></th>\n",
       "      <th>col_name</th>\n",
       "      <th>imp_shap</th>\n",
       "    </tr>\n",
       "  </thead>\n",
       "  <tbody>\n",
       "    <tr>\n",
       "      <th>0</th>\n",
       "      <td>Sex</td>\n",
       "      <td>1.226701</td>\n",
       "    </tr>\n",
       "    <tr>\n",
       "      <th>1</th>\n",
       "      <td>Fare</td>\n",
       "      <td>0.580397</td>\n",
       "    </tr>\n",
       "    <tr>\n",
       "      <th>2</th>\n",
       "      <td>Pclass</td>\n",
       "      <td>0.522742</td>\n",
       "    </tr>\n",
       "    <tr>\n",
       "      <th>3</th>\n",
       "      <td>Age</td>\n",
       "      <td>0.446026</td>\n",
       "    </tr>\n",
       "    <tr>\n",
       "      <th>4</th>\n",
       "      <td>Embarked</td>\n",
       "      <td>0.231003</td>\n",
       "    </tr>\n",
       "    <tr>\n",
       "      <th>5</th>\n",
       "      <td>SibSp</td>\n",
       "      <td>0.141932</td>\n",
       "    </tr>\n",
       "    <tr>\n",
       "      <th>6</th>\n",
       "      <td>Parch</td>\n",
       "      <td>0.117993</td>\n",
       "    </tr>\n",
       "  </tbody>\n",
       "</table>\n",
       "</div>"
      ],
      "text/plain": [
       "   col_name  imp_shap\n",
       "0       Sex  1.226701\n",
       "1      Fare  0.580397\n",
       "2    Pclass  0.522742\n",
       "3       Age  0.446026\n",
       "4  Embarked  0.231003\n",
       "5     SibSp  0.141932\n",
       "6     Parch  0.117993"
      ]
     },
     "execution_count": 27,
     "metadata": {},
     "output_type": "execute_result"
    }
   ],
   "source": [
    "result = c_shap.get_table_shap()\n",
    "result"
   ]
  },
  {
   "cell_type": "markdown",
   "id": "ef0badb1",
   "metadata": {},
   "source": [
    "## 3. График в нужном порядке\n",
    "Часто бывают такие ситуации, что нужно в нужном порядке получить график. Например, для презентации.    \n",
    "Сейчас фреймворк позволяет это сделать."
   ]
  },
  {
   "cell_type": "code",
   "execution_count": 28,
   "id": "9a573842",
   "metadata": {},
   "outputs": [
    {
     "data": {
      "image/png": "[encoded data removed]",
      "text/plain": [
       "<Figure size 576x223.2 with 2 Axes>"
      ]
     },
     "metadata": {
      "needs_background": "light"
     },
     "output_type": "display_data"
    }
   ],
   "source": [
    "features = ['Parch', 'Sex', 'SibSp', 'Age']\n",
    "c_shap.create_feature_shap(features)"
   ]
  },
  {
   "cell_type": "markdown",
   "id": "bab21b60",
   "metadata": {},
   "source": [
    "## 4. HTML отчет"
   ]
  },
  {
   "cell_type": "code",
   "execution_count": 29,
   "id": "45b2d521",
   "metadata": {},
   "outputs": [
    {
     "name": "stdout",
     "output_type": "stream",
     "text": [
      "Директория существует\n"
     ]
    }
   ],
   "source": [
    "c_shap.create_shap_report(path_base='./shap_report')"
   ]
  },
  {
   "cell_type": "code",
   "execution_count": null,
   "id": "5ab77bb9",
   "metadata": {},
   "outputs": [],
   "source": []
  },
  {
   "cell_type": "code",
   "execution_count": null,
   "id": "9912d896",
   "metadata": {},
   "outputs": [],
   "source": []
  },
  {
   "cell_type": "raw",
   "id": "dcad5bb6",
   "metadata": {},
   "source": []
  },
  {
   "cell_type": "raw",
   "id": "10f13338",
   "metadata": {},
   "source": []
  }
 ],
 "metadata": {
  "kernelspec": {
   "display_name": "Python 3",
   "language": "python",
   "name": "python3"
  },
  "language_info": {
   "codemirror_mode": {
    "name": "ipython",
    "version": 3
   },
   "file_extension": ".py",
   "mimetype": "text/x-python",
   "name": "python",
   "nbconvert_exporter": "python",
   "pygments_lexer": "ipython3",
   "version": "3.7.6"
  }
 },
 "nbformat": 4,
 "nbformat_minor": 5
}
