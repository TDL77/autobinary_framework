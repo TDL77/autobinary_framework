{
 "cells": [
  {
   "cell_type": "markdown",
   "id": "0c5d0170",
   "metadata": {},
   "source": [
    "# Демонстрация автоматического расчета shap"
   ]
  },
  {
   "cell_type": "code",
   "execution_count": 1,
   "id": "5ef0084b",
   "metadata": {},
   "outputs": [
    {
     "data": {
      "text/html": [
       "<style>.container {width:95% !important;}</style>"
      ],
      "text/plain": [
       "<IPython.core.display.HTML object>"
      ]
     },
     "metadata": {},
     "output_type": "display_data"
    }
   ],
   "source": [
    "# расширяем поле, убираем предупреждения\n",
    "from IPython.core.display import display, HTML\n",
    "display(HTML('<style>.container {width:95% !important;}</style>'))\n",
    "\n",
    "import warnings\n",
    "warnings.filterwarnings('ignore')"
   ]
  },
  {
   "cell_type": "code",
   "execution_count": 2,
   "id": "c881a634",
   "metadata": {},
   "outputs": [],
   "source": [
    "# Стандартные библиотеки для анализа\n",
    "import pandas as pd\n",
    "\n",
    "from sklearn.model_selection import train_test_split\n",
    "from sklearn.impute import SimpleImputer\n",
    "\n",
    "from sklearn.pipeline import Pipeline\n",
    "from sklearn.compose import ColumnTransformer\n",
    "\n",
    "import matplotlib.pylab as pl"
   ]
  },
  {
   "cell_type": "code",
   "execution_count": 3,
   "id": "a5ec86e9",
   "metadata": {},
   "outputs": [],
   "source": [
    "import sys\n",
    "sys.path.append('../')\n",
    "\n",
    "# Наша разработанная библиотека\n",
    "from autobinary import SentColumns, CatBoostEncoder, base_pipe, PlotShap"
   ]
  },
  {
   "cell_type": "code",
   "execution_count": 4,
   "id": "90f283f9",
   "metadata": {},
   "outputs": [
    {
     "name": "stdout",
     "output_type": "stream",
     "text": [
      "pandas:  1.3.5\n",
      "sklearn:  1.0.2\n",
      "xgboost:  1.5.2\n",
      "matplotlib:  3.5.1\n",
      "autobinary:  1.0.7\n",
      "shap:  0.40.0\n"
     ]
    }
   ],
   "source": [
    "import sklearn as sk\n",
    "import xgboost as xgb\n",
    "import matplotlib as mplot\n",
    "import autobinary as ab\n",
    "import shap\n",
    "\n",
    "print('pandas: ', pd.__version__)\n",
    "print('sklearn: ', sk.__version__)\n",
    "print('xgboost: ', xgb.__version__)\n",
    "print('matplotlib: ', mplot.__version__)\n",
    "print('autobinary: ', ab.__version__)\n",
    "print('shap: ', shap.__version__)"
   ]
  },
  {
   "cell_type": "code",
   "execution_count": 5,
   "id": "2af6e3c3",
   "metadata": {},
   "outputs": [
    {
     "name": "stdout",
     "output_type": "stream",
     "text": [
      "Размерность данных: (891, 12)\n"
     ]
    },
    {
     "data": {
      "text/html": [
       "<div>\n",
       "<style scoped>\n",
       "    .dataframe tbody tr th:only-of-type {\n",
       "        vertical-align: middle;\n",
       "    }\n",
       "\n",
       "    .dataframe tbody tr th {\n",
       "        vertical-align: top;\n",
       "    }\n",
       "\n",
       "    .dataframe thead th {\n",
       "        text-align: right;\n",
       "    }\n",
       "</style>\n",
       "<table border=\"1\" class=\"dataframe\">\n",
       "  <thead>\n",
       "    <tr style=\"text-align: right;\">\n",
       "      <th></th>\n",
       "      <th>PassengerId</th>\n",
       "      <th>Survived</th>\n",
       "      <th>Pclass</th>\n",
       "      <th>Name</th>\n",
       "      <th>Sex</th>\n",
       "      <th>Age</th>\n",
       "      <th>SibSp</th>\n",
       "      <th>Parch</th>\n",
       "      <th>Ticket</th>\n",
       "      <th>Fare</th>\n",
       "      <th>Cabin</th>\n",
       "      <th>Embarked</th>\n",
       "    </tr>\n",
       "  </thead>\n",
       "  <tbody>\n",
       "    <tr>\n",
       "      <th>0</th>\n",
       "      <td>1</td>\n",
       "      <td>0</td>\n",
       "      <td>3</td>\n",
       "      <td>Braund, Mr. Owen Harris</td>\n",
       "      <td>male</td>\n",
       "      <td>22.0</td>\n",
       "      <td>1</td>\n",
       "      <td>0</td>\n",
       "      <td>A/5 21171</td>\n",
       "      <td>7.2500</td>\n",
       "      <td>NaN</td>\n",
       "      <td>S</td>\n",
       "    </tr>\n",
       "    <tr>\n",
       "      <th>1</th>\n",
       "      <td>2</td>\n",
       "      <td>1</td>\n",
       "      <td>1</td>\n",
       "      <td>Cumings, Mrs. John Bradley (Florence Briggs Th...</td>\n",
       "      <td>female</td>\n",
       "      <td>38.0</td>\n",
       "      <td>1</td>\n",
       "      <td>0</td>\n",
       "      <td>PC 17599</td>\n",
       "      <td>71.2833</td>\n",
       "      <td>C85</td>\n",
       "      <td>C</td>\n",
       "    </tr>\n",
       "  </tbody>\n",
       "</table>\n",
       "</div>"
      ],
      "text/plain": [
       "   PassengerId  Survived  Pclass  \\\n",
       "0            1         0       3   \n",
       "1            2         1       1   \n",
       "\n",
       "                                                Name     Sex   Age  SibSp  \\\n",
       "0                            Braund, Mr. Owen Harris    male  22.0      1   \n",
       "1  Cumings, Mrs. John Bradley (Florence Briggs Th...  female  38.0      1   \n",
       "\n",
       "   Parch     Ticket     Fare Cabin Embarked  \n",
       "0      0  A/5 21171   7.2500   NaN        S  \n",
       "1      0   PC 17599  71.2833   C85        C  "
      ]
     },
     "execution_count": 5,
     "metadata": {},
     "output_type": "execute_result"
    }
   ],
   "source": [
    "sample = pd.read_csv('https://raw.githubusercontent.com/datasciencedojo/datasets/master/titanic.csv')\n",
    "\n",
    "print('Размерность данных:', sample.shape)\n",
    "sample.head(2)"
   ]
  },
  {
   "cell_type": "code",
   "execution_count": 6,
   "id": "61063e88",
   "metadata": {},
   "outputs": [],
   "source": [
    "num_columns = [\n",
    "    'Age', 'Fare'\n",
    "]\n",
    "\n",
    "cat_columns = [\n",
    "    'Pclass', 'Sex', 'Embarked', 'SibSp', 'Parch'\n",
    "]\n",
    "\n",
    "target = ['Survived']"
   ]
  },
  {
   "cell_type": "code",
   "execution_count": 7,
   "id": "e40074d9",
   "metadata": {},
   "outputs": [],
   "source": [
    "X_train, X_valid, y_train, y_valid = train_test_split(\n",
    "    sample,\n",
    "    sample[target],\n",
    "    test_size=0.3,\n",
    "    stratify=sample[target],\n",
    "    random_state=42\n",
    ")"
   ]
  },
  {
   "cell_type": "code",
   "execution_count": 8,
   "id": "1897b3d4",
   "metadata": {},
   "outputs": [
    {
     "name": "stdout",
     "output_type": "stream",
     "text": [
      "Определены количественные и категориальные переменные!\n"
     ]
    }
   ],
   "source": [
    "prep_pipe = base_pipe(\n",
    "    num_columns=num_columns, \n",
    "    cat_columns=cat_columns)"
   ]
  },
  {
   "cell_type": "code",
   "execution_count": 9,
   "id": "34001c93",
   "metadata": {},
   "outputs": [],
   "source": [
    "prep_pipe.fit(X_train, y_train)\n",
    "\n",
    "new_X_train = prep_pipe.transform(X_train)\n",
    "new_X_valid = prep_pipe.transform(X_valid)"
   ]
  },
  {
   "cell_type": "code",
   "execution_count": 10,
   "id": "6c59237d",
   "metadata": {},
   "outputs": [],
   "source": [
    "# создаем экземпляр класса XGBClassifier\n",
    "xgb_model = xgb.XGBClassifier(\n",
    "    eta=0.01,\n",
    "    n_estimators=800,\n",
    "    subsample=0.8,\n",
    "    colsample_bytree=0.8,\n",
    "    max_depth = 6,\n",
    "    objective='binary:logistic',\n",
    "    use_label_encoder=False,\n",
    "    n_jobs=-1,\n",
    "    random_state=42)"
   ]
  },
  {
   "cell_type": "code",
   "execution_count": 11,
   "id": "3772386b",
   "metadata": {},
   "outputs": [
    {
     "name": "stdout",
     "output_type": "stream",
     "text": [
      "[16:18:53] WARNING: ../src/learner.cc:1115: Starting in XGBoost 1.3.0, the default evaluation metric used with the objective 'binary:logistic' was changed from 'error' to 'logloss'. Explicitly set eval_metric if you'd like to restore the old behavior.\n"
     ]
    }
   ],
   "source": [
    "xgb_model.fit(new_X_train, y_train);"
   ]
  },
  {
   "cell_type": "markdown",
   "id": "45d570c9",
   "metadata": {},
   "source": [
    "## 1. Использование библиотеки SHAP"
   ]
  },
  {
   "cell_type": "code",
   "execution_count": 12,
   "id": "c77265c6",
   "metadata": {},
   "outputs": [],
   "source": [
    "# задаем класс\n",
    "c_shap = PlotShap(model=xgb_model, sample=new_X_train)\n",
    "# обучаем\n",
    "c_shap.fit_shap()"
   ]
  },
  {
   "cell_type": "code",
   "execution_count": 13,
   "id": "da70cce2",
   "metadata": {},
   "outputs": [
    {
     "data": {
      "image/png": "[encoded data removed]",
      "text/plain": [
       "<Figure size 576x309.6 with 2 Axes>"
      ]
     },
     "metadata": {
      "needs_background": "light"
     },
     "output_type": "display_data"
    }
   ],
   "source": [
    "c_shap.create_plot_shap(plot_type='dot', number_features=30)"
   ]
  },
  {
   "cell_type": "code",
   "execution_count": 14,
   "id": "81e6503e",
   "metadata": {},
   "outputs": [
    {
     "data": {
      "image/png": "[encoded data removed]",
      "text/plain": [
       "<Figure size 576x309.6 with 1 Axes>"
      ]
     },
     "metadata": {
      "needs_background": "light"
     },
     "output_type": "display_data"
    }
   ],
   "source": [
    "c_shap.create_plot_shap(plot_type='bar', number_features=30)"
   ]
  },
  {
   "cell_type": "code",
   "execution_count": 15,
   "id": "e12c5913",
   "metadata": {},
   "outputs": [
    {
     "data": {
      "text/html": [
       "<div>\n",
       "<style scoped>\n",
       "    .dataframe tbody tr th:only-of-type {\n",
       "        vertical-align: middle;\n",
       "    }\n",
       "\n",
       "    .dataframe tbody tr th {\n",
       "        vertical-align: top;\n",
       "    }\n",
       "\n",
       "    .dataframe thead th {\n",
       "        text-align: right;\n",
       "    }\n",
       "</style>\n",
       "<table border=\"1\" class=\"dataframe\">\n",
       "  <thead>\n",
       "    <tr style=\"text-align: right;\">\n",
       "      <th></th>\n",
       "      <th>col_name</th>\n",
       "      <th>imp_shap</th>\n",
       "    </tr>\n",
       "  </thead>\n",
       "  <tbody>\n",
       "    <tr>\n",
       "      <th>0</th>\n",
       "      <td>Sex</td>\n",
       "      <td>1.226701</td>\n",
       "    </tr>\n",
       "    <tr>\n",
       "      <th>1</th>\n",
       "      <td>Fare</td>\n",
       "      <td>0.580397</td>\n",
       "    </tr>\n",
       "    <tr>\n",
       "      <th>2</th>\n",
       "      <td>Pclass</td>\n",
       "      <td>0.522742</td>\n",
       "    </tr>\n",
       "    <tr>\n",
       "      <th>3</th>\n",
       "      <td>Age</td>\n",
       "      <td>0.446026</td>\n",
       "    </tr>\n",
       "    <tr>\n",
       "      <th>4</th>\n",
       "      <td>Embarked</td>\n",
       "      <td>0.231003</td>\n",
       "    </tr>\n",
       "    <tr>\n",
       "      <th>5</th>\n",
       "      <td>SibSp</td>\n",
       "      <td>0.141932</td>\n",
       "    </tr>\n",
       "    <tr>\n",
       "      <th>6</th>\n",
       "      <td>Parch</td>\n",
       "      <td>0.117993</td>\n",
       "    </tr>\n",
       "  </tbody>\n",
       "</table>\n",
       "</div>"
      ],
      "text/plain": [
       "   col_name  imp_shap\n",
       "0       Sex  1.226701\n",
       "1      Fare  0.580397\n",
       "2    Pclass  0.522742\n",
       "3       Age  0.446026\n",
       "4  Embarked  0.231003\n",
       "5     SibSp  0.141932\n",
       "6     Parch  0.117993"
      ]
     },
     "execution_count": 15,
     "metadata": {},
     "output_type": "execute_result"
    }
   ],
   "source": [
    "result = c_shap.get_table_shap()\n",
    "result"
   ]
  },
  {
   "cell_type": "markdown",
   "id": "98e9c1ff",
   "metadata": {},
   "source": [
    "## 2. График в нужном порядке\n",
    "Часто бывают такие ситуации, что нужно в нужном порядке получить график. Например, для презентации.    \n",
    "Сейчас фреймворк позволяет это сделать."
   ]
  },
  {
   "cell_type": "code",
   "execution_count": 16,
   "id": "7be63c21",
   "metadata": {},
   "outputs": [
    {
     "data": {
      "image/png": "[encoded data removed]",
      "text/plain": [
       "<Figure size 576x223.2 with 2 Axes>"
      ]
     },
     "metadata": {
      "needs_background": "light"
     },
     "output_type": "display_data"
    }
   ],
   "source": [
    "features = ['Parch', 'Sex', 'SibSp', 'Age']\n",
    "c_shap.create_feature_shap(features)"
   ]
  },
  {
   "cell_type": "markdown",
   "id": "11cb17c1",
   "metadata": {},
   "source": [
    "## 3. HTML отчет"
   ]
  },
  {
   "cell_type": "code",
   "execution_count": 17,
   "id": "4caefa4e",
   "metadata": {},
   "outputs": [],
   "source": [
    "c_shap.create_shap_report(path_base='./shap_report')"
   ]
  },
  {
   "cell_type": "code",
   "execution_count": null,
   "id": "907ea80d",
   "metadata": {},
   "outputs": [],
   "source": []
  },
  {
   "cell_type": "code",
   "execution_count": null,
   "id": "3709f330",
   "metadata": {},
   "outputs": [],
   "source": []
  },
  {
   "cell_type": "raw",
   "id": "9e912c3a",
   "metadata": {},
   "source": []
  },
  {
   "cell_type": "raw",
   "id": "3e3b38f1",
   "metadata": {},
   "source": []
  }
 ],
 "metadata": {
  "kernelspec": {
   "display_name": "Python 3",
   "language": "python",
   "name": "python3"
  },
  "language_info": {
   "codemirror_mode": {
    "name": "ipython",
    "version": 3
   },
   "file_extension": ".py",
   "mimetype": "text/x-python",
   "name": "python",
   "nbconvert_exporter": "python",
   "pygments_lexer": "ipython3",
   "version": "3.7.6"
  }
 },
 "nbformat": 4,
 "nbformat_minor": 5
}
