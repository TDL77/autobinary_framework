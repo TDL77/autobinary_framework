{
 "cells": [
  {
   "cell_type": "markdown",
   "id": "972ead0d",
   "metadata": {},
   "source": [
    "# Демонстрация автоматического расчета важностей RandomForestClassifier"
   ]
  },
  {
   "cell_type": "code",
   "execution_count": 1,
   "id": "fd66b4d4",
   "metadata": {},
   "outputs": [
    {
     "data": {
      "text/html": [
       "<style>.container {width:95% !important;}</style>"
      ],
      "text/plain": [
       "<IPython.core.display.HTML object>"
      ]
     },
     "metadata": {},
     "output_type": "display_data"
    }
   ],
   "source": [
    "# расширяем поле, убираем предупреждения\n",
    "from IPython.core.display import display, HTML\n",
    "display(HTML('<style>.container {width:95% !important;}</style>'))\n",
    "\n",
    "import warnings\n",
    "warnings.filterwarnings('ignore')"
   ]
  },
  {
   "cell_type": "code",
   "execution_count": 2,
   "id": "630c9055",
   "metadata": {},
   "outputs": [],
   "source": [
    "# Стандартные библиотеки для анализа\n",
    "import pandas as pd\n",
    "pd.options.display.float_format = '{:20,.2f}'.format\n",
    "\n",
    "from sklearn.model_selection import train_test_split, StratifiedKFold\n",
    "\n",
    "from sklearn.ensemble import RandomForestClassifier\n",
    "\n",
    "import matplotlib.pylab as pl"
   ]
  },
  {
   "cell_type": "code",
   "execution_count": 3,
   "id": "965ac9c2",
   "metadata": {},
   "outputs": [],
   "source": [
    "import sys\n",
    "sys.path.append('../')\n",
    "\n",
    "# Наша разработанная библиотека\n",
    "from autobinary import SentColumns, CatBoostEncoder, AutoTrees, base_pipe"
   ]
  },
  {
   "cell_type": "code",
   "execution_count": 4,
   "id": "3257593f",
   "metadata": {},
   "outputs": [
    {
     "name": "stdout",
     "output_type": "stream",
     "text": [
      "sklearn:  0.24.2\n",
      "xgboost:  1.5.2\n",
      "matplotlib:  3.1.0\n",
      "autobinary:  1.0.4\n"
     ]
    }
   ],
   "source": [
    "import sklearn as sk\n",
    "import xgboost as xgb\n",
    "import matplotlib as mplot\n",
    "import autobinary as ab\n",
    "\n",
    "print('sklearn: ', sk.__version__)\n",
    "print('xgboost: ', xgb.__version__)\n",
    "print('matplotlib: ', mplot.__version__)\n",
    "print('autobinary: ', ab.__version__)"
   ]
  },
  {
   "cell_type": "code",
   "execution_count": 5,
   "id": "98b7ed81",
   "metadata": {},
   "outputs": [
    {
     "name": "stdout",
     "output_type": "stream",
     "text": [
      "Размерность данных: (891, 12)\n"
     ]
    },
    {
     "data": {
      "text/html": [
       "<div>\n",
       "<style scoped>\n",
       "    .dataframe tbody tr th:only-of-type {\n",
       "        vertical-align: middle;\n",
       "    }\n",
       "\n",
       "    .dataframe tbody tr th {\n",
       "        vertical-align: top;\n",
       "    }\n",
       "\n",
       "    .dataframe thead th {\n",
       "        text-align: right;\n",
       "    }\n",
       "</style>\n",
       "<table border=\"1\" class=\"dataframe\">\n",
       "  <thead>\n",
       "    <tr style=\"text-align: right;\">\n",
       "      <th></th>\n",
       "      <th>PassengerId</th>\n",
       "      <th>Survived</th>\n",
       "      <th>Pclass</th>\n",
       "      <th>Name</th>\n",
       "      <th>Sex</th>\n",
       "      <th>Age</th>\n",
       "      <th>SibSp</th>\n",
       "      <th>Parch</th>\n",
       "      <th>Ticket</th>\n",
       "      <th>Fare</th>\n",
       "      <th>Cabin</th>\n",
       "      <th>Embarked</th>\n",
       "    </tr>\n",
       "  </thead>\n",
       "  <tbody>\n",
       "    <tr>\n",
       "      <th>0</th>\n",
       "      <td>1</td>\n",
       "      <td>0</td>\n",
       "      <td>3</td>\n",
       "      <td>Braund, Mr. Owen Harris</td>\n",
       "      <td>male</td>\n",
       "      <td>22.00</td>\n",
       "      <td>1</td>\n",
       "      <td>0</td>\n",
       "      <td>A/5 21171</td>\n",
       "      <td>7.25</td>\n",
       "      <td>NaN</td>\n",
       "      <td>S</td>\n",
       "    </tr>\n",
       "    <tr>\n",
       "      <th>1</th>\n",
       "      <td>2</td>\n",
       "      <td>1</td>\n",
       "      <td>1</td>\n",
       "      <td>Cumings, Mrs. John Bradley (Florence Briggs Th...</td>\n",
       "      <td>female</td>\n",
       "      <td>38.00</td>\n",
       "      <td>1</td>\n",
       "      <td>0</td>\n",
       "      <td>PC 17599</td>\n",
       "      <td>71.28</td>\n",
       "      <td>C85</td>\n",
       "      <td>C</td>\n",
       "    </tr>\n",
       "  </tbody>\n",
       "</table>\n",
       "</div>"
      ],
      "text/plain": [
       "   PassengerId  Survived  Pclass  \\\n",
       "0            1         0       3   \n",
       "1            2         1       1   \n",
       "\n",
       "                                                Name     Sex  \\\n",
       "0                            Braund, Mr. Owen Harris    male   \n",
       "1  Cumings, Mrs. John Bradley (Florence Briggs Th...  female   \n",
       "\n",
       "                   Age  SibSp  Parch     Ticket                 Fare Cabin  \\\n",
       "0                22.00      1      0  A/5 21171                 7.25   NaN   \n",
       "1                38.00      1      0   PC 17599                71.28   C85   \n",
       "\n",
       "  Embarked  \n",
       "0        S  \n",
       "1        C  "
      ]
     },
     "execution_count": 5,
     "metadata": {},
     "output_type": "execute_result"
    }
   ],
   "source": [
    "sample = pd.read_csv('../data/train_titanic.csv')\n",
    "\n",
    "print('Размерность данных:', sample.shape)\n",
    "sample.head(2)"
   ]
  },
  {
   "cell_type": "code",
   "execution_count": 6,
   "id": "398ea47c",
   "metadata": {},
   "outputs": [],
   "source": [
    "num_columns = [\n",
    "    'Age', 'Fare'\n",
    "]\n",
    "\n",
    "cat_columns = [\n",
    "    'Pclass', 'Sex', 'Embarked', 'SibSp', 'Parch'\n",
    "]\n",
    "\n",
    "target = ['Survived']"
   ]
  },
  {
   "cell_type": "code",
   "execution_count": 7,
   "id": "4d015555",
   "metadata": {},
   "outputs": [],
   "source": [
    "X_train, X_val, y_train, y_val = train_test_split(\n",
    "    sample[num_columns+cat_columns],\n",
    "    sample[target],\n",
    "    test_size=0.3,\n",
    "    stratify=sample[target],\n",
    "    random_state=42\n",
    ")"
   ]
  },
  {
   "cell_type": "code",
   "execution_count": 8,
   "id": "dc02b2e4",
   "metadata": {},
   "outputs": [],
   "source": [
    "prep_pipe = base_pipe(\n",
    "    num_columns=num_columns, \n",
    "    cat_columns=cat_columns, \n",
    "    kind='all')"
   ]
  },
  {
   "cell_type": "code",
   "execution_count": 9,
   "id": "4a2f1b62",
   "metadata": {},
   "outputs": [],
   "source": [
    "params = {\n",
    "    'criterion':'gini',\n",
    "    'max_depth':5,\n",
    "    'random_state':42,\n",
    "    'n_estimators':50}\n",
    "\n",
    "fit_params = {}\n",
    "\n",
    "rf_model = RandomForestClassifier(**params)\n",
    "\n",
    "# задаем стратегию проверки\n",
    "strat = StratifiedKFold(\n",
    "    n_splits=5,\n",
    "    shuffle=True,\n",
    "    random_state=42)"
   ]
  },
  {
   "cell_type": "code",
   "execution_count": 10,
   "id": "57bd3d18",
   "metadata": {},
   "outputs": [],
   "source": [
    "model = AutoTrees(\n",
    "    main_estimator=rf_model, \n",
    "    main_fit_params=fit_params,\n",
    "    main_prep_pipe = prep_pipe,\n",
    "    main_features=num_columns+cat_columns,\n",
    "    \n",
    "    X_train=X_train,\n",
    "    y_train=y_train,\n",
    "    \n",
    "    main_metric='gini',\n",
    "    model_type = 'randomforest')"
   ]
  },
  {
   "cell_type": "code",
   "execution_count": 11,
   "id": "6369b07f",
   "metadata": {
    "scrolled": true
   },
   "outputs": [
    {
     "name": "stderr",
     "output_type": "stream",
     "text": [
      "\r",
      "0it [00:00, ?it/s]"
     ]
    },
    {
     "name": "stdout",
     "output_type": "stream",
     "text": [
      "==================== Обучение 1 фолда! ====================\n"
     ]
    },
    {
     "name": "stderr",
     "output_type": "stream",
     "text": [
      "\r",
      "1it [00:00,  5.50it/s]"
     ]
    },
    {
     "name": "stdout",
     "output_type": "stream",
     "text": [
      "gini на обучающей выборке: 86.242\n",
      "gini на проверочной выборке: 61.851\n",
      "\n",
      "********************** 1 фолд обучен! ******************************\n",
      "\n",
      "\n",
      "==================== Обучение 2 фолда! ====================\n"
     ]
    },
    {
     "name": "stderr",
     "output_type": "stream",
     "text": [
      "\r",
      "2it [00:00,  5.43it/s]"
     ]
    },
    {
     "name": "stdout",
     "output_type": "stream",
     "text": [
      "gini на обучающей выборке: 84.622\n",
      "gini на проверочной выборке: 72.971\n",
      "\n",
      "********************** 2 фолд обучен! ******************************\n",
      "\n",
      "\n",
      "==================== Обучение 3 фолда! ====================\n"
     ]
    },
    {
     "name": "stderr",
     "output_type": "stream",
     "text": [
      "4it [00:00,  4.57it/s]"
     ]
    },
    {
     "name": "stdout",
     "output_type": "stream",
     "text": [
      "gini на обучающей выборке: 85.622\n",
      "gini на проверочной выборке: 68.642\n",
      "\n",
      "********************** 3 фолд обучен! ******************************\n",
      "\n",
      "\n",
      "==================== Обучение 4 фолда! ====================\n",
      "gini на обучающей выборке: 83.671\n",
      "gini на проверочной выборке: 77.950\n",
      "\n",
      "********************** 4 фолд обучен! ******************************\n",
      "\n",
      "\n",
      "==================== Обучение 5 фолда! ====================\n"
     ]
    },
    {
     "name": "stderr",
     "output_type": "stream",
     "text": [
      "5it [00:01,  4.76it/s]"
     ]
    },
    {
     "name": "stdout",
     "output_type": "stream",
     "text": [
      "gini на обучающей выборке: 84.244\n",
      "gini на проверочной выборке: 79.194\n",
      "\n",
      "********************** 5 фолд обучен! ******************************\n",
      "\n",
      "\n"
     ]
    },
    {
     "name": "stderr",
     "output_type": "stream",
     "text": [
      "\n"
     ]
    }
   ],
   "source": [
    "model.model_fit_cv(strat=strat)"
   ]
  },
  {
   "cell_type": "code",
   "execution_count": 12,
   "id": "fa2b41f9",
   "metadata": {},
   "outputs": [
    {
     "data": {
      "text/plain": [
       "72.12139845503506"
      ]
     },
     "execution_count": 12,
     "metadata": {},
     "output_type": "execute_result"
    }
   ],
   "source": [
    "model.get_mean_cv_scores()"
   ]
  },
  {
   "cell_type": "code",
   "execution_count": 13,
   "id": "d12762dd",
   "metadata": {},
   "outputs": [
    {
     "data": {
      "text/html": [
       "<div>\n",
       "<style scoped>\n",
       "    .dataframe tbody tr th:only-of-type {\n",
       "        vertical-align: middle;\n",
       "    }\n",
       "\n",
       "    .dataframe tbody tr th {\n",
       "        vertical-align: top;\n",
       "    }\n",
       "\n",
       "    .dataframe thead th {\n",
       "        text-align: right;\n",
       "    }\n",
       "</style>\n",
       "<table border=\"1\" class=\"dataframe\">\n",
       "  <thead>\n",
       "    <tr style=\"text-align: right;\">\n",
       "      <th></th>\n",
       "      <th>names</th>\n",
       "      <th>fold_1</th>\n",
       "      <th>fold_2</th>\n",
       "      <th>fold_3</th>\n",
       "      <th>fold_4</th>\n",
       "      <th>fold_5</th>\n",
       "    </tr>\n",
       "  </thead>\n",
       "  <tbody>\n",
       "    <tr>\n",
       "      <th>0</th>\n",
       "      <td>roc_train</td>\n",
       "      <td>0.93</td>\n",
       "      <td>0.92</td>\n",
       "      <td>0.93</td>\n",
       "      <td>0.92</td>\n",
       "      <td>0.92</td>\n",
       "    </tr>\n",
       "    <tr>\n",
       "      <th>1</th>\n",
       "      <td>roc_valid</td>\n",
       "      <td>0.81</td>\n",
       "      <td>0.86</td>\n",
       "      <td>0.84</td>\n",
       "      <td>0.89</td>\n",
       "      <td>0.90</td>\n",
       "    </tr>\n",
       "    <tr>\n",
       "      <th>2</th>\n",
       "      <td>gini_train</td>\n",
       "      <td>86.24</td>\n",
       "      <td>84.62</td>\n",
       "      <td>85.62</td>\n",
       "      <td>83.67</td>\n",
       "      <td>84.24</td>\n",
       "    </tr>\n",
       "    <tr>\n",
       "      <th>3</th>\n",
       "      <td>gini_valid</td>\n",
       "      <td>61.85</td>\n",
       "      <td>72.97</td>\n",
       "      <td>68.64</td>\n",
       "      <td>77.95</td>\n",
       "      <td>79.19</td>\n",
       "    </tr>\n",
       "  </tbody>\n",
       "</table>\n",
       "</div>"
      ],
      "text/plain": [
       "        names               fold_1               fold_2               fold_3  \\\n",
       "0   roc_train                 0.93                 0.92                 0.93   \n",
       "1   roc_valid                 0.81                 0.86                 0.84   \n",
       "2  gini_train                86.24                84.62                85.62   \n",
       "3  gini_valid                61.85                72.97                68.64   \n",
       "\n",
       "                fold_4               fold_5  \n",
       "0                 0.92                 0.92  \n",
       "1                 0.89                 0.90  \n",
       "2                83.67                84.24  \n",
       "3                77.95                79.19  "
      ]
     },
     "execution_count": 13,
     "metadata": {},
     "output_type": "execute_result"
    }
   ],
   "source": [
    "model.get_extra_scores()"
   ]
  },
  {
   "cell_type": "code",
   "execution_count": 14,
   "id": "5561c9d7",
   "metadata": {},
   "outputs": [
    {
     "data": {
      "text/html": [
       "<div>\n",
       "<style scoped>\n",
       "    .dataframe tbody tr th:only-of-type {\n",
       "        vertical-align: middle;\n",
       "    }\n",
       "\n",
       "    .dataframe tbody tr th {\n",
       "        vertical-align: top;\n",
       "    }\n",
       "\n",
       "    .dataframe thead th {\n",
       "        text-align: right;\n",
       "    }\n",
       "</style>\n",
       "<table border=\"1\" class=\"dataframe\">\n",
       "  <thead>\n",
       "    <tr style=\"text-align: right;\">\n",
       "      <th></th>\n",
       "      <th>index</th>\n",
       "      <th>importance 0</th>\n",
       "      <th>importance 1</th>\n",
       "      <th>importance 2</th>\n",
       "      <th>importance 3</th>\n",
       "      <th>importance 4</th>\n",
       "      <th>mean_importance</th>\n",
       "    </tr>\n",
       "  </thead>\n",
       "  <tbody>\n",
       "    <tr>\n",
       "      <th>0</th>\n",
       "      <td>Sex</td>\n",
       "      <td>0.39</td>\n",
       "      <td>0.34</td>\n",
       "      <td>0.36</td>\n",
       "      <td>0.34</td>\n",
       "      <td>0.39</td>\n",
       "      <td>0.36</td>\n",
       "    </tr>\n",
       "    <tr>\n",
       "      <th>1</th>\n",
       "      <td>Fare</td>\n",
       "      <td>0.21</td>\n",
       "      <td>0.24</td>\n",
       "      <td>0.26</td>\n",
       "      <td>0.22</td>\n",
       "      <td>0.22</td>\n",
       "      <td>0.23</td>\n",
       "    </tr>\n",
       "    <tr>\n",
       "      <th>2</th>\n",
       "      <td>Pclass</td>\n",
       "      <td>0.13</td>\n",
       "      <td>0.15</td>\n",
       "      <td>0.11</td>\n",
       "      <td>0.15</td>\n",
       "      <td>0.10</td>\n",
       "      <td>0.13</td>\n",
       "    </tr>\n",
       "    <tr>\n",
       "      <th>3</th>\n",
       "      <td>Age</td>\n",
       "      <td>0.10</td>\n",
       "      <td>0.11</td>\n",
       "      <td>0.10</td>\n",
       "      <td>0.10</td>\n",
       "      <td>0.13</td>\n",
       "      <td>0.11</td>\n",
       "    </tr>\n",
       "    <tr>\n",
       "      <th>4</th>\n",
       "      <td>Parch</td>\n",
       "      <td>0.06</td>\n",
       "      <td>0.07</td>\n",
       "      <td>0.07</td>\n",
       "      <td>0.06</td>\n",
       "      <td>0.07</td>\n",
       "      <td>0.07</td>\n",
       "    </tr>\n",
       "    <tr>\n",
       "      <th>5</th>\n",
       "      <td>SibSp</td>\n",
       "      <td>0.07</td>\n",
       "      <td>0.06</td>\n",
       "      <td>0.06</td>\n",
       "      <td>0.07</td>\n",
       "      <td>0.06</td>\n",
       "      <td>0.06</td>\n",
       "    </tr>\n",
       "    <tr>\n",
       "      <th>6</th>\n",
       "      <td>Embarked</td>\n",
       "      <td>0.04</td>\n",
       "      <td>0.04</td>\n",
       "      <td>0.04</td>\n",
       "      <td>0.05</td>\n",
       "      <td>0.04</td>\n",
       "      <td>0.04</td>\n",
       "    </tr>\n",
       "  </tbody>\n",
       "</table>\n",
       "</div>"
      ],
      "text/plain": [
       "      index         importance 0         importance 1         importance 2  \\\n",
       "0       Sex                 0.39                 0.34                 0.36   \n",
       "1      Fare                 0.21                 0.24                 0.26   \n",
       "2    Pclass                 0.13                 0.15                 0.11   \n",
       "3       Age                 0.10                 0.11                 0.10   \n",
       "4     Parch                 0.06                 0.07                 0.07   \n",
       "5     SibSp                 0.07                 0.06                 0.06   \n",
       "6  Embarked                 0.04                 0.04                 0.04   \n",
       "\n",
       "          importance 3         importance 4      mean_importance  \n",
       "0                 0.34                 0.39                 0.36  \n",
       "1                 0.22                 0.22                 0.23  \n",
       "2                 0.15                 0.10                 0.13  \n",
       "3                 0.10                 0.13                 0.11  \n",
       "4                 0.06                 0.07                 0.07  \n",
       "5                 0.07                 0.06                 0.06  \n",
       "6                 0.05                 0.04                 0.04  "
      ]
     },
     "execution_count": 14,
     "metadata": {},
     "output_type": "execute_result"
    }
   ],
   "source": [
    "fi = model.get_fi()\n",
    "fi"
   ]
  },
  {
   "cell_type": "code",
   "execution_count": 15,
   "id": "e3909274",
   "metadata": {},
   "outputs": [
    {
     "data": {
      "image/png": "[encoded data removed]",
      "text/plain": [
       "<Figure size 432x288 with 1 Axes>"
      ]
     },
     "metadata": {
      "needs_background": "light"
     },
     "output_type": "display_data"
    },
    {
     "data": {
      "image/png": "[encoded data removed]",
      "text/plain": [
       "<Figure size 432x288 with 1 Axes>"
      ]
     },
     "metadata": {
      "needs_background": "light"
     },
     "output_type": "display_data"
    }
   ],
   "source": [
    "model.get_rocauc_plots()"
   ]
  },
  {
   "cell_type": "code",
   "execution_count": null,
   "id": "7a05fc1c",
   "metadata": {},
   "outputs": [],
   "source": []
  },
  {
   "cell_type": "code",
   "execution_count": null,
   "id": "80ee7df6",
   "metadata": {},
   "outputs": [],
   "source": []
  },
  {
   "cell_type": "raw",
   "id": "63f533e4",
   "metadata": {},
   "source": []
  },
  {
   "cell_type": "raw",
   "id": "c4d06353",
   "metadata": {},
   "source": []
  }
 ],
 "metadata": {
  "kernelspec": {
   "display_name": "Python 3 (ipykernel)",
   "language": "python",
   "name": "python3"
  },
  "language_info": {
   "codemirror_mode": {
    "name": "ipython",
    "version": 3
   },
   "file_extension": ".py",
   "mimetype": "text/x-python",
   "name": "python",
   "nbconvert_exporter": "python",
   "pygments_lexer": "ipython3",
   "version": "3.9.7"
  }
 },
 "nbformat": 4,
 "nbformat_minor": 5
}
