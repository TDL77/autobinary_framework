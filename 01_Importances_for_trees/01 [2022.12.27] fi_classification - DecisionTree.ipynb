{
 "cells": [
  {
   "cell_type": "markdown",
   "id": "1729bbe2",
   "metadata": {},
   "source": [
    "# Демонстрация автоматического расчета важностей DecisionTreeClassifier"
   ]
  },
  {
   "cell_type": "code",
   "execution_count": 1,
   "id": "352ca9f0",
   "metadata": {},
   "outputs": [
    {
     "data": {
      "text/html": [
       "<style>.container {width:95% !important;}</style>"
      ],
      "text/plain": [
       "<IPython.core.display.HTML object>"
      ]
     },
     "metadata": {},
     "output_type": "display_data"
    }
   ],
   "source": [
    "# расширяем поле, убираем предупреждения\n",
    "from IPython.core.display import display, HTML\n",
    "display(HTML('<style>.container {width:95% !important;}</style>'))\n",
    "\n",
    "import warnings\n",
    "warnings.filterwarnings('ignore')"
   ]
  },
  {
   "cell_type": "code",
   "execution_count": 2,
   "id": "87451b27",
   "metadata": {},
   "outputs": [],
   "source": [
    "# Стандартные библиотеки для анализа\n",
    "import pandas as pd\n",
    "pd.options.display.float_format = '{:20,.2f}'.format\n",
    "\n",
    "from sklearn.model_selection import train_test_split, StratifiedKFold\n",
    "\n",
    "from sklearn.tree import DecisionTreeClassifier\n",
    "\n",
    "import matplotlib.pylab as pl"
   ]
  },
  {
   "cell_type": "code",
   "execution_count": 3,
   "id": "b1259d6b",
   "metadata": {},
   "outputs": [],
   "source": [
    "import sys\n",
    "sys.path.append('../')\n",
    "\n",
    "# Наша разработанная библиотека\n",
    "from autobinary import SentColumns, CatBoostEncoder, AutoTrees, base_pipe"
   ]
  },
  {
   "cell_type": "code",
   "execution_count": 4,
   "id": "23498860",
   "metadata": {},
   "outputs": [
    {
     "name": "stdout",
     "output_type": "stream",
     "text": [
      "sklearn:  0.24.2\n",
      "xgboost:  1.5.2\n",
      "matplotlib:  3.1.0\n",
      "autobinary:  1.0.4\n"
     ]
    }
   ],
   "source": [
    "import sklearn as sk\n",
    "import xgboost as xgb\n",
    "import matplotlib as mplot\n",
    "import autobinary as ab\n",
    "\n",
    "print('sklearn: ', sk.__version__)\n",
    "print('xgboost: ', xgb.__version__)\n",
    "print('matplotlib: ', mplot.__version__)\n",
    "print('autobinary: ', ab.__version__)"
   ]
  },
  {
   "cell_type": "code",
   "execution_count": 5,
   "id": "ede274d6",
   "metadata": {},
   "outputs": [
    {
     "name": "stdout",
     "output_type": "stream",
     "text": [
      "Размерность данных: (891, 12)\n"
     ]
    },
    {
     "data": {
      "text/html": [
       "<div>\n",
       "<style scoped>\n",
       "    .dataframe tbody tr th:only-of-type {\n",
       "        vertical-align: middle;\n",
       "    }\n",
       "\n",
       "    .dataframe tbody tr th {\n",
       "        vertical-align: top;\n",
       "    }\n",
       "\n",
       "    .dataframe thead th {\n",
       "        text-align: right;\n",
       "    }\n",
       "</style>\n",
       "<table border=\"1\" class=\"dataframe\">\n",
       "  <thead>\n",
       "    <tr style=\"text-align: right;\">\n",
       "      <th></th>\n",
       "      <th>PassengerId</th>\n",
       "      <th>Survived</th>\n",
       "      <th>Pclass</th>\n",
       "      <th>Name</th>\n",
       "      <th>Sex</th>\n",
       "      <th>Age</th>\n",
       "      <th>SibSp</th>\n",
       "      <th>Parch</th>\n",
       "      <th>Ticket</th>\n",
       "      <th>Fare</th>\n",
       "      <th>Cabin</th>\n",
       "      <th>Embarked</th>\n",
       "    </tr>\n",
       "  </thead>\n",
       "  <tbody>\n",
       "    <tr>\n",
       "      <th>0</th>\n",
       "      <td>1</td>\n",
       "      <td>0</td>\n",
       "      <td>3</td>\n",
       "      <td>Braund, Mr. Owen Harris</td>\n",
       "      <td>male</td>\n",
       "      <td>22.00</td>\n",
       "      <td>1</td>\n",
       "      <td>0</td>\n",
       "      <td>A/5 21171</td>\n",
       "      <td>7.25</td>\n",
       "      <td>NaN</td>\n",
       "      <td>S</td>\n",
       "    </tr>\n",
       "    <tr>\n",
       "      <th>1</th>\n",
       "      <td>2</td>\n",
       "      <td>1</td>\n",
       "      <td>1</td>\n",
       "      <td>Cumings, Mrs. John Bradley (Florence Briggs Th...</td>\n",
       "      <td>female</td>\n",
       "      <td>38.00</td>\n",
       "      <td>1</td>\n",
       "      <td>0</td>\n",
       "      <td>PC 17599</td>\n",
       "      <td>71.28</td>\n",
       "      <td>C85</td>\n",
       "      <td>C</td>\n",
       "    </tr>\n",
       "  </tbody>\n",
       "</table>\n",
       "</div>"
      ],
      "text/plain": [
       "   PassengerId  Survived  Pclass  \\\n",
       "0            1         0       3   \n",
       "1            2         1       1   \n",
       "\n",
       "                                                Name     Sex  \\\n",
       "0                            Braund, Mr. Owen Harris    male   \n",
       "1  Cumings, Mrs. John Bradley (Florence Briggs Th...  female   \n",
       "\n",
       "                   Age  SibSp  Parch     Ticket                 Fare Cabin  \\\n",
       "0                22.00      1      0  A/5 21171                 7.25   NaN   \n",
       "1                38.00      1      0   PC 17599                71.28   C85   \n",
       "\n",
       "  Embarked  \n",
       "0        S  \n",
       "1        C  "
      ]
     },
     "execution_count": 5,
     "metadata": {},
     "output_type": "execute_result"
    }
   ],
   "source": [
    "sample = pd.read_csv('../data/train_titanic.csv')\n",
    "\n",
    "print('Размерность данных:', sample.shape)\n",
    "sample.head(2)"
   ]
  },
  {
   "cell_type": "code",
   "execution_count": 6,
   "id": "427a978b",
   "metadata": {},
   "outputs": [],
   "source": [
    "num_columns = [\n",
    "    'Age', 'Fare'\n",
    "]\n",
    "\n",
    "cat_columns = [\n",
    "    'Pclass', 'Sex', 'Embarked', 'SibSp', 'Parch'\n",
    "]\n",
    "\n",
    "target = ['Survived']"
   ]
  },
  {
   "cell_type": "code",
   "execution_count": 7,
   "id": "fcf872df",
   "metadata": {},
   "outputs": [],
   "source": [
    "X_train, X_val, y_train, y_val = train_test_split(\n",
    "    sample[num_columns+cat_columns],\n",
    "    sample[target],\n",
    "    test_size=0.3,\n",
    "    stratify=sample[target],\n",
    "    random_state=42\n",
    ")"
   ]
  },
  {
   "cell_type": "code",
   "execution_count": 8,
   "id": "48bc9d02",
   "metadata": {},
   "outputs": [],
   "source": [
    "prep_pipe = base_pipe(\n",
    "    num_columns=num_columns, \n",
    "    cat_columns=cat_columns)"
   ]
  },
  {
   "cell_type": "code",
   "execution_count": 9,
   "id": "ad890415",
   "metadata": {},
   "outputs": [],
   "source": [
    "params = {\n",
    "    'criterion':'gini',\n",
    "    'max_depth':5,\n",
    "    'random_state':42}\n",
    "\n",
    "fit_params = {}\n",
    "\n",
    "dt_model = DecisionTreeClassifier(**params)\n",
    "\n",
    "# задаем стратегию проверки\n",
    "strat = StratifiedKFold(\n",
    "    n_splits=5,\n",
    "    shuffle=True,\n",
    "    random_state=42)"
   ]
  },
  {
   "cell_type": "code",
   "execution_count": 10,
   "id": "f8d7291e",
   "metadata": {},
   "outputs": [],
   "source": [
    "model = AutoTrees(\n",
    "    main_estimator=dt_model, \n",
    "    main_fit_params=fit_params,\n",
    "    main_prep_pipe = prep_pipe,\n",
    "    main_features=num_columns+cat_columns,\n",
    "    \n",
    "    X_train=X_train,\n",
    "    y_train=y_train,\n",
    "    \n",
    "    main_metric='gini',\n",
    "    model_type = 'decisiontree')"
   ]
  },
  {
   "cell_type": "code",
   "execution_count": 11,
   "id": "57eed5d1",
   "metadata": {
    "scrolled": true
   },
   "outputs": [
    {
     "name": "stderr",
     "output_type": "stream",
     "text": [
      "\r",
      "0it [00:00, ?it/s]"
     ]
    },
    {
     "name": "stdout",
     "output_type": "stream",
     "text": [
      "==================== Обучение 1 фолда! ====================\n"
     ]
    },
    {
     "name": "stderr",
     "output_type": "stream",
     "text": [
      "3it [00:00,  7.69it/s]"
     ]
    },
    {
     "name": "stdout",
     "output_type": "stream",
     "text": [
      "gini на обучающей выборке: 86.780\n",
      "gini на проверочной выборке: 51.407\n",
      "\n",
      "********************** 1 фолд обучен! ******************************\n",
      "\n",
      "\n",
      "==================== Обучение 2 фолда! ====================\n",
      "gini на обучающей выборке: 85.185\n",
      "gini на проверочной выборке: 56.683\n",
      "\n",
      "********************** 2 фолд обучен! ******************************\n",
      "\n",
      "\n",
      "==================== Обучение 3 фолда! ====================\n",
      "gini на обучающей выборке: 83.507\n",
      "gini на проверочной выборке: 57.522\n",
      "\n",
      "********************** 3 фолд обучен! ******************************\n",
      "\n",
      "\n",
      "==================== Обучение 4 фолда! ====================\n"
     ]
    },
    {
     "name": "stderr",
     "output_type": "stream",
     "text": [
      "5it [00:00,  8.21it/s]"
     ]
    },
    {
     "name": "stdout",
     "output_type": "stream",
     "text": [
      "gini на обучающей выборке: 80.817\n",
      "gini на проверочной выборке: 77.342\n",
      "\n",
      "********************** 4 фолд обучен! ******************************\n",
      "\n",
      "\n",
      "==================== Обучение 5 фолда! ====================\n",
      "gini на обучающей выборке: 81.900\n",
      "gini на проверочной выборке: 69.353\n",
      "\n",
      "********************** 5 фолд обучен! ******************************\n",
      "\n",
      "\n"
     ]
    },
    {
     "name": "stderr",
     "output_type": "stream",
     "text": [
      "\n"
     ]
    }
   ],
   "source": [
    "model.model_fit_cv(strat=strat)"
   ]
  },
  {
   "cell_type": "code",
   "execution_count": 12,
   "id": "1a42c311",
   "metadata": {},
   "outputs": [
    {
     "data": {
      "text/plain": [
       "62.46126983319033"
      ]
     },
     "execution_count": 12,
     "metadata": {},
     "output_type": "execute_result"
    }
   ],
   "source": [
    "model.get_mean_cv_scores()"
   ]
  },
  {
   "cell_type": "code",
   "execution_count": 13,
   "id": "c57ef5f9",
   "metadata": {},
   "outputs": [
    {
     "data": {
      "text/html": [
       "<div>\n",
       "<style scoped>\n",
       "    .dataframe tbody tr th:only-of-type {\n",
       "        vertical-align: middle;\n",
       "    }\n",
       "\n",
       "    .dataframe tbody tr th {\n",
       "        vertical-align: top;\n",
       "    }\n",
       "\n",
       "    .dataframe thead th {\n",
       "        text-align: right;\n",
       "    }\n",
       "</style>\n",
       "<table border=\"1\" class=\"dataframe\">\n",
       "  <thead>\n",
       "    <tr style=\"text-align: right;\">\n",
       "      <th></th>\n",
       "      <th>names</th>\n",
       "      <th>fold_1</th>\n",
       "      <th>fold_2</th>\n",
       "      <th>fold_3</th>\n",
       "      <th>fold_4</th>\n",
       "      <th>fold_5</th>\n",
       "    </tr>\n",
       "  </thead>\n",
       "  <tbody>\n",
       "    <tr>\n",
       "      <th>0</th>\n",
       "      <td>roc_train</td>\n",
       "      <td>0.93</td>\n",
       "      <td>0.93</td>\n",
       "      <td>0.92</td>\n",
       "      <td>0.90</td>\n",
       "      <td>0.91</td>\n",
       "    </tr>\n",
       "    <tr>\n",
       "      <th>1</th>\n",
       "      <td>roc_valid</td>\n",
       "      <td>0.76</td>\n",
       "      <td>0.78</td>\n",
       "      <td>0.79</td>\n",
       "      <td>0.89</td>\n",
       "      <td>0.85</td>\n",
       "    </tr>\n",
       "    <tr>\n",
       "      <th>2</th>\n",
       "      <td>gini_train</td>\n",
       "      <td>86.78</td>\n",
       "      <td>85.19</td>\n",
       "      <td>83.51</td>\n",
       "      <td>80.82</td>\n",
       "      <td>81.90</td>\n",
       "    </tr>\n",
       "    <tr>\n",
       "      <th>3</th>\n",
       "      <td>gini_valid</td>\n",
       "      <td>51.41</td>\n",
       "      <td>56.68</td>\n",
       "      <td>57.52</td>\n",
       "      <td>77.34</td>\n",
       "      <td>69.35</td>\n",
       "    </tr>\n",
       "  </tbody>\n",
       "</table>\n",
       "</div>"
      ],
      "text/plain": [
       "        names               fold_1               fold_2               fold_3  \\\n",
       "0   roc_train                 0.93                 0.93                 0.92   \n",
       "1   roc_valid                 0.76                 0.78                 0.79   \n",
       "2  gini_train                86.78                85.19                83.51   \n",
       "3  gini_valid                51.41                56.68                57.52   \n",
       "\n",
       "                fold_4               fold_5  \n",
       "0                 0.90                 0.91  \n",
       "1                 0.89                 0.85  \n",
       "2                80.82                81.90  \n",
       "3                77.34                69.35  "
      ]
     },
     "execution_count": 13,
     "metadata": {},
     "output_type": "execute_result"
    }
   ],
   "source": [
    "model.get_extra_scores()"
   ]
  },
  {
   "cell_type": "code",
   "execution_count": 14,
   "id": "99d018d9",
   "metadata": {},
   "outputs": [
    {
     "data": {
      "text/html": [
       "<div>\n",
       "<style scoped>\n",
       "    .dataframe tbody tr th:only-of-type {\n",
       "        vertical-align: middle;\n",
       "    }\n",
       "\n",
       "    .dataframe tbody tr th {\n",
       "        vertical-align: top;\n",
       "    }\n",
       "\n",
       "    .dataframe thead th {\n",
       "        text-align: right;\n",
       "    }\n",
       "</style>\n",
       "<table border=\"1\" class=\"dataframe\">\n",
       "  <thead>\n",
       "    <tr style=\"text-align: right;\">\n",
       "      <th></th>\n",
       "      <th>index</th>\n",
       "      <th>importance 0</th>\n",
       "      <th>importance 1</th>\n",
       "      <th>importance 2</th>\n",
       "      <th>importance 3</th>\n",
       "      <th>importance 4</th>\n",
       "      <th>mean_importance</th>\n",
       "    </tr>\n",
       "  </thead>\n",
       "  <tbody>\n",
       "    <tr>\n",
       "      <th>0</th>\n",
       "      <td>Sex</td>\n",
       "      <td>0.53</td>\n",
       "      <td>0.51</td>\n",
       "      <td>0.55</td>\n",
       "      <td>0.52</td>\n",
       "      <td>0.54</td>\n",
       "      <td>0.53</td>\n",
       "    </tr>\n",
       "    <tr>\n",
       "      <th>1</th>\n",
       "      <td>Fare</td>\n",
       "      <td>0.16</td>\n",
       "      <td>0.15</td>\n",
       "      <td>0.13</td>\n",
       "      <td>0.14</td>\n",
       "      <td>0.17</td>\n",
       "      <td>0.15</td>\n",
       "    </tr>\n",
       "    <tr>\n",
       "      <th>2</th>\n",
       "      <td>Age</td>\n",
       "      <td>0.12</td>\n",
       "      <td>0.12</td>\n",
       "      <td>0.13</td>\n",
       "      <td>0.12</td>\n",
       "      <td>0.11</td>\n",
       "      <td>0.12</td>\n",
       "    </tr>\n",
       "    <tr>\n",
       "      <th>3</th>\n",
       "      <td>Pclass</td>\n",
       "      <td>0.10</td>\n",
       "      <td>0.11</td>\n",
       "      <td>0.12</td>\n",
       "      <td>0.13</td>\n",
       "      <td>0.10</td>\n",
       "      <td>0.11</td>\n",
       "    </tr>\n",
       "    <tr>\n",
       "      <th>4</th>\n",
       "      <td>SibSp</td>\n",
       "      <td>0.07</td>\n",
       "      <td>0.05</td>\n",
       "      <td>0.02</td>\n",
       "      <td>0.05</td>\n",
       "      <td>0.04</td>\n",
       "      <td>0.04</td>\n",
       "    </tr>\n",
       "    <tr>\n",
       "      <th>5</th>\n",
       "      <td>Parch</td>\n",
       "      <td>0.02</td>\n",
       "      <td>0.04</td>\n",
       "      <td>0.03</td>\n",
       "      <td>0.04</td>\n",
       "      <td>0.05</td>\n",
       "      <td>0.04</td>\n",
       "    </tr>\n",
       "    <tr>\n",
       "      <th>6</th>\n",
       "      <td>Embarked</td>\n",
       "      <td>0.01</td>\n",
       "      <td>0.02</td>\n",
       "      <td>0.01</td>\n",
       "      <td>0.01</td>\n",
       "      <td>0.00</td>\n",
       "      <td>0.01</td>\n",
       "    </tr>\n",
       "  </tbody>\n",
       "</table>\n",
       "</div>"
      ],
      "text/plain": [
       "      index         importance 0         importance 1         importance 2  \\\n",
       "0       Sex                 0.53                 0.51                 0.55   \n",
       "1      Fare                 0.16                 0.15                 0.13   \n",
       "2       Age                 0.12                 0.12                 0.13   \n",
       "3    Pclass                 0.10                 0.11                 0.12   \n",
       "4     SibSp                 0.07                 0.05                 0.02   \n",
       "5     Parch                 0.02                 0.04                 0.03   \n",
       "6  Embarked                 0.01                 0.02                 0.01   \n",
       "\n",
       "          importance 3         importance 4      mean_importance  \n",
       "0                 0.52                 0.54                 0.53  \n",
       "1                 0.14                 0.17                 0.15  \n",
       "2                 0.12                 0.11                 0.12  \n",
       "3                 0.13                 0.10                 0.11  \n",
       "4                 0.05                 0.04                 0.04  \n",
       "5                 0.04                 0.05                 0.04  \n",
       "6                 0.01                 0.00                 0.01  "
      ]
     },
     "execution_count": 14,
     "metadata": {},
     "output_type": "execute_result"
    }
   ],
   "source": [
    "fi = model.get_fi()\n",
    "fi"
   ]
  },
  {
   "cell_type": "code",
   "execution_count": 15,
   "id": "dbb7bacb",
   "metadata": {},
   "outputs": [
    {
     "data": {
      "image/png": "[encoded data removed]",
      "text/plain": [
       "<Figure size 432x288 with 1 Axes>"
      ]
     },
     "metadata": {
      "needs_background": "light"
     },
     "output_type": "display_data"
    },
    {
     "data": {
      "image/png": "[encoded data removed]",
      "text/plain": [
       "<Figure size 432x288 with 1 Axes>"
      ]
     },
     "metadata": {
      "needs_background": "light"
     },
     "output_type": "display_data"
    }
   ],
   "source": [
    "model.get_rocauc_plots()"
   ]
  },
  {
   "cell_type": "code",
   "execution_count": null,
   "id": "ae59452b",
   "metadata": {},
   "outputs": [],
   "source": []
  },
  {
   "cell_type": "code",
   "execution_count": null,
   "id": "0dc54a36",
   "metadata": {},
   "outputs": [],
   "source": []
  },
  {
   "cell_type": "raw",
   "id": "fdd7e091",
   "metadata": {},
   "source": []
  },
  {
   "cell_type": "raw",
   "id": "66ad2ad9",
   "metadata": {},
   "source": []
  }
 ],
 "metadata": {
  "kernelspec": {
   "display_name": "Python 3",
   "language": "python",
   "name": "python3"
  },
  "language_info": {
   "codemirror_mode": {
    "name": "ipython",
    "version": 3
   },
   "file_extension": ".py",
   "mimetype": "text/x-python",
   "name": "python",
   "nbconvert_exporter": "python",
   "pygments_lexer": "ipython3",
   "version": "3.7.6"
  }
 },
 "nbformat": 4,
 "nbformat_minor": 5
}
